{
 "cells": [
  {
   "cell_type": "markdown",
   "metadata": {},
   "source": [
    "# Notebook for analysing results of the learned Q value functions in the \"Communication for goal alignment\" strategy\n",
    "\n",
    "This notebook can be used for visualizing how the leader sets the goal of the follower and computing percentages of alignment and sub goal decomposition (i.e leader 101 -> follower 001)"
   ]
  },
  {
   "cell_type": "code",
   "execution_count": 6,
   "metadata": {},
   "outputs": [],
   "source": [
    "import os\n",
    "import random\n",
    "import tempfile\n",
    "from copy import deepcopy\n",
    "from datetime import datetime\n",
    "\n",
    "import click\n",
    "import imgc_marl.envs.population as population\n",
    "import numpy as np\n",
    "import yaml\n",
    "from imgc_marl.callbacks import (\n",
    "    PopGoalLinesCallback,\n",
    "    PopGoalLinesCommunicationCallback,\n",
    "    PopGoalLinesNamingCallback,\n",
    "    PopGoalLinesNamingCallback1Matrix,\n",
    ")\n",
    "from imgc_marl.evaluation import (\n",
    "    communication_custom_eval_function,\n",
    "    custom_eval_function,\n",
    ")\n",
    "from imgc_marl.models.basic_communication import BasicCommunicationNetwork\n",
    "from imgc_marl.models.full_naming_game import FullNamingNetwork\n",
    "from imgc_marl.models.full_naming_game_single_matrix import FullNamingNetwork1Matrix\n",
    "from imgc_marl.policies.basic_communication import BasicCommunicationTrainer\n",
    "from imgc_marl.policies.full_naming_game import FullNamingTrainer\n",
    "from imgc_marl.policies.full_naming_game_single_matrix import FullNamingTrainer1Matrix\n",
    "from imgc_marl.utils import keep_relevant_results\n",
    "from ray.rllib.agents.ppo import DEFAULT_CONFIG, PPOTrainer\n",
    "from ray.rllib.models import ModelCatalog\n",
    "from ray.rllib.policy.policy import PolicySpec\n",
    "from ray.tune.logger import UnifiedLogger, pretty_print\n",
    "\n",
    "import numpy as np\n",
    "import torch\n",
    "import matplotlib.pyplot as plt\n",
    "import pandas as pd"
   ]
  },
  {
   "cell_type": "markdown",
   "metadata": {},
   "source": [
    "* Select correct configuration file \n",
    "* Select environment (3 or 6 landmarks)\n",
    "* Select the checkpoint you want to evaluate"
   ]
  },
  {
   "cell_type": "code",
   "execution_count": 7,
   "metadata": {},
   "outputs": [],
   "source": [
    "from imgc_marl.envs.population import PopGoalLinesEnv, PopLargeGoalLinesEnv\n",
    "\n",
    "# 3 landmarks\n",
    "config_file = \"goal_lines_communication.yml\"\n",
    "environment = PopGoalLinesEnv\n",
    "\n",
    "# 6 landmarks\n",
    "# config_file = \"large_goal_lines_naming.yml\"\n",
    "# environment = PopLargeGoalLinesEnv\n",
    "\n",
    "\n",
    "# directory of the checkpoint you want to evaluate\n",
    "checkpoint_dir = \"/home/elias/september/3_landmarks/classic_reward/2/communication/2022-09-21_12-57-19gzsmr3rx/checkpoint_000300/checkpoint-300\""
   ]
  },
  {
   "cell_type": "markdown",
   "metadata": {},
   "source": [
    "Loading the model ..."
   ]
  },
  {
   "cell_type": "code",
   "execution_count": 8,
   "metadata": {},
   "outputs": [
    {
     "name": "stderr",
     "output_type": "stream",
     "text": [
      "2022-09-30 15:59:20,102\tWARNING multi_agent_env.py:137 -- observation_space_contains() has not been implemented\n",
      "2022-09-30 15:59:20,103\tWARNING multi_agent_env.py:137 -- observation_space_contains() has not been implemented\n",
      "2022-09-30 15:59:20,103\tWARNING multi_agent_env.py:137 -- observation_space_contains() has not been implemented\n",
      "2022-09-30 15:59:20,104\tWARNING multi_agent_env.py:193 -- action_space_sample() has not been implemented\n",
      "2022-09-30 15:59:20,105\tWARNING multi_agent_env.py:137 -- observation_space_contains() has not been implemented\n",
      "2022-09-30 15:59:20,110\tWARNING catalog.py:628 -- Custom ModelV2 should accept all custom options as **kwargs, instead of expecting them in config['custom_model_config']!\n",
      "2022-09-30 15:59:20,120\tWARNING catalog.py:628 -- Custom ModelV2 should accept all custom options as **kwargs, instead of expecting them in config['custom_model_config']!\n",
      "WARNING:ray.tune.utils.util:Install gputil for GPU system monitoring.\n",
      "2022-09-30 15:59:22,834\tINFO trainable.py:588 -- Restored on 193.50.110.220 from checkpoint: /home/elias/september/3_landmarks/classic_reward/2/communication/2022-09-21_12-57-19gzsmr3rx/checkpoint_000300/checkpoint-300\n",
      "2022-09-30 15:59:22,835\tINFO trainable.py:597 -- Current state after restoring: {'_iteration': 300, '_timesteps_total': None, '_time_total': 14706.57536315918, '_episodes_total': 174738}\n"
     ]
    }
   ],
   "source": [
    "with open(f\"../scripts/configs/{config_file}\", \"r\") as f:\n",
    "    user_config = yaml.safe_load(f)\n",
    "# General settings of the algorithm\n",
    "config = deepcopy(DEFAULT_CONFIG)\n",
    "config[\"num_workers\"] = 0\n",
    "config[\"framework\"] = \"torch\"\n",
    "use_communication = user_config.get(\"communication\", False)\n",
    "\n",
    "config[\"horizon\"] = population.LARGE_GOAL_LINES_TIMELIMIT\n",
    "config[\"rollout_fragment_length\"] = config[\"horizon\"]\n",
    "config[\"env_config\"] = user_config[\"env_config\"]\n",
    "config[\"train_batch_size\"] = 60_000\n",
    "config[\"sgd_minibatch_size\"] = 10_000\n",
    "config[\"lambda\"] = 0.9\n",
    "config[\"lr\"] = 0.0003\n",
    "\n",
    "\n",
    "def policy_mapping_fn(agent_id):\n",
    "    return agent_id\n",
    "\n",
    "\n",
    "config[\"multiagent\"] = {\n",
    "    \"policies\": {\n",
    "        f\"agent_{i}\": PolicySpec(\n",
    "            policy_class=None, observation_space=None, action_space=None\n",
    "        )\n",
    "        for i in range(config[\"env_config\"][\"population_size\"])\n",
    "    },\n",
    "    \"policy_mapping_fn\": policy_mapping_fn,\n",
    "}\n",
    "\n",
    "train_env = environment\n",
    "\n",
    "ModelCatalog.register_custom_model(\n",
    "    \"BasicCommunicationNetwork\", BasicCommunicationNetwork\n",
    ")\n",
    "n_goals = environment(config[\"env_config\"]).goal_space_dim\n",
    "goal_repr_dim = environment(config[\"env_config\"]).goal_repr_dim\n",
    "goal_space = environment(config[\"env_config\"]).goal_space\n",
    "config[\"model\"] = {\n",
    "    \"custom_model\": \"BasicCommunicationNetwork\",\n",
    "    \"custom_model_config\": {\n",
    "        \"number_of_messages\": n_goals,\n",
    "        \"input_dim\": goal_repr_dim,\n",
    "    },\n",
    "}\n",
    "trainer = BasicCommunicationTrainer(\n",
    "    config=config,\n",
    "    env=train_env,\n",
    ")\n",
    "trainer.restore(checkpoint_dir)"
   ]
  },
  {
   "cell_type": "markdown",
   "metadata": {},
   "source": [
    "## Inspecting how the leader assign goals for the follower for all possible combinations\n",
    "* Alignment will store the % of goals for which the leader chooses the same goal for the follower when the leader has a cooperative goal\n",
    "* Subgoal will store the % of goals for which the leader chooses a correct sub goal for the follower or a cooperative goal compatible with the leader's individual goal\n",
    "* Individual will store the different goals the leader assign to the follower when he received an individual goal (to check that this is kind of uniform)"
   ]
  },
  {
   "cell_type": "code",
   "execution_count": 9,
   "metadata": {},
   "outputs": [],
   "source": [
    "# All goals (all possible inputs a leader can have)\n",
    "possible_messages = torch.nn.functional.one_hot(\n",
    "    torch.arange(0, n_goals),\n",
    ").float()\n",
    "possible_goals = torch.tensor(goal_space, dtype=torch.float)\n",
    "alignment = []\n",
    "subgoal = []\n",
    "individual = []"
   ]
  },
  {
   "cell_type": "code",
   "execution_count": 13,
   "metadata": {},
   "outputs": [],
   "source": [
    "agent_names = [a.name for a in train_env(config[\"env_config\"]).population]\n",
    "# Goal selected by each agent when it's a leader for each possible sampled goal\n",
    "predictions = [\n",
    "    trainer.get_policy(agent_name).model._communication_branch(possible_goals).argmax(1)\n",
    "    for agent_name in agent_names\n",
    "]"
   ]
  },
  {
   "cell_type": "code",
   "execution_count": 31,
   "metadata": {},
   "outputs": [
    {
     "name": "stdout",
     "output_type": "stream",
     "text": [
      "LEADER GOAL: [0, 0, 1]\n",
      "FOLLOWER GOALS: [[0, 1, 0], [0, 1, 0]]\n",
      "---------------------------\n",
      "LEADER GOAL: [0, 1, 0]\n",
      "FOLLOWER GOALS: [[0, 1, 1], [0, 1, 1]]\n",
      "---------------------------\n",
      "LEADER GOAL: [1, 0, 0]\n",
      "FOLLOWER GOALS: [[0, 1, 1], [1, 0, 1]]\n",
      "---------------------------\n",
      "LEADER GOAL: [0, 1, 1]\n",
      "FOLLOWER GOALS: [[0, 1, 1], [0, 1, 1]]\n",
      "---------------------------\n",
      "LEADER GOAL: [1, 0, 1]\n",
      "FOLLOWER GOALS: [[1, 0, 1], [1, 0, 1]]\n",
      "---------------------------\n",
      "LEADER GOAL: [1, 1, 0]\n",
      "FOLLOWER GOALS: [[1, 1, 0], [1, 1, 0]]\n",
      "---------------------------\n"
     ]
    }
   ],
   "source": [
    "for i, pn in enumerate(zip(*predictions)):\n",
    "    leader_goal = goal_space[i]\n",
    "    print(f\"LEADER GOAL: {leader_goal}\")\n",
    "    follower_goals = []\n",
    "    for p in pn:\n",
    "        follower_goals.append(goal_space[p])\n",
    "    print(f\"FOLLOWER GOALS: {follower_goals}\")\n",
    "    if sum(leader_goal) > 1:\n",
    "        # cooperative goals, thus we compute alignment\n",
    "        for g in follower_goals:\n",
    "            alignment.append(np.all(leader_goal == g))\n",
    "            subgoal.append(np.bitwise_xor.reduce([leader_goal, g]).sum() == 1)\n",
    "    else:\n",
    "        for p in pn:\n",
    "            individual.append(p.item())\n",
    "        for g in follower_goals:\n",
    "            if sum(g) > 1:\n",
    "                alignment.append(0)\n",
    "            subgoal.append(np.bitwise_xor.reduce([leader_goal, g]).sum() == 1)\n",
    "    print(\"---------------------------\")"
   ]
  },
  {
   "cell_type": "code",
   "execution_count": 33,
   "metadata": {},
   "outputs": [
    {
     "name": "stdout",
     "output_type": "stream",
     "text": [
      "Alignment: 0.8571428571428571\n",
      "Subgoals: 0.16666666666666666\n"
     ]
    }
   ],
   "source": [
    "print(f\"Alignment: {sum(alignment)/len(alignment)}\")\n",
    "print(f\"Subgoals: {sum(subgoal)/len(subgoal)}\")"
   ]
  },
  {
   "cell_type": "code",
   "execution_count": 35,
   "metadata": {},
   "outputs": [
    {
     "data": {
      "text/plain": [
       "Text(0.5, 0, 'Goal index')"
      ]
     },
     "execution_count": 35,
     "metadata": {},
     "output_type": "execute_result"
    },
    {
     "data": {
      "image/png": "[encoded data removed]",
      "text/plain": [
       "<Figure size 432x288 with 1 Axes>"
      ]
     },
     "metadata": {
      "needs_background": "light"
     },
     "output_type": "display_data"
    }
   ],
   "source": [
    "pd.DataFrame(individual).value_counts().sort_index().plot.bar()\n",
    "plt.title(\"Follower's goal distribution when leader selected individual goal\")\n",
    "plt.ylabel(\"Frequency\")\n",
    "plt.xlabel(\"Goal index\")"
   ]
  }
 ],
 "metadata": {
  "kernelspec": {
   "display_name": "Python 3.9.7 ('marl-env': venv)",
   "language": "python",
   "name": "python3"
  },
  "language_info": {
   "codemirror_mode": {
    "name": "ipython",
    "version": 3
   },
   "file_extension": ".py",
   "mimetype": "text/x-python",
   "name": "python",
   "nbconvert_exporter": "python",
   "pygments_lexer": "ipython3",
   "version": "3.9.7"
  },
  "orig_nbformat": 4,
  "vscode": {
   "interpreter": {
    "hash": "ba8aa1b69f904e3342c40bcdd1b69ae4a3cf2054115c347781ce67fba2dd2c9e"
   }
  }
 },
 "nbformat": 4,
 "nbformat_minor": 2
}
