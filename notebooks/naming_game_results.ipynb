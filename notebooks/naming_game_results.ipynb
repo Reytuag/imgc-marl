{
 "cells": [
  {
   "cell_type": "markdown",
   "metadata": {},
   "source": [
    "# Notebook for analysing results of the naming game, matrices visualizations"
   ]
  },
  {
   "cell_type": "markdown",
   "metadata": {},
   "source": [
    "This notebook can be used for generating videos of all the naming matrices during training for a specific seed. A video of the evolution of the naming matrices will be stored in the experiment's directory"
   ]
  },
  {
   "cell_type": "code",
   "execution_count": 1,
   "metadata": {},
   "outputs": [],
   "source": [
    "import os\n",
    "import random\n",
    "import tempfile\n",
    "from copy import deepcopy\n",
    "from datetime import datetime\n",
    "\n",
    "import click\n",
    "import imgc_marl.envs.population as population\n",
    "import numpy as np\n",
    "import yaml\n",
    "from imgc_marl.callbacks import (\n",
    "    PopGoalLinesCallback,\n",
    "    PopGoalLinesCommunicationCallback,\n",
    "    PopGoalLinesNamingCallback,\n",
    "    PopGoalLinesNamingCallback1Matrix,\n",
    ")\n",
    "from imgc_marl.evaluation import (\n",
    "    communication_custom_eval_function,\n",
    "    custom_eval_function,\n",
    ")\n",
    "from imgc_marl.models.basic_communication import BasicCommunicationNetwork\n",
    "from imgc_marl.models.full_naming_game import FullNamingNetwork\n",
    "from imgc_marl.models.full_naming_game_single_matrix import FullNamingNetwork1Matrix\n",
    "from imgc_marl.policies.basic_communication import BasicCommunicationTrainer\n",
    "from imgc_marl.policies.full_naming_game import FullNamingTrainer\n",
    "from imgc_marl.policies.full_naming_game_single_matrix import FullNamingTrainer1Matrix\n",
    "from imgc_marl.utils import keep_relevant_results\n",
    "from ray.rllib.agents.ppo import DEFAULT_CONFIG, PPOTrainer\n",
    "from ray.rllib.models import ModelCatalog\n",
    "from ray.rllib.policy.policy import PolicySpec\n",
    "from ray.tune.logger import UnifiedLogger, pretty_print\n",
    "import torch\n",
    "import matplotlib.pyplot as plt\n",
    "import moviepy"
   ]
  },
  {
   "cell_type": "markdown",
   "metadata": {},
   "source": [
    "* Select correct configuration file \n",
    "* Select environment (3 or 6 landmarks)\n",
    "* Select the experiment you want to evaluate"
   ]
  },
  {
   "cell_type": "code",
   "execution_count": 2,
   "metadata": {},
   "outputs": [
    {
     "name": "stdout",
     "output_type": "stream",
     "text": [
      "2022-10-15_20-21-051i6ubnd9  train-152633_0.slurm.err  train-152633_2.slurm.out\r\n",
      "2022-10-15_20-21-055x1s5ecg  train-152633_0.slurm.out  train-152633_3.slurm.err\r\n",
      "2022-10-15_20-21-05l2jrttu4  train-152633_1.slurm.err  train-152633_3.slurm.out\r\n",
      "2022-10-15_20-21-05n2r125tc  train-152633_1.slurm.out  train-152633_4.slurm.err\r\n",
      "2022-10-15_20-21-05zvlbcbhk  train-152633_2.slurm.err  train-152633_4.slurm.out\r\n"
     ]
    }
   ],
   "source": [
    "!ls $SCRATCH/elias_expe/2_agents/cooperative/modified_reward/6_landmarks/naming_game/2_matrix\n"
   ]
  },
  {
   "cell_type": "code",
   "execution_count": 21,
   "metadata": {},
   "outputs": [
    {
     "name": "stdout",
     "output_type": "stream",
     "text": [
      "2022-10-17_16-10-07ozrol9z_  stdout.txt\t\t       train-191339_2.slurm.out\r\n",
      "2022-10-17_16-10-1261_hn3qf  train-191339_0.slurm.err  train-191339_3.slurm.err\r\n",
      "2022-10-17_16-10-129an0cn2s  train-191339_0.slurm.out  train-191339_3.slurm.out\r\n",
      "2022-10-17_16-10-12apmkxmr6  train-191339_1.slurm.err  train-191339_4.slurm.err\r\n",
      "2022-10-17_16-10-12us0_pqeb  train-191339_1.slurm.out  train-191339_4.slurm.out\r\n",
      "stderr.txt\t\t     train-191339_2.slurm.err\r\n"
     ]
    }
   ],
   "source": [
    "!ls $SCRATCH/elias_expe/2_agents/cooperative/modified_reward/6_landmarks/naming_game_20msg_t30_a10\n"
   ]
  },
  {
   "cell_type": "code",
   "execution_count": 22,
   "metadata": {},
   "outputs": [],
   "source": [
    "from imgc_marl.envs.population import PopGoalLinesEnv, PopLargeGoalLinesEnv\n",
    "\n",
    "# 3 landmarks\n",
    "#config_file = \"goal_lines_naming.yml\"\n",
    "#environment = PopGoalLinesEnv\n",
    "\n",
    "# 6 landmarks\n",
    "config_file = \"large_goal_lines_naming.yml\"\n",
    "environment = PopLargeGoalLinesEnv\n",
    "\n",
    "\n",
    "# directory of the checkpoints you want to evaluate\n",
    "checkpoints_dir = os.environ[\"SCRATCH\"]+\"/elias_expe/2_agents/cooperative/modified_reward/6_landmarks/naming_game_20msg_t30_a10/2022-10-17_16-10-07ozrol9z_\""
   ]
  },
  {
   "cell_type": "code",
   "execution_count": 23,
   "metadata": {},
   "outputs": [
    {
     "name": "stderr",
     "output_type": "stream",
     "text": [
      "2022-10-17 21:09:08,543\tWARNING multi_agent_env.py:137 -- observation_space_contains() has not been implemented\n",
      "2022-10-17 21:09:08,543\tWARNING multi_agent_env.py:137 -- observation_space_contains() has not been implemented\n",
      "2022-10-17 21:09:08,544\tWARNING multi_agent_env.py:137 -- observation_space_contains() has not been implemented\n",
      "2022-10-17 21:09:08,544\tWARNING multi_agent_env.py:193 -- action_space_sample() has not been implemented\n",
      "2022-10-17 21:09:08,546\tWARNING multi_agent_env.py:137 -- observation_space_contains() has not been implemented\n",
      "2022-10-17 21:09:08,554\tWARNING catalog.py:628 -- Custom ModelV2 should accept all custom options as **kwargs, instead of expecting them in config['custom_model_config']!\n",
      "2022-10-17 21:09:08,572\tWARNING catalog.py:628 -- Custom ModelV2 should accept all custom options as **kwargs, instead of expecting them in config['custom_model_config']!\n",
      "2022-10-17 21:09:08,582\tWARNING util.py:65 -- Install gputil for GPU system monitoring.\n"
     ]
    }
   ],
   "source": [
    "with open(f\"../scripts/configs/{config_file}\", \"r\") as f:\n",
    "    user_config = yaml.safe_load(f)\n",
    "# General settings of the algorithm\n",
    "config = deepcopy(DEFAULT_CONFIG)\n",
    "config[\"num_workers\"] = 0\n",
    "config[\"framework\"] = \"torch\"\n",
    "use_communication = user_config.get(\"communication\", False)\n",
    "\n",
    "config[\"horizon\"] = 300\n",
    "config[\"rollout_fragment_length\"] = config[\"horizon\"]\n",
    "config[\"env_config\"] = user_config[\"env_config\"]\n",
    "config[\"train_batch_size\"] = 60_000\n",
    "config[\"sgd_minibatch_size\"] = 10_000\n",
    "config[\"lambda\"] = 0.9\n",
    "config[\"lr\"] = 0.0003\n",
    "\n",
    "\n",
    "def policy_mapping_fn(agent_id):\n",
    "    return agent_id\n",
    "\n",
    "\n",
    "config[\"multiagent\"] = {\n",
    "    \"policies\": {\n",
    "        f\"agent_{i}\": PolicySpec(\n",
    "            policy_class=None, observation_space=None, action_space=None\n",
    "        )\n",
    "        for i in range(config[\"env_config\"][\"population_size\"])\n",
    "    },\n",
    "    \"policy_mapping_fn\": policy_mapping_fn,\n",
    "}\n",
    "\n",
    "train_env = environment\n",
    "\n",
    "ModelCatalog.register_custom_model(\"FullNamingNetwork1Matrix\", FullNamingNetwork1Matrix)\n",
    "number_of_goals = environment(config[\"env_config\"]).goal_space_dim\n",
    "config[\"model\"] = {\n",
    "    \"custom_model\": \"FullNamingNetwork1Matrix\",\n",
    "    \"custom_model_config\": {\n",
    "        \"number_of_goals\": number_of_goals,\n",
    "        \"train_matrix\": user_config.get(\"train_matrix\", False),\n",
    "    },\n",
    "}\n",
    "trainer = FullNamingTrainer1Matrix(\n",
    "    config=config,\n",
    "    env=train_env,\n",
    ")"
   ]
  },
  {
   "cell_type": "code",
   "execution_count": 13,
   "metadata": {},
   "outputs": [
    {
     "name": "stderr",
     "output_type": "stream",
     "text": [
      "2022-10-17 14:55:47,202\tWARNING multi_agent_env.py:137 -- observation_space_contains() has not been implemented\n",
      "2022-10-17 14:55:47,203\tWARNING multi_agent_env.py:137 -- observation_space_contains() has not been implemented\n",
      "2022-10-17 14:55:47,203\tWARNING multi_agent_env.py:137 -- observation_space_contains() has not been implemented\n",
      "2022-10-17 14:55:47,203\tWARNING multi_agent_env.py:193 -- action_space_sample() has not been implemented\n",
      "2022-10-17 14:55:47,205\tWARNING multi_agent_env.py:137 -- observation_space_contains() has not been implemented\n",
      "2022-10-17 14:55:47,211\tWARNING catalog.py:628 -- Custom ModelV2 should accept all custom options as **kwargs, instead of expecting them in config['custom_model_config']!\n",
      "2022-10-17 14:55:47,240\tWARNING catalog.py:628 -- Custom ModelV2 should accept all custom options as **kwargs, instead of expecting them in config['custom_model_config']!\n",
      "2022-10-17 14:55:47,248\tWARNING util.py:65 -- Install gputil for GPU system monitoring.\n"
     ]
    }
   ],
   "source": [
    "with open(f\"../scripts/configs/{config_file}\", \"r\") as f:\n",
    "    user_config = yaml.safe_load(f)\n",
    "# General settings of the algorithm\n",
    "config = deepcopy(DEFAULT_CONFIG)\n",
    "config[\"num_workers\"] = 0\n",
    "config[\"framework\"] = \"torch\"\n",
    "use_communication = user_config.get(\"communication\", False)\n",
    "\n",
    "config[\"horizon\"] = population.LARGE_GOAL_LINES_TIMELIMIT\n",
    "config[\"rollout_fragment_length\"] = config[\"horizon\"]\n",
    "config[\"env_config\"] = user_config[\"env_config\"]\n",
    "config[\"train_batch_size\"] = 60_000\n",
    "config[\"sgd_minibatch_size\"] = 10_000\n",
    "config[\"lambda\"] = 0.9\n",
    "config[\"lr\"] = 0.0003\n",
    "\n",
    "\n",
    "def policy_mapping_fn(agent_id):\n",
    "    return agent_id\n",
    "\n",
    "\n",
    "config[\"multiagent\"] = {\n",
    "    \"policies\": {\n",
    "        f\"agent_{i}\": PolicySpec(\n",
    "            policy_class=None, observation_space=None, action_space=None\n",
    "        )\n",
    "        for i in range(config[\"env_config\"][\"population_size\"])\n",
    "    },\n",
    "    \"policy_mapping_fn\": policy_mapping_fn,\n",
    "}\n",
    "\n",
    "train_env = environment\n",
    "\n",
    "ModelCatalog.register_custom_model(\"FullNamingNetwork\", FullNamingNetwork)\n",
    "number_of_goals = environment(config[\"env_config\"]).goal_space_dim\n",
    "config[\"model\"] = {\n",
    "    \"custom_model\": \"FullNamingNetwork\",\n",
    "    \"custom_model_config\": {\n",
    "        \"number_of_goals\": number_of_goals,\n",
    "        \"train_matrix\": user_config.get(\"train_matrix\", False),\n",
    "    },\n",
    "}\n",
    "trainer = FullNamingTrainer(\n",
    "    config=config,\n",
    "    env=train_env,\n",
    ")"
   ]
  },
  {
   "cell_type": "markdown",
   "metadata": {},
   "source": [
    "# Inspecting matrices through time"
   ]
  },
  {
   "cell_type": "code",
   "execution_count": 24,
   "metadata": {},
   "outputs": [
    {
     "name": "stdout",
     "output_type": "stream",
     "text": [
      "checkpoint-10\n"
     ]
    },
    {
     "ename": "OSError",
     "evalue": "[Errno 28] No space left on device",
     "output_type": "error",
     "traceback": [
      "\u001b[0;31m---------------------------------------------------------------------------\u001b[0m",
      "\u001b[0;31mOSError\u001b[0m                                   Traceback (most recent call last)",
      "\u001b[0;31mOSError\u001b[0m: [Errno 28] No space left on device",
      "\nDuring handling of the above exception, another exception occurred:\n",
      "\u001b[0;31mOSError\u001b[0m                                   Traceback (most recent call last)",
      "Input \u001b[0;32mIn [24]\u001b[0m, in \u001b[0;36m<cell line: 2>\u001b[0;34m()\u001b[0m\n\u001b[1;32m      4\u001b[0m checkpoint_file \u001b[38;5;241m=\u001b[39m \u001b[38;5;28msorted\u001b[39m(\n\u001b[1;32m      5\u001b[0m     os\u001b[38;5;241m.\u001b[39mlistdir(os\u001b[38;5;241m.\u001b[39mpath\u001b[38;5;241m.\u001b[39mjoin(checkpoints_dir, checkpoint_dir))\n\u001b[1;32m      6\u001b[0m )[\u001b[38;5;241m1\u001b[39m]\n\u001b[1;32m      7\u001b[0m \u001b[38;5;28mprint\u001b[39m(checkpoint_file)\n\u001b[0;32m----> 8\u001b[0m \u001b[43mtrainer\u001b[49m\u001b[38;5;241;43m.\u001b[39;49m\u001b[43mrestore\u001b[49m\u001b[43m(\u001b[49m\u001b[43mos\u001b[49m\u001b[38;5;241;43m.\u001b[39;49m\u001b[43mpath\u001b[49m\u001b[38;5;241;43m.\u001b[39;49m\u001b[43mjoin\u001b[49m\u001b[43m(\u001b[49m\u001b[43mcheckpoints_dir\u001b[49m\u001b[43m,\u001b[49m\u001b[43m \u001b[49m\u001b[43mcheckpoint_dir\u001b[49m\u001b[43m,\u001b[49m\u001b[43m \u001b[49m\u001b[43mcheckpoint_file\u001b[49m\u001b[43m)\u001b[49m\u001b[43m)\u001b[49m\n\u001b[1;32m      9\u001b[0m agent_0 \u001b[38;5;241m=\u001b[39m trainer\u001b[38;5;241m.\u001b[39mget_policy(\u001b[38;5;124m\"\u001b[39m\u001b[38;5;124magent_0\u001b[39m\u001b[38;5;124m\"\u001b[39m)\u001b[38;5;241m.\u001b[39mmodel\n\u001b[1;32m     10\u001b[0m agent_1 \u001b[38;5;241m=\u001b[39m trainer\u001b[38;5;241m.\u001b[39mget_policy(\u001b[38;5;124m\"\u001b[39m\u001b[38;5;124magent_1\u001b[39m\u001b[38;5;124m\"\u001b[39m)\u001b[38;5;241m.\u001b[39mmodel\n",
      "File \u001b[0;32m~/.local/lib/python3.9/site-packages/ray/tune/trainable.py:583\u001b[0m, in \u001b[0;36mTrainable.restore\u001b[0;34m(self, checkpoint_path, checkpoint_node_ip)\u001b[0m\n\u001b[1;32m    581\u001b[0m     \u001b[38;5;28mself\u001b[39m\u001b[38;5;241m.\u001b[39mload_checkpoint(checkpoint_dict)\n\u001b[1;32m    582\u001b[0m \u001b[38;5;28;01melse\u001b[39;00m:\n\u001b[0;32m--> 583\u001b[0m     \u001b[38;5;28;43mself\u001b[39;49m\u001b[38;5;241;43m.\u001b[39;49m\u001b[43mload_checkpoint\u001b[49m\u001b[43m(\u001b[49m\u001b[43mcheckpoint_path\u001b[49m\u001b[43m)\u001b[49m\n\u001b[1;32m    584\u001b[0m \u001b[38;5;28mself\u001b[39m\u001b[38;5;241m.\u001b[39m_time_since_restore \u001b[38;5;241m=\u001b[39m \u001b[38;5;241m0.0\u001b[39m\n\u001b[1;32m    585\u001b[0m \u001b[38;5;28mself\u001b[39m\u001b[38;5;241m.\u001b[39m_timesteps_since_restore \u001b[38;5;241m=\u001b[39m \u001b[38;5;241m0\u001b[39m\n",
      "File \u001b[0;32m~/.local/lib/python3.9/site-packages/ray/rllib/agents/trainer.py:2070\u001b[0m, in \u001b[0;36mTrainer.load_checkpoint\u001b[0;34m(self, checkpoint_path)\u001b[0m\n\u001b[1;32m   2067\u001b[0m \u001b[38;5;129m@override\u001b[39m(Trainable)\n\u001b[1;32m   2068\u001b[0m \u001b[38;5;28;01mdef\u001b[39;00m \u001b[38;5;21mload_checkpoint\u001b[39m(\u001b[38;5;28mself\u001b[39m, checkpoint_path: \u001b[38;5;28mstr\u001b[39m) \u001b[38;5;241m-\u001b[39m\u001b[38;5;241m>\u001b[39m \u001b[38;5;28;01mNone\u001b[39;00m:\n\u001b[1;32m   2069\u001b[0m     extra_data \u001b[38;5;241m=\u001b[39m pickle\u001b[38;5;241m.\u001b[39mload(\u001b[38;5;28mopen\u001b[39m(checkpoint_path, \u001b[38;5;124m\"\u001b[39m\u001b[38;5;124mrb\u001b[39m\u001b[38;5;124m\"\u001b[39m))\n\u001b[0;32m-> 2070\u001b[0m     \u001b[38;5;28;43mself\u001b[39;49m\u001b[38;5;241;43m.\u001b[39;49m\u001b[43m__setstate__\u001b[49m\u001b[43m(\u001b[49m\u001b[43mextra_data\u001b[49m\u001b[43m)\u001b[49m\n",
      "File \u001b[0;32m~/.local/lib/python3.9/site-packages/ray/rllib/agents/trainer.py:2694\u001b[0m, in \u001b[0;36mTrainer.__setstate__\u001b[0;34m(self, state)\u001b[0m\n\u001b[1;32m   2692\u001b[0m \u001b[38;5;28;01mif\u001b[39;00m \u001b[38;5;28mhasattr\u001b[39m(\u001b[38;5;28mself\u001b[39m, \u001b[38;5;124m\"\u001b[39m\u001b[38;5;124mworkers\u001b[39m\u001b[38;5;124m\"\u001b[39m) \u001b[38;5;129;01mand\u001b[39;00m \u001b[38;5;124m\"\u001b[39m\u001b[38;5;124mworker\u001b[39m\u001b[38;5;124m\"\u001b[39m \u001b[38;5;129;01min\u001b[39;00m state:\n\u001b[1;32m   2693\u001b[0m     \u001b[38;5;28mself\u001b[39m\u001b[38;5;241m.\u001b[39mworkers\u001b[38;5;241m.\u001b[39mlocal_worker()\u001b[38;5;241m.\u001b[39mrestore(state[\u001b[38;5;124m\"\u001b[39m\u001b[38;5;124mworker\u001b[39m\u001b[38;5;124m\"\u001b[39m])\n\u001b[0;32m-> 2694\u001b[0m     remote_state \u001b[38;5;241m=\u001b[39m \u001b[43mray\u001b[49m\u001b[38;5;241;43m.\u001b[39;49m\u001b[43mput\u001b[49m\u001b[43m(\u001b[49m\u001b[43mstate\u001b[49m\u001b[43m[\u001b[49m\u001b[38;5;124;43m\"\u001b[39;49m\u001b[38;5;124;43mworker\u001b[39;49m\u001b[38;5;124;43m\"\u001b[39;49m\u001b[43m]\u001b[49m\u001b[43m)\u001b[49m\n\u001b[1;32m   2695\u001b[0m     \u001b[38;5;28;01mfor\u001b[39;00m r \u001b[38;5;129;01min\u001b[39;00m \u001b[38;5;28mself\u001b[39m\u001b[38;5;241m.\u001b[39mworkers\u001b[38;5;241m.\u001b[39mremote_workers():\n\u001b[1;32m   2696\u001b[0m         r\u001b[38;5;241m.\u001b[39mrestore\u001b[38;5;241m.\u001b[39mremote(remote_state)\n",
      "File \u001b[0;32m~/.local/lib/python3.9/site-packages/ray/_private/client_mode_hook.py:100\u001b[0m, in \u001b[0;36mclient_mode_hook.<locals>.wrapper\u001b[0;34m(*args, **kwargs)\u001b[0m\n\u001b[1;32m     98\u001b[0m \u001b[38;5;129m@wraps\u001b[39m(func)\n\u001b[1;32m     99\u001b[0m \u001b[38;5;28;01mdef\u001b[39;00m \u001b[38;5;21mwrapper\u001b[39m(\u001b[38;5;241m*\u001b[39margs, \u001b[38;5;241m*\u001b[39m\u001b[38;5;241m*\u001b[39mkwargs):\n\u001b[0;32m--> 100\u001b[0m     \u001b[38;5;28;01mif\u001b[39;00m \u001b[43mclient_mode_should_convert\u001b[49m\u001b[43m(\u001b[49m\u001b[43mauto_init\u001b[49m\u001b[38;5;241;43m=\u001b[39;49m\u001b[43mauto_init\u001b[49m\u001b[43m)\u001b[49m:\n\u001b[1;32m    101\u001b[0m         \u001b[38;5;66;03m# Legacy code\u001b[39;00m\n\u001b[1;32m    102\u001b[0m         \u001b[38;5;66;03m# we only convert init function if RAY_CLIENT_MODE=1\u001b[39;00m\n\u001b[1;32m    103\u001b[0m         \u001b[38;5;28;01mif\u001b[39;00m func\u001b[38;5;241m.\u001b[39m\u001b[38;5;18m__name__\u001b[39m \u001b[38;5;241m!=\u001b[39m \u001b[38;5;124m\"\u001b[39m\u001b[38;5;124minit\u001b[39m\u001b[38;5;124m\"\u001b[39m \u001b[38;5;129;01mor\u001b[39;00m is_client_mode_enabled_by_default:\n\u001b[1;32m    104\u001b[0m             \u001b[38;5;28;01mreturn\u001b[39;00m \u001b[38;5;28mgetattr\u001b[39m(ray, func\u001b[38;5;241m.\u001b[39m\u001b[38;5;18m__name__\u001b[39m)(\u001b[38;5;241m*\u001b[39margs, \u001b[38;5;241m*\u001b[39m\u001b[38;5;241m*\u001b[39mkwargs)\n",
      "File \u001b[0;32m~/.local/lib/python3.9/site-packages/ray/_private/client_mode_hook.py:124\u001b[0m, in \u001b[0;36mclient_mode_should_convert\u001b[0;34m(auto_init)\u001b[0m\n\u001b[1;32m    118\u001b[0m     \u001b[38;5;28;01mimport\u001b[39;00m \u001b[38;5;21;01mray\u001b[39;00m\n\u001b[1;32m    120\u001b[0m     \u001b[38;5;28;01mif\u001b[39;00m (\n\u001b[1;32m    121\u001b[0m         os\u001b[38;5;241m.\u001b[39menviron\u001b[38;5;241m.\u001b[39mget(\u001b[38;5;124m\"\u001b[39m\u001b[38;5;124mRAY_ENABLE_AUTO_CONNECT\u001b[39m\u001b[38;5;124m\"\u001b[39m, \u001b[38;5;124m\"\u001b[39m\u001b[38;5;124m\"\u001b[39m) \u001b[38;5;241m!=\u001b[39m \u001b[38;5;124m\"\u001b[39m\u001b[38;5;124m0\u001b[39m\u001b[38;5;124m\"\u001b[39m\n\u001b[1;32m    122\u001b[0m         \u001b[38;5;129;01mand\u001b[39;00m \u001b[38;5;129;01mnot\u001b[39;00m ray\u001b[38;5;241m.\u001b[39mis_initialized()\n\u001b[1;32m    123\u001b[0m     ):\n\u001b[0;32m--> 124\u001b[0m         \u001b[43mray\u001b[49m\u001b[38;5;241;43m.\u001b[39;49m\u001b[43minit\u001b[49m\u001b[43m(\u001b[49m\u001b[43m)\u001b[49m\n\u001b[1;32m    126\u001b[0m \u001b[38;5;66;03m# `is_client_mode_enabled_by_default` is used for testing with\u001b[39;00m\n\u001b[1;32m    127\u001b[0m \u001b[38;5;66;03m# `RAY_CLIENT_MODE=1`. This flag means all tests run with client mode.\u001b[39;00m\n\u001b[1;32m    128\u001b[0m \u001b[38;5;28;01mreturn\u001b[39;00m (\n\u001b[1;32m    129\u001b[0m     is_client_mode_enabled \u001b[38;5;129;01mor\u001b[39;00m is_client_mode_enabled_by_default\n\u001b[1;32m    130\u001b[0m ) \u001b[38;5;129;01mand\u001b[39;00m _get_client_hook_status_on_thread()\n",
      "File \u001b[0;32m~/.local/lib/python3.9/site-packages/ray/_private/client_mode_hook.py:105\u001b[0m, in \u001b[0;36mclient_mode_hook.<locals>.wrapper\u001b[0;34m(*args, **kwargs)\u001b[0m\n\u001b[1;32m    103\u001b[0m     \u001b[38;5;28;01mif\u001b[39;00m func\u001b[38;5;241m.\u001b[39m\u001b[38;5;18m__name__\u001b[39m \u001b[38;5;241m!=\u001b[39m \u001b[38;5;124m\"\u001b[39m\u001b[38;5;124minit\u001b[39m\u001b[38;5;124m\"\u001b[39m \u001b[38;5;129;01mor\u001b[39;00m is_client_mode_enabled_by_default:\n\u001b[1;32m    104\u001b[0m         \u001b[38;5;28;01mreturn\u001b[39;00m \u001b[38;5;28mgetattr\u001b[39m(ray, func\u001b[38;5;241m.\u001b[39m\u001b[38;5;18m__name__\u001b[39m)(\u001b[38;5;241m*\u001b[39margs, \u001b[38;5;241m*\u001b[39m\u001b[38;5;241m*\u001b[39mkwargs)\n\u001b[0;32m--> 105\u001b[0m \u001b[38;5;28;01mreturn\u001b[39;00m \u001b[43mfunc\u001b[49m\u001b[43m(\u001b[49m\u001b[38;5;241;43m*\u001b[39;49m\u001b[43margs\u001b[49m\u001b[43m,\u001b[49m\u001b[43m \u001b[49m\u001b[38;5;241;43m*\u001b[39;49m\u001b[38;5;241;43m*\u001b[39;49m\u001b[43mkwargs\u001b[49m\u001b[43m)\u001b[49m\n",
      "File \u001b[0;32m~/.local/lib/python3.9/site-packages/ray/worker.py:1039\u001b[0m, in \u001b[0;36minit\u001b[0;34m(address, num_cpus, num_gpus, resources, object_store_memory, local_mode, ignore_reinit_error, include_dashboard, dashboard_host, dashboard_port, job_config, configure_logging, logging_level, logging_format, log_to_driver, namespace, runtime_env, storage, _enable_object_reconstruction, _redis_max_memory, _plasma_directory, _node_ip_address, _driver_object_store_memory, _memory, _redis_password, _temp_dir, _metrics_export_port, _system_config, _tracing_startup_hook, _node_name, **kwargs)\u001b[0m\n\u001b[1;32m    997\u001b[0m     ray_params \u001b[38;5;241m=\u001b[39m ray\u001b[38;5;241m.\u001b[39m_private\u001b[38;5;241m.\u001b[39mparameter\u001b[38;5;241m.\u001b[39mRayParams(\n\u001b[1;32m    998\u001b[0m         node_ip_address\u001b[38;5;241m=\u001b[39mnode_ip_address,\n\u001b[1;32m    999\u001b[0m         raylet_ip_address\u001b[38;5;241m=\u001b[39mraylet_ip_address,\n\u001b[0;32m   (...)\u001b[0m\n\u001b[1;32m   1033\u001b[0m         node_name\u001b[38;5;241m=\u001b[39m_node_name,\n\u001b[1;32m   1034\u001b[0m     )\n\u001b[1;32m   1035\u001b[0m     \u001b[38;5;66;03m# Start the Ray processes. We set shutdown_at_exit=False because we\u001b[39;00m\n\u001b[1;32m   1036\u001b[0m     \u001b[38;5;66;03m# shutdown the node in the ray.shutdown call that happens in the atexit\u001b[39;00m\n\u001b[1;32m   1037\u001b[0m     \u001b[38;5;66;03m# handler. We still spawn a reaper process in case the atexit handler\u001b[39;00m\n\u001b[1;32m   1038\u001b[0m     \u001b[38;5;66;03m# isn't called.\u001b[39;00m\n\u001b[0;32m-> 1039\u001b[0m     _global_node \u001b[38;5;241m=\u001b[39m \u001b[43mray\u001b[49m\u001b[38;5;241;43m.\u001b[39;49m\u001b[43mnode\u001b[49m\u001b[38;5;241;43m.\u001b[39;49m\u001b[43mNode\u001b[49m\u001b[43m(\u001b[49m\n\u001b[1;32m   1040\u001b[0m \u001b[43m        \u001b[49m\u001b[43mhead\u001b[49m\u001b[38;5;241;43m=\u001b[39;49m\u001b[38;5;28;43;01mTrue\u001b[39;49;00m\u001b[43m,\u001b[49m\u001b[43m \u001b[49m\u001b[43mshutdown_at_exit\u001b[49m\u001b[38;5;241;43m=\u001b[39;49m\u001b[38;5;28;43;01mFalse\u001b[39;49;00m\u001b[43m,\u001b[49m\u001b[43m \u001b[49m\u001b[43mspawn_reaper\u001b[49m\u001b[38;5;241;43m=\u001b[39;49m\u001b[38;5;28;43;01mTrue\u001b[39;49;00m\u001b[43m,\u001b[49m\u001b[43m \u001b[49m\u001b[43mray_params\u001b[49m\u001b[38;5;241;43m=\u001b[39;49m\u001b[43mray_params\u001b[49m\n\u001b[1;32m   1041\u001b[0m \u001b[43m    \u001b[49m\u001b[43m)\u001b[49m\n\u001b[1;32m   1042\u001b[0m \u001b[38;5;28;01melse\u001b[39;00m:\n\u001b[1;32m   1043\u001b[0m     \u001b[38;5;66;03m# In this case, we are connecting to an existing cluster.\u001b[39;00m\n\u001b[1;32m   1044\u001b[0m     \u001b[38;5;28;01mif\u001b[39;00m num_cpus \u001b[38;5;129;01mis\u001b[39;00m \u001b[38;5;129;01mnot\u001b[39;00m \u001b[38;5;28;01mNone\u001b[39;00m \u001b[38;5;129;01mor\u001b[39;00m num_gpus \u001b[38;5;129;01mis\u001b[39;00m \u001b[38;5;129;01mnot\u001b[39;00m \u001b[38;5;28;01mNone\u001b[39;00m:\n",
      "File \u001b[0;32m~/.local/lib/python3.9/site-packages/ray/node.py:242\u001b[0m, in \u001b[0;36mNode.__init__\u001b[0;34m(self, ray_params, head, shutdown_at_exit, spawn_reaper, connect_only)\u001b[0m\n\u001b[1;32m    235\u001b[0m     \u001b[38;5;28mself\u001b[39m\u001b[38;5;241m.\u001b[39m_plasma_store_socket_name \u001b[38;5;241m=\u001b[39m \u001b[38;5;28mself\u001b[39m\u001b[38;5;241m.\u001b[39m_prepare_socket_file(\n\u001b[1;32m    236\u001b[0m         \u001b[38;5;28mself\u001b[39m\u001b[38;5;241m.\u001b[39m_ray_params\u001b[38;5;241m.\u001b[39mplasma_store_socket_name, default_prefix\u001b[38;5;241m=\u001b[39m\u001b[38;5;124m\"\u001b[39m\u001b[38;5;124mplasma_store\u001b[39m\u001b[38;5;124m\"\u001b[39m\n\u001b[1;32m    237\u001b[0m     )\n\u001b[1;32m    238\u001b[0m     \u001b[38;5;28mself\u001b[39m\u001b[38;5;241m.\u001b[39m_raylet_socket_name \u001b[38;5;241m=\u001b[39m \u001b[38;5;28mself\u001b[39m\u001b[38;5;241m.\u001b[39m_prepare_socket_file(\n\u001b[1;32m    239\u001b[0m         \u001b[38;5;28mself\u001b[39m\u001b[38;5;241m.\u001b[39m_ray_params\u001b[38;5;241m.\u001b[39mraylet_socket_name, default_prefix\u001b[38;5;241m=\u001b[39m\u001b[38;5;124m\"\u001b[39m\u001b[38;5;124mraylet\u001b[39m\u001b[38;5;124m\"\u001b[39m\n\u001b[1;32m    240\u001b[0m     )\n\u001b[0;32m--> 242\u001b[0m \u001b[38;5;28mself\u001b[39m\u001b[38;5;241m.\u001b[39mmetrics_agent_port \u001b[38;5;241m=\u001b[39m \u001b[38;5;28;43mself\u001b[39;49m\u001b[38;5;241;43m.\u001b[39;49m\u001b[43m_get_cached_port\u001b[49m\u001b[43m(\u001b[49m\n\u001b[1;32m    243\u001b[0m \u001b[43m    \u001b[49m\u001b[38;5;124;43m\"\u001b[39;49m\u001b[38;5;124;43mmetrics_agent_port\u001b[39;49m\u001b[38;5;124;43m\"\u001b[39;49m\u001b[43m,\u001b[49m\u001b[43m \u001b[49m\u001b[43mdefault_port\u001b[49m\u001b[38;5;241;43m=\u001b[39;49m\u001b[43mray_params\u001b[49m\u001b[38;5;241;43m.\u001b[39;49m\u001b[43mmetrics_agent_port\u001b[49m\n\u001b[1;32m    244\u001b[0m \u001b[43m\u001b[49m\u001b[43m)\u001b[49m\n\u001b[1;32m    245\u001b[0m \u001b[38;5;28mself\u001b[39m\u001b[38;5;241m.\u001b[39m_metrics_export_port \u001b[38;5;241m=\u001b[39m \u001b[38;5;28mself\u001b[39m\u001b[38;5;241m.\u001b[39m_get_cached_port(\n\u001b[1;32m    246\u001b[0m     \u001b[38;5;124m\"\u001b[39m\u001b[38;5;124mmetrics_export_port\u001b[39m\u001b[38;5;124m\"\u001b[39m, default_port\u001b[38;5;241m=\u001b[39mray_params\u001b[38;5;241m.\u001b[39mmetrics_export_port\n\u001b[1;32m    247\u001b[0m )\n\u001b[1;32m    249\u001b[0m ray_params\u001b[38;5;241m.\u001b[39mupdate_if_absent(\n\u001b[1;32m    250\u001b[0m     metrics_agent_port\u001b[38;5;241m=\u001b[39m\u001b[38;5;28mself\u001b[39m\u001b[38;5;241m.\u001b[39mmetrics_agent_port,\n\u001b[1;32m    251\u001b[0m     metrics_export_port\u001b[38;5;241m=\u001b[39m\u001b[38;5;28mself\u001b[39m\u001b[38;5;241m.\u001b[39m_metrics_export_port,\n\u001b[1;32m    252\u001b[0m )\n",
      "File \u001b[0;32m~/.local/lib/python3.9/site-packages/ray/node.py:793\u001b[0m, in \u001b[0;36mNode._get_cached_port\u001b[0;34m(self, port_name, default_port)\u001b[0m\n\u001b[1;32m    791\u001b[0m \u001b[38;5;28;01mif\u001b[39;00m \u001b[38;5;129;01mnot\u001b[39;00m os\u001b[38;5;241m.\u001b[39mpath\u001b[38;5;241m.\u001b[39mexists(file_path):\n\u001b[1;32m    792\u001b[0m     \u001b[38;5;28;01mwith\u001b[39;00m \u001b[38;5;28mopen\u001b[39m(file_path, \u001b[38;5;124m\"\u001b[39m\u001b[38;5;124mw\u001b[39m\u001b[38;5;124m\"\u001b[39m) \u001b[38;5;28;01mas\u001b[39;00m f:\n\u001b[0;32m--> 793\u001b[0m         json\u001b[38;5;241m.\u001b[39mdump({}, f)\n\u001b[1;32m    795\u001b[0m \u001b[38;5;28;01mwith\u001b[39;00m \u001b[38;5;28mopen\u001b[39m(file_path, \u001b[38;5;124m\"\u001b[39m\u001b[38;5;124mr\u001b[39m\u001b[38;5;124m\"\u001b[39m) \u001b[38;5;28;01mas\u001b[39;00m f:\n\u001b[1;32m    796\u001b[0m     ports_by_node\u001b[38;5;241m.\u001b[39mupdate(json\u001b[38;5;241m.\u001b[39mload(f))\n",
      "\u001b[0;31mOSError\u001b[0m: [Errno 28] No space left on device"
     ]
    }
   ],
   "source": [
    "imgs = []\n",
    "for checkpoint_dir in sorted(os.listdir(checkpoints_dir)):\n",
    "    if os.path.isdir(os.path.join(checkpoints_dir, checkpoint_dir)):\n",
    "        checkpoint_file = sorted(\n",
    "            os.listdir(os.path.join(checkpoints_dir, checkpoint_dir))\n",
    "        )[1]\n",
    "        print(checkpoint_file)\n",
    "        trainer.restore(os.path.join(checkpoints_dir, checkpoint_dir, checkpoint_file))\n",
    "        agent_0 = trainer.get_policy(\"agent_0\").model\n",
    "        agent_1 = trainer.get_policy(\"agent_1\").model\n",
    "        with torch.no_grad():\n",
    "            agent_0_matrix = agent_0._matrix.numpy()\n",
    "            agent_1_matrix = agent_1._matrix.numpy()\n",
    "\n",
    "            # Generate images\n",
    "            for j, matrix in enumerate((agent_0_matrix, agent_1_matrix)):\n",
    "                if j == 0:\n",
    "                    fig = plt.figure(num=1, clear=True, figsize=(10, 10))\n",
    "                    ax = fig.add_subplot(121)\n",
    "                    ax.set_title(\"Agent 0\")\n",
    "                elif j == 1:\n",
    "                    ax = fig.add_subplot(122)\n",
    "                    ax.set_title(\"Agent 1\")\n",
    "                ax.matshow(matrix, cmap=plt.cm.Blues)\n",
    "                for x in range(number_of_goals):\n",
    "                    for y in range(number_of_goals):\n",
    "                        c = matrix[y, x]\n",
    "                        ax.text(x, y, str(round(c, 3)), va=\"center\", ha=\"center\")\n",
    "                if j == 1:\n",
    "                    plt.tight_layout()\n",
    "                    canvas = fig.figure.canvas\n",
    "                    canvas.draw()\n",
    "                    data = np.frombuffer(canvas.tostring_rgb(), dtype=np.uint8)\n",
    "                    img = data.reshape(canvas.get_width_height()[::-1] + (3,))\n",
    "                    imgs.append(img)\n",
    "                    "
   ]
  },
  {
   "cell_type": "code",
   "execution_count": null,
   "metadata": {},
   "outputs": [],
   "source": [
    "imgs = []\n",
    "for checkpoint_dir in sorted(os.listdir(checkpoints_dir)):\n",
    "    if os.path.isdir(os.path.join(checkpoints_dir, checkpoint_dir)):\n",
    "        checkpoint_file = sorted(\n",
    "            os.listdir(os.path.join(checkpoints_dir, checkpoint_dir))\n",
    "        )[1]\n",
    "        trainer.restore(os.path.join(checkpoints_dir, checkpoint_dir, checkpoint_file))\n",
    "        agent_0 = trainer.get_policy(\"agent_0\").model\n",
    "        agent_1 = trainer.get_policy(\"agent_1\").model\n",
    "        with torch.no_grad():\n",
    "            agent_0_matrix = agent_0._leader_matrix.numpy()\n",
    "            agent_1_matrix = agent_1._follower_matrix.numpy()\n",
    "\n",
    "            # Generate images\n",
    "            for j, matrix in enumerate((agent_0_matrix, agent_1_matrix)):\n",
    "                if j == 0:\n",
    "                    fig = plt.figure(num=1, clear=True, figsize=(10, 10))\n",
    "                    ax = fig.add_subplot(121)\n",
    "                    ax.set_title(\"Agent 0\")\n",
    "                elif j == 1:\n",
    "                    ax = fig.add_subplot(122)\n",
    "                    ax.set_title(\"Agent 1\")\n",
    "                ax.matshow(matrix, cmap=plt.cm.Blues)\n",
    "                for x in range(number_of_goals):\n",
    "                    for y in range(number_of_goals):\n",
    "                        c = matrix[y, x]\n",
    "                        ax.text(x, y, str(round(c, 3)), va=\"center\", ha=\"center\")\n",
    "                if j == 1:\n",
    "                    plt.tight_layout()\n",
    "                    canvas = fig.figure.canvas\n",
    "                    canvas.draw()\n",
    "                    data = np.frombuffer(canvas.tostring_rgb(), dtype=np.uint8)\n",
    "                    img = data.reshape(canvas.get_width_height()[::-1] + (3,))\n",
    "                    imgs.append(img)\n",
    "                    "
   ]
  },
  {
   "cell_type": "code",
   "execution_count": 16,
   "metadata": {},
   "outputs": [
    {
     "name": "stderr",
     "output_type": "stream",
     "text": [
      "Failed to create secure directory (/pulse): Permission denied\n",
      "ALSA lib confmisc.c:855:(parse_card) cannot find card '0'\n",
      "ALSA lib conf.c:5178:(_snd_config_evaluate) function snd_func_card_inum returned error: No such file or directory\n",
      "ALSA lib confmisc.c:422:(snd_func_concat) error evaluating strings\n",
      "ALSA lib conf.c:5178:(_snd_config_evaluate) function snd_func_concat returned error: No such file or directory\n",
      "ALSA lib confmisc.c:1334:(snd_func_refer) error evaluating name\n",
      "ALSA lib conf.c:5178:(_snd_config_evaluate) function snd_func_refer returned error: No such file or directory\n",
      "ALSA lib conf.c:5701:(snd_config_expand) Evaluate error: No such file or directory\n",
      "ALSA lib pcm.c:2664:(snd_pcm_open_noupdate) Unknown PCM default\n",
      "Failed to create secure directory (/pulse): Permission denied\n",
      "ALSA lib confmisc.c:855:(parse_card) cannot find card '0'\n",
      "ALSA lib conf.c:5178:(_snd_config_evaluate) function snd_func_card_inum returned error: No such file or directory\n",
      "ALSA lib confmisc.c:422:(snd_func_concat) error evaluating strings\n",
      "ALSA lib conf.c:5178:(_snd_config_evaluate) function snd_func_concat returned error: No such file or directory\n",
      "ALSA lib confmisc.c:1334:(snd_func_refer) error evaluating name\n",
      "ALSA lib conf.c:5178:(_snd_config_evaluate) function snd_func_refer returned error: No such file or directory\n",
      "ALSA lib conf.c:5701:(snd_config_expand) Evaluate error: No such file or directory\n",
      "ALSA lib pcm.c:2664:(snd_pcm_open_noupdate) Unknown PCM default\n"
     ]
    }
   ],
   "source": [
    "import os\n",
    "os.environ['FFMPEG_BINARY'] = 'ffmpeg'\n",
    "import moviepy.editor as mvp\n",
    "from moviepy.video.io.ffmpeg_writer import FFMPEG_VideoWriter\n",
    "from IPython.display import HTML, display, clear_output\n",
    "\n",
    "class VideoWriter:\n",
    "  def __init__(self, filename, fps=30.0, **kw):\n",
    "    self.writer = None\n",
    "    self.params = dict(filename=filename, fps=fps, **kw)\n",
    "\n",
    "  def add(self, img):\n",
    "    img = np.asarray(img)\n",
    "    if self.writer is None:\n",
    "      h, w = img.shape[:2]\n",
    "      self.writer = FFMPEG_VideoWriter(size=(w, h), **self.params)\n",
    "    if img.dtype in [np.float32, np.float64]:\n",
    "      img = np.uint8(img.clip(0, 1)*255)\n",
    "    if len(img.shape) == 2:\n",
    "      img = np.repeat(img[..., None], 3, -1)\n",
    "    self.writer.write_frame(img)\n",
    "\n",
    "  def close(self):\n",
    "    if self.writer:\n",
    "      self.writer.close()\n",
    "\n",
    "  def __enter__(self):\n",
    "    return self\n",
    "\n",
    "  def __exit__(self, *kw):\n",
    "    self.close()\n",
    "\n",
    "  def show(self, **kw):\n",
    "      self.close()\n",
    "      fn = self.params['filename']\n",
    "      display(mvp.ipython_display(fn, **kw))"
   ]
  },
  {
   "cell_type": "code",
   "execution_count": 17,
   "metadata": {},
   "outputs": [
    {
     "data": {
      "text/html": [
       "<div align=middle><video src='data:video/mp4;base64,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' controls>Sorry, seems like your browser doesn't support HTML5 audio/video</video></div>"
      ],
      "text/plain": [
       "<moviepy.video.io.html_tools.HTML2 object>"
      ]
     },
     "metadata": {},
     "output_type": "display_data"
    }
   ],
   "source": [
    "with VideoWriter(\"out.mp4\", 2) as vid:\n",
    "          for i in range(len(imgs)):\n",
    "            im = imgs[i]\n",
    "            \n",
    "            #plt.imshow(im)\n",
    "            #plt.show()\n",
    "            vid.add(im)\n",
    "          vid.show()"
   ]
  },
  {
   "cell_type": "code",
   "execution_count": 10,
   "metadata": {},
   "outputs": [
    {
     "name": "stdout",
     "output_type": "stream",
     "text": [
      "Moviepy - Building video /gpfsscratch/rech/imi/uzw47io/elias_expe/2_agents/cooperative/modified_reward/6_landmarks/naming_game/2022-10-05_16-20-20vb4p7o7w/naming_game.mp4.\n",
      "Moviepy - Writing video /gpfsscratch/rech/imi/uzw47io/elias_expe/2_agents/cooperative/modified_reward/6_landmarks/naming_game/2022-10-05_16-20-20vb4p7o7w/naming_game.mp4\n",
      "\n"
     ]
    },
    {
     "name": "stderr",
     "output_type": "stream",
     "text": [
      "                                                              \r"
     ]
    },
    {
     "name": "stdout",
     "output_type": "stream",
     "text": [
      "Moviepy - Done !\n",
      "Moviepy - video ready /gpfsscratch/rech/imi/uzw47io/elias_expe/2_agents/cooperative/modified_reward/6_landmarks/naming_game/2022-10-05_16-20-20vb4p7o7w/naming_game.mp4\n"
     ]
    }
   ],
   "source": [
    "matrix_video = moviepy.video.io.ImageSequenceClip.ImageSequenceClip(imgs, fps=0.5)\n",
    "\n",
    "matrix_video.write_videofile(os.path.join(checkpoints_dir, \"naming_game.mp4\"))"
   ]
  }
 ],
 "metadata": {
  "kernelspec": {
   "display_name": "Python 3 (ipykernel)",
   "language": "python",
   "name": "python3"
  },
  "language_info": {
   "codemirror_mode": {
    "name": "ipython",
    "version": 3
   },
   "file_extension": ".py",
   "mimetype": "text/x-python",
   "name": "python",
   "nbconvert_exporter": "python",
   "pygments_lexer": "ipython3",
   "version": "3.9.12"
  },
  "vscode": {
   "interpreter": {
    "hash": "ba8aa1b69f904e3342c40bcdd1b69ae4a3cf2054115c347781ce67fba2dd2c9e"
   }
  }
 },
 "nbformat": 4,
 "nbformat_minor": 2
}
