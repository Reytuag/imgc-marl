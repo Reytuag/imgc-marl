{
 "cells": [
  {
   "cell_type": "markdown",
   "metadata": {},
   "source": [
    "# Notebook to compute the specialization for all seeds of a given experiment\n",
    "\n",
    "* Set the correct number of landmarks\n",
    "* Set the number of agents in the population \n",
    "* Set the results dir containing all the seeds to report"
   ]
  },
  {
   "cell_type": "code",
   "execution_count": 2,
   "metadata": {},
   "outputs": [],
   "source": [
    "import json\n",
    "import os\n",
    "\n",
    "import matplotlib.pyplot as plt\n",
    "import numpy as np\n",
    "from itertools import combinations\n",
    "import pandas as pd\n",
    "import seaborn"
   ]
  },
  {
   "cell_type": "code",
   "execution_count": null,
   "metadata": {},
   "outputs": [],
   "source": []
  },
  {
   "cell_type": "code",
   "execution_count": 3,
   "metadata": {},
   "outputs": [],
   "source": [
    "NUMBER_OF_LANDMARKS = 6\n",
    "n_agents = 2\n",
    "#results_dir = os.environ[\"SCRATCH\"]+\"/elias_expe/2_agents/cooperative/modified_reward/6_landmarks/independent\"\n",
    "results_dirs = {\"6_landmarks\": \"/media/elena/LaCie/aamas_2023/paper/alignment/6_landmarks_reward2\"}\n",
    "#results_dir = \"/media/elena/LaCie/aamas_2023/paper/align_6_landmarks/independent\"\n",
    "#results_dir = \"/media/elena/LaCie/elias_expe/2_agents/all/modified_reward/6_landmarks/centralized\"\n",
    "\n"
   ]
  },
  {
   "cell_type": "code",
   "execution_count": 4,
   "metadata": {},
   "outputs": [
    {
     "name": "stdout",
     "output_type": "stream",
     "text": [
      "6_landmarks /media/elena/LaCie/aamas_2023/paper/aligniment/6_landmarks_reward2\n"
     ]
    },
    {
     "ename": "FileNotFoundError",
     "evalue": "[Errno 2] No such file or directory: '/media/elena/LaCie/aamas_2023/paper/aligniment/6_landmarks_reward2'",
     "output_type": "error",
     "traceback": [
      "\u001b[0;31m---------------------------------------------------------------------------\u001b[0m",
      "\u001b[0;31mFileNotFoundError\u001b[0m                         Traceback (most recent call last)",
      "Cell \u001b[0;32mIn [4], line 34\u001b[0m\n\u001b[1;32m     32\u001b[0m goals_index \u001b[38;5;241m=\u001b[39m {i: g \u001b[38;5;28;01mfor\u001b[39;00m i, g \u001b[38;5;129;01min\u001b[39;00m \u001b[38;5;28mzip\u001b[39m(\u001b[38;5;28mrange\u001b[39m(\u001b[38;5;28mlen\u001b[39m(goals)), goals)}\n\u001b[1;32m     33\u001b[0m agents \u001b[38;5;241m=\u001b[39m [\u001b[38;5;124mf\u001b[39m\u001b[38;5;124m\"\u001b[39m\u001b[38;5;124magent_\u001b[39m\u001b[38;5;132;01m{\u001b[39;00mi\u001b[38;5;132;01m}\u001b[39;00m\u001b[38;5;124m\"\u001b[39m \u001b[38;5;28;01mfor\u001b[39;00m i \u001b[38;5;129;01min\u001b[39;00m \u001b[38;5;28mrange\u001b[39m(n_agents)]\n\u001b[0;32m---> 34\u001b[0m results_dir \u001b[38;5;241m=\u001b[39m  [os\u001b[38;5;241m.\u001b[39mpath\u001b[38;5;241m.\u001b[39mjoin(methods_dir, o) \u001b[38;5;28;01mfor\u001b[39;00m o \u001b[38;5;129;01min\u001b[39;00m \u001b[43mos\u001b[49m\u001b[38;5;241;43m.\u001b[39;49m\u001b[43mlistdir\u001b[49m\u001b[43m(\u001b[49m\u001b[43mmethods_dir\u001b[49m\u001b[43m)\u001b[49m \u001b[38;5;28;01mif\u001b[39;00m os\u001b[38;5;241m.\u001b[39mpath\u001b[38;5;241m.\u001b[39misdir(methods_dir \u001b[38;5;241m+\u001b[39m \u001b[38;5;124m\"\u001b[39m\u001b[38;5;124m/\u001b[39m\u001b[38;5;124m\"\u001b[39m \u001b[38;5;241m+\u001b[39m o)]\n\u001b[1;32m     35\u001b[0m \u001b[38;5;28;01mfor\u001b[39;00m method \u001b[38;5;129;01min\u001b[39;00m results_dir:\n\u001b[1;32m     36\u001b[0m     \u001b[38;5;28mprint\u001b[39m(\u001b[38;5;124m\"\u001b[39m\u001b[38;5;124mmethod is\u001b[39m\u001b[38;5;124m\"\u001b[39m, method)\n",
      "\u001b[0;31mFileNotFoundError\u001b[0m: [Errno 2] No such file or directory: '/media/elena/LaCie/aamas_2023/paper/aligniment/6_landmarks_reward2'"
     ]
    }
   ],
   "source": [
    "independent_3 = [0.4,0.5]\n",
    "independent_6 = [0.1,0.1]\n",
    "centralized_3 = [0.6,0.8]\n",
    "centralized_6 = [0.7,0.76]\n",
    "naming_3 = [0.8,0.8]\n",
    "naming_6 = [0.9, 0.7]\n",
    "\n",
    "\"\"\"\n",
    "df = pd.DataFrame([[\"3 landmarks\", \"independent\", independent_3[0]],\n",
    "                   [\"6 landmarks\", \"independent\", independent_6[0]],\n",
    "                   [\"3 landmarks\", \"independent\", independent_3[1]],\n",
    "                   [\"6 landmarks\", \"independent\", independent_6[1]],\n",
    "                   [\"3 landmarks\", \"centralized\", centralized_3[0]],\n",
    "                   [\"6 landmarks\", \"centralized\",centralized_6[0]],\n",
    "                    [\"3 landmarks\", \"centralized\", centralized_3[1]],\n",
    "                   [\"6 landmarks\", \"centralized\",centralized_6[1]],\n",
    "                   [\"3 landmarks\", \"naming\", naming_3[0]],\n",
    "                   [\"6 landmarks\", \"naming\", naming_6[0]],\n",
    "                    [\"3 landmarks\", \"naming\", naming_3[1]],\n",
    "                   [\"6 landmarks\", \"naming\", naming_6[1]]],\n",
    "                 columns = [\"landmarks\", \"method\", \"special\"])\n",
    "\"\"\"\n",
    "\n",
    "df = pd.DataFrame(columns= [\"landmarks\", \"method\", \"special\"])\n",
    "\n",
    "for landmarks, methods_dir in results_dirs.items():\n",
    "    print(landmarks, methods_dir)\n",
    "    NUMBER_OF_LANDMARKS = int(landmarks[0])\n",
    "    individual_goals = np.eye(NUMBER_OF_LANDMARKS, dtype=np.uint8).tolist()\n",
    "    collective_goals = np.array(list(combinations(individual_goals, 2))).sum(1).tolist()\n",
    "    goals = [\"\".join(str(t) for t in g) for g in collective_goals]\n",
    "    goals_index = {i: g for i, g in zip(range(len(goals)), goals)}\n",
    "    agents = [f\"agent_{i}\" for i in range(n_agents)]\n",
    "    results_dir =  [os.path.join(methods_dir, o) for o in os.listdir(methods_dir) if os.path.isdir(methods_dir + \"/\" + o)]\n",
    "    for method in results_dir:\n",
    "        print(\"method is\", method)\n",
    "        if \"independent\" in method:\n",
    "            method_name = \"independent\"\n",
    "        if \"centralized\" in method:\n",
    "            method_name = \"centralized\"\n",
    "        if \"game\" in method:\n",
    "            method_name = \"coordination game\"\n",
    "        if \"50align\" not in method:\n",
    "            print(\"method_name is\",method_name)\n",
    "\n",
    "            specializations_during_training = []\n",
    "            specializations_convergence = []\n",
    "            for subdir in os.listdir(method):\n",
    "                if(os.path.isdir(method +\"/\"+subdir)):\n",
    "\n",
    "                    full_path = os.path.join(method, subdir, \"result.json\")\n",
    "                    print(full_path)\n",
    "                    result_dump = open(full_path, \"r\")\n",
    "                    # parse metrics\n",
    "                    for result in result_dump:\n",
    "                        # we always redefine this to only consider the last set of results (last evaluation)\n",
    "                        metrics = json.loads(result).get(\"evaluation\")\n",
    "                        if metrics is not None:\n",
    "                            print(\"loading\")\n",
    "                            for g in goals:\n",
    "                                for agent in agents:\n",
    "                                    if (\n",
    "                                        metrics[\"hist_stats\"].get(f\"{agent} position for {g}\")\n",
    "                                        is not None\n",
    "                                        and len(metrics[\"hist_stats\"].get(f\"{agent} position for {g}\"))\n",
    "                                        > 0\n",
    "                                    ):\n",
    "                                        aux = pd.DataFrame(\n",
    "                                            metrics[\"hist_stats\"].get(f\"{agent} position for {g}\")\n",
    "                                        ).value_counts()\n",
    "                                        specializations_during_training.append(\n",
    "                                            aux.value_counts().max() / aux.value_counts().sum()\n",
    "                                        )\n",
    "                    special = np.mean(specializations_during_training[-len(goals) * n_agents :])\n",
    "                    print(specializations_during_training[-len(goals) * n_agents :])\n",
    "\n",
    "\n",
    "\n",
    "                    new_row = [landmarks, method_name, special]\n",
    "                    print(new_row)\n",
    "                    df = df.append(new_row)\n",
    "\n",
    "            \n",
    "        \n",
    "    \n",
    "\n",
    "# view data\n",
    "print(df)\n",
    "  \n",
    "\n",
    "\n",
    "\n",
    "\n"
   ]
  },
  {
   "cell_type": "code",
   "execution_count": null,
   "metadata": {},
   "outputs": [],
   "source": [
    "# plot grouped bar chart\n",
    "g=seaborn.catplot(data=df,kind=\"bar\",x='landmarks', hue=\"method\",y=\"special\")\n",
    "g.despine(left=True)\n",
    "g.set_axis_labels(\"\", \"Body mass (g)\")\n",
    "g.legend.set_title(\"\")"
   ]
  },
  {
   "cell_type": "code",
   "execution_count": null,
   "metadata": {},
   "outputs": [],
   "source": []
  }
 ],
 "metadata": {
  "interpreter": {
   "hash": "ba8aa1b69f904e3342c40bcdd1b69ae4a3cf2054115c347781ce67fba2dd2c9e"
  },
  "kernelspec": {
   "display_name": "imgc-marl",
   "language": "python",
   "name": "imgc-marl"
  },
  "language_info": {
   "codemirror_mode": {
    "name": "ipython",
    "version": 3
   },
   "file_extension": ".py",
   "mimetype": "text/x-python",
   "name": "python",
   "nbconvert_exporter": "python",
   "pygments_lexer": "ipython3",
   "version": "3.8.13"
  }
 },
 "nbformat": 4,
 "nbformat_minor": 2
}
