{
 "cells": [
  {
   "cell_type": "markdown",
   "metadata": {},
   "source": [
    "# Notebook to compute the specialization for all seeds of a given experiment\n",
    "\n",
    "* Set the correct number of landmarks\n",
    "* Set the number of agents in the population \n",
    "* Set the results dir containing all the seeds to report"
   ]
  },
  {
   "cell_type": "code",
   "execution_count": 1,
   "metadata": {},
   "outputs": [],
   "source": [
    "import json\n",
    "import os\n",
    "\n",
    "import matplotlib.pyplot as plt\n",
    "import numpy as np\n",
    "from itertools import combinations\n",
    "import pandas as pd"
   ]
  },
  {
   "cell_type": "code",
   "execution_count": 8,
   "metadata": {},
   "outputs": [],
   "source": [
    "NUMBER_OF_LANDMARKS = 3\n",
    "n_agents = 4\n",
    "results_dir = \"/home/elias/paper/population/4/communication\"\n",
    "\n",
    "\n",
    "individual_goals = np.eye(NUMBER_OF_LANDMARKS, dtype=np.uint8).tolist()\n",
    "collective_goals = np.array(list(combinations(individual_goals, 2))).sum(1).tolist()\n",
    "goals = [\"\".join(str(t) for t in g) for g in collective_goals]\n",
    "goals_index = {i: g for i, g in zip(range(len(goals)), goals)}\n",
    "agents = [f\"agent_{i}\" for i in range(n_agents)]"
   ]
  },
  {
   "cell_type": "code",
   "execution_count": 9,
   "metadata": {},
   "outputs": [],
   "source": [
    "specializations_during_training = []\n",
    "specializations_convergence = []\n",
    "for subdir in os.listdir(results_dir):\n",
    "    full_path = os.path.join(results_dir, subdir, \"result.json\")\n",
    "    result_dump = open(full_path, \"r\")\n",
    "    # parse metrics\n",
    "    for result in result_dump:\n",
    "        # we always redefine this to only consider the last set of results (last evaluation)\n",
    "        metrics = json.loads(result).get(\"evaluation\")\n",
    "        if metrics is not None:\n",
    "            for g in goals:\n",
    "                for agent in agents:\n",
    "                    if (\n",
    "                        metrics[\"hist_stats\"].get(f\"{agent} position for {g}\")\n",
    "                        is not None\n",
    "                        and len(metrics[\"hist_stats\"].get(f\"{agent} position for {g}\"))\n",
    "                        > 0\n",
    "                    ):\n",
    "                        aux = pd.DataFrame(\n",
    "                            metrics[\"hist_stats\"].get(f\"{agent} position for {g}\")\n",
    "                        ).value_counts()\n",
    "                        specializations_during_training.append(\n",
    "                            aux.value_counts().max() / aux.value_counts().sum()\n",
    "                        )\n",
    "    specializations_convergence.extend(\n",
    "        specializations_during_training[-len(goals) * n_agents :]\n",
    "    )"
   ]
  },
  {
   "cell_type": "code",
   "execution_count": 10,
   "metadata": {},
   "outputs": [
    {
     "name": "stdout",
     "output_type": "stream",
     "text": [
      "Specialization at convergence 0.7083333333333334\n",
      "Specialization during training 0.7007278835386338\n"
     ]
    }
   ],
   "source": [
    "print(\n",
    "    f\"Specialization at convergence {sum(specializations_convergence) / len(specializations_convergence)}\"\n",
    ")\n",
    "print(\n",
    "    f\"Specialization during training {sum(specializations_during_training) / len(specializations_during_training)}\"\n",
    ")"
   ]
  }
 ],
 "metadata": {
  "interpreter": {
   "hash": "ba8aa1b69f904e3342c40bcdd1b69ae4a3cf2054115c347781ce67fba2dd2c9e"
  },
  "kernelspec": {
   "display_name": "Python 3.9.7 ('marl-env': venv)",
   "language": "python",
   "name": "python3"
  },
  "language_info": {
   "codemirror_mode": {
    "name": "ipython",
    "version": 3
   },
   "file_extension": ".py",
   "mimetype": "text/x-python",
   "name": "python",
   "nbconvert_exporter": "python",
   "pygments_lexer": "ipython3",
   "version": "3.9.7"
  },
  "orig_nbformat": 4
 },
 "nbformat": 4,
 "nbformat_minor": 2
}
