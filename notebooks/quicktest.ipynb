{
 "cells": [
  {
   "cell_type": "markdown",
   "metadata": {},
   "source": [
    "# Notebook for doing quick tests with SPG\n",
    "* Adding new elements\n",
    "* Playing with agents\n",
    "* etc"
   ]
  },
  {
   "cell_type": "code",
   "execution_count": 40,
   "metadata": {},
   "outputs": [],
   "source": [
    "from simple_playgrounds.playground.layouts import SingleRoom, GridRooms, LineRooms\n",
    "from simple_playgrounds.engine import Engine\n",
    "from simple_playgrounds.element.elements.zone import HealingZone, RewardZone\n",
    "from simple_playgrounds.element.elements.activable import OpenCloseSwitch\n",
    "from simple_playgrounds.agent.controllers import Keyboard, Dummy\n",
    "from simple_playgrounds.device.sensors.semantic import PerfectSemantic\n",
    "from simple_playgrounds.agent.agents import BaseAgent\n",
    "import pygame\n",
    "import matplotlib.pyplot as plt\n",
    "\n",
    "import collections\n",
    "import os\n",
    "from itertools import combinations\n",
    "from typing import Dict, List\n",
    "\n",
    "os.environ[\"PYGAME_HIDE_SUPPORT_PROMPT\"] = \"\"\n",
    "\n",
    "import cv2\n",
    "import numpy as np\n",
    "from gym import spaces\n",
    "from imgc_marl.envs.elements.zone import MultiAgentRewardZone\n",
    "from imgc_marl.envs.utils import MetaSampler\n",
    "from ray.rllib.env import MultiAgentEnv\n",
    "from simple_playgrounds.agent.actuators import ContinuousActuator\n",
    "from simple_playgrounds.agent.agents import BaseAgent\n",
    "from simple_playgrounds.agent.controllers import External\n",
    "from simple_playgrounds.common.position_utils import CoordinateSampler\n",
    "from simple_playgrounds.common.texture import UniqueCenteredStripeTexture\n",
    "from simple_playgrounds.device.sensors.semantic import PerfectSemantic\n",
    "from simple_playgrounds.element.elements.activable import RewardOnActivation\n",
    "from simple_playgrounds.element.elements.basic import Wall, Door\n",
    "from simple_playgrounds.engine import Engine\n",
    "from simple_playgrounds.playground.layouts import SingleRoom\n"
   ]
  },
  {
   "cell_type": "code",
   "execution_count": 46,
   "metadata": {},
   "outputs": [
    {
     "data": {
      "text/plain": [
       "15"
      ]
     },
     "execution_count": 46,
     "metadata": {},
     "output_type": "execute_result"
    }
   ],
   "source": [
    "# Goal space\n",
    "individual_goals = np.eye(6, dtype=np.uint8).tolist()\n",
    "goal_space =  (\n",
    "    np.array(list(combinations(individual_goals, 2))).sum(1).tolist()\n",
    "\n",
    ")\n",
    "goal_space = np.array(list(combinations(individual_goals, 2))).sum(1).tolist()\n",
    "len(goal_space)"
   ]
  },
  {
   "cell_type": "code",
   "execution_count": 53,
   "metadata": {},
   "outputs": [
    {
     "data": {
      "image/png": "[encoded data removed]",
      "text/plain": [
       "<Figure size 432x288 with 1 Axes>"
      ]
     },
     "metadata": {
      "needs_background": "light"
     },
     "output_type": "display_data"
    }
   ],
   "source": [
    "playground = SingleRoom(size=(400, 400))\n",
    "zone_0 = MultiAgentRewardZone(\n",
    "    reward=1,\n",
    "    physical_shape=\"rectangle\",\n",
    "    texture=[255, 0, 0],\n",
    "        size=(100, 20),\n",
    ")\n",
    "zone_2 = MultiAgentRewardZone(\n",
    "    reward=100,\n",
    "    physical_shape=\"rectangle\",\n",
    "    texture=[0, 255, 0],\n",
    "    size=(100, 20),\n",
    ")\n",
    "zone_3 = MultiAgentRewardZone(\n",
    "    reward=10_000,\n",
    "    physical_shape=\"rectangle\",\n",
    "    texture=[255, 255, 255],\n",
    "    size=(100, 20),\n",
    ")\n",
    "zone_5 = MultiAgentRewardZone(\n",
    "    reward=1_000_000,\n",
    "    physical_shape=\"rectangle\",\n",
    "    texture=[0, 255, 255],\n",
    "    size=(100, 20),\n",
    ")\n",
    "zone_1 = MultiAgentRewardZone(\n",
    "    reward=1_000_000,\n",
    "    physical_shape=\"rectangle\",\n",
    "    texture=[0, 100, 255],\n",
    "    size=(20, 100),\n",
    ")\n",
    "zone_4 = MultiAgentRewardZone(\n",
    "    reward=1_000_000,\n",
    "    physical_shape=\"rectangle\",\n",
    "            texture=[150, 0, 200],\n",
    "    size=(20, 100),\n",
    ")\n",
    "\n",
    "playground.add_element(zone_0, ((50, 390), 0))\n",
    "playground.add_element(zone_1, ((10, 200),0))\n",
    "playground.add_element(zone_2, ((50, 10), 0))\n",
    "playground.add_element(zone_3, ((350, 10), 0))\n",
    "playground.add_element(zone_4, ((390, 200), 0))\n",
    "playground.add_element(zone_5, ((350, 390), 0))\n",
    "\n",
    "agent = BaseAgent(controller=Keyboard(), interactive=False)\n",
    "playground.add_agent(agent, ((225, 225), 3.14 / 2),)\n",
    "\n",
    "\n",
    "engine = Engine(time_limit=1000, playground=playground)\n",
    "# run episode\n",
    "RUN = False\n",
    "if RUN:\n",
    "    i = 0\n",
    "    while engine.game_on:\n",
    "        if agent.reward != 0:\n",
    "            print(agent.reward)\n",
    "        i += 1\n",
    "        actions = engine.get_actions()\n",
    "        engine.step(actions)\n",
    "        engine.update_observations()\n",
    "        pygame.time.wait(100)\n",
    "plt.imshow(engine.generate_playground_image())\n",
    "plt.grid()\n",
    "engine.terminate()\n"
   ]
  },
  {
   "cell_type": "code",
   "execution_count": 63,
   "metadata": {},
   "outputs": [
    {
     "data": {
      "text/plain": [
       "True"
      ]
     },
     "execution_count": 63,
     "metadata": {},
     "output_type": "execute_result"
    }
   ],
   "source": [
    "1e-4 * 10 < 0.01"
   ]
  },
  {
   "cell_type": "code",
   "execution_count": 64,
   "metadata": {},
   "outputs": [
    {
     "name": "stdout",
     "output_type": "stream",
     "text": [
      "0.01\n",
      "1.0\n",
      "100.0\n",
      "10000.0\n",
      "1000000.0\n",
      "100000000.0\n"
     ]
    }
   ],
   "source": [
    "x = 1e-4\n",
    "for i in range(6):\n",
    "    x *= 100\n",
    "    print(x)"
   ]
  },
  {
   "cell_type": "code",
   "execution_count": 32,
   "metadata": {},
   "outputs": [
    {
     "data": {
      "text/plain": [
       "66"
      ]
     },
     "execution_count": 32,
     "metadata": {},
     "output_type": "execute_result"
    }
   ],
   "source": [
    "i"
   ]
  },
  {
   "cell_type": "code",
   "execution_count": null,
   "metadata": {},
   "outputs": [],
   "source": [
    "# # my_playground = GridRooms((300,300), (3,3), 50, random_doorstep_position=False)\n",
    "\n",
    "# my_playground = LineRooms(size=(450, 100), number_rooms=3, doorstep_size=50, random_doorstep_position=True)\n",
    "# room = my_playground.grid_rooms[0][1]\n",
    "# left_door = room.doorstep_left.generate_door()\n",
    "# right_door = room.doorstep_right.generate_door()\n",
    "# my_playground.add_element(left_door)\n",
    "# my_playground.add_element(right_door)\n",
    "# left_switch = OpenCloseSwitch(door=left_door)\n",
    "# my_playground.add_element(left_switch, room.get_random_position_on_wall(\"left\", left_switch))\n",
    "# right_switch = OpenCloseSwitch(door=right_door,)\n",
    "# my_playground.add_element(right_switch, room.get_random_position_on_wall(\"right\", right_switch))\n",
    "\n",
    "# left_zone = MultiAgentRewardZone(\n",
    "#     reward=1,\n",
    "#     physical_shape=\"rectangle\",\n",
    "#     texture=[255,0,0],\n",
    "#     size=(25,25)\n",
    "# )\n",
    "\n",
    "# right_zone = MultiAgentRewardZone(\n",
    "#     reward=100,\n",
    "#     physical_shape=\"rectangle\",\n",
    "#     texture=[255,0,0],\n",
    "#     size=(25,25)\n",
    "# )\n",
    "# my_playground.add_element(left_zone, ((25,50),0))\n",
    "# my_playground.add_element(right_zone, ((425,50),0))\n",
    "\n",
    "\n",
    "\n",
    "# # for i, room in enumerate(my_playground.grid_rooms.flatten()):\n",
    "# #     if i == 4:\n",
    "# #         left_door = room.doorstep_left.generate_door()\n",
    "# #         right_door = room.doorstep_right.generate_door()\n",
    "# #         down_door = room.doorstep_down.generate_door()\n",
    "# #         up_door = room.doorstep_up.generate_door()\n",
    "# #     elif i in [0, 2, 6, 8]:\n",
    "# #         try:\n",
    "# #             door = room.doorstep_left.generate_door()\n",
    "# #             my_playground.add_element(door)\n",
    "# #         except:\n",
    "# #             pass\n",
    "# #         try:\n",
    "# #             door = room.doorstep_right.generate_door()\n",
    "# #             my_playground.add_element(door)\n",
    "# #         except:\n",
    "# #             pass\n",
    "# #         try:\n",
    "# #             door = room.doorstep_down.generate_door()\n",
    "# #             my_playground.add_element(door)\n",
    "# #         except:\n",
    "# #             pass\n",
    "# #         try:\n",
    "# #             door = room.doorstep_up.generate_door()\n",
    "# #             my_playground.add_element(door)\n",
    "# #         except:\n",
    "# #             pass\n",
    "\n",
    "# # my_playground.add_element(left_door)\n",
    "# # my_playground.add_element(right_door)\n",
    "# # my_playground.add_element(down_door)\n",
    "# # my_playground.add_element(up_door)\n",
    "\n",
    "# # left_switch = OpenCloseSwitch(door=left_door, size=(10, 10))\n",
    "# # my_playground.add_element(left_switch,  ((215,15),0), )\n",
    "# # right_switch = OpenCloseSwitch(door=right_door,)\n",
    "# # my_playground.add_element(right_switch, ((285,15),0))\n",
    "# # down_switch = OpenCloseSwitch(door=down_door)\n",
    "# # my_playground.add_element(down_switch,((215,85),0))\n",
    "# # up_switch = OpenCloseSwitch(door=up_door)\n",
    "# # my_playground.add_element(up_switch, ((285,85),0))\n",
    "\n",
    "# # left_zone = MultiAgentRewardZone(\n",
    "# #     reward=1,\n",
    "# #     physical_shape=\"rectangle\",\n",
    "# #     texture=[255,0,0],\n",
    "# #     size=(25,25)\n",
    "# # )\n",
    "\n",
    "# # right_zone = MultiAgentRewardZone(\n",
    "# #     reward=100,\n",
    "# #     physical_shape=\"rectangle\",\n",
    "# #     texture=[255,0,0],\n",
    "# #     size=(25,25)\n",
    "# # )\n",
    "\n",
    "# # down_zone = MultiAgentRewardZone(\n",
    "# #     reward=10_000,\n",
    "# #     physical_shape=\"rectangle\",\n",
    "# #     texture=[255,0,0],\n",
    "# #     size=(25,25)\n",
    "# # )\n",
    "\n",
    "# # up_zone = MultiAgentRewardZone(\n",
    "# #     reward=1_000_000,\n",
    "# #     physical_shape=\"rectangle\",\n",
    "# #     texture=[255,0,0],\n",
    "# #     size=(25,25)\n",
    "# # )\n",
    "\n",
    "# # my_playground.add_element(left_zone, ((50,150),0))\n",
    "# # my_playground.add_element(right_zone, ((250,150),0))\n",
    "# # my_playground.add_element(down_zone, ((150,50),0))\n",
    "# # my_playground.add_element(up_zone, ((150,250),0))\n",
    "\n",
    "\n",
    "# # # Agent\n",
    "# agent = BaseAgent(controller=Dummy(), interactive=True, name=\"pep\")\n",
    "# agent.add_sensor(\n",
    "#     PerfectSemantic(\n",
    "#         agent.base_platform,\n",
    "#         min_range=0,\n",
    "#         max_range=400,\n",
    "#         name=\"sensor\",\n",
    "#         normalize=True,\n",
    "#     )\n",
    "# )\n",
    "# my_playground.add_agent(agent, ((225, 25), 3.14 / 2),)\n",
    "\n",
    "# agent2 = BaseAgent(controller=Keyboard(), interactive=True, name=\"pepo\",)\n",
    "# my_playground.add_agent(agent2, ((225, 75), 3.14 / 2),)\n",
    "\n",
    "\n",
    "# engine = Engine(time_limit=1000, playground=my_playground)\n",
    "# o = []\n",
    "# # run episode\n",
    "# RUN = False\n",
    "# if RUN:\n",
    "#     i = 0\n",
    "#     while engine.game_on:\n",
    "#         i += 1\n",
    "#         actions = engine.get_actions()\n",
    "#         engine.step(actions)\n",
    "#         engine.update_observations()\n",
    "#         o.append(agent.observations)\n",
    "#         pygame.time.wait(100)\n",
    "# plt.imshow(engine.generate_playground_image())\n",
    "# plt.grid()\n",
    "\n",
    "# engine.terminate()\n"
   ]
  },
  {
   "cell_type": "code",
   "execution_count": 21,
   "metadata": {},
   "outputs": [
    {
     "data": {
      "image/png": "[encoded data removed]",
      "text/plain": [
       "<Figure size 432x288 with 1 Axes>"
      ]
     },
     "metadata": {
      "needs_background": "light"
     },
     "output_type": "display_data"
    }
   ],
   "source": [
    "# my_playground = GridRooms((300,300), (3,3), 50, random_doorstep_position=False)\n",
    "\n",
    "my_playground = LineRooms(size=(600, 600), number_rooms=3, doorstep_size=100, random_doorstep_position=False)\n",
    "\n",
    "# left_zone = MultiAgentRewardZone(\n",
    "#     reward=1,\n",
    "#     physical_shape=\"rectangle\",\n",
    "#     texture=[255,0,0],\n",
    "#     size=(25,25)\n",
    "# )\n",
    "\n",
    "# right_zone = MultiAgentRewardZone(\n",
    "#     reward=100,\n",
    "#     physical_shape=\"rectangle\",\n",
    "#     texture=[255,0,0],\n",
    "#     size=(25,25)\n",
    "# )\n",
    "# my_playground.add_element(left_zone, ((25,50),0))\n",
    "# my_playground.add_element(right_zone, ((425,50),0))\n",
    "\n",
    "\n",
    "\n",
    "\n",
    "# # Agent\n",
    "# agent = BaseAgent(controller=Dummy(), interactive=True, name=\"pep\")\n",
    "# agent.add_sensor(\n",
    "#     PerfectSemantic(\n",
    "#         agent.base_platform,\n",
    "#         min_range=0,\n",
    "#         max_range=400,\n",
    "#         name=\"sensor\",\n",
    "#         normalize=True,\n",
    "#     )\n",
    "# )\n",
    "# my_playground.add_agent(agent, ((225, 25), 3.14 / 2),)\n",
    "\n",
    "# agent2 = BaseAgent(controller=Keyboard(), interactive=True, name=\"pepo\",)\n",
    "# my_playground.add_agent(agent2, ((225, 75), 3.14 / 2),)\n",
    "\n",
    "\n",
    "engine = Engine(time_limit=1000, playground=my_playground)\n",
    "# o = []\n",
    "# run episode\n",
    "RUN = False\n",
    "if RUN:\n",
    "    i = 0\n",
    "    while engine.game_on:\n",
    "        i += 1\n",
    "        actions = engine.get_actions()\n",
    "        engine.step(actions)\n",
    "        engine.update_observations()\n",
    "        o.append(agent.observations)\n",
    "        pygame.time.wait(100)\n",
    "plt.imshow(engine.generate_playground_image())\n",
    "plt.grid()\n",
    "\n",
    "engine.terminate()\n"
   ]
  },
  {
   "cell_type": "code",
   "execution_count": 15,
   "metadata": {},
   "outputs": [
    {
     "data": {
      "text/plain": [
       "(Vec2d(205.0, 224.46582378822671), -1.5707963267948966)"
      ]
     },
     "execution_count": 15,
     "metadata": {},
     "output_type": "execute_result"
    }
   ],
   "source": [
    "room.get_random_position_on_wall(\"left\", left_switch)"
   ]
  },
  {
   "cell_type": "code",
   "execution_count": 113,
   "metadata": {},
   "outputs": [
    {
     "data": {
      "text/plain": [
       "24"
      ]
     },
     "execution_count": 113,
     "metadata": {},
     "output_type": "execute_result"
    }
   ],
   "source": [
    "len([el for el in my_playground.elements if isinstance(el, Door)])"
   ]
  },
  {
   "cell_type": "code",
   "execution_count": 51,
   "metadata": {},
   "outputs": [
    {
     "data": {
      "text/plain": [
       "{<simple_playgrounds.device.sensors.semantic.PerfectSemantic at 0x7fd0f0d42760>: [Detection(entity=<simple_playgrounds.element.elements.basic.Wall object at 0x7fd0f17c3be0>, distance=0.455859976825734, angle=-2.150139420373618),\n",
       "  Detection(entity=<simple_playgrounds.element.elements.basic.Wall object at 0x7fd0f0c4b370>, distance=0.3501677008147417, angle=1.5968908060998075),\n",
       "  Detection(entity=<simple_playgrounds.element.elements.basic.Wall object at 0x7fd0f0c1e370>, distance=0.3748322991852583, angle=-1.5447018474899856),\n",
       "  Detection(entity=<simple_playgrounds.element.elements.basic.Wall object at 0x7fd0f0c2ca30>, distance=0.10306009181497977, angle=0.026094479304910934),\n",
       "  Detection(entity=<simple_playgrounds.element.elements.basic.Wall object at 0x7fd0f0c6c820>, distance=0.28255880565633684, angle=-2.607955841050744),\n",
       "  Detection(entity=<simple_playgrounds.element.elements.basic.Wall object at 0x7fd0f0c65b50>, distance=0.28255880565633684, angle=-2.607955841050744),\n",
       "  Detection(entity=<simple_playgrounds.element.elements.basic.Wall object at 0x7fd0fb76f910>, distance=0.4358055583089025, angle=2.2345436451296408),\n",
       "  Detection(entity=<simple_playgrounds.element.elements.activable.OpenCloseSwitch object at 0x7fd0eef4fd30>, distance=0.3518451391871391, angle=2.426058772051979),\n",
       "  Detection(entity=<simple_playgrounds.element.elements.basic.Wall object at 0x7fd0eef4f460>, distance=0.2714283129323586, angle=2.739643291685047),\n",
       "  Detection(entity=<simple_playgrounds.element.elements.basic.Wall object at 0x7fd0f0c88940>, distance=0.2714283129323586, angle=2.739643291685047),\n",
       "  Detection(entity=<simple_playgrounds.element.elements.basic.Wall object at 0x7fd0fb777550>, distance=0.6219399081850202, angle=-3.115498174284882)]}"
      ]
     },
     "execution_count": 51,
     "metadata": {},
     "output_type": "execute_result"
    }
   ],
   "source": [
    "o[-1]"
   ]
  },
  {
   "cell_type": "code",
   "execution_count": 55,
   "metadata": {},
   "outputs": [
    {
     "data": {
      "text/plain": [
       "{<simple_playgrounds.device.sensors.semantic.PerfectSemantic at 0x7fd0f0d42760>: [Detection(entity=<simple_playgrounds.element.elements.basic.Wall object at 0x7fd0f17c3be0>, distance=0.3, angle=-1.5700000000000003),\n",
       "  Detection(entity=<simple_playgrounds.element.elements.basic.Wall object at 0x7fd0f0c4b370>, distance=0.5202163011671204, angle=0.9569297016676277),\n",
       "  Detection(entity=<simple_playgrounds.element.elements.basic.Wall object at 0x7fd0f0c1e370>, distance=0.4242640687119285, angle=-0.784601836602552),\n",
       "  Detection(entity=<simple_playgrounds.element.elements.basic.Wall object at 0x7fd0f0c2ca30>, distance=0.6625, angle=0.0007963267948962738),\n",
       "  Detection(entity=<simple_playgrounds.element.elements.basic.Door object at 0x7fd0eef4fe20>, distance=0.2875, angle=0.0007963267948962738),\n",
       "  Detection(entity=<simple_playgrounds.element.elements.basic.Wall object at 0x7fd0f0c6c820>, distance=0.2942150573984955, angle=-0.2132643567689252),\n",
       "  Detection(entity=<simple_playgrounds.element.elements.basic.Wall object at 0x7fd0f0c65b50>, distance=0.2942150573984955, angle=-0.2132643567689252),\n",
       "  Detection(entity=<simple_playgrounds.element.elements.basic.Wall object at 0x7fd0fb76f910>, distance=0.425, angle=1.5715926535897928),\n",
       "  Detection(entity=<simple_playgrounds.element.elements.activable.OpenCloseSwitch object at 0x7fd0eef4fd30>, distance=0.35816371954736004, angle=1.0611043316730173),\n",
       "  Detection(entity=<simple_playgrounds.element.elements.basic.Wall object at 0x7fd0eef4f460>, distance=0.3432382554436495, angle=0.5786982637571425),\n",
       "  Detection(entity=<simple_playgrounds.element.elements.basic.Wall object at 0x7fd0f0c88940>, distance=0.3432382554436495, angle=0.5786982637571425),\n",
       "  Detection(entity=<simple_playgrounds.element.elements.basic.Wall object at 0x7fd0fb777550>, distance=0.0625, angle=-3.140796326794897)]}"
      ]
     },
     "execution_count": 55,
     "metadata": {},
     "output_type": "execute_result"
    }
   ],
   "source": [
    "o[0]"
   ]
  },
  {
   "cell_type": "code",
   "execution_count": 54,
   "metadata": {},
   "outputs": [
    {
     "data": {
      "text/plain": [
       "11"
      ]
     },
     "execution_count": 54,
     "metadata": {},
     "output_type": "execute_result"
    }
   ],
   "source": [
    "len([v for v in o[-1].values()][0])"
   ]
  }
 ],
 "metadata": {
  "interpreter": {
   "hash": "ba8aa1b69f904e3342c40bcdd1b69ae4a3cf2054115c347781ce67fba2dd2c9e"
  },
  "kernelspec": {
   "display_name": "Python 3.9.7 ('marl-env': venv)",
   "language": "python",
   "name": "python3"
  },
  "language_info": {
   "codemirror_mode": {
    "name": "ipython",
    "version": 3
   },
   "file_extension": ".py",
   "mimetype": "text/x-python",
   "name": "python",
   "nbconvert_exporter": "python",
   "pygments_lexer": "ipython3",
   "version": "3.9.7"
  },
  "orig_nbformat": 4
 },
 "nbformat": 4,
 "nbformat_minor": 2
}
