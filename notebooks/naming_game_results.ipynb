{
 "cells": [
  {
   "cell_type": "markdown",
   "metadata": {},
   "source": [
    "# Notebook for analysing results of the naming game, matrices visualizations"
   ]
  },
  {
   "cell_type": "markdown",
   "metadata": {},
   "source": [
    "This notebook can be used for generating videos of all the naming matrices during training for a specific seed. A video of the evolution of the naming matrices will be stored in the experiment's directory"
   ]
  },
  {
   "cell_type": "code",
   "execution_count": 1,
   "metadata": {},
   "outputs": [],
   "source": [
    "import os\n",
    "import random\n",
    "import tempfile\n",
    "from copy import deepcopy\n",
    "from datetime import datetime\n",
    "\n",
    "import click\n",
    "import imgc_marl.envs.population as population\n",
    "import numpy as np\n",
    "import yaml\n",
    "from imgc_marl.callbacks import (\n",
    "    PopGoalLinesCallback,\n",
    "    PopGoalLinesCommunicationCallback,\n",
    "    PopGoalLinesNamingCallback,\n",
    "    PopGoalLinesNamingCallback1Matrix,\n",
    ")\n",
    "from imgc_marl.evaluation import (\n",
    "    communication_custom_eval_function,\n",
    "    custom_eval_function,\n",
    ")\n",
    "from imgc_marl.models.basic_communication import BasicCommunicationNetwork\n",
    "from imgc_marl.models.full_naming_game import FullNamingNetwork\n",
    "from imgc_marl.models.full_naming_game_single_matrix import FullNamingNetwork1Matrix\n",
    "from imgc_marl.policies.basic_communication import BasicCommunicationTrainer\n",
    "from imgc_marl.policies.full_naming_game import FullNamingTrainer\n",
    "from imgc_marl.policies.full_naming_game_single_matrix import FullNamingTrainer1Matrix\n",
    "from imgc_marl.utils import keep_relevant_results\n",
    "from ray.rllib.agents.ppo import DEFAULT_CONFIG, PPOTrainer\n",
    "from ray.rllib.models import ModelCatalog\n",
    "from ray.rllib.policy.policy import PolicySpec\n",
    "from ray.tune.logger import UnifiedLogger, pretty_print\n",
    "import torch\n",
    "import matplotlib.pyplot as plt\n",
    "import moviepy"
   ]
  },
  {
   "cell_type": "markdown",
   "metadata": {},
   "source": [
    "* Select correct configuration file \n",
    "* Select environment (3 or 6 landmarks)\n",
    "* Select the experiment you want to evaluate"
   ]
  },
  {
   "cell_type": "code",
   "execution_count": 2,
   "metadata": {},
   "outputs": [
    {
     "name": "stdout",
     "output_type": "stream",
     "text": [
      "2022-10-15_20-21-051i6ubnd9  train-152633_0.slurm.err  train-152633_2.slurm.out\r\n",
      "2022-10-15_20-21-055x1s5ecg  train-152633_0.slurm.out  train-152633_3.slurm.err\r\n",
      "2022-10-15_20-21-05l2jrttu4  train-152633_1.slurm.err  train-152633_3.slurm.out\r\n",
      "2022-10-15_20-21-05n2r125tc  train-152633_1.slurm.out  train-152633_4.slurm.err\r\n",
      "2022-10-15_20-21-05zvlbcbhk  train-152633_2.slurm.err  train-152633_4.slurm.out\r\n"
     ]
    }
   ],
   "source": [
    "!ls 2_agents/cooperative/modified_reward/6_landmarks/naming_game/2_matrix\n"
   ]
  },
  {
   "cell_type": "code",
   "execution_count": 2,
   "metadata": {},
   "outputs": [
    {
     "name": "stdout",
     "output_type": "stream",
     "text": [
      "2022-10-27_19-14-40v1v3_6dl  stdout.txt\t\t       train-493234_2.slurm.out\r\n",
      "2022-10-27_19-19-56_8ve71_y  train-493234_0.slurm.err  train-493234_3.slurm.err\r\n",
      "2022-10-27_19-21-22pozgzx7i  train-493234_0.slurm.out  train-493234_3.slurm.out\r\n",
      "2022-10-27_19-24-53kh4dr43g  train-493234_1.slurm.err  train-493234_4.slurm.err\r\n",
      "2022-10-27_19-24-53qlfxv7fz  train-493234_1.slurm.out  train-493234_4.slurm.out\r\n",
      "stderr.txt\t\t     train-493234_2.slurm.err\r\n"
     ]
    }
   ],
   "source": [
    "!ls 2_agents/all/modified_reward/3_landmarks_reward1/naming_game_30msg_alpha10_temp30\n"
   ]
  },
  {
   "cell_type": "code",
   "execution_count": 45,
   "metadata": {
    "scrolled": true
   },
   "outputs": [
    {
     "name": "stdout",
     "output_type": "stream",
     "text": [
      "2022-10-25_22-07-33e3kaf119  train-427643_0.slurm.err  train-427643_2.slurm.out\r\n",
      "2022-10-25_22-07-3606x7jyz3  train-427643_0.slurm.out  train-427643_3.slurm.err\r\n",
      "2022-10-25_22-07-369e50deqs  train-427643_1.slurm.err  train-427643_3.slurm.out\r\n",
      "2022-10-25_22-07-36nrhqi86q  train-427643_1.slurm.out  train-427643_4.slurm.err\r\n",
      "2022-10-25_22-07-44fppth2yq  train-427643_2.slurm.err  train-427643_4.slurm.out\r\n"
     ]
    }
   ],
   "source": [
    "!ls 2_agents/all/modified_reward/6_landmarks/naming_game_30msg_alpha10_temp30b\n"
   ]
  },
  {
   "cell_type": "code",
   "execution_count": 9,
   "metadata": {},
   "outputs": [],
   "source": [
    "from imgc_marl.envs.population import PopGoalLinesEnv, PopLargeGoalLinesEnv\n",
    "\n",
    "# 3 landmarks\n",
    "#config_file = \"goal_lines_naming.yml\"\n",
    "config_file=\"goal_lines_2agents_naming_game_all_modified.yml\"\n",
    "environment = PopGoalLinesEnv\n",
    "\n",
    "# 6 landmarks\n",
    "#config_file = \"large_goal_lines_2agents_naming_game_all_modified.yml\"\n",
    "#environment = PopLargeGoalLinesEnv\n",
    "\n",
    "\n",
    "# directory of the checkpoints you want to evaluate\n",
    "checkpoints_dir = \"2_agents/all/modified_reward/3_landmarks_reward1/naming_game_30msg_alpha10_temp30/2022-10-27_19-14-40v1v3_6dl\""
   ]
  },
  {
   "cell_type": "code",
   "execution_count": 10,
   "metadata": {},
   "outputs": [
    {
     "name": "stderr",
     "output_type": "stream",
     "text": [
      "2022-10-28 10:33:40,515\tWARNING multi_agent_env.py:137 -- observation_space_contains() has not been implemented\n",
      "2022-10-28 10:33:40,516\tWARNING multi_agent_env.py:137 -- observation_space_contains() has not been implemented\n",
      "2022-10-28 10:33:40,516\tWARNING multi_agent_env.py:137 -- observation_space_contains() has not been implemented\n",
      "2022-10-28 10:33:40,517\tWARNING multi_agent_env.py:193 -- action_space_sample() has not been implemented\n",
      "2022-10-28 10:33:40,518\tWARNING multi_agent_env.py:137 -- observation_space_contains() has not been implemented\n",
      "2022-10-28 10:33:40,524\tWARNING catalog.py:628 -- Custom ModelV2 should accept all custom options as **kwargs, instead of expecting them in config['custom_model_config']!\n",
      "2022-10-28 10:33:40,540\tWARNING catalog.py:628 -- Custom ModelV2 should accept all custom options as **kwargs, instead of expecting them in config['custom_model_config']!\n",
      "WARNING:ray.tune.utils.util:Install gputil for GPU system monitoring.\n"
     ]
    }
   ],
   "source": [
    "with open(f\"../scripts/configs/{config_file}\", \"r\") as f:\n",
    "    user_config = yaml.safe_load(f)\n",
    "# General settings of the algorithm\n",
    "config = deepcopy(DEFAULT_CONFIG)\n",
    "config[\"num_workers\"] = 0\n",
    "config[\"framework\"] = \"torch\"\n",
    "use_communication = user_config.get(\"communication\", False)\n",
    "\n",
    "config[\"horizon\"] = 300\n",
    "config[\"rollout_fragment_length\"] = config[\"horizon\"]\n",
    "config[\"env_config\"] = user_config[\"env_config\"]\n",
    "config[\"train_batch_size\"] = 60_000\n",
    "config[\"sgd_minibatch_size\"] = 10_000\n",
    "config[\"lambda\"] = 0.9\n",
    "config[\"lr\"] = 0.0003\n",
    "\n",
    "\n",
    "nb_msg= 30\n",
    "\n",
    "def policy_mapping_fn(agent_id):\n",
    "    return agent_id\n",
    "\n",
    "\n",
    "config[\"multiagent\"] = {\n",
    "    \"policies\": {\n",
    "        f\"agent_{i}\": PolicySpec(\n",
    "            policy_class=None, observation_space=None, action_space=None\n",
    "        )\n",
    "        for i in range(config[\"env_config\"][\"population_size\"])\n",
    "    },\n",
    "    \"policy_mapping_fn\": policy_mapping_fn,\n",
    "}\n",
    "\n",
    "train_env = environment\n",
    "\n",
    "ModelCatalog.register_custom_model(\"FullNamingNetwork1Matrix\", FullNamingNetwork1Matrix)\n",
    "number_of_goals = environment(config[\"env_config\"]).goal_space_dim\n",
    "config[\"model\"] = {\n",
    "    \"custom_model\": \"FullNamingNetwork1Matrix\",\n",
    "    \"custom_model_config\": {\n",
    "        \"number_of_goals\": number_of_goals,\n",
    "        \"train_matrix\": user_config.get(\"train_matrix\", False),\n",
    "        \"nb_msg\":nb_msg,\n",
    "    },\n",
    "}\n",
    "trainer = FullNamingTrainer1Matrix(\n",
    "    config=config,\n",
    "    env=train_env,\n",
    ")"
   ]
  },
  {
   "cell_type": "markdown",
   "metadata": {},
   "source": [
    "# Inspecting matrices through time"
   ]
  },
  {
   "cell_type": "code",
   "execution_count": 11,
   "metadata": {},
   "outputs": [
    {
     "name": "stdout",
     "output_type": "stream",
     "text": [
      "checkpoint-10\n"
     ]
    },
    {
     "name": "stderr",
     "output_type": "stream",
     "text": [
      "2022-10-28 10:34:00,803\tINFO trainable.py:588 -- Restored on 10.159.0.6 from checkpoint: /gpfsscratch/rech/imi/uzw47io/elias_expe/2_agents/all/modified_reward/3_landmarks_reward1/naming_game_30msg_alpha10_temp30/2022-10-27_19-14-40v1v3_6dl/checkpoint_000010/checkpoint-10\n",
      "2022-10-28 10:34:00,804\tINFO trainable.py:597 -- Current state after restoring: {'_iteration': 10, '_timesteps_total': None, '_time_total': 454.62507367134094, '_episodes_total': 2793}\n",
      "2022-10-28 10:34:01,083\tINFO trainable.py:588 -- Restored on 10.159.0.6 from checkpoint: /gpfsscratch/rech/imi/uzw47io/elias_expe/2_agents/all/modified_reward/3_landmarks_reward1/naming_game_30msg_alpha10_temp30/2022-10-27_19-14-40v1v3_6dl/checkpoint_000020/checkpoint-20\n",
      "2022-10-28 10:34:01,083\tINFO trainable.py:597 -- Current state after restoring: {'_iteration': 20, '_timesteps_total': None, '_time_total': 913.6632552146912, '_episodes_total': 8613}\n"
     ]
    },
    {
     "name": "stdout",
     "output_type": "stream",
     "text": [
      "checkpoint-20\n"
     ]
    },
    {
     "name": "stderr",
     "output_type": "stream",
     "text": [
      "2022-10-28 10:34:01,352\tINFO trainable.py:588 -- Restored on 10.159.0.6 from checkpoint: /gpfsscratch/rech/imi/uzw47io/elias_expe/2_agents/all/modified_reward/3_landmarks_reward1/naming_game_30msg_alpha10_temp30/2022-10-27_19-14-40v1v3_6dl/checkpoint_000030/checkpoint-30\n",
      "2022-10-28 10:34:01,352\tINFO trainable.py:597 -- Current state after restoring: {'_iteration': 30, '_timesteps_total': None, '_time_total': 1369.158375263214, '_episodes_total': 19069}\n"
     ]
    },
    {
     "name": "stdout",
     "output_type": "stream",
     "text": [
      "checkpoint-30\n"
     ]
    },
    {
     "name": "stderr",
     "output_type": "stream",
     "text": [
      "2022-10-28 10:34:01,556\tINFO trainable.py:588 -- Restored on 10.159.0.6 from checkpoint: /gpfsscratch/rech/imi/uzw47io/elias_expe/2_agents/all/modified_reward/3_landmarks_reward1/naming_game_30msg_alpha10_temp30/2022-10-27_19-14-40v1v3_6dl/checkpoint_000040/checkpoint-40\n",
      "2022-10-28 10:34:01,560\tINFO trainable.py:597 -- Current state after restoring: {'_iteration': 40, '_timesteps_total': None, '_time_total': 1841.3229908943176, '_episodes_total': 32017}\n"
     ]
    },
    {
     "name": "stdout",
     "output_type": "stream",
     "text": [
      "checkpoint-40\n"
     ]
    },
    {
     "name": "stderr",
     "output_type": "stream",
     "text": [
      "2022-10-28 10:34:01,828\tINFO trainable.py:588 -- Restored on 10.159.0.6 from checkpoint: /gpfsscratch/rech/imi/uzw47io/elias_expe/2_agents/all/modified_reward/3_landmarks_reward1/naming_game_30msg_alpha10_temp30/2022-10-27_19-14-40v1v3_6dl/checkpoint_000050/checkpoint-50\n",
      "2022-10-28 10:34:01,829\tINFO trainable.py:597 -- Current state after restoring: {'_iteration': 50, '_timesteps_total': None, '_time_total': 2314.47483587265, '_episodes_total': 45309}\n"
     ]
    },
    {
     "name": "stdout",
     "output_type": "stream",
     "text": [
      "checkpoint-50\n"
     ]
    },
    {
     "name": "stderr",
     "output_type": "stream",
     "text": [
      "2022-10-28 10:34:02,266\tINFO trainable.py:588 -- Restored on 10.159.0.6 from checkpoint: /gpfsscratch/rech/imi/uzw47io/elias_expe/2_agents/all/modified_reward/3_landmarks_reward1/naming_game_30msg_alpha10_temp30/2022-10-27_19-14-40v1v3_6dl/checkpoint_000060/checkpoint-60\n",
      "2022-10-28 10:34:02,267\tINFO trainable.py:597 -- Current state after restoring: {'_iteration': 60, '_timesteps_total': None, '_time_total': 2807.906049489975, '_episodes_total': 58439}\n"
     ]
    },
    {
     "name": "stdout",
     "output_type": "stream",
     "text": [
      "checkpoint-60\n"
     ]
    },
    {
     "name": "stderr",
     "output_type": "stream",
     "text": [
      "2022-10-28 10:34:02,536\tINFO trainable.py:588 -- Restored on 10.159.0.6 from checkpoint: /gpfsscratch/rech/imi/uzw47io/elias_expe/2_agents/all/modified_reward/3_landmarks_reward1/naming_game_30msg_alpha10_temp30/2022-10-27_19-14-40v1v3_6dl/checkpoint_000070/checkpoint-70\n",
      "2022-10-28 10:34:02,537\tINFO trainable.py:597 -- Current state after restoring: {'_iteration': 70, '_timesteps_total': None, '_time_total': 3412.6584622859955, '_episodes_total': 71900}\n"
     ]
    },
    {
     "name": "stdout",
     "output_type": "stream",
     "text": [
      "checkpoint-70\n"
     ]
    },
    {
     "name": "stderr",
     "output_type": "stream",
     "text": [
      "2022-10-28 10:34:02,806\tINFO trainable.py:588 -- Restored on 10.159.0.6 from checkpoint: /gpfsscratch/rech/imi/uzw47io/elias_expe/2_agents/all/modified_reward/3_landmarks_reward1/naming_game_30msg_alpha10_temp30/2022-10-27_19-14-40v1v3_6dl/checkpoint_000080/checkpoint-80\n",
      "2022-10-28 10:34:02,806\tINFO trainable.py:597 -- Current state after restoring: {'_iteration': 80, '_timesteps_total': None, '_time_total': 3961.137195110321, '_episodes_total': 85498}\n"
     ]
    },
    {
     "name": "stdout",
     "output_type": "stream",
     "text": [
      "checkpoint-80\n"
     ]
    },
    {
     "name": "stderr",
     "output_type": "stream",
     "text": [
      "2022-10-28 10:34:03,070\tINFO trainable.py:588 -- Restored on 10.159.0.6 from checkpoint: /gpfsscratch/rech/imi/uzw47io/elias_expe/2_agents/all/modified_reward/3_landmarks_reward1/naming_game_30msg_alpha10_temp30/2022-10-27_19-14-40v1v3_6dl/checkpoint_000090/checkpoint-90\n",
      "2022-10-28 10:34:03,071\tINFO trainable.py:597 -- Current state after restoring: {'_iteration': 90, '_timesteps_total': None, '_time_total': 4471.144795656204, '_episodes_total': 98847}\n"
     ]
    },
    {
     "name": "stdout",
     "output_type": "stream",
     "text": [
      "checkpoint-90\n"
     ]
    },
    {
     "name": "stderr",
     "output_type": "stream",
     "text": [
      "2022-10-28 10:34:03,347\tINFO trainable.py:588 -- Restored on 10.159.0.6 from checkpoint: /gpfsscratch/rech/imi/uzw47io/elias_expe/2_agents/all/modified_reward/3_landmarks_reward1/naming_game_30msg_alpha10_temp30/2022-10-27_19-14-40v1v3_6dl/checkpoint_000100/checkpoint-100\n",
      "2022-10-28 10:34:03,347\tINFO trainable.py:597 -- Current state after restoring: {'_iteration': 100, '_timesteps_total': None, '_time_total': 5057.337912321091, '_episodes_total': 112016}\n"
     ]
    },
    {
     "name": "stdout",
     "output_type": "stream",
     "text": [
      "checkpoint-100\n"
     ]
    },
    {
     "name": "stderr",
     "output_type": "stream",
     "text": [
      "2022-10-28 10:34:03,606\tINFO trainable.py:588 -- Restored on 10.159.0.6 from checkpoint: /gpfsscratch/rech/imi/uzw47io/elias_expe/2_agents/all/modified_reward/3_landmarks_reward1/naming_game_30msg_alpha10_temp30/2022-10-27_19-14-40v1v3_6dl/checkpoint_000110/checkpoint-110\n",
      "2022-10-28 10:34:03,607\tINFO trainable.py:597 -- Current state after restoring: {'_iteration': 110, '_timesteps_total': None, '_time_total': 5589.631548166275, '_episodes_total': 125205}\n"
     ]
    },
    {
     "name": "stdout",
     "output_type": "stream",
     "text": [
      "checkpoint-110\n"
     ]
    },
    {
     "name": "stderr",
     "output_type": "stream",
     "text": [
      "2022-10-28 10:34:03,866\tINFO trainable.py:588 -- Restored on 10.159.0.6 from checkpoint: /gpfsscratch/rech/imi/uzw47io/elias_expe/2_agents/all/modified_reward/3_landmarks_reward1/naming_game_30msg_alpha10_temp30/2022-10-27_19-14-40v1v3_6dl/checkpoint_000120/checkpoint-120\n",
      "2022-10-28 10:34:03,868\tINFO trainable.py:597 -- Current state after restoring: {'_iteration': 120, '_timesteps_total': None, '_time_total': 6111.158798933029, '_episodes_total': 138482}\n"
     ]
    },
    {
     "name": "stdout",
     "output_type": "stream",
     "text": [
      "checkpoint-120\n"
     ]
    },
    {
     "name": "stderr",
     "output_type": "stream",
     "text": [
      "2022-10-28 10:34:04,137\tINFO trainable.py:588 -- Restored on 10.159.0.6 from checkpoint: /gpfsscratch/rech/imi/uzw47io/elias_expe/2_agents/all/modified_reward/3_landmarks_reward1/naming_game_30msg_alpha10_temp30/2022-10-27_19-14-40v1v3_6dl/checkpoint_000130/checkpoint-130\n",
      "2022-10-28 10:34:04,140\tINFO trainable.py:597 -- Current state after restoring: {'_iteration': 130, '_timesteps_total': None, '_time_total': 6651.238924026489, '_episodes_total': 152061}\n"
     ]
    },
    {
     "name": "stdout",
     "output_type": "stream",
     "text": [
      "checkpoint-130\n"
     ]
    },
    {
     "name": "stderr",
     "output_type": "stream",
     "text": [
      "2022-10-28 10:34:04,409\tINFO trainable.py:588 -- Restored on 10.159.0.6 from checkpoint: /gpfsscratch/rech/imi/uzw47io/elias_expe/2_agents/all/modified_reward/3_landmarks_reward1/naming_game_30msg_alpha10_temp30/2022-10-27_19-14-40v1v3_6dl/checkpoint_000140/checkpoint-140\n",
      "2022-10-28 10:34:04,410\tINFO trainable.py:597 -- Current state after restoring: {'_iteration': 140, '_timesteps_total': None, '_time_total': 7163.3968098163605, '_episodes_total': 165401}\n"
     ]
    },
    {
     "name": "stdout",
     "output_type": "stream",
     "text": [
      "checkpoint-140\n"
     ]
    },
    {
     "name": "stderr",
     "output_type": "stream",
     "text": [
      "2022-10-28 10:34:04,674\tINFO trainable.py:588 -- Restored on 10.159.0.6 from checkpoint: /gpfsscratch/rech/imi/uzw47io/elias_expe/2_agents/all/modified_reward/3_landmarks_reward1/naming_game_30msg_alpha10_temp30/2022-10-27_19-14-40v1v3_6dl/checkpoint_000150/checkpoint-150\n",
      "2022-10-28 10:34:04,674\tINFO trainable.py:597 -- Current state after restoring: {'_iteration': 150, '_timesteps_total': None, '_time_total': 7768.003048419952, '_episodes_total': 178635}\n"
     ]
    },
    {
     "name": "stdout",
     "output_type": "stream",
     "text": [
      "checkpoint-150\n"
     ]
    },
    {
     "name": "stderr",
     "output_type": "stream",
     "text": [
      "2022-10-28 10:34:04,880\tINFO trainable.py:588 -- Restored on 10.159.0.6 from checkpoint: /gpfsscratch/rech/imi/uzw47io/elias_expe/2_agents/all/modified_reward/3_landmarks_reward1/naming_game_30msg_alpha10_temp30/2022-10-27_19-14-40v1v3_6dl/checkpoint_000160/checkpoint-160\n",
      "2022-10-28 10:34:04,887\tINFO trainable.py:597 -- Current state after restoring: {'_iteration': 160, '_timesteps_total': None, '_time_total': 8329.253116369247, '_episodes_total': 191975}\n"
     ]
    },
    {
     "name": "stdout",
     "output_type": "stream",
     "text": [
      "checkpoint-160\n"
     ]
    },
    {
     "name": "stderr",
     "output_type": "stream",
     "text": [
      "2022-10-28 10:34:05,154\tINFO trainable.py:588 -- Restored on 10.159.0.6 from checkpoint: /gpfsscratch/rech/imi/uzw47io/elias_expe/2_agents/all/modified_reward/3_landmarks_reward1/naming_game_30msg_alpha10_temp30/2022-10-27_19-14-40v1v3_6dl/checkpoint_000170/checkpoint-170\n",
      "2022-10-28 10:34:05,154\tINFO trainable.py:597 -- Current state after restoring: {'_iteration': 170, '_timesteps_total': None, '_time_total': 8852.435687065125, '_episodes_total': 205202}\n"
     ]
    },
    {
     "name": "stdout",
     "output_type": "stream",
     "text": [
      "checkpoint-170\n"
     ]
    },
    {
     "name": "stderr",
     "output_type": "stream",
     "text": [
      "2022-10-28 10:34:05,426\tINFO trainable.py:588 -- Restored on 10.159.0.6 from checkpoint: /gpfsscratch/rech/imi/uzw47io/elias_expe/2_agents/all/modified_reward/3_landmarks_reward1/naming_game_30msg_alpha10_temp30/2022-10-27_19-14-40v1v3_6dl/checkpoint_000180/checkpoint-180\n",
      "2022-10-28 10:34:05,427\tINFO trainable.py:597 -- Current state after restoring: {'_iteration': 180, '_timesteps_total': None, '_time_total': 9403.699460983276, '_episodes_total': 218651}\n"
     ]
    },
    {
     "name": "stdout",
     "output_type": "stream",
     "text": [
      "checkpoint-180\n"
     ]
    },
    {
     "name": "stderr",
     "output_type": "stream",
     "text": [
      "2022-10-28 10:34:05,633\tINFO trainable.py:588 -- Restored on 10.159.0.6 from checkpoint: /gpfsscratch/rech/imi/uzw47io/elias_expe/2_agents/all/modified_reward/3_landmarks_reward1/naming_game_30msg_alpha10_temp30/2022-10-27_19-14-40v1v3_6dl/checkpoint_000190/checkpoint-190\n",
      "2022-10-28 10:34:05,634\tINFO trainable.py:597 -- Current state after restoring: {'_iteration': 190, '_timesteps_total': None, '_time_total': 9920.983267784119, '_episodes_total': 232088}\n"
     ]
    },
    {
     "name": "stdout",
     "output_type": "stream",
     "text": [
      "checkpoint-190\n"
     ]
    },
    {
     "name": "stderr",
     "output_type": "stream",
     "text": [
      "2022-10-28 10:34:05,901\tINFO trainable.py:588 -- Restored on 10.159.0.6 from checkpoint: /gpfsscratch/rech/imi/uzw47io/elias_expe/2_agents/all/modified_reward/3_landmarks_reward1/naming_game_30msg_alpha10_temp30/2022-10-27_19-14-40v1v3_6dl/checkpoint_000200/checkpoint-200\n",
      "2022-10-28 10:34:05,902\tINFO trainable.py:597 -- Current state after restoring: {'_iteration': 200, '_timesteps_total': None, '_time_total': 10446.013216733932, '_episodes_total': 245656}\n"
     ]
    },
    {
     "name": "stdout",
     "output_type": "stream",
     "text": [
      "checkpoint-200\n"
     ]
    },
    {
     "name": "stderr",
     "output_type": "stream",
     "text": [
      "2022-10-28 10:34:06,277\tINFO trainable.py:588 -- Restored on 10.159.0.6 from checkpoint: /gpfsscratch/rech/imi/uzw47io/elias_expe/2_agents/all/modified_reward/3_landmarks_reward1/naming_game_30msg_alpha10_temp30/2022-10-27_19-14-40v1v3_6dl/checkpoint_000210/checkpoint-210\n",
      "2022-10-28 10:34:06,278\tINFO trainable.py:597 -- Current state after restoring: {'_iteration': 210, '_timesteps_total': None, '_time_total': 11038.544260501862, '_episodes_total': 259032}\n"
     ]
    },
    {
     "name": "stdout",
     "output_type": "stream",
     "text": [
      "checkpoint-210\n",
      "checkpoint-220\n"
     ]
    },
    {
     "name": "stderr",
     "output_type": "stream",
     "text": [
      "2022-10-28 10:34:06,540\tINFO trainable.py:588 -- Restored on 10.159.0.6 from checkpoint: /gpfsscratch/rech/imi/uzw47io/elias_expe/2_agents/all/modified_reward/3_landmarks_reward1/naming_game_30msg_alpha10_temp30/2022-10-27_19-14-40v1v3_6dl/checkpoint_000220/checkpoint-220\n",
      "2022-10-28 10:34:06,540\tINFO trainable.py:597 -- Current state after restoring: {'_iteration': 220, '_timesteps_total': None, '_time_total': 11561.213726043701, '_episodes_total': 272567}\n",
      "2022-10-28 10:34:06,743\tINFO trainable.py:588 -- Restored on 10.159.0.6 from checkpoint: /gpfsscratch/rech/imi/uzw47io/elias_expe/2_agents/all/modified_reward/3_landmarks_reward1/naming_game_30msg_alpha10_temp30/2022-10-27_19-14-40v1v3_6dl/checkpoint_000230/checkpoint-230\n",
      "2022-10-28 10:34:06,744\tINFO trainable.py:597 -- Current state after restoring: {'_iteration': 230, '_timesteps_total': None, '_time_total': 12086.260548591614, '_episodes_total': 286271}\n"
     ]
    },
    {
     "name": "stdout",
     "output_type": "stream",
     "text": [
      "checkpoint-230\n"
     ]
    },
    {
     "name": "stderr",
     "output_type": "stream",
     "text": [
      "2022-10-28 10:34:07,007\tINFO trainable.py:588 -- Restored on 10.159.0.6 from checkpoint: /gpfsscratch/rech/imi/uzw47io/elias_expe/2_agents/all/modified_reward/3_landmarks_reward1/naming_game_30msg_alpha10_temp30/2022-10-27_19-14-40v1v3_6dl/checkpoint_000240/checkpoint-240\n",
      "2022-10-28 10:34:07,007\tINFO trainable.py:597 -- Current state after restoring: {'_iteration': 240, '_timesteps_total': None, '_time_total': 12609.811352014542, '_episodes_total': 299849}\n"
     ]
    },
    {
     "name": "stdout",
     "output_type": "stream",
     "text": [
      "checkpoint-240\n"
     ]
    },
    {
     "name": "stderr",
     "output_type": "stream",
     "text": [
      "2022-10-28 10:34:07,268\tINFO trainable.py:588 -- Restored on 10.159.0.6 from checkpoint: /gpfsscratch/rech/imi/uzw47io/elias_expe/2_agents/all/modified_reward/3_landmarks_reward1/naming_game_30msg_alpha10_temp30/2022-10-27_19-14-40v1v3_6dl/checkpoint_000250/checkpoint-250\n",
      "2022-10-28 10:34:07,270\tINFO trainable.py:597 -- Current state after restoring: {'_iteration': 250, '_timesteps_total': None, '_time_total': 13106.82937836647, '_episodes_total': 313616}\n"
     ]
    },
    {
     "name": "stdout",
     "output_type": "stream",
     "text": [
      "checkpoint-250\n"
     ]
    },
    {
     "name": "stderr",
     "output_type": "stream",
     "text": [
      "2022-10-28 10:34:07,520\tINFO trainable.py:588 -- Restored on 10.159.0.6 from checkpoint: /gpfsscratch/rech/imi/uzw47io/elias_expe/2_agents/all/modified_reward/3_landmarks_reward1/naming_game_30msg_alpha10_temp30/2022-10-27_19-14-40v1v3_6dl/checkpoint_000260/checkpoint-260\n",
      "2022-10-28 10:34:07,522\tINFO trainable.py:597 -- Current state after restoring: {'_iteration': 260, '_timesteps_total': None, '_time_total': 13656.268040180206, '_episodes_total': 327135}\n"
     ]
    },
    {
     "name": "stdout",
     "output_type": "stream",
     "text": [
      "checkpoint-260\n"
     ]
    },
    {
     "name": "stderr",
     "output_type": "stream",
     "text": [
      "2022-10-28 10:34:07,728\tINFO trainable.py:588 -- Restored on 10.159.0.6 from checkpoint: /gpfsscratch/rech/imi/uzw47io/elias_expe/2_agents/all/modified_reward/3_landmarks_reward1/naming_game_30msg_alpha10_temp30/2022-10-27_19-14-40v1v3_6dl/checkpoint_000270/checkpoint-270\n",
      "2022-10-28 10:34:07,728\tINFO trainable.py:597 -- Current state after restoring: {'_iteration': 270, '_timesteps_total': None, '_time_total': 14221.347922801971, '_episodes_total': 340775}\n"
     ]
    },
    {
     "name": "stdout",
     "output_type": "stream",
     "text": [
      "checkpoint-270\n"
     ]
    },
    {
     "name": "stderr",
     "output_type": "stream",
     "text": [
      "2022-10-28 10:34:07,997\tINFO trainable.py:588 -- Restored on 10.159.0.6 from checkpoint: /gpfsscratch/rech/imi/uzw47io/elias_expe/2_agents/all/modified_reward/3_landmarks_reward1/naming_game_30msg_alpha10_temp30/2022-10-27_19-14-40v1v3_6dl/checkpoint_000280/checkpoint-280\n",
      "2022-10-28 10:34:07,997\tINFO trainable.py:597 -- Current state after restoring: {'_iteration': 280, '_timesteps_total': None, '_time_total': 14763.553443193436, '_episodes_total': 354508}\n"
     ]
    },
    {
     "name": "stdout",
     "output_type": "stream",
     "text": [
      "checkpoint-280\n"
     ]
    },
    {
     "name": "stderr",
     "output_type": "stream",
     "text": [
      "2022-10-28 10:34:08,263\tINFO trainable.py:588 -- Restored on 10.159.0.6 from checkpoint: /gpfsscratch/rech/imi/uzw47io/elias_expe/2_agents/all/modified_reward/3_landmarks_reward1/naming_game_30msg_alpha10_temp30/2022-10-27_19-14-40v1v3_6dl/checkpoint_000290/checkpoint-290\n",
      "2022-10-28 10:34:08,264\tINFO trainable.py:597 -- Current state after restoring: {'_iteration': 290, '_timesteps_total': None, '_time_total': 15322.773516893387, '_episodes_total': 368522}\n"
     ]
    },
    {
     "name": "stdout",
     "output_type": "stream",
     "text": [
      "checkpoint-290\n"
     ]
    },
    {
     "name": "stderr",
     "output_type": "stream",
     "text": [
      "2022-10-28 10:34:08,521\tINFO trainable.py:588 -- Restored on 10.159.0.6 from checkpoint: /gpfsscratch/rech/imi/uzw47io/elias_expe/2_agents/all/modified_reward/3_landmarks_reward1/naming_game_30msg_alpha10_temp30/2022-10-27_19-14-40v1v3_6dl/checkpoint_000300/checkpoint-300\n",
      "2022-10-28 10:34:08,523\tINFO trainable.py:597 -- Current state after restoring: {'_iteration': 300, '_timesteps_total': None, '_time_total': 15838.688460588455, '_episodes_total': 382169}\n"
     ]
    },
    {
     "name": "stdout",
     "output_type": "stream",
     "text": [
      "checkpoint-300\n"
     ]
    },
    {
     "data": {
      "image/png": "[encoded data removed]",
      "text/plain": [
       "<Figure size 720x720 with 2 Axes>"
      ]
     },
     "metadata": {
      "needs_background": "light"
     },
     "output_type": "display_data"
    }
   ],
   "source": [
    "imgs = []\n",
    "for checkpoint_dir in sorted(os.listdir(checkpoints_dir)):\n",
    "    if os.path.isdir(os.path.join(checkpoints_dir, checkpoint_dir)):\n",
    "        checkpoint_file = sorted(\n",
    "            os.listdir(os.path.join(checkpoints_dir, checkpoint_dir))\n",
    "        )[1]\n",
    "        print(checkpoint_file)\n",
    "        trainer.restore(os.path.join(checkpoints_dir, checkpoint_dir, checkpoint_file))\n",
    "        agent_0 = trainer.get_policy(\"agent_0\").model\n",
    "        agent_1 = trainer.get_policy(\"agent_1\").model\n",
    "        with torch.no_grad():\n",
    "            agent_0_matrix = agent_0._matrix.numpy()\n",
    "            agent_1_matrix = agent_1._matrix.numpy()\n",
    "\n",
    "            # Generate images\n",
    "            for j, matrix in enumerate((agent_0_matrix, agent_1_matrix)):\n",
    "                if j == 0:\n",
    "                    fig = plt.figure(num=1, clear=True, figsize=(10, 10))\n",
    "                    ax = fig.add_subplot(121)\n",
    "                    ax.set_title(\"Agent 0\")\n",
    "                elif j == 1:\n",
    "                    ax = fig.add_subplot(122)\n",
    "                    ax.set_title(\"Agent 1\")\n",
    "                ax.matshow(matrix, cmap=plt.cm.Blues)\n",
    "                for x in range(nb_msg):\n",
    "                    for y in range(number_of_goals):\n",
    "                        c = matrix[y, x]\n",
    "                        #ax.text(x, y, str(round(c, 3)), va=\"center\", ha=\"center\")\n",
    "                if j == 1:\n",
    "                    plt.tight_layout()\n",
    "                    canvas = fig.figure.canvas\n",
    "                    canvas.draw()\n",
    "                    data = np.frombuffer(canvas.tostring_rgb(), dtype=np.uint8)\n",
    "                    img = data.reshape(canvas.get_width_height()[::-1] + (3,))\n",
    "                    imgs.append(img)\n",
    "                    "
   ]
  },
  {
   "cell_type": "code",
   "execution_count": 12,
   "metadata": {},
   "outputs": [
    {
     "name": "stderr",
     "output_type": "stream",
     "text": [
      "Failed to create secure directory (/pulse): Permission denied\n",
      "ALSA lib confmisc.c:855:(parse_card) cannot find card '0'\n",
      "ALSA lib conf.c:5178:(_snd_config_evaluate) function snd_func_card_inum returned error: No such file or directory\n",
      "ALSA lib confmisc.c:422:(snd_func_concat) error evaluating strings\n",
      "ALSA lib conf.c:5178:(_snd_config_evaluate) function snd_func_concat returned error: No such file or directory\n",
      "ALSA lib confmisc.c:1334:(snd_func_refer) error evaluating name\n",
      "ALSA lib conf.c:5178:(_snd_config_evaluate) function snd_func_refer returned error: No such file or directory\n",
      "ALSA lib conf.c:5701:(snd_config_expand) Evaluate error: No such file or directory\n",
      "ALSA lib pcm.c:2664:(snd_pcm_open_noupdate) Unknown PCM default\n",
      "Failed to create secure directory (/pulse): Permission denied\n",
      "ALSA lib confmisc.c:855:(parse_card) cannot find card '0'\n",
      "ALSA lib conf.c:5178:(_snd_config_evaluate) function snd_func_card_inum returned error: No such file or directory\n",
      "ALSA lib confmisc.c:422:(snd_func_concat) error evaluating strings\n",
      "ALSA lib conf.c:5178:(_snd_config_evaluate) function snd_func_concat returned error: No such file or directory\n",
      "ALSA lib confmisc.c:1334:(snd_func_refer) error evaluating name\n",
      "ALSA lib conf.c:5178:(_snd_config_evaluate) function snd_func_refer returned error: No such file or directory\n",
      "ALSA lib conf.c:5701:(snd_config_expand) Evaluate error: No such file or directory\n",
      "ALSA lib pcm.c:2664:(snd_pcm_open_noupdate) Unknown PCM default\n"
     ]
    }
   ],
   "source": [
    "import os\n",
    "os.environ['FFMPEG_BINARY'] = 'ffmpeg'\n",
    "import moviepy.editor as mvp\n",
    "from moviepy.video.io.ffmpeg_writer import FFMPEG_VideoWriter\n",
    "from IPython.display import HTML, display, clear_output\n",
    "\n",
    "class VideoWriter:\n",
    "  def __init__(self, filename, fps=30.0, **kw):\n",
    "    self.writer = None\n",
    "    self.params = dict(filename=filename, fps=fps, **kw)\n",
    "\n",
    "  def add(self, img):\n",
    "    img = np.asarray(img)\n",
    "    if self.writer is None:\n",
    "      h, w = img.shape[:2]\n",
    "      self.writer = FFMPEG_VideoWriter(size=(w, h), **self.params)\n",
    "    if img.dtype in [np.float32, np.float64]:\n",
    "      img = np.uint8(img.clip(0, 1)*255)\n",
    "    if len(img.shape) == 2:\n",
    "      img = np.repeat(img[..., None], 3, -1)\n",
    "    self.writer.write_frame(img)\n",
    "\n",
    "  def close(self):\n",
    "    if self.writer:\n",
    "      self.writer.close()\n",
    "\n",
    "  def __enter__(self):\n",
    "    return self\n",
    "\n",
    "  def __exit__(self, *kw):\n",
    "    self.close()\n",
    "\n",
    "  def show(self, **kw):\n",
    "      self.close()\n",
    "      fn = self.params['filename']\n",
    "      display(mvp.ipython_display(fn, **kw))"
   ]
  },
  {
   "cell_type": "code",
   "execution_count": 13,
   "metadata": {},
   "outputs": [
    {
     "data": {
      "text/html": [
       "<div align=middle><video src='data:video/mp4;base64,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' controls>Sorry, seems like your browser doesn't support HTML5 audio/video</video></div>"
      ],
      "text/plain": [
       "<moviepy.video.io.html_tools.HTML2 object>"
      ]
     },
     "metadata": {},
     "output_type": "display_data"
    }
   ],
   "source": [
    "with VideoWriter(\"out.mp4\", 2) as vid:\n",
    "          for i in range(len(imgs)):\n",
    "            im = imgs[i]\n",
    "            \n",
    "            #plt.imshow(im)\n",
    "            #plt.show()\n",
    "            vid.add(im)\n",
    "          vid.show()"
   ]
  }
 ],
 "metadata": {
  "kernelspec": {
   "display_name": "Python 3 (ipykernel)",
   "language": "python",
   "name": "python3"
  },
  "language_info": {
   "codemirror_mode": {
    "name": "ipython",
    "version": 3
   },
   "file_extension": ".py",
   "mimetype": "text/x-python",
   "name": "python",
   "nbconvert_exporter": "python",
   "pygments_lexer": "ipython3",
   "version": "3.7.10"
  },
  "vscode": {
   "interpreter": {
    "hash": "ba8aa1b69f904e3342c40bcdd1b69ae4a3cf2054115c347781ce67fba2dd2c9e"
   }
  }
 },
 "nbformat": 4,
 "nbformat_minor": 2
}
