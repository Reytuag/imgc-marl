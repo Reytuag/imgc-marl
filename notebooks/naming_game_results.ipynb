{
 "cells": [
  {
   "cell_type": "markdown",
   "metadata": {},
   "source": [
    "# Notebook for analysing results of the naming game, matrices visualizations"
   ]
  },
  {
   "cell_type": "markdown",
   "metadata": {},
   "source": [
    "This notebook can be used for generating videos of all the naming matrices during training for a specific seed. A video of the evolution of the naming matrices will be stored in the experiment's directory"
   ]
  },
  {
   "cell_type": "code",
   "execution_count": 1,
   "metadata": {},
   "outputs": [
    {
     "name": "stderr",
     "output_type": "stream",
     "text": [
      "/home/elena/anaconda3/envs/imgc-marl/lib/python3.8/site-packages/tqdm/auto.py:22: TqdmWarning: IProgress not found. Please update jupyter and ipywidgets. See https://ipywidgets.readthedocs.io/en/stable/user_install.html\n",
      "  from .autonotebook import tqdm as notebook_tqdm\n"
     ]
    }
   ],
   "source": [
    "import os\n",
    "import random\n",
    "import tempfile\n",
    "from copy import deepcopy\n",
    "from datetime import datetime\n",
    "\n",
    "import click\n",
    "import imgc_marl.envs.population as population\n",
    "import numpy as np\n",
    "import yaml\n",
    "from imgc_marl.callbacks import (\n",
    "    PopGoalLinesCallback,\n",
    "    PopGoalLinesCommunicationCallback,\n",
    "    PopGoalLinesNamingCallback,\n",
    "    PopGoalLinesNamingCallback1Matrix,\n",
    ")\n",
    "from imgc_marl.evaluation import (\n",
    "    communication_custom_eval_function,\n",
    "    custom_eval_function,\n",
    ")\n",
    "from imgc_marl.models.basic_communication import BasicCommunicationNetwork\n",
    "from imgc_marl.models.full_naming_game import FullNamingNetwork\n",
    "from imgc_marl.models.full_naming_game_single_matrix import FullNamingNetwork1Matrix\n",
    "from imgc_marl.policies.basic_communication import BasicCommunicationTrainer\n",
    "from imgc_marl.policies.full_naming_game import FullNamingTrainer\n",
    "from imgc_marl.policies.full_naming_game_single_matrix import FullNamingTrainer1Matrix\n",
    "from imgc_marl.utils import keep_relevant_results\n",
    "from ray.rllib.agents.ppo import DEFAULT_CONFIG, PPOTrainer\n",
    "from ray.rllib.models import ModelCatalog\n",
    "from ray.rllib.policy.policy import PolicySpec\n",
    "from ray.tune.logger import UnifiedLogger, pretty_print\n",
    "import torch\n",
    "import matplotlib.pyplot as plt\n",
    "import moviepy"
   ]
  },
  {
   "cell_type": "markdown",
   "metadata": {},
   "source": [
    "* Select correct configuration file \n",
    "* Select environment (3 or 6 landmarks)\n",
    "* Select the experiment you want to evaluate"
   ]
  },
  {
   "cell_type": "code",
   "execution_count": 2,
   "metadata": {},
   "outputs": [],
   "source": [
    "#!ls $SCRATCH/elias_expe/2_agents/cooperative/modified_reward/6_landmarks/naming_game/2_matrix\n"
   ]
  },
  {
   "cell_type": "code",
   "execution_count": 3,
   "metadata": {},
   "outputs": [],
   "source": [
    "#!ls $SCRATCH/elias_expe/2_agents/cooperative/modified_reward/6_landmarks/naming_game_30msg_t30_a10\n"
   ]
  },
  {
   "cell_type": "code",
   "execution_count": 4,
   "metadata": {},
   "outputs": [],
   "source": [
    "from imgc_marl.envs.population import PopGoalLinesEnv, PopLargeGoalLinesEnv\n",
    "\n",
    "# 3 landmarks\n",
    "#config_file = \"goal_lines_naming.yml\"\n",
    "#environment = PopGoalLinesEnv\n",
    "\n",
    "# 6 landmarks\n",
    "config_file = \"large_goal_lines_naming.yml\"\n",
    "environment = PopLargeGoalLinesEnv\n",
    "\n",
    "\n",
    "# directory of the checkpoints you want to evaluate\n",
    "#checkpoints_dir = os.environ[\"SCRATCH\"]+\"/elias_expe/2_agents/cooperative/modified_reward/6_landmarks/naming_game_30msg_t30_a10/2022-10-17_16-01-13dqqjntxb\"\n",
    "checkpoints_dir = \"/media/elena/LaCie/aamas_2023/paper/alignment/6_landmarks_reward2/naming_game_30msg_alpha10_temp30/2022-10-26_12-23-36pt_blwdm\""
   ]
  },
  {
   "cell_type": "code",
   "execution_count": 7,
   "metadata": {},
   "outputs": [
    {
     "name": "stderr",
     "output_type": "stream",
     "text": [
      "2022-10-28 20:13:54,331\tWARNING multi_agent_env.py:137 -- observation_space_contains() has not been implemented\n",
      "2022-10-28 20:13:54,332\tWARNING multi_agent_env.py:137 -- observation_space_contains() has not been implemented\n",
      "2022-10-28 20:13:54,332\tWARNING multi_agent_env.py:137 -- observation_space_contains() has not been implemented\n",
      "2022-10-28 20:13:54,332\tWARNING multi_agent_env.py:193 -- action_space_sample() has not been implemented\n",
      "2022-10-28 20:13:54,334\tWARNING multi_agent_env.py:137 -- observation_space_contains() has not been implemented\n",
      "2022-10-28 20:13:54,340\tWARNING catalog.py:628 -- Custom ModelV2 should accept all custom options as **kwargs, instead of expecting them in config['custom_model_config']!\n",
      "2022-10-28 20:13:54,351\tWARNING catalog.py:628 -- Custom ModelV2 should accept all custom options as **kwargs, instead of expecting them in config['custom_model_config']!\n",
      "WARNING:ray.tune.utils.util:Install gputil for GPU system monitoring.\n"
     ]
    }
   ],
   "source": [
    "with open(f\"../scripts/configs/{config_file}\", \"r\") as f:\n",
    "    user_config = yaml.safe_load(f)\n",
    "# General settings of the algorithm\n",
    "config = deepcopy(DEFAULT_CONFIG)\n",
    "config[\"num_workers\"] = 0\n",
    "config[\"framework\"] = \"torch\"\n",
    "use_communication = user_config.get(\"communication\", False)\n",
    "\n",
    "config[\"horizon\"] = 300\n",
    "config[\"rollout_fragment_length\"] = config[\"horizon\"]\n",
    "config[\"env_config\"] = user_config[\"env_config\"]\n",
    "config[\"train_batch_size\"] = 60_000\n",
    "config[\"sgd_minibatch_size\"] = 10_000\n",
    "config[\"lambda\"] = 0.9\n",
    "config[\"lr\"] = 0.0003\n",
    "\n",
    "\n",
    "nb_msg= 30\n",
    "\n",
    "def policy_mapping_fn(agent_id):\n",
    "    return agent_id\n",
    "\n",
    "\n",
    "config[\"multiagent\"] = {\n",
    "    \"policies\": {\n",
    "        f\"agent_{i}\": PolicySpec(\n",
    "            policy_class=None, observation_space=None, action_space=None\n",
    "        )\n",
    "        for i in range(config[\"env_config\"][\"population_size\"])\n",
    "    },\n",
    "    \"policy_mapping_fn\": policy_mapping_fn,\n",
    "}\n",
    "\n",
    "train_env = environment\n",
    "\n",
    "ModelCatalog.register_custom_model(\"FullNamingNetwork1Matrix\", FullNamingNetwork1Matrix)\n",
    "number_of_goals = environment(config[\"env_config\"]).goal_space_dim\n",
    "number_of_goals=21\n",
    "config[\"model\"] = {\n",
    "    \"custom_model\": \"FullNamingNetwork1Matrix\",\n",
    "    \"custom_model_config\": {\n",
    "        \"number_of_goals\": number_of_goals,\n",
    "        \"train_matrix\": user_config.get(\"train_matrix\", False),\n",
    "        \"nb_msg\":nb_msg,\n",
    "    },\n",
    "}\n",
    "trainer = FullNamingTrainer1Matrix(\n",
    "    config=config,\n",
    "    env=train_env,\n",
    ")"
   ]
  },
  {
   "cell_type": "markdown",
   "metadata": {},
   "source": [
    "# Inspecting matrices through time"
   ]
  },
  {
   "cell_type": "code",
   "execution_count": 8,
   "metadata": {},
   "outputs": [
    {
     "name": "stdout",
     "output_type": "stream",
     "text": [
      "checkpoint-10\n"
     ]
    },
    {
     "name": "stderr",
     "output_type": "stream",
     "text": [
      "2022-10-28 20:14:00,251\tINFO trainable.py:588 -- Restored on 193.50.110.54 from checkpoint: /media/elena/LaCie/aamas_2023/paper/alignment/6_landmarks_reward2/naming_game_30msg_alpha10_temp30/2022-10-26_12-23-36pt_blwdm/checkpoint_000010/checkpoint-10\n",
      "2022-10-28 20:14:00,256\tINFO trainable.py:597 -- Current state after restoring: {'_iteration': 10, '_timesteps_total': None, '_time_total': 562.121476650238, '_episodes_total': 1217}\n"
     ]
    },
    {
     "name": "stdout",
     "output_type": "stream",
     "text": [
      "checkpoint-20\n"
     ]
    },
    {
     "name": "stderr",
     "output_type": "stream",
     "text": [
      "2022-10-28 20:14:01,545\tINFO trainable.py:588 -- Restored on 193.50.110.54 from checkpoint: /media/elena/LaCie/aamas_2023/paper/alignment/6_landmarks_reward2/naming_game_30msg_alpha10_temp30/2022-10-26_12-23-36pt_blwdm/checkpoint_000020/checkpoint-20\n",
      "2022-10-28 20:14:01,545\tINFO trainable.py:597 -- Current state after restoring: {'_iteration': 20, '_timesteps_total': None, '_time_total': 1094.9520466327667, '_episodes_total': 2597}\n",
      "2022-10-28 20:14:01,865\tINFO trainable.py:588 -- Restored on 193.50.110.54 from checkpoint: /media/elena/LaCie/aamas_2023/paper/alignment/6_landmarks_reward2/naming_game_30msg_alpha10_temp30/2022-10-26_12-23-36pt_blwdm/checkpoint_000030/checkpoint-30\n",
      "2022-10-28 20:14:01,867\tINFO trainable.py:597 -- Current state after restoring: {'_iteration': 30, '_timesteps_total': None, '_time_total': 1608.771410226822, '_episodes_total': 4066}\n"
     ]
    },
    {
     "name": "stdout",
     "output_type": "stream",
     "text": [
      "checkpoint-30\n"
     ]
    },
    {
     "name": "stderr",
     "output_type": "stream",
     "text": [
      "2022-10-28 20:14:02,249\tINFO trainable.py:588 -- Restored on 193.50.110.54 from checkpoint: /media/elena/LaCie/aamas_2023/paper/alignment/6_landmarks_reward2/naming_game_30msg_alpha10_temp30/2022-10-26_12-23-36pt_blwdm/checkpoint_000040/checkpoint-40\n",
      "2022-10-28 20:14:02,250\tINFO trainable.py:597 -- Current state after restoring: {'_iteration': 40, '_timesteps_total': None, '_time_total': 2115.4443774223328, '_episodes_total': 5659}\n"
     ]
    },
    {
     "name": "stdout",
     "output_type": "stream",
     "text": [
      "checkpoint-40\n"
     ]
    },
    {
     "name": "stderr",
     "output_type": "stream",
     "text": [
      "2022-10-28 20:14:02,732\tINFO trainable.py:588 -- Restored on 193.50.110.54 from checkpoint: /media/elena/LaCie/aamas_2023/paper/alignment/6_landmarks_reward2/naming_game_30msg_alpha10_temp30/2022-10-26_12-23-36pt_blwdm/checkpoint_000050/checkpoint-50\n",
      "2022-10-28 20:14:02,733\tINFO trainable.py:597 -- Current state after restoring: {'_iteration': 50, '_timesteps_total': None, '_time_total': 2600.420538187027, '_episodes_total': 7486}\n"
     ]
    },
    {
     "name": "stdout",
     "output_type": "stream",
     "text": [
      "checkpoint-50\n"
     ]
    },
    {
     "name": "stderr",
     "output_type": "stream",
     "text": [
      "2022-10-28 20:14:03,073\tINFO trainable.py:588 -- Restored on 193.50.110.54 from checkpoint: /media/elena/LaCie/aamas_2023/paper/alignment/6_landmarks_reward2/naming_game_30msg_alpha10_temp30/2022-10-26_12-23-36pt_blwdm/checkpoint_000060/checkpoint-60\n",
      "2022-10-28 20:14:03,074\tINFO trainable.py:597 -- Current state after restoring: {'_iteration': 60, '_timesteps_total': None, '_time_total': 3085.9619402885437, '_episodes_total': 9626}\n"
     ]
    },
    {
     "name": "stdout",
     "output_type": "stream",
     "text": [
      "checkpoint-60\n"
     ]
    },
    {
     "name": "stderr",
     "output_type": "stream",
     "text": [
      "2022-10-28 20:14:03,480\tINFO trainable.py:588 -- Restored on 193.50.110.54 from checkpoint: /media/elena/LaCie/aamas_2023/paper/alignment/6_landmarks_reward2/naming_game_30msg_alpha10_temp30/2022-10-26_12-23-36pt_blwdm/checkpoint_000070/checkpoint-70\n",
      "2022-10-28 20:14:03,482\tINFO trainable.py:597 -- Current state after restoring: {'_iteration': 70, '_timesteps_total': None, '_time_total': 3563.3611867427826, '_episodes_total': 11905}\n"
     ]
    },
    {
     "name": "stdout",
     "output_type": "stream",
     "text": [
      "checkpoint-70\n"
     ]
    },
    {
     "name": "stderr",
     "output_type": "stream",
     "text": [
      "2022-10-28 20:14:03,856\tINFO trainable.py:588 -- Restored on 193.50.110.54 from checkpoint: /media/elena/LaCie/aamas_2023/paper/alignment/6_landmarks_reward2/naming_game_30msg_alpha10_temp30/2022-10-26_12-23-36pt_blwdm/checkpoint_000080/checkpoint-80\n",
      "2022-10-28 20:14:03,857\tINFO trainable.py:597 -- Current state after restoring: {'_iteration': 80, '_timesteps_total': None, '_time_total': 4036.6916766166687, '_episodes_total': 14877}\n"
     ]
    },
    {
     "name": "stdout",
     "output_type": "stream",
     "text": [
      "checkpoint-80\n"
     ]
    },
    {
     "name": "stderr",
     "output_type": "stream",
     "text": [
      "2022-10-28 20:14:04,178\tINFO trainable.py:588 -- Restored on 193.50.110.54 from checkpoint: /media/elena/LaCie/aamas_2023/paper/alignment/6_landmarks_reward2/naming_game_30msg_alpha10_temp30/2022-10-26_12-23-36pt_blwdm/checkpoint_000090/checkpoint-90\n",
      "2022-10-28 20:14:04,180\tINFO trainable.py:597 -- Current state after restoring: {'_iteration': 90, '_timesteps_total': None, '_time_total': 4511.156648874283, '_episodes_total': 18147}\n"
     ]
    },
    {
     "name": "stdout",
     "output_type": "stream",
     "text": [
      "checkpoint-90\n"
     ]
    },
    {
     "name": "stderr",
     "output_type": "stream",
     "text": [
      "2022-10-28 20:14:04,540\tINFO trainable.py:588 -- Restored on 193.50.110.54 from checkpoint: /media/elena/LaCie/aamas_2023/paper/alignment/6_landmarks_reward2/naming_game_30msg_alpha10_temp30/2022-10-26_12-23-36pt_blwdm/checkpoint_000100/checkpoint-100\n",
      "2022-10-28 20:14:04,541\tINFO trainable.py:597 -- Current state after restoring: {'_iteration': 100, '_timesteps_total': None, '_time_total': 4982.300450563431, '_episodes_total': 21795}\n"
     ]
    },
    {
     "name": "stdout",
     "output_type": "stream",
     "text": [
      "checkpoint-100\n"
     ]
    },
    {
     "name": "stderr",
     "output_type": "stream",
     "text": [
      "2022-10-28 20:14:04,857\tINFO trainable.py:588 -- Restored on 193.50.110.54 from checkpoint: /media/elena/LaCie/aamas_2023/paper/alignment/6_landmarks_reward2/naming_game_30msg_alpha10_temp30/2022-10-26_12-23-36pt_blwdm/checkpoint_000110/checkpoint-110\n",
      "2022-10-28 20:14:04,858\tINFO trainable.py:597 -- Current state after restoring: {'_iteration': 110, '_timesteps_total': None, '_time_total': 5439.09401011467, '_episodes_total': 25454}\n"
     ]
    },
    {
     "name": "stdout",
     "output_type": "stream",
     "text": [
      "checkpoint-110\n"
     ]
    },
    {
     "name": "stderr",
     "output_type": "stream",
     "text": [
      "2022-10-28 20:14:05,337\tINFO trainable.py:588 -- Restored on 193.50.110.54 from checkpoint: /media/elena/LaCie/aamas_2023/paper/alignment/6_landmarks_reward2/naming_game_30msg_alpha10_temp30/2022-10-26_12-23-36pt_blwdm/checkpoint_000120/checkpoint-120\n",
      "2022-10-28 20:14:05,338\tINFO trainable.py:597 -- Current state after restoring: {'_iteration': 120, '_timesteps_total': None, '_time_total': 5914.77533364296, '_episodes_total': 29105}\n"
     ]
    },
    {
     "name": "stdout",
     "output_type": "stream",
     "text": [
      "checkpoint-120\n"
     ]
    },
    {
     "name": "stderr",
     "output_type": "stream",
     "text": [
      "2022-10-28 20:14:05,638\tINFO trainable.py:588 -- Restored on 193.50.110.54 from checkpoint: /media/elena/LaCie/aamas_2023/paper/alignment/6_landmarks_reward2/naming_game_30msg_alpha10_temp30/2022-10-26_12-23-36pt_blwdm/checkpoint_000130/checkpoint-130\n",
      "2022-10-28 20:14:05,639\tINFO trainable.py:597 -- Current state after restoring: {'_iteration': 130, '_timesteps_total': None, '_time_total': 6406.772386550903, '_episodes_total': 33122}\n"
     ]
    },
    {
     "name": "stdout",
     "output_type": "stream",
     "text": [
      "checkpoint-130\n"
     ]
    },
    {
     "name": "stderr",
     "output_type": "stream",
     "text": [
      "2022-10-28 20:14:05,954\tINFO trainable.py:588 -- Restored on 193.50.110.54 from checkpoint: /media/elena/LaCie/aamas_2023/paper/alignment/6_landmarks_reward2/naming_game_30msg_alpha10_temp30/2022-10-26_12-23-36pt_blwdm/checkpoint_000140/checkpoint-140\n",
      "2022-10-28 20:14:05,955\tINFO trainable.py:597 -- Current state after restoring: {'_iteration': 140, '_timesteps_total': None, '_time_total': 6881.6494307518005, '_episodes_total': 37238}\n"
     ]
    },
    {
     "name": "stdout",
     "output_type": "stream",
     "text": [
      "checkpoint-140\n"
     ]
    },
    {
     "name": "stderr",
     "output_type": "stream",
     "text": [
      "2022-10-28 20:14:06,286\tINFO trainable.py:588 -- Restored on 193.50.110.54 from checkpoint: /media/elena/LaCie/aamas_2023/paper/alignment/6_landmarks_reward2/naming_game_30msg_alpha10_temp30/2022-10-26_12-23-36pt_blwdm/checkpoint_000150/checkpoint-150\n",
      "2022-10-28 20:14:06,288\tINFO trainable.py:597 -- Current state after restoring: {'_iteration': 150, '_timesteps_total': None, '_time_total': 7349.421119213104, '_episodes_total': 41312}\n"
     ]
    },
    {
     "name": "stdout",
     "output_type": "stream",
     "text": [
      "checkpoint-150\n"
     ]
    },
    {
     "name": "stderr",
     "output_type": "stream",
     "text": [
      "2022-10-28 20:14:06,713\tINFO trainable.py:588 -- Restored on 193.50.110.54 from checkpoint: /media/elena/LaCie/aamas_2023/paper/alignment/6_landmarks_reward2/naming_game_30msg_alpha10_temp30/2022-10-26_12-23-36pt_blwdm/checkpoint_000160/checkpoint-160\n",
      "2022-10-28 20:14:06,714\tINFO trainable.py:597 -- Current state after restoring: {'_iteration': 160, '_timesteps_total': None, '_time_total': 7784.809336423874, '_episodes_total': 45185}\n"
     ]
    },
    {
     "name": "stdout",
     "output_type": "stream",
     "text": [
      "checkpoint-160\n"
     ]
    },
    {
     "name": "stderr",
     "output_type": "stream",
     "text": [
      "2022-10-28 20:14:07,057\tINFO trainable.py:588 -- Restored on 193.50.110.54 from checkpoint: /media/elena/LaCie/aamas_2023/paper/alignment/6_landmarks_reward2/naming_game_30msg_alpha10_temp30/2022-10-26_12-23-36pt_blwdm/checkpoint_000170/checkpoint-170\n",
      "2022-10-28 20:14:07,058\tINFO trainable.py:597 -- Current state after restoring: {'_iteration': 170, '_timesteps_total': None, '_time_total': 8218.5693089962, '_episodes_total': 49706}\n"
     ]
    },
    {
     "name": "stdout",
     "output_type": "stream",
     "text": [
      "checkpoint-170\n"
     ]
    },
    {
     "name": "stderr",
     "output_type": "stream",
     "text": [
      "2022-10-28 20:14:07,347\tINFO trainable.py:588 -- Restored on 193.50.110.54 from checkpoint: /media/elena/LaCie/aamas_2023/paper/alignment/6_landmarks_reward2/naming_game_30msg_alpha10_temp30/2022-10-26_12-23-36pt_blwdm/checkpoint_000180/checkpoint-180\n",
      "2022-10-28 20:14:07,348\tINFO trainable.py:597 -- Current state after restoring: {'_iteration': 180, '_timesteps_total': None, '_time_total': 8653.119589090347, '_episodes_total': 54955}\n"
     ]
    },
    {
     "name": "stdout",
     "output_type": "stream",
     "text": [
      "checkpoint-180\n"
     ]
    },
    {
     "name": "stderr",
     "output_type": "stream",
     "text": [
      "2022-10-28 20:14:07,667\tINFO trainable.py:588 -- Restored on 193.50.110.54 from checkpoint: /media/elena/LaCie/aamas_2023/paper/alignment/6_landmarks_reward2/naming_game_30msg_alpha10_temp30/2022-10-26_12-23-36pt_blwdm/checkpoint_000190/checkpoint-190\n",
      "2022-10-28 20:14:07,668\tINFO trainable.py:597 -- Current state after restoring: {'_iteration': 190, '_timesteps_total': None, '_time_total': 9082.835369110107, '_episodes_total': 60230}\n"
     ]
    },
    {
     "name": "stdout",
     "output_type": "stream",
     "text": [
      "checkpoint-190\n"
     ]
    },
    {
     "name": "stderr",
     "output_type": "stream",
     "text": [
      "2022-10-28 20:14:08,037\tINFO trainable.py:588 -- Restored on 193.50.110.54 from checkpoint: /media/elena/LaCie/aamas_2023/paper/alignment/6_landmarks_reward2/naming_game_30msg_alpha10_temp30/2022-10-26_12-23-36pt_blwdm/checkpoint_000200/checkpoint-200\n",
      "2022-10-28 20:14:08,037\tINFO trainable.py:597 -- Current state after restoring: {'_iteration': 200, '_timesteps_total': None, '_time_total': 9502.410031795502, '_episodes_total': 65137}\n"
     ]
    },
    {
     "name": "stdout",
     "output_type": "stream",
     "text": [
      "checkpoint-200\n"
     ]
    },
    {
     "name": "stderr",
     "output_type": "stream",
     "text": [
      "2022-10-28 20:14:08,367\tINFO trainable.py:588 -- Restored on 193.50.110.54 from checkpoint: /media/elena/LaCie/aamas_2023/paper/alignment/6_landmarks_reward2/naming_game_30msg_alpha10_temp30/2022-10-26_12-23-36pt_blwdm/checkpoint_000210/checkpoint-210\n",
      "2022-10-28 20:14:08,368\tINFO trainable.py:597 -- Current state after restoring: {'_iteration': 210, '_timesteps_total': None, '_time_total': 9926.601670742035, '_episodes_total': 70549}\n"
     ]
    },
    {
     "name": "stdout",
     "output_type": "stream",
     "text": [
      "checkpoint-210\n"
     ]
    },
    {
     "name": "stderr",
     "output_type": "stream",
     "text": [
      "2022-10-28 20:14:08,873\tINFO trainable.py:588 -- Restored on 193.50.110.54 from checkpoint: /media/elena/LaCie/aamas_2023/paper/alignment/6_landmarks_reward2/naming_game_30msg_alpha10_temp30/2022-10-26_12-23-36pt_blwdm/checkpoint_000220/checkpoint-220\n",
      "2022-10-28 20:14:08,873\tINFO trainable.py:597 -- Current state after restoring: {'_iteration': 220, '_timesteps_total': None, '_time_total': 10343.96875500679, '_episodes_total': 75922}\n"
     ]
    },
    {
     "name": "stdout",
     "output_type": "stream",
     "text": [
      "checkpoint-220\n"
     ]
    },
    {
     "name": "stderr",
     "output_type": "stream",
     "text": [
      "2022-10-28 20:14:09,177\tINFO trainable.py:588 -- Restored on 193.50.110.54 from checkpoint: /media/elena/LaCie/aamas_2023/paper/alignment/6_landmarks_reward2/naming_game_30msg_alpha10_temp30/2022-10-26_12-23-36pt_blwdm/checkpoint_000230/checkpoint-230\n",
      "2022-10-28 20:14:09,177\tINFO trainable.py:597 -- Current state after restoring: {'_iteration': 230, '_timesteps_total': None, '_time_total': 10756.82982826233, '_episodes_total': 81137}\n"
     ]
    },
    {
     "name": "stdout",
     "output_type": "stream",
     "text": [
      "checkpoint-230\n"
     ]
    },
    {
     "name": "stderr",
     "output_type": "stream",
     "text": [
      "2022-10-28 20:14:09,531\tINFO trainable.py:588 -- Restored on 193.50.110.54 from checkpoint: /media/elena/LaCie/aamas_2023/paper/alignment/6_landmarks_reward2/naming_game_30msg_alpha10_temp30/2022-10-26_12-23-36pt_blwdm/checkpoint_000240/checkpoint-240\n",
      "2022-10-28 20:14:09,532\tINFO trainable.py:597 -- Current state after restoring: {'_iteration': 240, '_timesteps_total': None, '_time_total': 11194.049307823181, '_episodes_total': 86164}\n"
     ]
    },
    {
     "name": "stdout",
     "output_type": "stream",
     "text": [
      "checkpoint-240\n"
     ]
    },
    {
     "name": "stderr",
     "output_type": "stream",
     "text": [
      "2022-10-28 20:14:09,915\tINFO trainable.py:588 -- Restored on 193.50.110.54 from checkpoint: /media/elena/LaCie/aamas_2023/paper/alignment/6_landmarks_reward2/naming_game_30msg_alpha10_temp30/2022-10-26_12-23-36pt_blwdm/checkpoint_000250/checkpoint-250\n",
      "2022-10-28 20:14:09,916\tINFO trainable.py:597 -- Current state after restoring: {'_iteration': 250, '_timesteps_total': None, '_time_total': 11620.094363212585, '_episodes_total': 91404}\n"
     ]
    },
    {
     "name": "stdout",
     "output_type": "stream",
     "text": [
      "checkpoint-250\n"
     ]
    },
    {
     "name": "stderr",
     "output_type": "stream",
     "text": [
      "2022-10-28 20:14:10,266\tINFO trainable.py:588 -- Restored on 193.50.110.54 from checkpoint: /media/elena/LaCie/aamas_2023/paper/alignment/6_landmarks_reward2/naming_game_30msg_alpha10_temp30/2022-10-26_12-23-36pt_blwdm/checkpoint_000260/checkpoint-260\n",
      "2022-10-28 20:14:10,268\tINFO trainable.py:597 -- Current state after restoring: {'_iteration': 260, '_timesteps_total': None, '_time_total': 12053.990909814835, '_episodes_total': 96681}\n"
     ]
    },
    {
     "name": "stdout",
     "output_type": "stream",
     "text": [
      "checkpoint-260\n"
     ]
    },
    {
     "name": "stderr",
     "output_type": "stream",
     "text": [
      "2022-10-28 20:14:10,632\tINFO trainable.py:588 -- Restored on 193.50.110.54 from checkpoint: /media/elena/LaCie/aamas_2023/paper/alignment/6_landmarks_reward2/naming_game_30msg_alpha10_temp30/2022-10-26_12-23-36pt_blwdm/checkpoint_000270/checkpoint-270\n",
      "2022-10-28 20:14:10,633\tINFO trainable.py:597 -- Current state after restoring: {'_iteration': 270, '_timesteps_total': None, '_time_total': 12498.38443851471, '_episodes_total': 102698}\n"
     ]
    },
    {
     "name": "stdout",
     "output_type": "stream",
     "text": [
      "checkpoint-270\n"
     ]
    },
    {
     "name": "stderr",
     "output_type": "stream",
     "text": [
      "2022-10-28 20:14:10,995\tINFO trainable.py:588 -- Restored on 193.50.110.54 from checkpoint: /media/elena/LaCie/aamas_2023/paper/alignment/6_landmarks_reward2/naming_game_30msg_alpha10_temp30/2022-10-26_12-23-36pt_blwdm/checkpoint_000280/checkpoint-280\n",
      "2022-10-28 20:14:10,996\tINFO trainable.py:597 -- Current state after restoring: {'_iteration': 280, '_timesteps_total': None, '_time_total': 12935.342216730118, '_episodes_total': 108529}\n"
     ]
    },
    {
     "name": "stdout",
     "output_type": "stream",
     "text": [
      "checkpoint-280\n"
     ]
    },
    {
     "name": "stderr",
     "output_type": "stream",
     "text": [
      "2022-10-28 20:14:11,395\tINFO trainable.py:588 -- Restored on 193.50.110.54 from checkpoint: /media/elena/LaCie/aamas_2023/paper/alignment/6_landmarks_reward2/naming_game_30msg_alpha10_temp30/2022-10-26_12-23-36pt_blwdm/checkpoint_000290/checkpoint-290\n",
      "2022-10-28 20:14:11,397\tINFO trainable.py:597 -- Current state after restoring: {'_iteration': 290, '_timesteps_total': None, '_time_total': 13380.83837223053, '_episodes_total': 114338}\n"
     ]
    },
    {
     "name": "stdout",
     "output_type": "stream",
     "text": [
      "checkpoint-290\n"
     ]
    },
    {
     "name": "stderr",
     "output_type": "stream",
     "text": [
      "2022-10-28 20:14:11,785\tINFO trainable.py:588 -- Restored on 193.50.110.54 from checkpoint: /media/elena/LaCie/aamas_2023/paper/alignment/6_landmarks_reward2/naming_game_30msg_alpha10_temp30/2022-10-26_12-23-36pt_blwdm/checkpoint_000300/checkpoint-300\n",
      "2022-10-28 20:14:11,786\tINFO trainable.py:597 -- Current state after restoring: {'_iteration': 300, '_timesteps_total': None, '_time_total': 13824.827579021454, '_episodes_total': 120284}\n"
     ]
    },
    {
     "name": "stdout",
     "output_type": "stream",
     "text": [
      "checkpoint-300\n"
     ]
    },
    {
     "name": "stderr",
     "output_type": "stream",
     "text": [
      "2022-10-28 20:14:12,117\tINFO trainable.py:588 -- Restored on 193.50.110.54 from checkpoint: /media/elena/LaCie/aamas_2023/paper/alignment/6_landmarks_reward2/naming_game_30msg_alpha10_temp30/2022-10-26_12-23-36pt_blwdm/checkpoint_000310/checkpoint-310\n",
      "2022-10-28 20:14:12,118\tINFO trainable.py:597 -- Current state after restoring: {'_iteration': 310, '_timesteps_total': None, '_time_total': 14291.235612630844, '_episodes_total': 126584}\n"
     ]
    },
    {
     "name": "stdout",
     "output_type": "stream",
     "text": [
      "checkpoint-310\n"
     ]
    },
    {
     "name": "stderr",
     "output_type": "stream",
     "text": [
      "2022-10-28 20:14:12,673\tINFO trainable.py:588 -- Restored on 193.50.110.54 from checkpoint: /media/elena/LaCie/aamas_2023/paper/alignment/6_landmarks_reward2/naming_game_30msg_alpha10_temp30/2022-10-26_12-23-36pt_blwdm/checkpoint_000320/checkpoint-320\n",
      "2022-10-28 20:14:12,675\tINFO trainable.py:597 -- Current state after restoring: {'_iteration': 320, '_timesteps_total': None, '_time_total': 14745.04335474968, '_episodes_total': 132732}\n"
     ]
    },
    {
     "name": "stdout",
     "output_type": "stream",
     "text": [
      "checkpoint-320\n"
     ]
    },
    {
     "name": "stderr",
     "output_type": "stream",
     "text": [
      "2022-10-28 20:14:12,961\tINFO trainable.py:588 -- Restored on 193.50.110.54 from checkpoint: /media/elena/LaCie/aamas_2023/paper/alignment/6_landmarks_reward2/naming_game_30msg_alpha10_temp30/2022-10-26_12-23-36pt_blwdm/checkpoint_000330/checkpoint-330\n",
      "2022-10-28 20:14:12,962\tINFO trainable.py:597 -- Current state after restoring: {'_iteration': 330, '_timesteps_total': None, '_time_total': 15173.285784006119, '_episodes_total': 138970}\n"
     ]
    },
    {
     "name": "stdout",
     "output_type": "stream",
     "text": [
      "checkpoint-330\n"
     ]
    },
    {
     "name": "stderr",
     "output_type": "stream",
     "text": [
      "2022-10-28 20:14:13,381\tINFO trainable.py:588 -- Restored on 193.50.110.54 from checkpoint: /media/elena/LaCie/aamas_2023/paper/alignment/6_landmarks_reward2/naming_game_30msg_alpha10_temp30/2022-10-26_12-23-36pt_blwdm/checkpoint_000340/checkpoint-340\n",
      "2022-10-28 20:14:13,382\tINFO trainable.py:597 -- Current state after restoring: {'_iteration': 340, '_timesteps_total': None, '_time_total': 15594.757323980331, '_episodes_total': 145226}\n"
     ]
    },
    {
     "name": "stdout",
     "output_type": "stream",
     "text": [
      "checkpoint-340\n"
     ]
    },
    {
     "name": "stderr",
     "output_type": "stream",
     "text": [
      "2022-10-28 20:14:13,905\tINFO trainable.py:588 -- Restored on 193.50.110.54 from checkpoint: /media/elena/LaCie/aamas_2023/paper/alignment/6_landmarks_reward2/naming_game_30msg_alpha10_temp30/2022-10-26_12-23-36pt_blwdm/checkpoint_000350/checkpoint-350\n",
      "2022-10-28 20:14:13,906\tINFO trainable.py:597 -- Current state after restoring: {'_iteration': 350, '_timesteps_total': None, '_time_total': 16015.982122182846, '_episodes_total': 151099}\n"
     ]
    },
    {
     "name": "stdout",
     "output_type": "stream",
     "text": [
      "checkpoint-350\n"
     ]
    },
    {
     "name": "stderr",
     "output_type": "stream",
     "text": [
      "2022-10-28 20:14:14,416\tINFO trainable.py:588 -- Restored on 193.50.110.54 from checkpoint: /media/elena/LaCie/aamas_2023/paper/alignment/6_landmarks_reward2/naming_game_30msg_alpha10_temp30/2022-10-26_12-23-36pt_blwdm/checkpoint_000360/checkpoint-360\n",
      "2022-10-28 20:14:14,420\tINFO trainable.py:597 -- Current state after restoring: {'_iteration': 360, '_timesteps_total': None, '_time_total': 16426.84485554695, '_episodes_total': 156828}\n"
     ]
    },
    {
     "name": "stdout",
     "output_type": "stream",
     "text": [
      "checkpoint-360\n"
     ]
    },
    {
     "name": "stderr",
     "output_type": "stream",
     "text": [
      "2022-10-28 20:14:14,861\tINFO trainable.py:588 -- Restored on 193.50.110.54 from checkpoint: /media/elena/LaCie/aamas_2023/paper/alignment/6_landmarks_reward2/naming_game_30msg_alpha10_temp30/2022-10-26_12-23-36pt_blwdm/checkpoint_000370/checkpoint-370\n",
      "2022-10-28 20:14:14,863\tINFO trainable.py:597 -- Current state after restoring: {'_iteration': 370, '_timesteps_total': None, '_time_total': 16854.964437007904, '_episodes_total': 162562}\n"
     ]
    },
    {
     "name": "stdout",
     "output_type": "stream",
     "text": [
      "checkpoint-370\n"
     ]
    },
    {
     "name": "stderr",
     "output_type": "stream",
     "text": [
      "2022-10-28 20:14:15,229\tINFO trainable.py:588 -- Restored on 193.50.110.54 from checkpoint: /media/elena/LaCie/aamas_2023/paper/alignment/6_landmarks_reward2/naming_game_30msg_alpha10_temp30/2022-10-26_12-23-36pt_blwdm/checkpoint_000380/checkpoint-380\n",
      "2022-10-28 20:14:15,230\tINFO trainable.py:597 -- Current state after restoring: {'_iteration': 380, '_timesteps_total': None, '_time_total': 17293.18014883995, '_episodes_total': 168552}\n"
     ]
    },
    {
     "name": "stdout",
     "output_type": "stream",
     "text": [
      "checkpoint-380\n"
     ]
    },
    {
     "name": "stderr",
     "output_type": "stream",
     "text": [
      "2022-10-28 20:14:15,637\tINFO trainable.py:588 -- Restored on 193.50.110.54 from checkpoint: /media/elena/LaCie/aamas_2023/paper/alignment/6_landmarks_reward2/naming_game_30msg_alpha10_temp30/2022-10-26_12-23-36pt_blwdm/checkpoint_000390/checkpoint-390\n",
      "2022-10-28 20:14:15,638\tINFO trainable.py:597 -- Current state after restoring: {'_iteration': 390, '_timesteps_total': None, '_time_total': 17735.04607772827, '_episodes_total': 174457}\n"
     ]
    },
    {
     "name": "stdout",
     "output_type": "stream",
     "text": [
      "checkpoint-390\n",
      "checkpoint-400\n"
     ]
    },
    {
     "name": "stderr",
     "output_type": "stream",
     "text": [
      "2022-10-28 20:14:16,115\tINFO trainable.py:588 -- Restored on 193.50.110.54 from checkpoint: /media/elena/LaCie/aamas_2023/paper/alignment/6_landmarks_reward2/naming_game_30msg_alpha10_temp30/2022-10-26_12-23-36pt_blwdm/checkpoint_000400/checkpoint-400\n",
      "2022-10-28 20:14:16,116\tINFO trainable.py:597 -- Current state after restoring: {'_iteration': 400, '_timesteps_total': None, '_time_total': 18159.481841802597, '_episodes_total': 180604}\n",
      "2022-10-28 20:14:16,444\tINFO trainable.py:588 -- Restored on 193.50.110.54 from checkpoint: /media/elena/LaCie/aamas_2023/paper/alignment/6_landmarks_reward2/naming_game_30msg_alpha10_temp30/2022-10-26_12-23-36pt_blwdm/checkpoint_000410/checkpoint-410\n",
      "2022-10-28 20:14:16,445\tINFO trainable.py:597 -- Current state after restoring: {'_iteration': 410, '_timesteps_total': None, '_time_total': 18581.80319094658, '_episodes_total': 186691}\n"
     ]
    },
    {
     "name": "stdout",
     "output_type": "stream",
     "text": [
      "checkpoint-410\n"
     ]
    },
    {
     "name": "stderr",
     "output_type": "stream",
     "text": [
      "2022-10-28 20:14:16,829\tINFO trainable.py:588 -- Restored on 193.50.110.54 from checkpoint: /media/elena/LaCie/aamas_2023/paper/alignment/6_landmarks_reward2/naming_game_30msg_alpha10_temp30/2022-10-26_12-23-36pt_blwdm/checkpoint_000420/checkpoint-420\n",
      "2022-10-28 20:14:16,830\tINFO trainable.py:597 -- Current state after restoring: {'_iteration': 420, '_timesteps_total': None, '_time_total': 19000.709248304367, '_episodes_total': 192717}\n"
     ]
    },
    {
     "name": "stdout",
     "output_type": "stream",
     "text": [
      "checkpoint-420\n"
     ]
    },
    {
     "name": "stderr",
     "output_type": "stream",
     "text": [
      "2022-10-28 20:14:17,136\tINFO trainable.py:588 -- Restored on 193.50.110.54 from checkpoint: /media/elena/LaCie/aamas_2023/paper/alignment/6_landmarks_reward2/naming_game_30msg_alpha10_temp30/2022-10-26_12-23-36pt_blwdm/checkpoint_000430/checkpoint-430\n",
      "2022-10-28 20:14:17,137\tINFO trainable.py:597 -- Current state after restoring: {'_iteration': 430, '_timesteps_total': None, '_time_total': 19418.12465238571, '_episodes_total': 198490}\n"
     ]
    },
    {
     "name": "stdout",
     "output_type": "stream",
     "text": [
      "checkpoint-430\n"
     ]
    },
    {
     "name": "stderr",
     "output_type": "stream",
     "text": [
      "2022-10-28 20:14:17,504\tINFO trainable.py:588 -- Restored on 193.50.110.54 from checkpoint: /media/elena/LaCie/aamas_2023/paper/alignment/6_landmarks_reward2/naming_game_30msg_alpha10_temp30/2022-10-26_12-23-36pt_blwdm/checkpoint_000440/checkpoint-440\n",
      "2022-10-28 20:14:17,504\tINFO trainable.py:597 -- Current state after restoring: {'_iteration': 440, '_timesteps_total': None, '_time_total': 19823.982088804245, '_episodes_total': 204098}\n"
     ]
    },
    {
     "name": "stdout",
     "output_type": "stream",
     "text": [
      "checkpoint-440\n"
     ]
    },
    {
     "name": "stderr",
     "output_type": "stream",
     "text": [
      "2022-10-28 20:14:17,767\tINFO trainable.py:588 -- Restored on 193.50.110.54 from checkpoint: /media/elena/LaCie/aamas_2023/paper/alignment/6_landmarks_reward2/naming_game_30msg_alpha10_temp30/2022-10-26_12-23-36pt_blwdm/checkpoint_000450/checkpoint-450\n",
      "2022-10-28 20:14:17,768\tINFO trainable.py:597 -- Current state after restoring: {'_iteration': 450, '_timesteps_total': None, '_time_total': 20228.18304991722, '_episodes_total': 209700}\n"
     ]
    },
    {
     "name": "stdout",
     "output_type": "stream",
     "text": [
      "checkpoint-450\n"
     ]
    },
    {
     "name": "stderr",
     "output_type": "stream",
     "text": [
      "2022-10-28 20:14:18,088\tINFO trainable.py:588 -- Restored on 193.50.110.54 from checkpoint: /media/elena/LaCie/aamas_2023/paper/alignment/6_landmarks_reward2/naming_game_30msg_alpha10_temp30/2022-10-26_12-23-36pt_blwdm/checkpoint_000460/checkpoint-460\n",
      "2022-10-28 20:14:18,089\tINFO trainable.py:597 -- Current state after restoring: {'_iteration': 460, '_timesteps_total': None, '_time_total': 20635.207371234894, '_episodes_total': 215450}\n"
     ]
    },
    {
     "name": "stdout",
     "output_type": "stream",
     "text": [
      "checkpoint-460\n"
     ]
    },
    {
     "name": "stderr",
     "output_type": "stream",
     "text": [
      "2022-10-28 20:14:18,422\tINFO trainable.py:588 -- Restored on 193.50.110.54 from checkpoint: /media/elena/LaCie/aamas_2023/paper/alignment/6_landmarks_reward2/naming_game_30msg_alpha10_temp30/2022-10-26_12-23-36pt_blwdm/checkpoint_000470/checkpoint-470\n",
      "2022-10-28 20:14:18,422\tINFO trainable.py:597 -- Current state after restoring: {'_iteration': 470, '_timesteps_total': None, '_time_total': 21039.642280340195, '_episodes_total': 221192}\n"
     ]
    },
    {
     "name": "stdout",
     "output_type": "stream",
     "text": [
      "checkpoint-470\n"
     ]
    },
    {
     "name": "stderr",
     "output_type": "stream",
     "text": [
      "2022-10-28 20:14:18,784\tINFO trainable.py:588 -- Restored on 193.50.110.54 from checkpoint: /media/elena/LaCie/aamas_2023/paper/alignment/6_landmarks_reward2/naming_game_30msg_alpha10_temp30/2022-10-26_12-23-36pt_blwdm/checkpoint_000480/checkpoint-480\n",
      "2022-10-28 20:14:18,786\tINFO trainable.py:597 -- Current state after restoring: {'_iteration': 480, '_timesteps_total': None, '_time_total': 21452.029737710953, '_episodes_total': 227111}\n"
     ]
    },
    {
     "name": "stdout",
     "output_type": "stream",
     "text": [
      "checkpoint-480\n"
     ]
    },
    {
     "name": "stderr",
     "output_type": "stream",
     "text": [
      "2022-10-28 20:14:19,154\tINFO trainable.py:588 -- Restored on 193.50.110.54 from checkpoint: /media/elena/LaCie/aamas_2023/paper/alignment/6_landmarks_reward2/naming_game_30msg_alpha10_temp30/2022-10-26_12-23-36pt_blwdm/checkpoint_000490/checkpoint-490\n",
      "2022-10-28 20:14:19,155\tINFO trainable.py:597 -- Current state after restoring: {'_iteration': 490, '_timesteps_total': None, '_time_total': 21867.383573293686, '_episodes_total': 233114}\n"
     ]
    },
    {
     "name": "stdout",
     "output_type": "stream",
     "text": [
      "checkpoint-490\n"
     ]
    },
    {
     "name": "stderr",
     "output_type": "stream",
     "text": [
      "2022-10-28 20:14:19,513\tINFO trainable.py:588 -- Restored on 193.50.110.54 from checkpoint: /media/elena/LaCie/aamas_2023/paper/alignment/6_landmarks_reward2/naming_game_30msg_alpha10_temp30/2022-10-26_12-23-36pt_blwdm/checkpoint_000500/checkpoint-500\n",
      "2022-10-28 20:14:19,514\tINFO trainable.py:597 -- Current state after restoring: {'_iteration': 500, '_timesteps_total': None, '_time_total': 22276.293229818344, '_episodes_total': 238760}\n"
     ]
    },
    {
     "name": "stdout",
     "output_type": "stream",
     "text": [
      "checkpoint-500\n"
     ]
    },
    {
     "name": "stderr",
     "output_type": "stream",
     "text": [
      "2022-10-28 20:14:19,885\tINFO trainable.py:588 -- Restored on 193.50.110.54 from checkpoint: /media/elena/LaCie/aamas_2023/paper/alignment/6_landmarks_reward2/naming_game_30msg_alpha10_temp30/2022-10-26_12-23-36pt_blwdm/checkpoint_000510/checkpoint-510\n",
      "2022-10-28 20:14:19,886\tINFO trainable.py:597 -- Current state after restoring: {'_iteration': 510, '_timesteps_total': None, '_time_total': 22684.79279780388, '_episodes_total': 244366}\n"
     ]
    },
    {
     "name": "stdout",
     "output_type": "stream",
     "text": [
      "checkpoint-510\n"
     ]
    },
    {
     "name": "stderr",
     "output_type": "stream",
     "text": [
      "2022-10-28 20:14:20,254\tINFO trainable.py:588 -- Restored on 193.50.110.54 from checkpoint: /media/elena/LaCie/aamas_2023/paper/alignment/6_landmarks_reward2/naming_game_30msg_alpha10_temp30/2022-10-26_12-23-36pt_blwdm/checkpoint_000520/checkpoint-520\n",
      "2022-10-28 20:14:20,255\tINFO trainable.py:597 -- Current state after restoring: {'_iteration': 520, '_timesteps_total': None, '_time_total': 23102.513276338577, '_episodes_total': 249787}\n"
     ]
    },
    {
     "name": "stdout",
     "output_type": "stream",
     "text": [
      "checkpoint-520\n"
     ]
    },
    {
     "name": "stderr",
     "output_type": "stream",
     "text": [
      "2022-10-28 20:14:20,619\tINFO trainable.py:588 -- Restored on 193.50.110.54 from checkpoint: /media/elena/LaCie/aamas_2023/paper/alignment/6_landmarks_reward2/naming_game_30msg_alpha10_temp30/2022-10-26_12-23-36pt_blwdm/checkpoint_000530/checkpoint-530\n",
      "2022-10-28 20:14:20,621\tINFO trainable.py:597 -- Current state after restoring: {'_iteration': 530, '_timesteps_total': None, '_time_total': 23515.533206939697, '_episodes_total': 255297}\n"
     ]
    },
    {
     "name": "stdout",
     "output_type": "stream",
     "text": [
      "checkpoint-530\n"
     ]
    },
    {
     "name": "stderr",
     "output_type": "stream",
     "text": [
      "2022-10-28 20:14:21,128\tINFO trainable.py:588 -- Restored on 193.50.110.54 from checkpoint: /media/elena/LaCie/aamas_2023/paper/alignment/6_landmarks_reward2/naming_game_30msg_alpha10_temp30/2022-10-26_12-23-36pt_blwdm/checkpoint_000540/checkpoint-540\n",
      "2022-10-28 20:14:21,130\tINFO trainable.py:597 -- Current state after restoring: {'_iteration': 540, '_timesteps_total': None, '_time_total': 23930.743162870407, '_episodes_total': 260781}\n"
     ]
    },
    {
     "name": "stdout",
     "output_type": "stream",
     "text": [
      "checkpoint-540\n"
     ]
    },
    {
     "name": "stderr",
     "output_type": "stream",
     "text": [
      "2022-10-28 20:14:21,529\tINFO trainable.py:588 -- Restored on 193.50.110.54 from checkpoint: /media/elena/LaCie/aamas_2023/paper/alignment/6_landmarks_reward2/naming_game_30msg_alpha10_temp30/2022-10-26_12-23-36pt_blwdm/checkpoint_000550/checkpoint-550\n",
      "2022-10-28 20:14:21,530\tINFO trainable.py:597 -- Current state after restoring: {'_iteration': 550, '_timesteps_total': None, '_time_total': 24347.989007472992, '_episodes_total': 267217}\n"
     ]
    },
    {
     "name": "stdout",
     "output_type": "stream",
     "text": [
      "checkpoint-550\n"
     ]
    },
    {
     "name": "stderr",
     "output_type": "stream",
     "text": [
      "2022-10-28 20:14:21,899\tINFO trainable.py:588 -- Restored on 193.50.110.54 from checkpoint: /media/elena/LaCie/aamas_2023/paper/alignment/6_landmarks_reward2/naming_game_30msg_alpha10_temp30/2022-10-26_12-23-36pt_blwdm/checkpoint_000560/checkpoint-560\n",
      "2022-10-28 20:14:21,899\tINFO trainable.py:597 -- Current state after restoring: {'_iteration': 560, '_timesteps_total': None, '_time_total': 24773.495509386063, '_episodes_total': 274593}\n"
     ]
    },
    {
     "name": "stdout",
     "output_type": "stream",
     "text": [
      "checkpoint-560\n",
      "checkpoint-570\n"
     ]
    },
    {
     "name": "stderr",
     "output_type": "stream",
     "text": [
      "2022-10-28 20:14:22,967\tINFO trainable.py:588 -- Restored on 193.50.110.54 from checkpoint: /media/elena/LaCie/aamas_2023/paper/alignment/6_landmarks_reward2/naming_game_30msg_alpha10_temp30/2022-10-26_12-23-36pt_blwdm/checkpoint_000570/checkpoint-570\n",
      "2022-10-28 20:14:22,968\tINFO trainable.py:597 -- Current state after restoring: {'_iteration': 570, '_timesteps_total': None, '_time_total': 25198.427007198334, '_episodes_total': 282035}\n"
     ]
    },
    {
     "name": "stdout",
     "output_type": "stream",
     "text": [
      "checkpoint-580\n"
     ]
    },
    {
     "name": "stderr",
     "output_type": "stream",
     "text": [
      "2022-10-28 20:14:23,731\tINFO trainable.py:588 -- Restored on 193.50.110.54 from checkpoint: /media/elena/LaCie/aamas_2023/paper/alignment/6_landmarks_reward2/naming_game_30msg_alpha10_temp30/2022-10-26_12-23-36pt_blwdm/checkpoint_000580/checkpoint-580\n",
      "2022-10-28 20:14:23,733\tINFO trainable.py:597 -- Current state after restoring: {'_iteration': 580, '_timesteps_total': None, '_time_total': 25635.402944087982, '_episodes_total': 290236}\n"
     ]
    },
    {
     "name": "stdout",
     "output_type": "stream",
     "text": [
      "checkpoint-590\n"
     ]
    },
    {
     "name": "stderr",
     "output_type": "stream",
     "text": [
      "2022-10-28 20:14:24,392\tINFO trainable.py:588 -- Restored on 193.50.110.54 from checkpoint: /media/elena/LaCie/aamas_2023/paper/alignment/6_landmarks_reward2/naming_game_30msg_alpha10_temp30/2022-10-26_12-23-36pt_blwdm/checkpoint_000590/checkpoint-590\n",
      "2022-10-28 20:14:24,394\tINFO trainable.py:597 -- Current state after restoring: {'_iteration': 590, '_timesteps_total': None, '_time_total': 26082.3011367321, '_episodes_total': 298895}\n",
      "2022-10-28 20:14:24,795\tINFO trainable.py:588 -- Restored on 193.50.110.54 from checkpoint: /media/elena/LaCie/aamas_2023/paper/alignment/6_landmarks_reward2/naming_game_30msg_alpha10_temp30/2022-10-26_12-23-36pt_blwdm/checkpoint_000600/checkpoint-600\n",
      "2022-10-28 20:14:24,797\tINFO trainable.py:597 -- Current state after restoring: {'_iteration': 600, '_timesteps_total': None, '_time_total': 26537.76534819603, '_episodes_total': 307766}\n"
     ]
    },
    {
     "name": "stdout",
     "output_type": "stream",
     "text": [
      "checkpoint-600\n"
     ]
    },
    {
     "name": "stderr",
     "output_type": "stream",
     "text": [
      "2022-10-28 20:14:25,187\tINFO trainable.py:588 -- Restored on 193.50.110.54 from checkpoint: /media/elena/LaCie/aamas_2023/paper/alignment/6_landmarks_reward2/naming_game_30msg_alpha10_temp30/2022-10-26_12-23-36pt_blwdm/checkpoint_000610/checkpoint-610\n",
      "2022-10-28 20:14:25,189\tINFO trainable.py:597 -- Current state after restoring: {'_iteration': 610, '_timesteps_total': None, '_time_total': 26983.659063339233, '_episodes_total': 316752}\n"
     ]
    },
    {
     "name": "stdout",
     "output_type": "stream",
     "text": [
      "checkpoint-610\n"
     ]
    },
    {
     "name": "stderr",
     "output_type": "stream",
     "text": [
      "2022-10-28 20:14:25,517\tINFO trainable.py:588 -- Restored on 193.50.110.54 from checkpoint: /media/elena/LaCie/aamas_2023/paper/alignment/6_landmarks_reward2/naming_game_30msg_alpha10_temp30/2022-10-26_12-23-36pt_blwdm/checkpoint_000620/checkpoint-620\n",
      "2022-10-28 20:14:25,518\tINFO trainable.py:597 -- Current state after restoring: {'_iteration': 620, '_timesteps_total': None, '_time_total': 27435.88044166565, '_episodes_total': 325937}\n"
     ]
    },
    {
     "name": "stdout",
     "output_type": "stream",
     "text": [
      "checkpoint-620\n"
     ]
    },
    {
     "name": "stderr",
     "output_type": "stream",
     "text": [
      "2022-10-28 20:14:25,851\tINFO trainable.py:588 -- Restored on 193.50.110.54 from checkpoint: /media/elena/LaCie/aamas_2023/paper/alignment/6_landmarks_reward2/naming_game_30msg_alpha10_temp30/2022-10-26_12-23-36pt_blwdm/checkpoint_000630/checkpoint-630\n",
      "2022-10-28 20:14:25,852\tINFO trainable.py:597 -- Current state after restoring: {'_iteration': 630, '_timesteps_total': None, '_time_total': 27883.091509342194, '_episodes_total': 335022}\n"
     ]
    },
    {
     "name": "stdout",
     "output_type": "stream",
     "text": [
      "checkpoint-630\n"
     ]
    },
    {
     "name": "stderr",
     "output_type": "stream",
     "text": [
      "2022-10-28 20:14:26,229\tINFO trainable.py:588 -- Restored on 193.50.110.54 from checkpoint: /media/elena/LaCie/aamas_2023/paper/alignment/6_landmarks_reward2/naming_game_30msg_alpha10_temp30/2022-10-26_12-23-36pt_blwdm/checkpoint_000640/checkpoint-640\n",
      "2022-10-28 20:14:26,230\tINFO trainable.py:597 -- Current state after restoring: {'_iteration': 640, '_timesteps_total': None, '_time_total': 28304.330394268036, '_episodes_total': 342827}\n"
     ]
    },
    {
     "name": "stdout",
     "output_type": "stream",
     "text": [
      "checkpoint-640\n"
     ]
    },
    {
     "name": "stderr",
     "output_type": "stream",
     "text": [
      "2022-10-28 20:14:26,629\tINFO trainable.py:588 -- Restored on 193.50.110.54 from checkpoint: /media/elena/LaCie/aamas_2023/paper/alignment/6_landmarks_reward2/naming_game_30msg_alpha10_temp30/2022-10-26_12-23-36pt_blwdm/checkpoint_000650/checkpoint-650\n",
      "2022-10-28 20:14:26,631\tINFO trainable.py:597 -- Current state after restoring: {'_iteration': 650, '_timesteps_total': None, '_time_total': 28750.362911224365, '_episodes_total': 351779}\n"
     ]
    },
    {
     "name": "stdout",
     "output_type": "stream",
     "text": [
      "checkpoint-650\n"
     ]
    },
    {
     "name": "stderr",
     "output_type": "stream",
     "text": [
      "2022-10-28 20:14:27,033\tINFO trainable.py:588 -- Restored on 193.50.110.54 from checkpoint: /media/elena/LaCie/aamas_2023/paper/alignment/6_landmarks_reward2/naming_game_30msg_alpha10_temp30/2022-10-26_12-23-36pt_blwdm/checkpoint_000660/checkpoint-660\n",
      "2022-10-28 20:14:27,035\tINFO trainable.py:597 -- Current state after restoring: {'_iteration': 660, '_timesteps_total': None, '_time_total': 29198.53289270401, '_episodes_total': 360732}\n"
     ]
    },
    {
     "name": "stdout",
     "output_type": "stream",
     "text": [
      "checkpoint-660\n"
     ]
    },
    {
     "name": "stderr",
     "output_type": "stream",
     "text": [
      "2022-10-28 20:14:27,470\tINFO trainable.py:588 -- Restored on 193.50.110.54 from checkpoint: /media/elena/LaCie/aamas_2023/paper/alignment/6_landmarks_reward2/naming_game_30msg_alpha10_temp30/2022-10-26_12-23-36pt_blwdm/checkpoint_000670/checkpoint-670\n",
      "2022-10-28 20:14:27,471\tINFO trainable.py:597 -- Current state after restoring: {'_iteration': 670, '_timesteps_total': None, '_time_total': 29648.281690359116, '_episodes_total': 369809}\n"
     ]
    },
    {
     "name": "stdout",
     "output_type": "stream",
     "text": [
      "checkpoint-670\n"
     ]
    },
    {
     "name": "stderr",
     "output_type": "stream",
     "text": [
      "2022-10-28 20:14:27,817\tINFO trainable.py:588 -- Restored on 193.50.110.54 from checkpoint: /media/elena/LaCie/aamas_2023/paper/alignment/6_landmarks_reward2/naming_game_30msg_alpha10_temp30/2022-10-26_12-23-36pt_blwdm/checkpoint_000680/checkpoint-680\n",
      "2022-10-28 20:14:27,819\tINFO trainable.py:597 -- Current state after restoring: {'_iteration': 680, '_timesteps_total': None, '_time_total': 30092.20274424553, '_episodes_total': 378889}\n"
     ]
    },
    {
     "name": "stdout",
     "output_type": "stream",
     "text": [
      "checkpoint-680\n"
     ]
    },
    {
     "name": "stderr",
     "output_type": "stream",
     "text": [
      "2022-10-28 20:14:28,230\tINFO trainable.py:588 -- Restored on 193.50.110.54 from checkpoint: /media/elena/LaCie/aamas_2023/paper/alignment/6_landmarks_reward2/naming_game_30msg_alpha10_temp30/2022-10-26_12-23-36pt_blwdm/checkpoint_000690/checkpoint-690\n",
      "2022-10-28 20:14:28,231\tINFO trainable.py:597 -- Current state after restoring: {'_iteration': 690, '_timesteps_total': None, '_time_total': 30540.03012895584, '_episodes_total': 387862}\n"
     ]
    },
    {
     "name": "stdout",
     "output_type": "stream",
     "text": [
      "checkpoint-690\n"
     ]
    },
    {
     "name": "stderr",
     "output_type": "stream",
     "text": [
      "2022-10-28 20:14:28,566\tINFO trainable.py:588 -- Restored on 193.50.110.54 from checkpoint: /media/elena/LaCie/aamas_2023/paper/alignment/6_landmarks_reward2/naming_game_30msg_alpha10_temp30/2022-10-26_12-23-36pt_blwdm/checkpoint_000700/checkpoint-700\n",
      "2022-10-28 20:14:28,566\tINFO trainable.py:597 -- Current state after restoring: {'_iteration': 700, '_timesteps_total': None, '_time_total': 30986.86992740631, '_episodes_total': 396565}\n"
     ]
    },
    {
     "name": "stdout",
     "output_type": "stream",
     "text": [
      "checkpoint-700\n"
     ]
    },
    {
     "name": "stderr",
     "output_type": "stream",
     "text": [
      "2022-10-28 20:14:28,906\tINFO trainable.py:588 -- Restored on 193.50.110.54 from checkpoint: /media/elena/LaCie/aamas_2023/paper/alignment/6_landmarks_reward2/naming_game_30msg_alpha10_temp30/2022-10-26_12-23-36pt_blwdm/checkpoint_000710/checkpoint-710\n",
      "2022-10-28 20:14:28,906\tINFO trainable.py:597 -- Current state after restoring: {'_iteration': 710, '_timesteps_total': None, '_time_total': 31430.923753023148, '_episodes_total': 405029}\n"
     ]
    },
    {
     "name": "stdout",
     "output_type": "stream",
     "text": [
      "checkpoint-710\n"
     ]
    },
    {
     "name": "stderr",
     "output_type": "stream",
     "text": [
      "2022-10-28 20:14:29,311\tINFO trainable.py:588 -- Restored on 193.50.110.54 from checkpoint: /media/elena/LaCie/aamas_2023/paper/alignment/6_landmarks_reward2/naming_game_30msg_alpha10_temp30/2022-10-26_12-23-36pt_blwdm/checkpoint_000720/checkpoint-720\n",
      "2022-10-28 20:14:29,313\tINFO trainable.py:597 -- Current state after restoring: {'_iteration': 720, '_timesteps_total': None, '_time_total': 31855.019484758377, '_episodes_total': 412788}\n"
     ]
    },
    {
     "name": "stdout",
     "output_type": "stream",
     "text": [
      "checkpoint-720\n"
     ]
    },
    {
     "name": "stderr",
     "output_type": "stream",
     "text": [
      "2022-10-28 20:14:29,734\tINFO trainable.py:588 -- Restored on 193.50.110.54 from checkpoint: /media/elena/LaCie/aamas_2023/paper/alignment/6_landmarks_reward2/naming_game_30msg_alpha10_temp30/2022-10-26_12-23-36pt_blwdm/checkpoint_000730/checkpoint-730\n",
      "2022-10-28 20:14:29,736\tINFO trainable.py:597 -- Current state after restoring: {'_iteration': 730, '_timesteps_total': None, '_time_total': 32278.36971282959, '_episodes_total': 420668}\n"
     ]
    },
    {
     "name": "stdout",
     "output_type": "stream",
     "text": [
      "checkpoint-730\n"
     ]
    },
    {
     "name": "stderr",
     "output_type": "stream",
     "text": [
      "2022-10-28 20:14:30,110\tINFO trainable.py:588 -- Restored on 193.50.110.54 from checkpoint: /media/elena/LaCie/aamas_2023/paper/alignment/6_landmarks_reward2/naming_game_30msg_alpha10_temp30/2022-10-26_12-23-36pt_blwdm/checkpoint_000740/checkpoint-740\n",
      "2022-10-28 20:14:30,111\tINFO trainable.py:597 -- Current state after restoring: {'_iteration': 740, '_timesteps_total': None, '_time_total': 32714.90452313423, '_episodes_total': 428797}\n"
     ]
    },
    {
     "name": "stdout",
     "output_type": "stream",
     "text": [
      "checkpoint-740\n"
     ]
    },
    {
     "name": "stderr",
     "output_type": "stream",
     "text": [
      "2022-10-28 20:14:30,480\tINFO trainable.py:588 -- Restored on 193.50.110.54 from checkpoint: /media/elena/LaCie/aamas_2023/paper/alignment/6_landmarks_reward2/naming_game_30msg_alpha10_temp30/2022-10-26_12-23-36pt_blwdm/checkpoint_000750/checkpoint-750\n",
      "2022-10-28 20:14:30,481\tINFO trainable.py:597 -- Current state after restoring: {'_iteration': 750, '_timesteps_total': None, '_time_total': 33155.79210233688, '_episodes_total': 436905}\n"
     ]
    },
    {
     "name": "stdout",
     "output_type": "stream",
     "text": [
      "checkpoint-750\n"
     ]
    },
    {
     "name": "stderr",
     "output_type": "stream",
     "text": [
      "2022-10-28 20:14:31,166\tINFO trainable.py:588 -- Restored on 193.50.110.54 from checkpoint: /media/elena/LaCie/aamas_2023/paper/alignment/6_landmarks_reward2/naming_game_30msg_alpha10_temp30/2022-10-26_12-23-36pt_blwdm/checkpoint_000760/checkpoint-760\n",
      "2022-10-28 20:14:31,168\tINFO trainable.py:597 -- Current state after restoring: {'_iteration': 760, '_timesteps_total': None, '_time_total': 33619.83811545372, '_episodes_total': 445442}\n"
     ]
    },
    {
     "name": "stdout",
     "output_type": "stream",
     "text": [
      "checkpoint-760\n"
     ]
    },
    {
     "name": "stderr",
     "output_type": "stream",
     "text": [
      "2022-10-28 20:14:31,586\tINFO trainable.py:588 -- Restored on 193.50.110.54 from checkpoint: /media/elena/LaCie/aamas_2023/paper/alignment/6_landmarks_reward2/naming_game_30msg_alpha10_temp30/2022-10-26_12-23-36pt_blwdm/checkpoint_000770/checkpoint-770\n",
      "2022-10-28 20:14:31,588\tINFO trainable.py:597 -- Current state after restoring: {'_iteration': 770, '_timesteps_total': None, '_time_total': 34097.42235946655, '_episodes_total': 454085}\n"
     ]
    },
    {
     "name": "stdout",
     "output_type": "stream",
     "text": [
      "checkpoint-770\n"
     ]
    },
    {
     "name": "stderr",
     "output_type": "stream",
     "text": [
      "2022-10-28 20:14:32,035\tINFO trainable.py:588 -- Restored on 193.50.110.54 from checkpoint: /media/elena/LaCie/aamas_2023/paper/alignment/6_landmarks_reward2/naming_game_30msg_alpha10_temp30/2022-10-26_12-23-36pt_blwdm/checkpoint_000780/checkpoint-780\n",
      "2022-10-28 20:14:32,038\tINFO trainable.py:597 -- Current state after restoring: {'_iteration': 780, '_timesteps_total': None, '_time_total': 34580.81082010269, '_episodes_total': 463021}\n"
     ]
    },
    {
     "name": "stdout",
     "output_type": "stream",
     "text": [
      "checkpoint-780\n"
     ]
    },
    {
     "name": "stderr",
     "output_type": "stream",
     "text": [
      "2022-10-28 20:14:32,516\tINFO trainable.py:588 -- Restored on 193.50.110.54 from checkpoint: /media/elena/LaCie/aamas_2023/paper/alignment/6_landmarks_reward2/naming_game_30msg_alpha10_temp30/2022-10-26_12-23-36pt_blwdm/checkpoint_000790/checkpoint-790\n",
      "2022-10-28 20:14:32,518\tINFO trainable.py:597 -- Current state after restoring: {'_iteration': 790, '_timesteps_total': None, '_time_total': 35065.604372262955, '_episodes_total': 472147}\n"
     ]
    },
    {
     "name": "stdout",
     "output_type": "stream",
     "text": [
      "checkpoint-790\n"
     ]
    },
    {
     "name": "stderr",
     "output_type": "stream",
     "text": [
      "2022-10-28 20:14:32,873\tINFO trainable.py:588 -- Restored on 193.50.110.54 from checkpoint: /media/elena/LaCie/aamas_2023/paper/alignment/6_landmarks_reward2/naming_game_30msg_alpha10_temp30/2022-10-26_12-23-36pt_blwdm/checkpoint_000800/checkpoint-800\n",
      "2022-10-28 20:14:32,875\tINFO trainable.py:597 -- Current state after restoring: {'_iteration': 800, '_timesteps_total': None, '_time_total': 35550.08249258995, '_episodes_total': 481119}\n"
     ]
    },
    {
     "name": "stdout",
     "output_type": "stream",
     "text": [
      "checkpoint-800\n"
     ]
    },
    {
     "name": "stderr",
     "output_type": "stream",
     "text": [
      "2022-10-28 20:14:33,401\tINFO trainable.py:588 -- Restored on 193.50.110.54 from checkpoint: /media/elena/LaCie/aamas_2023/paper/alignment/6_landmarks_reward2/naming_game_30msg_alpha10_temp30/2022-10-26_12-23-36pt_blwdm/checkpoint_000810/checkpoint-810\n",
      "2022-10-28 20:14:33,407\tINFO trainable.py:597 -- Current state after restoring: {'_iteration': 810, '_timesteps_total': None, '_time_total': 36023.80387830734, '_episodes_total': 489927}\n"
     ]
    },
    {
     "name": "stdout",
     "output_type": "stream",
     "text": [
      "checkpoint-810\n"
     ]
    },
    {
     "name": "stderr",
     "output_type": "stream",
     "text": [
      "2022-10-28 20:14:33,989\tINFO trainable.py:588 -- Restored on 193.50.110.54 from checkpoint: /media/elena/LaCie/aamas_2023/paper/alignment/6_landmarks_reward2/naming_game_30msg_alpha10_temp30/2022-10-26_12-23-36pt_blwdm/checkpoint_000820/checkpoint-820\n",
      "2022-10-28 20:14:33,990\tINFO trainable.py:597 -- Current state after restoring: {'_iteration': 820, '_timesteps_total': None, '_time_total': 36485.73113775253, '_episodes_total': 498215}\n"
     ]
    },
    {
     "name": "stdout",
     "output_type": "stream",
     "text": [
      "checkpoint-820\n"
     ]
    },
    {
     "name": "stderr",
     "output_type": "stream",
     "text": [
      "2022-10-28 20:14:34,415\tINFO trainable.py:588 -- Restored on 193.50.110.54 from checkpoint: /media/elena/LaCie/aamas_2023/paper/alignment/6_landmarks_reward2/naming_game_30msg_alpha10_temp30/2022-10-26_12-23-36pt_blwdm/checkpoint_000830/checkpoint-830\n",
      "2022-10-28 20:14:34,417\tINFO trainable.py:597 -- Current state after restoring: {'_iteration': 830, '_timesteps_total': None, '_time_total': 36953.771916627884, '_episodes_total': 506667}\n"
     ]
    },
    {
     "name": "stdout",
     "output_type": "stream",
     "text": [
      "checkpoint-830\n"
     ]
    },
    {
     "name": "stderr",
     "output_type": "stream",
     "text": [
      "2022-10-28 20:14:34,957\tINFO trainable.py:588 -- Restored on 193.50.110.54 from checkpoint: /media/elena/LaCie/aamas_2023/paper/alignment/6_landmarks_reward2/naming_game_30msg_alpha10_temp30/2022-10-26_12-23-36pt_blwdm/checkpoint_000840/checkpoint-840\n",
      "2022-10-28 20:14:34,959\tINFO trainable.py:597 -- Current state after restoring: {'_iteration': 840, '_timesteps_total': None, '_time_total': 37426.222881793976, '_episodes_total': 514969}\n"
     ]
    },
    {
     "name": "stdout",
     "output_type": "stream",
     "text": [
      "checkpoint-840\n"
     ]
    },
    {
     "name": "stderr",
     "output_type": "stream",
     "text": [
      "2022-10-28 20:14:35,365\tINFO trainable.py:588 -- Restored on 193.50.110.54 from checkpoint: /media/elena/LaCie/aamas_2023/paper/alignment/6_landmarks_reward2/naming_game_30msg_alpha10_temp30/2022-10-26_12-23-36pt_blwdm/checkpoint_000850/checkpoint-850\n",
      "2022-10-28 20:14:35,366\tINFO trainable.py:597 -- Current state after restoring: {'_iteration': 850, '_timesteps_total': None, '_time_total': 37899.79941391945, '_episodes_total': 523354}\n"
     ]
    },
    {
     "name": "stdout",
     "output_type": "stream",
     "text": [
      "checkpoint-850\n"
     ]
    },
    {
     "name": "stderr",
     "output_type": "stream",
     "text": [
      "2022-10-28 20:14:35,699\tINFO trainable.py:588 -- Restored on 193.50.110.54 from checkpoint: /media/elena/LaCie/aamas_2023/paper/alignment/6_landmarks_reward2/naming_game_30msg_alpha10_temp30/2022-10-26_12-23-36pt_blwdm/checkpoint_000860/checkpoint-860\n",
      "2022-10-28 20:14:35,700\tINFO trainable.py:597 -- Current state after restoring: {'_iteration': 860, '_timesteps_total': None, '_time_total': 38382.37141466141, '_episodes_total': 531650}\n"
     ]
    },
    {
     "name": "stdout",
     "output_type": "stream",
     "text": [
      "checkpoint-860\n"
     ]
    },
    {
     "name": "stderr",
     "output_type": "stream",
     "text": [
      "2022-10-28 20:14:36,092\tINFO trainable.py:588 -- Restored on 193.50.110.54 from checkpoint: /media/elena/LaCie/aamas_2023/paper/alignment/6_landmarks_reward2/naming_game_30msg_alpha10_temp30/2022-10-26_12-23-36pt_blwdm/checkpoint_000870/checkpoint-870\n",
      "2022-10-28 20:14:36,093\tINFO trainable.py:597 -- Current state after restoring: {'_iteration': 870, '_timesteps_total': None, '_time_total': 38861.494183540344, '_episodes_total': 540362}\n"
     ]
    },
    {
     "name": "stdout",
     "output_type": "stream",
     "text": [
      "checkpoint-870\n"
     ]
    },
    {
     "name": "stderr",
     "output_type": "stream",
     "text": [
      "2022-10-28 20:14:36,699\tINFO trainable.py:588 -- Restored on 193.50.110.54 from checkpoint: /media/elena/LaCie/aamas_2023/paper/alignment/6_landmarks_reward2/naming_game_30msg_alpha10_temp30/2022-10-26_12-23-36pt_blwdm/checkpoint_000880/checkpoint-880\n",
      "2022-10-28 20:14:36,701\tINFO trainable.py:597 -- Current state after restoring: {'_iteration': 880, '_timesteps_total': None, '_time_total': 39345.98356318474, '_episodes_total': 548981}\n"
     ]
    },
    {
     "name": "stdout",
     "output_type": "stream",
     "text": [
      "checkpoint-880\n"
     ]
    },
    {
     "name": "stderr",
     "output_type": "stream",
     "text": [
      "2022-10-28 20:14:37,309\tINFO trainable.py:588 -- Restored on 193.50.110.54 from checkpoint: /media/elena/LaCie/aamas_2023/paper/alignment/6_landmarks_reward2/naming_game_30msg_alpha10_temp30/2022-10-26_12-23-36pt_blwdm/checkpoint_000890/checkpoint-890\n",
      "2022-10-28 20:14:37,312\tINFO trainable.py:597 -- Current state after restoring: {'_iteration': 890, '_timesteps_total': None, '_time_total': 39828.293207883835, '_episodes_total': 557475}\n"
     ]
    },
    {
     "name": "stdout",
     "output_type": "stream",
     "text": [
      "checkpoint-890\n"
     ]
    },
    {
     "name": "stderr",
     "output_type": "stream",
     "text": [
      "2022-10-28 20:14:37,876\tINFO trainable.py:588 -- Restored on 193.50.110.54 from checkpoint: /media/elena/LaCie/aamas_2023/paper/alignment/6_landmarks_reward2/naming_game_30msg_alpha10_temp30/2022-10-26_12-23-36pt_blwdm/checkpoint_000900/checkpoint-900\n",
      "2022-10-28 20:14:37,877\tINFO trainable.py:597 -- Current state after restoring: {'_iteration': 900, '_timesteps_total': None, '_time_total': 40310.19192767143, '_episodes_total': 566046}\n"
     ]
    },
    {
     "name": "stdout",
     "output_type": "stream",
     "text": [
      "checkpoint-900\n"
     ]
    },
    {
     "name": "stderr",
     "output_type": "stream",
     "text": [
      "2022-10-28 20:14:38,492\tINFO trainable.py:588 -- Restored on 193.50.110.54 from checkpoint: /media/elena/LaCie/aamas_2023/paper/alignment/6_landmarks_reward2/naming_game_30msg_alpha10_temp30/2022-10-26_12-23-36pt_blwdm/checkpoint_000910/checkpoint-910\n",
      "2022-10-28 20:14:38,495\tINFO trainable.py:597 -- Current state after restoring: {'_iteration': 910, '_timesteps_total': None, '_time_total': 40792.47970366478, '_episodes_total': 574807}\n"
     ]
    },
    {
     "name": "stdout",
     "output_type": "stream",
     "text": [
      "checkpoint-910\n"
     ]
    },
    {
     "name": "stderr",
     "output_type": "stream",
     "text": [
      "2022-10-28 20:14:39,473\tINFO trainable.py:588 -- Restored on 193.50.110.54 from checkpoint: /media/elena/LaCie/aamas_2023/paper/alignment/6_landmarks_reward2/naming_game_30msg_alpha10_temp30/2022-10-26_12-23-36pt_blwdm/checkpoint_000920/checkpoint-920\n",
      "2022-10-28 20:14:39,475\tINFO trainable.py:597 -- Current state after restoring: {'_iteration': 920, '_timesteps_total': None, '_time_total': 41259.93725347519, '_episodes_total': 583093}\n"
     ]
    },
    {
     "name": "stdout",
     "output_type": "stream",
     "text": [
      "checkpoint-920\n"
     ]
    },
    {
     "name": "stderr",
     "output_type": "stream",
     "text": [
      "2022-10-28 20:14:40,087\tINFO trainable.py:588 -- Restored on 193.50.110.54 from checkpoint: /media/elena/LaCie/aamas_2023/paper/alignment/6_landmarks_reward2/naming_game_30msg_alpha10_temp30/2022-10-26_12-23-36pt_blwdm/checkpoint_000930/checkpoint-930\n",
      "2022-10-28 20:14:40,088\tINFO trainable.py:597 -- Current state after restoring: {'_iteration': 930, '_timesteps_total': None, '_time_total': 41736.99317526817, '_episodes_total': 591610}\n"
     ]
    },
    {
     "name": "stdout",
     "output_type": "stream",
     "text": [
      "checkpoint-930\n"
     ]
    },
    {
     "name": "stderr",
     "output_type": "stream",
     "text": [
      "2022-10-28 20:14:40,671\tINFO trainable.py:588 -- Restored on 193.50.110.54 from checkpoint: /media/elena/LaCie/aamas_2023/paper/alignment/6_landmarks_reward2/naming_game_30msg_alpha10_temp30/2022-10-26_12-23-36pt_blwdm/checkpoint_000940/checkpoint-940\n",
      "2022-10-28 20:14:40,673\tINFO trainable.py:597 -- Current state after restoring: {'_iteration': 940, '_timesteps_total': None, '_time_total': 42214.356935977936, '_episodes_total': 600251}\n"
     ]
    },
    {
     "name": "stdout",
     "output_type": "stream",
     "text": [
      "checkpoint-940\n"
     ]
    },
    {
     "name": "stderr",
     "output_type": "stream",
     "text": [
      "2022-10-28 20:14:41,224\tINFO trainable.py:588 -- Restored on 193.50.110.54 from checkpoint: /media/elena/LaCie/aamas_2023/paper/alignment/6_landmarks_reward2/naming_game_30msg_alpha10_temp30/2022-10-26_12-23-36pt_blwdm/checkpoint_000950/checkpoint-950\n",
      "2022-10-28 20:14:41,225\tINFO trainable.py:597 -- Current state after restoring: {'_iteration': 950, '_timesteps_total': None, '_time_total': 42696.29383516312, '_episodes_total': 608938}\n"
     ]
    },
    {
     "name": "stdout",
     "output_type": "stream",
     "text": [
      "checkpoint-950\n"
     ]
    },
    {
     "name": "stderr",
     "output_type": "stream",
     "text": [
      "2022-10-28 20:14:41,767\tINFO trainable.py:588 -- Restored on 193.50.110.54 from checkpoint: /media/elena/LaCie/aamas_2023/paper/alignment/6_landmarks_reward2/naming_game_30msg_alpha10_temp30/2022-10-26_12-23-36pt_blwdm/checkpoint_000960/checkpoint-960\n",
      "2022-10-28 20:14:41,770\tINFO trainable.py:597 -- Current state after restoring: {'_iteration': 960, '_timesteps_total': None, '_time_total': 43169.62419939041, '_episodes_total': 617283}\n"
     ]
    },
    {
     "name": "stdout",
     "output_type": "stream",
     "text": [
      "checkpoint-960\n"
     ]
    },
    {
     "name": "stderr",
     "output_type": "stream",
     "text": [
      "2022-10-28 20:14:42,377\tINFO trainable.py:588 -- Restored on 193.50.110.54 from checkpoint: /media/elena/LaCie/aamas_2023/paper/alignment/6_landmarks_reward2/naming_game_30msg_alpha10_temp30/2022-10-26_12-23-36pt_blwdm/checkpoint_000970/checkpoint-970\n",
      "2022-10-28 20:14:42,379\tINFO trainable.py:597 -- Current state after restoring: {'_iteration': 970, '_timesteps_total': None, '_time_total': 43645.163992881775, '_episodes_total': 625760}\n"
     ]
    },
    {
     "name": "stdout",
     "output_type": "stream",
     "text": [
      "checkpoint-970\n"
     ]
    },
    {
     "name": "stderr",
     "output_type": "stream",
     "text": [
      "2022-10-28 20:14:42,951\tINFO trainable.py:588 -- Restored on 193.50.110.54 from checkpoint: /media/elena/LaCie/aamas_2023/paper/alignment/6_landmarks_reward2/naming_game_30msg_alpha10_temp30/2022-10-26_12-23-36pt_blwdm/checkpoint_000980/checkpoint-980\n",
      "2022-10-28 20:14:42,954\tINFO trainable.py:597 -- Current state after restoring: {'_iteration': 980, '_timesteps_total': None, '_time_total': 44126.27603268623, '_episodes_total': 634868}\n"
     ]
    },
    {
     "name": "stdout",
     "output_type": "stream",
     "text": [
      "checkpoint-980\n"
     ]
    },
    {
     "name": "stderr",
     "output_type": "stream",
     "text": [
      "2022-10-28 20:14:43,452\tINFO trainable.py:588 -- Restored on 193.50.110.54 from checkpoint: /media/elena/LaCie/aamas_2023/paper/alignment/6_landmarks_reward2/naming_game_30msg_alpha10_temp30/2022-10-26_12-23-36pt_blwdm/checkpoint_000990/checkpoint-990\n",
      "2022-10-28 20:14:43,454\tINFO trainable.py:597 -- Current state after restoring: {'_iteration': 990, '_timesteps_total': None, '_time_total': 44606.2908616066, '_episodes_total': 643743}\n"
     ]
    },
    {
     "name": "stdout",
     "output_type": "stream",
     "text": [
      "checkpoint-990\n"
     ]
    },
    {
     "name": "stderr",
     "output_type": "stream",
     "text": [
      "2022-10-28 20:14:44,026\tINFO trainable.py:588 -- Restored on 193.50.110.54 from checkpoint: /media/elena/LaCie/aamas_2023/paper/alignment/6_landmarks_reward2/naming_game_30msg_alpha10_temp30/2022-10-26_12-23-36pt_blwdm/checkpoint_001000/checkpoint-1000\n",
      "2022-10-28 20:14:44,029\tINFO trainable.py:597 -- Current state after restoring: {'_iteration': 1000, '_timesteps_total': None, '_time_total': 45070.624087810516, '_episodes_total': 652767}\n"
     ]
    },
    {
     "name": "stdout",
     "output_type": "stream",
     "text": [
      "checkpoint-1000\n"
     ]
    },
    {
     "data": {
      "image/png": "[encoded data removed]",
      "text/plain": [
       "<Figure size 1000x1000 with 2 Axes>"
      ]
     },
     "metadata": {},
     "output_type": "display_data"
    }
   ],
   "source": [
    "imgs = []\n",
    "for checkpoint_dir in sorted(os.listdir(checkpoints_dir)):\n",
    "    if os.path.isdir(os.path.join(checkpoints_dir, checkpoint_dir)):\n",
    "        checkpoint_file = sorted(\n",
    "            os.listdir(os.path.join(checkpoints_dir, checkpoint_dir))\n",
    "        )[1]\n",
    "        print(checkpoint_file)\n",
    "        trainer.restore(os.path.join(checkpoints_dir, checkpoint_dir, checkpoint_file))\n",
    "        agent_0 = trainer.get_policy(\"agent_0\").model\n",
    "        agent_1 = trainer.get_policy(\"agent_1\").model\n",
    "        with torch.no_grad():\n",
    "            agent_0_matrix = agent_0._matrix.numpy()\n",
    "            agent_1_matrix = agent_1._matrix.numpy()\n",
    "\n",
    "            # Generate images\n",
    "            for j, matrix in enumerate((agent_0_matrix, agent_1_matrix)):\n",
    "                if j == 0:\n",
    "                    fig = plt.figure(num=1, clear=True, figsize=(10, 10))\n",
    "                    ax = fig.add_subplot(121)\n",
    "                    ax.set_title(\"Agent 0\")\n",
    "                elif j == 1:\n",
    "                    ax = fig.add_subplot(122)\n",
    "                    ax.set_title(\"Agent 1\")\n",
    "                ax.matshow(matrix, cmap=plt.cm.Blues)\n",
    "                for x in range(nb_msg):\n",
    "                    for y in range(number_of_goals):\n",
    "                        c = matrix[y, x]\n",
    "                        #ax.text(x, y, str(round(c, 3)), va=\"center\", ha=\"center\")\n",
    "                if j == 1:\n",
    "                    plt.tight_layout()\n",
    "                    canvas = fig.figure.canvas\n",
    "                    canvas.draw()\n",
    "                    data = np.frombuffer(canvas.tostring_rgb(), dtype=np.uint8)\n",
    "                    img = data.reshape(canvas.get_width_height()[::-1] + (3,))\n",
    "                    imgs.append(img)\n",
    "                    "
   ]
  },
  {
   "cell_type": "code",
   "execution_count": 9,
   "metadata": {},
   "outputs": [],
   "source": [
    "import os\n",
    "os.environ['FFMPEG_BINARY'] = 'ffmpeg'\n",
    "import moviepy.editor as mvp\n",
    "from moviepy.video.io.ffmpeg_writer import FFMPEG_VideoWriter\n",
    "from IPython.display import HTML, display, clear_output\n",
    "\n",
    "class VideoWriter:\n",
    "  def __init__(self, filename, fps=30.0, **kw):\n",
    "    self.writer = None\n",
    "    self.params = dict(filename=filename, fps=fps, **kw)\n",
    "\n",
    "  def add(self, img):\n",
    "    img = np.asarray(img)\n",
    "    if self.writer is None:\n",
    "      h, w = img.shape[:2]\n",
    "      self.writer = FFMPEG_VideoWriter(size=(w, h), **self.params)\n",
    "    if img.dtype in [np.float32, np.float64]:\n",
    "      img = np.uint8(img.clip(0, 1)*255)\n",
    "    if len(img.shape) == 2:\n",
    "      img = np.repeat(img[..., None], 3, -1)\n",
    "    self.writer.write_frame(img)\n",
    "\n",
    "  def close(self):\n",
    "    if self.writer:\n",
    "      self.writer.close()\n",
    "\n",
    "  def __enter__(self):\n",
    "    return self\n",
    "\n",
    "  def __exit__(self, *kw):\n",
    "    self.close()\n",
    "\n",
    "  def show(self, **kw):\n",
    "      self.close()\n",
    "      fn = self.params['filename']\n",
    "      display(mvp.ipython_display(fn, **kw))"
   ]
  },
  {
   "cell_type": "code",
   "execution_count": 10,
   "metadata": {},
   "outputs": [
    {
     "data": {
      "text/html": [
       "<div align=middle><video src='data:video/mp4;base64,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' controls>Sorry, seems like your browser doesn't support HTML5 audio/video</video></div>"
      ],
      "text/plain": [
       "<moviepy.video.io.html_tools.HTML2 object>"
      ]
     },
     "metadata": {},
     "output_type": "display_data"
    }
   ],
   "source": [
    "with VideoWriter(\"out.mp4\", 2) as vid:\n",
    "          for i in range(len(imgs)):\n",
    "            im = imgs[i]\n",
    "            \n",
    "            #plt.imshow(im)\n",
    "            #plt.show()\n",
    "            vid.add(im)\n",
    "          vid.show()"
   ]
  },
  {
   "cell_type": "code",
   "execution_count": 11,
   "metadata": {},
   "outputs": [
    {
     "name": "stdout",
     "output_type": "stream",
     "text": [
      "Moviepy - Building video /media/elena/LaCie/aamas_2023/paper/alignment/6_landmarks_reward2/naming_game_30msg_alpha10_temp30/2022-10-26_12-23-36pt_blwdm/naming_game.mp4.\n",
      "Moviepy - Writing video /media/elena/LaCie/aamas_2023/paper/alignment/6_landmarks_reward2/naming_game_30msg_alpha10_temp30/2022-10-26_12-23-36pt_blwdm/naming_game.mp4\n",
      "\n"
     ]
    },
    {
     "name": "stderr",
     "output_type": "stream",
     "text": [
      "                                                                                                    \r"
     ]
    },
    {
     "name": "stdout",
     "output_type": "stream",
     "text": [
      "Moviepy - Done !\n",
      "Moviepy - video ready /media/elena/LaCie/aamas_2023/paper/alignment/6_landmarks_reward2/naming_game_30msg_alpha10_temp30/2022-10-26_12-23-36pt_blwdm/naming_game.mp4\n"
     ]
    }
   ],
   "source": [
    "matrix_video = moviepy.video.io.ImageSequenceClip.ImageSequenceClip(imgs, fps=0.5)\n",
    "\n",
    "matrix_video.write_videofile(os.path.join(checkpoints_dir, \"naming_game.mp4\"))"
   ]
  },
  {
   "cell_type": "markdown",
   "metadata": {},
   "source": [
    "# 2 matrix"
   ]
  },
  {
   "cell_type": "code",
   "execution_count": null,
   "metadata": {},
   "outputs": [],
   "source": [
    "with open(f\"../scripts/configs/{config_file}\", \"r\") as f:\n",
    "    user_config = yaml.safe_load(f)\n",
    "# General settings of the algorithm\n",
    "config = deepcopy(DEFAULT_CONFIG)\n",
    "config[\"num_workers\"] = 0\n",
    "config[\"framework\"] = \"torch\"\n",
    "use_communication = user_config.get(\"communication\", False)\n",
    "\n",
    "config[\"horizon\"] = population.LARGE_GOAL_LINES_TIMELIMIT\n",
    "config[\"rollout_fragment_length\"] = config[\"horizon\"]\n",
    "config[\"env_config\"] = user_config[\"env_config\"]\n",
    "config[\"train_batch_size\"] = 60_000\n",
    "config[\"sgd_minibatch_size\"] = 10_000\n",
    "config[\"lambda\"] = 0.9\n",
    "config[\"lr\"] = 0.0003\n",
    "\n",
    "\n",
    "def policy_mapping_fn(agent_id):\n",
    "    return agent_id\n",
    "\n",
    "\n",
    "config[\"multiagent\"] = {\n",
    "    \"policies\": {\n",
    "        f\"agent_{i}\": PolicySpec(\n",
    "            policy_class=None, observation_space=None, action_space=None\n",
    "        )\n",
    "        for i in range(config[\"env_config\"][\"population_size\"])\n",
    "    },\n",
    "    \"policy_mapping_fn\": policy_mapping_fn,\n",
    "}\n",
    "\n",
    "train_env = environment\n",
    "\n",
    "ModelCatalog.register_custom_model(\"FullNamingNetwork\", FullNamingNetwork)\n",
    "number_of_goals = environment(config[\"env_config\"]).goal_space_dim\n",
    "config[\"model\"] = {\n",
    "    \"custom_model\": \"FullNamingNetwork\",\n",
    "    \"custom_model_config\": {\n",
    "        \"number_of_goals\": number_of_goals,\n",
    "        \"train_matrix\": user_config.get(\"train_matrix\", False),\n",
    "    },\n",
    "}\n",
    "trainer = FullNamingTrainer(\n",
    "    config=config,\n",
    "    env=train_env,\n",
    ")"
   ]
  },
  {
   "cell_type": "code",
   "execution_count": null,
   "metadata": {},
   "outputs": [],
   "source": [
    "imgs = []\n",
    "for checkpoint_dir in sorted(os.listdir(checkpoints_dir)):\n",
    "    if os.path.isdir(os.path.join(checkpoints_dir, checkpoint_dir)):\n",
    "        checkpoint_file = sorted(\n",
    "            os.listdir(os.path.join(checkpoints_dir, checkpoint_dir))\n",
    "        )[1]\n",
    "        trainer.restore(os.path.join(checkpoints_dir, checkpoint_dir, checkpoint_file))\n",
    "        agent_0 = trainer.get_policy(\"agent_0\").model\n",
    "        agent_1 = trainer.get_policy(\"agent_1\").model\n",
    "        with torch.no_grad():\n",
    "            agent_0_matrix = agent_0._leader_matrix.numpy()\n",
    "            agent_1_matrix = agent_1._follower_matrix.numpy()\n",
    "\n",
    "            # Generate images\n",
    "            for j, matrix in enumerate((agent_0_matrix, agent_1_matrix)):\n",
    "                if j == 0:\n",
    "                    fig = plt.figure(num=1, clear=True, figsize=(10, 10))\n",
    "                    ax = fig.add_subplot(121)\n",
    "                    ax.set_title(\"Agent 0\")\n",
    "                elif j == 1:\n",
    "                    ax = fig.add_subplot(122)\n",
    "                    ax.set_title(\"Agent 1\")\n",
    "                ax.matshow(matrix, cmap=plt.cm.Blues)\n",
    "                for x in range(number_of_goals):\n",
    "                    for y in range(number_of_goals):\n",
    "                        c = matrix[y, x]\n",
    "                        ax.text(x, y, str(round(c, 3)), va=\"center\", ha=\"center\")\n",
    "                if j == 1:\n",
    "                    plt.tight_layout()\n",
    "                    canvas = fig.figure.canvas\n",
    "                    canvas.draw()\n",
    "                    data = np.frombuffer(canvas.tostring_rgb(), dtype=np.uint8)\n",
    "                    img = data.reshape(canvas.get_width_height()[::-1] + (3,))\n",
    "                    imgs.append(img)\n",
    "                    "
   ]
  }
 ],
 "metadata": {
  "kernelspec": {
   "display_name": "imgc-marl",
   "language": "python",
   "name": "imgc-marl"
  },
  "language_info": {
   "codemirror_mode": {
    "name": "ipython",
    "version": 3
   },
   "file_extension": ".py",
   "mimetype": "text/x-python",
   "name": "python",
   "nbconvert_exporter": "python",
   "pygments_lexer": "ipython3",
   "version": "3.8.13"
  },
  "vscode": {
   "interpreter": {
    "hash": "ba8aa1b69f904e3342c40bcdd1b69ae4a3cf2054115c347781ce67fba2dd2c9e"
   }
  }
 },
 "nbformat": 4,
 "nbformat_minor": 2
}
