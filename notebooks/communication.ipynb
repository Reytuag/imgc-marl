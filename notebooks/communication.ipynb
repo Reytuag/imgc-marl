{
 "cells": [
  {
   "cell_type": "code",
   "execution_count": 135,
   "metadata": {},
   "outputs": [],
   "source": [
    "import numpy as np\n",
    "import torch\n",
    "from torch.optim import Adam\n",
    "from torch.utils.data import DataLoader, TensorDataset\n",
    "\n",
    "from torch.nn import MSELoss\n",
    "from itertools import combinations"
   ]
  },
  {
   "cell_type": "code",
   "execution_count": 136,
   "metadata": {},
   "outputs": [],
   "source": [
    "landmarks = 6\n",
    "individual_goals = np.eye(landmarks, dtype=np.uint8).tolist()\n",
    "goals = (\n",
    "    np.array(list(combinations(individual_goals, 2))).sum(1).tolist()\n",
    ")\n"
   ]
  },
  {
   "cell_type": "code",
   "execution_count": 142,
   "metadata": {},
   "outputs": [],
   "source": [
    "goals_dim = len(goals[0])\n",
    "n_goals = len(goals)\n",
    "sender = torch.nn.Sequential(torch.nn.Linear(goals_dim,64), torch.nn.ReLU(), torch.nn.Linear(64,n_goals))\n",
    "optimizer = Adam(sender.parameters(), lr=0.0003)\n",
    "criterion = MSELoss()"
   ]
  },
  {
   "cell_type": "code",
   "execution_count": 143,
   "metadata": {},
   "outputs": [],
   "source": [
    "from scipy.stats import truncnorm\n",
    "\n",
    "def get_truncated_normal(mean=0, sd=1, low=0, upp=10):\n",
    "    return truncnorm(\n",
    "        (low - mean) / sd, (upp - mean) / sd, loc=mean, scale=sd)\n",
    "\n",
    "\n",
    "low_r = get_truncated_normal(mean=0.25, sd=0.25, low=0, upp=1)\n",
    "high_r = get_truncated_normal(mean=1.0, sd=0.25, upp=1, low=0)\n",
    "rewards = torch.tensor([])\n",
    "losses = []\n",
    "input_goals = torch.empty([100, 6])\n",
    "output_goal_index = []\n",
    "j = 0\n",
    "for t in range(200_000):\n",
    "    # interact\n",
    "    sampled_goal = goals[np.random.randint(0, n_goals)]\n",
    "    prediction = sender(torch.tensor(sampled_goal, dtype=torch.float))\n",
    "    input_goals[j] = torch.tensor(sampled_goal, dtype=torch.float)\n",
    "    # epsilon-greedy\n",
    "    if np.random.random() < 0.1:\n",
    "        message = np.random.randint(0, n_goals)\n",
    "    else:\n",
    "        message = prediction.argmax().item()\n",
    "    output_goal_index.append(message)\n",
    "    value = prediction[message].view(1)\n",
    "    other_goal = goals[message]\n",
    "    if other_goal == sampled_goal:\n",
    "        reward = torch.unsqueeze(torch.tensor(high_r.rvs().astype(np.float32)), 0)\n",
    "    else:\n",
    "        reward = torch.unsqueeze(torch.tensor(low_r.rvs().astype(np.float32)), 0)\n",
    "    rewards = torch.cat([rewards, reward])\n",
    "    j += 1\n",
    "    # learn\n",
    "    if t !=0 and t % 99==0:\n",
    "        rewards = rewards.unsqueeze(-1)\n",
    "        for i in range(20):\n",
    "            vs = sender(input_goals).gather(1, torch.tensor(output_goal_index).view(-1,1))\n",
    "            optimizer.zero_grad()\n",
    "            loss = criterion(vs, rewards)\n",
    "            loss.backward(retain_graph=True)\n",
    "            optimizer.step()\n",
    "            losses.append(loss.detach().item())\n",
    "        rewards = torch.tensor([])\n",
    "        input_goals = torch.empty([100, 6])\n",
    "        output_goal_index = []\n",
    "        j = 0\n"
   ]
  },
  {
   "cell_type": "code",
   "execution_count": 150,
   "metadata": {},
   "outputs": [
    {
     "data": {
      "text/plain": [
       "[tensor([0., 1., 0., 1., 0., 0.]),\n",
       " tensor([0., 0., 1., 1., 0., 0.]),\n",
       " tensor([1., 0., 1., 0., 0., 0.]),\n",
       " tensor([0., 0., 0., 1., 0., 1.]),\n",
       " tensor([0., 0., 0., 0., 1., 1.]),\n",
       " tensor([0., 0., 0., 1., 1., 0.]),\n",
       " tensor([0., 1., 0., 0., 1., 0.]),\n",
       " tensor([0., 1., 0., 1., 0., 0.]),\n",
       " tensor([1., 0., 1., 0., 0., 0.]),\n",
       " tensor([0., 0., 1., 0., 0., 1.]),\n",
       " tensor([1., 0., 0., 0., 0., 1.]),\n",
       " tensor([1., 0., 0., 1., 0., 0.]),\n",
       " tensor([0., 1., 0., 1., 0., 0.]),\n",
       " tensor([0., 0., 1., 0., 0., 1.]),\n",
       " tensor([0., 0., 1., 1., 0., 0.]),\n",
       " tensor([0., 1., 0., 0., 1., 0.]),\n",
       " tensor([0., 0., 0., 1., 0., 1.]),\n",
       " tensor([1., 0., 0., 0., 1., 0.]),\n",
       " tensor([1., 1., 0., 0., 0., 0.]),\n",
       " tensor([0., 1., 0., 1., 0., 0.]),\n",
       " tensor([0., 0., 0., 0., 1., 1.]),\n",
       " tensor([0., 1., 0., 0., 1., 0.]),\n",
       " tensor([0., 1., 0., 1., 0., 0.]),\n",
       " tensor([0., 0., 0., 1., 0., 1.]),\n",
       " tensor([0., 0., 1., 0., 1., 0.]),\n",
       " tensor([1., 0., 0., 1., 0., 0.]),\n",
       " tensor([0., 0., 1., 1., 0., 0.]),\n",
       " tensor([0., 1., 0., 0., 1., 0.]),\n",
       " tensor([0., 1., 0., 0., 1., 0.]),\n",
       " tensor([1., 1., 0., 0., 0., 0.]),\n",
       " tensor([1., 0., 0., 0., 0., 1.]),\n",
       " tensor([1., 0., 0., 0., 0., 1.]),\n",
       " tensor([1., 0., 1., 0., 0., 0.]),\n",
       " tensor([1., 0., 0., 1., 0., 0.]),\n",
       " tensor([0., 1., 0., 0., 1., 0.]),\n",
       " tensor([0., 0., 0., 0., 1., 1.]),\n",
       " tensor([1., 1., 0., 0., 0., 0.]),\n",
       " tensor([0., 1., 1., 0., 0., 0.]),\n",
       " tensor([1., 1., 0., 0., 0., 0.]),\n",
       " tensor([0., 0., 1., 1., 0., 0.]),\n",
       " tensor([0., 0., 0., 0., 1., 1.]),\n",
       " tensor([0., 1., 0., 0., 1., 0.]),\n",
       " tensor([1., 0., 0., 0., 0., 1.]),\n",
       " tensor([0., 1., 0., 0., 1., 0.]),\n",
       " tensor([1., 0., 0., 1., 0., 0.]),\n",
       " tensor([0., 0., 1., 1., 0., 0.]),\n",
       " tensor([1., 0., 0., 0., 0., 1.]),\n",
       " tensor([0., 1., 0., 0., 1., 0.]),\n",
       " tensor([0., 0., 0., 1., 1., 0.]),\n",
       " tensor([0., 0., 0., 1., 0., 1.]),\n",
       " tensor([0., 1., 0., 0., 1., 0.]),\n",
       " tensor([0., 0., 0., 0., 1., 1.]),\n",
       " tensor([0., 1., 0., 0., 0., 1.]),\n",
       " tensor([1., 0., 0., 0., 1., 0.]),\n",
       " tensor([1., 0., 1., 0., 0., 0.]),\n",
       " tensor([0., 0., 1., 1., 0., 0.]),\n",
       " tensor([1., 0., 0., 0., 1., 0.]),\n",
       " tensor([1., 0., 0., 1., 0., 0.]),\n",
       " tensor([0., 1., 1., 0., 0., 0.]),\n",
       " tensor([0., 0., 0., 0., 1., 1.]),\n",
       " tensor([0., 1., 0., 0., 1., 0.]),\n",
       " tensor([0., 0., 0., 1., 0., 1.]),\n",
       " tensor([1., 0., 0., 0., 1., 0.]),\n",
       " tensor([0., 0., 0., 1., 1., 0.]),\n",
       " tensor([0., 1., 0., 0., 0., 1.]),\n",
       " tensor([0., 0., 0., 0., 1., 1.]),\n",
       " tensor([0., 1., 0., 0., 0., 1.]),\n",
       " tensor([0., 0., 0., 1., 0., 1.]),\n",
       " tensor([1., 0., 0., 1., 0., 0.]),\n",
       " tensor([1., 0., 0., 1., 0., 0.]),\n",
       " tensor([0., 1., 0., 0., 0., 1.]),\n",
       " tensor([0., 1., 0., 1., 0., 0.]),\n",
       " tensor([0., 0., 1., 1., 0., 0.]),\n",
       " tensor([0., 0., 0., 1., 1., 0.]),\n",
       " tensor([1., 0., 0., 0., 1., 0.]),\n",
       " tensor([0., 0., 0., 1., 1., 0.]),\n",
       " tensor([1., 0., 0., 1., 0., 0.]),\n",
       " tensor([1., 0., 0., 1., 0., 0.]),\n",
       " tensor([1., 1., 0., 0., 0., 0.]),\n",
       " tensor([0., 1., 0., 0., 1., 0.]),\n",
       " tensor([0., 0., 1., 0., 0., 1.]),\n",
       " tensor([0., 0., 0., 1., 1., 0.]),\n",
       " tensor([0., 0., 1., 0., 0., 1.]),\n",
       " tensor([1., 0., 0., 1., 0., 0.]),\n",
       " tensor([1., 1., 0., 0., 0., 0.]),\n",
       " tensor([0., 1., 0., 1., 0., 0.]),\n",
       " tensor([1., 0., 1., 0., 0., 0.]),\n",
       " tensor([0., 0., 0., 1., 0., 1.]),\n",
       " tensor([0., 0., 0., 1., 0., 1.]),\n",
       " tensor([1., 1., 0., 0., 0., 0.]),\n",
       " tensor([0., 0., 0., 0., 1., 1.]),\n",
       " tensor([0., 0., 0., 1., 0., 1.]),\n",
       " tensor([0., 0., 1., 1., 0., 0.]),\n",
       " tensor([1., 0., 0., 0., 0., 1.]),\n",
       " tensor([0., 1., 0., 0., 0., 1.]),\n",
       " tensor([0., 0., 0., 1., 1., 0.]),\n",
       " tensor([0., 0., 1., 0., 1., 0.]),\n",
       " tensor([1., 0., 1., 0., 0., 0.]),\n",
       " tensor([0., 0., 1., 1., 0., 0.]),\n",
       " tensor([1., 0., 0., 1., 0., 0.])]"
      ]
     },
     "execution_count": 150,
     "metadata": {},
     "output_type": "execute_result"
    }
   ],
   "source": [
    "a = []\n",
    "for i in input_goals:\n",
    "    a.append(i)\n",
    "a"
   ]
  },
  {
   "cell_type": "code",
   "execution_count": 141,
   "metadata": {},
   "outputs": [
    {
     "data": {
      "text/plain": [
       "199"
      ]
     },
     "execution_count": 141,
     "metadata": {},
     "output_type": "execute_result"
    }
   ],
   "source": [
    "len(output_goal_index)"
   ]
  },
  {
   "cell_type": "code",
   "execution_count": 144,
   "metadata": {},
   "outputs": [
    {
     "data": {
      "text/plain": [
       "[<matplotlib.lines.Line2D at 0x7fd67dca2220>]"
      ]
     },
     "execution_count": 144,
     "metadata": {},
     "output_type": "execute_result"
    },
    {
     "data": {
      "image/png": "[encoded data removed]",
      "text/plain": [
       "<Figure size 432x288 with 1 Axes>"
      ]
     },
     "metadata": {
      "needs_background": "light"
     },
     "output_type": "display_data"
    }
   ],
   "source": [
    "import matplotlib.pyplot as plt\n",
    "plt.plot(losses)"
   ]
  },
  {
   "cell_type": "code",
   "execution_count": 145,
   "metadata": {},
   "outputs": [
    {
     "name": "stdout",
     "output_type": "stream",
     "text": [
      "Same goal index 0, selected goal: 0\n",
      "Same goal index 1, selected goal: 1\n",
      "Same goal index 2, selected goal: 2\n",
      "Same goal index 3, selected goal: 3\n",
      "Same goal index 4, selected goal: 4\n",
      "Same goal index 5, selected goal: 5\n",
      "Same goal index 6, selected goal: 6\n",
      "Same goal index 7, selected goal: 7\n",
      "Same goal index 8, selected goal: 8\n",
      "Same goal index 9, selected goal: 9\n",
      "Same goal index 10, selected goal: 10\n",
      "Same goal index 11, selected goal: 11\n",
      "Same goal index 12, selected goal: 12\n",
      "Same goal index 13, selected goal: 13\n",
      "Same goal index 14, selected goal: 14\n"
     ]
    }
   ],
   "source": [
    "for i,goal in enumerate(goals):\n",
    "    print(f\"Same goal index {i}, selected goal: {sender(torch.tensor(goal, dtype=torch.float)).argmax()}\")\n"
   ]
  }
 ],
 "metadata": {
  "kernelspec": {
   "display_name": "Python 3.9.7 ('marl-env': venv)",
   "language": "python",
   "name": "python3"
  },
  "language_info": {
   "codemirror_mode": {
    "name": "ipython",
    "version": 3
   },
   "file_extension": ".py",
   "mimetype": "text/x-python",
   "name": "python",
   "nbconvert_exporter": "python",
   "pygments_lexer": "ipython3",
   "version": "3.9.7"
  },
  "orig_nbformat": 4,
  "vscode": {
   "interpreter": {
    "hash": "ba8aa1b69f904e3342c40bcdd1b69ae4a3cf2054115c347781ce67fba2dd2c9e"
   }
  }
 },
 "nbformat": 4,
 "nbformat_minor": 2
}
