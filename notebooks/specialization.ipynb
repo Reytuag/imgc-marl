{
 "cells": [
  {
   "cell_type": "markdown",
   "metadata": {},
   "source": [
    "# Notebook to compute the specialization for all seeds of a given experiment\n",
    "\n",
    "* Set the correct number of landmarks\n",
    "* Set the number of agents in the population \n",
    "* Set the results dir containing all the seeds to report"
   ]
  },
  {
   "cell_type": "code",
   "execution_count": 1,
   "metadata": {},
   "outputs": [],
   "source": [
    "import json\n",
    "import os\n",
    "\n",
    "import matplotlib.pyplot as plt\n",
    "import numpy as np\n",
    "from itertools import combinations\n",
    "import pandas as pd"
   ]
  },
  {
   "cell_type": "code",
   "execution_count": 2,
   "metadata": {},
   "outputs": [
    {
     "name": "stdout",
     "output_type": "stream",
     "text": [
      "alignment_vs_p.png\t\t\tprobabilistic_setup_naming_game.ipynb\r\n",
      "communication_q_networks_results.ipynb\tresults.ipynb\r\n",
      "naming_game_results.ipynb\t\tresults_zeroshot.ipynb\r\n",
      "out.mp4\t\t\t\t\tspecialization.ipynb\r\n"
     ]
    }
   ],
   "source": []
  },
  {
   "cell_type": "code",
   "execution_count": 11,
   "metadata": {},
   "outputs": [],
   "source": [
    "NUMBER_OF_LANDMARKS = 6\n",
    "n_agents = 2\n",
    "results_dir = os.environ[\"SCRATCH\"]+\"/elias_expe/2_agents/cooperative/modified_reward/6_landmarks/independent\"\n",
    "\n",
    "\n",
    "individual_goals = np.eye(NUMBER_OF_LANDMARKS, dtype=np.uint8).tolist()\n",
    "collective_goals = np.array(list(combinations(individual_goals, 2))).sum(1).tolist()\n",
    "goals = [\"\".join(str(t) for t in g) for g in collective_goals]\n",
    "goals_index = {i: g for i, g in zip(range(len(goals)), goals)}\n",
    "agents = [f\"agent_{i}\" for i in range(n_agents)]"
   ]
  },
  {
   "cell_type": "code",
   "execution_count": 12,
   "metadata": {},
   "outputs": [],
   "source": [
    "specializations_during_training = []\n",
    "specializations_convergence = []\n",
    "for subdir in os.listdir(results_dir):\n",
    "    if(os.path.isdir(results_dir+\"/\"+subdir)):\n",
    "\n",
    "        full_path = os.path.join(results_dir, subdir, \"result.json\")\n",
    "        result_dump = open(full_path, \"r\")\n",
    "        # parse metrics\n",
    "        for result in result_dump:\n",
    "            # we always redefine this to only consider the last set of results (last evaluation)\n",
    "            metrics = json.loads(result).get(\"evaluation\")\n",
    "            if metrics is not None:\n",
    "                for g in goals:\n",
    "                    for agent in agents:\n",
    "                        if (\n",
    "                            metrics[\"hist_stats\"].get(f\"{agent} position for {g}\")\n",
    "                            is not None\n",
    "                            and len(metrics[\"hist_stats\"].get(f\"{agent} position for {g}\"))\n",
    "                            > 0\n",
    "                        ):\n",
    "                            aux = pd.DataFrame(\n",
    "                                metrics[\"hist_stats\"].get(f\"{agent} position for {g}\")\n",
    "                            ).value_counts()\n",
    "                            specializations_during_training.append(\n",
    "                                aux.value_counts().max() / aux.value_counts().sum()\n",
    "                            )\n",
    "        specializations_convergence.extend(\n",
    "            specializations_during_training[-len(goals) * n_agents :]\n",
    "        )"
   ]
  },
  {
   "cell_type": "code",
   "execution_count": 13,
   "metadata": {},
   "outputs": [
    {
     "name": "stdout",
     "output_type": "stream",
     "text": [
      "Specialization at convergence 0.7666666666666667\n",
      "Specialization during training 0.846601120625859\n"
     ]
    }
   ],
   "source": [
    "print(\n",
    "    f\"Specialization at convergence {sum(specializations_convergence) / len(specializations_convergence)}\"\n",
    ")\n",
    "print(\n",
    "    f\"Specialization during training {sum(specializations_during_training) / len(specializations_during_training)}\"\n",
    ")"
   ]
  }
 ],
 "metadata": {
  "interpreter": {
   "hash": "ba8aa1b69f904e3342c40bcdd1b69ae4a3cf2054115c347781ce67fba2dd2c9e"
  },
  "kernelspec": {
   "display_name": "Python 3 (ipykernel)",
   "language": "python",
   "name": "python3"
  },
  "language_info": {
   "codemirror_mode": {
    "name": "ipython",
    "version": 3
   },
   "file_extension": ".py",
   "mimetype": "text/x-python",
   "name": "python",
   "nbconvert_exporter": "python",
   "pygments_lexer": "ipython3",
   "version": "3.10.5"
  }
 },
 "nbformat": 4,
 "nbformat_minor": 2
}
