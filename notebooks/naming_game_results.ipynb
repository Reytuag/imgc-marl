{
 "cells": [
  {
   "cell_type": "markdown",
   "metadata": {},
   "source": [
    "# Notebook for analysing results of the naming game, matrices visualizations"
   ]
  },
  {
   "cell_type": "markdown",
   "metadata": {},
   "source": [
    "This notebook can be used for generating videos of all the naming matrices during training for a specific seed. A video of the evolution of the naming matrices will be stored in the experiment's directory"
   ]
  },
  {
   "cell_type": "code",
   "execution_count": 1,
   "metadata": {},
   "outputs": [],
   "source": [
    "import os\n",
    "import random\n",
    "import tempfile\n",
    "from copy import deepcopy\n",
    "from datetime import datetime\n",
    "\n",
    "import click\n",
    "import imgc_marl.envs.population as population\n",
    "import numpy as np\n",
    "import yaml\n",
    "from imgc_marl.callbacks import (\n",
    "    PopGoalLinesCallback,\n",
    "    PopGoalLinesCommunicationCallback,\n",
    "    PopGoalLinesNamingCallback,\n",
    "    PopGoalLinesNamingCallback1Matrix,\n",
    ")\n",
    "from imgc_marl.evaluation import (\n",
    "    communication_custom_eval_function,\n",
    "    custom_eval_function,\n",
    ")\n",
    "from imgc_marl.models.basic_communication import BasicCommunicationNetwork\n",
    "from imgc_marl.models.full_naming_game import FullNamingNetwork\n",
    "from imgc_marl.models.full_naming_game_single_matrix import FullNamingNetwork1Matrix\n",
    "from imgc_marl.policies.basic_communication import BasicCommunicationTrainer\n",
    "from imgc_marl.policies.full_naming_game import FullNamingTrainer\n",
    "from imgc_marl.policies.full_naming_game_single_matrix import FullNamingTrainer1Matrix\n",
    "from imgc_marl.utils import keep_relevant_results\n",
    "from ray.rllib.agents.ppo import DEFAULT_CONFIG, PPOTrainer\n",
    "from ray.rllib.models import ModelCatalog\n",
    "from ray.rllib.policy.policy import PolicySpec\n",
    "from ray.tune.logger import UnifiedLogger, pretty_print\n",
    "import torch\n",
    "import matplotlib.pyplot as plt\n",
    "import moviepy"
   ]
  },
  {
   "cell_type": "markdown",
   "metadata": {},
   "source": [
    "* Select correct configuration file \n",
    "* Select environment (3 or 6 landmarks)\n",
    "* Select the experiment you want to evaluate"
   ]
  },
  {
   "cell_type": "code",
   "execution_count": 2,
   "metadata": {},
   "outputs": [
    {
     "name": "stdout",
     "output_type": "stream",
     "text": [
      "2022-10-15_20-21-051i6ubnd9  train-152633_0.slurm.err  train-152633_2.slurm.out\r\n",
      "2022-10-15_20-21-055x1s5ecg  train-152633_0.slurm.out  train-152633_3.slurm.err\r\n",
      "2022-10-15_20-21-05l2jrttu4  train-152633_1.slurm.err  train-152633_3.slurm.out\r\n",
      "2022-10-15_20-21-05n2r125tc  train-152633_1.slurm.out  train-152633_4.slurm.err\r\n",
      "2022-10-15_20-21-05zvlbcbhk  train-152633_2.slurm.err  train-152633_4.slurm.out\r\n"
     ]
    }
   ],
   "source": [
    "!ls $SCRATCH/elias_expe/2_agents/cooperative/modified_reward/6_landmarks/naming_game/2_matrix\n"
   ]
  },
  {
   "cell_type": "code",
   "execution_count": 2,
   "metadata": {},
   "outputs": [
    {
     "name": "stdout",
     "output_type": "stream",
     "text": [
      "2022-10-27_19-14-40v1v3_6dl  stdout.txt\t\t       train-493234_2.slurm.out\r\n",
      "2022-10-27_19-19-56_8ve71_y  train-493234_0.slurm.err  train-493234_3.slurm.err\r\n",
      "2022-10-27_19-21-22pozgzx7i  train-493234_0.slurm.out  train-493234_3.slurm.out\r\n",
      "2022-10-27_19-24-53kh4dr43g  train-493234_1.slurm.err  train-493234_4.slurm.err\r\n",
      "2022-10-27_19-24-53qlfxv7fz  train-493234_1.slurm.out  train-493234_4.slurm.out\r\n",
      "stderr.txt\t\t     train-493234_2.slurm.err\r\n"
     ]
    }
   ],
   "source": [
    "!ls $SCRATCH/elias_expe/2_agents/all/modified_reward/3_landmarks_reward1/naming_game_30msg_alpha10_temp30\n"
   ]
  },
  {
   "cell_type": "code",
   "execution_count": 45,
   "metadata": {
    "scrolled": true
   },
   "outputs": [
    {
     "name": "stdout",
     "output_type": "stream",
     "text": [
      "2022-10-25_22-07-33e3kaf119  train-427643_0.slurm.err  train-427643_2.slurm.out\r\n",
      "2022-10-25_22-07-3606x7jyz3  train-427643_0.slurm.out  train-427643_3.slurm.err\r\n",
      "2022-10-25_22-07-369e50deqs  train-427643_1.slurm.err  train-427643_3.slurm.out\r\n",
      "2022-10-25_22-07-36nrhqi86q  train-427643_1.slurm.out  train-427643_4.slurm.err\r\n",
      "2022-10-25_22-07-44fppth2yq  train-427643_2.slurm.err  train-427643_4.slurm.out\r\n"
     ]
    }
   ],
   "source": [
    "!ls $SCRATCH/elias_expe/2_agents/all/modified_reward/6_landmarks/naming_game_30msg_alpha10_temp30b\n"
   ]
  },
  {
   "cell_type": "code",
   "execution_count": 9,
   "metadata": {},
   "outputs": [],
   "source": [
    "from imgc_marl.envs.population import PopGoalLinesEnv, PopLargeGoalLinesEnv\n",
    "\n",
    "# 3 landmarks\n",
    "#config_file = \"goal_lines_naming.yml\"\n",
    "config_file=\"goal_lines_2agents_naming_game_all_modified.yml\"\n",
    "environment = PopGoalLinesEnv\n",
    "\n",
    "# 6 landmarks\n",
    "#config_file = \"large_goal_lines_2agents_naming_game_all_modified.yml\"\n",
    "#environment = PopLargeGoalLinesEnv\n",
    "\n",
    "\n",
    "# directory of the checkpoints you want to evaluate\n",
    "checkpoints_dir = os.environ[\"SCRATCH\"]+\"/elias_expe/2_agents/all/modified_reward/3_landmarks_reward1/naming_game_30msg_alpha10_temp30/2022-10-27_19-14-40v1v3_6dl\""
   ]
  },
  {
   "cell_type": "code",
   "execution_count": 5,
   "metadata": {},
   "outputs": [],
   "source": [
    "from imgc_marl.envs.population import PopGoalLinesEnv, PopLargeGoalLinesEnv\n",
    "\n",
    "# 3 landmarks\n",
    "#config_file = \"goal_lines_naming.yml\"\n",
    "config_file=\"goal_lines_2agents_naming_game_all_modified.yml\"\n",
    "environment = PopGoalLinesEnv\n",
    "\n",
    "# 6 landmarks\n",
    "#config_file = \"large_goal_lines_naming.yml\"\n",
    "#environment = PopLargeGoalLinesEnv\n",
    "\n",
    "\n",
    "# directory of the checkpoints you want to evaluate\n",
    "checkpoints_dir = os.environ[\"SCRATCH\"]+\"/elias_expe/2_agents/all/modified_reward/3_landmarks/naming_game_30msg_alpha05_temp30/2022-10-20_01-15-1472rqeu15\""
   ]
  },
  {
   "cell_type": "code",
   "execution_count": 10,
   "metadata": {},
   "outputs": [
    {
     "name": "stderr",
     "output_type": "stream",
     "text": [
      "2022-10-28 10:33:40,515\tWARNING multi_agent_env.py:137 -- observation_space_contains() has not been implemented\n",
      "2022-10-28 10:33:40,516\tWARNING multi_agent_env.py:137 -- observation_space_contains() has not been implemented\n",
      "2022-10-28 10:33:40,516\tWARNING multi_agent_env.py:137 -- observation_space_contains() has not been implemented\n",
      "2022-10-28 10:33:40,517\tWARNING multi_agent_env.py:193 -- action_space_sample() has not been implemented\n",
      "2022-10-28 10:33:40,518\tWARNING multi_agent_env.py:137 -- observation_space_contains() has not been implemented\n",
      "2022-10-28 10:33:40,524\tWARNING catalog.py:628 -- Custom ModelV2 should accept all custom options as **kwargs, instead of expecting them in config['custom_model_config']!\n",
      "2022-10-28 10:33:40,540\tWARNING catalog.py:628 -- Custom ModelV2 should accept all custom options as **kwargs, instead of expecting them in config['custom_model_config']!\n",
      "WARNING:ray.tune.utils.util:Install gputil for GPU system monitoring.\n"
     ]
    }
   ],
   "source": [
    "with open(f\"../scripts/configs/{config_file}\", \"r\") as f:\n",
    "    user_config = yaml.safe_load(f)\n",
    "# General settings of the algorithm\n",
    "config = deepcopy(DEFAULT_CONFIG)\n",
    "config[\"num_workers\"] = 0\n",
    "config[\"framework\"] = \"torch\"\n",
    "use_communication = user_config.get(\"communication\", False)\n",
    "\n",
    "config[\"horizon\"] = 300\n",
    "config[\"rollout_fragment_length\"] = config[\"horizon\"]\n",
    "config[\"env_config\"] = user_config[\"env_config\"]\n",
    "config[\"train_batch_size\"] = 60_000\n",
    "config[\"sgd_minibatch_size\"] = 10_000\n",
    "config[\"lambda\"] = 0.9\n",
    "config[\"lr\"] = 0.0003\n",
    "\n",
    "\n",
    "nb_msg= 30\n",
    "\n",
    "def policy_mapping_fn(agent_id):\n",
    "    return agent_id\n",
    "\n",
    "\n",
    "config[\"multiagent\"] = {\n",
    "    \"policies\": {\n",
    "        f\"agent_{i}\": PolicySpec(\n",
    "            policy_class=None, observation_space=None, action_space=None\n",
    "        )\n",
    "        for i in range(config[\"env_config\"][\"population_size\"])\n",
    "    },\n",
    "    \"policy_mapping_fn\": policy_mapping_fn,\n",
    "}\n",
    "\n",
    "train_env = environment\n",
    "\n",
    "ModelCatalog.register_custom_model(\"FullNamingNetwork1Matrix\", FullNamingNetwork1Matrix)\n",
    "number_of_goals = environment(config[\"env_config\"]).goal_space_dim\n",
    "config[\"model\"] = {\n",
    "    \"custom_model\": \"FullNamingNetwork1Matrix\",\n",
    "    \"custom_model_config\": {\n",
    "        \"number_of_goals\": number_of_goals,\n",
    "        \"train_matrix\": user_config.get(\"train_matrix\", False),\n",
    "        \"nb_msg\":nb_msg,\n",
    "    },\n",
    "}\n",
    "trainer = FullNamingTrainer1Matrix(\n",
    "    config=config,\n",
    "    env=train_env,\n",
    ")"
   ]
  },
  {
   "cell_type": "markdown",
   "metadata": {},
   "source": [
    "# Inspecting matrices through time"
   ]
  },
  {
   "cell_type": "code",
   "execution_count": 11,
   "metadata": {},
   "outputs": [
    {
     "name": "stdout",
     "output_type": "stream",
     "text": [
      "checkpoint-10\n"
     ]
    },
    {
     "name": "stderr",
     "output_type": "stream",
     "text": [
      "2022-10-28 10:34:00,803\tINFO trainable.py:588 -- Restored on 10.159.0.6 from checkpoint: /gpfsscratch/rech/imi/uzw47io/elias_expe/2_agents/all/modified_reward/3_landmarks_reward1/naming_game_30msg_alpha10_temp30/2022-10-27_19-14-40v1v3_6dl/checkpoint_000010/checkpoint-10\n",
      "2022-10-28 10:34:00,804\tINFO trainable.py:597 -- Current state after restoring: {'_iteration': 10, '_timesteps_total': None, '_time_total': 454.62507367134094, '_episodes_total': 2793}\n",
      "2022-10-28 10:34:01,083\tINFO trainable.py:588 -- Restored on 10.159.0.6 from checkpoint: /gpfsscratch/rech/imi/uzw47io/elias_expe/2_agents/all/modified_reward/3_landmarks_reward1/naming_game_30msg_alpha10_temp30/2022-10-27_19-14-40v1v3_6dl/checkpoint_000020/checkpoint-20\n",
      "2022-10-28 10:34:01,083\tINFO trainable.py:597 -- Current state after restoring: {'_iteration': 20, '_timesteps_total': None, '_time_total': 913.6632552146912, '_episodes_total': 8613}\n"
     ]
    },
    {
     "name": "stdout",
     "output_type": "stream",
     "text": [
      "checkpoint-20\n"
     ]
    },
    {
     "name": "stderr",
     "output_type": "stream",
     "text": [
      "2022-10-28 10:34:01,352\tINFO trainable.py:588 -- Restored on 10.159.0.6 from checkpoint: /gpfsscratch/rech/imi/uzw47io/elias_expe/2_agents/all/modified_reward/3_landmarks_reward1/naming_game_30msg_alpha10_temp30/2022-10-27_19-14-40v1v3_6dl/checkpoint_000030/checkpoint-30\n",
      "2022-10-28 10:34:01,352\tINFO trainable.py:597 -- Current state after restoring: {'_iteration': 30, '_timesteps_total': None, '_time_total': 1369.158375263214, '_episodes_total': 19069}\n"
     ]
    },
    {
     "name": "stdout",
     "output_type": "stream",
     "text": [
      "checkpoint-30\n"
     ]
    },
    {
     "name": "stderr",
     "output_type": "stream",
     "text": [
      "2022-10-28 10:34:01,556\tINFO trainable.py:588 -- Restored on 10.159.0.6 from checkpoint: /gpfsscratch/rech/imi/uzw47io/elias_expe/2_agents/all/modified_reward/3_landmarks_reward1/naming_game_30msg_alpha10_temp30/2022-10-27_19-14-40v1v3_6dl/checkpoint_000040/checkpoint-40\n",
      "2022-10-28 10:34:01,560\tINFO trainable.py:597 -- Current state after restoring: {'_iteration': 40, '_timesteps_total': None, '_time_total': 1841.3229908943176, '_episodes_total': 32017}\n"
     ]
    },
    {
     "name": "stdout",
     "output_type": "stream",
     "text": [
      "checkpoint-40\n"
     ]
    },
    {
     "name": "stderr",
     "output_type": "stream",
     "text": [
      "2022-10-28 10:34:01,828\tINFO trainable.py:588 -- Restored on 10.159.0.6 from checkpoint: /gpfsscratch/rech/imi/uzw47io/elias_expe/2_agents/all/modified_reward/3_landmarks_reward1/naming_game_30msg_alpha10_temp30/2022-10-27_19-14-40v1v3_6dl/checkpoint_000050/checkpoint-50\n",
      "2022-10-28 10:34:01,829\tINFO trainable.py:597 -- Current state after restoring: {'_iteration': 50, '_timesteps_total': None, '_time_total': 2314.47483587265, '_episodes_total': 45309}\n"
     ]
    },
    {
     "name": "stdout",
     "output_type": "stream",
     "text": [
      "checkpoint-50\n"
     ]
    },
    {
     "name": "stderr",
     "output_type": "stream",
     "text": [
      "2022-10-28 10:34:02,266\tINFO trainable.py:588 -- Restored on 10.159.0.6 from checkpoint: /gpfsscratch/rech/imi/uzw47io/elias_expe/2_agents/all/modified_reward/3_landmarks_reward1/naming_game_30msg_alpha10_temp30/2022-10-27_19-14-40v1v3_6dl/checkpoint_000060/checkpoint-60\n",
      "2022-10-28 10:34:02,267\tINFO trainable.py:597 -- Current state after restoring: {'_iteration': 60, '_timesteps_total': None, '_time_total': 2807.906049489975, '_episodes_total': 58439}\n"
     ]
    },
    {
     "name": "stdout",
     "output_type": "stream",
     "text": [
      "checkpoint-60\n"
     ]
    },
    {
     "name": "stderr",
     "output_type": "stream",
     "text": [
      "2022-10-28 10:34:02,536\tINFO trainable.py:588 -- Restored on 10.159.0.6 from checkpoint: /gpfsscratch/rech/imi/uzw47io/elias_expe/2_agents/all/modified_reward/3_landmarks_reward1/naming_game_30msg_alpha10_temp30/2022-10-27_19-14-40v1v3_6dl/checkpoint_000070/checkpoint-70\n",
      "2022-10-28 10:34:02,537\tINFO trainable.py:597 -- Current state after restoring: {'_iteration': 70, '_timesteps_total': None, '_time_total': 3412.6584622859955, '_episodes_total': 71900}\n"
     ]
    },
    {
     "name": "stdout",
     "output_type": "stream",
     "text": [
      "checkpoint-70\n"
     ]
    },
    {
     "name": "stderr",
     "output_type": "stream",
     "text": [
      "2022-10-28 10:34:02,806\tINFO trainable.py:588 -- Restored on 10.159.0.6 from checkpoint: /gpfsscratch/rech/imi/uzw47io/elias_expe/2_agents/all/modified_reward/3_landmarks_reward1/naming_game_30msg_alpha10_temp30/2022-10-27_19-14-40v1v3_6dl/checkpoint_000080/checkpoint-80\n",
      "2022-10-28 10:34:02,806\tINFO trainable.py:597 -- Current state after restoring: {'_iteration': 80, '_timesteps_total': None, '_time_total': 3961.137195110321, '_episodes_total': 85498}\n"
     ]
    },
    {
     "name": "stdout",
     "output_type": "stream",
     "text": [
      "checkpoint-80\n"
     ]
    },
    {
     "name": "stderr",
     "output_type": "stream",
     "text": [
      "2022-10-28 10:34:03,070\tINFO trainable.py:588 -- Restored on 10.159.0.6 from checkpoint: /gpfsscratch/rech/imi/uzw47io/elias_expe/2_agents/all/modified_reward/3_landmarks_reward1/naming_game_30msg_alpha10_temp30/2022-10-27_19-14-40v1v3_6dl/checkpoint_000090/checkpoint-90\n",
      "2022-10-28 10:34:03,071\tINFO trainable.py:597 -- Current state after restoring: {'_iteration': 90, '_timesteps_total': None, '_time_total': 4471.144795656204, '_episodes_total': 98847}\n"
     ]
    },
    {
     "name": "stdout",
     "output_type": "stream",
     "text": [
      "checkpoint-90\n"
     ]
    },
    {
     "name": "stderr",
     "output_type": "stream",
     "text": [
      "2022-10-28 10:34:03,347\tINFO trainable.py:588 -- Restored on 10.159.0.6 from checkpoint: /gpfsscratch/rech/imi/uzw47io/elias_expe/2_agents/all/modified_reward/3_landmarks_reward1/naming_game_30msg_alpha10_temp30/2022-10-27_19-14-40v1v3_6dl/checkpoint_000100/checkpoint-100\n",
      "2022-10-28 10:34:03,347\tINFO trainable.py:597 -- Current state after restoring: {'_iteration': 100, '_timesteps_total': None, '_time_total': 5057.337912321091, '_episodes_total': 112016}\n"
     ]
    },
    {
     "name": "stdout",
     "output_type": "stream",
     "text": [
      "checkpoint-100\n"
     ]
    },
    {
     "name": "stderr",
     "output_type": "stream",
     "text": [
      "2022-10-28 10:34:03,606\tINFO trainable.py:588 -- Restored on 10.159.0.6 from checkpoint: /gpfsscratch/rech/imi/uzw47io/elias_expe/2_agents/all/modified_reward/3_landmarks_reward1/naming_game_30msg_alpha10_temp30/2022-10-27_19-14-40v1v3_6dl/checkpoint_000110/checkpoint-110\n",
      "2022-10-28 10:34:03,607\tINFO trainable.py:597 -- Current state after restoring: {'_iteration': 110, '_timesteps_total': None, '_time_total': 5589.631548166275, '_episodes_total': 125205}\n"
     ]
    },
    {
     "name": "stdout",
     "output_type": "stream",
     "text": [
      "checkpoint-110\n"
     ]
    },
    {
     "name": "stderr",
     "output_type": "stream",
     "text": [
      "2022-10-28 10:34:03,866\tINFO trainable.py:588 -- Restored on 10.159.0.6 from checkpoint: /gpfsscratch/rech/imi/uzw47io/elias_expe/2_agents/all/modified_reward/3_landmarks_reward1/naming_game_30msg_alpha10_temp30/2022-10-27_19-14-40v1v3_6dl/checkpoint_000120/checkpoint-120\n",
      "2022-10-28 10:34:03,868\tINFO trainable.py:597 -- Current state after restoring: {'_iteration': 120, '_timesteps_total': None, '_time_total': 6111.158798933029, '_episodes_total': 138482}\n"
     ]
    },
    {
     "name": "stdout",
     "output_type": "stream",
     "text": [
      "checkpoint-120\n"
     ]
    },
    {
     "name": "stderr",
     "output_type": "stream",
     "text": [
      "2022-10-28 10:34:04,137\tINFO trainable.py:588 -- Restored on 10.159.0.6 from checkpoint: /gpfsscratch/rech/imi/uzw47io/elias_expe/2_agents/all/modified_reward/3_landmarks_reward1/naming_game_30msg_alpha10_temp30/2022-10-27_19-14-40v1v3_6dl/checkpoint_000130/checkpoint-130\n",
      "2022-10-28 10:34:04,140\tINFO trainable.py:597 -- Current state after restoring: {'_iteration': 130, '_timesteps_total': None, '_time_total': 6651.238924026489, '_episodes_total': 152061}\n"
     ]
    },
    {
     "name": "stdout",
     "output_type": "stream",
     "text": [
      "checkpoint-130\n"
     ]
    },
    {
     "name": "stderr",
     "output_type": "stream",
     "text": [
      "2022-10-28 10:34:04,409\tINFO trainable.py:588 -- Restored on 10.159.0.6 from checkpoint: /gpfsscratch/rech/imi/uzw47io/elias_expe/2_agents/all/modified_reward/3_landmarks_reward1/naming_game_30msg_alpha10_temp30/2022-10-27_19-14-40v1v3_6dl/checkpoint_000140/checkpoint-140\n",
      "2022-10-28 10:34:04,410\tINFO trainable.py:597 -- Current state after restoring: {'_iteration': 140, '_timesteps_total': None, '_time_total': 7163.3968098163605, '_episodes_total': 165401}\n"
     ]
    },
    {
     "name": "stdout",
     "output_type": "stream",
     "text": [
      "checkpoint-140\n"
     ]
    },
    {
     "name": "stderr",
     "output_type": "stream",
     "text": [
      "2022-10-28 10:34:04,674\tINFO trainable.py:588 -- Restored on 10.159.0.6 from checkpoint: /gpfsscratch/rech/imi/uzw47io/elias_expe/2_agents/all/modified_reward/3_landmarks_reward1/naming_game_30msg_alpha10_temp30/2022-10-27_19-14-40v1v3_6dl/checkpoint_000150/checkpoint-150\n",
      "2022-10-28 10:34:04,674\tINFO trainable.py:597 -- Current state after restoring: {'_iteration': 150, '_timesteps_total': None, '_time_total': 7768.003048419952, '_episodes_total': 178635}\n"
     ]
    },
    {
     "name": "stdout",
     "output_type": "stream",
     "text": [
      "checkpoint-150\n"
     ]
    },
    {
     "name": "stderr",
     "output_type": "stream",
     "text": [
      "2022-10-28 10:34:04,880\tINFO trainable.py:588 -- Restored on 10.159.0.6 from checkpoint: /gpfsscratch/rech/imi/uzw47io/elias_expe/2_agents/all/modified_reward/3_landmarks_reward1/naming_game_30msg_alpha10_temp30/2022-10-27_19-14-40v1v3_6dl/checkpoint_000160/checkpoint-160\n",
      "2022-10-28 10:34:04,887\tINFO trainable.py:597 -- Current state after restoring: {'_iteration': 160, '_timesteps_total': None, '_time_total': 8329.253116369247, '_episodes_total': 191975}\n"
     ]
    },
    {
     "name": "stdout",
     "output_type": "stream",
     "text": [
      "checkpoint-160\n"
     ]
    },
    {
     "name": "stderr",
     "output_type": "stream",
     "text": [
      "2022-10-28 10:34:05,154\tINFO trainable.py:588 -- Restored on 10.159.0.6 from checkpoint: /gpfsscratch/rech/imi/uzw47io/elias_expe/2_agents/all/modified_reward/3_landmarks_reward1/naming_game_30msg_alpha10_temp30/2022-10-27_19-14-40v1v3_6dl/checkpoint_000170/checkpoint-170\n",
      "2022-10-28 10:34:05,154\tINFO trainable.py:597 -- Current state after restoring: {'_iteration': 170, '_timesteps_total': None, '_time_total': 8852.435687065125, '_episodes_total': 205202}\n"
     ]
    },
    {
     "name": "stdout",
     "output_type": "stream",
     "text": [
      "checkpoint-170\n"
     ]
    },
    {
     "name": "stderr",
     "output_type": "stream",
     "text": [
      "2022-10-28 10:34:05,426\tINFO trainable.py:588 -- Restored on 10.159.0.6 from checkpoint: /gpfsscratch/rech/imi/uzw47io/elias_expe/2_agents/all/modified_reward/3_landmarks_reward1/naming_game_30msg_alpha10_temp30/2022-10-27_19-14-40v1v3_6dl/checkpoint_000180/checkpoint-180\n",
      "2022-10-28 10:34:05,427\tINFO trainable.py:597 -- Current state after restoring: {'_iteration': 180, '_timesteps_total': None, '_time_total': 9403.699460983276, '_episodes_total': 218651}\n"
     ]
    },
    {
     "name": "stdout",
     "output_type": "stream",
     "text": [
      "checkpoint-180\n"
     ]
    },
    {
     "name": "stderr",
     "output_type": "stream",
     "text": [
      "2022-10-28 10:34:05,633\tINFO trainable.py:588 -- Restored on 10.159.0.6 from checkpoint: /gpfsscratch/rech/imi/uzw47io/elias_expe/2_agents/all/modified_reward/3_landmarks_reward1/naming_game_30msg_alpha10_temp30/2022-10-27_19-14-40v1v3_6dl/checkpoint_000190/checkpoint-190\n",
      "2022-10-28 10:34:05,634\tINFO trainable.py:597 -- Current state after restoring: {'_iteration': 190, '_timesteps_total': None, '_time_total': 9920.983267784119, '_episodes_total': 232088}\n"
     ]
    },
    {
     "name": "stdout",
     "output_type": "stream",
     "text": [
      "checkpoint-190\n"
     ]
    },
    {
     "name": "stderr",
     "output_type": "stream",
     "text": [
      "2022-10-28 10:34:05,901\tINFO trainable.py:588 -- Restored on 10.159.0.6 from checkpoint: /gpfsscratch/rech/imi/uzw47io/elias_expe/2_agents/all/modified_reward/3_landmarks_reward1/naming_game_30msg_alpha10_temp30/2022-10-27_19-14-40v1v3_6dl/checkpoint_000200/checkpoint-200\n",
      "2022-10-28 10:34:05,902\tINFO trainable.py:597 -- Current state after restoring: {'_iteration': 200, '_timesteps_total': None, '_time_total': 10446.013216733932, '_episodes_total': 245656}\n"
     ]
    },
    {
     "name": "stdout",
     "output_type": "stream",
     "text": [
      "checkpoint-200\n"
     ]
    },
    {
     "name": "stderr",
     "output_type": "stream",
     "text": [
      "2022-10-28 10:34:06,277\tINFO trainable.py:588 -- Restored on 10.159.0.6 from checkpoint: /gpfsscratch/rech/imi/uzw47io/elias_expe/2_agents/all/modified_reward/3_landmarks_reward1/naming_game_30msg_alpha10_temp30/2022-10-27_19-14-40v1v3_6dl/checkpoint_000210/checkpoint-210\n",
      "2022-10-28 10:34:06,278\tINFO trainable.py:597 -- Current state after restoring: {'_iteration': 210, '_timesteps_total': None, '_time_total': 11038.544260501862, '_episodes_total': 259032}\n"
     ]
    },
    {
     "name": "stdout",
     "output_type": "stream",
     "text": [
      "checkpoint-210\n",
      "checkpoint-220\n"
     ]
    },
    {
     "name": "stderr",
     "output_type": "stream",
     "text": [
      "2022-10-28 10:34:06,540\tINFO trainable.py:588 -- Restored on 10.159.0.6 from checkpoint: /gpfsscratch/rech/imi/uzw47io/elias_expe/2_agents/all/modified_reward/3_landmarks_reward1/naming_game_30msg_alpha10_temp30/2022-10-27_19-14-40v1v3_6dl/checkpoint_000220/checkpoint-220\n",
      "2022-10-28 10:34:06,540\tINFO trainable.py:597 -- Current state after restoring: {'_iteration': 220, '_timesteps_total': None, '_time_total': 11561.213726043701, '_episodes_total': 272567}\n",
      "2022-10-28 10:34:06,743\tINFO trainable.py:588 -- Restored on 10.159.0.6 from checkpoint: /gpfsscratch/rech/imi/uzw47io/elias_expe/2_agents/all/modified_reward/3_landmarks_reward1/naming_game_30msg_alpha10_temp30/2022-10-27_19-14-40v1v3_6dl/checkpoint_000230/checkpoint-230\n",
      "2022-10-28 10:34:06,744\tINFO trainable.py:597 -- Current state after restoring: {'_iteration': 230, '_timesteps_total': None, '_time_total': 12086.260548591614, '_episodes_total': 286271}\n"
     ]
    },
    {
     "name": "stdout",
     "output_type": "stream",
     "text": [
      "checkpoint-230\n"
     ]
    },
    {
     "name": "stderr",
     "output_type": "stream",
     "text": [
      "2022-10-28 10:34:07,007\tINFO trainable.py:588 -- Restored on 10.159.0.6 from checkpoint: /gpfsscratch/rech/imi/uzw47io/elias_expe/2_agents/all/modified_reward/3_landmarks_reward1/naming_game_30msg_alpha10_temp30/2022-10-27_19-14-40v1v3_6dl/checkpoint_000240/checkpoint-240\n",
      "2022-10-28 10:34:07,007\tINFO trainable.py:597 -- Current state after restoring: {'_iteration': 240, '_timesteps_total': None, '_time_total': 12609.811352014542, '_episodes_total': 299849}\n"
     ]
    },
    {
     "name": "stdout",
     "output_type": "stream",
     "text": [
      "checkpoint-240\n"
     ]
    },
    {
     "name": "stderr",
     "output_type": "stream",
     "text": [
      "2022-10-28 10:34:07,268\tINFO trainable.py:588 -- Restored on 10.159.0.6 from checkpoint: /gpfsscratch/rech/imi/uzw47io/elias_expe/2_agents/all/modified_reward/3_landmarks_reward1/naming_game_30msg_alpha10_temp30/2022-10-27_19-14-40v1v3_6dl/checkpoint_000250/checkpoint-250\n",
      "2022-10-28 10:34:07,270\tINFO trainable.py:597 -- Current state after restoring: {'_iteration': 250, '_timesteps_total': None, '_time_total': 13106.82937836647, '_episodes_total': 313616}\n"
     ]
    },
    {
     "name": "stdout",
     "output_type": "stream",
     "text": [
      "checkpoint-250\n"
     ]
    },
    {
     "name": "stderr",
     "output_type": "stream",
     "text": [
      "2022-10-28 10:34:07,520\tINFO trainable.py:588 -- Restored on 10.159.0.6 from checkpoint: /gpfsscratch/rech/imi/uzw47io/elias_expe/2_agents/all/modified_reward/3_landmarks_reward1/naming_game_30msg_alpha10_temp30/2022-10-27_19-14-40v1v3_6dl/checkpoint_000260/checkpoint-260\n",
      "2022-10-28 10:34:07,522\tINFO trainable.py:597 -- Current state after restoring: {'_iteration': 260, '_timesteps_total': None, '_time_total': 13656.268040180206, '_episodes_total': 327135}\n"
     ]
    },
    {
     "name": "stdout",
     "output_type": "stream",
     "text": [
      "checkpoint-260\n"
     ]
    },
    {
     "name": "stderr",
     "output_type": "stream",
     "text": [
      "2022-10-28 10:34:07,728\tINFO trainable.py:588 -- Restored on 10.159.0.6 from checkpoint: /gpfsscratch/rech/imi/uzw47io/elias_expe/2_agents/all/modified_reward/3_landmarks_reward1/naming_game_30msg_alpha10_temp30/2022-10-27_19-14-40v1v3_6dl/checkpoint_000270/checkpoint-270\n",
      "2022-10-28 10:34:07,728\tINFO trainable.py:597 -- Current state after restoring: {'_iteration': 270, '_timesteps_total': None, '_time_total': 14221.347922801971, '_episodes_total': 340775}\n"
     ]
    },
    {
     "name": "stdout",
     "output_type": "stream",
     "text": [
      "checkpoint-270\n"
     ]
    },
    {
     "name": "stderr",
     "output_type": "stream",
     "text": [
      "2022-10-28 10:34:07,997\tINFO trainable.py:588 -- Restored on 10.159.0.6 from checkpoint: /gpfsscratch/rech/imi/uzw47io/elias_expe/2_agents/all/modified_reward/3_landmarks_reward1/naming_game_30msg_alpha10_temp30/2022-10-27_19-14-40v1v3_6dl/checkpoint_000280/checkpoint-280\n",
      "2022-10-28 10:34:07,997\tINFO trainable.py:597 -- Current state after restoring: {'_iteration': 280, '_timesteps_total': None, '_time_total': 14763.553443193436, '_episodes_total': 354508}\n"
     ]
    },
    {
     "name": "stdout",
     "output_type": "stream",
     "text": [
      "checkpoint-280\n"
     ]
    },
    {
     "name": "stderr",
     "output_type": "stream",
     "text": [
      "2022-10-28 10:34:08,263\tINFO trainable.py:588 -- Restored on 10.159.0.6 from checkpoint: /gpfsscratch/rech/imi/uzw47io/elias_expe/2_agents/all/modified_reward/3_landmarks_reward1/naming_game_30msg_alpha10_temp30/2022-10-27_19-14-40v1v3_6dl/checkpoint_000290/checkpoint-290\n",
      "2022-10-28 10:34:08,264\tINFO trainable.py:597 -- Current state after restoring: {'_iteration': 290, '_timesteps_total': None, '_time_total': 15322.773516893387, '_episodes_total': 368522}\n"
     ]
    },
    {
     "name": "stdout",
     "output_type": "stream",
     "text": [
      "checkpoint-290\n"
     ]
    },
    {
     "name": "stderr",
     "output_type": "stream",
     "text": [
      "2022-10-28 10:34:08,521\tINFO trainable.py:588 -- Restored on 10.159.0.6 from checkpoint: /gpfsscratch/rech/imi/uzw47io/elias_expe/2_agents/all/modified_reward/3_landmarks_reward1/naming_game_30msg_alpha10_temp30/2022-10-27_19-14-40v1v3_6dl/checkpoint_000300/checkpoint-300\n",
      "2022-10-28 10:34:08,523\tINFO trainable.py:597 -- Current state after restoring: {'_iteration': 300, '_timesteps_total': None, '_time_total': 15838.688460588455, '_episodes_total': 382169}\n"
     ]
    },
    {
     "name": "stdout",
     "output_type": "stream",
     "text": [
      "checkpoint-300\n"
     ]
    },
    {
     "data": {
      "image/png": "[encoded data removed]",
      "text/plain": [
       "<Figure size 720x720 with 2 Axes>"
      ]
     },
     "metadata": {
      "needs_background": "light"
     },
     "output_type": "display_data"
    }
   ],
   "source": [
    "imgs = []\n",
    "for checkpoint_dir in sorted(os.listdir(checkpoints_dir)):\n",
    "    if os.path.isdir(os.path.join(checkpoints_dir, checkpoint_dir)):\n",
    "        checkpoint_file = sorted(\n",
    "            os.listdir(os.path.join(checkpoints_dir, checkpoint_dir))\n",
    "        )[1]\n",
    "        print(checkpoint_file)\n",
    "        trainer.restore(os.path.join(checkpoints_dir, checkpoint_dir, checkpoint_file))\n",
    "        agent_0 = trainer.get_policy(\"agent_0\").model\n",
    "        agent_1 = trainer.get_policy(\"agent_1\").model\n",
    "        with torch.no_grad():\n",
    "            agent_0_matrix = agent_0._matrix.numpy()\n",
    "            agent_1_matrix = agent_1._matrix.numpy()\n",
    "\n",
    "            # Generate images\n",
    "            for j, matrix in enumerate((agent_0_matrix, agent_1_matrix)):\n",
    "                if j == 0:\n",
    "                    fig = plt.figure(num=1, clear=True, figsize=(10, 10))\n",
    "                    ax = fig.add_subplot(121)\n",
    "                    ax.set_title(\"Agent 0\")\n",
    "                elif j == 1:\n",
    "                    ax = fig.add_subplot(122)\n",
    "                    ax.set_title(\"Agent 1\")\n",
    "                ax.matshow(matrix, cmap=plt.cm.Blues)\n",
    "                for x in range(nb_msg):\n",
    "                    for y in range(number_of_goals):\n",
    "                        c = matrix[y, x]\n",
    "                        #ax.text(x, y, str(round(c, 3)), va=\"center\", ha=\"center\")\n",
    "                if j == 1:\n",
    "                    plt.tight_layout()\n",
    "                    canvas = fig.figure.canvas\n",
    "                    canvas.draw()\n",
    "                    data = np.frombuffer(canvas.tostring_rgb(), dtype=np.uint8)\n",
    "                    img = data.reshape(canvas.get_width_height()[::-1] + (3,))\n",
    "                    imgs.append(img)\n",
    "                    "
   ]
  },
  {
   "cell_type": "code",
   "execution_count": 12,
   "metadata": {},
   "outputs": [
    {
     "name": "stderr",
     "output_type": "stream",
     "text": [
      "Failed to create secure directory (/pulse): Permission denied\n",
      "ALSA lib confmisc.c:855:(parse_card) cannot find card '0'\n",
      "ALSA lib conf.c:5178:(_snd_config_evaluate) function snd_func_card_inum returned error: No such file or directory\n",
      "ALSA lib confmisc.c:422:(snd_func_concat) error evaluating strings\n",
      "ALSA lib conf.c:5178:(_snd_config_evaluate) function snd_func_concat returned error: No such file or directory\n",
      "ALSA lib confmisc.c:1334:(snd_func_refer) error evaluating name\n",
      "ALSA lib conf.c:5178:(_snd_config_evaluate) function snd_func_refer returned error: No such file or directory\n",
      "ALSA lib conf.c:5701:(snd_config_expand) Evaluate error: No such file or directory\n",
      "ALSA lib pcm.c:2664:(snd_pcm_open_noupdate) Unknown PCM default\n",
      "Failed to create secure directory (/pulse): Permission denied\n",
      "ALSA lib confmisc.c:855:(parse_card) cannot find card '0'\n",
      "ALSA lib conf.c:5178:(_snd_config_evaluate) function snd_func_card_inum returned error: No such file or directory\n",
      "ALSA lib confmisc.c:422:(snd_func_concat) error evaluating strings\n",
      "ALSA lib conf.c:5178:(_snd_config_evaluate) function snd_func_concat returned error: No such file or directory\n",
      "ALSA lib confmisc.c:1334:(snd_func_refer) error evaluating name\n",
      "ALSA lib conf.c:5178:(_snd_config_evaluate) function snd_func_refer returned error: No such file or directory\n",
      "ALSA lib conf.c:5701:(snd_config_expand) Evaluate error: No such file or directory\n",
      "ALSA lib pcm.c:2664:(snd_pcm_open_noupdate) Unknown PCM default\n"
     ]
    }
   ],
   "source": [
    "import os\n",
    "os.environ['FFMPEG_BINARY'] = 'ffmpeg'\n",
    "import moviepy.editor as mvp\n",
    "from moviepy.video.io.ffmpeg_writer import FFMPEG_VideoWriter\n",
    "from IPython.display import HTML, display, clear_output\n",
    "\n",
    "class VideoWriter:\n",
    "  def __init__(self, filename, fps=30.0, **kw):\n",
    "    self.writer = None\n",
    "    self.params = dict(filename=filename, fps=fps, **kw)\n",
    "\n",
    "  def add(self, img):\n",
    "    img = np.asarray(img)\n",
    "    if self.writer is None:\n",
    "      h, w = img.shape[:2]\n",
    "      self.writer = FFMPEG_VideoWriter(size=(w, h), **self.params)\n",
    "    if img.dtype in [np.float32, np.float64]:\n",
    "      img = np.uint8(img.clip(0, 1)*255)\n",
    "    if len(img.shape) == 2:\n",
    "      img = np.repeat(img[..., None], 3, -1)\n",
    "    self.writer.write_frame(img)\n",
    "\n",
    "  def close(self):\n",
    "    if self.writer:\n",
    "      self.writer.close()\n",
    "\n",
    "  def __enter__(self):\n",
    "    return self\n",
    "\n",
    "  def __exit__(self, *kw):\n",
    "    self.close()\n",
    "\n",
    "  def show(self, **kw):\n",
    "      self.close()\n",
    "      fn = self.params['filename']\n",
    "      display(mvp.ipython_display(fn, **kw))"
   ]
  },
  {
   "cell_type": "code",
   "execution_count": 13,
   "metadata": {},
   "outputs": [
    {
     "data": {
      "text/html": [
       "<div align=middle><video src='data:video/mp4;base64,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' controls>Sorry, seems like your browser doesn't support HTML5 audio/video</video></div>"
      ],
      "text/plain": [
       "<moviepy.video.io.html_tools.HTML2 object>"
      ]
     },
     "metadata": {},
     "output_type": "display_data"
    }
   ],
   "source": [
    "with VideoWriter(\"out.mp4\", 2) as vid:\n",
    "          for i in range(len(imgs)):\n",
    "            im = imgs[i]\n",
    "            \n",
    "            #plt.imshow(im)\n",
    "            #plt.show()\n",
    "            vid.add(im)\n",
    "          vid.show()"
   ]
  },
  {
   "cell_type": "code",
   "execution_count": 10,
   "metadata": {},
   "outputs": [
    {
     "name": "stdout",
     "output_type": "stream",
     "text": [
      "Moviepy - Building video /gpfsscratch/rech/imi/uzw47io/elias_expe/2_agents/cooperative/modified_reward/6_landmarks/naming_game/2022-10-05_16-20-20vb4p7o7w/naming_game.mp4.\n",
      "Moviepy - Writing video /gpfsscratch/rech/imi/uzw47io/elias_expe/2_agents/cooperative/modified_reward/6_landmarks/naming_game/2022-10-05_16-20-20vb4p7o7w/naming_game.mp4\n",
      "\n"
     ]
    },
    {
     "name": "stderr",
     "output_type": "stream",
     "text": [
      "                                                              \r"
     ]
    },
    {
     "name": "stdout",
     "output_type": "stream",
     "text": [
      "Moviepy - Done !\n",
      "Moviepy - video ready /gpfsscratch/rech/imi/uzw47io/elias_expe/2_agents/cooperative/modified_reward/6_landmarks/naming_game/2022-10-05_16-20-20vb4p7o7w/naming_game.mp4\n"
     ]
    }
   ],
   "source": [
    "matrix_video = moviepy.video.io.ImageSequenceClip.ImageSequenceClip(imgs, fps=0.5)\n",
    "\n",
    "matrix_video.write_videofile(os.path.join(checkpoints_dir, \"naming_game.mp4\"))"
   ]
  },
  {
   "cell_type": "code",
   "execution_count": 47,
   "metadata": {},
   "outputs": [
    {
     "name": "stderr",
     "output_type": "stream",
     "text": [
      "2022-10-26 16:25:19,214\tINFO trainable.py:588 -- Restored on 10.159.0.40 from checkpoint: /gpfsscratch/rech/imi/uzw47io/elias_expe/2_agents/all/modified_reward/6_landmarks/naming_game_30msg_alpha10_temp30b/2022-10-25_22-07-33e3kaf119/checkpoint_000010/checkpoint-10\n",
      "2022-10-26 16:25:19,219\tINFO trainable.py:597 -- Current state after restoring: {'_iteration': 10, '_timesteps_total': None, '_time_total': 593.3660271167755, '_episodes_total': 1208}\n",
      "2022-10-26 16:25:19,255\tINFO trainable.py:588 -- Restored on 10.159.0.40 from checkpoint: /gpfsscratch/rech/imi/uzw47io/elias_expe/2_agents/all/modified_reward/6_landmarks/naming_game_30msg_alpha10_temp30b/2022-10-25_22-07-33e3kaf119/checkpoint_000020/checkpoint-20\n",
      "2022-10-26 16:25:19,256\tINFO trainable.py:597 -- Current state after restoring: {'_iteration': 20, '_timesteps_total': None, '_time_total': 1161.2787308692932, '_episodes_total': 2500}\n",
      "2022-10-26 16:25:19,294\tINFO trainable.py:588 -- Restored on 10.159.0.40 from checkpoint: /gpfsscratch/rech/imi/uzw47io/elias_expe/2_agents/all/modified_reward/6_landmarks/naming_game_30msg_alpha10_temp30b/2022-10-25_22-07-33e3kaf119/checkpoint_000030/checkpoint-30\n",
      "2022-10-26 16:25:19,299\tINFO trainable.py:597 -- Current state after restoring: {'_iteration': 30, '_timesteps_total': None, '_time_total': 1708.8779788017273, '_episodes_total': 3933}\n",
      "2022-10-26 16:25:19,334\tINFO trainable.py:588 -- Restored on 10.159.0.40 from checkpoint: /gpfsscratch/rech/imi/uzw47io/elias_expe/2_agents/all/modified_reward/6_landmarks/naming_game_30msg_alpha10_temp30b/2022-10-25_22-07-33e3kaf119/checkpoint_000040/checkpoint-40\n",
      "2022-10-26 16:25:19,335\tINFO trainable.py:597 -- Current state after restoring: {'_iteration': 40, '_timesteps_total': None, '_time_total': 2213.910891532898, '_episodes_total': 5440}\n",
      "2022-10-26 16:25:19,372\tINFO trainable.py:588 -- Restored on 10.159.0.40 from checkpoint: /gpfsscratch/rech/imi/uzw47io/elias_expe/2_agents/all/modified_reward/6_landmarks/naming_game_30msg_alpha10_temp30b/2022-10-25_22-07-33e3kaf119/checkpoint_000050/checkpoint-50\n",
      "2022-10-26 16:25:19,373\tINFO trainable.py:597 -- Current state after restoring: {'_iteration': 50, '_timesteps_total': None, '_time_total': 2712.4021096229553, '_episodes_total': 7236}\n"
     ]
    },
    {
     "name": "stdout",
     "output_type": "stream",
     "text": [
      "[[1 0 0 0 0 0]\n",
      " [0 1 0 0 0 0]\n",
      " [0 0 1 0 0 0]\n",
      " [0 0 0 1 0 0]\n",
      " [0 0 0 0 1 0]\n",
      " [0 0 0 0 0 1]\n",
      " [1 1 0 0 0 0]\n",
      " [1 0 1 0 0 0]\n",
      " [1 0 0 1 0 0]\n",
      " [1 0 0 0 1 0]\n",
      " [1 0 0 0 0 1]\n",
      " [0 1 1 0 0 0]\n",
      " [0 1 0 1 0 0]\n",
      " [0 1 0 0 1 0]\n",
      " [0 1 0 0 0 1]\n",
      " [0 0 1 1 0 0]\n",
      " [0 0 1 0 1 0]\n",
      " [0 0 1 0 0 1]\n",
      " [0 0 0 1 1 0]\n",
      " [0 0 0 1 0 1]\n",
      " [0 0 0 0 1 1]]\n",
      "checkpoint-10\n",
      "0.2\n",
      "0.13333333333333333\n",
      "checkpoint-20\n",
      "0.13333333333333333\n",
      "0.06666666666666667\n",
      "checkpoint-30\n",
      "0.06666666666666667\n",
      "0.06666666666666667\n",
      "checkpoint-40\n",
      "0\n",
      "0\n",
      "checkpoint-50\n",
      "0\n",
      "0.06666666666666667\n",
      "checkpoint-60\n"
     ]
    },
    {
     "name": "stderr",
     "output_type": "stream",
     "text": [
      "2022-10-26 16:25:19,403\tINFO trainable.py:588 -- Restored on 10.159.0.40 from checkpoint: /gpfsscratch/rech/imi/uzw47io/elias_expe/2_agents/all/modified_reward/6_landmarks/naming_game_30msg_alpha10_temp30b/2022-10-25_22-07-33e3kaf119/checkpoint_000060/checkpoint-60\n",
      "2022-10-26 16:25:19,407\tINFO trainable.py:597 -- Current state after restoring: {'_iteration': 60, '_timesteps_total': None, '_time_total': 3198.264193058014, '_episodes_total': 9464}\n",
      "2022-10-26 16:25:19,443\tINFO trainable.py:588 -- Restored on 10.159.0.40 from checkpoint: /gpfsscratch/rech/imi/uzw47io/elias_expe/2_agents/all/modified_reward/6_landmarks/naming_game_30msg_alpha10_temp30b/2022-10-25_22-07-33e3kaf119/checkpoint_000070/checkpoint-70\n",
      "2022-10-26 16:25:19,443\tINFO trainable.py:597 -- Current state after restoring: {'_iteration': 70, '_timesteps_total': None, '_time_total': 3690.8849008083344, '_episodes_total': 11975}\n",
      "2022-10-26 16:25:19,479\tINFO trainable.py:588 -- Restored on 10.159.0.40 from checkpoint: /gpfsscratch/rech/imi/uzw47io/elias_expe/2_agents/all/modified_reward/6_landmarks/naming_game_30msg_alpha10_temp30b/2022-10-25_22-07-33e3kaf119/checkpoint_000080/checkpoint-80\n",
      "2022-10-26 16:25:19,479\tINFO trainable.py:597 -- Current state after restoring: {'_iteration': 80, '_timesteps_total': None, '_time_total': 4176.362663030624, '_episodes_total': 14609}\n",
      "2022-10-26 16:25:19,518\tINFO trainable.py:588 -- Restored on 10.159.0.40 from checkpoint: /gpfsscratch/rech/imi/uzw47io/elias_expe/2_agents/all/modified_reward/6_landmarks/naming_game_30msg_alpha10_temp30b/2022-10-25_22-07-33e3kaf119/checkpoint_000090/checkpoint-90\n",
      "2022-10-26 16:25:19,518\tINFO trainable.py:597 -- Current state after restoring: {'_iteration': 90, '_timesteps_total': None, '_time_total': 4655.692275047302, '_episodes_total': 17144}\n",
      "2022-10-26 16:25:19,551\tINFO trainable.py:588 -- Restored on 10.159.0.40 from checkpoint: /gpfsscratch/rech/imi/uzw47io/elias_expe/2_agents/all/modified_reward/6_landmarks/naming_game_30msg_alpha10_temp30b/2022-10-25_22-07-33e3kaf119/checkpoint_000100/checkpoint-100\n",
      "2022-10-26 16:25:19,552\tINFO trainable.py:597 -- Current state after restoring: {'_iteration': 100, '_timesteps_total': None, '_time_total': 5133.073987483978, '_episodes_total': 19719}\n",
      "2022-10-26 16:25:19,589\tINFO trainable.py:588 -- Restored on 10.159.0.40 from checkpoint: /gpfsscratch/rech/imi/uzw47io/elias_expe/2_agents/all/modified_reward/6_landmarks/naming_game_30msg_alpha10_temp30b/2022-10-25_22-07-33e3kaf119/checkpoint_000110/checkpoint-110\n",
      "2022-10-26 16:25:19,590\tINFO trainable.py:597 -- Current state after restoring: {'_iteration': 110, '_timesteps_total': None, '_time_total': 5596.663414955139, '_episodes_total': 22024}\n"
     ]
    },
    {
     "name": "stdout",
     "output_type": "stream",
     "text": [
      "0\n",
      "0\n",
      "checkpoint-70\n",
      "0.06666666666666667\n",
      "0\n",
      "checkpoint-80\n",
      "0\n",
      "0\n",
      "checkpoint-90\n",
      "0\n",
      "0\n",
      "checkpoint-100\n",
      "0\n",
      "0\n",
      "checkpoint-110\n",
      "0\n",
      "0.06666666666666667\n",
      "checkpoint-120\n"
     ]
    },
    {
     "name": "stderr",
     "output_type": "stream",
     "text": [
      "2022-10-26 16:25:19,630\tINFO trainable.py:588 -- Restored on 10.159.0.40 from checkpoint: /gpfsscratch/rech/imi/uzw47io/elias_expe/2_agents/all/modified_reward/6_landmarks/naming_game_30msg_alpha10_temp30b/2022-10-25_22-07-33e3kaf119/checkpoint_000120/checkpoint-120\n",
      "2022-10-26 16:25:19,630\tINFO trainable.py:597 -- Current state after restoring: {'_iteration': 120, '_timesteps_total': None, '_time_total': 6052.6431930065155, '_episodes_total': 24182}\n",
      "2022-10-26 16:25:19,666\tINFO trainable.py:588 -- Restored on 10.159.0.40 from checkpoint: /gpfsscratch/rech/imi/uzw47io/elias_expe/2_agents/all/modified_reward/6_landmarks/naming_game_30msg_alpha10_temp30b/2022-10-25_22-07-33e3kaf119/checkpoint_000130/checkpoint-130\n",
      "2022-10-26 16:25:19,669\tINFO trainable.py:597 -- Current state after restoring: {'_iteration': 130, '_timesteps_total': None, '_time_total': 6504.098202943802, '_episodes_total': 26470}\n",
      "2022-10-26 16:25:19,707\tINFO trainable.py:588 -- Restored on 10.159.0.40 from checkpoint: /gpfsscratch/rech/imi/uzw47io/elias_expe/2_agents/all/modified_reward/6_landmarks/naming_game_30msg_alpha10_temp30b/2022-10-25_22-07-33e3kaf119/checkpoint_000140/checkpoint-140\n",
      "2022-10-26 16:25:19,707\tINFO trainable.py:597 -- Current state after restoring: {'_iteration': 140, '_timesteps_total': None, '_time_total': 6953.567130565643, '_episodes_total': 28777}\n",
      "2022-10-26 16:25:19,743\tINFO trainable.py:588 -- Restored on 10.159.0.40 from checkpoint: /gpfsscratch/rech/imi/uzw47io/elias_expe/2_agents/all/modified_reward/6_landmarks/naming_game_30msg_alpha10_temp30b/2022-10-25_22-07-33e3kaf119/checkpoint_000150/checkpoint-150\n",
      "2022-10-26 16:25:19,744\tINFO trainable.py:597 -- Current state after restoring: {'_iteration': 150, '_timesteps_total': None, '_time_total': 7388.736858844757, '_episodes_total': 31054}\n",
      "2022-10-26 16:25:19,784\tINFO trainable.py:588 -- Restored on 10.159.0.40 from checkpoint: /gpfsscratch/rech/imi/uzw47io/elias_expe/2_agents/all/modified_reward/6_landmarks/naming_game_30msg_alpha10_temp30b/2022-10-25_22-07-33e3kaf119/checkpoint_000160/checkpoint-160\n",
      "2022-10-26 16:25:19,785\tINFO trainable.py:597 -- Current state after restoring: {'_iteration': 160, '_timesteps_total': None, '_time_total': 7824.435415267944, '_episodes_total': 33559}\n",
      "2022-10-26 16:25:19,820\tINFO trainable.py:588 -- Restored on 10.159.0.40 from checkpoint: /gpfsscratch/rech/imi/uzw47io/elias_expe/2_agents/all/modified_reward/6_landmarks/naming_game_30msg_alpha10_temp30b/2022-10-25_22-07-33e3kaf119/checkpoint_000170/checkpoint-170\n",
      "2022-10-26 16:25:19,821\tINFO trainable.py:597 -- Current state after restoring: {'_iteration': 170, '_timesteps_total': None, '_time_total': 8262.141563892365, '_episodes_total': 36573}\n"
     ]
    },
    {
     "name": "stdout",
     "output_type": "stream",
     "text": [
      "0.06666666666666667\n",
      "0\n",
      "checkpoint-130\n",
      "0\n",
      "0\n",
      "checkpoint-140\n",
      "0\n",
      "0\n",
      "checkpoint-150\n",
      "0\n",
      "0.06666666666666667\n",
      "checkpoint-160\n",
      "0\n",
      "0\n",
      "checkpoint-170\n",
      "0\n",
      "0\n",
      "checkpoint-180\n"
     ]
    },
    {
     "name": "stderr",
     "output_type": "stream",
     "text": [
      "2022-10-26 16:25:19,852\tINFO trainable.py:588 -- Restored on 10.159.0.40 from checkpoint: /gpfsscratch/rech/imi/uzw47io/elias_expe/2_agents/all/modified_reward/6_landmarks/naming_game_30msg_alpha10_temp30b/2022-10-25_22-07-33e3kaf119/checkpoint_000180/checkpoint-180\n",
      "2022-10-26 16:25:19,856\tINFO trainable.py:597 -- Current state after restoring: {'_iteration': 180, '_timesteps_total': None, '_time_total': 8704.722266435623, '_episodes_total': 39305}\n",
      "2022-10-26 16:25:19,892\tINFO trainable.py:588 -- Restored on 10.159.0.40 from checkpoint: /gpfsscratch/rech/imi/uzw47io/elias_expe/2_agents/all/modified_reward/6_landmarks/naming_game_30msg_alpha10_temp30b/2022-10-25_22-07-33e3kaf119/checkpoint_000190/checkpoint-190\n",
      "2022-10-26 16:25:19,893\tINFO trainable.py:597 -- Current state after restoring: {'_iteration': 190, '_timesteps_total': None, '_time_total': 9142.787417411804, '_episodes_total': 42174}\n",
      "2022-10-26 16:25:19,925\tINFO trainable.py:588 -- Restored on 10.159.0.40 from checkpoint: /gpfsscratch/rech/imi/uzw47io/elias_expe/2_agents/all/modified_reward/6_landmarks/naming_game_30msg_alpha10_temp30b/2022-10-25_22-07-33e3kaf119/checkpoint_000200/checkpoint-200\n",
      "2022-10-26 16:25:19,926\tINFO trainable.py:597 -- Current state after restoring: {'_iteration': 200, '_timesteps_total': None, '_time_total': 9590.08123087883, '_episodes_total': 45327}\n",
      "2022-10-26 16:25:19,966\tINFO trainable.py:588 -- Restored on 10.159.0.40 from checkpoint: /gpfsscratch/rech/imi/uzw47io/elias_expe/2_agents/all/modified_reward/6_landmarks/naming_game_30msg_alpha10_temp30b/2022-10-25_22-07-33e3kaf119/checkpoint_000210/checkpoint-210\n",
      "2022-10-26 16:25:19,967\tINFO trainable.py:597 -- Current state after restoring: {'_iteration': 210, '_timesteps_total': None, '_time_total': 10026.297441482544, '_episodes_total': 48552}\n",
      "2022-10-26 16:25:20,016\tINFO trainable.py:588 -- Restored on 10.159.0.40 from checkpoint: /gpfsscratch/rech/imi/uzw47io/elias_expe/2_agents/all/modified_reward/6_landmarks/naming_game_30msg_alpha10_temp30b/2022-10-25_22-07-33e3kaf119/checkpoint_000220/checkpoint-220\n",
      "2022-10-26 16:25:20,017\tINFO trainable.py:597 -- Current state after restoring: {'_iteration': 220, '_timesteps_total': None, '_time_total': 10466.595907211304, '_episodes_total': 52251}\n"
     ]
    },
    {
     "name": "stdout",
     "output_type": "stream",
     "text": [
      "0\n",
      "0\n",
      "checkpoint-190\n",
      "0\n",
      "0\n",
      "checkpoint-200\n",
      "0\n",
      "0.06666666666666667\n",
      "checkpoint-210\n",
      "0\n",
      "0.06666666666666667\n",
      "checkpoint-220\n",
      "0\n",
      "0\n",
      "checkpoint-230\n"
     ]
    },
    {
     "name": "stderr",
     "output_type": "stream",
     "text": [
      "2022-10-26 16:25:20,066\tINFO trainable.py:588 -- Restored on 10.159.0.40 from checkpoint: /gpfsscratch/rech/imi/uzw47io/elias_expe/2_agents/all/modified_reward/6_landmarks/naming_game_30msg_alpha10_temp30b/2022-10-25_22-07-33e3kaf119/checkpoint_000230/checkpoint-230\n",
      "2022-10-26 16:25:20,067\tINFO trainable.py:597 -- Current state after restoring: {'_iteration': 230, '_timesteps_total': None, '_time_total': 10903.361088514328, '_episodes_total': 56112}\n",
      "2022-10-26 16:25:20,104\tINFO trainable.py:588 -- Restored on 10.159.0.40 from checkpoint: /gpfsscratch/rech/imi/uzw47io/elias_expe/2_agents/all/modified_reward/6_landmarks/naming_game_30msg_alpha10_temp30b/2022-10-25_22-07-33e3kaf119/checkpoint_000240/checkpoint-240\n",
      "2022-10-26 16:25:20,104\tINFO trainable.py:597 -- Current state after restoring: {'_iteration': 240, '_timesteps_total': None, '_time_total': 11354.026430368423, '_episodes_total': 60704}\n",
      "2022-10-26 16:25:20,137\tINFO trainable.py:588 -- Restored on 10.159.0.40 from checkpoint: /gpfsscratch/rech/imi/uzw47io/elias_expe/2_agents/all/modified_reward/6_landmarks/naming_game_30msg_alpha10_temp30b/2022-10-25_22-07-33e3kaf119/checkpoint_000250/checkpoint-250\n",
      "2022-10-26 16:25:20,138\tINFO trainable.py:597 -- Current state after restoring: {'_iteration': 250, '_timesteps_total': None, '_time_total': 11796.060477733612, '_episodes_total': 65347}\n",
      "2022-10-26 16:25:20,187\tINFO trainable.py:588 -- Restored on 10.159.0.40 from checkpoint: /gpfsscratch/rech/imi/uzw47io/elias_expe/2_agents/all/modified_reward/6_landmarks/naming_game_30msg_alpha10_temp30b/2022-10-25_22-07-33e3kaf119/checkpoint_000260/checkpoint-260\n",
      "2022-10-26 16:25:20,188\tINFO trainable.py:597 -- Current state after restoring: {'_iteration': 260, '_timesteps_total': None, '_time_total': 12226.500457763672, '_episodes_total': 69758}\n",
      "2022-10-26 16:25:20,218\tINFO trainable.py:588 -- Restored on 10.159.0.40 from checkpoint: /gpfsscratch/rech/imi/uzw47io/elias_expe/2_agents/all/modified_reward/6_landmarks/naming_game_30msg_alpha10_temp30b/2022-10-25_22-07-33e3kaf119/checkpoint_000270/checkpoint-270\n",
      "2022-10-26 16:25:20,223\tINFO trainable.py:597 -- Current state after restoring: {'_iteration': 270, '_timesteps_total': None, '_time_total': 12656.796758174896, '_episodes_total': 74413}\n",
      "2022-10-26 16:25:20,261\tINFO trainable.py:588 -- Restored on 10.159.0.40 from checkpoint: /gpfsscratch/rech/imi/uzw47io/elias_expe/2_agents/all/modified_reward/6_landmarks/naming_game_30msg_alpha10_temp30b/2022-10-25_22-07-33e3kaf119/checkpoint_000280/checkpoint-280\n",
      "2022-10-26 16:25:20,265\tINFO trainable.py:597 -- Current state after restoring: {'_iteration': 280, '_timesteps_total': None, '_time_total': 13101.706279754639, '_episodes_total': 79562}\n"
     ]
    },
    {
     "name": "stdout",
     "output_type": "stream",
     "text": [
      "0\n",
      "0\n",
      "checkpoint-240\n",
      "0\n",
      "0\n",
      "checkpoint-250\n",
      "0\n",
      "0\n",
      "checkpoint-260\n",
      "0\n",
      "0\n",
      "checkpoint-270\n",
      "0\n",
      "0\n",
      "checkpoint-280\n",
      "0\n",
      "0\n",
      "checkpoint-290\n"
     ]
    },
    {
     "name": "stderr",
     "output_type": "stream",
     "text": [
      "2022-10-26 16:25:20,303\tINFO trainable.py:588 -- Restored on 10.159.0.40 from checkpoint: /gpfsscratch/rech/imi/uzw47io/elias_expe/2_agents/all/modified_reward/6_landmarks/naming_game_30msg_alpha10_temp30b/2022-10-25_22-07-33e3kaf119/checkpoint_000290/checkpoint-290\n",
      "2022-10-26 16:25:20,304\tINFO trainable.py:597 -- Current state after restoring: {'_iteration': 290, '_timesteps_total': None, '_time_total': 13550.323990106583, '_episodes_total': 84669}\n",
      "2022-10-26 16:25:20,352\tINFO trainable.py:588 -- Restored on 10.159.0.40 from checkpoint: /gpfsscratch/rech/imi/uzw47io/elias_expe/2_agents/all/modified_reward/6_landmarks/naming_game_30msg_alpha10_temp30b/2022-10-25_22-07-33e3kaf119/checkpoint_000300/checkpoint-300\n",
      "2022-10-26 16:25:20,353\tINFO trainable.py:597 -- Current state after restoring: {'_iteration': 300, '_timesteps_total': None, '_time_total': 13989.213631868362, '_episodes_total': 89436}\n",
      "2022-10-26 16:25:20,389\tINFO trainable.py:588 -- Restored on 10.159.0.40 from checkpoint: /gpfsscratch/rech/imi/uzw47io/elias_expe/2_agents/all/modified_reward/6_landmarks/naming_game_30msg_alpha10_temp30b/2022-10-25_22-07-33e3kaf119/checkpoint_000310/checkpoint-310\n",
      "2022-10-26 16:25:20,390\tINFO trainable.py:597 -- Current state after restoring: {'_iteration': 310, '_timesteps_total': None, '_time_total': 14412.339728593826, '_episodes_total': 93654}\n",
      "2022-10-26 16:25:20,422\tINFO trainable.py:588 -- Restored on 10.159.0.40 from checkpoint: /gpfsscratch/rech/imi/uzw47io/elias_expe/2_agents/all/modified_reward/6_landmarks/naming_game_30msg_alpha10_temp30b/2022-10-25_22-07-33e3kaf119/checkpoint_000320/checkpoint-320\n",
      "2022-10-26 16:25:20,426\tINFO trainable.py:597 -- Current state after restoring: {'_iteration': 320, '_timesteps_total': None, '_time_total': 14824.989873409271, '_episodes_total': 97566}\n",
      "2022-10-26 16:25:20,462\tINFO trainable.py:588 -- Restored on 10.159.0.40 from checkpoint: /gpfsscratch/rech/imi/uzw47io/elias_expe/2_agents/all/modified_reward/6_landmarks/naming_game_30msg_alpha10_temp30b/2022-10-25_22-07-33e3kaf119/checkpoint_000330/checkpoint-330\n",
      "2022-10-26 16:25:20,463\tINFO trainable.py:597 -- Current state after restoring: {'_iteration': 330, '_timesteps_total': None, '_time_total': 15252.103899478912, '_episodes_total': 101668}\n",
      "2022-10-26 16:25:20,501\tINFO trainable.py:588 -- Restored on 10.159.0.40 from checkpoint: /gpfsscratch/rech/imi/uzw47io/elias_expe/2_agents/all/modified_reward/6_landmarks/naming_game_30msg_alpha10_temp30b/2022-10-25_22-07-33e3kaf119/checkpoint_000340/checkpoint-340\n",
      "2022-10-26 16:25:20,501\tINFO trainable.py:597 -- Current state after restoring: {'_iteration': 340, '_timesteps_total': None, '_time_total': 15671.575038194656, '_episodes_total': 106103}\n"
     ]
    },
    {
     "name": "stdout",
     "output_type": "stream",
     "text": [
      "0\n",
      "0\n",
      "checkpoint-300\n",
      "0\n",
      "0\n",
      "checkpoint-310\n",
      "0\n",
      "0\n",
      "checkpoint-320\n",
      "0\n",
      "0\n",
      "checkpoint-330\n",
      "0\n",
      "0\n",
      "checkpoint-340\n",
      "0\n",
      "0\n",
      "checkpoint-350\n"
     ]
    },
    {
     "name": "stderr",
     "output_type": "stream",
     "text": [
      "2022-10-26 16:25:20,537\tINFO trainable.py:588 -- Restored on 10.159.0.40 from checkpoint: /gpfsscratch/rech/imi/uzw47io/elias_expe/2_agents/all/modified_reward/6_landmarks/naming_game_30msg_alpha10_temp30b/2022-10-25_22-07-33e3kaf119/checkpoint_000350/checkpoint-350\n",
      "2022-10-26 16:25:20,538\tINFO trainable.py:597 -- Current state after restoring: {'_iteration': 350, '_timesteps_total': None, '_time_total': 16094.50787615776, '_episodes_total': 110305}\n",
      "2022-10-26 16:25:20,596\tINFO trainable.py:588 -- Restored on 10.159.0.40 from checkpoint: /gpfsscratch/rech/imi/uzw47io/elias_expe/2_agents/all/modified_reward/6_landmarks/naming_game_30msg_alpha10_temp30b/2022-10-25_22-07-33e3kaf119/checkpoint_000360/checkpoint-360\n",
      "2022-10-26 16:25:20,598\tINFO trainable.py:597 -- Current state after restoring: {'_iteration': 360, '_timesteps_total': None, '_time_total': 16518.262194871902, '_episodes_total': 114398}\n",
      "2022-10-26 16:25:20,634\tINFO trainable.py:588 -- Restored on 10.159.0.40 from checkpoint: /gpfsscratch/rech/imi/uzw47io/elias_expe/2_agents/all/modified_reward/6_landmarks/naming_game_30msg_alpha10_temp30b/2022-10-25_22-07-33e3kaf119/checkpoint_000370/checkpoint-370\n",
      "2022-10-26 16:25:20,635\tINFO trainable.py:597 -- Current state after restoring: {'_iteration': 370, '_timesteps_total': None, '_time_total': 16943.725615739822, '_episodes_total': 118535}\n",
      "2022-10-26 16:25:20,675\tINFO trainable.py:588 -- Restored on 10.159.0.40 from checkpoint: /gpfsscratch/rech/imi/uzw47io/elias_expe/2_agents/all/modified_reward/6_landmarks/naming_game_30msg_alpha10_temp30b/2022-10-25_22-07-33e3kaf119/checkpoint_000380/checkpoint-380\n",
      "2022-10-26 16:25:20,679\tINFO trainable.py:597 -- Current state after restoring: {'_iteration': 380, '_timesteps_total': None, '_time_total': 17366.305498838425, '_episodes_total': 122810}\n",
      "2022-10-26 16:25:20,718\tINFO trainable.py:588 -- Restored on 10.159.0.40 from checkpoint: /gpfsscratch/rech/imi/uzw47io/elias_expe/2_agents/all/modified_reward/6_landmarks/naming_game_30msg_alpha10_temp30b/2022-10-25_22-07-33e3kaf119/checkpoint_000390/checkpoint-390\n",
      "2022-10-26 16:25:20,719\tINFO trainable.py:597 -- Current state after restoring: {'_iteration': 390, '_timesteps_total': None, '_time_total': 17788.722782611847, '_episodes_total': 126948}\n"
     ]
    },
    {
     "name": "stdout",
     "output_type": "stream",
     "text": [
      "0\n",
      "0\n",
      "checkpoint-360\n",
      "0\n",
      "0\n",
      "checkpoint-370\n",
      "0\n",
      "0\n",
      "checkpoint-380\n",
      "0\n",
      "0\n",
      "checkpoint-390\n",
      "0\n",
      "0\n",
      "checkpoint-400\n"
     ]
    },
    {
     "name": "stderr",
     "output_type": "stream",
     "text": [
      "2022-10-26 16:25:20,754\tINFO trainable.py:588 -- Restored on 10.159.0.40 from checkpoint: /gpfsscratch/rech/imi/uzw47io/elias_expe/2_agents/all/modified_reward/6_landmarks/naming_game_30msg_alpha10_temp30b/2022-10-25_22-07-33e3kaf119/checkpoint_000400/checkpoint-400\n",
      "2022-10-26 16:25:20,755\tINFO trainable.py:597 -- Current state after restoring: {'_iteration': 400, '_timesteps_total': None, '_time_total': 18216.431517124176, '_episodes_total': 131372}\n",
      "2022-10-26 16:25:20,785\tINFO trainable.py:588 -- Restored on 10.159.0.40 from checkpoint: /gpfsscratch/rech/imi/uzw47io/elias_expe/2_agents/all/modified_reward/6_landmarks/naming_game_30msg_alpha10_temp30b/2022-10-25_22-07-33e3kaf119/checkpoint_000410/checkpoint-410\n",
      "2022-10-26 16:25:20,791\tINFO trainable.py:597 -- Current state after restoring: {'_iteration': 410, '_timesteps_total': None, '_time_total': 18647.692985534668, '_episodes_total': 135320}\n",
      "2022-10-26 16:25:20,826\tINFO trainable.py:588 -- Restored on 10.159.0.40 from checkpoint: /gpfsscratch/rech/imi/uzw47io/elias_expe/2_agents/all/modified_reward/6_landmarks/naming_game_30msg_alpha10_temp30b/2022-10-25_22-07-33e3kaf119/checkpoint_000420/checkpoint-420\n",
      "2022-10-26 16:25:20,827\tINFO trainable.py:597 -- Current state after restoring: {'_iteration': 420, '_timesteps_total': None, '_time_total': 19074.153098106384, '_episodes_total': 139030}\n",
      "2022-10-26 16:25:20,862\tINFO trainable.py:588 -- Restored on 10.159.0.40 from checkpoint: /gpfsscratch/rech/imi/uzw47io/elias_expe/2_agents/all/modified_reward/6_landmarks/naming_game_30msg_alpha10_temp30b/2022-10-25_22-07-33e3kaf119/checkpoint_000430/checkpoint-430\n",
      "2022-10-26 16:25:20,863\tINFO trainable.py:597 -- Current state after restoring: {'_iteration': 430, '_timesteps_total': None, '_time_total': 19498.284707069397, '_episodes_total': 143114}\n",
      "2022-10-26 16:25:20,899\tINFO trainable.py:588 -- Restored on 10.159.0.40 from checkpoint: /gpfsscratch/rech/imi/uzw47io/elias_expe/2_agents/all/modified_reward/6_landmarks/naming_game_30msg_alpha10_temp30b/2022-10-25_22-07-33e3kaf119/checkpoint_000440/checkpoint-440\n",
      "2022-10-26 16:25:20,900\tINFO trainable.py:597 -- Current state after restoring: {'_iteration': 440, '_timesteps_total': None, '_time_total': 19932.231258392334, '_episodes_total': 147266}\n",
      "2022-10-26 16:25:20,935\tINFO trainable.py:588 -- Restored on 10.159.0.40 from checkpoint: /gpfsscratch/rech/imi/uzw47io/elias_expe/2_agents/all/modified_reward/6_landmarks/naming_game_30msg_alpha10_temp30b/2022-10-25_22-07-33e3kaf119/checkpoint_000450/checkpoint-450\n",
      "2022-10-26 16:25:20,936\tINFO trainable.py:597 -- Current state after restoring: {'_iteration': 450, '_timesteps_total': None, '_time_total': 20356.70084810257, '_episodes_total': 151486}\n"
     ]
    },
    {
     "name": "stdout",
     "output_type": "stream",
     "text": [
      "0\n",
      "0\n",
      "checkpoint-410\n",
      "0.06666666666666667\n",
      "0\n",
      "checkpoint-420\n",
      "0\n",
      "0\n",
      "checkpoint-430\n",
      "0\n",
      "0\n",
      "checkpoint-440\n",
      "0\n",
      "0\n",
      "checkpoint-450\n",
      "0\n",
      "0\n",
      "checkpoint-460\n"
     ]
    },
    {
     "name": "stderr",
     "output_type": "stream",
     "text": [
      "2022-10-26 16:25:20,975\tINFO trainable.py:588 -- Restored on 10.159.0.40 from checkpoint: /gpfsscratch/rech/imi/uzw47io/elias_expe/2_agents/all/modified_reward/6_landmarks/naming_game_30msg_alpha10_temp30b/2022-10-25_22-07-33e3kaf119/checkpoint_000460/checkpoint-460\n",
      "2022-10-26 16:25:20,976\tINFO trainable.py:597 -- Current state after restoring: {'_iteration': 460, '_timesteps_total': None, '_time_total': 20778.230539798737, '_episodes_total': 155511}\n",
      "2022-10-26 16:25:21,015\tINFO trainable.py:588 -- Restored on 10.159.0.40 from checkpoint: /gpfsscratch/rech/imi/uzw47io/elias_expe/2_agents/all/modified_reward/6_landmarks/naming_game_30msg_alpha10_temp30b/2022-10-25_22-07-33e3kaf119/checkpoint_000470/checkpoint-470\n",
      "2022-10-26 16:25:21,016\tINFO trainable.py:597 -- Current state after restoring: {'_iteration': 470, '_timesteps_total': None, '_time_total': 21199.567590236664, '_episodes_total': 159476}\n",
      "2022-10-26 16:25:21,051\tINFO trainable.py:588 -- Restored on 10.159.0.40 from checkpoint: /gpfsscratch/rech/imi/uzw47io/elias_expe/2_agents/all/modified_reward/6_landmarks/naming_game_30msg_alpha10_temp30b/2022-10-25_22-07-33e3kaf119/checkpoint_000480/checkpoint-480\n",
      "2022-10-26 16:25:21,052\tINFO trainable.py:597 -- Current state after restoring: {'_iteration': 480, '_timesteps_total': None, '_time_total': 21622.754778146744, '_episodes_total': 163304}\n",
      "2022-10-26 16:25:21,085\tINFO trainable.py:588 -- Restored on 10.159.0.40 from checkpoint: /gpfsscratch/rech/imi/uzw47io/elias_expe/2_agents/all/modified_reward/6_landmarks/naming_game_30msg_alpha10_temp30b/2022-10-25_22-07-33e3kaf119/checkpoint_000490/checkpoint-490\n",
      "2022-10-26 16:25:21,086\tINFO trainable.py:597 -- Current state after restoring: {'_iteration': 490, '_timesteps_total': None, '_time_total': 22038.110603570938, '_episodes_total': 167538}\n",
      "2022-10-26 16:25:21,122\tINFO trainable.py:588 -- Restored on 10.159.0.40 from checkpoint: /gpfsscratch/rech/imi/uzw47io/elias_expe/2_agents/all/modified_reward/6_landmarks/naming_game_30msg_alpha10_temp30b/2022-10-25_22-07-33e3kaf119/checkpoint_000500/checkpoint-500\n",
      "2022-10-26 16:25:21,123\tINFO trainable.py:597 -- Current state after restoring: {'_iteration': 500, '_timesteps_total': None, '_time_total': 22454.847957611084, '_episodes_total': 171745}\n",
      "2022-10-26 16:25:21,152\tINFO trainable.py:588 -- Restored on 10.159.0.40 from checkpoint: /gpfsscratch/rech/imi/uzw47io/elias_expe/2_agents/all/modified_reward/6_landmarks/naming_game_30msg_alpha10_temp30b/2022-10-25_22-07-33e3kaf119/checkpoint_000510/checkpoint-510\n",
      "2022-10-26 16:25:21,156\tINFO trainable.py:597 -- Current state after restoring: {'_iteration': 510, '_timesteps_total': None, '_time_total': 22876.744446992874, '_episodes_total': 176054}\n"
     ]
    },
    {
     "name": "stdout",
     "output_type": "stream",
     "text": [
      "0\n",
      "0\n",
      "checkpoint-470\n",
      "0\n",
      "0\n",
      "checkpoint-480\n",
      "0\n",
      "0\n",
      "checkpoint-490\n",
      "0\n",
      "0\n",
      "checkpoint-500\n",
      "0\n",
      "0\n",
      "checkpoint-510\n",
      "0\n",
      "0\n",
      "checkpoint-520\n"
     ]
    },
    {
     "name": "stderr",
     "output_type": "stream",
     "text": [
      "2022-10-26 16:25:21,194\tINFO trainable.py:588 -- Restored on 10.159.0.40 from checkpoint: /gpfsscratch/rech/imi/uzw47io/elias_expe/2_agents/all/modified_reward/6_landmarks/naming_game_30msg_alpha10_temp30b/2022-10-25_22-07-33e3kaf119/checkpoint_000520/checkpoint-520\n",
      "2022-10-26 16:25:21,195\tINFO trainable.py:597 -- Current state after restoring: {'_iteration': 520, '_timesteps_total': None, '_time_total': 23295.84621310234, '_episodes_total': 180173}\n",
      "2022-10-26 16:25:21,232\tINFO trainable.py:588 -- Restored on 10.159.0.40 from checkpoint: /gpfsscratch/rech/imi/uzw47io/elias_expe/2_agents/all/modified_reward/6_landmarks/naming_game_30msg_alpha10_temp30b/2022-10-25_22-07-33e3kaf119/checkpoint_000530/checkpoint-530\n",
      "2022-10-26 16:25:21,233\tINFO trainable.py:597 -- Current state after restoring: {'_iteration': 530, '_timesteps_total': None, '_time_total': 23719.522199630737, '_episodes_total': 183815}\n",
      "2022-10-26 16:25:21,266\tINFO trainable.py:588 -- Restored on 10.159.0.40 from checkpoint: /gpfsscratch/rech/imi/uzw47io/elias_expe/2_agents/all/modified_reward/6_landmarks/naming_game_30msg_alpha10_temp30b/2022-10-25_22-07-33e3kaf119/checkpoint_000540/checkpoint-540\n",
      "2022-10-26 16:25:21,268\tINFO trainable.py:597 -- Current state after restoring: {'_iteration': 540, '_timesteps_total': None, '_time_total': 24140.852921009064, '_episodes_total': 187730}\n",
      "2022-10-26 16:25:21,306\tINFO trainable.py:588 -- Restored on 10.159.0.40 from checkpoint: /gpfsscratch/rech/imi/uzw47io/elias_expe/2_agents/all/modified_reward/6_landmarks/naming_game_30msg_alpha10_temp30b/2022-10-25_22-07-33e3kaf119/checkpoint_000550/checkpoint-550\n",
      "2022-10-26 16:25:21,307\tINFO trainable.py:597 -- Current state after restoring: {'_iteration': 550, '_timesteps_total': None, '_time_total': 24559.016302108765, '_episodes_total': 190804}\n",
      "2022-10-26 16:25:21,341\tINFO trainable.py:588 -- Restored on 10.159.0.40 from checkpoint: /gpfsscratch/rech/imi/uzw47io/elias_expe/2_agents/all/modified_reward/6_landmarks/naming_game_30msg_alpha10_temp30b/2022-10-25_22-07-33e3kaf119/checkpoint_000560/checkpoint-560\n",
      "2022-10-26 16:25:21,342\tINFO trainable.py:597 -- Current state after restoring: {'_iteration': 560, '_timesteps_total': None, '_time_total': 24977.133934736252, '_episodes_total': 193939}\n",
      "2022-10-26 16:25:21,374\tINFO trainable.py:588 -- Restored on 10.159.0.40 from checkpoint: /gpfsscratch/rech/imi/uzw47io/elias_expe/2_agents/all/modified_reward/6_landmarks/naming_game_30msg_alpha10_temp30b/2022-10-25_22-07-33e3kaf119/checkpoint_000570/checkpoint-570\n",
      "2022-10-26 16:25:21,376\tINFO trainable.py:597 -- Current state after restoring: {'_iteration': 570, '_timesteps_total': None, '_time_total': 25383.043645381927, '_episodes_total': 196741}\n"
     ]
    },
    {
     "name": "stdout",
     "output_type": "stream",
     "text": [
      "0\n",
      "0\n",
      "checkpoint-530\n",
      "0.06666666666666667\n",
      "0\n",
      "checkpoint-540\n",
      "0\n",
      "0\n",
      "checkpoint-550\n",
      "0\n",
      "0\n",
      "checkpoint-560\n",
      "0.06666666666666667\n",
      "0\n",
      "checkpoint-570\n",
      "0\n",
      "0\n",
      "checkpoint-580\n"
     ]
    },
    {
     "name": "stderr",
     "output_type": "stream",
     "text": [
      "2022-10-26 16:25:21,419\tINFO trainable.py:588 -- Restored on 10.159.0.40 from checkpoint: /gpfsscratch/rech/imi/uzw47io/elias_expe/2_agents/all/modified_reward/6_landmarks/naming_game_30msg_alpha10_temp30b/2022-10-25_22-07-33e3kaf119/checkpoint_000580/checkpoint-580\n",
      "2022-10-26 16:25:21,420\tINFO trainable.py:597 -- Current state after restoring: {'_iteration': 580, '_timesteps_total': None, '_time_total': 25798.375730276108, '_episodes_total': 199726}\n",
      "2022-10-26 16:25:21,455\tINFO trainable.py:588 -- Restored on 10.159.0.40 from checkpoint: /gpfsscratch/rech/imi/uzw47io/elias_expe/2_agents/all/modified_reward/6_landmarks/naming_game_30msg_alpha10_temp30b/2022-10-25_22-07-33e3kaf119/checkpoint_000590/checkpoint-590\n",
      "2022-10-26 16:25:21,456\tINFO trainable.py:597 -- Current state after restoring: {'_iteration': 590, '_timesteps_total': None, '_time_total': 26214.288976192474, '_episodes_total': 202883}\n",
      "2022-10-26 16:25:21,492\tINFO trainable.py:588 -- Restored on 10.159.0.40 from checkpoint: /gpfsscratch/rech/imi/uzw47io/elias_expe/2_agents/all/modified_reward/6_landmarks/naming_game_30msg_alpha10_temp30b/2022-10-25_22-07-33e3kaf119/checkpoint_000600/checkpoint-600\n",
      "2022-10-26 16:25:21,493\tINFO trainable.py:597 -- Current state after restoring: {'_iteration': 600, '_timesteps_total': None, '_time_total': 26627.768231868744, '_episodes_total': 205882}\n",
      "2022-10-26 16:25:21,528\tINFO trainable.py:588 -- Restored on 10.159.0.40 from checkpoint: /gpfsscratch/rech/imi/uzw47io/elias_expe/2_agents/all/modified_reward/6_landmarks/naming_game_30msg_alpha10_temp30b/2022-10-25_22-07-33e3kaf119/checkpoint_000610/checkpoint-610\n",
      "2022-10-26 16:25:21,529\tINFO trainable.py:597 -- Current state after restoring: {'_iteration': 610, '_timesteps_total': None, '_time_total': 27037.384871721268, '_episodes_total': 209020}\n",
      "2022-10-26 16:25:21,571\tINFO trainable.py:588 -- Restored on 10.159.0.40 from checkpoint: /gpfsscratch/rech/imi/uzw47io/elias_expe/2_agents/all/modified_reward/6_landmarks/naming_game_30msg_alpha10_temp30b/2022-10-25_22-07-33e3kaf119/checkpoint_000620/checkpoint-620\n",
      "2022-10-26 16:25:21,572\tINFO trainable.py:597 -- Current state after restoring: {'_iteration': 620, '_timesteps_total': None, '_time_total': 27445.585519075394, '_episodes_total': 212250}\n",
      "2022-10-26 16:25:21,613\tINFO trainable.py:588 -- Restored on 10.159.0.40 from checkpoint: /gpfsscratch/rech/imi/uzw47io/elias_expe/2_agents/all/modified_reward/6_landmarks/naming_game_30msg_alpha10_temp30b/2022-10-25_22-07-33e3kaf119/checkpoint_000630/checkpoint-630\n",
      "2022-10-26 16:25:21,614\tINFO trainable.py:597 -- Current state after restoring: {'_iteration': 630, '_timesteps_total': None, '_time_total': 27855.065587997437, '_episodes_total': 215768}\n"
     ]
    },
    {
     "name": "stdout",
     "output_type": "stream",
     "text": [
      "0\n",
      "0\n",
      "checkpoint-590\n",
      "0\n",
      "0.06666666666666667\n",
      "checkpoint-600\n",
      "0\n",
      "0.06666666666666667\n",
      "checkpoint-610\n",
      "0\n",
      "0.06666666666666667\n",
      "checkpoint-620\n",
      "0\n",
      "0.06666666666666667\n",
      "checkpoint-630\n",
      "0\n",
      "0.06666666666666667\n",
      "checkpoint-640\n"
     ]
    },
    {
     "name": "stderr",
     "output_type": "stream",
     "text": [
      "2022-10-26 16:25:21,654\tINFO trainable.py:588 -- Restored on 10.159.0.40 from checkpoint: /gpfsscratch/rech/imi/uzw47io/elias_expe/2_agents/all/modified_reward/6_landmarks/naming_game_30msg_alpha10_temp30b/2022-10-25_22-07-33e3kaf119/checkpoint_000640/checkpoint-640\n",
      "2022-10-26 16:25:21,655\tINFO trainable.py:597 -- Current state after restoring: {'_iteration': 640, '_timesteps_total': None, '_time_total': 28283.550032138824, '_episodes_total': 220183}\n",
      "2022-10-26 16:25:21,698\tINFO trainable.py:588 -- Restored on 10.159.0.40 from checkpoint: /gpfsscratch/rech/imi/uzw47io/elias_expe/2_agents/all/modified_reward/6_landmarks/naming_game_30msg_alpha10_temp30b/2022-10-25_22-07-33e3kaf119/checkpoint_000650/checkpoint-650\n",
      "2022-10-26 16:25:21,699\tINFO trainable.py:597 -- Current state after restoring: {'_iteration': 650, '_timesteps_total': None, '_time_total': 28716.554136753082, '_episodes_total': 224972}\n",
      "2022-10-26 16:25:21,761\tINFO trainable.py:588 -- Restored on 10.159.0.40 from checkpoint: /gpfsscratch/rech/imi/uzw47io/elias_expe/2_agents/all/modified_reward/6_landmarks/naming_game_30msg_alpha10_temp30b/2022-10-25_22-07-33e3kaf119/checkpoint_000660/checkpoint-660\n",
      "2022-10-26 16:25:21,762\tINFO trainable.py:597 -- Current state after restoring: {'_iteration': 660, '_timesteps_total': None, '_time_total': 29145.442422389984, '_episodes_total': 229968}\n",
      "2022-10-26 16:25:21,802\tINFO trainable.py:588 -- Restored on 10.159.0.40 from checkpoint: /gpfsscratch/rech/imi/uzw47io/elias_expe/2_agents/all/modified_reward/6_landmarks/naming_game_30msg_alpha10_temp30b/2022-10-25_22-07-33e3kaf119/checkpoint_000670/checkpoint-670\n",
      "2022-10-26 16:25:21,803\tINFO trainable.py:597 -- Current state after restoring: {'_iteration': 670, '_timesteps_total': None, '_time_total': 29566.783946990967, '_episodes_total': 235067}\n",
      "2022-10-26 16:25:21,843\tINFO trainable.py:588 -- Restored on 10.159.0.40 from checkpoint: /gpfsscratch/rech/imi/uzw47io/elias_expe/2_agents/all/modified_reward/6_landmarks/naming_game_30msg_alpha10_temp30b/2022-10-25_22-07-33e3kaf119/checkpoint_000680/checkpoint-680\n",
      "2022-10-26 16:25:21,844\tINFO trainable.py:597 -- Current state after restoring: {'_iteration': 680, '_timesteps_total': None, '_time_total': 29998.37974381447, '_episodes_total': 240020}\n"
     ]
    },
    {
     "name": "stdout",
     "output_type": "stream",
     "text": [
      "0\n",
      "0.06666666666666667\n",
      "checkpoint-650\n",
      "0\n",
      "0\n",
      "checkpoint-660\n",
      "0\n",
      "0\n",
      "checkpoint-670\n",
      "0\n",
      "0\n",
      "checkpoint-680\n",
      "0\n",
      "0\n",
      "checkpoint-690\n"
     ]
    },
    {
     "name": "stderr",
     "output_type": "stream",
     "text": [
      "2022-10-26 16:25:21,879\tINFO trainable.py:588 -- Restored on 10.159.0.40 from checkpoint: /gpfsscratch/rech/imi/uzw47io/elias_expe/2_agents/all/modified_reward/6_landmarks/naming_game_30msg_alpha10_temp30b/2022-10-25_22-07-33e3kaf119/checkpoint_000690/checkpoint-690\n",
      "2022-10-26 16:25:21,880\tINFO trainable.py:597 -- Current state after restoring: {'_iteration': 690, '_timesteps_total': None, '_time_total': 30430.75251030922, '_episodes_total': 245139}\n",
      "2022-10-26 16:25:21,910\tINFO trainable.py:588 -- Restored on 10.159.0.40 from checkpoint: /gpfsscratch/rech/imi/uzw47io/elias_expe/2_agents/all/modified_reward/6_landmarks/naming_game_30msg_alpha10_temp30b/2022-10-25_22-07-33e3kaf119/checkpoint_000700/checkpoint-700\n",
      "2022-10-26 16:25:21,911\tINFO trainable.py:597 -- Current state after restoring: {'_iteration': 700, '_timesteps_total': None, '_time_total': 30862.165981054306, '_episodes_total': 250178}\n",
      "2022-10-26 16:25:21,950\tINFO trainable.py:588 -- Restored on 10.159.0.40 from checkpoint: /gpfsscratch/rech/imi/uzw47io/elias_expe/2_agents/all/modified_reward/6_landmarks/naming_game_30msg_alpha10_temp30b/2022-10-25_22-07-33e3kaf119/checkpoint_000710/checkpoint-710\n",
      "2022-10-26 16:25:21,951\tINFO trainable.py:597 -- Current state after restoring: {'_iteration': 710, '_timesteps_total': None, '_time_total': 31298.82639169693, '_episodes_total': 255766}\n",
      "2022-10-26 16:25:21,986\tINFO trainable.py:588 -- Restored on 10.159.0.40 from checkpoint: /gpfsscratch/rech/imi/uzw47io/elias_expe/2_agents/all/modified_reward/6_landmarks/naming_game_30msg_alpha10_temp30b/2022-10-25_22-07-33e3kaf119/checkpoint_000720/checkpoint-720\n",
      "2022-10-26 16:25:21,987\tINFO trainable.py:597 -- Current state after restoring: {'_iteration': 720, '_timesteps_total': None, '_time_total': 31733.70258831978, '_episodes_total': 262056}\n",
      "2022-10-26 16:25:22,023\tINFO trainable.py:588 -- Restored on 10.159.0.40 from checkpoint: /gpfsscratch/rech/imi/uzw47io/elias_expe/2_agents/all/modified_reward/6_landmarks/naming_game_30msg_alpha10_temp30b/2022-10-25_22-07-33e3kaf119/checkpoint_000730/checkpoint-730\n",
      "2022-10-26 16:25:22,025\tINFO trainable.py:597 -- Current state after restoring: {'_iteration': 730, '_timesteps_total': None, '_time_total': 32164.468720197678, '_episodes_total': 268539}\n",
      "2022-10-26 16:25:22,063\tINFO trainable.py:588 -- Restored on 10.159.0.40 from checkpoint: /gpfsscratch/rech/imi/uzw47io/elias_expe/2_agents/all/modified_reward/6_landmarks/naming_game_30msg_alpha10_temp30b/2022-10-25_22-07-33e3kaf119/checkpoint_000740/checkpoint-740\n",
      "2022-10-26 16:25:22,064\tINFO trainable.py:597 -- Current state after restoring: {'_iteration': 740, '_timesteps_total': None, '_time_total': 32593.286685943604, '_episodes_total': 274831}\n"
     ]
    },
    {
     "name": "stdout",
     "output_type": "stream",
     "text": [
      "0\n",
      "0\n",
      "checkpoint-700\n",
      "0\n",
      "0\n",
      "checkpoint-710\n",
      "0\n",
      "0\n",
      "checkpoint-720\n",
      "0\n",
      "0\n",
      "checkpoint-730\n",
      "0\n",
      "0\n",
      "checkpoint-740\n",
      "0\n",
      "0\n",
      "checkpoint-750\n"
     ]
    },
    {
     "name": "stderr",
     "output_type": "stream",
     "text": [
      "2022-10-26 16:25:22,109\tINFO trainable.py:588 -- Restored on 10.159.0.40 from checkpoint: /gpfsscratch/rech/imi/uzw47io/elias_expe/2_agents/all/modified_reward/6_landmarks/naming_game_30msg_alpha10_temp30b/2022-10-25_22-07-33e3kaf119/checkpoint_000750/checkpoint-750\n",
      "2022-10-26 16:25:22,110\tINFO trainable.py:597 -- Current state after restoring: {'_iteration': 750, '_timesteps_total': None, '_time_total': 33026.674374103546, '_episodes_total': 281806}\n",
      "2022-10-26 16:25:22,145\tINFO trainable.py:588 -- Restored on 10.159.0.40 from checkpoint: /gpfsscratch/rech/imi/uzw47io/elias_expe/2_agents/all/modified_reward/6_landmarks/naming_game_30msg_alpha10_temp30b/2022-10-25_22-07-33e3kaf119/checkpoint_000760/checkpoint-760\n",
      "2022-10-26 16:25:22,145\tINFO trainable.py:597 -- Current state after restoring: {'_iteration': 760, '_timesteps_total': None, '_time_total': 33464.76291060448, '_episodes_total': 288858}\n",
      "2022-10-26 16:25:22,177\tINFO trainable.py:588 -- Restored on 10.159.0.40 from checkpoint: /gpfsscratch/rech/imi/uzw47io/elias_expe/2_agents/all/modified_reward/6_landmarks/naming_game_30msg_alpha10_temp30b/2022-10-25_22-07-33e3kaf119/checkpoint_000770/checkpoint-770\n",
      "2022-10-26 16:25:22,178\tINFO trainable.py:597 -- Current state after restoring: {'_iteration': 770, '_timesteps_total': None, '_time_total': 33904.69184207916, '_episodes_total': 296020}\n",
      "2022-10-26 16:25:22,214\tINFO trainable.py:588 -- Restored on 10.159.0.40 from checkpoint: /gpfsscratch/rech/imi/uzw47io/elias_expe/2_agents/all/modified_reward/6_landmarks/naming_game_30msg_alpha10_temp30b/2022-10-25_22-07-33e3kaf119/checkpoint_000780/checkpoint-780\n",
      "2022-10-26 16:25:22,215\tINFO trainable.py:597 -- Current state after restoring: {'_iteration': 780, '_timesteps_total': None, '_time_total': 34331.55956220627, '_episodes_total': 303157}\n",
      "2022-10-26 16:25:22,252\tINFO trainable.py:588 -- Restored on 10.159.0.40 from checkpoint: /gpfsscratch/rech/imi/uzw47io/elias_expe/2_agents/all/modified_reward/6_landmarks/naming_game_30msg_alpha10_temp30b/2022-10-25_22-07-33e3kaf119/checkpoint_000790/checkpoint-790\n",
      "2022-10-26 16:25:22,253\tINFO trainable.py:597 -- Current state after restoring: {'_iteration': 790, '_timesteps_total': None, '_time_total': 34754.75265145302, '_episodes_total': 310718}\n",
      "2022-10-26 16:25:22,290\tINFO trainable.py:588 -- Restored on 10.159.0.40 from checkpoint: /gpfsscratch/rech/imi/uzw47io/elias_expe/2_agents/all/modified_reward/6_landmarks/naming_game_30msg_alpha10_temp30b/2022-10-25_22-07-33e3kaf119/checkpoint_000800/checkpoint-800\n",
      "2022-10-26 16:25:22,291\tINFO trainable.py:597 -- Current state after restoring: {'_iteration': 800, '_timesteps_total': None, '_time_total': 35181.09823298454, '_episodes_total': 318333}\n"
     ]
    },
    {
     "name": "stdout",
     "output_type": "stream",
     "text": [
      "0\n",
      "0\n",
      "checkpoint-760\n",
      "0\n",
      "0\n",
      "checkpoint-770\n",
      "0\n",
      "0\n",
      "checkpoint-780\n",
      "0\n",
      "0\n",
      "checkpoint-790\n",
      "0\n",
      "0\n",
      "checkpoint-800\n",
      "0\n",
      "0\n",
      "checkpoint-810\n"
     ]
    },
    {
     "name": "stderr",
     "output_type": "stream",
     "text": [
      "2022-10-26 16:25:22,329\tINFO trainable.py:588 -- Restored on 10.159.0.40 from checkpoint: /gpfsscratch/rech/imi/uzw47io/elias_expe/2_agents/all/modified_reward/6_landmarks/naming_game_30msg_alpha10_temp30b/2022-10-25_22-07-33e3kaf119/checkpoint_000810/checkpoint-810\n",
      "2022-10-26 16:25:22,329\tINFO trainable.py:597 -- Current state after restoring: {'_iteration': 810, '_timesteps_total': None, '_time_total': 35606.684868097305, '_episodes_total': 326039}\n",
      "2022-10-26 16:25:22,367\tINFO trainable.py:588 -- Restored on 10.159.0.40 from checkpoint: /gpfsscratch/rech/imi/uzw47io/elias_expe/2_agents/all/modified_reward/6_landmarks/naming_game_30msg_alpha10_temp30b/2022-10-25_22-07-33e3kaf119/checkpoint_000820/checkpoint-820\n",
      "2022-10-26 16:25:22,368\tINFO trainable.py:597 -- Current state after restoring: {'_iteration': 820, '_timesteps_total': None, '_time_total': 36030.16369843483, '_episodes_total': 333146}\n",
      "2022-10-26 16:25:22,405\tINFO trainable.py:588 -- Restored on 10.159.0.40 from checkpoint: /gpfsscratch/rech/imi/uzw47io/elias_expe/2_agents/all/modified_reward/6_landmarks/naming_game_30msg_alpha10_temp30b/2022-10-25_22-07-33e3kaf119/checkpoint_000830/checkpoint-830\n",
      "2022-10-26 16:25:22,405\tINFO trainable.py:597 -- Current state after restoring: {'_iteration': 830, '_timesteps_total': None, '_time_total': 36452.843814373016, '_episodes_total': 340271}\n",
      "2022-10-26 16:25:22,442\tINFO trainable.py:588 -- Restored on 10.159.0.40 from checkpoint: /gpfsscratch/rech/imi/uzw47io/elias_expe/2_agents/all/modified_reward/6_landmarks/naming_game_30msg_alpha10_temp30b/2022-10-25_22-07-33e3kaf119/checkpoint_000840/checkpoint-840\n",
      "2022-10-26 16:25:22,443\tINFO trainable.py:597 -- Current state after restoring: {'_iteration': 840, '_timesteps_total': None, '_time_total': 36867.69360494614, '_episodes_total': 347002}\n",
      "2022-10-26 16:25:22,487\tINFO trainable.py:588 -- Restored on 10.159.0.40 from checkpoint: /gpfsscratch/rech/imi/uzw47io/elias_expe/2_agents/all/modified_reward/6_landmarks/naming_game_30msg_alpha10_temp30b/2022-10-25_22-07-33e3kaf119/checkpoint_000850/checkpoint-850\n",
      "2022-10-26 16:25:22,491\tINFO trainable.py:597 -- Current state after restoring: {'_iteration': 850, '_timesteps_total': None, '_time_total': 37289.08313202858, '_episodes_total': 353681}\n",
      "2022-10-26 16:25:22,529\tINFO trainable.py:588 -- Restored on 10.159.0.40 from checkpoint: /gpfsscratch/rech/imi/uzw47io/elias_expe/2_agents/all/modified_reward/6_landmarks/naming_game_30msg_alpha10_temp30b/2022-10-25_22-07-33e3kaf119/checkpoint_000860/checkpoint-860\n",
      "2022-10-26 16:25:22,530\tINFO trainable.py:597 -- Current state after restoring: {'_iteration': 860, '_timesteps_total': None, '_time_total': 37700.684955358505, '_episodes_total': 360482}\n"
     ]
    },
    {
     "name": "stdout",
     "output_type": "stream",
     "text": [
      "0\n",
      "0\n",
      "checkpoint-820\n",
      "0\n",
      "0\n",
      "checkpoint-830\n",
      "0\n",
      "0\n",
      "checkpoint-840\n",
      "0\n",
      "0\n",
      "checkpoint-850\n",
      "0\n",
      "0\n",
      "checkpoint-860\n",
      "0\n",
      "0\n"
     ]
    },
    {
     "name": "stderr",
     "output_type": "stream",
     "text": [
      "2022-10-26 16:25:22,569\tINFO trainable.py:588 -- Restored on 10.159.0.40 from checkpoint: /gpfsscratch/rech/imi/uzw47io/elias_expe/2_agents/all/modified_reward/6_landmarks/naming_game_30msg_alpha10_temp30b/2022-10-25_22-07-33e3kaf119/checkpoint_000870/checkpoint-870\n",
      "2022-10-26 16:25:22,569\tINFO trainable.py:597 -- Current state after restoring: {'_iteration': 870, '_timesteps_total': None, '_time_total': 38103.64912843704, '_episodes_total': 367071}\n",
      "2022-10-26 16:25:22,605\tINFO trainable.py:588 -- Restored on 10.159.0.40 from checkpoint: /gpfsscratch/rech/imi/uzw47io/elias_expe/2_agents/all/modified_reward/6_landmarks/naming_game_30msg_alpha10_temp30b/2022-10-25_22-07-33e3kaf119/checkpoint_000880/checkpoint-880\n",
      "2022-10-26 16:25:22,605\tINFO trainable.py:597 -- Current state after restoring: {'_iteration': 880, '_timesteps_total': None, '_time_total': 38501.241985321045, '_episodes_total': 373391}\n",
      "2022-10-26 16:25:22,637\tINFO trainable.py:588 -- Restored on 10.159.0.40 from checkpoint: /gpfsscratch/rech/imi/uzw47io/elias_expe/2_agents/all/modified_reward/6_landmarks/naming_game_30msg_alpha10_temp30b/2022-10-25_22-07-33e3kaf119/checkpoint_000890/checkpoint-890\n",
      "2022-10-26 16:25:22,638\tINFO trainable.py:597 -- Current state after restoring: {'_iteration': 890, '_timesteps_total': None, '_time_total': 38890.807695388794, '_episodes_total': 379279}\n",
      "2022-10-26 16:25:22,680\tINFO trainable.py:588 -- Restored on 10.159.0.40 from checkpoint: /gpfsscratch/rech/imi/uzw47io/elias_expe/2_agents/all/modified_reward/6_landmarks/naming_game_30msg_alpha10_temp30b/2022-10-25_22-07-33e3kaf119/checkpoint_000900/checkpoint-900\n",
      "2022-10-26 16:25:22,681\tINFO trainable.py:597 -- Current state after restoring: {'_iteration': 900, '_timesteps_total': None, '_time_total': 39277.52709937096, '_episodes_total': 385244}\n",
      "2022-10-26 16:25:22,717\tINFO trainable.py:588 -- Restored on 10.159.0.40 from checkpoint: /gpfsscratch/rech/imi/uzw47io/elias_expe/2_agents/all/modified_reward/6_landmarks/naming_game_30msg_alpha10_temp30b/2022-10-25_22-07-33e3kaf119/checkpoint_000910/checkpoint-910\n",
      "2022-10-26 16:25:22,718\tINFO trainable.py:597 -- Current state after restoring: {'_iteration': 910, '_timesteps_total': None, '_time_total': 39665.215631723404, '_episodes_total': 390853}\n"
     ]
    },
    {
     "name": "stdout",
     "output_type": "stream",
     "text": [
      "checkpoint-870\n",
      "0\n",
      "0\n",
      "checkpoint-880\n",
      "0\n",
      "0\n",
      "checkpoint-890\n",
      "0\n",
      "0\n",
      "checkpoint-900\n",
      "0\n",
      "0\n",
      "checkpoint-910\n",
      "0\n",
      "0\n",
      "checkpoint-920\n"
     ]
    },
    {
     "name": "stderr",
     "output_type": "stream",
     "text": [
      "2022-10-26 16:25:22,754\tINFO trainable.py:588 -- Restored on 10.159.0.40 from checkpoint: /gpfsscratch/rech/imi/uzw47io/elias_expe/2_agents/all/modified_reward/6_landmarks/naming_game_30msg_alpha10_temp30b/2022-10-25_22-07-33e3kaf119/checkpoint_000920/checkpoint-920\n",
      "2022-10-26 16:25:22,755\tINFO trainable.py:597 -- Current state after restoring: {'_iteration': 920, '_timesteps_total': None, '_time_total': 40050.81054544449, '_episodes_total': 396571}\n",
      "2022-10-26 16:25:22,803\tINFO trainable.py:588 -- Restored on 10.159.0.40 from checkpoint: /gpfsscratch/rech/imi/uzw47io/elias_expe/2_agents/all/modified_reward/6_landmarks/naming_game_30msg_alpha10_temp30b/2022-10-25_22-07-33e3kaf119/checkpoint_000930/checkpoint-930\n",
      "2022-10-26 16:25:22,807\tINFO trainable.py:597 -- Current state after restoring: {'_iteration': 930, '_timesteps_total': None, '_time_total': 40439.28484940529, '_episodes_total': 401926}\n",
      "2022-10-26 16:25:22,842\tINFO trainable.py:588 -- Restored on 10.159.0.40 from checkpoint: /gpfsscratch/rech/imi/uzw47io/elias_expe/2_agents/all/modified_reward/6_landmarks/naming_game_30msg_alpha10_temp30b/2022-10-25_22-07-33e3kaf119/checkpoint_000940/checkpoint-940\n",
      "2022-10-26 16:25:22,843\tINFO trainable.py:597 -- Current state after restoring: {'_iteration': 940, '_timesteps_total': None, '_time_total': 40829.234249830246, '_episodes_total': 407364}\n",
      "2022-10-26 16:25:22,880\tINFO trainable.py:588 -- Restored on 10.159.0.40 from checkpoint: /gpfsscratch/rech/imi/uzw47io/elias_expe/2_agents/all/modified_reward/6_landmarks/naming_game_30msg_alpha10_temp30b/2022-10-25_22-07-33e3kaf119/checkpoint_000950/checkpoint-950\n",
      "2022-10-26 16:25:22,880\tINFO trainable.py:597 -- Current state after restoring: {'_iteration': 950, '_timesteps_total': None, '_time_total': 41236.17877340317, '_episodes_total': 412631}\n",
      "2022-10-26 16:25:22,915\tINFO trainable.py:588 -- Restored on 10.159.0.40 from checkpoint: /gpfsscratch/rech/imi/uzw47io/elias_expe/2_agents/all/modified_reward/6_landmarks/naming_game_30msg_alpha10_temp30b/2022-10-25_22-07-33e3kaf119/checkpoint_000960/checkpoint-960\n",
      "2022-10-26 16:25:22,916\tINFO trainable.py:597 -- Current state after restoring: {'_iteration': 960, '_timesteps_total': None, '_time_total': 41705.63877081871, '_episodes_total': 418077}\n",
      "2022-10-26 16:25:22,951\tINFO trainable.py:588 -- Restored on 10.159.0.40 from checkpoint: /gpfsscratch/rech/imi/uzw47io/elias_expe/2_agents/all/modified_reward/6_landmarks/naming_game_30msg_alpha10_temp30b/2022-10-25_22-07-33e3kaf119/checkpoint_000970/checkpoint-970\n",
      "2022-10-26 16:25:22,952\tINFO trainable.py:597 -- Current state after restoring: {'_iteration': 970, '_timesteps_total': None, '_time_total': 42163.205964803696, '_episodes_total': 423033}\n"
     ]
    },
    {
     "name": "stdout",
     "output_type": "stream",
     "text": [
      "0\n",
      "0\n",
      "checkpoint-930\n",
      "0\n",
      "0\n",
      "checkpoint-940\n",
      "0\n",
      "0\n",
      "checkpoint-950\n",
      "0\n",
      "0\n",
      "checkpoint-960\n",
      "0\n",
      "0\n",
      "checkpoint-970\n",
      "0\n",
      "0\n",
      "checkpoint-980\n"
     ]
    },
    {
     "name": "stderr",
     "output_type": "stream",
     "text": [
      "2022-10-26 16:25:22,991\tINFO trainable.py:588 -- Restored on 10.159.0.40 from checkpoint: /gpfsscratch/rech/imi/uzw47io/elias_expe/2_agents/all/modified_reward/6_landmarks/naming_game_30msg_alpha10_temp30b/2022-10-25_22-07-33e3kaf119/checkpoint_000980/checkpoint-980\n",
      "2022-10-26 16:25:22,992\tINFO trainable.py:597 -- Current state after restoring: {'_iteration': 980, '_timesteps_total': None, '_time_total': 42593.90428471565, '_episodes_total': 427956}\n",
      "2022-10-26 16:25:23,030\tINFO trainable.py:588 -- Restored on 10.159.0.40 from checkpoint: /gpfsscratch/rech/imi/uzw47io/elias_expe/2_agents/all/modified_reward/6_landmarks/naming_game_30msg_alpha10_temp30b/2022-10-25_22-07-33e3kaf119/checkpoint_000990/checkpoint-990\n",
      "2022-10-26 16:25:23,031\tINFO trainable.py:597 -- Current state after restoring: {'_iteration': 990, '_timesteps_total': None, '_time_total': 43051.824301958084, '_episodes_total': 433120}\n",
      "2022-10-26 16:25:23,067\tINFO trainable.py:588 -- Restored on 10.159.0.40 from checkpoint: /gpfsscratch/rech/imi/uzw47io/elias_expe/2_agents/all/modified_reward/6_landmarks/naming_game_30msg_alpha10_temp30b/2022-10-25_22-07-33e3kaf119/checkpoint_001000/checkpoint-1000\n",
      "2022-10-26 16:25:23,068\tINFO trainable.py:597 -- Current state after restoring: {'_iteration': 1000, '_timesteps_total': None, '_time_total': 43486.82541203499, '_episodes_total': 438331}\n"
     ]
    },
    {
     "name": "stdout",
     "output_type": "stream",
     "text": [
      "0\n",
      "0\n",
      "checkpoint-990\n",
      "0\n",
      "0\n",
      "checkpoint-1000\n",
      "0\n",
      "0\n"
     ]
    }
   ],
   "source": [
    "imgs = []\n",
    "from itertools import combinations\n",
    "a=np.array([\n",
    "                [0, 0, 1],\n",
    "                [0, 1, 0],\n",
    "                [1, 0, 0],\n",
    "                [0, 1, 1],\n",
    "                [1, 0, 1],\n",
    "                [1, 1, 0],\n",
    "            ])\n",
    "\n",
    "a= np.eye(6, dtype=np.uint8).tolist()\n",
    "a += (\n",
    "    np.array(list(combinations(a, 2))).sum(1).tolist()\n",
    ")\n",
    "a=np.array(a)\n",
    "print(a)\n",
    "for checkpoint_dir in sorted(os.listdir(checkpoints_dir)):\n",
    "    if os.path.isdir(os.path.join(checkpoints_dir, checkpoint_dir)):\n",
    "        checkpoint_file = sorted(\n",
    "            os.listdir(os.path.join(checkpoints_dir, checkpoint_dir))\n",
    "        )[1]\n",
    "        print(checkpoint_file)\n",
    "        trainer.restore(os.path.join(checkpoints_dir, checkpoint_dir, checkpoint_file))\n",
    "        agent_0 = trainer.get_policy(\"agent_0\").model\n",
    "        agent_1 = trainer.get_policy(\"agent_1\").model\n",
    "        with torch.no_grad():\n",
    "            agent_0_matrix = agent_0._matrix.numpy()\n",
    "            agent_1_matrix = agent_1._matrix.numpy()\n",
    "            \n",
    "            goal_division=0\n",
    "            for g in range(6,21):\n",
    "                msg=np.argmax(agent_0_matrix[g])\n",
    "                g2=np.argmax(agent_1_matrix[:,msg])\n",
    "                if(((a[g]+a[g2])>1).sum()>0 and g2.sum()<2):\n",
    "                    \n",
    "                    goal_division+=1/15\n",
    "            print(goal_division)\n",
    "            \n",
    "            \n",
    "            \n",
    "            goal_division=0\n",
    "            for g in range(6,21):\n",
    "                msg=np.argmax(agent_1_matrix[g])\n",
    "                g2=np.argmax(agent_0_matrix[:,msg])\n",
    "                if(((a[g]+a[g2])>1).sum()>0 and g2.sum()<2):\n",
    "                    \n",
    "                    goal_division+=1/15\n",
    "            print(goal_division)\n",
    "                \n",
    "                \n",
    "                    "
   ]
  },
  {
   "cell_type": "markdown",
   "metadata": {},
   "source": [
    "# 4 agents"
   ]
  },
  {
   "cell_type": "code",
   "execution_count": 6,
   "metadata": {},
   "outputs": [
    {
     "name": "stdout",
     "output_type": "stream",
     "text": [
      "naming_game  naming_game_30msg\r\n"
     ]
    }
   ],
   "source": [
    "!ls $SCRATCH/elias_expe/4_agents/cooperative/modified_reward/6_landmarks"
   ]
  },
  {
   "cell_type": "code",
   "execution_count": 7,
   "metadata": {},
   "outputs": [
    {
     "name": "stdout",
     "output_type": "stream",
     "text": [
      "2022-10-23_13-36-480wh6sbwt  train-372154_2.slurm.out\r\n",
      "2022-10-23_13-36-483l9bpat6  train-372154_3.slurm.err\r\n",
      "2022-10-23_13-36-48b2w5274w  train-372154_3.slurm.out\r\n",
      "2022-10-23_13-36-48pc9edv9k  train-372154_4.slurm.err\r\n",
      "2022-10-23_13-36-48zzrz2qr6  train-372154_4.slurm.out\r\n",
      "2022-10-24_11-35-24b4jpec4s  train-388496_4294967294.slurm.err\r\n",
      "2022-10-24_11-39-07ihios3d8  train-388496_4294967294.slurm.out\r\n",
      "2022-10-24_11-42-40i4vmzrzz  train-388605_4294967294.slurm.err\r\n",
      "2022-10-24_11-44-22_3rgcdxy  train-388605_4294967294.slurm.out\r\n",
      "2022-10-24_11-47-02quxex6rf  train-388646_4294967294.slurm.err\r\n",
      "train-372154_0.slurm.err     train-388646_4294967294.slurm.out\r\n",
      "train-372154_0.slurm.out     train-388685_4294967294.slurm.err\r\n",
      "train-372154_1.slurm.err     train-388685_4294967294.slurm.out\r\n",
      "train-372154_1.slurm.out     train-388724_4294967294.slurm.err\r\n",
      "train-372154_2.slurm.err     train-388724_4294967294.slurm.out\r\n"
     ]
    }
   ],
   "source": [
    "!ls $SCRATCH/elias_expe/4_agents/cooperative/modified_reward/6_landmarks/naming_game_30msg\n"
   ]
  },
  {
   "cell_type": "code",
   "execution_count": 13,
   "metadata": {},
   "outputs": [],
   "source": [
    "from imgc_marl.envs.population import PopGoalLinesEnv, PopLargeGoalLinesEnv\n",
    "\n",
    "# 3 landmarks\n",
    "#config_file = \"goal_lines_naming.yml\"\n",
    "#config_file=\"goal_lines_2agents_naming_game_all_modified.yml\"\n",
    "#environment = PopGoalLinesEnv\n",
    "\n",
    "# 6 landmarks\n",
    "#config_file = \"large_goal_lines_naming.yml\"\n",
    "config_file=\"large_goal_lines_2agents_naming_game_cooperative_modified.yml\"\n",
    "environment = PopLargeGoalLinesEnv\n",
    "\n",
    "\n",
    "# directory of the checkpoints you want to evaluate\n",
    "checkpoints_dir = os.environ[\"SCRATCH\"]+\"/elias_expe/4_agents/cooperative/modified_reward/6_landmarks/naming_game_30msg/2022-10-23_13-36-480wh6sbwt\""
   ]
  },
  {
   "cell_type": "code",
   "execution_count": 14,
   "metadata": {},
   "outputs": [
    {
     "name": "stderr",
     "output_type": "stream",
     "text": [
      "2022-10-24 17:00:39,744\tWARNING deprecation.py:46 -- DeprecationWarning: `ray.rllib.agents.ppo.ppo.DEFAULT_CONFIG` has been deprecated. Use `ray.rllib.agents.ppo.ppo.PPOConfig(...)` instead. This will raise an error in the future!\n",
      "2022-10-24 17:00:40,403\tWARNING multi_agent_env.py:225 -- observation_space_sample() has not been implemented\n",
      "2022-10-24 17:00:40,405\tWARNING multi_agent_env.py:137 -- observation_space_contains() has not been implemented\n",
      "2022-10-24 17:00:40,406\tWARNING multi_agent_env.py:137 -- observation_space_contains() has not been implemented\n",
      "2022-10-24 17:00:40,406\tWARNING multi_agent_env.py:137 -- observation_space_contains() has not been implemented\n",
      "2022-10-24 17:00:40,406\tWARNING multi_agent_env.py:193 -- action_space_sample() has not been implemented\n",
      "2022-10-24 17:00:40,407\tWARNING multi_agent_env.py:161 -- action_space_contains() has not been implemented\n",
      "2022-10-24 17:00:40,409\tWARNING multi_agent_env.py:137 -- observation_space_contains() has not been implemented\n",
      "2022-10-24 17:00:40,428\tWARNING catalog.py:628 -- Custom ModelV2 should accept all custom options as **kwargs, instead of expecting them in config['custom_model_config']!\n",
      "2022-10-24 17:00:40,453\tWARNING catalog.py:628 -- Custom ModelV2 should accept all custom options as **kwargs, instead of expecting them in config['custom_model_config']!\n",
      "2022-10-24 17:00:40,472\tWARNING catalog.py:628 -- Custom ModelV2 should accept all custom options as **kwargs, instead of expecting them in config['custom_model_config']!\n",
      "2022-10-24 17:00:40,490\tWARNING catalog.py:628 -- Custom ModelV2 should accept all custom options as **kwargs, instead of expecting them in config['custom_model_config']!\n",
      "Install gputil for GPU system monitoring.\n"
     ]
    }
   ],
   "source": [
    "with open(f\"../scripts/configs/{config_file}\", \"r\") as f:\n",
    "    user_config = yaml.safe_load(f)\n",
    "# General settings of the algorithm\n",
    "config = deepcopy(DEFAULT_CONFIG)\n",
    "config[\"num_workers\"] = 0\n",
    "config[\"framework\"] = \"torch\"\n",
    "use_communication = user_config.get(\"communication\", False)\n",
    "\n",
    "config[\"horizon\"] = 300\n",
    "config[\"rollout_fragment_length\"] = config[\"horizon\"]\n",
    "config[\"env_config\"] = user_config[\"env_config\"]\n",
    "config[\"train_batch_size\"] = 60_000\n",
    "config[\"sgd_minibatch_size\"] = 10_000\n",
    "config[\"lambda\"] = 0.9\n",
    "config[\"lr\"] = 0.0003\n",
    "\n",
    "\n",
    "nb_msg= 30\n",
    "\n",
    "def policy_mapping_fn(agent_id):\n",
    "    return agent_id\n",
    "\n",
    "\n",
    "config[\"multiagent\"] = {\n",
    "    \"policies\": {\n",
    "        f\"agent_{i}\": PolicySpec(\n",
    "            policy_class=None, observation_space=None, action_space=None\n",
    "        )\n",
    "        for i in range(config[\"env_config\"][\"population_size\"])\n",
    "    },\n",
    "    \"policy_mapping_fn\": policy_mapping_fn,\n",
    "}\n",
    "\n",
    "train_env = environment\n",
    "\n",
    "ModelCatalog.register_custom_model(\"FullNamingNetwork1Matrix\", FullNamingNetwork1Matrix)\n",
    "number_of_goals = environment(config[\"env_config\"]).goal_space_dim\n",
    "config[\"model\"] = {\n",
    "    \"custom_model\": \"FullNamingNetwork1Matrix\",\n",
    "    \"custom_model_config\": {\n",
    "        \"number_of_goals\": number_of_goals,\n",
    "        \"train_matrix\": user_config.get(\"train_matrix\", False),\n",
    "        \"nb_msg\":nb_msg,\n",
    "    },\n",
    "}\n",
    "trainer = FullNamingTrainer1Matrix(\n",
    "    config=config,\n",
    "    env=train_env,\n",
    ")"
   ]
  },
  {
   "cell_type": "code",
   "execution_count": 15,
   "metadata": {},
   "outputs": [
    {
     "name": "stdout",
     "output_type": "stream",
     "text": [
      "checkpoint-10\n"
     ]
    },
    {
     "name": "stderr",
     "output_type": "stream",
     "text": [
      "2022-10-24 17:01:13,158\tINFO trainable.py:588 -- Restored on 10.159.0.14 from checkpoint: /gpfsscratch/rech/imi/uzw47io/elias_expe/4_agents/cooperative/modified_reward/6_landmarks/naming_game_30msg/2022-10-23_13-36-480wh6sbwt/checkpoint_000010/checkpoint-10\n",
      "2022-10-24 17:01:13,160\tINFO trainable.py:597 -- Current state after restoring: {'_iteration': 10, '_timesteps_total': None, '_time_total': 581.4639339447021, '_episodes_total': 1200}\n",
      "2022-10-24 17:01:13,541\tINFO trainable.py:588 -- Restored on 10.159.0.14 from checkpoint: /gpfsscratch/rech/imi/uzw47io/elias_expe/4_agents/cooperative/modified_reward/6_landmarks/naming_game_30msg/2022-10-23_13-36-480wh6sbwt/checkpoint_000020/checkpoint-20\n",
      "2022-10-24 17:01:13,543\tINFO trainable.py:597 -- Current state after restoring: {'_iteration': 20, '_timesteps_total': None, '_time_total': 1139.4355351924896, '_episodes_total': 2409}\n"
     ]
    },
    {
     "name": "stdout",
     "output_type": "stream",
     "text": [
      "checkpoint-20\n"
     ]
    },
    {
     "name": "stderr",
     "output_type": "stream",
     "text": [
      "2022-10-24 17:01:13,922\tINFO trainable.py:588 -- Restored on 10.159.0.14 from checkpoint: /gpfsscratch/rech/imi/uzw47io/elias_expe/4_agents/cooperative/modified_reward/6_landmarks/naming_game_30msg/2022-10-23_13-36-480wh6sbwt/checkpoint_000030/checkpoint-30\n",
      "2022-10-24 17:01:13,922\tINFO trainable.py:597 -- Current state after restoring: {'_iteration': 30, '_timesteps_total': None, '_time_total': 1697.838029384613, '_episodes_total': 3622}\n"
     ]
    },
    {
     "name": "stdout",
     "output_type": "stream",
     "text": [
      "checkpoint-30\n"
     ]
    },
    {
     "name": "stderr",
     "output_type": "stream",
     "text": [
      "2022-10-24 17:01:14,306\tINFO trainable.py:588 -- Restored on 10.159.0.14 from checkpoint: /gpfsscratch/rech/imi/uzw47io/elias_expe/4_agents/cooperative/modified_reward/6_landmarks/naming_game_30msg/2022-10-23_13-36-480wh6sbwt/checkpoint_000040/checkpoint-40\n",
      "2022-10-24 17:01:14,308\tINFO trainable.py:597 -- Current state after restoring: {'_iteration': 40, '_timesteps_total': None, '_time_total': 2251.175507068634, '_episodes_total': 4838}\n"
     ]
    },
    {
     "name": "stdout",
     "output_type": "stream",
     "text": [
      "checkpoint-40\n"
     ]
    },
    {
     "name": "stderr",
     "output_type": "stream",
     "text": [
      "2022-10-24 17:01:14,686\tINFO trainable.py:588 -- Restored on 10.159.0.14 from checkpoint: /gpfsscratch/rech/imi/uzw47io/elias_expe/4_agents/cooperative/modified_reward/6_landmarks/naming_game_30msg/2022-10-23_13-36-480wh6sbwt/checkpoint_000050/checkpoint-50\n",
      "2022-10-24 17:01:14,687\tINFO trainable.py:597 -- Current state after restoring: {'_iteration': 50, '_timesteps_total': None, '_time_total': 2848.602220773697, '_episodes_total': 6057}\n"
     ]
    },
    {
     "name": "stdout",
     "output_type": "stream",
     "text": [
      "checkpoint-50\n"
     ]
    },
    {
     "name": "stderr",
     "output_type": "stream",
     "text": [
      "2022-10-24 17:01:15,385\tINFO trainable.py:588 -- Restored on 10.159.0.14 from checkpoint: /gpfsscratch/rech/imi/uzw47io/elias_expe/4_agents/cooperative/modified_reward/6_landmarks/naming_game_30msg/2022-10-23_13-36-480wh6sbwt/checkpoint_000060/checkpoint-60\n",
      "2022-10-24 17:01:15,386\tINFO trainable.py:597 -- Current state after restoring: {'_iteration': 60, '_timesteps_total': None, '_time_total': 3406.588723897934, '_episodes_total': 7277}\n"
     ]
    },
    {
     "name": "stdout",
     "output_type": "stream",
     "text": [
      "checkpoint-60\n"
     ]
    },
    {
     "name": "stderr",
     "output_type": "stream",
     "text": [
      "2022-10-24 17:01:15,748\tINFO trainable.py:588 -- Restored on 10.159.0.14 from checkpoint: /gpfsscratch/rech/imi/uzw47io/elias_expe/4_agents/cooperative/modified_reward/6_landmarks/naming_game_30msg/2022-10-23_13-36-480wh6sbwt/checkpoint_000070/checkpoint-70\n",
      "2022-10-24 17:01:15,749\tINFO trainable.py:597 -- Current state after restoring: {'_iteration': 70, '_timesteps_total': None, '_time_total': 3961.975340127945, '_episodes_total': 8494}\n"
     ]
    },
    {
     "name": "stdout",
     "output_type": "stream",
     "text": [
      "checkpoint-70\n"
     ]
    },
    {
     "name": "stderr",
     "output_type": "stream",
     "text": [
      "2022-10-24 17:01:16,145\tINFO trainable.py:588 -- Restored on 10.159.0.14 from checkpoint: /gpfsscratch/rech/imi/uzw47io/elias_expe/4_agents/cooperative/modified_reward/6_landmarks/naming_game_30msg/2022-10-23_13-36-480wh6sbwt/checkpoint_000080/checkpoint-80\n",
      "2022-10-24 17:01:16,146\tINFO trainable.py:597 -- Current state after restoring: {'_iteration': 80, '_timesteps_total': None, '_time_total': 4516.012490987778, '_episodes_total': 9724}\n"
     ]
    },
    {
     "name": "stdout",
     "output_type": "stream",
     "text": [
      "checkpoint-80\n"
     ]
    },
    {
     "name": "stderr",
     "output_type": "stream",
     "text": [
      "2022-10-24 17:01:16,543\tINFO trainable.py:588 -- Restored on 10.159.0.14 from checkpoint: /gpfsscratch/rech/imi/uzw47io/elias_expe/4_agents/cooperative/modified_reward/6_landmarks/naming_game_30msg/2022-10-23_13-36-480wh6sbwt/checkpoint_000090/checkpoint-90\n",
      "2022-10-24 17:01:16,545\tINFO trainable.py:597 -- Current state after restoring: {'_iteration': 90, '_timesteps_total': None, '_time_total': 5107.631624221802, '_episodes_total': 10939}\n"
     ]
    },
    {
     "name": "stdout",
     "output_type": "stream",
     "text": [
      "checkpoint-90\n"
     ]
    },
    {
     "name": "stderr",
     "output_type": "stream",
     "text": [
      "2022-10-24 17:01:16,929\tINFO trainable.py:588 -- Restored on 10.159.0.14 from checkpoint: /gpfsscratch/rech/imi/uzw47io/elias_expe/4_agents/cooperative/modified_reward/6_landmarks/naming_game_30msg/2022-10-23_13-36-480wh6sbwt/checkpoint_000100/checkpoint-100\n",
      "2022-10-24 17:01:16,931\tINFO trainable.py:597 -- Current state after restoring: {'_iteration': 100, '_timesteps_total': None, '_time_total': 5647.112009048462, '_episodes_total': 12155}\n"
     ]
    },
    {
     "name": "stdout",
     "output_type": "stream",
     "text": [
      "checkpoint-100\n"
     ]
    },
    {
     "name": "stderr",
     "output_type": "stream",
     "text": [
      "2022-10-24 17:01:17,295\tINFO trainable.py:588 -- Restored on 10.159.0.14 from checkpoint: /gpfsscratch/rech/imi/uzw47io/elias_expe/4_agents/cooperative/modified_reward/6_landmarks/naming_game_30msg/2022-10-23_13-36-480wh6sbwt/checkpoint_000110/checkpoint-110\n",
      "2022-10-24 17:01:17,296\tINFO trainable.py:597 -- Current state after restoring: {'_iteration': 110, '_timesteps_total': None, '_time_total': 6184.17902135849, '_episodes_total': 13371}\n"
     ]
    },
    {
     "name": "stdout",
     "output_type": "stream",
     "text": [
      "checkpoint-110\n"
     ]
    },
    {
     "name": "stderr",
     "output_type": "stream",
     "text": [
      "2022-10-24 17:01:17,672\tINFO trainable.py:588 -- Restored on 10.159.0.14 from checkpoint: /gpfsscratch/rech/imi/uzw47io/elias_expe/4_agents/cooperative/modified_reward/6_landmarks/naming_game_30msg/2022-10-23_13-36-480wh6sbwt/checkpoint_000120/checkpoint-120\n",
      "2022-10-24 17:01:17,677\tINFO trainable.py:597 -- Current state after restoring: {'_iteration': 120, '_timesteps_total': None, '_time_total': 6729.678848743439, '_episodes_total': 14596}\n"
     ]
    },
    {
     "name": "stdout",
     "output_type": "stream",
     "text": [
      "checkpoint-120\n"
     ]
    },
    {
     "name": "stderr",
     "output_type": "stream",
     "text": [
      "2022-10-24 17:01:18,045\tINFO trainable.py:588 -- Restored on 10.159.0.14 from checkpoint: /gpfsscratch/rech/imi/uzw47io/elias_expe/4_agents/cooperative/modified_reward/6_landmarks/naming_game_30msg/2022-10-23_13-36-480wh6sbwt/checkpoint_000130/checkpoint-130\n",
      "2022-10-24 17:01:18,046\tINFO trainable.py:597 -- Current state after restoring: {'_iteration': 130, '_timesteps_total': None, '_time_total': 7310.545959472656, '_episodes_total': 15819}\n"
     ]
    },
    {
     "name": "stdout",
     "output_type": "stream",
     "text": [
      "checkpoint-130\n"
     ]
    },
    {
     "name": "stderr",
     "output_type": "stream",
     "text": [
      "2022-10-24 17:01:18,428\tINFO trainable.py:588 -- Restored on 10.159.0.14 from checkpoint: /gpfsscratch/rech/imi/uzw47io/elias_expe/4_agents/cooperative/modified_reward/6_landmarks/naming_game_30msg/2022-10-23_13-36-480wh6sbwt/checkpoint_000140/checkpoint-140\n",
      "2022-10-24 17:01:18,430\tINFO trainable.py:597 -- Current state after restoring: {'_iteration': 140, '_timesteps_total': None, '_time_total': 7845.742025136948, '_episodes_total': 17036}\n"
     ]
    },
    {
     "name": "stdout",
     "output_type": "stream",
     "text": [
      "checkpoint-140\n"
     ]
    },
    {
     "name": "stderr",
     "output_type": "stream",
     "text": [
      "2022-10-24 17:01:18,828\tINFO trainable.py:588 -- Restored on 10.159.0.14 from checkpoint: /gpfsscratch/rech/imi/uzw47io/elias_expe/4_agents/cooperative/modified_reward/6_landmarks/naming_game_30msg/2022-10-23_13-36-480wh6sbwt/checkpoint_000150/checkpoint-150\n",
      "2022-10-24 17:01:18,829\tINFO trainable.py:597 -- Current state after restoring: {'_iteration': 150, '_timesteps_total': None, '_time_total': 8385.412364959717, '_episodes_total': 18263}\n"
     ]
    },
    {
     "name": "stdout",
     "output_type": "stream",
     "text": [
      "checkpoint-150\n"
     ]
    },
    {
     "name": "stderr",
     "output_type": "stream",
     "text": [
      "2022-10-24 17:01:19,239\tINFO trainable.py:588 -- Restored on 10.159.0.14 from checkpoint: /gpfsscratch/rech/imi/uzw47io/elias_expe/4_agents/cooperative/modified_reward/6_landmarks/naming_game_30msg/2022-10-23_13-36-480wh6sbwt/checkpoint_000160/checkpoint-160\n",
      "2022-10-24 17:01:19,240\tINFO trainable.py:597 -- Current state after restoring: {'_iteration': 160, '_timesteps_total': None, '_time_total': 8926.947878360748, '_episodes_total': 19484}\n"
     ]
    },
    {
     "name": "stdout",
     "output_type": "stream",
     "text": [
      "checkpoint-160\n"
     ]
    },
    {
     "name": "stderr",
     "output_type": "stream",
     "text": [
      "2022-10-24 17:01:19,578\tINFO trainable.py:588 -- Restored on 10.159.0.14 from checkpoint: /gpfsscratch/rech/imi/uzw47io/elias_expe/4_agents/cooperative/modified_reward/6_landmarks/naming_game_30msg/2022-10-23_13-36-480wh6sbwt/checkpoint_000170/checkpoint-170\n",
      "2022-10-24 17:01:19,580\tINFO trainable.py:597 -- Current state after restoring: {'_iteration': 170, '_timesteps_total': None, '_time_total': 9459.973507165909, '_episodes_total': 20707}\n"
     ]
    },
    {
     "name": "stdout",
     "output_type": "stream",
     "text": [
      "checkpoint-170\n"
     ]
    },
    {
     "name": "stderr",
     "output_type": "stream",
     "text": [
      "2022-10-24 17:01:19,959\tINFO trainable.py:588 -- Restored on 10.159.0.14 from checkpoint: /gpfsscratch/rech/imi/uzw47io/elias_expe/4_agents/cooperative/modified_reward/6_landmarks/naming_game_30msg/2022-10-23_13-36-480wh6sbwt/checkpoint_000180/checkpoint-180\n",
      "2022-10-24 17:01:19,960\tINFO trainable.py:597 -- Current state after restoring: {'_iteration': 180, '_timesteps_total': None, '_time_total': 10039.521221876144, '_episodes_total': 21927}\n"
     ]
    },
    {
     "name": "stdout",
     "output_type": "stream",
     "text": [
      "checkpoint-180\n"
     ]
    },
    {
     "name": "stderr",
     "output_type": "stream",
     "text": [
      "2022-10-24 17:01:20,326\tINFO trainable.py:588 -- Restored on 10.159.0.14 from checkpoint: /gpfsscratch/rech/imi/uzw47io/elias_expe/4_agents/cooperative/modified_reward/6_landmarks/naming_game_30msg/2022-10-23_13-36-480wh6sbwt/checkpoint_000190/checkpoint-190\n",
      "2022-10-24 17:01:20,327\tINFO trainable.py:597 -- Current state after restoring: {'_iteration': 190, '_timesteps_total': None, '_time_total': 10576.542331933975, '_episodes_total': 23163}\n"
     ]
    },
    {
     "name": "stdout",
     "output_type": "stream",
     "text": [
      "checkpoint-190\n"
     ]
    },
    {
     "name": "stderr",
     "output_type": "stream",
     "text": [
      "2022-10-24 17:01:21,033\tINFO trainable.py:588 -- Restored on 10.159.0.14 from checkpoint: /gpfsscratch/rech/imi/uzw47io/elias_expe/4_agents/cooperative/modified_reward/6_landmarks/naming_game_30msg/2022-10-23_13-36-480wh6sbwt/checkpoint_000200/checkpoint-200\n",
      "2022-10-24 17:01:21,034\tINFO trainable.py:597 -- Current state after restoring: {'_iteration': 200, '_timesteps_total': None, '_time_total': 11115.74560713768, '_episodes_total': 24394}\n"
     ]
    },
    {
     "name": "stdout",
     "output_type": "stream",
     "text": [
      "checkpoint-200\n"
     ]
    },
    {
     "name": "stderr",
     "output_type": "stream",
     "text": [
      "2022-10-24 17:01:21,409\tINFO trainable.py:588 -- Restored on 10.159.0.14 from checkpoint: /gpfsscratch/rech/imi/uzw47io/elias_expe/4_agents/cooperative/modified_reward/6_landmarks/naming_game_30msg/2022-10-23_13-36-480wh6sbwt/checkpoint_000210/checkpoint-210\n",
      "2022-10-24 17:01:21,410\tINFO trainable.py:597 -- Current state after restoring: {'_iteration': 210, '_timesteps_total': None, '_time_total': 11659.657379627228, '_episodes_total': 25630}\n"
     ]
    },
    {
     "name": "stdout",
     "output_type": "stream",
     "text": [
      "checkpoint-210\n"
     ]
    },
    {
     "name": "stderr",
     "output_type": "stream",
     "text": [
      "2022-10-24 17:01:21,736\tINFO trainable.py:588 -- Restored on 10.159.0.14 from checkpoint: /gpfsscratch/rech/imi/uzw47io/elias_expe/4_agents/cooperative/modified_reward/6_landmarks/naming_game_30msg/2022-10-23_13-36-480wh6sbwt/checkpoint_000220/checkpoint-220\n",
      "2022-10-24 17:01:21,739\tINFO trainable.py:597 -- Current state after restoring: {'_iteration': 220, '_timesteps_total': None, '_time_total': 12190.370515108109, '_episodes_total': 26863}\n"
     ]
    },
    {
     "name": "stdout",
     "output_type": "stream",
     "text": [
      "checkpoint-220\n"
     ]
    },
    {
     "name": "stderr",
     "output_type": "stream",
     "text": [
      "2022-10-24 17:01:22,121\tINFO trainable.py:588 -- Restored on 10.159.0.14 from checkpoint: /gpfsscratch/rech/imi/uzw47io/elias_expe/4_agents/cooperative/modified_reward/6_landmarks/naming_game_30msg/2022-10-23_13-36-480wh6sbwt/checkpoint_000230/checkpoint-230\n",
      "2022-10-24 17:01:22,123\tINFO trainable.py:597 -- Current state after restoring: {'_iteration': 230, '_timesteps_total': None, '_time_total': 12719.767742156982, '_episodes_total': 28095}\n"
     ]
    },
    {
     "name": "stdout",
     "output_type": "stream",
     "text": [
      "checkpoint-230\n"
     ]
    },
    {
     "name": "stderr",
     "output_type": "stream",
     "text": [
      "2022-10-24 17:01:22,498\tINFO trainable.py:588 -- Restored on 10.159.0.14 from checkpoint: /gpfsscratch/rech/imi/uzw47io/elias_expe/4_agents/cooperative/modified_reward/6_landmarks/naming_game_30msg/2022-10-23_13-36-480wh6sbwt/checkpoint_000240/checkpoint-240\n",
      "2022-10-24 17:01:22,499\tINFO trainable.py:597 -- Current state after restoring: {'_iteration': 240, '_timesteps_total': None, '_time_total': 13246.49124789238, '_episodes_total': 29330}\n"
     ]
    },
    {
     "name": "stdout",
     "output_type": "stream",
     "text": [
      "checkpoint-240\n"
     ]
    },
    {
     "name": "stderr",
     "output_type": "stream",
     "text": [
      "2022-10-24 17:01:22,843\tINFO trainable.py:588 -- Restored on 10.159.0.14 from checkpoint: /gpfsscratch/rech/imi/uzw47io/elias_expe/4_agents/cooperative/modified_reward/6_landmarks/naming_game_30msg/2022-10-23_13-36-480wh6sbwt/checkpoint_000250/checkpoint-250\n",
      "2022-10-24 17:01:22,845\tINFO trainable.py:597 -- Current state after restoring: {'_iteration': 250, '_timesteps_total': None, '_time_total': 13779.606154203415, '_episodes_total': 30560}\n"
     ]
    },
    {
     "name": "stdout",
     "output_type": "stream",
     "text": [
      "checkpoint-250\n"
     ]
    },
    {
     "name": "stderr",
     "output_type": "stream",
     "text": [
      "2022-10-24 17:01:23,206\tINFO trainable.py:588 -- Restored on 10.159.0.14 from checkpoint: /gpfsscratch/rech/imi/uzw47io/elias_expe/4_agents/cooperative/modified_reward/6_landmarks/naming_game_30msg/2022-10-23_13-36-480wh6sbwt/checkpoint_000260/checkpoint-260\n",
      "2022-10-24 17:01:23,208\tINFO trainable.py:597 -- Current state after restoring: {'_iteration': 260, '_timesteps_total': None, '_time_total': 14311.878504276276, '_episodes_total': 31779}\n"
     ]
    },
    {
     "name": "stdout",
     "output_type": "stream",
     "text": [
      "checkpoint-260\n"
     ]
    },
    {
     "name": "stderr",
     "output_type": "stream",
     "text": [
      "2022-10-24 17:01:23,559\tINFO trainable.py:588 -- Restored on 10.159.0.14 from checkpoint: /gpfsscratch/rech/imi/uzw47io/elias_expe/4_agents/cooperative/modified_reward/6_landmarks/naming_game_30msg/2022-10-23_13-36-480wh6sbwt/checkpoint_000270/checkpoint-270\n",
      "2022-10-24 17:01:23,560\tINFO trainable.py:597 -- Current state after restoring: {'_iteration': 270, '_timesteps_total': None, '_time_total': 14841.782404184341, '_episodes_total': 33003}\n"
     ]
    },
    {
     "name": "stdout",
     "output_type": "stream",
     "text": [
      "checkpoint-270\n"
     ]
    },
    {
     "name": "stderr",
     "output_type": "stream",
     "text": [
      "2022-10-24 17:01:23,909\tINFO trainable.py:588 -- Restored on 10.159.0.14 from checkpoint: /gpfsscratch/rech/imi/uzw47io/elias_expe/4_agents/cooperative/modified_reward/6_landmarks/naming_game_30msg/2022-10-23_13-36-480wh6sbwt/checkpoint_000280/checkpoint-280\n",
      "2022-10-24 17:01:23,910\tINFO trainable.py:597 -- Current state after restoring: {'_iteration': 280, '_timesteps_total': None, '_time_total': 15373.934208393097, '_episodes_total': 34238}\n"
     ]
    },
    {
     "name": "stdout",
     "output_type": "stream",
     "text": [
      "checkpoint-280\n"
     ]
    },
    {
     "name": "stderr",
     "output_type": "stream",
     "text": [
      "2022-10-24 17:01:24,244\tINFO trainable.py:588 -- Restored on 10.159.0.14 from checkpoint: /gpfsscratch/rech/imi/uzw47io/elias_expe/4_agents/cooperative/modified_reward/6_landmarks/naming_game_30msg/2022-10-23_13-36-480wh6sbwt/checkpoint_000290/checkpoint-290\n",
      "2022-10-24 17:01:24,245\tINFO trainable.py:597 -- Current state after restoring: {'_iteration': 290, '_timesteps_total': None, '_time_total': 15905.84736609459, '_episodes_total': 35460}\n"
     ]
    },
    {
     "name": "stdout",
     "output_type": "stream",
     "text": [
      "checkpoint-290\n"
     ]
    },
    {
     "name": "stderr",
     "output_type": "stream",
     "text": [
      "2022-10-24 17:01:24,618\tINFO trainable.py:588 -- Restored on 10.159.0.14 from checkpoint: /gpfsscratch/rech/imi/uzw47io/elias_expe/4_agents/cooperative/modified_reward/6_landmarks/naming_game_30msg/2022-10-23_13-36-480wh6sbwt/checkpoint_000300/checkpoint-300\n",
      "2022-10-24 17:01:24,619\tINFO trainable.py:597 -- Current state after restoring: {'_iteration': 300, '_timesteps_total': None, '_time_total': 16434.486479759216, '_episodes_total': 36684}\n"
     ]
    },
    {
     "name": "stdout",
     "output_type": "stream",
     "text": [
      "checkpoint-300\n"
     ]
    },
    {
     "name": "stderr",
     "output_type": "stream",
     "text": [
      "2022-10-24 17:01:24,975\tINFO trainable.py:588 -- Restored on 10.159.0.14 from checkpoint: /gpfsscratch/rech/imi/uzw47io/elias_expe/4_agents/cooperative/modified_reward/6_landmarks/naming_game_30msg/2022-10-23_13-36-480wh6sbwt/checkpoint_000310/checkpoint-310\n",
      "2022-10-24 17:01:24,976\tINFO trainable.py:597 -- Current state after restoring: {'_iteration': 310, '_timesteps_total': None, '_time_total': 16973.167477607727, '_episodes_total': 37906}\n"
     ]
    },
    {
     "name": "stdout",
     "output_type": "stream",
     "text": [
      "checkpoint-310\n"
     ]
    },
    {
     "name": "stderr",
     "output_type": "stream",
     "text": [
      "2022-10-24 17:01:25,359\tINFO trainable.py:588 -- Restored on 10.159.0.14 from checkpoint: /gpfsscratch/rech/imi/uzw47io/elias_expe/4_agents/cooperative/modified_reward/6_landmarks/naming_game_30msg/2022-10-23_13-36-480wh6sbwt/checkpoint_000320/checkpoint-320\n",
      "2022-10-24 17:01:25,360\tINFO trainable.py:597 -- Current state after restoring: {'_iteration': 320, '_timesteps_total': None, '_time_total': 17509.17410159111, '_episodes_total': 39127}\n"
     ]
    },
    {
     "name": "stdout",
     "output_type": "stream",
     "text": [
      "checkpoint-320\n"
     ]
    },
    {
     "name": "stderr",
     "output_type": "stream",
     "text": [
      "2022-10-24 17:01:25,720\tINFO trainable.py:588 -- Restored on 10.159.0.14 from checkpoint: /gpfsscratch/rech/imi/uzw47io/elias_expe/4_agents/cooperative/modified_reward/6_landmarks/naming_game_30msg/2022-10-23_13-36-480wh6sbwt/checkpoint_000330/checkpoint-330\n",
      "2022-10-24 17:01:25,721\tINFO trainable.py:597 -- Current state after restoring: {'_iteration': 330, '_timesteps_total': None, '_time_total': 18038.394006490707, '_episodes_total': 40343}\n"
     ]
    },
    {
     "name": "stdout",
     "output_type": "stream",
     "text": [
      "checkpoint-330\n"
     ]
    },
    {
     "name": "stderr",
     "output_type": "stream",
     "text": [
      "2022-10-24 17:01:26,440\tINFO trainable.py:588 -- Restored on 10.159.0.14 from checkpoint: /gpfsscratch/rech/imi/uzw47io/elias_expe/4_agents/cooperative/modified_reward/6_landmarks/naming_game_30msg/2022-10-23_13-36-480wh6sbwt/checkpoint_000340/checkpoint-340\n",
      "2022-10-24 17:01:26,441\tINFO trainable.py:597 -- Current state after restoring: {'_iteration': 340, '_timesteps_total': None, '_time_total': 18576.646748542786, '_episodes_total': 41578}\n"
     ]
    },
    {
     "name": "stdout",
     "output_type": "stream",
     "text": [
      "checkpoint-340\n"
     ]
    },
    {
     "name": "stderr",
     "output_type": "stream",
     "text": [
      "2022-10-24 17:01:26,819\tINFO trainable.py:588 -- Restored on 10.159.0.14 from checkpoint: /gpfsscratch/rech/imi/uzw47io/elias_expe/4_agents/cooperative/modified_reward/6_landmarks/naming_game_30msg/2022-10-23_13-36-480wh6sbwt/checkpoint_000350/checkpoint-350\n",
      "2022-10-24 17:01:26,821\tINFO trainable.py:597 -- Current state after restoring: {'_iteration': 350, '_timesteps_total': None, '_time_total': 19101.515020132065, '_episodes_total': 42806}\n"
     ]
    },
    {
     "name": "stdout",
     "output_type": "stream",
     "text": [
      "checkpoint-350\n"
     ]
    },
    {
     "name": "stderr",
     "output_type": "stream",
     "text": [
      "2022-10-24 17:01:27,172\tINFO trainable.py:588 -- Restored on 10.159.0.14 from checkpoint: /gpfsscratch/rech/imi/uzw47io/elias_expe/4_agents/cooperative/modified_reward/6_landmarks/naming_game_30msg/2022-10-23_13-36-480wh6sbwt/checkpoint_000360/checkpoint-360\n",
      "2022-10-24 17:01:27,174\tINFO trainable.py:597 -- Current state after restoring: {'_iteration': 360, '_timesteps_total': None, '_time_total': 19633.903243780136, '_episodes_total': 44044}\n"
     ]
    },
    {
     "name": "stdout",
     "output_type": "stream",
     "text": [
      "checkpoint-360\n"
     ]
    },
    {
     "name": "stderr",
     "output_type": "stream",
     "text": [
      "2022-10-24 17:01:27,512\tINFO trainable.py:588 -- Restored on 10.159.0.14 from checkpoint: /gpfsscratch/rech/imi/uzw47io/elias_expe/4_agents/cooperative/modified_reward/6_landmarks/naming_game_30msg/2022-10-23_13-36-480wh6sbwt/checkpoint_000370/checkpoint-370\n",
      "2022-10-24 17:01:27,514\tINFO trainable.py:597 -- Current state after restoring: {'_iteration': 370, '_timesteps_total': None, '_time_total': 20159.668039560318, '_episodes_total': 45281}\n"
     ]
    },
    {
     "name": "stdout",
     "output_type": "stream",
     "text": [
      "checkpoint-370\n"
     ]
    },
    {
     "name": "stderr",
     "output_type": "stream",
     "text": [
      "2022-10-24 17:01:27,864\tINFO trainable.py:588 -- Restored on 10.159.0.14 from checkpoint: /gpfsscratch/rech/imi/uzw47io/elias_expe/4_agents/cooperative/modified_reward/6_landmarks/naming_game_30msg/2022-10-23_13-36-480wh6sbwt/checkpoint_000380/checkpoint-380\n",
      "2022-10-24 17:01:27,866\tINFO trainable.py:597 -- Current state after restoring: {'_iteration': 380, '_timesteps_total': None, '_time_total': 20682.10476255417, '_episodes_total': 46514}\n"
     ]
    },
    {
     "name": "stdout",
     "output_type": "stream",
     "text": [
      "checkpoint-380\n"
     ]
    },
    {
     "name": "stderr",
     "output_type": "stream",
     "text": [
      "2022-10-24 17:01:28,194\tINFO trainable.py:588 -- Restored on 10.159.0.14 from checkpoint: /gpfsscratch/rech/imi/uzw47io/elias_expe/4_agents/cooperative/modified_reward/6_landmarks/naming_game_30msg/2022-10-23_13-36-480wh6sbwt/checkpoint_000390/checkpoint-390\n",
      "2022-10-24 17:01:28,195\tINFO trainable.py:597 -- Current state after restoring: {'_iteration': 390, '_timesteps_total': None, '_time_total': 21205.753875494003, '_episodes_total': 47749}\n"
     ]
    },
    {
     "name": "stdout",
     "output_type": "stream",
     "text": [
      "checkpoint-390\n"
     ]
    },
    {
     "name": "stderr",
     "output_type": "stream",
     "text": [
      "2022-10-24 17:01:28,557\tINFO trainable.py:588 -- Restored on 10.159.0.14 from checkpoint: /gpfsscratch/rech/imi/uzw47io/elias_expe/4_agents/cooperative/modified_reward/6_landmarks/naming_game_30msg/2022-10-23_13-36-480wh6sbwt/checkpoint_000400/checkpoint-400\n",
      "2022-10-24 17:01:28,558\tINFO trainable.py:597 -- Current state after restoring: {'_iteration': 400, '_timesteps_total': None, '_time_total': 21740.786610126495, '_episodes_total': 48989}\n"
     ]
    },
    {
     "name": "stdout",
     "output_type": "stream",
     "text": [
      "checkpoint-400\n"
     ]
    },
    {
     "name": "stderr",
     "output_type": "stream",
     "text": [
      "2022-10-24 17:01:28,904\tINFO trainable.py:588 -- Restored on 10.159.0.14 from checkpoint: /gpfsscratch/rech/imi/uzw47io/elias_expe/4_agents/cooperative/modified_reward/6_landmarks/naming_game_30msg/2022-10-23_13-36-480wh6sbwt/checkpoint_000410/checkpoint-410\n",
      "2022-10-24 17:01:28,906\tINFO trainable.py:597 -- Current state after restoring: {'_iteration': 410, '_timesteps_total': None, '_time_total': 22281.23215985298, '_episodes_total': 50222}\n"
     ]
    },
    {
     "name": "stdout",
     "output_type": "stream",
     "text": [
      "checkpoint-410\n"
     ]
    },
    {
     "name": "stderr",
     "output_type": "stream",
     "text": [
      "2022-10-24 17:01:29,208\tINFO trainable.py:588 -- Restored on 10.159.0.14 from checkpoint: /gpfsscratch/rech/imi/uzw47io/elias_expe/4_agents/cooperative/modified_reward/6_landmarks/naming_game_30msg/2022-10-23_13-36-480wh6sbwt/checkpoint_000420/checkpoint-420\n",
      "2022-10-24 17:01:29,209\tINFO trainable.py:597 -- Current state after restoring: {'_iteration': 420, '_timesteps_total': None, '_time_total': 22817.145298719406, '_episodes_total': 51455}\n"
     ]
    },
    {
     "name": "stdout",
     "output_type": "stream",
     "text": [
      "checkpoint-420\n"
     ]
    },
    {
     "name": "stderr",
     "output_type": "stream",
     "text": [
      "2022-10-24 17:01:29,555\tINFO trainable.py:588 -- Restored on 10.159.0.14 from checkpoint: /gpfsscratch/rech/imi/uzw47io/elias_expe/4_agents/cooperative/modified_reward/6_landmarks/naming_game_30msg/2022-10-23_13-36-480wh6sbwt/checkpoint_000430/checkpoint-430\n",
      "2022-10-24 17:01:29,556\tINFO trainable.py:597 -- Current state after restoring: {'_iteration': 430, '_timesteps_total': None, '_time_total': 23346.744125127792, '_episodes_total': 52696}\n"
     ]
    },
    {
     "name": "stdout",
     "output_type": "stream",
     "text": [
      "checkpoint-430\n"
     ]
    },
    {
     "name": "stderr",
     "output_type": "stream",
     "text": [
      "2022-10-24 17:01:29,922\tINFO trainable.py:588 -- Restored on 10.159.0.14 from checkpoint: /gpfsscratch/rech/imi/uzw47io/elias_expe/4_agents/cooperative/modified_reward/6_landmarks/naming_game_30msg/2022-10-23_13-36-480wh6sbwt/checkpoint_000440/checkpoint-440\n",
      "2022-10-24 17:01:29,923\tINFO trainable.py:597 -- Current state after restoring: {'_iteration': 440, '_timesteps_total': None, '_time_total': 23875.50099015236, '_episodes_total': 53932}\n"
     ]
    },
    {
     "name": "stdout",
     "output_type": "stream",
     "text": [
      "checkpoint-440\n"
     ]
    },
    {
     "name": "stderr",
     "output_type": "stream",
     "text": [
      "2022-10-24 17:01:30,272\tINFO trainable.py:588 -- Restored on 10.159.0.14 from checkpoint: /gpfsscratch/rech/imi/uzw47io/elias_expe/4_agents/cooperative/modified_reward/6_landmarks/naming_game_30msg/2022-10-23_13-36-480wh6sbwt/checkpoint_000450/checkpoint-450\n",
      "2022-10-24 17:01:30,274\tINFO trainable.py:597 -- Current state after restoring: {'_iteration': 450, '_timesteps_total': None, '_time_total': 24397.835186243057, '_episodes_total': 55165}\n"
     ]
    },
    {
     "name": "stdout",
     "output_type": "stream",
     "text": [
      "checkpoint-450\n"
     ]
    },
    {
     "name": "stderr",
     "output_type": "stream",
     "text": [
      "2022-10-24 17:01:30,587\tINFO trainable.py:588 -- Restored on 10.159.0.14 from checkpoint: /gpfsscratch/rech/imi/uzw47io/elias_expe/4_agents/cooperative/modified_reward/6_landmarks/naming_game_30msg/2022-10-23_13-36-480wh6sbwt/checkpoint_000460/checkpoint-460\n",
      "2022-10-24 17:01:30,588\tINFO trainable.py:597 -- Current state after restoring: {'_iteration': 460, '_timesteps_total': None, '_time_total': 24933.40274810791, '_episodes_total': 56401}\n"
     ]
    },
    {
     "name": "stdout",
     "output_type": "stream",
     "text": [
      "checkpoint-460\n"
     ]
    },
    {
     "name": "stderr",
     "output_type": "stream",
     "text": [
      "2022-10-24 17:01:30,953\tINFO trainable.py:588 -- Restored on 10.159.0.14 from checkpoint: /gpfsscratch/rech/imi/uzw47io/elias_expe/4_agents/cooperative/modified_reward/6_landmarks/naming_game_30msg/2022-10-23_13-36-480wh6sbwt/checkpoint_000470/checkpoint-470\n",
      "2022-10-24 17:01:30,955\tINFO trainable.py:597 -- Current state after restoring: {'_iteration': 470, '_timesteps_total': None, '_time_total': 25463.581179142, '_episodes_total': 57640}\n"
     ]
    },
    {
     "name": "stdout",
     "output_type": "stream",
     "text": [
      "checkpoint-470\n"
     ]
    },
    {
     "name": "stderr",
     "output_type": "stream",
     "text": [
      "2022-10-24 17:01:31,664\tINFO trainable.py:588 -- Restored on 10.159.0.14 from checkpoint: /gpfsscratch/rech/imi/uzw47io/elias_expe/4_agents/cooperative/modified_reward/6_landmarks/naming_game_30msg/2022-10-23_13-36-480wh6sbwt/checkpoint_000480/checkpoint-480\n",
      "2022-10-24 17:01:31,666\tINFO trainable.py:597 -- Current state after restoring: {'_iteration': 480, '_timesteps_total': None, '_time_total': 25987.277344703674, '_episodes_total': 58858}\n"
     ]
    },
    {
     "name": "stdout",
     "output_type": "stream",
     "text": [
      "checkpoint-480\n"
     ]
    },
    {
     "name": "stderr",
     "output_type": "stream",
     "text": [
      "2022-10-24 17:01:32,022\tINFO trainable.py:588 -- Restored on 10.159.0.14 from checkpoint: /gpfsscratch/rech/imi/uzw47io/elias_expe/4_agents/cooperative/modified_reward/6_landmarks/naming_game_30msg/2022-10-23_13-36-480wh6sbwt/checkpoint_000490/checkpoint-490\n",
      "2022-10-24 17:01:32,023\tINFO trainable.py:597 -- Current state after restoring: {'_iteration': 490, '_timesteps_total': None, '_time_total': 26508.43882417679, '_episodes_total': 60110}\n"
     ]
    },
    {
     "name": "stdout",
     "output_type": "stream",
     "text": [
      "checkpoint-490\n"
     ]
    },
    {
     "name": "stderr",
     "output_type": "stream",
     "text": [
      "2022-10-24 17:01:32,334\tINFO trainable.py:588 -- Restored on 10.159.0.14 from checkpoint: /gpfsscratch/rech/imi/uzw47io/elias_expe/4_agents/cooperative/modified_reward/6_landmarks/naming_game_30msg/2022-10-23_13-36-480wh6sbwt/checkpoint_000500/checkpoint-500\n",
      "2022-10-24 17:01:32,335\tINFO trainable.py:597 -- Current state after restoring: {'_iteration': 500, '_timesteps_total': None, '_time_total': 27033.152046442032, '_episodes_total': 61343}\n"
     ]
    },
    {
     "name": "stdout",
     "output_type": "stream",
     "text": [
      "checkpoint-500\n"
     ]
    },
    {
     "name": "stderr",
     "output_type": "stream",
     "text": [
      "2022-10-24 17:01:32,693\tINFO trainable.py:588 -- Restored on 10.159.0.14 from checkpoint: /gpfsscratch/rech/imi/uzw47io/elias_expe/4_agents/cooperative/modified_reward/6_landmarks/naming_game_30msg/2022-10-23_13-36-480wh6sbwt/checkpoint_000510/checkpoint-510\n",
      "2022-10-24 17:01:32,695\tINFO trainable.py:597 -- Current state after restoring: {'_iteration': 510, '_timesteps_total': None, '_time_total': 27547.870509386063, '_episodes_total': 62573}\n"
     ]
    },
    {
     "name": "stdout",
     "output_type": "stream",
     "text": [
      "checkpoint-510\n"
     ]
    },
    {
     "name": "stderr",
     "output_type": "stream",
     "text": [
      "2022-10-24 17:01:33,055\tINFO trainable.py:588 -- Restored on 10.159.0.14 from checkpoint: /gpfsscratch/rech/imi/uzw47io/elias_expe/4_agents/cooperative/modified_reward/6_landmarks/naming_game_30msg/2022-10-23_13-36-480wh6sbwt/checkpoint_000520/checkpoint-520\n",
      "2022-10-24 17:01:33,056\tINFO trainable.py:597 -- Current state after restoring: {'_iteration': 520, '_timesteps_total': None, '_time_total': 28091.57023882866, '_episodes_total': 63828}\n"
     ]
    },
    {
     "name": "stdout",
     "output_type": "stream",
     "text": [
      "checkpoint-520\n"
     ]
    },
    {
     "name": "stderr",
     "output_type": "stream",
     "text": [
      "2022-10-24 17:01:33,421\tINFO trainable.py:588 -- Restored on 10.159.0.14 from checkpoint: /gpfsscratch/rech/imi/uzw47io/elias_expe/4_agents/cooperative/modified_reward/6_landmarks/naming_game_30msg/2022-10-23_13-36-480wh6sbwt/checkpoint_000530/checkpoint-530\n",
      "2022-10-24 17:01:33,422\tINFO trainable.py:597 -- Current state after restoring: {'_iteration': 530, '_timesteps_total': None, '_time_total': 28603.911620140076, '_episodes_total': 65057}\n"
     ]
    },
    {
     "name": "stdout",
     "output_type": "stream",
     "text": [
      "checkpoint-530\n"
     ]
    },
    {
     "name": "stderr",
     "output_type": "stream",
     "text": [
      "2022-10-24 17:01:33,798\tINFO trainable.py:588 -- Restored on 10.159.0.14 from checkpoint: /gpfsscratch/rech/imi/uzw47io/elias_expe/4_agents/cooperative/modified_reward/6_landmarks/naming_game_30msg/2022-10-23_13-36-480wh6sbwt/checkpoint_000540/checkpoint-540\n",
      "2022-10-24 17:01:33,799\tINFO trainable.py:597 -- Current state after restoring: {'_iteration': 540, '_timesteps_total': None, '_time_total': 29132.66295671463, '_episodes_total': 66298}\n"
     ]
    },
    {
     "name": "stdout",
     "output_type": "stream",
     "text": [
      "checkpoint-540\n"
     ]
    },
    {
     "name": "stderr",
     "output_type": "stream",
     "text": [
      "2022-10-24 17:01:34,157\tINFO trainable.py:588 -- Restored on 10.159.0.14 from checkpoint: /gpfsscratch/rech/imi/uzw47io/elias_expe/4_agents/cooperative/modified_reward/6_landmarks/naming_game_30msg/2022-10-23_13-36-480wh6sbwt/checkpoint_000550/checkpoint-550\n",
      "2022-10-24 17:01:34,158\tINFO trainable.py:597 -- Current state after restoring: {'_iteration': 550, '_timesteps_total': None, '_time_total': 29654.81418299675, '_episodes_total': 67525}\n"
     ]
    },
    {
     "name": "stdout",
     "output_type": "stream",
     "text": [
      "checkpoint-550\n"
     ]
    },
    {
     "name": "stderr",
     "output_type": "stream",
     "text": [
      "2022-10-24 17:01:34,520\tINFO trainable.py:588 -- Restored on 10.159.0.14 from checkpoint: /gpfsscratch/rech/imi/uzw47io/elias_expe/4_agents/cooperative/modified_reward/6_landmarks/naming_game_30msg/2022-10-23_13-36-480wh6sbwt/checkpoint_000560/checkpoint-560\n",
      "2022-10-24 17:01:34,521\tINFO trainable.py:597 -- Current state after restoring: {'_iteration': 560, '_timesteps_total': None, '_time_total': 30172.565808534622, '_episodes_total': 68747}\n"
     ]
    },
    {
     "name": "stdout",
     "output_type": "stream",
     "text": [
      "checkpoint-560\n"
     ]
    },
    {
     "name": "stderr",
     "output_type": "stream",
     "text": [
      "2022-10-24 17:01:34,876\tINFO trainable.py:588 -- Restored on 10.159.0.14 from checkpoint: /gpfsscratch/rech/imi/uzw47io/elias_expe/4_agents/cooperative/modified_reward/6_landmarks/naming_game_30msg/2022-10-23_13-36-480wh6sbwt/checkpoint_000570/checkpoint-570\n",
      "2022-10-24 17:01:34,878\tINFO trainable.py:597 -- Current state after restoring: {'_iteration': 570, '_timesteps_total': None, '_time_total': 30737.04300045967, '_episodes_total': 69987}\n"
     ]
    },
    {
     "name": "stdout",
     "output_type": "stream",
     "text": [
      "checkpoint-570\n"
     ]
    },
    {
     "name": "stderr",
     "output_type": "stream",
     "text": [
      "2022-10-24 17:01:35,234\tINFO trainable.py:588 -- Restored on 10.159.0.14 from checkpoint: /gpfsscratch/rech/imi/uzw47io/elias_expe/4_agents/cooperative/modified_reward/6_landmarks/naming_game_30msg/2022-10-23_13-36-480wh6sbwt/checkpoint_000580/checkpoint-580\n",
      "2022-10-24 17:01:35,235\tINFO trainable.py:597 -- Current state after restoring: {'_iteration': 580, '_timesteps_total': None, '_time_total': 31259.65331673622, '_episodes_total': 71234}\n"
     ]
    },
    {
     "name": "stdout",
     "output_type": "stream",
     "text": [
      "checkpoint-580\n"
     ]
    },
    {
     "name": "stderr",
     "output_type": "stream",
     "text": [
      "2022-10-24 17:01:35,600\tINFO trainable.py:588 -- Restored on 10.159.0.14 from checkpoint: /gpfsscratch/rech/imi/uzw47io/elias_expe/4_agents/cooperative/modified_reward/6_landmarks/naming_game_30msg/2022-10-23_13-36-480wh6sbwt/checkpoint_000590/checkpoint-590\n",
      "2022-10-24 17:01:35,602\tINFO trainable.py:597 -- Current state after restoring: {'_iteration': 590, '_timesteps_total': None, '_time_total': 31791.073875665665, '_episodes_total': 72487}\n"
     ]
    },
    {
     "name": "stdout",
     "output_type": "stream",
     "text": [
      "checkpoint-590\n"
     ]
    },
    {
     "name": "stderr",
     "output_type": "stream",
     "text": [
      "2022-10-24 17:01:35,957\tINFO trainable.py:588 -- Restored on 10.159.0.14 from checkpoint: /gpfsscratch/rech/imi/uzw47io/elias_expe/4_agents/cooperative/modified_reward/6_landmarks/naming_game_30msg/2022-10-23_13-36-480wh6sbwt/checkpoint_000600/checkpoint-600\n",
      "2022-10-24 17:01:35,960\tINFO trainable.py:597 -- Current state after restoring: {'_iteration': 600, '_timesteps_total': None, '_time_total': 32326.51610684395, '_episodes_total': 73740}\n"
     ]
    },
    {
     "name": "stdout",
     "output_type": "stream",
     "text": [
      "checkpoint-600\n"
     ]
    },
    {
     "name": "stderr",
     "output_type": "stream",
     "text": [
      "2022-10-24 17:01:36,320\tINFO trainable.py:588 -- Restored on 10.159.0.14 from checkpoint: /gpfsscratch/rech/imi/uzw47io/elias_expe/4_agents/cooperative/modified_reward/6_landmarks/naming_game_30msg/2022-10-23_13-36-480wh6sbwt/checkpoint_000610/checkpoint-610\n",
      "2022-10-24 17:01:36,322\tINFO trainable.py:597 -- Current state after restoring: {'_iteration': 610, '_timesteps_total': None, '_time_total': 32844.945220947266, '_episodes_total': 74983}\n"
     ]
    },
    {
     "name": "stdout",
     "output_type": "stream",
     "text": [
      "checkpoint-610\n"
     ]
    },
    {
     "name": "stderr",
     "output_type": "stream",
     "text": [
      "2022-10-24 17:01:37,035\tINFO trainable.py:588 -- Restored on 10.159.0.14 from checkpoint: /gpfsscratch/rech/imi/uzw47io/elias_expe/4_agents/cooperative/modified_reward/6_landmarks/naming_game_30msg/2022-10-23_13-36-480wh6sbwt/checkpoint_000620/checkpoint-620\n",
      "2022-10-24 17:01:37,036\tINFO trainable.py:597 -- Current state after restoring: {'_iteration': 620, '_timesteps_total': None, '_time_total': 33360.24616217613, '_episodes_total': 76246}\n"
     ]
    },
    {
     "name": "stdout",
     "output_type": "stream",
     "text": [
      "checkpoint-620\n"
     ]
    },
    {
     "name": "stderr",
     "output_type": "stream",
     "text": [
      "2022-10-24 17:01:37,379\tINFO trainable.py:588 -- Restored on 10.159.0.14 from checkpoint: /gpfsscratch/rech/imi/uzw47io/elias_expe/4_agents/cooperative/modified_reward/6_landmarks/naming_game_30msg/2022-10-23_13-36-480wh6sbwt/checkpoint_000630/checkpoint-630\n",
      "2022-10-24 17:01:37,380\tINFO trainable.py:597 -- Current state after restoring: {'_iteration': 630, '_timesteps_total': None, '_time_total': 33868.55232453346, '_episodes_total': 77482}\n"
     ]
    },
    {
     "name": "stdout",
     "output_type": "stream",
     "text": [
      "checkpoint-630\n"
     ]
    },
    {
     "name": "stderr",
     "output_type": "stream",
     "text": [
      "2022-10-24 17:01:37,737\tINFO trainable.py:588 -- Restored on 10.159.0.14 from checkpoint: /gpfsscratch/rech/imi/uzw47io/elias_expe/4_agents/cooperative/modified_reward/6_landmarks/naming_game_30msg/2022-10-23_13-36-480wh6sbwt/checkpoint_000640/checkpoint-640\n",
      "2022-10-24 17:01:37,738\tINFO trainable.py:597 -- Current state after restoring: {'_iteration': 640, '_timesteps_total': None, '_time_total': 34380.77482128143, '_episodes_total': 78715}\n"
     ]
    },
    {
     "name": "stdout",
     "output_type": "stream",
     "text": [
      "checkpoint-640\n"
     ]
    },
    {
     "name": "stderr",
     "output_type": "stream",
     "text": [
      "2022-10-24 17:01:38,079\tINFO trainable.py:588 -- Restored on 10.159.0.14 from checkpoint: /gpfsscratch/rech/imi/uzw47io/elias_expe/4_agents/cooperative/modified_reward/6_landmarks/naming_game_30msg/2022-10-23_13-36-480wh6sbwt/checkpoint_000650/checkpoint-650\n",
      "2022-10-24 17:01:38,080\tINFO trainable.py:597 -- Current state after restoring: {'_iteration': 650, '_timesteps_total': None, '_time_total': 34892.57383322716, '_episodes_total': 79960}\n"
     ]
    },
    {
     "name": "stdout",
     "output_type": "stream",
     "text": [
      "checkpoint-650\n"
     ]
    },
    {
     "name": "stderr",
     "output_type": "stream",
     "text": [
      "2022-10-24 17:01:38,417\tINFO trainable.py:588 -- Restored on 10.159.0.14 from checkpoint: /gpfsscratch/rech/imi/uzw47io/elias_expe/4_agents/cooperative/modified_reward/6_landmarks/naming_game_30msg/2022-10-23_13-36-480wh6sbwt/checkpoint_000660/checkpoint-660\n",
      "2022-10-24 17:01:38,418\tINFO trainable.py:597 -- Current state after restoring: {'_iteration': 660, '_timesteps_total': None, '_time_total': 35403.42414164543, '_episodes_total': 81201}\n"
     ]
    },
    {
     "name": "stdout",
     "output_type": "stream",
     "text": [
      "checkpoint-660\n"
     ]
    },
    {
     "name": "stderr",
     "output_type": "stream",
     "text": [
      "2022-10-24 17:01:38,769\tINFO trainable.py:588 -- Restored on 10.159.0.14 from checkpoint: /gpfsscratch/rech/imi/uzw47io/elias_expe/4_agents/cooperative/modified_reward/6_landmarks/naming_game_30msg/2022-10-23_13-36-480wh6sbwt/checkpoint_000670/checkpoint-670\n",
      "2022-10-24 17:01:38,770\tINFO trainable.py:597 -- Current state after restoring: {'_iteration': 670, '_timesteps_total': None, '_time_total': 35929.88591146469, '_episodes_total': 82457}\n"
     ]
    },
    {
     "name": "stdout",
     "output_type": "stream",
     "text": [
      "checkpoint-670\n"
     ]
    },
    {
     "name": "stderr",
     "output_type": "stream",
     "text": [
      "2022-10-24 17:01:39,134\tINFO trainable.py:588 -- Restored on 10.159.0.14 from checkpoint: /gpfsscratch/rech/imi/uzw47io/elias_expe/4_agents/cooperative/modified_reward/6_landmarks/naming_game_30msg/2022-10-23_13-36-480wh6sbwt/checkpoint_000680/checkpoint-680\n",
      "2022-10-24 17:01:39,135\tINFO trainable.py:597 -- Current state after restoring: {'_iteration': 680, '_timesteps_total': None, '_time_total': 36433.87432169914, '_episodes_total': 83703}\n"
     ]
    },
    {
     "name": "stdout",
     "output_type": "stream",
     "text": [
      "checkpoint-680\n"
     ]
    },
    {
     "name": "stderr",
     "output_type": "stream",
     "text": [
      "2022-10-24 17:01:39,503\tINFO trainable.py:588 -- Restored on 10.159.0.14 from checkpoint: /gpfsscratch/rech/imi/uzw47io/elias_expe/4_agents/cooperative/modified_reward/6_landmarks/naming_game_30msg/2022-10-23_13-36-480wh6sbwt/checkpoint_000690/checkpoint-690\n",
      "2022-10-24 17:01:39,504\tINFO trainable.py:597 -- Current state after restoring: {'_iteration': 690, '_timesteps_total': None, '_time_total': 36942.34767866135, '_episodes_total': 84946}\n"
     ]
    },
    {
     "name": "stdout",
     "output_type": "stream",
     "text": [
      "checkpoint-690\n"
     ]
    },
    {
     "name": "stderr",
     "output_type": "stream",
     "text": [
      "2022-10-24 17:01:39,866\tINFO trainable.py:588 -- Restored on 10.159.0.14 from checkpoint: /gpfsscratch/rech/imi/uzw47io/elias_expe/4_agents/cooperative/modified_reward/6_landmarks/naming_game_30msg/2022-10-23_13-36-480wh6sbwt/checkpoint_000700/checkpoint-700\n",
      "2022-10-24 17:01:39,867\tINFO trainable.py:597 -- Current state after restoring: {'_iteration': 700, '_timesteps_total': None, '_time_total': 37455.97346615791, '_episodes_total': 86203}\n"
     ]
    },
    {
     "name": "stdout",
     "output_type": "stream",
     "text": [
      "checkpoint-700\n"
     ]
    },
    {
     "name": "stderr",
     "output_type": "stream",
     "text": [
      "2022-10-24 17:01:40,224\tINFO trainable.py:588 -- Restored on 10.159.0.14 from checkpoint: /gpfsscratch/rech/imi/uzw47io/elias_expe/4_agents/cooperative/modified_reward/6_landmarks/naming_game_30msg/2022-10-23_13-36-480wh6sbwt/checkpoint_000710/checkpoint-710\n",
      "2022-10-24 17:01:40,226\tINFO trainable.py:597 -- Current state after restoring: {'_iteration': 710, '_timesteps_total': None, '_time_total': 37957.30130624771, '_episodes_total': 87447}\n"
     ]
    },
    {
     "name": "stdout",
     "output_type": "stream",
     "text": [
      "checkpoint-710\n"
     ]
    },
    {
     "name": "stderr",
     "output_type": "stream",
     "text": [
      "2022-10-24 17:01:40,548\tINFO trainable.py:588 -- Restored on 10.159.0.14 from checkpoint: /gpfsscratch/rech/imi/uzw47io/elias_expe/4_agents/cooperative/modified_reward/6_landmarks/naming_game_30msg/2022-10-23_13-36-480wh6sbwt/checkpoint_000720/checkpoint-720\n",
      "2022-10-24 17:01:40,549\tINFO trainable.py:597 -- Current state after restoring: {'_iteration': 720, '_timesteps_total': None, '_time_total': 38469.88358139992, '_episodes_total': 88683}\n"
     ]
    },
    {
     "name": "stdout",
     "output_type": "stream",
     "text": [
      "checkpoint-720\n"
     ]
    },
    {
     "name": "stderr",
     "output_type": "stream",
     "text": [
      "2022-10-24 17:01:40,856\tINFO trainable.py:588 -- Restored on 10.159.0.14 from checkpoint: /gpfsscratch/rech/imi/uzw47io/elias_expe/4_agents/cooperative/modified_reward/6_landmarks/naming_game_30msg/2022-10-23_13-36-480wh6sbwt/checkpoint_000730/checkpoint-730\n",
      "2022-10-24 17:01:40,858\tINFO trainable.py:597 -- Current state after restoring: {'_iteration': 730, '_timesteps_total': None, '_time_total': 38975.43799138069, '_episodes_total': 89924}\n"
     ]
    },
    {
     "name": "stdout",
     "output_type": "stream",
     "text": [
      "checkpoint-730\n"
     ]
    },
    {
     "name": "stderr",
     "output_type": "stream",
     "text": [
      "2022-10-24 17:01:41,110\tINFO trainable.py:588 -- Restored on 10.159.0.14 from checkpoint: /gpfsscratch/rech/imi/uzw47io/elias_expe/4_agents/cooperative/modified_reward/6_landmarks/naming_game_30msg/2022-10-23_13-36-480wh6sbwt/checkpoint_000740/checkpoint-740\n",
      "2022-10-24 17:01:41,111\tINFO trainable.py:597 -- Current state after restoring: {'_iteration': 740, '_timesteps_total': None, '_time_total': 39485.52091240883, '_episodes_total': 91187}\n"
     ]
    },
    {
     "name": "stdout",
     "output_type": "stream",
     "text": [
      "checkpoint-740\n"
     ]
    },
    {
     "name": "stderr",
     "output_type": "stream",
     "text": [
      "2022-10-24 17:01:41,409\tINFO trainable.py:588 -- Restored on 10.159.0.14 from checkpoint: /gpfsscratch/rech/imi/uzw47io/elias_expe/4_agents/cooperative/modified_reward/6_landmarks/naming_game_30msg/2022-10-23_13-36-480wh6sbwt/checkpoint_000750/checkpoint-750\n",
      "2022-10-24 17:01:41,410\tINFO trainable.py:597 -- Current state after restoring: {'_iteration': 750, '_timesteps_total': None, '_time_total': 39999.24658489227, '_episodes_total': 92429}\n"
     ]
    },
    {
     "name": "stdout",
     "output_type": "stream",
     "text": [
      "checkpoint-750\n"
     ]
    },
    {
     "name": "stderr",
     "output_type": "stream",
     "text": [
      "2022-10-24 17:01:42,088\tINFO trainable.py:588 -- Restored on 10.159.0.14 from checkpoint: /gpfsscratch/rech/imi/uzw47io/elias_expe/4_agents/cooperative/modified_reward/6_landmarks/naming_game_30msg/2022-10-23_13-36-480wh6sbwt/checkpoint_000760/checkpoint-760\n",
      "2022-10-24 17:01:42,089\tINFO trainable.py:597 -- Current state after restoring: {'_iteration': 760, '_timesteps_total': None, '_time_total': 40508.12497186661, '_episodes_total': 93712}\n"
     ]
    },
    {
     "name": "stdout",
     "output_type": "stream",
     "text": [
      "checkpoint-760\n"
     ]
    },
    {
     "name": "stderr",
     "output_type": "stream",
     "text": [
      "2022-10-24 17:01:42,494\tINFO trainable.py:588 -- Restored on 10.159.0.14 from checkpoint: /gpfsscratch/rech/imi/uzw47io/elias_expe/4_agents/cooperative/modified_reward/6_landmarks/naming_game_30msg/2022-10-23_13-36-480wh6sbwt/checkpoint_000770/checkpoint-770\n",
      "2022-10-24 17:01:42,495\tINFO trainable.py:597 -- Current state after restoring: {'_iteration': 770, '_timesteps_total': None, '_time_total': 41014.24797320366, '_episodes_total': 94956}\n"
     ]
    },
    {
     "name": "stdout",
     "output_type": "stream",
     "text": [
      "checkpoint-770\n"
     ]
    },
    {
     "name": "stderr",
     "output_type": "stream",
     "text": [
      "2022-10-24 17:01:42,819\tINFO trainable.py:588 -- Restored on 10.159.0.14 from checkpoint: /gpfsscratch/rech/imi/uzw47io/elias_expe/4_agents/cooperative/modified_reward/6_landmarks/naming_game_30msg/2022-10-23_13-36-480wh6sbwt/checkpoint_000780/checkpoint-780\n",
      "2022-10-24 17:01:42,821\tINFO trainable.py:597 -- Current state after restoring: {'_iteration': 780, '_timesteps_total': None, '_time_total': 41517.6982524395, '_episodes_total': 96224}\n"
     ]
    },
    {
     "name": "stdout",
     "output_type": "stream",
     "text": [
      "checkpoint-780\n"
     ]
    },
    {
     "name": "stderr",
     "output_type": "stream",
     "text": [
      "2022-10-24 17:01:43,179\tINFO trainable.py:588 -- Restored on 10.159.0.14 from checkpoint: /gpfsscratch/rech/imi/uzw47io/elias_expe/4_agents/cooperative/modified_reward/6_landmarks/naming_game_30msg/2022-10-23_13-36-480wh6sbwt/checkpoint_000790/checkpoint-790\n",
      "2022-10-24 17:01:43,180\tINFO trainable.py:597 -- Current state after restoring: {'_iteration': 790, '_timesteps_total': None, '_time_total': 42027.9639005661, '_episodes_total': 97507}\n"
     ]
    },
    {
     "name": "stdout",
     "output_type": "stream",
     "text": [
      "checkpoint-790\n"
     ]
    },
    {
     "name": "stderr",
     "output_type": "stream",
     "text": [
      "2022-10-24 17:01:43,542\tINFO trainable.py:588 -- Restored on 10.159.0.14 from checkpoint: /gpfsscratch/rech/imi/uzw47io/elias_expe/4_agents/cooperative/modified_reward/6_landmarks/naming_game_30msg/2022-10-23_13-36-480wh6sbwt/checkpoint_000800/checkpoint-800\n",
      "2022-10-24 17:01:43,543\tINFO trainable.py:597 -- Current state after restoring: {'_iteration': 800, '_timesteps_total': None, '_time_total': 42527.68366909027, '_episodes_total': 98748}\n"
     ]
    },
    {
     "name": "stdout",
     "output_type": "stream",
     "text": [
      "checkpoint-800\n"
     ]
    },
    {
     "name": "stderr",
     "output_type": "stream",
     "text": [
      "2022-10-24 17:01:43,898\tINFO trainable.py:588 -- Restored on 10.159.0.14 from checkpoint: /gpfsscratch/rech/imi/uzw47io/elias_expe/4_agents/cooperative/modified_reward/6_landmarks/naming_game_30msg/2022-10-23_13-36-480wh6sbwt/checkpoint_000810/checkpoint-810\n",
      "2022-10-24 17:01:43,899\tINFO trainable.py:597 -- Current state after restoring: {'_iteration': 810, '_timesteps_total': None, '_time_total': 43030.413056612015, '_episodes_total': 99991}\n"
     ]
    },
    {
     "name": "stdout",
     "output_type": "stream",
     "text": [
      "checkpoint-810\n"
     ]
    },
    {
     "name": "stderr",
     "output_type": "stream",
     "text": [
      "2022-10-24 17:01:44,242\tINFO trainable.py:588 -- Restored on 10.159.0.14 from checkpoint: /gpfsscratch/rech/imi/uzw47io/elias_expe/4_agents/cooperative/modified_reward/6_landmarks/naming_game_30msg/2022-10-23_13-36-480wh6sbwt/checkpoint_000820/checkpoint-820\n",
      "2022-10-24 17:01:44,243\tINFO trainable.py:597 -- Current state after restoring: {'_iteration': 820, '_timesteps_total': None, '_time_total': 43533.04277777672, '_episodes_total': 101230}\n"
     ]
    },
    {
     "name": "stdout",
     "output_type": "stream",
     "text": [
      "checkpoint-820\n"
     ]
    },
    {
     "name": "stderr",
     "output_type": "stream",
     "text": [
      "2022-10-24 17:01:44,558\tINFO trainable.py:588 -- Restored on 10.159.0.14 from checkpoint: /gpfsscratch/rech/imi/uzw47io/elias_expe/4_agents/cooperative/modified_reward/6_landmarks/naming_game_30msg/2022-10-23_13-36-480wh6sbwt/checkpoint_000830/checkpoint-830\n",
      "2022-10-24 17:01:44,559\tINFO trainable.py:597 -- Current state after restoring: {'_iteration': 830, '_timesteps_total': None, '_time_total': 44042.17241382599, '_episodes_total': 102471}\n"
     ]
    },
    {
     "name": "stdout",
     "output_type": "stream",
     "text": [
      "checkpoint-830\n"
     ]
    },
    {
     "name": "stderr",
     "output_type": "stream",
     "text": [
      "2022-10-24 17:01:44,880\tINFO trainable.py:588 -- Restored on 10.159.0.14 from checkpoint: /gpfsscratch/rech/imi/uzw47io/elias_expe/4_agents/cooperative/modified_reward/6_landmarks/naming_game_30msg/2022-10-23_13-36-480wh6sbwt/checkpoint_000840/checkpoint-840\n",
      "2022-10-24 17:01:44,882\tINFO trainable.py:597 -- Current state after restoring: {'_iteration': 840, '_timesteps_total': None, '_time_total': 44540.50792455673, '_episodes_total': 103720}\n"
     ]
    },
    {
     "name": "stdout",
     "output_type": "stream",
     "text": [
      "checkpoint-840\n"
     ]
    },
    {
     "name": "stderr",
     "output_type": "stream",
     "text": [
      "2022-10-24 17:01:45,229\tINFO trainable.py:588 -- Restored on 10.159.0.14 from checkpoint: /gpfsscratch/rech/imi/uzw47io/elias_expe/4_agents/cooperative/modified_reward/6_landmarks/naming_game_30msg/2022-10-23_13-36-480wh6sbwt/checkpoint_000850/checkpoint-850\n",
      "2022-10-24 17:01:45,231\tINFO trainable.py:597 -- Current state after restoring: {'_iteration': 850, '_timesteps_total': None, '_time_total': 45044.68501496315, '_episodes_total': 104971}\n"
     ]
    },
    {
     "name": "stdout",
     "output_type": "stream",
     "text": [
      "checkpoint-850\n"
     ]
    },
    {
     "name": "stderr",
     "output_type": "stream",
     "text": [
      "2022-10-24 17:01:45,562\tINFO trainable.py:588 -- Restored on 10.159.0.14 from checkpoint: /gpfsscratch/rech/imi/uzw47io/elias_expe/4_agents/cooperative/modified_reward/6_landmarks/naming_game_30msg/2022-10-23_13-36-480wh6sbwt/checkpoint_000860/checkpoint-860\n",
      "2022-10-24 17:01:45,563\tINFO trainable.py:597 -- Current state after restoring: {'_iteration': 860, '_timesteps_total': None, '_time_total': 45542.81378173828, '_episodes_total': 106218}\n"
     ]
    },
    {
     "name": "stdout",
     "output_type": "stream",
     "text": [
      "checkpoint-860\n"
     ]
    },
    {
     "name": "stderr",
     "output_type": "stream",
     "text": [
      "2022-10-24 17:01:45,928\tINFO trainable.py:588 -- Restored on 10.159.0.14 from checkpoint: /gpfsscratch/rech/imi/uzw47io/elias_expe/4_agents/cooperative/modified_reward/6_landmarks/naming_game_30msg/2022-10-23_13-36-480wh6sbwt/checkpoint_000870/checkpoint-870\n",
      "2022-10-24 17:01:45,929\tINFO trainable.py:597 -- Current state after restoring: {'_iteration': 870, '_timesteps_total': None, '_time_total': 46035.45520687103, '_episodes_total': 107482}\n"
     ]
    },
    {
     "name": "stdout",
     "output_type": "stream",
     "text": [
      "checkpoint-870\n"
     ]
    },
    {
     "name": "stderr",
     "output_type": "stream",
     "text": [
      "2022-10-24 17:01:46,309\tINFO trainable.py:588 -- Restored on 10.159.0.14 from checkpoint: /gpfsscratch/rech/imi/uzw47io/elias_expe/4_agents/cooperative/modified_reward/6_landmarks/naming_game_30msg/2022-10-23_13-36-480wh6sbwt/checkpoint_000880/checkpoint-880\n",
      "2022-10-24 17:01:46,310\tINFO trainable.py:597 -- Current state after restoring: {'_iteration': 880, '_timesteps_total': None, '_time_total': 46542.29817152023, '_episodes_total': 108733}\n"
     ]
    },
    {
     "name": "stdout",
     "output_type": "stream",
     "text": [
      "checkpoint-880\n"
     ]
    },
    {
     "name": "stderr",
     "output_type": "stream",
     "text": [
      "2022-10-24 17:01:46,667\tINFO trainable.py:588 -- Restored on 10.159.0.14 from checkpoint: /gpfsscratch/rech/imi/uzw47io/elias_expe/4_agents/cooperative/modified_reward/6_landmarks/naming_game_30msg/2022-10-23_13-36-480wh6sbwt/checkpoint_000890/checkpoint-890\n",
      "2022-10-24 17:01:46,668\tINFO trainable.py:597 -- Current state after restoring: {'_iteration': 890, '_timesteps_total': None, '_time_total': 47040.062027692795, '_episodes_total': 109963}\n"
     ]
    },
    {
     "name": "stdout",
     "output_type": "stream",
     "text": [
      "checkpoint-890\n"
     ]
    },
    {
     "name": "stderr",
     "output_type": "stream",
     "text": [
      "2022-10-24 17:01:47,349\tINFO trainable.py:588 -- Restored on 10.159.0.14 from checkpoint: /gpfsscratch/rech/imi/uzw47io/elias_expe/4_agents/cooperative/modified_reward/6_landmarks/naming_game_30msg/2022-10-23_13-36-480wh6sbwt/checkpoint_000900/checkpoint-900\n",
      "2022-10-24 17:01:47,350\tINFO trainable.py:597 -- Current state after restoring: {'_iteration': 900, '_timesteps_total': None, '_time_total': 47535.37647271156, '_episodes_total': 111214}\n"
     ]
    },
    {
     "name": "stdout",
     "output_type": "stream",
     "text": [
      "checkpoint-900\n"
     ]
    },
    {
     "name": "stderr",
     "output_type": "stream",
     "text": [
      "2022-10-24 17:01:47,713\tINFO trainable.py:588 -- Restored on 10.159.0.14 from checkpoint: /gpfsscratch/rech/imi/uzw47io/elias_expe/4_agents/cooperative/modified_reward/6_landmarks/naming_game_30msg/2022-10-23_13-36-480wh6sbwt/checkpoint_000910/checkpoint-910\n",
      "2022-10-24 17:01:47,714\tINFO trainable.py:597 -- Current state after restoring: {'_iteration': 910, '_timesteps_total': None, '_time_total': 48040.194423913956, '_episodes_total': 112465}\n"
     ]
    },
    {
     "name": "stdout",
     "output_type": "stream",
     "text": [
      "checkpoint-910\n"
     ]
    },
    {
     "name": "stderr",
     "output_type": "stream",
     "text": [
      "2022-10-24 17:01:48,024\tINFO trainable.py:588 -- Restored on 10.159.0.14 from checkpoint: /gpfsscratch/rech/imi/uzw47io/elias_expe/4_agents/cooperative/modified_reward/6_landmarks/naming_game_30msg/2022-10-23_13-36-480wh6sbwt/checkpoint_000920/checkpoint-920\n",
      "2022-10-24 17:01:48,025\tINFO trainable.py:597 -- Current state after restoring: {'_iteration': 920, '_timesteps_total': None, '_time_total': 48542.43450093269, '_episodes_total': 113702}\n"
     ]
    },
    {
     "name": "stdout",
     "output_type": "stream",
     "text": [
      "checkpoint-920\n"
     ]
    },
    {
     "name": "stderr",
     "output_type": "stream",
     "text": [
      "2022-10-24 17:01:48,386\tINFO trainable.py:588 -- Restored on 10.159.0.14 from checkpoint: /gpfsscratch/rech/imi/uzw47io/elias_expe/4_agents/cooperative/modified_reward/6_landmarks/naming_game_30msg/2022-10-23_13-36-480wh6sbwt/checkpoint_000930/checkpoint-930\n",
      "2022-10-24 17:01:48,387\tINFO trainable.py:597 -- Current state after restoring: {'_iteration': 930, '_timesteps_total': None, '_time_total': 49050.93221116066, '_episodes_total': 114955}\n"
     ]
    },
    {
     "name": "stdout",
     "output_type": "stream",
     "text": [
      "checkpoint-930\n"
     ]
    },
    {
     "name": "stderr",
     "output_type": "stream",
     "text": [
      "2022-10-24 17:01:48,742\tINFO trainable.py:588 -- Restored on 10.159.0.14 from checkpoint: /gpfsscratch/rech/imi/uzw47io/elias_expe/4_agents/cooperative/modified_reward/6_landmarks/naming_game_30msg/2022-10-23_13-36-480wh6sbwt/checkpoint_000940/checkpoint-940\n",
      "2022-10-24 17:01:48,743\tINFO trainable.py:597 -- Current state after restoring: {'_iteration': 940, '_timesteps_total': None, '_time_total': 49548.91114735603, '_episodes_total': 116186}\n"
     ]
    },
    {
     "name": "stdout",
     "output_type": "stream",
     "text": [
      "checkpoint-940\n"
     ]
    },
    {
     "name": "stderr",
     "output_type": "stream",
     "text": [
      "2022-10-24 17:01:49,093\tINFO trainable.py:588 -- Restored on 10.159.0.14 from checkpoint: /gpfsscratch/rech/imi/uzw47io/elias_expe/4_agents/cooperative/modified_reward/6_landmarks/naming_game_30msg/2022-10-23_13-36-480wh6sbwt/checkpoint_000950/checkpoint-950\n",
      "2022-10-24 17:01:49,094\tINFO trainable.py:597 -- Current state after restoring: {'_iteration': 950, '_timesteps_total': None, '_time_total': 50040.35582900047, '_episodes_total': 117442}\n"
     ]
    },
    {
     "name": "stdout",
     "output_type": "stream",
     "text": [
      "checkpoint-950\n"
     ]
    },
    {
     "name": "stderr",
     "output_type": "stream",
     "text": [
      "2022-10-24 17:01:49,471\tINFO trainable.py:588 -- Restored on 10.159.0.14 from checkpoint: /gpfsscratch/rech/imi/uzw47io/elias_expe/4_agents/cooperative/modified_reward/6_landmarks/naming_game_30msg/2022-10-23_13-36-480wh6sbwt/checkpoint_000960/checkpoint-960\n",
      "2022-10-24 17:01:49,473\tINFO trainable.py:597 -- Current state after restoring: {'_iteration': 960, '_timesteps_total': None, '_time_total': 50540.39477753639, '_episodes_total': 118695}\n"
     ]
    },
    {
     "name": "stdout",
     "output_type": "stream",
     "text": [
      "checkpoint-960\n"
     ]
    },
    {
     "name": "stderr",
     "output_type": "stream",
     "text": [
      "2022-10-24 17:01:49,827\tINFO trainable.py:588 -- Restored on 10.159.0.14 from checkpoint: /gpfsscratch/rech/imi/uzw47io/elias_expe/4_agents/cooperative/modified_reward/6_landmarks/naming_game_30msg/2022-10-23_13-36-480wh6sbwt/checkpoint_000970/checkpoint-970\n",
      "2022-10-24 17:01:49,828\tINFO trainable.py:597 -- Current state after restoring: {'_iteration': 970, '_timesteps_total': None, '_time_total': 51041.172718286514, '_episodes_total': 119942}\n"
     ]
    },
    {
     "name": "stdout",
     "output_type": "stream",
     "text": [
      "checkpoint-970\n"
     ]
    },
    {
     "name": "stderr",
     "output_type": "stream",
     "text": [
      "2022-10-24 17:01:50,174\tINFO trainable.py:588 -- Restored on 10.159.0.14 from checkpoint: /gpfsscratch/rech/imi/uzw47io/elias_expe/4_agents/cooperative/modified_reward/6_landmarks/naming_game_30msg/2022-10-23_13-36-480wh6sbwt/checkpoint_000980/checkpoint-980\n",
      "2022-10-24 17:01:50,175\tINFO trainable.py:597 -- Current state after restoring: {'_iteration': 980, '_timesteps_total': None, '_time_total': 51543.41252565384, '_episodes_total': 121205}\n"
     ]
    },
    {
     "name": "stdout",
     "output_type": "stream",
     "text": [
      "checkpoint-980\n"
     ]
    },
    {
     "name": "stderr",
     "output_type": "stream",
     "text": [
      "2022-10-24 17:01:50,554\tINFO trainable.py:588 -- Restored on 10.159.0.14 from checkpoint: /gpfsscratch/rech/imi/uzw47io/elias_expe/4_agents/cooperative/modified_reward/6_landmarks/naming_game_30msg/2022-10-23_13-36-480wh6sbwt/checkpoint_000990/checkpoint-990\n",
      "2022-10-24 17:01:50,554\tINFO trainable.py:597 -- Current state after restoring: {'_iteration': 990, '_timesteps_total': None, '_time_total': 52048.25040221214, '_episodes_total': 122455}\n"
     ]
    },
    {
     "name": "stdout",
     "output_type": "stream",
     "text": [
      "checkpoint-990\n"
     ]
    },
    {
     "name": "stderr",
     "output_type": "stream",
     "text": [
      "2022-10-24 17:01:50,920\tINFO trainable.py:588 -- Restored on 10.159.0.14 from checkpoint: /gpfsscratch/rech/imi/uzw47io/elias_expe/4_agents/cooperative/modified_reward/6_landmarks/naming_game_30msg/2022-10-23_13-36-480wh6sbwt/checkpoint_001000/checkpoint-1000\n",
      "2022-10-24 17:01:50,921\tINFO trainable.py:597 -- Current state after restoring: {'_iteration': 1000, '_timesteps_total': None, '_time_total': 52536.96619606018, '_episodes_total': 123737}\n"
     ]
    },
    {
     "name": "stdout",
     "output_type": "stream",
     "text": [
      "checkpoint-1000\n"
     ]
    },
    {
     "data": {
      "image/png": "[encoded data removed]",
      "text/plain": [
       "<Figure size 720x720 with 2 Axes>"
      ]
     },
     "metadata": {
      "needs_background": "light"
     },
     "output_type": "display_data"
    }
   ],
   "source": [
    "imgs = []\n",
    "for checkpoint_dir in sorted(os.listdir(checkpoints_dir)):\n",
    "    if os.path.isdir(os.path.join(checkpoints_dir, checkpoint_dir)):\n",
    "        checkpoint_file = sorted(\n",
    "            os.listdir(os.path.join(checkpoints_dir, checkpoint_dir))\n",
    "        )[1]\n",
    "        print(checkpoint_file)\n",
    "        trainer.restore(os.path.join(checkpoints_dir, checkpoint_dir, checkpoint_file))\n",
    "        agent_0 = trainer.get_policy(\"agent_0\").model\n",
    "        agent_1 = trainer.get_policy(\"agent_1\").model\n",
    "        with torch.no_grad():\n",
    "            agent_0_matrix = agent_0._matrix.numpy()\n",
    "            agent_1_matrix = agent_1._matrix.numpy()\n",
    "\n",
    "            # Generate images\n",
    "            for j, matrix in enumerate((agent_0_matrix, agent_1_matrix)):\n",
    "                if j == 0:\n",
    "                    fig = plt.figure(num=1, clear=True, figsize=(10, 10))\n",
    "                    ax = fig.add_subplot(121)\n",
    "                    ax.set_title(\"Agent 0\")\n",
    "                elif j == 1:\n",
    "                    ax = fig.add_subplot(122)\n",
    "                    ax.set_title(\"Agent 1\")\n",
    "                ax.matshow(matrix, cmap=plt.cm.Blues)\n",
    "                for x in range(nb_msg):\n",
    "                    for y in range(number_of_goals):\n",
    "                        c = matrix[y, x]\n",
    "                        #ax.text(x, y, str(round(c, 3)), va=\"center\", ha=\"center\")\n",
    "                if j == 1:\n",
    "                    plt.tight_layout()\n",
    "                    canvas = fig.figure.canvas\n",
    "                    canvas.draw()\n",
    "                    data = np.frombuffer(canvas.tostring_rgb(), dtype=np.uint8)\n",
    "                    img = data.reshape(canvas.get_width_height()[::-1] + (3,))\n",
    "                    imgs.append(img)\n",
    "                    "
   ]
  },
  {
   "cell_type": "code",
   "execution_count": 18,
   "metadata": {},
   "outputs": [
    {
     "name": "stderr",
     "output_type": "stream",
     "text": [
      "2022-10-24 17:05:40,366\tINFO trainable.py:588 -- Restored on 10.159.0.14 from checkpoint: /gpfsscratch/rech/imi/uzw47io/elias_expe/4_agents/cooperative/modified_reward/6_landmarks/naming_game_30msg/2022-10-23_13-36-480wh6sbwt/checkpoint_000010/checkpoint-10\n",
      "2022-10-24 17:05:40,368\tINFO trainable.py:597 -- Current state after restoring: {'_iteration': 10, '_timesteps_total': None, '_time_total': 581.4639339447021, '_episodes_total': 1200}\n"
     ]
    },
    {
     "name": "stdout",
     "output_type": "stream",
     "text": [
      "checkpoint-10\n"
     ]
    },
    {
     "name": "stderr",
     "output_type": "stream",
     "text": [
      "2022-10-24 17:05:40,892\tINFO trainable.py:588 -- Restored on 10.159.0.14 from checkpoint: /gpfsscratch/rech/imi/uzw47io/elias_expe/4_agents/cooperative/modified_reward/6_landmarks/naming_game_30msg/2022-10-23_13-36-480wh6sbwt/checkpoint_000020/checkpoint-20\n",
      "2022-10-24 17:05:40,895\tINFO trainable.py:597 -- Current state after restoring: {'_iteration': 20, '_timesteps_total': None, '_time_total': 1139.4355351924896, '_episodes_total': 2409}\n"
     ]
    },
    {
     "name": "stdout",
     "output_type": "stream",
     "text": [
      "checkpoint-20\n"
     ]
    },
    {
     "name": "stderr",
     "output_type": "stream",
     "text": [
      "2022-10-24 17:05:41,953\tINFO trainable.py:588 -- Restored on 10.159.0.14 from checkpoint: /gpfsscratch/rech/imi/uzw47io/elias_expe/4_agents/cooperative/modified_reward/6_landmarks/naming_game_30msg/2022-10-23_13-36-480wh6sbwt/checkpoint_000030/checkpoint-30\n",
      "2022-10-24 17:05:41,956\tINFO trainable.py:597 -- Current state after restoring: {'_iteration': 30, '_timesteps_total': None, '_time_total': 1697.838029384613, '_episodes_total': 3622}\n"
     ]
    },
    {
     "name": "stdout",
     "output_type": "stream",
     "text": [
      "checkpoint-30\n"
     ]
    },
    {
     "name": "stderr",
     "output_type": "stream",
     "text": [
      "2022-10-24 17:05:42,546\tINFO trainable.py:588 -- Restored on 10.159.0.14 from checkpoint: /gpfsscratch/rech/imi/uzw47io/elias_expe/4_agents/cooperative/modified_reward/6_landmarks/naming_game_30msg/2022-10-23_13-36-480wh6sbwt/checkpoint_000040/checkpoint-40\n",
      "2022-10-24 17:05:42,547\tINFO trainable.py:597 -- Current state after restoring: {'_iteration': 40, '_timesteps_total': None, '_time_total': 2251.175507068634, '_episodes_total': 4838}\n"
     ]
    },
    {
     "name": "stdout",
     "output_type": "stream",
     "text": [
      "checkpoint-40\n"
     ]
    },
    {
     "name": "stderr",
     "output_type": "stream",
     "text": [
      "2022-10-24 17:05:43,135\tINFO trainable.py:588 -- Restored on 10.159.0.14 from checkpoint: /gpfsscratch/rech/imi/uzw47io/elias_expe/4_agents/cooperative/modified_reward/6_landmarks/naming_game_30msg/2022-10-23_13-36-480wh6sbwt/checkpoint_000050/checkpoint-50\n",
      "2022-10-24 17:05:43,137\tINFO trainable.py:597 -- Current state after restoring: {'_iteration': 50, '_timesteps_total': None, '_time_total': 2848.602220773697, '_episodes_total': 6057}\n"
     ]
    },
    {
     "name": "stdout",
     "output_type": "stream",
     "text": [
      "checkpoint-50\n"
     ]
    },
    {
     "name": "stderr",
     "output_type": "stream",
     "text": [
      "2022-10-24 17:05:43,724\tINFO trainable.py:588 -- Restored on 10.159.0.14 from checkpoint: /gpfsscratch/rech/imi/uzw47io/elias_expe/4_agents/cooperative/modified_reward/6_landmarks/naming_game_30msg/2022-10-23_13-36-480wh6sbwt/checkpoint_000060/checkpoint-60\n",
      "2022-10-24 17:05:43,725\tINFO trainable.py:597 -- Current state after restoring: {'_iteration': 60, '_timesteps_total': None, '_time_total': 3406.588723897934, '_episodes_total': 7277}\n"
     ]
    },
    {
     "name": "stdout",
     "output_type": "stream",
     "text": [
      "checkpoint-60\n"
     ]
    },
    {
     "name": "stderr",
     "output_type": "stream",
     "text": [
      "2022-10-24 17:05:44,350\tINFO trainable.py:588 -- Restored on 10.159.0.14 from checkpoint: /gpfsscratch/rech/imi/uzw47io/elias_expe/4_agents/cooperative/modified_reward/6_landmarks/naming_game_30msg/2022-10-23_13-36-480wh6sbwt/checkpoint_000070/checkpoint-70\n",
      "2022-10-24 17:05:44,352\tINFO trainable.py:597 -- Current state after restoring: {'_iteration': 70, '_timesteps_total': None, '_time_total': 3961.975340127945, '_episodes_total': 8494}\n"
     ]
    },
    {
     "name": "stdout",
     "output_type": "stream",
     "text": [
      "checkpoint-70\n"
     ]
    },
    {
     "name": "stderr",
     "output_type": "stream",
     "text": [
      "2022-10-24 17:05:44,945\tINFO trainable.py:588 -- Restored on 10.159.0.14 from checkpoint: /gpfsscratch/rech/imi/uzw47io/elias_expe/4_agents/cooperative/modified_reward/6_landmarks/naming_game_30msg/2022-10-23_13-36-480wh6sbwt/checkpoint_000080/checkpoint-80\n",
      "2022-10-24 17:05:44,946\tINFO trainable.py:597 -- Current state after restoring: {'_iteration': 80, '_timesteps_total': None, '_time_total': 4516.012490987778, '_episodes_total': 9724}\n"
     ]
    },
    {
     "name": "stdout",
     "output_type": "stream",
     "text": [
      "checkpoint-80\n"
     ]
    },
    {
     "name": "stderr",
     "output_type": "stream",
     "text": [
      "2022-10-24 17:05:45,951\tINFO trainable.py:588 -- Restored on 10.159.0.14 from checkpoint: /gpfsscratch/rech/imi/uzw47io/elias_expe/4_agents/cooperative/modified_reward/6_landmarks/naming_game_30msg/2022-10-23_13-36-480wh6sbwt/checkpoint_000090/checkpoint-90\n",
      "2022-10-24 17:05:45,952\tINFO trainable.py:597 -- Current state after restoring: {'_iteration': 90, '_timesteps_total': None, '_time_total': 5107.631624221802, '_episodes_total': 10939}\n"
     ]
    },
    {
     "name": "stdout",
     "output_type": "stream",
     "text": [
      "checkpoint-90\n"
     ]
    },
    {
     "name": "stderr",
     "output_type": "stream",
     "text": [
      "2022-10-24 17:05:46,518\tINFO trainable.py:588 -- Restored on 10.159.0.14 from checkpoint: /gpfsscratch/rech/imi/uzw47io/elias_expe/4_agents/cooperative/modified_reward/6_landmarks/naming_game_30msg/2022-10-23_13-36-480wh6sbwt/checkpoint_000100/checkpoint-100\n",
      "2022-10-24 17:05:46,520\tINFO trainable.py:597 -- Current state after restoring: {'_iteration': 100, '_timesteps_total': None, '_time_total': 5647.112009048462, '_episodes_total': 12155}\n"
     ]
    },
    {
     "name": "stdout",
     "output_type": "stream",
     "text": [
      "checkpoint-100\n"
     ]
    },
    {
     "name": "stderr",
     "output_type": "stream",
     "text": [
      "2022-10-24 17:05:47,117\tINFO trainable.py:588 -- Restored on 10.159.0.14 from checkpoint: /gpfsscratch/rech/imi/uzw47io/elias_expe/4_agents/cooperative/modified_reward/6_landmarks/naming_game_30msg/2022-10-23_13-36-480wh6sbwt/checkpoint_000110/checkpoint-110\n",
      "2022-10-24 17:05:47,118\tINFO trainable.py:597 -- Current state after restoring: {'_iteration': 110, '_timesteps_total': None, '_time_total': 6184.17902135849, '_episodes_total': 13371}\n"
     ]
    },
    {
     "name": "stdout",
     "output_type": "stream",
     "text": [
      "checkpoint-110\n"
     ]
    },
    {
     "name": "stderr",
     "output_type": "stream",
     "text": [
      "2022-10-24 17:05:47,745\tINFO trainable.py:588 -- Restored on 10.159.0.14 from checkpoint: /gpfsscratch/rech/imi/uzw47io/elias_expe/4_agents/cooperative/modified_reward/6_landmarks/naming_game_30msg/2022-10-23_13-36-480wh6sbwt/checkpoint_000120/checkpoint-120\n",
      "2022-10-24 17:05:47,746\tINFO trainable.py:597 -- Current state after restoring: {'_iteration': 120, '_timesteps_total': None, '_time_total': 6729.678848743439, '_episodes_total': 14596}\n"
     ]
    },
    {
     "name": "stdout",
     "output_type": "stream",
     "text": [
      "checkpoint-120\n"
     ]
    },
    {
     "name": "stderr",
     "output_type": "stream",
     "text": [
      "2022-10-24 17:05:48,343\tINFO trainable.py:588 -- Restored on 10.159.0.14 from checkpoint: /gpfsscratch/rech/imi/uzw47io/elias_expe/4_agents/cooperative/modified_reward/6_landmarks/naming_game_30msg/2022-10-23_13-36-480wh6sbwt/checkpoint_000130/checkpoint-130\n",
      "2022-10-24 17:05:48,344\tINFO trainable.py:597 -- Current state after restoring: {'_iteration': 130, '_timesteps_total': None, '_time_total': 7310.545959472656, '_episodes_total': 15819}\n"
     ]
    },
    {
     "name": "stdout",
     "output_type": "stream",
     "text": [
      "checkpoint-130\n"
     ]
    },
    {
     "name": "stderr",
     "output_type": "stream",
     "text": [
      "2022-10-24 17:05:48,946\tINFO trainable.py:588 -- Restored on 10.159.0.14 from checkpoint: /gpfsscratch/rech/imi/uzw47io/elias_expe/4_agents/cooperative/modified_reward/6_landmarks/naming_game_30msg/2022-10-23_13-36-480wh6sbwt/checkpoint_000140/checkpoint-140\n",
      "2022-10-24 17:05:48,948\tINFO trainable.py:597 -- Current state after restoring: {'_iteration': 140, '_timesteps_total': None, '_time_total': 7845.742025136948, '_episodes_total': 17036}\n"
     ]
    },
    {
     "name": "stdout",
     "output_type": "stream",
     "text": [
      "checkpoint-140\n"
     ]
    },
    {
     "name": "stderr",
     "output_type": "stream",
     "text": [
      "2022-10-24 17:05:49,902\tINFO trainable.py:588 -- Restored on 10.159.0.14 from checkpoint: /gpfsscratch/rech/imi/uzw47io/elias_expe/4_agents/cooperative/modified_reward/6_landmarks/naming_game_30msg/2022-10-23_13-36-480wh6sbwt/checkpoint_000150/checkpoint-150\n",
      "2022-10-24 17:05:49,904\tINFO trainable.py:597 -- Current state after restoring: {'_iteration': 150, '_timesteps_total': None, '_time_total': 8385.412364959717, '_episodes_total': 18263}\n"
     ]
    },
    {
     "name": "stdout",
     "output_type": "stream",
     "text": [
      "checkpoint-150\n"
     ]
    },
    {
     "name": "stderr",
     "output_type": "stream",
     "text": [
      "2022-10-24 17:05:50,518\tINFO trainable.py:588 -- Restored on 10.159.0.14 from checkpoint: /gpfsscratch/rech/imi/uzw47io/elias_expe/4_agents/cooperative/modified_reward/6_landmarks/naming_game_30msg/2022-10-23_13-36-480wh6sbwt/checkpoint_000160/checkpoint-160\n",
      "2022-10-24 17:05:50,519\tINFO trainable.py:597 -- Current state after restoring: {'_iteration': 160, '_timesteps_total': None, '_time_total': 8926.947878360748, '_episodes_total': 19484}\n"
     ]
    },
    {
     "name": "stdout",
     "output_type": "stream",
     "text": [
      "checkpoint-160\n"
     ]
    },
    {
     "name": "stderr",
     "output_type": "stream",
     "text": [
      "2022-10-24 17:05:51,079\tINFO trainable.py:588 -- Restored on 10.159.0.14 from checkpoint: /gpfsscratch/rech/imi/uzw47io/elias_expe/4_agents/cooperative/modified_reward/6_landmarks/naming_game_30msg/2022-10-23_13-36-480wh6sbwt/checkpoint_000170/checkpoint-170\n",
      "2022-10-24 17:05:51,084\tINFO trainable.py:597 -- Current state after restoring: {'_iteration': 170, '_timesteps_total': None, '_time_total': 9459.973507165909, '_episodes_total': 20707}\n"
     ]
    },
    {
     "name": "stdout",
     "output_type": "stream",
     "text": [
      "checkpoint-170\n"
     ]
    },
    {
     "name": "stderr",
     "output_type": "stream",
     "text": [
      "2022-10-24 17:05:51,674\tINFO trainable.py:588 -- Restored on 10.159.0.14 from checkpoint: /gpfsscratch/rech/imi/uzw47io/elias_expe/4_agents/cooperative/modified_reward/6_landmarks/naming_game_30msg/2022-10-23_13-36-480wh6sbwt/checkpoint_000180/checkpoint-180\n",
      "2022-10-24 17:05:51,677\tINFO trainable.py:597 -- Current state after restoring: {'_iteration': 180, '_timesteps_total': None, '_time_total': 10039.521221876144, '_episodes_total': 21927}\n"
     ]
    },
    {
     "name": "stdout",
     "output_type": "stream",
     "text": [
      "checkpoint-180\n"
     ]
    },
    {
     "name": "stderr",
     "output_type": "stream",
     "text": [
      "2022-10-24 17:05:52,277\tINFO trainable.py:588 -- Restored on 10.159.0.14 from checkpoint: /gpfsscratch/rech/imi/uzw47io/elias_expe/4_agents/cooperative/modified_reward/6_landmarks/naming_game_30msg/2022-10-23_13-36-480wh6sbwt/checkpoint_000190/checkpoint-190\n",
      "2022-10-24 17:05:52,279\tINFO trainable.py:597 -- Current state after restoring: {'_iteration': 190, '_timesteps_total': None, '_time_total': 10576.542331933975, '_episodes_total': 23163}\n"
     ]
    },
    {
     "name": "stdout",
     "output_type": "stream",
     "text": [
      "checkpoint-190\n"
     ]
    },
    {
     "name": "stderr",
     "output_type": "stream",
     "text": [
      "2022-10-24 17:05:52,872\tINFO trainable.py:588 -- Restored on 10.159.0.14 from checkpoint: /gpfsscratch/rech/imi/uzw47io/elias_expe/4_agents/cooperative/modified_reward/6_landmarks/naming_game_30msg/2022-10-23_13-36-480wh6sbwt/checkpoint_000200/checkpoint-200\n",
      "2022-10-24 17:05:52,873\tINFO trainable.py:597 -- Current state after restoring: {'_iteration': 200, '_timesteps_total': None, '_time_total': 11115.74560713768, '_episodes_total': 24394}\n"
     ]
    },
    {
     "name": "stdout",
     "output_type": "stream",
     "text": [
      "checkpoint-200\n"
     ]
    },
    {
     "name": "stderr",
     "output_type": "stream",
     "text": [
      "2022-10-24 17:05:53,891\tINFO trainable.py:588 -- Restored on 10.159.0.14 from checkpoint: /gpfsscratch/rech/imi/uzw47io/elias_expe/4_agents/cooperative/modified_reward/6_landmarks/naming_game_30msg/2022-10-23_13-36-480wh6sbwt/checkpoint_000210/checkpoint-210\n",
      "2022-10-24 17:05:53,892\tINFO trainable.py:597 -- Current state after restoring: {'_iteration': 210, '_timesteps_total': None, '_time_total': 11659.657379627228, '_episodes_total': 25630}\n"
     ]
    },
    {
     "name": "stdout",
     "output_type": "stream",
     "text": [
      "checkpoint-210\n"
     ]
    },
    {
     "name": "stderr",
     "output_type": "stream",
     "text": [
      "2022-10-24 17:05:54,539\tINFO trainable.py:588 -- Restored on 10.159.0.14 from checkpoint: /gpfsscratch/rech/imi/uzw47io/elias_expe/4_agents/cooperative/modified_reward/6_landmarks/naming_game_30msg/2022-10-23_13-36-480wh6sbwt/checkpoint_000220/checkpoint-220\n",
      "2022-10-24 17:05:54,540\tINFO trainable.py:597 -- Current state after restoring: {'_iteration': 220, '_timesteps_total': None, '_time_total': 12190.370515108109, '_episodes_total': 26863}\n"
     ]
    },
    {
     "name": "stdout",
     "output_type": "stream",
     "text": [
      "checkpoint-220\n"
     ]
    },
    {
     "name": "stderr",
     "output_type": "stream",
     "text": [
      "2022-10-24 17:05:55,168\tINFO trainable.py:588 -- Restored on 10.159.0.14 from checkpoint: /gpfsscratch/rech/imi/uzw47io/elias_expe/4_agents/cooperative/modified_reward/6_landmarks/naming_game_30msg/2022-10-23_13-36-480wh6sbwt/checkpoint_000230/checkpoint-230\n",
      "2022-10-24 17:05:55,170\tINFO trainable.py:597 -- Current state after restoring: {'_iteration': 230, '_timesteps_total': None, '_time_total': 12719.767742156982, '_episodes_total': 28095}\n"
     ]
    },
    {
     "name": "stdout",
     "output_type": "stream",
     "text": [
      "checkpoint-230\n"
     ]
    },
    {
     "name": "stderr",
     "output_type": "stream",
     "text": [
      "2022-10-24 17:05:55,777\tINFO trainable.py:588 -- Restored on 10.159.0.14 from checkpoint: /gpfsscratch/rech/imi/uzw47io/elias_expe/4_agents/cooperative/modified_reward/6_landmarks/naming_game_30msg/2022-10-23_13-36-480wh6sbwt/checkpoint_000240/checkpoint-240\n",
      "2022-10-24 17:05:55,778\tINFO trainable.py:597 -- Current state after restoring: {'_iteration': 240, '_timesteps_total': None, '_time_total': 13246.49124789238, '_episodes_total': 29330}\n"
     ]
    },
    {
     "name": "stdout",
     "output_type": "stream",
     "text": [
      "checkpoint-240\n"
     ]
    },
    {
     "name": "stderr",
     "output_type": "stream",
     "text": [
      "2022-10-24 17:05:56,389\tINFO trainable.py:588 -- Restored on 10.159.0.14 from checkpoint: /gpfsscratch/rech/imi/uzw47io/elias_expe/4_agents/cooperative/modified_reward/6_landmarks/naming_game_30msg/2022-10-23_13-36-480wh6sbwt/checkpoint_000250/checkpoint-250\n",
      "2022-10-24 17:05:56,391\tINFO trainable.py:597 -- Current state after restoring: {'_iteration': 250, '_timesteps_total': None, '_time_total': 13779.606154203415, '_episodes_total': 30560}\n"
     ]
    },
    {
     "name": "stdout",
     "output_type": "stream",
     "text": [
      "checkpoint-250\n"
     ]
    },
    {
     "name": "stderr",
     "output_type": "stream",
     "text": [
      "2022-10-24 17:05:56,955\tINFO trainable.py:588 -- Restored on 10.159.0.14 from checkpoint: /gpfsscratch/rech/imi/uzw47io/elias_expe/4_agents/cooperative/modified_reward/6_landmarks/naming_game_30msg/2022-10-23_13-36-480wh6sbwt/checkpoint_000260/checkpoint-260\n",
      "2022-10-24 17:05:56,957\tINFO trainable.py:597 -- Current state after restoring: {'_iteration': 260, '_timesteps_total': None, '_time_total': 14311.878504276276, '_episodes_total': 31779}\n"
     ]
    },
    {
     "name": "stdout",
     "output_type": "stream",
     "text": [
      "checkpoint-260\n"
     ]
    },
    {
     "name": "stderr",
     "output_type": "stream",
     "text": [
      "2022-10-24 17:05:57,959\tINFO trainable.py:588 -- Restored on 10.159.0.14 from checkpoint: /gpfsscratch/rech/imi/uzw47io/elias_expe/4_agents/cooperative/modified_reward/6_landmarks/naming_game_30msg/2022-10-23_13-36-480wh6sbwt/checkpoint_000270/checkpoint-270\n",
      "2022-10-24 17:05:57,960\tINFO trainable.py:597 -- Current state after restoring: {'_iteration': 270, '_timesteps_total': None, '_time_total': 14841.782404184341, '_episodes_total': 33003}\n"
     ]
    },
    {
     "name": "stdout",
     "output_type": "stream",
     "text": [
      "checkpoint-270\n"
     ]
    },
    {
     "name": "stderr",
     "output_type": "stream",
     "text": [
      "2022-10-24 17:05:58,608\tINFO trainable.py:588 -- Restored on 10.159.0.14 from checkpoint: /gpfsscratch/rech/imi/uzw47io/elias_expe/4_agents/cooperative/modified_reward/6_landmarks/naming_game_30msg/2022-10-23_13-36-480wh6sbwt/checkpoint_000280/checkpoint-280\n",
      "2022-10-24 17:05:58,609\tINFO trainable.py:597 -- Current state after restoring: {'_iteration': 280, '_timesteps_total': None, '_time_total': 15373.934208393097, '_episodes_total': 34238}\n"
     ]
    },
    {
     "name": "stdout",
     "output_type": "stream",
     "text": [
      "checkpoint-280\n"
     ]
    },
    {
     "name": "stderr",
     "output_type": "stream",
     "text": [
      "2022-10-24 17:05:59,219\tINFO trainable.py:588 -- Restored on 10.159.0.14 from checkpoint: /gpfsscratch/rech/imi/uzw47io/elias_expe/4_agents/cooperative/modified_reward/6_landmarks/naming_game_30msg/2022-10-23_13-36-480wh6sbwt/checkpoint_000290/checkpoint-290\n",
      "2022-10-24 17:05:59,222\tINFO trainable.py:597 -- Current state after restoring: {'_iteration': 290, '_timesteps_total': None, '_time_total': 15905.84736609459, '_episodes_total': 35460}\n"
     ]
    },
    {
     "name": "stdout",
     "output_type": "stream",
     "text": [
      "checkpoint-290\n"
     ]
    },
    {
     "name": "stderr",
     "output_type": "stream",
     "text": [
      "2022-10-24 17:05:59,834\tINFO trainable.py:588 -- Restored on 10.159.0.14 from checkpoint: /gpfsscratch/rech/imi/uzw47io/elias_expe/4_agents/cooperative/modified_reward/6_landmarks/naming_game_30msg/2022-10-23_13-36-480wh6sbwt/checkpoint_000300/checkpoint-300\n",
      "2022-10-24 17:05:59,835\tINFO trainable.py:597 -- Current state after restoring: {'_iteration': 300, '_timesteps_total': None, '_time_total': 16434.486479759216, '_episodes_total': 36684}\n"
     ]
    },
    {
     "name": "stdout",
     "output_type": "stream",
     "text": [
      "checkpoint-300\n"
     ]
    },
    {
     "name": "stderr",
     "output_type": "stream",
     "text": [
      "2022-10-24 17:06:00,410\tINFO trainable.py:588 -- Restored on 10.159.0.14 from checkpoint: /gpfsscratch/rech/imi/uzw47io/elias_expe/4_agents/cooperative/modified_reward/6_landmarks/naming_game_30msg/2022-10-23_13-36-480wh6sbwt/checkpoint_000310/checkpoint-310\n",
      "2022-10-24 17:06:00,412\tINFO trainable.py:597 -- Current state after restoring: {'_iteration': 310, '_timesteps_total': None, '_time_total': 16973.167477607727, '_episodes_total': 37906}\n"
     ]
    },
    {
     "name": "stdout",
     "output_type": "stream",
     "text": [
      "checkpoint-310\n"
     ]
    },
    {
     "name": "stderr",
     "output_type": "stream",
     "text": [
      "2022-10-24 17:06:00,974\tINFO trainable.py:588 -- Restored on 10.159.0.14 from checkpoint: /gpfsscratch/rech/imi/uzw47io/elias_expe/4_agents/cooperative/modified_reward/6_landmarks/naming_game_30msg/2022-10-23_13-36-480wh6sbwt/checkpoint_000320/checkpoint-320\n",
      "2022-10-24 17:06:00,976\tINFO trainable.py:597 -- Current state after restoring: {'_iteration': 320, '_timesteps_total': None, '_time_total': 17509.17410159111, '_episodes_total': 39127}\n"
     ]
    },
    {
     "name": "stdout",
     "output_type": "stream",
     "text": [
      "checkpoint-320\n"
     ]
    },
    {
     "name": "stderr",
     "output_type": "stream",
     "text": [
      "2022-10-24 17:06:01,989\tINFO trainable.py:588 -- Restored on 10.159.0.14 from checkpoint: /gpfsscratch/rech/imi/uzw47io/elias_expe/4_agents/cooperative/modified_reward/6_landmarks/naming_game_30msg/2022-10-23_13-36-480wh6sbwt/checkpoint_000330/checkpoint-330\n",
      "2022-10-24 17:06:01,991\tINFO trainable.py:597 -- Current state after restoring: {'_iteration': 330, '_timesteps_total': None, '_time_total': 18038.394006490707, '_episodes_total': 40343}\n"
     ]
    },
    {
     "name": "stdout",
     "output_type": "stream",
     "text": [
      "checkpoint-330\n"
     ]
    },
    {
     "name": "stderr",
     "output_type": "stream",
     "text": [
      "2022-10-24 17:06:02,617\tINFO trainable.py:588 -- Restored on 10.159.0.14 from checkpoint: /gpfsscratch/rech/imi/uzw47io/elias_expe/4_agents/cooperative/modified_reward/6_landmarks/naming_game_30msg/2022-10-23_13-36-480wh6sbwt/checkpoint_000340/checkpoint-340\n",
      "2022-10-24 17:06:02,618\tINFO trainable.py:597 -- Current state after restoring: {'_iteration': 340, '_timesteps_total': None, '_time_total': 18576.646748542786, '_episodes_total': 41578}\n"
     ]
    },
    {
     "name": "stdout",
     "output_type": "stream",
     "text": [
      "checkpoint-340\n"
     ]
    },
    {
     "name": "stderr",
     "output_type": "stream",
     "text": [
      "2022-10-24 17:06:03,249\tINFO trainable.py:588 -- Restored on 10.159.0.14 from checkpoint: /gpfsscratch/rech/imi/uzw47io/elias_expe/4_agents/cooperative/modified_reward/6_landmarks/naming_game_30msg/2022-10-23_13-36-480wh6sbwt/checkpoint_000350/checkpoint-350\n",
      "2022-10-24 17:06:03,250\tINFO trainable.py:597 -- Current state after restoring: {'_iteration': 350, '_timesteps_total': None, '_time_total': 19101.515020132065, '_episodes_total': 42806}\n"
     ]
    },
    {
     "name": "stdout",
     "output_type": "stream",
     "text": [
      "checkpoint-350\n"
     ]
    },
    {
     "name": "stderr",
     "output_type": "stream",
     "text": [
      "2022-10-24 17:06:03,892\tINFO trainable.py:588 -- Restored on 10.159.0.14 from checkpoint: /gpfsscratch/rech/imi/uzw47io/elias_expe/4_agents/cooperative/modified_reward/6_landmarks/naming_game_30msg/2022-10-23_13-36-480wh6sbwt/checkpoint_000360/checkpoint-360\n",
      "2022-10-24 17:06:03,893\tINFO trainable.py:597 -- Current state after restoring: {'_iteration': 360, '_timesteps_total': None, '_time_total': 19633.903243780136, '_episodes_total': 44044}\n"
     ]
    },
    {
     "name": "stdout",
     "output_type": "stream",
     "text": [
      "checkpoint-360\n"
     ]
    },
    {
     "name": "stderr",
     "output_type": "stream",
     "text": [
      "2022-10-24 17:06:04,497\tINFO trainable.py:588 -- Restored on 10.159.0.14 from checkpoint: /gpfsscratch/rech/imi/uzw47io/elias_expe/4_agents/cooperative/modified_reward/6_landmarks/naming_game_30msg/2022-10-23_13-36-480wh6sbwt/checkpoint_000370/checkpoint-370\n",
      "2022-10-24 17:06:04,499\tINFO trainable.py:597 -- Current state after restoring: {'_iteration': 370, '_timesteps_total': None, '_time_total': 20159.668039560318, '_episodes_total': 45281}\n"
     ]
    },
    {
     "name": "stdout",
     "output_type": "stream",
     "text": [
      "checkpoint-370\n"
     ]
    },
    {
     "name": "stderr",
     "output_type": "stream",
     "text": [
      "2022-10-24 17:06:05,133\tINFO trainable.py:588 -- Restored on 10.159.0.14 from checkpoint: /gpfsscratch/rech/imi/uzw47io/elias_expe/4_agents/cooperative/modified_reward/6_landmarks/naming_game_30msg/2022-10-23_13-36-480wh6sbwt/checkpoint_000380/checkpoint-380\n",
      "2022-10-24 17:06:05,134\tINFO trainable.py:597 -- Current state after restoring: {'_iteration': 380, '_timesteps_total': None, '_time_total': 20682.10476255417, '_episodes_total': 46514}\n"
     ]
    },
    {
     "name": "stdout",
     "output_type": "stream",
     "text": [
      "checkpoint-380\n"
     ]
    },
    {
     "name": "stderr",
     "output_type": "stream",
     "text": [
      "2022-10-24 17:06:05,831\tINFO trainable.py:588 -- Restored on 10.159.0.14 from checkpoint: /gpfsscratch/rech/imi/uzw47io/elias_expe/4_agents/cooperative/modified_reward/6_landmarks/naming_game_30msg/2022-10-23_13-36-480wh6sbwt/checkpoint_000390/checkpoint-390\n",
      "2022-10-24 17:06:05,833\tINFO trainable.py:597 -- Current state after restoring: {'_iteration': 390, '_timesteps_total': None, '_time_total': 21205.753875494003, '_episodes_total': 47749}\n"
     ]
    },
    {
     "name": "stdout",
     "output_type": "stream",
     "text": [
      "checkpoint-390\n"
     ]
    },
    {
     "name": "stderr",
     "output_type": "stream",
     "text": [
      "2022-10-24 17:06:06,421\tINFO trainable.py:588 -- Restored on 10.159.0.14 from checkpoint: /gpfsscratch/rech/imi/uzw47io/elias_expe/4_agents/cooperative/modified_reward/6_landmarks/naming_game_30msg/2022-10-23_13-36-480wh6sbwt/checkpoint_000400/checkpoint-400\n",
      "2022-10-24 17:06:06,422\tINFO trainable.py:597 -- Current state after restoring: {'_iteration': 400, '_timesteps_total': None, '_time_total': 21740.786610126495, '_episodes_total': 48989}\n"
     ]
    },
    {
     "name": "stdout",
     "output_type": "stream",
     "text": [
      "checkpoint-400\n"
     ]
    },
    {
     "name": "stderr",
     "output_type": "stream",
     "text": [
      "2022-10-24 17:06:07,034\tINFO trainable.py:588 -- Restored on 10.159.0.14 from checkpoint: /gpfsscratch/rech/imi/uzw47io/elias_expe/4_agents/cooperative/modified_reward/6_landmarks/naming_game_30msg/2022-10-23_13-36-480wh6sbwt/checkpoint_000410/checkpoint-410\n",
      "2022-10-24 17:06:07,036\tINFO trainable.py:597 -- Current state after restoring: {'_iteration': 410, '_timesteps_total': None, '_time_total': 22281.23215985298, '_episodes_total': 50222}\n"
     ]
    },
    {
     "name": "stdout",
     "output_type": "stream",
     "text": [
      "checkpoint-410\n"
     ]
    },
    {
     "name": "stderr",
     "output_type": "stream",
     "text": [
      "2022-10-24 17:06:07,674\tINFO trainable.py:588 -- Restored on 10.159.0.14 from checkpoint: /gpfsscratch/rech/imi/uzw47io/elias_expe/4_agents/cooperative/modified_reward/6_landmarks/naming_game_30msg/2022-10-23_13-36-480wh6sbwt/checkpoint_000420/checkpoint-420\n",
      "2022-10-24 17:06:07,676\tINFO trainable.py:597 -- Current state after restoring: {'_iteration': 420, '_timesteps_total': None, '_time_total': 22817.145298719406, '_episodes_total': 51455}\n"
     ]
    },
    {
     "name": "stdout",
     "output_type": "stream",
     "text": [
      "checkpoint-420\n"
     ]
    },
    {
     "name": "stderr",
     "output_type": "stream",
     "text": [
      "2022-10-24 17:06:08,266\tINFO trainable.py:588 -- Restored on 10.159.0.14 from checkpoint: /gpfsscratch/rech/imi/uzw47io/elias_expe/4_agents/cooperative/modified_reward/6_landmarks/naming_game_30msg/2022-10-23_13-36-480wh6sbwt/checkpoint_000430/checkpoint-430\n",
      "2022-10-24 17:06:08,270\tINFO trainable.py:597 -- Current state after restoring: {'_iteration': 430, '_timesteps_total': None, '_time_total': 23346.744125127792, '_episodes_total': 52696}\n"
     ]
    },
    {
     "name": "stdout",
     "output_type": "stream",
     "text": [
      "checkpoint-430\n"
     ]
    },
    {
     "name": "stderr",
     "output_type": "stream",
     "text": [
      "2022-10-24 17:06:08,888\tINFO trainable.py:588 -- Restored on 10.159.0.14 from checkpoint: /gpfsscratch/rech/imi/uzw47io/elias_expe/4_agents/cooperative/modified_reward/6_landmarks/naming_game_30msg/2022-10-23_13-36-480wh6sbwt/checkpoint_000440/checkpoint-440\n",
      "2022-10-24 17:06:08,888\tINFO trainable.py:597 -- Current state after restoring: {'_iteration': 440, '_timesteps_total': None, '_time_total': 23875.50099015236, '_episodes_total': 53932}\n"
     ]
    },
    {
     "name": "stdout",
     "output_type": "stream",
     "text": [
      "checkpoint-440\n"
     ]
    },
    {
     "name": "stderr",
     "output_type": "stream",
     "text": [
      "2022-10-24 17:06:09,814\tINFO trainable.py:588 -- Restored on 10.159.0.14 from checkpoint: /gpfsscratch/rech/imi/uzw47io/elias_expe/4_agents/cooperative/modified_reward/6_landmarks/naming_game_30msg/2022-10-23_13-36-480wh6sbwt/checkpoint_000450/checkpoint-450\n",
      "2022-10-24 17:06:09,815\tINFO trainable.py:597 -- Current state after restoring: {'_iteration': 450, '_timesteps_total': None, '_time_total': 24397.835186243057, '_episodes_total': 55165}\n"
     ]
    },
    {
     "name": "stdout",
     "output_type": "stream",
     "text": [
      "checkpoint-450\n"
     ]
    },
    {
     "name": "stderr",
     "output_type": "stream",
     "text": [
      "2022-10-24 17:06:10,387\tINFO trainable.py:588 -- Restored on 10.159.0.14 from checkpoint: /gpfsscratch/rech/imi/uzw47io/elias_expe/4_agents/cooperative/modified_reward/6_landmarks/naming_game_30msg/2022-10-23_13-36-480wh6sbwt/checkpoint_000460/checkpoint-460\n",
      "2022-10-24 17:06:10,389\tINFO trainable.py:597 -- Current state after restoring: {'_iteration': 460, '_timesteps_total': None, '_time_total': 24933.40274810791, '_episodes_total': 56401}\n"
     ]
    },
    {
     "name": "stdout",
     "output_type": "stream",
     "text": [
      "checkpoint-460\n"
     ]
    },
    {
     "name": "stderr",
     "output_type": "stream",
     "text": [
      "2022-10-24 17:06:11,017\tINFO trainable.py:588 -- Restored on 10.159.0.14 from checkpoint: /gpfsscratch/rech/imi/uzw47io/elias_expe/4_agents/cooperative/modified_reward/6_landmarks/naming_game_30msg/2022-10-23_13-36-480wh6sbwt/checkpoint_000470/checkpoint-470\n",
      "2022-10-24 17:06:11,019\tINFO trainable.py:597 -- Current state after restoring: {'_iteration': 470, '_timesteps_total': None, '_time_total': 25463.581179142, '_episodes_total': 57640}\n"
     ]
    },
    {
     "name": "stdout",
     "output_type": "stream",
     "text": [
      "checkpoint-470\n"
     ]
    },
    {
     "name": "stderr",
     "output_type": "stream",
     "text": [
      "2022-10-24 17:06:11,624\tINFO trainable.py:588 -- Restored on 10.159.0.14 from checkpoint: /gpfsscratch/rech/imi/uzw47io/elias_expe/4_agents/cooperative/modified_reward/6_landmarks/naming_game_30msg/2022-10-23_13-36-480wh6sbwt/checkpoint_000480/checkpoint-480\n",
      "2022-10-24 17:06:11,625\tINFO trainable.py:597 -- Current state after restoring: {'_iteration': 480, '_timesteps_total': None, '_time_total': 25987.277344703674, '_episodes_total': 58858}\n"
     ]
    },
    {
     "name": "stdout",
     "output_type": "stream",
     "text": [
      "checkpoint-480\n"
     ]
    },
    {
     "name": "stderr",
     "output_type": "stream",
     "text": [
      "2022-10-24 17:06:12,234\tINFO trainable.py:588 -- Restored on 10.159.0.14 from checkpoint: /gpfsscratch/rech/imi/uzw47io/elias_expe/4_agents/cooperative/modified_reward/6_landmarks/naming_game_30msg/2022-10-23_13-36-480wh6sbwt/checkpoint_000490/checkpoint-490\n",
      "2022-10-24 17:06:12,235\tINFO trainable.py:597 -- Current state after restoring: {'_iteration': 490, '_timesteps_total': None, '_time_total': 26508.43882417679, '_episodes_total': 60110}\n"
     ]
    },
    {
     "name": "stdout",
     "output_type": "stream",
     "text": [
      "checkpoint-490\n"
     ]
    },
    {
     "name": "stderr",
     "output_type": "stream",
     "text": [
      "2022-10-24 17:06:12,813\tINFO trainable.py:588 -- Restored on 10.159.0.14 from checkpoint: /gpfsscratch/rech/imi/uzw47io/elias_expe/4_agents/cooperative/modified_reward/6_landmarks/naming_game_30msg/2022-10-23_13-36-480wh6sbwt/checkpoint_000500/checkpoint-500\n",
      "2022-10-24 17:06:12,815\tINFO trainable.py:597 -- Current state after restoring: {'_iteration': 500, '_timesteps_total': None, '_time_total': 27033.152046442032, '_episodes_total': 61343}\n"
     ]
    },
    {
     "name": "stdout",
     "output_type": "stream",
     "text": [
      "checkpoint-500\n"
     ]
    },
    {
     "name": "stderr",
     "output_type": "stream",
     "text": [
      "2022-10-24 17:06:13,862\tINFO trainable.py:588 -- Restored on 10.159.0.14 from checkpoint: /gpfsscratch/rech/imi/uzw47io/elias_expe/4_agents/cooperative/modified_reward/6_landmarks/naming_game_30msg/2022-10-23_13-36-480wh6sbwt/checkpoint_000510/checkpoint-510\n",
      "2022-10-24 17:06:13,863\tINFO trainable.py:597 -- Current state after restoring: {'_iteration': 510, '_timesteps_total': None, '_time_total': 27547.870509386063, '_episodes_total': 62573}\n"
     ]
    },
    {
     "name": "stdout",
     "output_type": "stream",
     "text": [
      "checkpoint-510\n"
     ]
    },
    {
     "name": "stderr",
     "output_type": "stream",
     "text": [
      "2022-10-24 17:06:14,511\tINFO trainable.py:588 -- Restored on 10.159.0.14 from checkpoint: /gpfsscratch/rech/imi/uzw47io/elias_expe/4_agents/cooperative/modified_reward/6_landmarks/naming_game_30msg/2022-10-23_13-36-480wh6sbwt/checkpoint_000520/checkpoint-520\n",
      "2022-10-24 17:06:14,513\tINFO trainable.py:597 -- Current state after restoring: {'_iteration': 520, '_timesteps_total': None, '_time_total': 28091.57023882866, '_episodes_total': 63828}\n"
     ]
    },
    {
     "name": "stdout",
     "output_type": "stream",
     "text": [
      "checkpoint-520\n"
     ]
    },
    {
     "name": "stderr",
     "output_type": "stream",
     "text": [
      "2022-10-24 17:06:15,151\tINFO trainable.py:588 -- Restored on 10.159.0.14 from checkpoint: /gpfsscratch/rech/imi/uzw47io/elias_expe/4_agents/cooperative/modified_reward/6_landmarks/naming_game_30msg/2022-10-23_13-36-480wh6sbwt/checkpoint_000530/checkpoint-530\n",
      "2022-10-24 17:06:15,152\tINFO trainable.py:597 -- Current state after restoring: {'_iteration': 530, '_timesteps_total': None, '_time_total': 28603.911620140076, '_episodes_total': 65057}\n"
     ]
    },
    {
     "name": "stdout",
     "output_type": "stream",
     "text": [
      "checkpoint-530\n"
     ]
    },
    {
     "name": "stderr",
     "output_type": "stream",
     "text": [
      "2022-10-24 17:06:15,747\tINFO trainable.py:588 -- Restored on 10.159.0.14 from checkpoint: /gpfsscratch/rech/imi/uzw47io/elias_expe/4_agents/cooperative/modified_reward/6_landmarks/naming_game_30msg/2022-10-23_13-36-480wh6sbwt/checkpoint_000540/checkpoint-540\n",
      "2022-10-24 17:06:15,749\tINFO trainable.py:597 -- Current state after restoring: {'_iteration': 540, '_timesteps_total': None, '_time_total': 29132.66295671463, '_episodes_total': 66298}\n"
     ]
    },
    {
     "name": "stdout",
     "output_type": "stream",
     "text": [
      "checkpoint-540\n"
     ]
    },
    {
     "name": "stderr",
     "output_type": "stream",
     "text": [
      "2022-10-24 17:06:16,396\tINFO trainable.py:588 -- Restored on 10.159.0.14 from checkpoint: /gpfsscratch/rech/imi/uzw47io/elias_expe/4_agents/cooperative/modified_reward/6_landmarks/naming_game_30msg/2022-10-23_13-36-480wh6sbwt/checkpoint_000550/checkpoint-550\n",
      "2022-10-24 17:06:16,397\tINFO trainable.py:597 -- Current state after restoring: {'_iteration': 550, '_timesteps_total': None, '_time_total': 29654.81418299675, '_episodes_total': 67525}\n"
     ]
    },
    {
     "name": "stdout",
     "output_type": "stream",
     "text": [
      "checkpoint-550\n"
     ]
    },
    {
     "name": "stderr",
     "output_type": "stream",
     "text": [
      "2022-10-24 17:06:17,006\tINFO trainable.py:588 -- Restored on 10.159.0.14 from checkpoint: /gpfsscratch/rech/imi/uzw47io/elias_expe/4_agents/cooperative/modified_reward/6_landmarks/naming_game_30msg/2022-10-23_13-36-480wh6sbwt/checkpoint_000560/checkpoint-560\n",
      "2022-10-24 17:06:17,007\tINFO trainable.py:597 -- Current state after restoring: {'_iteration': 560, '_timesteps_total': None, '_time_total': 30172.565808534622, '_episodes_total': 68747}\n"
     ]
    },
    {
     "name": "stdout",
     "output_type": "stream",
     "text": [
      "checkpoint-560\n"
     ]
    },
    {
     "name": "stderr",
     "output_type": "stream",
     "text": [
      "2022-10-24 17:06:18,008\tINFO trainable.py:588 -- Restored on 10.159.0.14 from checkpoint: /gpfsscratch/rech/imi/uzw47io/elias_expe/4_agents/cooperative/modified_reward/6_landmarks/naming_game_30msg/2022-10-23_13-36-480wh6sbwt/checkpoint_000570/checkpoint-570\n",
      "2022-10-24 17:06:18,010\tINFO trainable.py:597 -- Current state after restoring: {'_iteration': 570, '_timesteps_total': None, '_time_total': 30737.04300045967, '_episodes_total': 69987}\n"
     ]
    },
    {
     "name": "stdout",
     "output_type": "stream",
     "text": [
      "checkpoint-570\n"
     ]
    },
    {
     "name": "stderr",
     "output_type": "stream",
     "text": [
      "2022-10-24 17:06:18,620\tINFO trainable.py:588 -- Restored on 10.159.0.14 from checkpoint: /gpfsscratch/rech/imi/uzw47io/elias_expe/4_agents/cooperative/modified_reward/6_landmarks/naming_game_30msg/2022-10-23_13-36-480wh6sbwt/checkpoint_000580/checkpoint-580\n",
      "2022-10-24 17:06:18,621\tINFO trainable.py:597 -- Current state after restoring: {'_iteration': 580, '_timesteps_total': None, '_time_total': 31259.65331673622, '_episodes_total': 71234}\n"
     ]
    },
    {
     "name": "stdout",
     "output_type": "stream",
     "text": [
      "checkpoint-580\n"
     ]
    },
    {
     "name": "stderr",
     "output_type": "stream",
     "text": [
      "2022-10-24 17:06:19,253\tINFO trainable.py:588 -- Restored on 10.159.0.14 from checkpoint: /gpfsscratch/rech/imi/uzw47io/elias_expe/4_agents/cooperative/modified_reward/6_landmarks/naming_game_30msg/2022-10-23_13-36-480wh6sbwt/checkpoint_000590/checkpoint-590\n",
      "2022-10-24 17:06:19,255\tINFO trainable.py:597 -- Current state after restoring: {'_iteration': 590, '_timesteps_total': None, '_time_total': 31791.073875665665, '_episodes_total': 72487}\n"
     ]
    },
    {
     "name": "stdout",
     "output_type": "stream",
     "text": [
      "checkpoint-590\n"
     ]
    },
    {
     "name": "stderr",
     "output_type": "stream",
     "text": [
      "2022-10-24 17:06:19,878\tINFO trainable.py:588 -- Restored on 10.159.0.14 from checkpoint: /gpfsscratch/rech/imi/uzw47io/elias_expe/4_agents/cooperative/modified_reward/6_landmarks/naming_game_30msg/2022-10-23_13-36-480wh6sbwt/checkpoint_000600/checkpoint-600\n",
      "2022-10-24 17:06:19,879\tINFO trainable.py:597 -- Current state after restoring: {'_iteration': 600, '_timesteps_total': None, '_time_total': 32326.51610684395, '_episodes_total': 73740}\n"
     ]
    },
    {
     "name": "stdout",
     "output_type": "stream",
     "text": [
      "checkpoint-600\n"
     ]
    },
    {
     "name": "stderr",
     "output_type": "stream",
     "text": [
      "2022-10-24 17:06:20,480\tINFO trainable.py:588 -- Restored on 10.159.0.14 from checkpoint: /gpfsscratch/rech/imi/uzw47io/elias_expe/4_agents/cooperative/modified_reward/6_landmarks/naming_game_30msg/2022-10-23_13-36-480wh6sbwt/checkpoint_000610/checkpoint-610\n",
      "2022-10-24 17:06:20,481\tINFO trainable.py:597 -- Current state after restoring: {'_iteration': 610, '_timesteps_total': None, '_time_total': 32844.945220947266, '_episodes_total': 74983}\n"
     ]
    },
    {
     "name": "stdout",
     "output_type": "stream",
     "text": [
      "checkpoint-610\n"
     ]
    },
    {
     "name": "stderr",
     "output_type": "stream",
     "text": [
      "2022-10-24 17:06:21,047\tINFO trainable.py:588 -- Restored on 10.159.0.14 from checkpoint: /gpfsscratch/rech/imi/uzw47io/elias_expe/4_agents/cooperative/modified_reward/6_landmarks/naming_game_30msg/2022-10-23_13-36-480wh6sbwt/checkpoint_000620/checkpoint-620\n",
      "2022-10-24 17:06:21,050\tINFO trainable.py:597 -- Current state after restoring: {'_iteration': 620, '_timesteps_total': None, '_time_total': 33360.24616217613, '_episodes_total': 76246}\n"
     ]
    },
    {
     "name": "stdout",
     "output_type": "stream",
     "text": [
      "checkpoint-620\n"
     ]
    },
    {
     "name": "stderr",
     "output_type": "stream",
     "text": [
      "2022-10-24 17:06:21,989\tINFO trainable.py:588 -- Restored on 10.159.0.14 from checkpoint: /gpfsscratch/rech/imi/uzw47io/elias_expe/4_agents/cooperative/modified_reward/6_landmarks/naming_game_30msg/2022-10-23_13-36-480wh6sbwt/checkpoint_000630/checkpoint-630\n",
      "2022-10-24 17:06:21,990\tINFO trainable.py:597 -- Current state after restoring: {'_iteration': 630, '_timesteps_total': None, '_time_total': 33868.55232453346, '_episodes_total': 77482}\n"
     ]
    },
    {
     "name": "stdout",
     "output_type": "stream",
     "text": [
      "checkpoint-630\n"
     ]
    },
    {
     "name": "stderr",
     "output_type": "stream",
     "text": [
      "2022-10-24 17:06:22,533\tINFO trainable.py:588 -- Restored on 10.159.0.14 from checkpoint: /gpfsscratch/rech/imi/uzw47io/elias_expe/4_agents/cooperative/modified_reward/6_landmarks/naming_game_30msg/2022-10-23_13-36-480wh6sbwt/checkpoint_000640/checkpoint-640\n",
      "2022-10-24 17:06:22,537\tINFO trainable.py:597 -- Current state after restoring: {'_iteration': 640, '_timesteps_total': None, '_time_total': 34380.77482128143, '_episodes_total': 78715}\n"
     ]
    },
    {
     "name": "stdout",
     "output_type": "stream",
     "text": [
      "checkpoint-640\n"
     ]
    },
    {
     "name": "stderr",
     "output_type": "stream",
     "text": [
      "2022-10-24 17:06:23,134\tINFO trainable.py:588 -- Restored on 10.159.0.14 from checkpoint: /gpfsscratch/rech/imi/uzw47io/elias_expe/4_agents/cooperative/modified_reward/6_landmarks/naming_game_30msg/2022-10-23_13-36-480wh6sbwt/checkpoint_000650/checkpoint-650\n",
      "2022-10-24 17:06:23,135\tINFO trainable.py:597 -- Current state after restoring: {'_iteration': 650, '_timesteps_total': None, '_time_total': 34892.57383322716, '_episodes_total': 79960}\n"
     ]
    },
    {
     "name": "stdout",
     "output_type": "stream",
     "text": [
      "checkpoint-650\n"
     ]
    },
    {
     "name": "stderr",
     "output_type": "stream",
     "text": [
      "2022-10-24 17:06:23,767\tINFO trainable.py:588 -- Restored on 10.159.0.14 from checkpoint: /gpfsscratch/rech/imi/uzw47io/elias_expe/4_agents/cooperative/modified_reward/6_landmarks/naming_game_30msg/2022-10-23_13-36-480wh6sbwt/checkpoint_000660/checkpoint-660\n",
      "2022-10-24 17:06:23,768\tINFO trainable.py:597 -- Current state after restoring: {'_iteration': 660, '_timesteps_total': None, '_time_total': 35403.42414164543, '_episodes_total': 81201}\n"
     ]
    },
    {
     "name": "stdout",
     "output_type": "stream",
     "text": [
      "checkpoint-660\n"
     ]
    },
    {
     "name": "stderr",
     "output_type": "stream",
     "text": [
      "2022-10-24 17:06:24,381\tINFO trainable.py:588 -- Restored on 10.159.0.14 from checkpoint: /gpfsscratch/rech/imi/uzw47io/elias_expe/4_agents/cooperative/modified_reward/6_landmarks/naming_game_30msg/2022-10-23_13-36-480wh6sbwt/checkpoint_000670/checkpoint-670\n",
      "2022-10-24 17:06:24,382\tINFO trainable.py:597 -- Current state after restoring: {'_iteration': 670, '_timesteps_total': None, '_time_total': 35929.88591146469, '_episodes_total': 82457}\n"
     ]
    },
    {
     "name": "stdout",
     "output_type": "stream",
     "text": [
      "checkpoint-670\n"
     ]
    },
    {
     "name": "stderr",
     "output_type": "stream",
     "text": [
      "2022-10-24 17:06:24,930\tINFO trainable.py:588 -- Restored on 10.159.0.14 from checkpoint: /gpfsscratch/rech/imi/uzw47io/elias_expe/4_agents/cooperative/modified_reward/6_landmarks/naming_game_30msg/2022-10-23_13-36-480wh6sbwt/checkpoint_000680/checkpoint-680\n",
      "2022-10-24 17:06:24,932\tINFO trainable.py:597 -- Current state after restoring: {'_iteration': 680, '_timesteps_total': None, '_time_total': 36433.87432169914, '_episodes_total': 83703}\n"
     ]
    },
    {
     "name": "stdout",
     "output_type": "stream",
     "text": [
      "checkpoint-680\n"
     ]
    },
    {
     "name": "stderr",
     "output_type": "stream",
     "text": [
      "2022-10-24 17:06:25,815\tINFO trainable.py:588 -- Restored on 10.159.0.14 from checkpoint: /gpfsscratch/rech/imi/uzw47io/elias_expe/4_agents/cooperative/modified_reward/6_landmarks/naming_game_30msg/2022-10-23_13-36-480wh6sbwt/checkpoint_000690/checkpoint-690\n",
      "2022-10-24 17:06:25,816\tINFO trainable.py:597 -- Current state after restoring: {'_iteration': 690, '_timesteps_total': None, '_time_total': 36942.34767866135, '_episodes_total': 84946}\n"
     ]
    },
    {
     "name": "stdout",
     "output_type": "stream",
     "text": [
      "checkpoint-690\n"
     ]
    },
    {
     "name": "stderr",
     "output_type": "stream",
     "text": [
      "2022-10-24 17:06:26,434\tINFO trainable.py:588 -- Restored on 10.159.0.14 from checkpoint: /gpfsscratch/rech/imi/uzw47io/elias_expe/4_agents/cooperative/modified_reward/6_landmarks/naming_game_30msg/2022-10-23_13-36-480wh6sbwt/checkpoint_000700/checkpoint-700\n",
      "2022-10-24 17:06:26,435\tINFO trainable.py:597 -- Current state after restoring: {'_iteration': 700, '_timesteps_total': None, '_time_total': 37455.97346615791, '_episodes_total': 86203}\n"
     ]
    },
    {
     "name": "stdout",
     "output_type": "stream",
     "text": [
      "checkpoint-700\n"
     ]
    },
    {
     "name": "stderr",
     "output_type": "stream",
     "text": [
      "2022-10-24 17:06:27,033\tINFO trainable.py:588 -- Restored on 10.159.0.14 from checkpoint: /gpfsscratch/rech/imi/uzw47io/elias_expe/4_agents/cooperative/modified_reward/6_landmarks/naming_game_30msg/2022-10-23_13-36-480wh6sbwt/checkpoint_000710/checkpoint-710\n",
      "2022-10-24 17:06:27,036\tINFO trainable.py:597 -- Current state after restoring: {'_iteration': 710, '_timesteps_total': None, '_time_total': 37957.30130624771, '_episodes_total': 87447}\n"
     ]
    },
    {
     "name": "stdout",
     "output_type": "stream",
     "text": [
      "checkpoint-710\n"
     ]
    },
    {
     "name": "stderr",
     "output_type": "stream",
     "text": [
      "2022-10-24 17:06:27,650\tINFO trainable.py:588 -- Restored on 10.159.0.14 from checkpoint: /gpfsscratch/rech/imi/uzw47io/elias_expe/4_agents/cooperative/modified_reward/6_landmarks/naming_game_30msg/2022-10-23_13-36-480wh6sbwt/checkpoint_000720/checkpoint-720\n",
      "2022-10-24 17:06:27,651\tINFO trainable.py:597 -- Current state after restoring: {'_iteration': 720, '_timesteps_total': None, '_time_total': 38469.88358139992, '_episodes_total': 88683}\n"
     ]
    },
    {
     "name": "stdout",
     "output_type": "stream",
     "text": [
      "checkpoint-720\n"
     ]
    },
    {
     "name": "stderr",
     "output_type": "stream",
     "text": [
      "2022-10-24 17:06:28,184\tINFO trainable.py:588 -- Restored on 10.159.0.14 from checkpoint: /gpfsscratch/rech/imi/uzw47io/elias_expe/4_agents/cooperative/modified_reward/6_landmarks/naming_game_30msg/2022-10-23_13-36-480wh6sbwt/checkpoint_000730/checkpoint-730\n",
      "2022-10-24 17:06:28,185\tINFO trainable.py:597 -- Current state after restoring: {'_iteration': 730, '_timesteps_total': None, '_time_total': 38975.43799138069, '_episodes_total': 89924}\n"
     ]
    },
    {
     "name": "stdout",
     "output_type": "stream",
     "text": [
      "checkpoint-730\n"
     ]
    },
    {
     "name": "stderr",
     "output_type": "stream",
     "text": [
      "2022-10-24 17:06:28,784\tINFO trainable.py:588 -- Restored on 10.159.0.14 from checkpoint: /gpfsscratch/rech/imi/uzw47io/elias_expe/4_agents/cooperative/modified_reward/6_landmarks/naming_game_30msg/2022-10-23_13-36-480wh6sbwt/checkpoint_000740/checkpoint-740\n",
      "2022-10-24 17:06:28,785\tINFO trainable.py:597 -- Current state after restoring: {'_iteration': 740, '_timesteps_total': None, '_time_total': 39485.52091240883, '_episodes_total': 91187}\n"
     ]
    },
    {
     "name": "stdout",
     "output_type": "stream",
     "text": [
      "checkpoint-740\n"
     ]
    },
    {
     "name": "stderr",
     "output_type": "stream",
     "text": [
      "2022-10-24 17:06:29,733\tINFO trainable.py:588 -- Restored on 10.159.0.14 from checkpoint: /gpfsscratch/rech/imi/uzw47io/elias_expe/4_agents/cooperative/modified_reward/6_landmarks/naming_game_30msg/2022-10-23_13-36-480wh6sbwt/checkpoint_000750/checkpoint-750\n",
      "2022-10-24 17:06:29,735\tINFO trainable.py:597 -- Current state after restoring: {'_iteration': 750, '_timesteps_total': None, '_time_total': 39999.24658489227, '_episodes_total': 92429}\n"
     ]
    },
    {
     "name": "stdout",
     "output_type": "stream",
     "text": [
      "checkpoint-750\n"
     ]
    },
    {
     "name": "stderr",
     "output_type": "stream",
     "text": [
      "2022-10-24 17:06:30,344\tINFO trainable.py:588 -- Restored on 10.159.0.14 from checkpoint: /gpfsscratch/rech/imi/uzw47io/elias_expe/4_agents/cooperative/modified_reward/6_landmarks/naming_game_30msg/2022-10-23_13-36-480wh6sbwt/checkpoint_000760/checkpoint-760\n",
      "2022-10-24 17:06:30,345\tINFO trainable.py:597 -- Current state after restoring: {'_iteration': 760, '_timesteps_total': None, '_time_total': 40508.12497186661, '_episodes_total': 93712}\n"
     ]
    },
    {
     "name": "stdout",
     "output_type": "stream",
     "text": [
      "checkpoint-760\n"
     ]
    },
    {
     "name": "stderr",
     "output_type": "stream",
     "text": [
      "2022-10-24 17:06:30,920\tINFO trainable.py:588 -- Restored on 10.159.0.14 from checkpoint: /gpfsscratch/rech/imi/uzw47io/elias_expe/4_agents/cooperative/modified_reward/6_landmarks/naming_game_30msg/2022-10-23_13-36-480wh6sbwt/checkpoint_000770/checkpoint-770\n",
      "2022-10-24 17:06:30,922\tINFO trainable.py:597 -- Current state after restoring: {'_iteration': 770, '_timesteps_total': None, '_time_total': 41014.24797320366, '_episodes_total': 94956}\n"
     ]
    },
    {
     "name": "stdout",
     "output_type": "stream",
     "text": [
      "checkpoint-770\n"
     ]
    },
    {
     "name": "stderr",
     "output_type": "stream",
     "text": [
      "2022-10-24 17:06:31,471\tINFO trainable.py:588 -- Restored on 10.159.0.14 from checkpoint: /gpfsscratch/rech/imi/uzw47io/elias_expe/4_agents/cooperative/modified_reward/6_landmarks/naming_game_30msg/2022-10-23_13-36-480wh6sbwt/checkpoint_000780/checkpoint-780\n",
      "2022-10-24 17:06:31,472\tINFO trainable.py:597 -- Current state after restoring: {'_iteration': 780, '_timesteps_total': None, '_time_total': 41517.6982524395, '_episodes_total': 96224}\n"
     ]
    },
    {
     "name": "stdout",
     "output_type": "stream",
     "text": [
      "checkpoint-780\n"
     ]
    },
    {
     "name": "stderr",
     "output_type": "stream",
     "text": [
      "2022-10-24 17:06:32,066\tINFO trainable.py:588 -- Restored on 10.159.0.14 from checkpoint: /gpfsscratch/rech/imi/uzw47io/elias_expe/4_agents/cooperative/modified_reward/6_landmarks/naming_game_30msg/2022-10-23_13-36-480wh6sbwt/checkpoint_000790/checkpoint-790\n",
      "2022-10-24 17:06:32,067\tINFO trainable.py:597 -- Current state after restoring: {'_iteration': 790, '_timesteps_total': None, '_time_total': 42027.9639005661, '_episodes_total': 97507}\n"
     ]
    },
    {
     "name": "stdout",
     "output_type": "stream",
     "text": [
      "checkpoint-790\n"
     ]
    },
    {
     "name": "stderr",
     "output_type": "stream",
     "text": [
      "2022-10-24 17:06:32,645\tINFO trainable.py:588 -- Restored on 10.159.0.14 from checkpoint: /gpfsscratch/rech/imi/uzw47io/elias_expe/4_agents/cooperative/modified_reward/6_landmarks/naming_game_30msg/2022-10-23_13-36-480wh6sbwt/checkpoint_000800/checkpoint-800\n",
      "2022-10-24 17:06:32,646\tINFO trainable.py:597 -- Current state after restoring: {'_iteration': 800, '_timesteps_total': None, '_time_total': 42527.68366909027, '_episodes_total': 98748}\n"
     ]
    },
    {
     "name": "stdout",
     "output_type": "stream",
     "text": [
      "checkpoint-800\n"
     ]
    },
    {
     "name": "stderr",
     "output_type": "stream",
     "text": [
      "2022-10-24 17:06:33,591\tINFO trainable.py:588 -- Restored on 10.159.0.14 from checkpoint: /gpfsscratch/rech/imi/uzw47io/elias_expe/4_agents/cooperative/modified_reward/6_landmarks/naming_game_30msg/2022-10-23_13-36-480wh6sbwt/checkpoint_000810/checkpoint-810\n",
      "2022-10-24 17:06:33,592\tINFO trainable.py:597 -- Current state after restoring: {'_iteration': 810, '_timesteps_total': None, '_time_total': 43030.413056612015, '_episodes_total': 99991}\n"
     ]
    },
    {
     "name": "stdout",
     "output_type": "stream",
     "text": [
      "checkpoint-810\n"
     ]
    },
    {
     "name": "stderr",
     "output_type": "stream",
     "text": [
      "2022-10-24 17:06:34,145\tINFO trainable.py:588 -- Restored on 10.159.0.14 from checkpoint: /gpfsscratch/rech/imi/uzw47io/elias_expe/4_agents/cooperative/modified_reward/6_landmarks/naming_game_30msg/2022-10-23_13-36-480wh6sbwt/checkpoint_000820/checkpoint-820\n",
      "2022-10-24 17:06:34,147\tINFO trainable.py:597 -- Current state after restoring: {'_iteration': 820, '_timesteps_total': None, '_time_total': 43533.04277777672, '_episodes_total': 101230}\n"
     ]
    },
    {
     "name": "stdout",
     "output_type": "stream",
     "text": [
      "checkpoint-820\n"
     ]
    },
    {
     "name": "stderr",
     "output_type": "stream",
     "text": [
      "2022-10-24 17:06:34,731\tINFO trainable.py:588 -- Restored on 10.159.0.14 from checkpoint: /gpfsscratch/rech/imi/uzw47io/elias_expe/4_agents/cooperative/modified_reward/6_landmarks/naming_game_30msg/2022-10-23_13-36-480wh6sbwt/checkpoint_000830/checkpoint-830\n",
      "2022-10-24 17:06:34,733\tINFO trainable.py:597 -- Current state after restoring: {'_iteration': 830, '_timesteps_total': None, '_time_total': 44042.17241382599, '_episodes_total': 102471}\n"
     ]
    },
    {
     "name": "stdout",
     "output_type": "stream",
     "text": [
      "checkpoint-830\n"
     ]
    },
    {
     "name": "stderr",
     "output_type": "stream",
     "text": [
      "2022-10-24 17:06:35,314\tINFO trainable.py:588 -- Restored on 10.159.0.14 from checkpoint: /gpfsscratch/rech/imi/uzw47io/elias_expe/4_agents/cooperative/modified_reward/6_landmarks/naming_game_30msg/2022-10-23_13-36-480wh6sbwt/checkpoint_000840/checkpoint-840\n",
      "2022-10-24 17:06:35,315\tINFO trainable.py:597 -- Current state after restoring: {'_iteration': 840, '_timesteps_total': None, '_time_total': 44540.50792455673, '_episodes_total': 103720}\n"
     ]
    },
    {
     "name": "stdout",
     "output_type": "stream",
     "text": [
      "checkpoint-840\n"
     ]
    },
    {
     "name": "stderr",
     "output_type": "stream",
     "text": [
      "2022-10-24 17:06:35,906\tINFO trainable.py:588 -- Restored on 10.159.0.14 from checkpoint: /gpfsscratch/rech/imi/uzw47io/elias_expe/4_agents/cooperative/modified_reward/6_landmarks/naming_game_30msg/2022-10-23_13-36-480wh6sbwt/checkpoint_000850/checkpoint-850\n",
      "2022-10-24 17:06:35,907\tINFO trainable.py:597 -- Current state after restoring: {'_iteration': 850, '_timesteps_total': None, '_time_total': 45044.68501496315, '_episodes_total': 104971}\n"
     ]
    },
    {
     "name": "stdout",
     "output_type": "stream",
     "text": [
      "checkpoint-850\n"
     ]
    },
    {
     "name": "stderr",
     "output_type": "stream",
     "text": [
      "2022-10-24 17:06:36,516\tINFO trainable.py:588 -- Restored on 10.159.0.14 from checkpoint: /gpfsscratch/rech/imi/uzw47io/elias_expe/4_agents/cooperative/modified_reward/6_landmarks/naming_game_30msg/2022-10-23_13-36-480wh6sbwt/checkpoint_000860/checkpoint-860\n",
      "2022-10-24 17:06:36,517\tINFO trainable.py:597 -- Current state after restoring: {'_iteration': 860, '_timesteps_total': None, '_time_total': 45542.81378173828, '_episodes_total': 106218}\n"
     ]
    },
    {
     "name": "stdout",
     "output_type": "stream",
     "text": [
      "checkpoint-860\n"
     ]
    },
    {
     "name": "stderr",
     "output_type": "stream",
     "text": [
      "2022-10-24 17:06:37,364\tINFO trainable.py:588 -- Restored on 10.159.0.14 from checkpoint: /gpfsscratch/rech/imi/uzw47io/elias_expe/4_agents/cooperative/modified_reward/6_landmarks/naming_game_30msg/2022-10-23_13-36-480wh6sbwt/checkpoint_000870/checkpoint-870\n",
      "2022-10-24 17:06:37,366\tINFO trainable.py:597 -- Current state after restoring: {'_iteration': 870, '_timesteps_total': None, '_time_total': 46035.45520687103, '_episodes_total': 107482}\n"
     ]
    },
    {
     "name": "stdout",
     "output_type": "stream",
     "text": [
      "checkpoint-870\n"
     ]
    },
    {
     "name": "stderr",
     "output_type": "stream",
     "text": [
      "2022-10-24 17:06:37,971\tINFO trainable.py:588 -- Restored on 10.159.0.14 from checkpoint: /gpfsscratch/rech/imi/uzw47io/elias_expe/4_agents/cooperative/modified_reward/6_landmarks/naming_game_30msg/2022-10-23_13-36-480wh6sbwt/checkpoint_000880/checkpoint-880\n",
      "2022-10-24 17:06:37,972\tINFO trainable.py:597 -- Current state after restoring: {'_iteration': 880, '_timesteps_total': None, '_time_total': 46542.29817152023, '_episodes_total': 108733}\n"
     ]
    },
    {
     "name": "stdout",
     "output_type": "stream",
     "text": [
      "checkpoint-880\n"
     ]
    },
    {
     "name": "stderr",
     "output_type": "stream",
     "text": [
      "2022-10-24 17:06:38,568\tINFO trainable.py:588 -- Restored on 10.159.0.14 from checkpoint: /gpfsscratch/rech/imi/uzw47io/elias_expe/4_agents/cooperative/modified_reward/6_landmarks/naming_game_30msg/2022-10-23_13-36-480wh6sbwt/checkpoint_000890/checkpoint-890\n",
      "2022-10-24 17:06:38,569\tINFO trainable.py:597 -- Current state after restoring: {'_iteration': 890, '_timesteps_total': None, '_time_total': 47040.062027692795, '_episodes_total': 109963}\n"
     ]
    },
    {
     "name": "stdout",
     "output_type": "stream",
     "text": [
      "checkpoint-890\n"
     ]
    },
    {
     "name": "stderr",
     "output_type": "stream",
     "text": [
      "2022-10-24 17:06:39,158\tINFO trainable.py:588 -- Restored on 10.159.0.14 from checkpoint: /gpfsscratch/rech/imi/uzw47io/elias_expe/4_agents/cooperative/modified_reward/6_landmarks/naming_game_30msg/2022-10-23_13-36-480wh6sbwt/checkpoint_000900/checkpoint-900\n",
      "2022-10-24 17:06:39,160\tINFO trainable.py:597 -- Current state after restoring: {'_iteration': 900, '_timesteps_total': None, '_time_total': 47535.37647271156, '_episodes_total': 111214}\n"
     ]
    },
    {
     "name": "stdout",
     "output_type": "stream",
     "text": [
      "checkpoint-900\n"
     ]
    },
    {
     "name": "stderr",
     "output_type": "stream",
     "text": [
      "2022-10-24 17:06:39,723\tINFO trainable.py:588 -- Restored on 10.159.0.14 from checkpoint: /gpfsscratch/rech/imi/uzw47io/elias_expe/4_agents/cooperative/modified_reward/6_landmarks/naming_game_30msg/2022-10-23_13-36-480wh6sbwt/checkpoint_000910/checkpoint-910\n",
      "2022-10-24 17:06:39,725\tINFO trainable.py:597 -- Current state after restoring: {'_iteration': 910, '_timesteps_total': None, '_time_total': 48040.194423913956, '_episodes_total': 112465}\n"
     ]
    },
    {
     "name": "stdout",
     "output_type": "stream",
     "text": [
      "checkpoint-910\n"
     ]
    },
    {
     "name": "stderr",
     "output_type": "stream",
     "text": [
      "2022-10-24 17:06:40,670\tINFO trainable.py:588 -- Restored on 10.159.0.14 from checkpoint: /gpfsscratch/rech/imi/uzw47io/elias_expe/4_agents/cooperative/modified_reward/6_landmarks/naming_game_30msg/2022-10-23_13-36-480wh6sbwt/checkpoint_000920/checkpoint-920\n",
      "2022-10-24 17:06:40,673\tINFO trainable.py:597 -- Current state after restoring: {'_iteration': 920, '_timesteps_total': None, '_time_total': 48542.43450093269, '_episodes_total': 113702}\n"
     ]
    },
    {
     "name": "stdout",
     "output_type": "stream",
     "text": [
      "checkpoint-920\n"
     ]
    },
    {
     "name": "stderr",
     "output_type": "stream",
     "text": [
      "2022-10-24 17:06:41,280\tINFO trainable.py:588 -- Restored on 10.159.0.14 from checkpoint: /gpfsscratch/rech/imi/uzw47io/elias_expe/4_agents/cooperative/modified_reward/6_landmarks/naming_game_30msg/2022-10-23_13-36-480wh6sbwt/checkpoint_000930/checkpoint-930\n",
      "2022-10-24 17:06:41,281\tINFO trainable.py:597 -- Current state after restoring: {'_iteration': 930, '_timesteps_total': None, '_time_total': 49050.93221116066, '_episodes_total': 114955}\n"
     ]
    },
    {
     "name": "stdout",
     "output_type": "stream",
     "text": [
      "checkpoint-930\n"
     ]
    },
    {
     "name": "stderr",
     "output_type": "stream",
     "text": [
      "2022-10-24 17:06:41,856\tINFO trainable.py:588 -- Restored on 10.159.0.14 from checkpoint: /gpfsscratch/rech/imi/uzw47io/elias_expe/4_agents/cooperative/modified_reward/6_landmarks/naming_game_30msg/2022-10-23_13-36-480wh6sbwt/checkpoint_000940/checkpoint-940\n",
      "2022-10-24 17:06:41,857\tINFO trainable.py:597 -- Current state after restoring: {'_iteration': 940, '_timesteps_total': None, '_time_total': 49548.91114735603, '_episodes_total': 116186}\n"
     ]
    },
    {
     "name": "stdout",
     "output_type": "stream",
     "text": [
      "checkpoint-940\n"
     ]
    },
    {
     "name": "stderr",
     "output_type": "stream",
     "text": [
      "2022-10-24 17:06:42,391\tINFO trainable.py:588 -- Restored on 10.159.0.14 from checkpoint: /gpfsscratch/rech/imi/uzw47io/elias_expe/4_agents/cooperative/modified_reward/6_landmarks/naming_game_30msg/2022-10-23_13-36-480wh6sbwt/checkpoint_000950/checkpoint-950\n",
      "2022-10-24 17:06:42,392\tINFO trainable.py:597 -- Current state after restoring: {'_iteration': 950, '_timesteps_total': None, '_time_total': 50040.35582900047, '_episodes_total': 117442}\n"
     ]
    },
    {
     "name": "stdout",
     "output_type": "stream",
     "text": [
      "checkpoint-950\n"
     ]
    },
    {
     "name": "stderr",
     "output_type": "stream",
     "text": [
      "2022-10-24 17:06:42,805\tINFO trainable.py:588 -- Restored on 10.159.0.14 from checkpoint: /gpfsscratch/rech/imi/uzw47io/elias_expe/4_agents/cooperative/modified_reward/6_landmarks/naming_game_30msg/2022-10-23_13-36-480wh6sbwt/checkpoint_000960/checkpoint-960\n",
      "2022-10-24 17:06:42,806\tINFO trainable.py:597 -- Current state after restoring: {'_iteration': 960, '_timesteps_total': None, '_time_total': 50540.39477753639, '_episodes_total': 118695}\n"
     ]
    },
    {
     "name": "stdout",
     "output_type": "stream",
     "text": [
      "checkpoint-960\n"
     ]
    },
    {
     "name": "stderr",
     "output_type": "stream",
     "text": [
      "2022-10-24 17:06:43,372\tINFO trainable.py:588 -- Restored on 10.159.0.14 from checkpoint: /gpfsscratch/rech/imi/uzw47io/elias_expe/4_agents/cooperative/modified_reward/6_landmarks/naming_game_30msg/2022-10-23_13-36-480wh6sbwt/checkpoint_000970/checkpoint-970\n",
      "2022-10-24 17:06:43,374\tINFO trainable.py:597 -- Current state after restoring: {'_iteration': 970, '_timesteps_total': None, '_time_total': 51041.172718286514, '_episodes_total': 119942}\n"
     ]
    },
    {
     "name": "stdout",
     "output_type": "stream",
     "text": [
      "checkpoint-970\n"
     ]
    },
    {
     "name": "stderr",
     "output_type": "stream",
     "text": [
      "2022-10-24 17:06:44,350\tINFO trainable.py:588 -- Restored on 10.159.0.14 from checkpoint: /gpfsscratch/rech/imi/uzw47io/elias_expe/4_agents/cooperative/modified_reward/6_landmarks/naming_game_30msg/2022-10-23_13-36-480wh6sbwt/checkpoint_000980/checkpoint-980\n",
      "2022-10-24 17:06:44,350\tINFO trainable.py:597 -- Current state after restoring: {'_iteration': 980, '_timesteps_total': None, '_time_total': 51543.41252565384, '_episodes_total': 121205}\n"
     ]
    },
    {
     "name": "stdout",
     "output_type": "stream",
     "text": [
      "checkpoint-980\n"
     ]
    },
    {
     "name": "stderr",
     "output_type": "stream",
     "text": [
      "2022-10-24 17:06:44,972\tINFO trainable.py:588 -- Restored on 10.159.0.14 from checkpoint: /gpfsscratch/rech/imi/uzw47io/elias_expe/4_agents/cooperative/modified_reward/6_landmarks/naming_game_30msg/2022-10-23_13-36-480wh6sbwt/checkpoint_000990/checkpoint-990\n",
      "2022-10-24 17:06:44,974\tINFO trainable.py:597 -- Current state after restoring: {'_iteration': 990, '_timesteps_total': None, '_time_total': 52048.25040221214, '_episodes_total': 122455}\n"
     ]
    },
    {
     "name": "stdout",
     "output_type": "stream",
     "text": [
      "checkpoint-990\n"
     ]
    },
    {
     "name": "stderr",
     "output_type": "stream",
     "text": [
      "2022-10-24 17:06:45,569\tINFO trainable.py:588 -- Restored on 10.159.0.14 from checkpoint: /gpfsscratch/rech/imi/uzw47io/elias_expe/4_agents/cooperative/modified_reward/6_landmarks/naming_game_30msg/2022-10-23_13-36-480wh6sbwt/checkpoint_001000/checkpoint-1000\n",
      "2022-10-24 17:06:45,571\tINFO trainable.py:597 -- Current state after restoring: {'_iteration': 1000, '_timesteps_total': None, '_time_total': 52536.96619606018, '_episodes_total': 123737}\n"
     ]
    },
    {
     "name": "stdout",
     "output_type": "stream",
     "text": [
      "checkpoint-1000\n"
     ]
    },
    {
     "data": {
      "image/png": "[encoded data removed]",
      "text/plain": [
       "<Figure size 720x720 with 4 Axes>"
      ]
     },
     "metadata": {
      "needs_background": "light"
     },
     "output_type": "display_data"
    }
   ],
   "source": [
    "imgs = []\n",
    "for checkpoint_dir in sorted(os.listdir(checkpoints_dir)):\n",
    "    if os.path.isdir(os.path.join(checkpoints_dir, checkpoint_dir)):\n",
    "        checkpoint_file = sorted(\n",
    "            os.listdir(os.path.join(checkpoints_dir, checkpoint_dir))\n",
    "        )[1]\n",
    "        print(checkpoint_file)\n",
    "        trainer.restore(os.path.join(checkpoints_dir, checkpoint_dir, checkpoint_file))\n",
    "        agent_0 = trainer.get_policy(\"agent_0\").model\n",
    "        agent_1 = trainer.get_policy(\"agent_1\").model\n",
    "        agent_2 = trainer.get_policy(\"agent_2\").model\n",
    "        agent_3 = trainer.get_policy(\"agent_3\").model\n",
    "        with torch.no_grad():\n",
    "            agent_0_matrix = agent_0._matrix.numpy()\n",
    "            agent_1_matrix = agent_1._matrix.numpy()\n",
    "            agent_2_matrix = agent_2._matrix.numpy()\n",
    "            agent_3_matrix = agent_3._matrix.numpy()\n",
    "\n",
    "            # Generate images\n",
    "            for j, matrix in enumerate((agent_0_matrix, agent_1_matrix,agent_2_matrix,agent_3_matrix)):\n",
    "                if j == 0:\n",
    "                    fig = plt.figure(num=1, clear=True, figsize=(10, 10))\n",
    "                    ax = fig.add_subplot(221)\n",
    "                    ax.set_title(\"Agent 0\")\n",
    "                elif j == 1:\n",
    "                    ax = fig.add_subplot(222)\n",
    "                    ax.set_title(\"Agent 1\")\n",
    "                elif j==2:\n",
    "                    ax = fig.add_subplot(223)\n",
    "                    ax.set_title(\"Agent 2\")\n",
    "                elif j==3:\n",
    "                    ax = fig.add_subplot(224)\n",
    "                    ax.set_title(\"Agent 3\")\n",
    "                    \n",
    "                ax.matshow(matrix, cmap=plt.cm.Blues)\n",
    "                for x in range(nb_msg):\n",
    "                    for y in range(number_of_goals):\n",
    "                        c = matrix[y, x]\n",
    "                        #ax.text(x, y, str(round(c, 3)), va=\"center\", ha=\"center\")\n",
    "                if j == 3:\n",
    "                    plt.tight_layout()\n",
    "                    canvas = fig.figure.canvas\n",
    "                    canvas.draw()\n",
    "                    data = np.frombuffer(canvas.tostring_rgb(), dtype=np.uint8)\n",
    "                    img = data.reshape(canvas.get_width_height()[::-1] + (3,))\n",
    "                    imgs.append(img)\n",
    "                    "
   ]
  },
  {
   "cell_type": "code",
   "execution_count": 19,
   "metadata": {},
   "outputs": [],
   "source": [
    "import os\n",
    "os.environ['FFMPEG_BINARY'] = 'ffmpeg'\n",
    "import moviepy.editor as mvp\n",
    "from moviepy.video.io.ffmpeg_writer import FFMPEG_VideoWriter\n",
    "from IPython.display import HTML, display, clear_output\n",
    "\n",
    "class VideoWriter:\n",
    "  def __init__(self, filename, fps=30.0, **kw):\n",
    "    self.writer = None\n",
    "    self.params = dict(filename=filename, fps=fps, **kw)\n",
    "\n",
    "  def add(self, img):\n",
    "    img = np.asarray(img)\n",
    "    if self.writer is None:\n",
    "      h, w = img.shape[:2]\n",
    "      self.writer = FFMPEG_VideoWriter(size=(w, h), **self.params)\n",
    "    if img.dtype in [np.float32, np.float64]:\n",
    "      img = np.uint8(img.clip(0, 1)*255)\n",
    "    if len(img.shape) == 2:\n",
    "      img = np.repeat(img[..., None], 3, -1)\n",
    "    self.writer.write_frame(img)\n",
    "\n",
    "  def close(self):\n",
    "    if self.writer:\n",
    "      self.writer.close()\n",
    "\n",
    "  def __enter__(self):\n",
    "    return self\n",
    "\n",
    "  def __exit__(self, *kw):\n",
    "    self.close()\n",
    "\n",
    "  def show(self, **kw):\n",
    "      self.close()\n",
    "      fn = self.params['filename']\n",
    "      display(mvp.ipython_display(fn, **kw))"
   ]
  },
  {
   "cell_type": "code",
   "execution_count": 22,
   "metadata": {},
   "outputs": [
    {
     "data": {
      "text/html": [
       "<div align=middle><video src='data:video/mp4;base64,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' controls>Sorry, seems like your browser doesn't support HTML5 audio/video</video></div>"
      ],
      "text/plain": [
       "<moviepy.video.io.html_tools.HTML2 object>"
      ]
     },
     "metadata": {},
     "output_type": "display_data"
    }
   ],
   "source": [
    "with VideoWriter(\"out.mp4\", 2) as vid:\n",
    "          for i in range(len(imgs)):\n",
    "            im = imgs[i]\n",
    "            \n",
    "            #plt.imshow(im)\n",
    "            #plt.show()\n",
    "            vid.add(im)\n",
    "          vid.show()"
   ]
  },
  {
   "cell_type": "markdown",
   "metadata": {},
   "source": [
    "# 2 matrix"
   ]
  },
  {
   "cell_type": "code",
   "execution_count": 13,
   "metadata": {},
   "outputs": [
    {
     "name": "stderr",
     "output_type": "stream",
     "text": [
      "2022-10-17 14:55:47,202\tWARNING multi_agent_env.py:137 -- observation_space_contains() has not been implemented\n",
      "2022-10-17 14:55:47,203\tWARNING multi_agent_env.py:137 -- observation_space_contains() has not been implemented\n",
      "2022-10-17 14:55:47,203\tWARNING multi_agent_env.py:137 -- observation_space_contains() has not been implemented\n",
      "2022-10-17 14:55:47,203\tWARNING multi_agent_env.py:193 -- action_space_sample() has not been implemented\n",
      "2022-10-17 14:55:47,205\tWARNING multi_agent_env.py:137 -- observation_space_contains() has not been implemented\n",
      "2022-10-17 14:55:47,211\tWARNING catalog.py:628 -- Custom ModelV2 should accept all custom options as **kwargs, instead of expecting them in config['custom_model_config']!\n",
      "2022-10-17 14:55:47,240\tWARNING catalog.py:628 -- Custom ModelV2 should accept all custom options as **kwargs, instead of expecting them in config['custom_model_config']!\n",
      "2022-10-17 14:55:47,248\tWARNING util.py:65 -- Install gputil for GPU system monitoring.\n"
     ]
    }
   ],
   "source": [
    "with open(f\"../scripts/configs/{config_file}\", \"r\") as f:\n",
    "    user_config = yaml.safe_load(f)\n",
    "# General settings of the algorithm\n",
    "config = deepcopy(DEFAULT_CONFIG)\n",
    "config[\"num_workers\"] = 0\n",
    "config[\"framework\"] = \"torch\"\n",
    "use_communication = user_config.get(\"communication\", False)\n",
    "\n",
    "config[\"horizon\"] = population.LARGE_GOAL_LINES_TIMELIMIT\n",
    "config[\"rollout_fragment_length\"] = config[\"horizon\"]\n",
    "config[\"env_config\"] = user_config[\"env_config\"]\n",
    "config[\"train_batch_size\"] = 60_000\n",
    "config[\"sgd_minibatch_size\"] = 10_000\n",
    "config[\"lambda\"] = 0.9\n",
    "config[\"lr\"] = 0.0003\n",
    "\n",
    "\n",
    "def policy_mapping_fn(agent_id):\n",
    "    return agent_id\n",
    "\n",
    "\n",
    "config[\"multiagent\"] = {\n",
    "    \"policies\": {\n",
    "        f\"agent_{i}\": PolicySpec(\n",
    "            policy_class=None, observation_space=None, action_space=None\n",
    "        )\n",
    "        for i in range(config[\"env_config\"][\"population_size\"])\n",
    "    },\n",
    "    \"policy_mapping_fn\": policy_mapping_fn,\n",
    "}\n",
    "\n",
    "train_env = environment\n",
    "\n",
    "ModelCatalog.register_custom_model(\"FullNamingNetwork\", FullNamingNetwork)\n",
    "number_of_goals = environment(config[\"env_config\"]).goal_space_dim\n",
    "config[\"model\"] = {\n",
    "    \"custom_model\": \"FullNamingNetwork\",\n",
    "    \"custom_model_config\": {\n",
    "        \"number_of_goals\": number_of_goals,\n",
    "        \"train_matrix\": user_config.get(\"train_matrix\", False),\n",
    "    },\n",
    "}\n",
    "trainer = FullNamingTrainer(\n",
    "    config=config,\n",
    "    env=train_env,\n",
    ")"
   ]
  },
  {
   "cell_type": "code",
   "execution_count": null,
   "metadata": {},
   "outputs": [],
   "source": [
    "imgs = []\n",
    "for checkpoint_dir in sorted(os.listdir(checkpoints_dir)):\n",
    "    if os.path.isdir(os.path.join(checkpoints_dir, checkpoint_dir)):\n",
    "        checkpoint_file = sorted(\n",
    "            os.listdir(os.path.join(checkpoints_dir, checkpoint_dir))\n",
    "        )[1]\n",
    "        trainer.restore(os.path.join(checkpoints_dir, checkpoint_dir, checkpoint_file))\n",
    "        agent_0 = trainer.get_policy(\"agent_0\").model\n",
    "        agent_1 = trainer.get_policy(\"agent_1\").model\n",
    "        with torch.no_grad():\n",
    "            agent_0_matrix = agent_0._leader_matrix.numpy()\n",
    "            agent_1_matrix = agent_1._follower_matrix.numpy()\n",
    "\n",
    "            # Generate images\n",
    "            for j, matrix in enumerate((agent_0_matrix, agent_1_matrix)):\n",
    "                if j == 0:\n",
    "                    fig = plt.figure(num=1, clear=True, figsize=(10, 10))\n",
    "                    ax = fig.add_subplot(121)\n",
    "                    ax.set_title(\"Agent 0\")\n",
    "                elif j == 1:\n",
    "                    ax = fig.add_subplot(122)\n",
    "                    ax.set_title(\"Agent 1\")\n",
    "                ax.matshow(matrix, cmap=plt.cm.Blues)\n",
    "                for x in range(number_of_goals):\n",
    "                    for y in range(number_of_goals):\n",
    "                        c = matrix[y, x]\n",
    "                        ax.text(x, y, str(round(c, 3)), va=\"center\", ha=\"center\")\n",
    "                if j == 1:\n",
    "                    plt.tight_layout()\n",
    "                    canvas = fig.figure.canvas\n",
    "                    canvas.draw()\n",
    "                    data = np.frombuffer(canvas.tostring_rgb(), dtype=np.uint8)\n",
    "                    img = data.reshape(canvas.get_width_height()[::-1] + (3,))\n",
    "                    imgs.append(img)\n",
    "                    "
   ]
  }
 ],
 "metadata": {
  "kernelspec": {
   "display_name": "Python 3 (ipykernel)",
   "language": "python",
   "name": "python3"
  },
  "language_info": {
   "codemirror_mode": {
    "name": "ipython",
    "version": 3
   },
   "file_extension": ".py",
   "mimetype": "text/x-python",
   "name": "python",
   "nbconvert_exporter": "python",
   "pygments_lexer": "ipython3",
   "version": "3.9.12"
  },
  "vscode": {
   "interpreter": {
    "hash": "ba8aa1b69f904e3342c40bcdd1b69ae4a3cf2054115c347781ce67fba2dd2c9e"
   }
  }
 },
 "nbformat": 4,
 "nbformat_minor": 2
}
