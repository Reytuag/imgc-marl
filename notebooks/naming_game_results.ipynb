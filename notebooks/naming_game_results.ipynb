{
 "cells": [
  {
   "cell_type": "markdown",
   "metadata": {},
   "source": [
    "# Notebook for analysing results of the naming game, matrices visualizations"
   ]
  },
  {
   "cell_type": "markdown",
   "metadata": {},
   "source": [
    "This notebook can be used for generating videos of all the naming matrices during training for a specific seed. A video of the evolution of the naming matrices will be stored in the experiment's directory"
   ]
  },
  {
   "cell_type": "code",
   "execution_count": 1,
   "metadata": {},
   "outputs": [],
   "source": [
    "import os\n",
    "import random\n",
    "import tempfile\n",
    "from copy import deepcopy\n",
    "from datetime import datetime\n",
    "\n",
    "import click\n",
    "import imgc_marl.envs.population as population\n",
    "import numpy as np\n",
    "import yaml\n",
    "from imgc_marl.callbacks import (\n",
    "    PopGoalLinesCallback,\n",
    "    PopGoalLinesCommunicationCallback,\n",
    "    PopGoalLinesNamingCallback,\n",
    "    PopGoalLinesNamingCallback1Matrix,\n",
    ")\n",
    "from imgc_marl.evaluation import (\n",
    "    communication_custom_eval_function,\n",
    "    custom_eval_function,\n",
    ")\n",
    "from imgc_marl.models.basic_communication import BasicCommunicationNetwork\n",
    "from imgc_marl.models.full_naming_game import FullNamingNetwork\n",
    "from imgc_marl.models.full_naming_game_single_matrix import FullNamingNetwork1Matrix\n",
    "from imgc_marl.policies.basic_communication import BasicCommunicationTrainer\n",
    "from imgc_marl.policies.full_naming_game import FullNamingTrainer\n",
    "from imgc_marl.policies.full_naming_game_single_matrix import FullNamingTrainer1Matrix\n",
    "from imgc_marl.utils import keep_relevant_results\n",
    "from ray.rllib.agents.ppo import DEFAULT_CONFIG, PPOTrainer\n",
    "from ray.rllib.models import ModelCatalog\n",
    "from ray.rllib.policy.policy import PolicySpec\n",
    "from ray.tune.logger import UnifiedLogger, pretty_print\n",
    "import torch\n",
    "import matplotlib.pyplot as plt\n",
    "import moviepy"
   ]
  },
  {
   "cell_type": "markdown",
   "metadata": {},
   "source": [
    "* Select correct configuration file \n",
    "* Select environment (3 or 6 landmarks)\n",
    "* Select the experiment you want to evaluate"
   ]
  },
  {
   "cell_type": "code",
   "execution_count": 2,
   "metadata": {},
   "outputs": [
    {
     "name": "stdout",
     "output_type": "stream",
     "text": [
      "2022-10-15_20-21-051i6ubnd9  train-152633_0.slurm.err  train-152633_2.slurm.out\r\n",
      "2022-10-15_20-21-055x1s5ecg  train-152633_0.slurm.out  train-152633_3.slurm.err\r\n",
      "2022-10-15_20-21-05l2jrttu4  train-152633_1.slurm.err  train-152633_3.slurm.out\r\n",
      "2022-10-15_20-21-05n2r125tc  train-152633_1.slurm.out  train-152633_4.slurm.err\r\n",
      "2022-10-15_20-21-05zvlbcbhk  train-152633_2.slurm.err  train-152633_4.slurm.out\r\n"
     ]
    }
   ],
   "source": [
    "!ls $SCRATCH/elias_expe/2_agents/cooperative/modified_reward/6_landmarks/naming_game/2_matrix\n"
   ]
  },
  {
   "cell_type": "code",
   "execution_count": 8,
   "metadata": {},
   "outputs": [
    {
     "name": "stdout",
     "output_type": "stream",
     "text": [
      "2022-10-17_16-01-13dqqjntxb  train-191269_0.slurm.err  train-191269_2.slurm.out\r\n",
      "2022-10-17_16-01-142pvfn2tk  train-191269_0.slurm.out  train-191269_3.slurm.err\r\n",
      "2022-10-17_16-01-14bfynpbi7  train-191269_1.slurm.err  train-191269_3.slurm.out\r\n",
      "2022-10-17_16-01-16o1m32xxn  train-191269_1.slurm.out  train-191269_4.slurm.err\r\n",
      "2022-10-17_16-01-16s4p4yg8u  train-191269_2.slurm.err  train-191269_4.slurm.out\r\n"
     ]
    }
   ],
   "source": [
    "!ls $SCRATCH/elias_expe/2_agents/cooperative/modified_reward/6_landmarks/naming_game_30msg_t30_a10\n"
   ]
  },
  {
   "cell_type": "code",
   "execution_count": 9,
   "metadata": {},
   "outputs": [],
   "source": [
    "from imgc_marl.envs.population import PopGoalLinesEnv, PopLargeGoalLinesEnv\n",
    "\n",
    "# 3 landmarks\n",
    "#config_file = \"goal_lines_naming.yml\"\n",
    "#environment = PopGoalLinesEnv\n",
    "\n",
    "# 6 landmarks\n",
    "config_file = \"large_goal_lines_naming.yml\"\n",
    "environment = PopLargeGoalLinesEnv\n",
    "\n",
    "\n",
    "# directory of the checkpoints you want to evaluate\n",
    "checkpoints_dir = os.environ[\"SCRATCH\"]+\"/elias_expe/2_agents/cooperative/modified_reward/6_landmarks/naming_game_30msg_t30_a10/2022-10-17_16-01-13dqqjntxb\""
   ]
  },
  {
   "cell_type": "code",
   "execution_count": 12,
   "metadata": {},
   "outputs": [
    {
     "name": "stderr",
     "output_type": "stream",
     "text": [
      "2022-10-18 22:33:20,643\tWARNING multi_agent_env.py:137 -- observation_space_contains() has not been implemented\n",
      "2022-10-18 22:33:20,643\tWARNING multi_agent_env.py:137 -- observation_space_contains() has not been implemented\n",
      "2022-10-18 22:33:20,644\tWARNING multi_agent_env.py:137 -- observation_space_contains() has not been implemented\n",
      "2022-10-18 22:33:20,644\tWARNING multi_agent_env.py:193 -- action_space_sample() has not been implemented\n",
      "2022-10-18 22:33:20,645\tWARNING multi_agent_env.py:137 -- observation_space_contains() has not been implemented\n",
      "2022-10-18 22:33:20,652\tWARNING catalog.py:628 -- Custom ModelV2 should accept all custom options as **kwargs, instead of expecting them in config['custom_model_config']!\n",
      "2022-10-18 22:33:20,668\tWARNING catalog.py:628 -- Custom ModelV2 should accept all custom options as **kwargs, instead of expecting them in config['custom_model_config']!\n",
      "2022-10-18 22:33:20,675\tWARNING util.py:65 -- Install gputil for GPU system monitoring.\n"
     ]
    }
   ],
   "source": [
    "with open(f\"../scripts/configs/{config_file}\", \"r\") as f:\n",
    "    user_config = yaml.safe_load(f)\n",
    "# General settings of the algorithm\n",
    "config = deepcopy(DEFAULT_CONFIG)\n",
    "config[\"num_workers\"] = 0\n",
    "config[\"framework\"] = \"torch\"\n",
    "use_communication = user_config.get(\"communication\", False)\n",
    "\n",
    "config[\"horizon\"] = 300\n",
    "config[\"rollout_fragment_length\"] = config[\"horizon\"]\n",
    "config[\"env_config\"] = user_config[\"env_config\"]\n",
    "config[\"train_batch_size\"] = 60_000\n",
    "config[\"sgd_minibatch_size\"] = 10_000\n",
    "config[\"lambda\"] = 0.9\n",
    "config[\"lr\"] = 0.0003\n",
    "\n",
    "\n",
    "nb_msg= 30\n",
    "\n",
    "def policy_mapping_fn(agent_id):\n",
    "    return agent_id\n",
    "\n",
    "\n",
    "config[\"multiagent\"] = {\n",
    "    \"policies\": {\n",
    "        f\"agent_{i}\": PolicySpec(\n",
    "            policy_class=None, observation_space=None, action_space=None\n",
    "        )\n",
    "        for i in range(config[\"env_config\"][\"population_size\"])\n",
    "    },\n",
    "    \"policy_mapping_fn\": policy_mapping_fn,\n",
    "}\n",
    "\n",
    "train_env = environment\n",
    "\n",
    "ModelCatalog.register_custom_model(\"FullNamingNetwork1Matrix\", FullNamingNetwork1Matrix)\n",
    "number_of_goals = environment(config[\"env_config\"]).goal_space_dim\n",
    "config[\"model\"] = {\n",
    "    \"custom_model\": \"FullNamingNetwork1Matrix\",\n",
    "    \"custom_model_config\": {\n",
    "        \"number_of_goals\": number_of_goals,\n",
    "        \"train_matrix\": user_config.get(\"train_matrix\", False),\n",
    "        \"nb_msg\":nb_msg,\n",
    "    },\n",
    "}\n",
    "trainer = FullNamingTrainer1Matrix(\n",
    "    config=config,\n",
    "    env=train_env,\n",
    ")"
   ]
  },
  {
   "cell_type": "markdown",
   "metadata": {},
   "source": [
    "# Inspecting matrices through time"
   ]
  },
  {
   "cell_type": "code",
   "execution_count": 23,
   "metadata": {},
   "outputs": [
    {
     "name": "stderr",
     "output_type": "stream",
     "text": [
      "2022-10-18 22:44:31,487\tINFO trainable.py:588 -- Restored on 10.159.12.193 from checkpoint: /gpfsscratch/rech/imi/uzw47io/elias_expe/2_agents/cooperative/modified_reward/6_landmarks/naming_game_30msg_t30_a10/2022-10-17_16-01-13dqqjntxb/checkpoint_000010/checkpoint-10\n",
      "2022-10-18 22:44:31,492\tINFO trainable.py:597 -- Current state after restoring: {'_iteration': 10, '_timesteps_total': None, '_time_total': 622.1854975223541, '_episodes_total': 1206}\n"
     ]
    },
    {
     "name": "stdout",
     "output_type": "stream",
     "text": [
      "checkpoint-10\n",
      "checkpoint-20\n"
     ]
    },
    {
     "name": "stderr",
     "output_type": "stream",
     "text": [
      "2022-10-18 22:44:31,722\tINFO trainable.py:588 -- Restored on 10.159.12.193 from checkpoint: /gpfsscratch/rech/imi/uzw47io/elias_expe/2_agents/cooperative/modified_reward/6_landmarks/naming_game_30msg_t30_a10/2022-10-17_16-01-13dqqjntxb/checkpoint_000020/checkpoint-20\n",
      "2022-10-18 22:44:31,723\tINFO trainable.py:597 -- Current state after restoring: {'_iteration': 20, '_timesteps_total': None, '_time_total': 1241.296260356903, '_episodes_total': 2474}\n",
      "2022-10-18 22:44:32,217\tINFO trainable.py:588 -- Restored on 10.159.12.193 from checkpoint: /gpfsscratch/rech/imi/uzw47io/elias_expe/2_agents/cooperative/modified_reward/6_landmarks/naming_game_30msg_t30_a10/2022-10-17_16-01-13dqqjntxb/checkpoint_000030/checkpoint-30\n",
      "2022-10-18 22:44:32,221\tINFO trainable.py:597 -- Current state after restoring: {'_iteration': 30, '_timesteps_total': None, '_time_total': 1848.3339257240295, '_episodes_total': 3807}\n"
     ]
    },
    {
     "name": "stdout",
     "output_type": "stream",
     "text": [
      "checkpoint-30\n"
     ]
    },
    {
     "name": "stderr",
     "output_type": "stream",
     "text": [
      "2022-10-18 22:44:32,488\tINFO trainable.py:588 -- Restored on 10.159.12.193 from checkpoint: /gpfsscratch/rech/imi/uzw47io/elias_expe/2_agents/cooperative/modified_reward/6_landmarks/naming_game_30msg_t30_a10/2022-10-17_16-01-13dqqjntxb/checkpoint_000040/checkpoint-40\n",
      "2022-10-18 22:44:32,489\tINFO trainable.py:597 -- Current state after restoring: {'_iteration': 40, '_timesteps_total': None, '_time_total': 2460.4450199604034, '_episodes_total': 5318}\n"
     ]
    },
    {
     "name": "stdout",
     "output_type": "stream",
     "text": [
      "checkpoint-40\n"
     ]
    },
    {
     "name": "stderr",
     "output_type": "stream",
     "text": [
      "2022-10-18 22:44:32,759\tINFO trainable.py:588 -- Restored on 10.159.12.193 from checkpoint: /gpfsscratch/rech/imi/uzw47io/elias_expe/2_agents/cooperative/modified_reward/6_landmarks/naming_game_30msg_t30_a10/2022-10-17_16-01-13dqqjntxb/checkpoint_000050/checkpoint-50\n",
      "2022-10-18 22:44:32,760\tINFO trainable.py:597 -- Current state after restoring: {'_iteration': 50, '_timesteps_total': None, '_time_total': 3059.2073335647583, '_episodes_total': 6970}\n"
     ]
    },
    {
     "name": "stdout",
     "output_type": "stream",
     "text": [
      "checkpoint-50\n"
     ]
    },
    {
     "name": "stderr",
     "output_type": "stream",
     "text": [
      "2022-10-18 22:44:33,034\tINFO trainable.py:588 -- Restored on 10.159.12.193 from checkpoint: /gpfsscratch/rech/imi/uzw47io/elias_expe/2_agents/cooperative/modified_reward/6_landmarks/naming_game_30msg_t30_a10/2022-10-17_16-01-13dqqjntxb/checkpoint_000060/checkpoint-60\n",
      "2022-10-18 22:44:33,034\tINFO trainable.py:597 -- Current state after restoring: {'_iteration': 60, '_timesteps_total': None, '_time_total': 3647.7612476348877, '_episodes_total': 8930}\n"
     ]
    },
    {
     "name": "stdout",
     "output_type": "stream",
     "text": [
      "checkpoint-60\n"
     ]
    },
    {
     "name": "stderr",
     "output_type": "stream",
     "text": [
      "2022-10-18 22:44:33,306\tINFO trainable.py:588 -- Restored on 10.159.12.193 from checkpoint: /gpfsscratch/rech/imi/uzw47io/elias_expe/2_agents/cooperative/modified_reward/6_landmarks/naming_game_30msg_t30_a10/2022-10-17_16-01-13dqqjntxb/checkpoint_000070/checkpoint-70\n",
      "2022-10-18 22:44:33,307\tINFO trainable.py:597 -- Current state after restoring: {'_iteration': 70, '_timesteps_total': None, '_time_total': 4224.943605899811, '_episodes_total': 10969}\n"
     ]
    },
    {
     "name": "stdout",
     "output_type": "stream",
     "text": [
      "checkpoint-70\n"
     ]
    },
    {
     "name": "stderr",
     "output_type": "stream",
     "text": [
      "2022-10-18 22:44:33,581\tINFO trainable.py:588 -- Restored on 10.159.12.193 from checkpoint: /gpfsscratch/rech/imi/uzw47io/elias_expe/2_agents/cooperative/modified_reward/6_landmarks/naming_game_30msg_t30_a10/2022-10-17_16-01-13dqqjntxb/checkpoint_000080/checkpoint-80\n",
      "2022-10-18 22:44:33,581\tINFO trainable.py:597 -- Current state after restoring: {'_iteration': 80, '_timesteps_total': None, '_time_total': 4783.658557891846, '_episodes_total': 13151}\n"
     ]
    },
    {
     "name": "stdout",
     "output_type": "stream",
     "text": [
      "checkpoint-80\n"
     ]
    },
    {
     "name": "stderr",
     "output_type": "stream",
     "text": [
      "2022-10-18 22:44:33,850\tINFO trainable.py:588 -- Restored on 10.159.12.193 from checkpoint: /gpfsscratch/rech/imi/uzw47io/elias_expe/2_agents/cooperative/modified_reward/6_landmarks/naming_game_30msg_t30_a10/2022-10-17_16-01-13dqqjntxb/checkpoint_000090/checkpoint-90\n",
      "2022-10-18 22:44:33,852\tINFO trainable.py:597 -- Current state after restoring: {'_iteration': 90, '_timesteps_total': None, '_time_total': 5336.438555717468, '_episodes_total': 15321}\n"
     ]
    },
    {
     "name": "stdout",
     "output_type": "stream",
     "text": [
      "checkpoint-90\n"
     ]
    },
    {
     "name": "stderr",
     "output_type": "stream",
     "text": [
      "2022-10-18 22:44:34,122\tINFO trainable.py:588 -- Restored on 10.159.12.193 from checkpoint: /gpfsscratch/rech/imi/uzw47io/elias_expe/2_agents/cooperative/modified_reward/6_landmarks/naming_game_30msg_t30_a10/2022-10-17_16-01-13dqqjntxb/checkpoint_000100/checkpoint-100\n",
      "2022-10-18 22:44:34,124\tINFO trainable.py:597 -- Current state after restoring: {'_iteration': 100, '_timesteps_total': None, '_time_total': 5877.147433519363, '_episodes_total': 17449}\n"
     ]
    },
    {
     "name": "stdout",
     "output_type": "stream",
     "text": [
      "checkpoint-100\n"
     ]
    },
    {
     "name": "stderr",
     "output_type": "stream",
     "text": [
      "2022-10-18 22:44:34,395\tINFO trainable.py:588 -- Restored on 10.159.12.193 from checkpoint: /gpfsscratch/rech/imi/uzw47io/elias_expe/2_agents/cooperative/modified_reward/6_landmarks/naming_game_30msg_t30_a10/2022-10-17_16-01-13dqqjntxb/checkpoint_000110/checkpoint-110\n",
      "2022-10-18 22:44:34,395\tINFO trainable.py:597 -- Current state after restoring: {'_iteration': 110, '_timesteps_total': None, '_time_total': 6404.209262609482, '_episodes_total': 19662}\n"
     ]
    },
    {
     "name": "stdout",
     "output_type": "stream",
     "text": [
      "checkpoint-110\n"
     ]
    },
    {
     "name": "stderr",
     "output_type": "stream",
     "text": [
      "2022-10-18 22:44:34,650\tINFO trainable.py:588 -- Restored on 10.159.12.193 from checkpoint: /gpfsscratch/rech/imi/uzw47io/elias_expe/2_agents/cooperative/modified_reward/6_landmarks/naming_game_30msg_t30_a10/2022-10-17_16-01-13dqqjntxb/checkpoint_000120/checkpoint-120\n",
      "2022-10-18 22:44:34,650\tINFO trainable.py:597 -- Current state after restoring: {'_iteration': 120, '_timesteps_total': None, '_time_total': 6911.66018819809, '_episodes_total': 22234}\n"
     ]
    },
    {
     "name": "stdout",
     "output_type": "stream",
     "text": [
      "checkpoint-120\n"
     ]
    },
    {
     "name": "stderr",
     "output_type": "stream",
     "text": [
      "2022-10-18 22:44:34,850\tINFO trainable.py:588 -- Restored on 10.159.12.193 from checkpoint: /gpfsscratch/rech/imi/uzw47io/elias_expe/2_agents/cooperative/modified_reward/6_landmarks/naming_game_30msg_t30_a10/2022-10-17_16-01-13dqqjntxb/checkpoint_000130/checkpoint-130\n",
      "2022-10-18 22:44:34,851\tINFO trainable.py:597 -- Current state after restoring: {'_iteration': 130, '_timesteps_total': None, '_time_total': 7406.510012626648, '_episodes_total': 24945}\n"
     ]
    },
    {
     "name": "stdout",
     "output_type": "stream",
     "text": [
      "checkpoint-130\n",
      "checkpoint-140\n"
     ]
    },
    {
     "name": "stderr",
     "output_type": "stream",
     "text": [
      "2022-10-18 22:44:35,117\tINFO trainable.py:588 -- Restored on 10.159.12.193 from checkpoint: /gpfsscratch/rech/imi/uzw47io/elias_expe/2_agents/cooperative/modified_reward/6_landmarks/naming_game_30msg_t30_a10/2022-10-17_16-01-13dqqjntxb/checkpoint_000140/checkpoint-140\n",
      "2022-10-18 22:44:35,118\tINFO trainable.py:597 -- Current state after restoring: {'_iteration': 140, '_timesteps_total': None, '_time_total': 7896.8038647174835, '_episodes_total': 27792}\n",
      "2022-10-18 22:44:35,392\tINFO trainable.py:588 -- Restored on 10.159.12.193 from checkpoint: /gpfsscratch/rech/imi/uzw47io/elias_expe/2_agents/cooperative/modified_reward/6_landmarks/naming_game_30msg_t30_a10/2022-10-17_16-01-13dqqjntxb/checkpoint_000150/checkpoint-150\n",
      "2022-10-18 22:44:35,393\tINFO trainable.py:597 -- Current state after restoring: {'_iteration': 150, '_timesteps_total': None, '_time_total': 8371.549973726273, '_episodes_total': 30640}\n"
     ]
    },
    {
     "name": "stdout",
     "output_type": "stream",
     "text": [
      "checkpoint-150\n"
     ]
    },
    {
     "name": "stderr",
     "output_type": "stream",
     "text": [
      "2022-10-18 22:44:35,643\tINFO trainable.py:588 -- Restored on 10.159.12.193 from checkpoint: /gpfsscratch/rech/imi/uzw47io/elias_expe/2_agents/cooperative/modified_reward/6_landmarks/naming_game_30msg_t30_a10/2022-10-17_16-01-13dqqjntxb/checkpoint_000160/checkpoint-160\n",
      "2022-10-18 22:44:35,644\tINFO trainable.py:597 -- Current state after restoring: {'_iteration': 160, '_timesteps_total': None, '_time_total': 8847.54684138298, '_episodes_total': 33592}\n"
     ]
    },
    {
     "name": "stdout",
     "output_type": "stream",
     "text": [
      "checkpoint-160\n"
     ]
    },
    {
     "name": "stderr",
     "output_type": "stream",
     "text": [
      "2022-10-18 22:44:35,888\tINFO trainable.py:588 -- Restored on 10.159.12.193 from checkpoint: /gpfsscratch/rech/imi/uzw47io/elias_expe/2_agents/cooperative/modified_reward/6_landmarks/naming_game_30msg_t30_a10/2022-10-17_16-01-13dqqjntxb/checkpoint_000170/checkpoint-170\n",
      "2022-10-18 22:44:35,890\tINFO trainable.py:597 -- Current state after restoring: {'_iteration': 170, '_timesteps_total': None, '_time_total': 9323.006983041763, '_episodes_total': 36555}\n"
     ]
    },
    {
     "name": "stdout",
     "output_type": "stream",
     "text": [
      "checkpoint-170\n"
     ]
    },
    {
     "name": "stderr",
     "output_type": "stream",
     "text": [
      "2022-10-18 22:44:36,163\tINFO trainable.py:588 -- Restored on 10.159.12.193 from checkpoint: /gpfsscratch/rech/imi/uzw47io/elias_expe/2_agents/cooperative/modified_reward/6_landmarks/naming_game_30msg_t30_a10/2022-10-17_16-01-13dqqjntxb/checkpoint_000180/checkpoint-180\n",
      "2022-10-18 22:44:36,163\tINFO trainable.py:597 -- Current state after restoring: {'_iteration': 180, '_timesteps_total': None, '_time_total': 9791.285125017166, '_episodes_total': 39605}\n"
     ]
    },
    {
     "name": "stdout",
     "output_type": "stream",
     "text": [
      "checkpoint-180\n"
     ]
    },
    {
     "name": "stderr",
     "output_type": "stream",
     "text": [
      "2022-10-18 22:44:36,432\tINFO trainable.py:588 -- Restored on 10.159.12.193 from checkpoint: /gpfsscratch/rech/imi/uzw47io/elias_expe/2_agents/cooperative/modified_reward/6_landmarks/naming_game_30msg_t30_a10/2022-10-17_16-01-13dqqjntxb/checkpoint_000190/checkpoint-190\n",
      "2022-10-18 22:44:36,433\tINFO trainable.py:597 -- Current state after restoring: {'_iteration': 190, '_timesteps_total': None, '_time_total': 10255.224375724792, '_episodes_total': 42598}\n"
     ]
    },
    {
     "name": "stdout",
     "output_type": "stream",
     "text": [
      "checkpoint-190\n"
     ]
    },
    {
     "name": "stderr",
     "output_type": "stream",
     "text": [
      "2022-10-18 22:44:36,636\tINFO trainable.py:588 -- Restored on 10.159.12.193 from checkpoint: /gpfsscratch/rech/imi/uzw47io/elias_expe/2_agents/cooperative/modified_reward/6_landmarks/naming_game_30msg_t30_a10/2022-10-17_16-01-13dqqjntxb/checkpoint_000200/checkpoint-200\n",
      "2022-10-18 22:44:36,636\tINFO trainable.py:597 -- Current state after restoring: {'_iteration': 200, '_timesteps_total': None, '_time_total': 10708.875116109848, '_episodes_total': 45275}\n"
     ]
    },
    {
     "name": "stdout",
     "output_type": "stream",
     "text": [
      "checkpoint-200\n"
     ]
    },
    {
     "name": "stderr",
     "output_type": "stream",
     "text": [
      "2022-10-18 22:44:37,115\tINFO trainable.py:588 -- Restored on 10.159.12.193 from checkpoint: /gpfsscratch/rech/imi/uzw47io/elias_expe/2_agents/cooperative/modified_reward/6_landmarks/naming_game_30msg_t30_a10/2022-10-17_16-01-13dqqjntxb/checkpoint_000210/checkpoint-210\n",
      "2022-10-18 22:44:37,116\tINFO trainable.py:597 -- Current state after restoring: {'_iteration': 210, '_timesteps_total': None, '_time_total': 11164.83686542511, '_episodes_total': 48215}\n"
     ]
    },
    {
     "name": "stdout",
     "output_type": "stream",
     "text": [
      "checkpoint-210\n"
     ]
    },
    {
     "name": "stderr",
     "output_type": "stream",
     "text": [
      "2022-10-18 22:44:37,392\tINFO trainable.py:588 -- Restored on 10.159.12.193 from checkpoint: /gpfsscratch/rech/imi/uzw47io/elias_expe/2_agents/cooperative/modified_reward/6_landmarks/naming_game_30msg_t30_a10/2022-10-17_16-01-13dqqjntxb/checkpoint_000220/checkpoint-220\n",
      "2022-10-18 22:44:37,396\tINFO trainable.py:597 -- Current state after restoring: {'_iteration': 220, '_timesteps_total': None, '_time_total': 11622.360967874527, '_episodes_total': 51514}\n"
     ]
    },
    {
     "name": "stdout",
     "output_type": "stream",
     "text": [
      "checkpoint-220\n"
     ]
    },
    {
     "name": "stderr",
     "output_type": "stream",
     "text": [
      "2022-10-18 22:44:37,668\tINFO trainable.py:588 -- Restored on 10.159.12.193 from checkpoint: /gpfsscratch/rech/imi/uzw47io/elias_expe/2_agents/cooperative/modified_reward/6_landmarks/naming_game_30msg_t30_a10/2022-10-17_16-01-13dqqjntxb/checkpoint_000230/checkpoint-230\n",
      "2022-10-18 22:44:37,669\tINFO trainable.py:597 -- Current state after restoring: {'_iteration': 230, '_timesteps_total': None, '_time_total': 12080.670796871185, '_episodes_total': 55081}\n"
     ]
    },
    {
     "name": "stdout",
     "output_type": "stream",
     "text": [
      "checkpoint-230\n"
     ]
    },
    {
     "name": "stderr",
     "output_type": "stream",
     "text": [
      "2022-10-18 22:44:37,869\tINFO trainable.py:588 -- Restored on 10.159.12.193 from checkpoint: /gpfsscratch/rech/imi/uzw47io/elias_expe/2_agents/cooperative/modified_reward/6_landmarks/naming_game_30msg_t30_a10/2022-10-17_16-01-13dqqjntxb/checkpoint_000240/checkpoint-240\n",
      "2022-10-18 22:44:37,870\tINFO trainable.py:597 -- Current state after restoring: {'_iteration': 240, '_timesteps_total': None, '_time_total': 12540.276618480682, '_episodes_total': 58766}\n"
     ]
    },
    {
     "name": "stdout",
     "output_type": "stream",
     "text": [
      "checkpoint-240\n"
     ]
    },
    {
     "name": "stderr",
     "output_type": "stream",
     "text": [
      "2022-10-18 22:44:38,151\tINFO trainable.py:588 -- Restored on 10.159.12.193 from checkpoint: /gpfsscratch/rech/imi/uzw47io/elias_expe/2_agents/cooperative/modified_reward/6_landmarks/naming_game_30msg_t30_a10/2022-10-17_16-01-13dqqjntxb/checkpoint_000250/checkpoint-250\n",
      "2022-10-18 22:44:38,151\tINFO trainable.py:597 -- Current state after restoring: {'_iteration': 250, '_timesteps_total': None, '_time_total': 13005.835154533386, '_episodes_total': 63594}\n"
     ]
    },
    {
     "name": "stdout",
     "output_type": "stream",
     "text": [
      "checkpoint-250\n"
     ]
    },
    {
     "name": "stderr",
     "output_type": "stream",
     "text": [
      "2022-10-18 22:44:38,421\tINFO trainable.py:588 -- Restored on 10.159.12.193 from checkpoint: /gpfsscratch/rech/imi/uzw47io/elias_expe/2_agents/cooperative/modified_reward/6_landmarks/naming_game_30msg_t30_a10/2022-10-17_16-01-13dqqjntxb/checkpoint_000260/checkpoint-260\n",
      "2022-10-18 22:44:38,424\tINFO trainable.py:597 -- Current state after restoring: {'_iteration': 260, '_timesteps_total': None, '_time_total': 13471.187633514404, '_episodes_total': 68595}\n"
     ]
    },
    {
     "name": "stdout",
     "output_type": "stream",
     "text": [
      "checkpoint-260\n"
     ]
    },
    {
     "name": "stderr",
     "output_type": "stream",
     "text": [
      "2022-10-18 22:44:38,697\tINFO trainable.py:588 -- Restored on 10.159.12.193 from checkpoint: /gpfsscratch/rech/imi/uzw47io/elias_expe/2_agents/cooperative/modified_reward/6_landmarks/naming_game_30msg_t30_a10/2022-10-17_16-01-13dqqjntxb/checkpoint_000270/checkpoint-270\n",
      "2022-10-18 22:44:38,698\tINFO trainable.py:597 -- Current state after restoring: {'_iteration': 270, '_timesteps_total': None, '_time_total': 13934.617867469788, '_episodes_total': 73760}\n"
     ]
    },
    {
     "name": "stdout",
     "output_type": "stream",
     "text": [
      "checkpoint-270\n"
     ]
    },
    {
     "name": "stderr",
     "output_type": "stream",
     "text": [
      "2022-10-18 22:44:38,971\tINFO trainable.py:588 -- Restored on 10.159.12.193 from checkpoint: /gpfsscratch/rech/imi/uzw47io/elias_expe/2_agents/cooperative/modified_reward/6_landmarks/naming_game_30msg_t30_a10/2022-10-17_16-01-13dqqjntxb/checkpoint_000280/checkpoint-280\n",
      "2022-10-18 22:44:38,972\tINFO trainable.py:597 -- Current state after restoring: {'_iteration': 280, '_timesteps_total': None, '_time_total': 14397.941051244736, '_episodes_total': 78995}\n"
     ]
    },
    {
     "name": "stdout",
     "output_type": "stream",
     "text": [
      "checkpoint-280\n"
     ]
    },
    {
     "name": "stderr",
     "output_type": "stream",
     "text": [
      "2022-10-18 22:44:39,173\tINFO trainable.py:588 -- Restored on 10.159.12.193 from checkpoint: /gpfsscratch/rech/imi/uzw47io/elias_expe/2_agents/cooperative/modified_reward/6_landmarks/naming_game_30msg_t30_a10/2022-10-17_16-01-13dqqjntxb/checkpoint_000290/checkpoint-290\n",
      "2022-10-18 22:44:39,174\tINFO trainable.py:597 -- Current state after restoring: {'_iteration': 290, '_timesteps_total': None, '_time_total': 14863.454620361328, '_episodes_total': 84479}\n"
     ]
    },
    {
     "name": "stdout",
     "output_type": "stream",
     "text": [
      "checkpoint-290\n"
     ]
    },
    {
     "name": "stderr",
     "output_type": "stream",
     "text": [
      "2022-10-18 22:44:39,445\tINFO trainable.py:588 -- Restored on 10.159.12.193 from checkpoint: /gpfsscratch/rech/imi/uzw47io/elias_expe/2_agents/cooperative/modified_reward/6_landmarks/naming_game_30msg_t30_a10/2022-10-17_16-01-13dqqjntxb/checkpoint_000300/checkpoint-300\n",
      "2022-10-18 22:44:39,447\tINFO trainable.py:597 -- Current state after restoring: {'_iteration': 300, '_timesteps_total': None, '_time_total': 15326.705296278, '_episodes_total': 90764}\n"
     ]
    },
    {
     "name": "stdout",
     "output_type": "stream",
     "text": [
      "checkpoint-300\n"
     ]
    },
    {
     "name": "stderr",
     "output_type": "stream",
     "text": [
      "2022-10-18 22:44:39,651\tINFO trainable.py:588 -- Restored on 10.159.12.193 from checkpoint: /gpfsscratch/rech/imi/uzw47io/elias_expe/2_agents/cooperative/modified_reward/6_landmarks/naming_game_30msg_t30_a10/2022-10-17_16-01-13dqqjntxb/checkpoint_000310/checkpoint-310\n",
      "2022-10-18 22:44:39,651\tINFO trainable.py:597 -- Current state after restoring: {'_iteration': 310, '_timesteps_total': None, '_time_total': 15785.069763422012, '_episodes_total': 97442}\n"
     ]
    },
    {
     "name": "stdout",
     "output_type": "stream",
     "text": [
      "checkpoint-310\n"
     ]
    },
    {
     "name": "stderr",
     "output_type": "stream",
     "text": [
      "2022-10-18 22:44:39,929\tINFO trainable.py:588 -- Restored on 10.159.12.193 from checkpoint: /gpfsscratch/rech/imi/uzw47io/elias_expe/2_agents/cooperative/modified_reward/6_landmarks/naming_game_30msg_t30_a10/2022-10-17_16-01-13dqqjntxb/checkpoint_000320/checkpoint-320\n",
      "2022-10-18 22:44:39,934\tINFO trainable.py:597 -- Current state after restoring: {'_iteration': 320, '_timesteps_total': None, '_time_total': 16245.434670209885, '_episodes_total': 104525}\n"
     ]
    },
    {
     "name": "stdout",
     "output_type": "stream",
     "text": [
      "checkpoint-320\n"
     ]
    },
    {
     "name": "stderr",
     "output_type": "stream",
     "text": [
      "2022-10-18 22:44:40,208\tINFO trainable.py:588 -- Restored on 10.159.12.193 from checkpoint: /gpfsscratch/rech/imi/uzw47io/elias_expe/2_agents/cooperative/modified_reward/6_landmarks/naming_game_30msg_t30_a10/2022-10-17_16-01-13dqqjntxb/checkpoint_000330/checkpoint-330\n",
      "2022-10-18 22:44:40,210\tINFO trainable.py:597 -- Current state after restoring: {'_iteration': 330, '_timesteps_total': None, '_time_total': 16707.883613586426, '_episodes_total': 111673}\n"
     ]
    },
    {
     "name": "stdout",
     "output_type": "stream",
     "text": [
      "checkpoint-330\n"
     ]
    },
    {
     "name": "stderr",
     "output_type": "stream",
     "text": [
      "2022-10-18 22:44:40,483\tINFO trainable.py:588 -- Restored on 10.159.12.193 from checkpoint: /gpfsscratch/rech/imi/uzw47io/elias_expe/2_agents/cooperative/modified_reward/6_landmarks/naming_game_30msg_t30_a10/2022-10-17_16-01-13dqqjntxb/checkpoint_000340/checkpoint-340\n",
      "2022-10-18 22:44:40,484\tINFO trainable.py:597 -- Current state after restoring: {'_iteration': 340, '_timesteps_total': None, '_time_total': 17171.890023708344, '_episodes_total': 118977}\n"
     ]
    },
    {
     "name": "stdout",
     "output_type": "stream",
     "text": [
      "checkpoint-340\n"
     ]
    },
    {
     "name": "stderr",
     "output_type": "stream",
     "text": [
      "2022-10-18 22:44:40,761\tINFO trainable.py:588 -- Restored on 10.159.12.193 from checkpoint: /gpfsscratch/rech/imi/uzw47io/elias_expe/2_agents/cooperative/modified_reward/6_landmarks/naming_game_30msg_t30_a10/2022-10-17_16-01-13dqqjntxb/checkpoint_000350/checkpoint-350\n",
      "2022-10-18 22:44:40,763\tINFO trainable.py:597 -- Current state after restoring: {'_iteration': 350, '_timesteps_total': None, '_time_total': 17632.637137651443, '_episodes_total': 126461}\n"
     ]
    },
    {
     "name": "stdout",
     "output_type": "stream",
     "text": [
      "checkpoint-350\n"
     ]
    },
    {
     "name": "stderr",
     "output_type": "stream",
     "text": [
      "2022-10-18 22:44:40,963\tINFO trainable.py:588 -- Restored on 10.159.12.193 from checkpoint: /gpfsscratch/rech/imi/uzw47io/elias_expe/2_agents/cooperative/modified_reward/6_landmarks/naming_game_30msg_t30_a10/2022-10-17_16-01-13dqqjntxb/checkpoint_000360/checkpoint-360\n",
      "2022-10-18 22:44:40,966\tINFO trainable.py:597 -- Current state after restoring: {'_iteration': 360, '_timesteps_total': None, '_time_total': 18090.657535791397, '_episodes_total': 134074}\n"
     ]
    },
    {
     "name": "stdout",
     "output_type": "stream",
     "text": [
      "checkpoint-360\n"
     ]
    },
    {
     "name": "stderr",
     "output_type": "stream",
     "text": [
      "2022-10-18 22:44:41,242\tINFO trainable.py:588 -- Restored on 10.159.12.193 from checkpoint: /gpfsscratch/rech/imi/uzw47io/elias_expe/2_agents/cooperative/modified_reward/6_landmarks/naming_game_30msg_t30_a10/2022-10-17_16-01-13dqqjntxb/checkpoint_000370/checkpoint-370\n",
      "2022-10-18 22:44:41,243\tINFO trainable.py:597 -- Current state after restoring: {'_iteration': 370, '_timesteps_total': None, '_time_total': 18546.347626924515, '_episodes_total': 141761}\n"
     ]
    },
    {
     "name": "stdout",
     "output_type": "stream",
     "text": [
      "checkpoint-370\n"
     ]
    },
    {
     "name": "stderr",
     "output_type": "stream",
     "text": [
      "2022-10-18 22:44:41,722\tINFO trainable.py:588 -- Restored on 10.159.12.193 from checkpoint: /gpfsscratch/rech/imi/uzw47io/elias_expe/2_agents/cooperative/modified_reward/6_landmarks/naming_game_30msg_t30_a10/2022-10-17_16-01-13dqqjntxb/checkpoint_000380/checkpoint-380\n",
      "2022-10-18 22:44:41,722\tINFO trainable.py:597 -- Current state after restoring: {'_iteration': 380, '_timesteps_total': None, '_time_total': 19001.642100572586, '_episodes_total': 149601}\n"
     ]
    },
    {
     "name": "stdout",
     "output_type": "stream",
     "text": [
      "checkpoint-380\n"
     ]
    },
    {
     "name": "stderr",
     "output_type": "stream",
     "text": [
      "2022-10-18 22:44:41,923\tINFO trainable.py:588 -- Restored on 10.159.12.193 from checkpoint: /gpfsscratch/rech/imi/uzw47io/elias_expe/2_agents/cooperative/modified_reward/6_landmarks/naming_game_30msg_t30_a10/2022-10-17_16-01-13dqqjntxb/checkpoint_000390/checkpoint-390\n",
      "2022-10-18 22:44:41,928\tINFO trainable.py:597 -- Current state after restoring: {'_iteration': 390, '_timesteps_total': None, '_time_total': 19456.8801984787, '_episodes_total': 157360}\n"
     ]
    },
    {
     "name": "stdout",
     "output_type": "stream",
     "text": [
      "checkpoint-390\n"
     ]
    },
    {
     "name": "stderr",
     "output_type": "stream",
     "text": [
      "2022-10-18 22:44:42,202\tINFO trainable.py:588 -- Restored on 10.159.12.193 from checkpoint: /gpfsscratch/rech/imi/uzw47io/elias_expe/2_agents/cooperative/modified_reward/6_landmarks/naming_game_30msg_t30_a10/2022-10-17_16-01-13dqqjntxb/checkpoint_000400/checkpoint-400\n",
      "2022-10-18 22:44:42,203\tINFO trainable.py:597 -- Current state after restoring: {'_iteration': 400, '_timesteps_total': None, '_time_total': 19914.35753273964, '_episodes_total': 165385}\n"
     ]
    },
    {
     "name": "stdout",
     "output_type": "stream",
     "text": [
      "checkpoint-400\n"
     ]
    },
    {
     "name": "stderr",
     "output_type": "stream",
     "text": [
      "2022-10-18 22:44:42,482\tINFO trainable.py:588 -- Restored on 10.159.12.193 from checkpoint: /gpfsscratch/rech/imi/uzw47io/elias_expe/2_agents/cooperative/modified_reward/6_landmarks/naming_game_30msg_t30_a10/2022-10-17_16-01-13dqqjntxb/checkpoint_000410/checkpoint-410\n",
      "2022-10-18 22:44:42,486\tINFO trainable.py:597 -- Current state after restoring: {'_iteration': 410, '_timesteps_total': None, '_time_total': 20370.71174645424, '_episodes_total': 173094}\n"
     ]
    },
    {
     "name": "stdout",
     "output_type": "stream",
     "text": [
      "checkpoint-410\n"
     ]
    },
    {
     "name": "stderr",
     "output_type": "stream",
     "text": [
      "2022-10-18 22:44:42,759\tINFO trainable.py:588 -- Restored on 10.159.12.193 from checkpoint: /gpfsscratch/rech/imi/uzw47io/elias_expe/2_agents/cooperative/modified_reward/6_landmarks/naming_game_30msg_t30_a10/2022-10-17_16-01-13dqqjntxb/checkpoint_000420/checkpoint-420\n",
      "2022-10-18 22:44:42,760\tINFO trainable.py:597 -- Current state after restoring: {'_iteration': 420, '_timesteps_total': None, '_time_total': 20826.413417577744, '_episodes_total': 181297}\n"
     ]
    },
    {
     "name": "stdout",
     "output_type": "stream",
     "text": [
      "checkpoint-420\n"
     ]
    },
    {
     "name": "stderr",
     "output_type": "stream",
     "text": [
      "2022-10-18 22:44:42,959\tINFO trainable.py:588 -- Restored on 10.159.12.193 from checkpoint: /gpfsscratch/rech/imi/uzw47io/elias_expe/2_agents/cooperative/modified_reward/6_landmarks/naming_game_30msg_t30_a10/2022-10-17_16-01-13dqqjntxb/checkpoint_000430/checkpoint-430\n",
      "2022-10-18 22:44:42,960\tINFO trainable.py:597 -- Current state after restoring: {'_iteration': 430, '_timesteps_total': None, '_time_total': 21281.796070098877, '_episodes_total': 189469}\n"
     ]
    },
    {
     "name": "stdout",
     "output_type": "stream",
     "text": [
      "checkpoint-430\n"
     ]
    },
    {
     "name": "stderr",
     "output_type": "stream",
     "text": [
      "2022-10-18 22:44:43,163\tINFO trainable.py:588 -- Restored on 10.159.12.193 from checkpoint: /gpfsscratch/rech/imi/uzw47io/elias_expe/2_agents/cooperative/modified_reward/6_landmarks/naming_game_30msg_t30_a10/2022-10-17_16-01-13dqqjntxb/checkpoint_000440/checkpoint-440\n",
      "2022-10-18 22:44:43,169\tINFO trainable.py:597 -- Current state after restoring: {'_iteration': 440, '_timesteps_total': None, '_time_total': 21737.972167253494, '_episodes_total': 197818}\n"
     ]
    },
    {
     "name": "stdout",
     "output_type": "stream",
     "text": [
      "checkpoint-440\n"
     ]
    },
    {
     "name": "stderr",
     "output_type": "stream",
     "text": [
      "2022-10-18 22:44:43,445\tINFO trainable.py:588 -- Restored on 10.159.12.193 from checkpoint: /gpfsscratch/rech/imi/uzw47io/elias_expe/2_agents/cooperative/modified_reward/6_landmarks/naming_game_30msg_t30_a10/2022-10-17_16-01-13dqqjntxb/checkpoint_000450/checkpoint-450\n",
      "2022-10-18 22:44:43,446\tINFO trainable.py:597 -- Current state after restoring: {'_iteration': 450, '_timesteps_total': None, '_time_total': 22193.91540646553, '_episodes_total': 206203}\n"
     ]
    },
    {
     "name": "stdout",
     "output_type": "stream",
     "text": [
      "checkpoint-450\n"
     ]
    },
    {
     "name": "stderr",
     "output_type": "stream",
     "text": [
      "2022-10-18 22:44:43,713\tINFO trainable.py:588 -- Restored on 10.159.12.193 from checkpoint: /gpfsscratch/rech/imi/uzw47io/elias_expe/2_agents/cooperative/modified_reward/6_landmarks/naming_game_30msg_t30_a10/2022-10-17_16-01-13dqqjntxb/checkpoint_000460/checkpoint-460\n",
      "2022-10-18 22:44:43,714\tINFO trainable.py:597 -- Current state after restoring: {'_iteration': 460, '_timesteps_total': None, '_time_total': 22663.809248685837, '_episodes_total': 215595}\n"
     ]
    },
    {
     "name": "stdout",
     "output_type": "stream",
     "text": [
      "checkpoint-460\n"
     ]
    },
    {
     "name": "stderr",
     "output_type": "stream",
     "text": [
      "2022-10-18 22:44:43,983\tINFO trainable.py:588 -- Restored on 10.159.12.193 from checkpoint: /gpfsscratch/rech/imi/uzw47io/elias_expe/2_agents/cooperative/modified_reward/6_landmarks/naming_game_30msg_t30_a10/2022-10-17_16-01-13dqqjntxb/checkpoint_000470/checkpoint-470\n",
      "2022-10-18 22:44:43,984\tINFO trainable.py:597 -- Current state after restoring: {'_iteration': 470, '_timesteps_total': None, '_time_total': 23153.392374038696, '_episodes_total': 226769}\n"
     ]
    },
    {
     "name": "stdout",
     "output_type": "stream",
     "text": [
      "checkpoint-470\n"
     ]
    },
    {
     "name": "stderr",
     "output_type": "stream",
     "text": [
      "2022-10-18 22:44:44,203\tINFO trainable.py:588 -- Restored on 10.159.12.193 from checkpoint: /gpfsscratch/rech/imi/uzw47io/elias_expe/2_agents/cooperative/modified_reward/6_landmarks/naming_game_30msg_t30_a10/2022-10-17_16-01-13dqqjntxb/checkpoint_000480/checkpoint-480\n",
      "2022-10-18 22:44:44,204\tINFO trainable.py:597 -- Current state after restoring: {'_iteration': 480, '_timesteps_total': None, '_time_total': 23644.64689016342, '_episodes_total': 239278}\n"
     ]
    },
    {
     "name": "stdout",
     "output_type": "stream",
     "text": [
      "checkpoint-480\n"
     ]
    },
    {
     "name": "stderr",
     "output_type": "stream",
     "text": [
      "2022-10-18 22:44:44,408\tINFO trainable.py:588 -- Restored on 10.159.12.193 from checkpoint: /gpfsscratch/rech/imi/uzw47io/elias_expe/2_agents/cooperative/modified_reward/6_landmarks/naming_game_30msg_t30_a10/2022-10-17_16-01-13dqqjntxb/checkpoint_000490/checkpoint-490\n",
      "2022-10-18 22:44:44,409\tINFO trainable.py:597 -- Current state after restoring: {'_iteration': 490, '_timesteps_total': None, '_time_total': 24137.880802631378, '_episodes_total': 252359}\n"
     ]
    },
    {
     "name": "stdout",
     "output_type": "stream",
     "text": [
      "checkpoint-490\n"
     ]
    },
    {
     "name": "stderr",
     "output_type": "stream",
     "text": [
      "2022-10-18 22:44:44,686\tINFO trainable.py:588 -- Restored on 10.159.12.193 from checkpoint: /gpfsscratch/rech/imi/uzw47io/elias_expe/2_agents/cooperative/modified_reward/6_landmarks/naming_game_30msg_t30_a10/2022-10-17_16-01-13dqqjntxb/checkpoint_000500/checkpoint-500\n",
      "2022-10-18 22:44:44,686\tINFO trainable.py:597 -- Current state after restoring: {'_iteration': 500, '_timesteps_total': None, '_time_total': 24629.699470758438, '_episodes_total': 265803}\n"
     ]
    },
    {
     "name": "stdout",
     "output_type": "stream",
     "text": [
      "checkpoint-500\n"
     ]
    },
    {
     "name": "stderr",
     "output_type": "stream",
     "text": [
      "2022-10-18 22:44:44,955\tINFO trainable.py:588 -- Restored on 10.159.12.193 from checkpoint: /gpfsscratch/rech/imi/uzw47io/elias_expe/2_agents/cooperative/modified_reward/6_landmarks/naming_game_30msg_t30_a10/2022-10-17_16-01-13dqqjntxb/checkpoint_000510/checkpoint-510\n",
      "2022-10-18 22:44:44,960\tINFO trainable.py:597 -- Current state after restoring: {'_iteration': 510, '_timesteps_total': None, '_time_total': 25123.580305337906, '_episodes_total': 279528}\n"
     ]
    },
    {
     "name": "stdout",
     "output_type": "stream",
     "text": [
      "checkpoint-510\n"
     ]
    },
    {
     "name": "stderr",
     "output_type": "stream",
     "text": [
      "2022-10-18 22:44:45,159\tINFO trainable.py:588 -- Restored on 10.159.12.193 from checkpoint: /gpfsscratch/rech/imi/uzw47io/elias_expe/2_agents/cooperative/modified_reward/6_landmarks/naming_game_30msg_t30_a10/2022-10-17_16-01-13dqqjntxb/checkpoint_000520/checkpoint-520\n",
      "2022-10-18 22:44:45,163\tINFO trainable.py:597 -- Current state after restoring: {'_iteration': 520, '_timesteps_total': None, '_time_total': 25617.223092556, '_episodes_total': 293466}\n"
     ]
    },
    {
     "name": "stdout",
     "output_type": "stream",
     "text": [
      "checkpoint-520\n"
     ]
    },
    {
     "name": "stderr",
     "output_type": "stream",
     "text": [
      "2022-10-18 22:44:45,430\tINFO trainable.py:588 -- Restored on 10.159.12.193 from checkpoint: /gpfsscratch/rech/imi/uzw47io/elias_expe/2_agents/cooperative/modified_reward/6_landmarks/naming_game_30msg_t30_a10/2022-10-17_16-01-13dqqjntxb/checkpoint_000530/checkpoint-530\n",
      "2022-10-18 22:44:45,431\tINFO trainable.py:597 -- Current state after restoring: {'_iteration': 530, '_timesteps_total': None, '_time_total': 26112.215538740158, '_episodes_total': 307550}\n"
     ]
    },
    {
     "name": "stdout",
     "output_type": "stream",
     "text": [
      "checkpoint-530\n"
     ]
    },
    {
     "name": "stderr",
     "output_type": "stream",
     "text": [
      "2022-10-18 22:44:45,708\tINFO trainable.py:588 -- Restored on 10.159.12.193 from checkpoint: /gpfsscratch/rech/imi/uzw47io/elias_expe/2_agents/cooperative/modified_reward/6_landmarks/naming_game_30msg_t30_a10/2022-10-17_16-01-13dqqjntxb/checkpoint_000540/checkpoint-540\n",
      "2022-10-18 22:44:45,709\tINFO trainable.py:597 -- Current state after restoring: {'_iteration': 540, '_timesteps_total': None, '_time_total': 26606.756949663162, '_episodes_total': 321777}\n"
     ]
    },
    {
     "name": "stdout",
     "output_type": "stream",
     "text": [
      "checkpoint-540\n"
     ]
    },
    {
     "name": "stderr",
     "output_type": "stream",
     "text": [
      "2022-10-18 22:44:45,939\tINFO trainable.py:588 -- Restored on 10.159.12.193 from checkpoint: /gpfsscratch/rech/imi/uzw47io/elias_expe/2_agents/cooperative/modified_reward/6_landmarks/naming_game_30msg_t30_a10/2022-10-17_16-01-13dqqjntxb/checkpoint_000550/checkpoint-550\n",
      "2022-10-18 22:44:45,940\tINFO trainable.py:597 -- Current state after restoring: {'_iteration': 550, '_timesteps_total': None, '_time_total': 27102.387250185013, '_episodes_total': 336095}\n"
     ]
    },
    {
     "name": "stdout",
     "output_type": "stream",
     "text": [
      "checkpoint-550\n"
     ]
    },
    {
     "name": "stderr",
     "output_type": "stream",
     "text": [
      "2022-10-18 22:44:46,421\tINFO trainable.py:588 -- Restored on 10.159.12.193 from checkpoint: /gpfsscratch/rech/imi/uzw47io/elias_expe/2_agents/cooperative/modified_reward/6_landmarks/naming_game_30msg_t30_a10/2022-10-17_16-01-13dqqjntxb/checkpoint_000560/checkpoint-560\n",
      "2022-10-18 22:44:46,422\tINFO trainable.py:597 -- Current state after restoring: {'_iteration': 560, '_timesteps_total': None, '_time_total': 27597.295079231262, '_episodes_total': 350401}\n"
     ]
    },
    {
     "name": "stdout",
     "output_type": "stream",
     "text": [
      "checkpoint-560\n"
     ]
    },
    {
     "name": "stderr",
     "output_type": "stream",
     "text": [
      "2022-10-18 22:44:46,691\tINFO trainable.py:588 -- Restored on 10.159.12.193 from checkpoint: /gpfsscratch/rech/imi/uzw47io/elias_expe/2_agents/cooperative/modified_reward/6_landmarks/naming_game_30msg_t30_a10/2022-10-17_16-01-13dqqjntxb/checkpoint_000570/checkpoint-570\n",
      "2022-10-18 22:44:46,692\tINFO trainable.py:597 -- Current state after restoring: {'_iteration': 570, '_timesteps_total': None, '_time_total': 28092.18595123291, '_episodes_total': 364753}\n"
     ]
    },
    {
     "name": "stdout",
     "output_type": "stream",
     "text": [
      "checkpoint-570\n"
     ]
    },
    {
     "name": "stderr",
     "output_type": "stream",
     "text": [
      "2022-10-18 22:44:46,963\tINFO trainable.py:588 -- Restored on 10.159.12.193 from checkpoint: /gpfsscratch/rech/imi/uzw47io/elias_expe/2_agents/cooperative/modified_reward/6_landmarks/naming_game_30msg_t30_a10/2022-10-17_16-01-13dqqjntxb/checkpoint_000580/checkpoint-580\n",
      "2022-10-18 22:44:46,964\tINFO trainable.py:597 -- Current state after restoring: {'_iteration': 580, '_timesteps_total': None, '_time_total': 28586.86480975151, '_episodes_total': 379153}\n"
     ]
    },
    {
     "name": "stdout",
     "output_type": "stream",
     "text": [
      "checkpoint-580\n"
     ]
    },
    {
     "name": "stderr",
     "output_type": "stream",
     "text": [
      "2022-10-18 22:44:47,225\tINFO trainable.py:588 -- Restored on 10.159.12.193 from checkpoint: /gpfsscratch/rech/imi/uzw47io/elias_expe/2_agents/cooperative/modified_reward/6_landmarks/naming_game_30msg_t30_a10/2022-10-17_16-01-13dqqjntxb/checkpoint_000590/checkpoint-590\n",
      "2022-10-18 22:44:47,226\tINFO trainable.py:597 -- Current state after restoring: {'_iteration': 590, '_timesteps_total': None, '_time_total': 29082.32865834236, '_episodes_total': 393621}\n"
     ]
    },
    {
     "name": "stdout",
     "output_type": "stream",
     "text": [
      "checkpoint-590\n"
     ]
    },
    {
     "name": "stderr",
     "output_type": "stream",
     "text": [
      "2022-10-18 22:44:47,530\tINFO trainable.py:588 -- Restored on 10.159.12.193 from checkpoint: /gpfsscratch/rech/imi/uzw47io/elias_expe/2_agents/cooperative/modified_reward/6_landmarks/naming_game_30msg_t30_a10/2022-10-17_16-01-13dqqjntxb/checkpoint_000600/checkpoint-600\n",
      "2022-10-18 22:44:47,531\tINFO trainable.py:597 -- Current state after restoring: {'_iteration': 600, '_timesteps_total': None, '_time_total': 29577.35481595993, '_episodes_total': 408187}\n"
     ]
    },
    {
     "name": "stdout",
     "output_type": "stream",
     "text": [
      "checkpoint-600\n"
     ]
    },
    {
     "name": "stderr",
     "output_type": "stream",
     "text": [
      "2022-10-18 22:44:47,824\tINFO trainable.py:588 -- Restored on 10.159.12.193 from checkpoint: /gpfsscratch/rech/imi/uzw47io/elias_expe/2_agents/cooperative/modified_reward/6_landmarks/naming_game_30msg_t30_a10/2022-10-17_16-01-13dqqjntxb/checkpoint_000610/checkpoint-610\n",
      "2022-10-18 22:44:47,824\tINFO trainable.py:597 -- Current state after restoring: {'_iteration': 610, '_timesteps_total': None, '_time_total': 30125.209369421005, '_episodes_total': 422743}\n"
     ]
    },
    {
     "name": "stdout",
     "output_type": "stream",
     "text": [
      "checkpoint-610\n"
     ]
    },
    {
     "name": "stderr",
     "output_type": "stream",
     "text": [
      "2022-10-18 22:44:48,023\tINFO trainable.py:588 -- Restored on 10.159.12.193 from checkpoint: /gpfsscratch/rech/imi/uzw47io/elias_expe/2_agents/cooperative/modified_reward/6_landmarks/naming_game_30msg_t30_a10/2022-10-17_16-01-13dqqjntxb/checkpoint_000620/checkpoint-620\n",
      "2022-10-18 22:44:48,029\tINFO trainable.py:597 -- Current state after restoring: {'_iteration': 620, '_timesteps_total': None, '_time_total': 30620.97071290016, '_episodes_total': 437320}\n"
     ]
    },
    {
     "name": "stdout",
     "output_type": "stream",
     "text": [
      "checkpoint-620\n"
     ]
    },
    {
     "name": "stderr",
     "output_type": "stream",
     "text": [
      "2022-10-18 22:44:48,300\tINFO trainable.py:588 -- Restored on 10.159.12.193 from checkpoint: /gpfsscratch/rech/imi/uzw47io/elias_expe/2_agents/cooperative/modified_reward/6_landmarks/naming_game_30msg_t30_a10/2022-10-17_16-01-13dqqjntxb/checkpoint_000630/checkpoint-630\n",
      "2022-10-18 22:44:48,301\tINFO trainable.py:597 -- Current state after restoring: {'_iteration': 630, '_timesteps_total': None, '_time_total': 31115.577355623245, '_episodes_total': 451876}\n"
     ]
    },
    {
     "name": "stdout",
     "output_type": "stream",
     "text": [
      "checkpoint-630\n"
     ]
    },
    {
     "name": "stderr",
     "output_type": "stream",
     "text": [
      "2022-10-18 22:44:48,572\tINFO trainable.py:588 -- Restored on 10.159.12.193 from checkpoint: /gpfsscratch/rech/imi/uzw47io/elias_expe/2_agents/cooperative/modified_reward/6_landmarks/naming_game_30msg_t30_a10/2022-10-17_16-01-13dqqjntxb/checkpoint_000640/checkpoint-640\n",
      "2022-10-18 22:44:48,574\tINFO trainable.py:597 -- Current state after restoring: {'_iteration': 640, '_timesteps_total': None, '_time_total': 31611.009486198425, '_episodes_total': 466585}\n"
     ]
    },
    {
     "name": "stdout",
     "output_type": "stream",
     "text": [
      "checkpoint-640\n"
     ]
    },
    {
     "name": "stderr",
     "output_type": "stream",
     "text": [
      "2022-10-18 22:44:48,811\tINFO trainable.py:588 -- Restored on 10.159.12.193 from checkpoint: /gpfsscratch/rech/imi/uzw47io/elias_expe/2_agents/cooperative/modified_reward/6_landmarks/naming_game_30msg_t30_a10/2022-10-17_16-01-13dqqjntxb/checkpoint_000650/checkpoint-650\n",
      "2022-10-18 22:44:48,813\tINFO trainable.py:597 -- Current state after restoring: {'_iteration': 650, '_timesteps_total': None, '_time_total': 32105.822902202606, '_episodes_total': 481271}\n"
     ]
    },
    {
     "name": "stdout",
     "output_type": "stream",
     "text": [
      "checkpoint-650\n"
     ]
    },
    {
     "name": "stderr",
     "output_type": "stream",
     "text": [
      "2022-10-18 22:44:49,080\tINFO trainable.py:588 -- Restored on 10.159.12.193 from checkpoint: /gpfsscratch/rech/imi/uzw47io/elias_expe/2_agents/cooperative/modified_reward/6_landmarks/naming_game_30msg_t30_a10/2022-10-17_16-01-13dqqjntxb/checkpoint_000660/checkpoint-660\n",
      "2022-10-18 22:44:49,081\tINFO trainable.py:597 -- Current state after restoring: {'_iteration': 660, '_timesteps_total': None, '_time_total': 32600.216778993607, '_episodes_total': 495953}\n"
     ]
    },
    {
     "name": "stdout",
     "output_type": "stream",
     "text": [
      "checkpoint-660\n"
     ]
    },
    {
     "name": "stderr",
     "output_type": "stream",
     "text": [
      "2022-10-18 22:44:49,355\tINFO trainable.py:588 -- Restored on 10.159.12.193 from checkpoint: /gpfsscratch/rech/imi/uzw47io/elias_expe/2_agents/cooperative/modified_reward/6_landmarks/naming_game_30msg_t30_a10/2022-10-17_16-01-13dqqjntxb/checkpoint_000670/checkpoint-670\n",
      "2022-10-18 22:44:49,355\tINFO trainable.py:597 -- Current state after restoring: {'_iteration': 670, '_timesteps_total': None, '_time_total': 33094.92776918411, '_episodes_total': 510659}\n"
     ]
    },
    {
     "name": "stdout",
     "output_type": "stream",
     "text": [
      "checkpoint-670\n"
     ]
    },
    {
     "name": "stderr",
     "output_type": "stream",
     "text": [
      "2022-10-18 22:44:49,562\tINFO trainable.py:588 -- Restored on 10.159.12.193 from checkpoint: /gpfsscratch/rech/imi/uzw47io/elias_expe/2_agents/cooperative/modified_reward/6_landmarks/naming_game_30msg_t30_a10/2022-10-17_16-01-13dqqjntxb/checkpoint_000680/checkpoint-680\n",
      "2022-10-18 22:44:49,563\tINFO trainable.py:597 -- Current state after restoring: {'_iteration': 680, '_timesteps_total': None, '_time_total': 33590.61056661606, '_episodes_total': 525427}\n"
     ]
    },
    {
     "name": "stdout",
     "output_type": "stream",
     "text": [
      "checkpoint-680\n"
     ]
    },
    {
     "name": "stderr",
     "output_type": "stream",
     "text": [
      "2022-10-18 22:44:49,842\tINFO trainable.py:588 -- Restored on 10.159.12.193 from checkpoint: /gpfsscratch/rech/imi/uzw47io/elias_expe/2_agents/cooperative/modified_reward/6_landmarks/naming_game_30msg_t30_a10/2022-10-17_16-01-13dqqjntxb/checkpoint_000690/checkpoint-690\n",
      "2022-10-18 22:44:49,842\tINFO trainable.py:597 -- Current state after restoring: {'_iteration': 690, '_timesteps_total': None, '_time_total': 34085.81555342674, '_episodes_total': 540180}\n"
     ]
    },
    {
     "name": "stdout",
     "output_type": "stream",
     "text": [
      "checkpoint-690\n"
     ]
    },
    {
     "name": "stderr",
     "output_type": "stream",
     "text": [
      "2022-10-18 22:44:50,049\tINFO trainable.py:588 -- Restored on 10.159.12.193 from checkpoint: /gpfsscratch/rech/imi/uzw47io/elias_expe/2_agents/cooperative/modified_reward/6_landmarks/naming_game_30msg_t30_a10/2022-10-17_16-01-13dqqjntxb/checkpoint_000700/checkpoint-700\n",
      "2022-10-18 22:44:50,049\tINFO trainable.py:597 -- Current state after restoring: {'_iteration': 700, '_timesteps_total': None, '_time_total': 34580.83529376984, '_episodes_total': 554897}\n"
     ]
    },
    {
     "name": "stdout",
     "output_type": "stream",
     "text": [
      "checkpoint-700\n"
     ]
    },
    {
     "name": "stderr",
     "output_type": "stream",
     "text": [
      "2022-10-18 22:44:50,313\tINFO trainable.py:588 -- Restored on 10.159.12.193 from checkpoint: /gpfsscratch/rech/imi/uzw47io/elias_expe/2_agents/cooperative/modified_reward/6_landmarks/naming_game_30msg_t30_a10/2022-10-17_16-01-13dqqjntxb/checkpoint_000710/checkpoint-710\n",
      "2022-10-18 22:44:50,314\tINFO trainable.py:597 -- Current state after restoring: {'_iteration': 710, '_timesteps_total': None, '_time_total': 35075.8815202713, '_episodes_total': 569714}\n"
     ]
    },
    {
     "name": "stdout",
     "output_type": "stream",
     "text": [
      "checkpoint-710\n"
     ]
    },
    {
     "name": "stderr",
     "output_type": "stream",
     "text": [
      "2022-10-18 22:44:50,588\tINFO trainable.py:588 -- Restored on 10.159.12.193 from checkpoint: /gpfsscratch/rech/imi/uzw47io/elias_expe/2_agents/cooperative/modified_reward/6_landmarks/naming_game_30msg_t30_a10/2022-10-17_16-01-13dqqjntxb/checkpoint_000720/checkpoint-720\n",
      "2022-10-18 22:44:50,589\tINFO trainable.py:597 -- Current state after restoring: {'_iteration': 720, '_timesteps_total': None, '_time_total': 35571.15254831314, '_episodes_total': 584516}\n"
     ]
    },
    {
     "name": "stdout",
     "output_type": "stream",
     "text": [
      "checkpoint-720\n"
     ]
    },
    {
     "name": "stderr",
     "output_type": "stream",
     "text": [
      "2022-10-18 22:44:51,077\tINFO trainable.py:588 -- Restored on 10.159.12.193 from checkpoint: /gpfsscratch/rech/imi/uzw47io/elias_expe/2_agents/cooperative/modified_reward/6_landmarks/naming_game_30msg_t30_a10/2022-10-17_16-01-13dqqjntxb/checkpoint_000730/checkpoint-730\n",
      "2022-10-18 22:44:51,077\tINFO trainable.py:597 -- Current state after restoring: {'_iteration': 730, '_timesteps_total': None, '_time_total': 36066.07223582268, '_episodes_total': 599337}\n"
     ]
    },
    {
     "name": "stdout",
     "output_type": "stream",
     "text": [
      "checkpoint-730\n"
     ]
    },
    {
     "name": "stderr",
     "output_type": "stream",
     "text": [
      "2022-10-18 22:44:51,353\tINFO trainable.py:588 -- Restored on 10.159.12.193 from checkpoint: /gpfsscratch/rech/imi/uzw47io/elias_expe/2_agents/cooperative/modified_reward/6_landmarks/naming_game_30msg_t30_a10/2022-10-17_16-01-13dqqjntxb/checkpoint_000740/checkpoint-740\n",
      "2022-10-18 22:44:51,355\tINFO trainable.py:597 -- Current state after restoring: {'_iteration': 740, '_timesteps_total': None, '_time_total': 36561.27767658234, '_episodes_total': 614149}\n"
     ]
    },
    {
     "name": "stdout",
     "output_type": "stream",
     "text": [
      "checkpoint-740\n"
     ]
    },
    {
     "name": "stderr",
     "output_type": "stream",
     "text": [
      "2022-10-18 22:44:51,621\tINFO trainable.py:588 -- Restored on 10.159.12.193 from checkpoint: /gpfsscratch/rech/imi/uzw47io/elias_expe/2_agents/cooperative/modified_reward/6_landmarks/naming_game_30msg_t30_a10/2022-10-17_16-01-13dqqjntxb/checkpoint_000750/checkpoint-750\n",
      "2022-10-18 22:44:51,622\tINFO trainable.py:597 -- Current state after restoring: {'_iteration': 750, '_timesteps_total': None, '_time_total': 37057.77058792114, '_episodes_total': 629011}\n"
     ]
    },
    {
     "name": "stdout",
     "output_type": "stream",
     "text": [
      "checkpoint-750\n"
     ]
    },
    {
     "name": "stderr",
     "output_type": "stream",
     "text": [
      "2022-10-18 22:44:51,819\tINFO trainable.py:588 -- Restored on 10.159.12.193 from checkpoint: /gpfsscratch/rech/imi/uzw47io/elias_expe/2_agents/cooperative/modified_reward/6_landmarks/naming_game_30msg_t30_a10/2022-10-17_16-01-13dqqjntxb/checkpoint_000760/checkpoint-760\n",
      "2022-10-18 22:44:51,820\tINFO trainable.py:597 -- Current state after restoring: {'_iteration': 760, '_timesteps_total': None, '_time_total': 37553.80152750015, '_episodes_total': 643809}\n"
     ]
    },
    {
     "name": "stdout",
     "output_type": "stream",
     "text": [
      "checkpoint-760\n",
      "checkpoint-770\n"
     ]
    },
    {
     "name": "stderr",
     "output_type": "stream",
     "text": [
      "2022-10-18 22:44:52,089\tINFO trainable.py:588 -- Restored on 10.159.12.193 from checkpoint: /gpfsscratch/rech/imi/uzw47io/elias_expe/2_agents/cooperative/modified_reward/6_landmarks/naming_game_30msg_t30_a10/2022-10-17_16-01-13dqqjntxb/checkpoint_000770/checkpoint-770\n",
      "2022-10-18 22:44:52,090\tINFO trainable.py:597 -- Current state after restoring: {'_iteration': 770, '_timesteps_total': None, '_time_total': 38049.976702690125, '_episodes_total': 658567}\n",
      "2022-10-18 22:44:52,324\tINFO trainable.py:588 -- Restored on 10.159.12.193 from checkpoint: /gpfsscratch/rech/imi/uzw47io/elias_expe/2_agents/cooperative/modified_reward/6_landmarks/naming_game_30msg_t30_a10/2022-10-17_16-01-13dqqjntxb/checkpoint_000780/checkpoint-780\n",
      "2022-10-18 22:44:52,325\tINFO trainable.py:597 -- Current state after restoring: {'_iteration': 780, '_timesteps_total': None, '_time_total': 38544.77285528183, '_episodes_total': 673324}\n"
     ]
    },
    {
     "name": "stdout",
     "output_type": "stream",
     "text": [
      "checkpoint-780\n"
     ]
    },
    {
     "name": "stderr",
     "output_type": "stream",
     "text": [
      "2022-10-18 22:44:52,522\tINFO trainable.py:588 -- Restored on 10.159.12.193 from checkpoint: /gpfsscratch/rech/imi/uzw47io/elias_expe/2_agents/cooperative/modified_reward/6_landmarks/naming_game_30msg_t30_a10/2022-10-17_16-01-13dqqjntxb/checkpoint_000790/checkpoint-790\n",
      "2022-10-18 22:44:52,525\tINFO trainable.py:597 -- Current state after restoring: {'_iteration': 790, '_timesteps_total': None, '_time_total': 39039.26917910576, '_episodes_total': 688178}\n"
     ]
    },
    {
     "name": "stdout",
     "output_type": "stream",
     "text": [
      "checkpoint-790\n",
      "checkpoint-800\n"
     ]
    },
    {
     "name": "stderr",
     "output_type": "stream",
     "text": [
      "2022-10-18 22:44:52,798\tINFO trainable.py:588 -- Restored on 10.159.12.193 from checkpoint: /gpfsscratch/rech/imi/uzw47io/elias_expe/2_agents/cooperative/modified_reward/6_landmarks/naming_game_30msg_t30_a10/2022-10-17_16-01-13dqqjntxb/checkpoint_000800/checkpoint-800\n",
      "2022-10-18 22:44:52,799\tINFO trainable.py:597 -- Current state after restoring: {'_iteration': 800, '_timesteps_total': None, '_time_total': 39535.39530444145, '_episodes_total': 703059}\n",
      "2022-10-18 22:44:53,072\tINFO trainable.py:588 -- Restored on 10.159.12.193 from checkpoint: /gpfsscratch/rech/imi/uzw47io/elias_expe/2_agents/cooperative/modified_reward/6_landmarks/naming_game_30msg_t30_a10/2022-10-17_16-01-13dqqjntxb/checkpoint_000810/checkpoint-810\n",
      "2022-10-18 22:44:53,072\tINFO trainable.py:597 -- Current state after restoring: {'_iteration': 810, '_timesteps_total': None, '_time_total': 40031.140689373016, '_episodes_total': 717924}\n"
     ]
    },
    {
     "name": "stdout",
     "output_type": "stream",
     "text": [
      "checkpoint-810\n"
     ]
    },
    {
     "name": "stderr",
     "output_type": "stream",
     "text": [
      "2022-10-18 22:44:53,338\tINFO trainable.py:588 -- Restored on 10.159.12.193 from checkpoint: /gpfsscratch/rech/imi/uzw47io/elias_expe/2_agents/cooperative/modified_reward/6_landmarks/naming_game_30msg_t30_a10/2022-10-17_16-01-13dqqjntxb/checkpoint_000820/checkpoint-820\n",
      "2022-10-18 22:44:53,340\tINFO trainable.py:597 -- Current state after restoring: {'_iteration': 820, '_timesteps_total': None, '_time_total': 40531.12103700638, '_episodes_total': 732788}\n"
     ]
    },
    {
     "name": "stdout",
     "output_type": "stream",
     "text": [
      "checkpoint-820\n"
     ]
    },
    {
     "name": "stderr",
     "output_type": "stream",
     "text": [
      "2022-10-18 22:44:53,613\tINFO trainable.py:588 -- Restored on 10.159.12.193 from checkpoint: /gpfsscratch/rech/imi/uzw47io/elias_expe/2_agents/cooperative/modified_reward/6_landmarks/naming_game_30msg_t30_a10/2022-10-17_16-01-13dqqjntxb/checkpoint_000830/checkpoint-830\n",
      "2022-10-18 22:44:53,615\tINFO trainable.py:597 -- Current state after restoring: {'_iteration': 830, '_timesteps_total': None, '_time_total': 41026.735517024994, '_episodes_total': 747717}\n"
     ]
    },
    {
     "name": "stdout",
     "output_type": "stream",
     "text": [
      "checkpoint-830\n"
     ]
    },
    {
     "name": "stderr",
     "output_type": "stream",
     "text": [
      "2022-10-18 22:44:53,887\tINFO trainable.py:588 -- Restored on 10.159.12.193 from checkpoint: /gpfsscratch/rech/imi/uzw47io/elias_expe/2_agents/cooperative/modified_reward/6_landmarks/naming_game_30msg_t30_a10/2022-10-17_16-01-13dqqjntxb/checkpoint_000840/checkpoint-840\n",
      "2022-10-18 22:44:53,888\tINFO trainable.py:597 -- Current state after restoring: {'_iteration': 840, '_timesteps_total': None, '_time_total': 41522.42910528183, '_episodes_total': 762684}\n"
     ]
    },
    {
     "name": "stdout",
     "output_type": "stream",
     "text": [
      "checkpoint-840\n"
     ]
    },
    {
     "name": "stderr",
     "output_type": "stream",
     "text": [
      "2022-10-18 22:44:54,106\tINFO trainable.py:588 -- Restored on 10.159.12.193 from checkpoint: /gpfsscratch/rech/imi/uzw47io/elias_expe/2_agents/cooperative/modified_reward/6_landmarks/naming_game_30msg_t30_a10/2022-10-17_16-01-13dqqjntxb/checkpoint_000850/checkpoint-850\n",
      "2022-10-18 22:44:54,110\tINFO trainable.py:597 -- Current state after restoring: {'_iteration': 850, '_timesteps_total': None, '_time_total': 42017.53998374939, '_episodes_total': 777636}\n"
     ]
    },
    {
     "name": "stdout",
     "output_type": "stream",
     "text": [
      "checkpoint-850\n"
     ]
    },
    {
     "name": "stderr",
     "output_type": "stream",
     "text": [
      "2022-10-18 22:44:54,320\tINFO trainable.py:588 -- Restored on 10.159.12.193 from checkpoint: /gpfsscratch/rech/imi/uzw47io/elias_expe/2_agents/cooperative/modified_reward/6_landmarks/naming_game_30msg_t30_a10/2022-10-17_16-01-13dqqjntxb/checkpoint_000860/checkpoint-860\n",
      "2022-10-18 22:44:54,320\tINFO trainable.py:597 -- Current state after restoring: {'_iteration': 860, '_timesteps_total': None, '_time_total': 42512.83485364914, '_episodes_total': 792599}\n"
     ]
    },
    {
     "name": "stdout",
     "output_type": "stream",
     "text": [
      "checkpoint-860\n"
     ]
    },
    {
     "name": "stderr",
     "output_type": "stream",
     "text": [
      "2022-10-18 22:44:54,617\tINFO trainable.py:588 -- Restored on 10.159.12.193 from checkpoint: /gpfsscratch/rech/imi/uzw47io/elias_expe/2_agents/cooperative/modified_reward/6_landmarks/naming_game_30msg_t30_a10/2022-10-17_16-01-13dqqjntxb/checkpoint_000870/checkpoint-870\n",
      "2022-10-18 22:44:54,620\tINFO trainable.py:597 -- Current state after restoring: {'_iteration': 870, '_timesteps_total': None, '_time_total': 43008.792739868164, '_episodes_total': 807543}\n"
     ]
    },
    {
     "name": "stdout",
     "output_type": "stream",
     "text": [
      "checkpoint-870\n"
     ]
    },
    {
     "name": "stderr",
     "output_type": "stream",
     "text": [
      "2022-10-18 22:44:54,831\tINFO trainable.py:588 -- Restored on 10.159.12.193 from checkpoint: /gpfsscratch/rech/imi/uzw47io/elias_expe/2_agents/cooperative/modified_reward/6_landmarks/naming_game_30msg_t30_a10/2022-10-17_16-01-13dqqjntxb/checkpoint_000880/checkpoint-880\n",
      "2022-10-18 22:44:54,832\tINFO trainable.py:597 -- Current state after restoring: {'_iteration': 880, '_timesteps_total': None, '_time_total': 43504.087676763535, '_episodes_total': 822456}\n"
     ]
    },
    {
     "name": "stdout",
     "output_type": "stream",
     "text": [
      "checkpoint-880\n"
     ]
    },
    {
     "name": "stderr",
     "output_type": "stream",
     "text": [
      "2022-10-18 22:44:55,037\tINFO trainable.py:588 -- Restored on 10.159.12.193 from checkpoint: /gpfsscratch/rech/imi/uzw47io/elias_expe/2_agents/cooperative/modified_reward/6_landmarks/naming_game_30msg_t30_a10/2022-10-17_16-01-13dqqjntxb/checkpoint_000890/checkpoint-890\n",
      "2022-10-18 22:44:55,041\tINFO trainable.py:597 -- Current state after restoring: {'_iteration': 890, '_timesteps_total': None, '_time_total': 43999.61808490753, '_episodes_total': 837372}\n"
     ]
    },
    {
     "name": "stdout",
     "output_type": "stream",
     "text": [
      "checkpoint-890\n"
     ]
    },
    {
     "name": "stderr",
     "output_type": "stream",
     "text": [
      "2022-10-18 22:44:55,315\tINFO trainable.py:588 -- Restored on 10.159.12.193 from checkpoint: /gpfsscratch/rech/imi/uzw47io/elias_expe/2_agents/cooperative/modified_reward/6_landmarks/naming_game_30msg_t30_a10/2022-10-17_16-01-13dqqjntxb/checkpoint_000900/checkpoint-900\n",
      "2022-10-18 22:44:55,316\tINFO trainable.py:597 -- Current state after restoring: {'_iteration': 900, '_timesteps_total': None, '_time_total': 44494.98359489441, '_episodes_total': 852328}\n"
     ]
    },
    {
     "name": "stdout",
     "output_type": "stream",
     "text": [
      "checkpoint-900\n"
     ]
    },
    {
     "name": "stderr",
     "output_type": "stream",
     "text": [
      "2022-10-18 22:44:55,732\tINFO trainable.py:588 -- Restored on 10.159.12.193 from checkpoint: /gpfsscratch/rech/imi/uzw47io/elias_expe/2_agents/cooperative/modified_reward/6_landmarks/naming_game_30msg_t30_a10/2022-10-17_16-01-13dqqjntxb/checkpoint_000910/checkpoint-910\n",
      "2022-10-18 22:44:55,732\tINFO trainable.py:597 -- Current state after restoring: {'_iteration': 910, '_timesteps_total': None, '_time_total': 44990.23669028282, '_episodes_total': 867295}\n"
     ]
    },
    {
     "name": "stdout",
     "output_type": "stream",
     "text": [
      "checkpoint-910\n"
     ]
    },
    {
     "name": "stderr",
     "output_type": "stream",
     "text": [
      "2022-10-18 22:44:56,003\tINFO trainable.py:588 -- Restored on 10.159.12.193 from checkpoint: /gpfsscratch/rech/imi/uzw47io/elias_expe/2_agents/cooperative/modified_reward/6_landmarks/naming_game_30msg_t30_a10/2022-10-17_16-01-13dqqjntxb/checkpoint_000920/checkpoint-920\n",
      "2022-10-18 22:44:56,008\tINFO trainable.py:597 -- Current state after restoring: {'_iteration': 920, '_timesteps_total': None, '_time_total': 45486.60538864136, '_episodes_total': 882274}\n"
     ]
    },
    {
     "name": "stdout",
     "output_type": "stream",
     "text": [
      "checkpoint-920\n"
     ]
    },
    {
     "name": "stderr",
     "output_type": "stream",
     "text": [
      "2022-10-18 22:44:56,210\tINFO trainable.py:588 -- Restored on 10.159.12.193 from checkpoint: /gpfsscratch/rech/imi/uzw47io/elias_expe/2_agents/cooperative/modified_reward/6_landmarks/naming_game_30msg_t30_a10/2022-10-17_16-01-13dqqjntxb/checkpoint_000930/checkpoint-930\n",
      "2022-10-18 22:44:56,212\tINFO trainable.py:597 -- Current state after restoring: {'_iteration': 930, '_timesteps_total': None, '_time_total': 45981.3763988018, '_episodes_total': 897229}\n"
     ]
    },
    {
     "name": "stdout",
     "output_type": "stream",
     "text": [
      "checkpoint-930\n"
     ]
    },
    {
     "name": "stderr",
     "output_type": "stream",
     "text": [
      "2022-10-18 22:44:56,471\tINFO trainable.py:588 -- Restored on 10.159.12.193 from checkpoint: /gpfsscratch/rech/imi/uzw47io/elias_expe/2_agents/cooperative/modified_reward/6_landmarks/naming_game_30msg_t30_a10/2022-10-17_16-01-13dqqjntxb/checkpoint_000940/checkpoint-940\n",
      "2022-10-18 22:44:56,472\tINFO trainable.py:597 -- Current state after restoring: {'_iteration': 940, '_timesteps_total': None, '_time_total': 46477.09857439995, '_episodes_total': 912223}\n"
     ]
    },
    {
     "name": "stdout",
     "output_type": "stream",
     "text": [
      "checkpoint-940\n"
     ]
    },
    {
     "name": "stderr",
     "output_type": "stream",
     "text": [
      "2022-10-18 22:44:56,744\tINFO trainable.py:588 -- Restored on 10.159.12.193 from checkpoint: /gpfsscratch/rech/imi/uzw47io/elias_expe/2_agents/cooperative/modified_reward/6_landmarks/naming_game_30msg_t30_a10/2022-10-17_16-01-13dqqjntxb/checkpoint_000950/checkpoint-950\n",
      "2022-10-18 22:44:56,746\tINFO trainable.py:597 -- Current state after restoring: {'_iteration': 950, '_timesteps_total': None, '_time_total': 46972.00146603584, '_episodes_total': 927215}\n"
     ]
    },
    {
     "name": "stdout",
     "output_type": "stream",
     "text": [
      "checkpoint-950\n"
     ]
    },
    {
     "name": "stderr",
     "output_type": "stream",
     "text": [
      "2022-10-18 22:44:57,008\tINFO trainable.py:588 -- Restored on 10.159.12.193 from checkpoint: /gpfsscratch/rech/imi/uzw47io/elias_expe/2_agents/cooperative/modified_reward/6_landmarks/naming_game_30msg_t30_a10/2022-10-17_16-01-13dqqjntxb/checkpoint_000960/checkpoint-960\n",
      "2022-10-18 22:44:57,009\tINFO trainable.py:597 -- Current state after restoring: {'_iteration': 960, '_timesteps_total': None, '_time_total': 47466.35207390785, '_episodes_total': 942160}\n"
     ]
    },
    {
     "name": "stdout",
     "output_type": "stream",
     "text": [
      "checkpoint-960\n"
     ]
    },
    {
     "name": "stderr",
     "output_type": "stream",
     "text": [
      "2022-10-18 22:44:57,279\tINFO trainable.py:588 -- Restored on 10.159.12.193 from checkpoint: /gpfsscratch/rech/imi/uzw47io/elias_expe/2_agents/cooperative/modified_reward/6_landmarks/naming_game_30msg_t30_a10/2022-10-17_16-01-13dqqjntxb/checkpoint_000970/checkpoint-970\n",
      "2022-10-18 22:44:57,281\tINFO trainable.py:597 -- Current state after restoring: {'_iteration': 970, '_timesteps_total': None, '_time_total': 47961.33977437019, '_episodes_total': 957200}\n"
     ]
    },
    {
     "name": "stdout",
     "output_type": "stream",
     "text": [
      "checkpoint-970\n"
     ]
    },
    {
     "name": "stderr",
     "output_type": "stream",
     "text": [
      "2022-10-18 22:44:57,550\tINFO trainable.py:588 -- Restored on 10.159.12.193 from checkpoint: /gpfsscratch/rech/imi/uzw47io/elias_expe/2_agents/cooperative/modified_reward/6_landmarks/naming_game_30msg_t30_a10/2022-10-17_16-01-13dqqjntxb/checkpoint_000980/checkpoint-980\n",
      "2022-10-18 22:44:57,551\tINFO trainable.py:597 -- Current state after restoring: {'_iteration': 980, '_timesteps_total': None, '_time_total': 48456.50708055496, '_episodes_total': 972180}\n"
     ]
    },
    {
     "name": "stdout",
     "output_type": "stream",
     "text": [
      "checkpoint-980\n"
     ]
    },
    {
     "name": "stderr",
     "output_type": "stream",
     "text": [
      "2022-10-18 22:44:57,820\tINFO trainable.py:588 -- Restored on 10.159.12.193 from checkpoint: /gpfsscratch/rech/imi/uzw47io/elias_expe/2_agents/cooperative/modified_reward/6_landmarks/naming_game_30msg_t30_a10/2022-10-17_16-01-13dqqjntxb/checkpoint_000990/checkpoint-990\n",
      "2022-10-18 22:44:57,822\tINFO trainable.py:597 -- Current state after restoring: {'_iteration': 990, '_timesteps_total': None, '_time_total': 48951.163098335266, '_episodes_total': 987168}\n"
     ]
    },
    {
     "name": "stdout",
     "output_type": "stream",
     "text": [
      "checkpoint-990\n"
     ]
    },
    {
     "name": "stderr",
     "output_type": "stream",
     "text": [
      "2022-10-18 22:44:58,087\tINFO trainable.py:588 -- Restored on 10.159.12.193 from checkpoint: /gpfsscratch/rech/imi/uzw47io/elias_expe/2_agents/cooperative/modified_reward/6_landmarks/naming_game_30msg_t30_a10/2022-10-17_16-01-13dqqjntxb/checkpoint_001000/checkpoint-1000\n",
      "2022-10-18 22:44:58,089\tINFO trainable.py:597 -- Current state after restoring: {'_iteration': 1000, '_timesteps_total': None, '_time_total': 49446.28534078598, '_episodes_total': 1002198}\n"
     ]
    },
    {
     "name": "stdout",
     "output_type": "stream",
     "text": [
      "checkpoint-1000\n"
     ]
    },
    {
     "name": "stderr",
     "output_type": "stream",
     "text": [
      "2022-10-18 22:44:58,360\tINFO trainable.py:588 -- Restored on 10.159.12.193 from checkpoint: /gpfsscratch/rech/imi/uzw47io/elias_expe/2_agents/cooperative/modified_reward/6_landmarks/naming_game_30msg_t30_a10/2022-10-17_16-01-13dqqjntxb/checkpoint_001010/checkpoint-1010\n",
      "2022-10-18 22:44:58,360\tINFO trainable.py:597 -- Current state after restoring: {'_iteration': 1010, '_timesteps_total': None, '_time_total': 49942.35276198387, '_episodes_total': 1017233}\n"
     ]
    },
    {
     "name": "stdout",
     "output_type": "stream",
     "text": [
      "checkpoint-1010\n"
     ]
    },
    {
     "name": "stderr",
     "output_type": "stream",
     "text": [
      "2022-10-18 22:44:58,604\tINFO trainable.py:588 -- Restored on 10.159.12.193 from checkpoint: /gpfsscratch/rech/imi/uzw47io/elias_expe/2_agents/cooperative/modified_reward/6_landmarks/naming_game_30msg_t30_a10/2022-10-17_16-01-13dqqjntxb/checkpoint_001020/checkpoint-1020\n",
      "2022-10-18 22:44:58,605\tINFO trainable.py:597 -- Current state after restoring: {'_iteration': 1020, '_timesteps_total': None, '_time_total': 50437.82317566872, '_episodes_total': 1032169}\n"
     ]
    },
    {
     "name": "stdout",
     "output_type": "stream",
     "text": [
      "checkpoint-1020\n"
     ]
    },
    {
     "name": "stderr",
     "output_type": "stream",
     "text": [
      "2022-10-18 22:44:58,843\tINFO trainable.py:588 -- Restored on 10.159.12.193 from checkpoint: /gpfsscratch/rech/imi/uzw47io/elias_expe/2_agents/cooperative/modified_reward/6_landmarks/naming_game_30msg_t30_a10/2022-10-17_16-01-13dqqjntxb/checkpoint_001030/checkpoint-1030\n",
      "2022-10-18 22:44:58,843\tINFO trainable.py:597 -- Current state after restoring: {'_iteration': 1030, '_timesteps_total': None, '_time_total': 50934.20672893524, '_episodes_total': 1047203}\n"
     ]
    },
    {
     "name": "stdout",
     "output_type": "stream",
     "text": [
      "checkpoint-1030\n"
     ]
    },
    {
     "name": "stderr",
     "output_type": "stream",
     "text": [
      "2022-10-18 22:44:59,113\tINFO trainable.py:588 -- Restored on 10.159.12.193 from checkpoint: /gpfsscratch/rech/imi/uzw47io/elias_expe/2_agents/cooperative/modified_reward/6_landmarks/naming_game_30msg_t30_a10/2022-10-17_16-01-13dqqjntxb/checkpoint_001040/checkpoint-1040\n",
      "2022-10-18 22:44:59,117\tINFO trainable.py:597 -- Current state after restoring: {'_iteration': 1040, '_timesteps_total': None, '_time_total': 51429.99682235718, '_episodes_total': 1062237}\n"
     ]
    },
    {
     "name": "stdout",
     "output_type": "stream",
     "text": [
      "checkpoint-1040\n"
     ]
    },
    {
     "name": "stderr",
     "output_type": "stream",
     "text": [
      "2022-10-18 22:44:59,397\tINFO trainable.py:588 -- Restored on 10.159.12.193 from checkpoint: /gpfsscratch/rech/imi/uzw47io/elias_expe/2_agents/cooperative/modified_reward/6_landmarks/naming_game_30msg_t30_a10/2022-10-17_16-01-13dqqjntxb/checkpoint_001050/checkpoint-1050\n",
      "2022-10-18 22:44:59,398\tINFO trainable.py:597 -- Current state after restoring: {'_iteration': 1050, '_timesteps_total': None, '_time_total': 51925.62357187271, '_episodes_total': 1077248}\n"
     ]
    },
    {
     "name": "stdout",
     "output_type": "stream",
     "text": [
      "checkpoint-1050\n"
     ]
    },
    {
     "name": "stderr",
     "output_type": "stream",
     "text": [
      "2022-10-18 22:44:59,605\tINFO trainable.py:588 -- Restored on 10.159.12.193 from checkpoint: /gpfsscratch/rech/imi/uzw47io/elias_expe/2_agents/cooperative/modified_reward/6_landmarks/naming_game_30msg_t30_a10/2022-10-17_16-01-13dqqjntxb/checkpoint_001060/checkpoint-1060\n",
      "2022-10-18 22:44:59,605\tINFO trainable.py:597 -- Current state after restoring: {'_iteration': 1060, '_timesteps_total': None, '_time_total': 52421.18560004234, '_episodes_total': 1092232}\n"
     ]
    },
    {
     "name": "stdout",
     "output_type": "stream",
     "text": [
      "checkpoint-1060\n"
     ]
    },
    {
     "name": "stderr",
     "output_type": "stream",
     "text": [
      "2022-10-18 22:44:59,881\tINFO trainable.py:588 -- Restored on 10.159.12.193 from checkpoint: /gpfsscratch/rech/imi/uzw47io/elias_expe/2_agents/cooperative/modified_reward/6_landmarks/naming_game_30msg_t30_a10/2022-10-17_16-01-13dqqjntxb/checkpoint_001070/checkpoint-1070\n",
      "2022-10-18 22:44:59,881\tINFO trainable.py:597 -- Current state after restoring: {'_iteration': 1070, '_timesteps_total': None, '_time_total': 52917.872151851654, '_episodes_total': 1107255}\n"
     ]
    },
    {
     "name": "stdout",
     "output_type": "stream",
     "text": [
      "checkpoint-1070\n"
     ]
    },
    {
     "name": "stderr",
     "output_type": "stream",
     "text": [
      "2022-10-18 22:45:00,080\tINFO trainable.py:588 -- Restored on 10.159.12.193 from checkpoint: /gpfsscratch/rech/imi/uzw47io/elias_expe/2_agents/cooperative/modified_reward/6_landmarks/naming_game_30msg_t30_a10/2022-10-17_16-01-13dqqjntxb/checkpoint_001080/checkpoint-1080\n",
      "2022-10-18 22:45:00,082\tINFO trainable.py:597 -- Current state after restoring: {'_iteration': 1080, '_timesteps_total': None, '_time_total': 53413.18450307846, '_episodes_total': 1122229}\n"
     ]
    },
    {
     "name": "stdout",
     "output_type": "stream",
     "text": [
      "checkpoint-1080\n"
     ]
    },
    {
     "name": "stderr",
     "output_type": "stream",
     "text": [
      "2022-10-18 22:45:00,525\tINFO trainable.py:588 -- Restored on 10.159.12.193 from checkpoint: /gpfsscratch/rech/imi/uzw47io/elias_expe/2_agents/cooperative/modified_reward/6_landmarks/naming_game_30msg_t30_a10/2022-10-17_16-01-13dqqjntxb/checkpoint_001090/checkpoint-1090\n",
      "2022-10-18 22:45:00,526\tINFO trainable.py:597 -- Current state after restoring: {'_iteration': 1090, '_timesteps_total': None, '_time_total': 53909.06731200218, '_episodes_total': 1137278}\n"
     ]
    },
    {
     "name": "stdout",
     "output_type": "stream",
     "text": [
      "checkpoint-1090\n"
     ]
    },
    {
     "name": "stderr",
     "output_type": "stream",
     "text": [
      "2022-10-18 22:45:00,799\tINFO trainable.py:588 -- Restored on 10.159.12.193 from checkpoint: /gpfsscratch/rech/imi/uzw47io/elias_expe/2_agents/cooperative/modified_reward/6_landmarks/naming_game_30msg_t30_a10/2022-10-17_16-01-13dqqjntxb/checkpoint_001100/checkpoint-1100\n",
      "2022-10-18 22:45:00,800\tINFO trainable.py:597 -- Current state after restoring: {'_iteration': 1100, '_timesteps_total': None, '_time_total': 54403.95703434944, '_episodes_total': 1152299}\n"
     ]
    },
    {
     "name": "stdout",
     "output_type": "stream",
     "text": [
      "checkpoint-1100\n"
     ]
    },
    {
     "name": "stderr",
     "output_type": "stream",
     "text": [
      "2022-10-18 22:45:01,073\tINFO trainable.py:588 -- Restored on 10.159.12.193 from checkpoint: /gpfsscratch/rech/imi/uzw47io/elias_expe/2_agents/cooperative/modified_reward/6_landmarks/naming_game_30msg_t30_a10/2022-10-17_16-01-13dqqjntxb/checkpoint_001110/checkpoint-1110\n",
      "2022-10-18 22:45:01,074\tINFO trainable.py:597 -- Current state after restoring: {'_iteration': 1110, '_timesteps_total': None, '_time_total': 54899.32789349556, '_episodes_total': 1167323}\n"
     ]
    },
    {
     "name": "stdout",
     "output_type": "stream",
     "text": [
      "checkpoint-1110\n"
     ]
    },
    {
     "name": "stderr",
     "output_type": "stream",
     "text": [
      "2022-10-18 22:45:01,277\tINFO trainable.py:588 -- Restored on 10.159.12.193 from checkpoint: /gpfsscratch/rech/imi/uzw47io/elias_expe/2_agents/cooperative/modified_reward/6_landmarks/naming_game_30msg_t30_a10/2022-10-17_16-01-13dqqjntxb/checkpoint_001120/checkpoint-1120\n",
      "2022-10-18 22:45:01,282\tINFO trainable.py:597 -- Current state after restoring: {'_iteration': 1120, '_timesteps_total': None, '_time_total': 55394.84303021431, '_episodes_total': 1182382}\n"
     ]
    },
    {
     "name": "stdout",
     "output_type": "stream",
     "text": [
      "checkpoint-1120\n"
     ]
    },
    {
     "name": "stderr",
     "output_type": "stream",
     "text": [
      "2022-10-18 22:45:01,562\tINFO trainable.py:588 -- Restored on 10.159.12.193 from checkpoint: /gpfsscratch/rech/imi/uzw47io/elias_expe/2_agents/cooperative/modified_reward/6_landmarks/naming_game_30msg_t30_a10/2022-10-17_16-01-13dqqjntxb/checkpoint_001130/checkpoint-1130\n",
      "2022-10-18 22:45:01,562\tINFO trainable.py:597 -- Current state after restoring: {'_iteration': 1130, '_timesteps_total': None, '_time_total': 55890.07947611809, '_episodes_total': 1197399}\n"
     ]
    },
    {
     "name": "stdout",
     "output_type": "stream",
     "text": [
      "checkpoint-1130\n"
     ]
    },
    {
     "name": "stderr",
     "output_type": "stream",
     "text": [
      "2022-10-18 22:45:01,768\tINFO trainable.py:588 -- Restored on 10.159.12.193 from checkpoint: /gpfsscratch/rech/imi/uzw47io/elias_expe/2_agents/cooperative/modified_reward/6_landmarks/naming_game_30msg_t30_a10/2022-10-17_16-01-13dqqjntxb/checkpoint_001140/checkpoint-1140\n",
      "2022-10-18 22:45:01,770\tINFO trainable.py:597 -- Current state after restoring: {'_iteration': 1140, '_timesteps_total': None, '_time_total': 56385.383424043655, '_episodes_total': 1212464}\n"
     ]
    },
    {
     "name": "stdout",
     "output_type": "stream",
     "text": [
      "checkpoint-1140\n"
     ]
    },
    {
     "name": "stderr",
     "output_type": "stream",
     "text": [
      "2022-10-18 22:45:02,039\tINFO trainable.py:588 -- Restored on 10.159.12.193 from checkpoint: /gpfsscratch/rech/imi/uzw47io/elias_expe/2_agents/cooperative/modified_reward/6_landmarks/naming_game_30msg_t30_a10/2022-10-17_16-01-13dqqjntxb/checkpoint_001150/checkpoint-1150\n",
      "2022-10-18 22:45:02,040\tINFO trainable.py:597 -- Current state after restoring: {'_iteration': 1150, '_timesteps_total': None, '_time_total': 56884.743609666824, '_episodes_total': 1227543}\n"
     ]
    },
    {
     "name": "stdout",
     "output_type": "stream",
     "text": [
      "checkpoint-1150\n"
     ]
    },
    {
     "name": "stderr",
     "output_type": "stream",
     "text": [
      "2022-10-18 22:45:02,308\tINFO trainable.py:588 -- Restored on 10.159.12.193 from checkpoint: /gpfsscratch/rech/imi/uzw47io/elias_expe/2_agents/cooperative/modified_reward/6_landmarks/naming_game_30msg_t30_a10/2022-10-17_16-01-13dqqjntxb/checkpoint_001160/checkpoint-1160\n",
      "2022-10-18 22:45:02,309\tINFO trainable.py:597 -- Current state after restoring: {'_iteration': 1160, '_timesteps_total': None, '_time_total': 57380.867405653, '_episodes_total': 1242549}\n"
     ]
    },
    {
     "name": "stdout",
     "output_type": "stream",
     "text": [
      "checkpoint-1160\n"
     ]
    },
    {
     "data": {
      "image/png": "[encoded data removed]",
      "text/plain": [
       "<Figure size 720x720 with 2 Axes>"
      ]
     },
     "metadata": {
      "needs_background": "light"
     },
     "output_type": "display_data"
    }
   ],
   "source": [
    "imgs = []\n",
    "for checkpoint_dir in sorted(os.listdir(checkpoints_dir)):\n",
    "    if os.path.isdir(os.path.join(checkpoints_dir, checkpoint_dir)):\n",
    "        checkpoint_file = sorted(\n",
    "            os.listdir(os.path.join(checkpoints_dir, checkpoint_dir))\n",
    "        )[1]\n",
    "        print(checkpoint_file)\n",
    "        trainer.restore(os.path.join(checkpoints_dir, checkpoint_dir, checkpoint_file))\n",
    "        agent_0 = trainer.get_policy(\"agent_0\").model\n",
    "        agent_1 = trainer.get_policy(\"agent_1\").model\n",
    "        with torch.no_grad():\n",
    "            agent_0_matrix = agent_0._matrix.numpy()\n",
    "            agent_1_matrix = agent_1._matrix.numpy()\n",
    "\n",
    "            # Generate images\n",
    "            for j, matrix in enumerate((agent_0_matrix, agent_1_matrix)):\n",
    "                if j == 0:\n",
    "                    fig = plt.figure(num=1, clear=True, figsize=(10, 10))\n",
    "                    ax = fig.add_subplot(121)\n",
    "                    ax.set_title(\"Agent 0\")\n",
    "                elif j == 1:\n",
    "                    ax = fig.add_subplot(122)\n",
    "                    ax.set_title(\"Agent 1\")\n",
    "                ax.matshow(matrix, cmap=plt.cm.Blues)\n",
    "                for x in range(nb_msg):\n",
    "                    for y in range(number_of_goals):\n",
    "                        c = matrix[y, x]\n",
    "                        #ax.text(x, y, str(round(c, 3)), va=\"center\", ha=\"center\")\n",
    "                if j == 1:\n",
    "                    plt.tight_layout()\n",
    "                    canvas = fig.figure.canvas\n",
    "                    canvas.draw()\n",
    "                    data = np.frombuffer(canvas.tostring_rgb(), dtype=np.uint8)\n",
    "                    img = data.reshape(canvas.get_width_height()[::-1] + (3,))\n",
    "                    imgs.append(img)\n",
    "                    "
   ]
  },
  {
   "cell_type": "code",
   "execution_count": 18,
   "metadata": {},
   "outputs": [],
   "source": [
    "import os\n",
    "os.environ['FFMPEG_BINARY'] = 'ffmpeg'\n",
    "import moviepy.editor as mvp\n",
    "from moviepy.video.io.ffmpeg_writer import FFMPEG_VideoWriter\n",
    "from IPython.display import HTML, display, clear_output\n",
    "\n",
    "class VideoWriter:\n",
    "  def __init__(self, filename, fps=30.0, **kw):\n",
    "    self.writer = None\n",
    "    self.params = dict(filename=filename, fps=fps, **kw)\n",
    "\n",
    "  def add(self, img):\n",
    "    img = np.asarray(img)\n",
    "    if self.writer is None:\n",
    "      h, w = img.shape[:2]\n",
    "      self.writer = FFMPEG_VideoWriter(size=(w, h), **self.params)\n",
    "    if img.dtype in [np.float32, np.float64]:\n",
    "      img = np.uint8(img.clip(0, 1)*255)\n",
    "    if len(img.shape) == 2:\n",
    "      img = np.repeat(img[..., None], 3, -1)\n",
    "    self.writer.write_frame(img)\n",
    "\n",
    "  def close(self):\n",
    "    if self.writer:\n",
    "      self.writer.close()\n",
    "\n",
    "  def __enter__(self):\n",
    "    return self\n",
    "\n",
    "  def __exit__(self, *kw):\n",
    "    self.close()\n",
    "\n",
    "  def show(self, **kw):\n",
    "      self.close()\n",
    "      fn = self.params['filename']\n",
    "      display(mvp.ipython_display(fn, **kw))"
   ]
  },
  {
   "cell_type": "code",
   "execution_count": 19,
   "metadata": {},
   "outputs": [
    {
     "data": {
      "text/html": [
       "<div align=middle><video src='data:video/mp4;base64,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' controls>Sorry, seems like your browser doesn't support HTML5 audio/video</video></div>"
      ],
      "text/plain": [
       "<moviepy.video.io.html_tools.HTML2 object>"
      ]
     },
     "metadata": {},
     "output_type": "display_data"
    }
   ],
   "source": [
    "with VideoWriter(\"out.mp4\", 2) as vid:\n",
    "          for i in range(len(imgs)):\n",
    "            im = imgs[i]\n",
    "            \n",
    "            #plt.imshow(im)\n",
    "            #plt.show()\n",
    "            vid.add(im)\n",
    "          vid.show()"
   ]
  },
  {
   "cell_type": "code",
   "execution_count": 10,
   "metadata": {},
   "outputs": [
    {
     "name": "stdout",
     "output_type": "stream",
     "text": [
      "Moviepy - Building video /gpfsscratch/rech/imi/uzw47io/elias_expe/2_agents/cooperative/modified_reward/6_landmarks/naming_game/2022-10-05_16-20-20vb4p7o7w/naming_game.mp4.\n",
      "Moviepy - Writing video /gpfsscratch/rech/imi/uzw47io/elias_expe/2_agents/cooperative/modified_reward/6_landmarks/naming_game/2022-10-05_16-20-20vb4p7o7w/naming_game.mp4\n",
      "\n"
     ]
    },
    {
     "name": "stderr",
     "output_type": "stream",
     "text": [
      "                                                              \r"
     ]
    },
    {
     "name": "stdout",
     "output_type": "stream",
     "text": [
      "Moviepy - Done !\n",
      "Moviepy - video ready /gpfsscratch/rech/imi/uzw47io/elias_expe/2_agents/cooperative/modified_reward/6_landmarks/naming_game/2022-10-05_16-20-20vb4p7o7w/naming_game.mp4\n"
     ]
    }
   ],
   "source": [
    "matrix_video = moviepy.video.io.ImageSequenceClip.ImageSequenceClip(imgs, fps=0.5)\n",
    "\n",
    "matrix_video.write_videofile(os.path.join(checkpoints_dir, \"naming_game.mp4\"))"
   ]
  },
  {
   "cell_type": "markdown",
   "metadata": {},
   "source": [
    "# 2 matrix"
   ]
  },
  {
   "cell_type": "code",
   "execution_count": 13,
   "metadata": {},
   "outputs": [
    {
     "name": "stderr",
     "output_type": "stream",
     "text": [
      "2022-10-17 14:55:47,202\tWARNING multi_agent_env.py:137 -- observation_space_contains() has not been implemented\n",
      "2022-10-17 14:55:47,203\tWARNING multi_agent_env.py:137 -- observation_space_contains() has not been implemented\n",
      "2022-10-17 14:55:47,203\tWARNING multi_agent_env.py:137 -- observation_space_contains() has not been implemented\n",
      "2022-10-17 14:55:47,203\tWARNING multi_agent_env.py:193 -- action_space_sample() has not been implemented\n",
      "2022-10-17 14:55:47,205\tWARNING multi_agent_env.py:137 -- observation_space_contains() has not been implemented\n",
      "2022-10-17 14:55:47,211\tWARNING catalog.py:628 -- Custom ModelV2 should accept all custom options as **kwargs, instead of expecting them in config['custom_model_config']!\n",
      "2022-10-17 14:55:47,240\tWARNING catalog.py:628 -- Custom ModelV2 should accept all custom options as **kwargs, instead of expecting them in config['custom_model_config']!\n",
      "2022-10-17 14:55:47,248\tWARNING util.py:65 -- Install gputil for GPU system monitoring.\n"
     ]
    }
   ],
   "source": [
    "with open(f\"../scripts/configs/{config_file}\", \"r\") as f:\n",
    "    user_config = yaml.safe_load(f)\n",
    "# General settings of the algorithm\n",
    "config = deepcopy(DEFAULT_CONFIG)\n",
    "config[\"num_workers\"] = 0\n",
    "config[\"framework\"] = \"torch\"\n",
    "use_communication = user_config.get(\"communication\", False)\n",
    "\n",
    "config[\"horizon\"] = population.LARGE_GOAL_LINES_TIMELIMIT\n",
    "config[\"rollout_fragment_length\"] = config[\"horizon\"]\n",
    "config[\"env_config\"] = user_config[\"env_config\"]\n",
    "config[\"train_batch_size\"] = 60_000\n",
    "config[\"sgd_minibatch_size\"] = 10_000\n",
    "config[\"lambda\"] = 0.9\n",
    "config[\"lr\"] = 0.0003\n",
    "\n",
    "\n",
    "def policy_mapping_fn(agent_id):\n",
    "    return agent_id\n",
    "\n",
    "\n",
    "config[\"multiagent\"] = {\n",
    "    \"policies\": {\n",
    "        f\"agent_{i}\": PolicySpec(\n",
    "            policy_class=None, observation_space=None, action_space=None\n",
    "        )\n",
    "        for i in range(config[\"env_config\"][\"population_size\"])\n",
    "    },\n",
    "    \"policy_mapping_fn\": policy_mapping_fn,\n",
    "}\n",
    "\n",
    "train_env = environment\n",
    "\n",
    "ModelCatalog.register_custom_model(\"FullNamingNetwork\", FullNamingNetwork)\n",
    "number_of_goals = environment(config[\"env_config\"]).goal_space_dim\n",
    "config[\"model\"] = {\n",
    "    \"custom_model\": \"FullNamingNetwork\",\n",
    "    \"custom_model_config\": {\n",
    "        \"number_of_goals\": number_of_goals,\n",
    "        \"train_matrix\": user_config.get(\"train_matrix\", False),\n",
    "    },\n",
    "}\n",
    "trainer = FullNamingTrainer(\n",
    "    config=config,\n",
    "    env=train_env,\n",
    ")"
   ]
  },
  {
   "cell_type": "code",
   "execution_count": null,
   "metadata": {},
   "outputs": [],
   "source": [
    "imgs = []\n",
    "for checkpoint_dir in sorted(os.listdir(checkpoints_dir)):\n",
    "    if os.path.isdir(os.path.join(checkpoints_dir, checkpoint_dir)):\n",
    "        checkpoint_file = sorted(\n",
    "            os.listdir(os.path.join(checkpoints_dir, checkpoint_dir))\n",
    "        )[1]\n",
    "        trainer.restore(os.path.join(checkpoints_dir, checkpoint_dir, checkpoint_file))\n",
    "        agent_0 = trainer.get_policy(\"agent_0\").model\n",
    "        agent_1 = trainer.get_policy(\"agent_1\").model\n",
    "        with torch.no_grad():\n",
    "            agent_0_matrix = agent_0._leader_matrix.numpy()\n",
    "            agent_1_matrix = agent_1._follower_matrix.numpy()\n",
    "\n",
    "            # Generate images\n",
    "            for j, matrix in enumerate((agent_0_matrix, agent_1_matrix)):\n",
    "                if j == 0:\n",
    "                    fig = plt.figure(num=1, clear=True, figsize=(10, 10))\n",
    "                    ax = fig.add_subplot(121)\n",
    "                    ax.set_title(\"Agent 0\")\n",
    "                elif j == 1:\n",
    "                    ax = fig.add_subplot(122)\n",
    "                    ax.set_title(\"Agent 1\")\n",
    "                ax.matshow(matrix, cmap=plt.cm.Blues)\n",
    "                for x in range(number_of_goals):\n",
    "                    for y in range(number_of_goals):\n",
    "                        c = matrix[y, x]\n",
    "                        ax.text(x, y, str(round(c, 3)), va=\"center\", ha=\"center\")\n",
    "                if j == 1:\n",
    "                    plt.tight_layout()\n",
    "                    canvas = fig.figure.canvas\n",
    "                    canvas.draw()\n",
    "                    data = np.frombuffer(canvas.tostring_rgb(), dtype=np.uint8)\n",
    "                    img = data.reshape(canvas.get_width_height()[::-1] + (3,))\n",
    "                    imgs.append(img)\n",
    "                    "
   ]
  }
 ],
 "metadata": {
  "kernelspec": {
   "display_name": "Python 3 (ipykernel)",
   "language": "python",
   "name": "python3"
  },
  "language_info": {
   "codemirror_mode": {
    "name": "ipython",
    "version": 3
   },
   "file_extension": ".py",
   "mimetype": "text/x-python",
   "name": "python",
   "nbconvert_exporter": "python",
   "pygments_lexer": "ipython3",
   "version": "3.9.12"
  },
  "vscode": {
   "interpreter": {
    "hash": "ba8aa1b69f904e3342c40bcdd1b69ae4a3cf2054115c347781ce67fba2dd2c9e"
   }
  }
 },
 "nbformat": 4,
 "nbformat_minor": 2
}
