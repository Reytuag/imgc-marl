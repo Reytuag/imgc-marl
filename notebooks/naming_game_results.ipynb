{
 "cells": [
  {
   "cell_type": "markdown",
   "metadata": {},
   "source": [
    "# Notebook for analysing results of the naming game, matrices visualizations"
   ]
  },
  {
   "cell_type": "markdown",
   "metadata": {},
   "source": [
    "This notebook can be used for generating videos of all the naming matrices during training for a specific seed. A video of the evolution of the naming matrices will be stored in the experiment's directory"
   ]
  },
  {
   "cell_type": "code",
   "execution_count": 1,
   "metadata": {},
   "outputs": [],
   "source": [
    "import os\n",
    "import random\n",
    "import tempfile\n",
    "from copy import deepcopy\n",
    "from datetime import datetime\n",
    "\n",
    "import click\n",
    "import imgc_marl.envs.population as population\n",
    "import numpy as np\n",
    "import yaml\n",
    "from imgc_marl.callbacks import (\n",
    "    PopGoalLinesCallback,\n",
    "    PopGoalLinesCommunicationCallback,\n",
    "    PopGoalLinesNamingCallback,\n",
    "    PopGoalLinesNamingCallback1Matrix,\n",
    ")\n",
    "from imgc_marl.evaluation import (\n",
    "    communication_custom_eval_function,\n",
    "    custom_eval_function,\n",
    ")\n",
    "from imgc_marl.models.basic_communication import BasicCommunicationNetwork\n",
    "from imgc_marl.models.full_naming_game import FullNamingNetwork\n",
    "from imgc_marl.models.full_naming_game_single_matrix import FullNamingNetwork1Matrix\n",
    "from imgc_marl.policies.basic_communication import BasicCommunicationTrainer\n",
    "from imgc_marl.policies.full_naming_game import FullNamingTrainer\n",
    "from imgc_marl.policies.full_naming_game_single_matrix import FullNamingTrainer1Matrix\n",
    "from imgc_marl.utils import keep_relevant_results\n",
    "from ray.rllib.agents.ppo import DEFAULT_CONFIG, PPOTrainer\n",
    "from ray.rllib.models import ModelCatalog\n",
    "from ray.rllib.policy.policy import PolicySpec\n",
    "from ray.tune.logger import UnifiedLogger, pretty_print\n",
    "import torch\n",
    "import matplotlib.pyplot as plt\n",
    "import moviepy"
   ]
  },
  {
   "cell_type": "markdown",
   "metadata": {},
   "source": [
    "* Select correct configuration file \n",
    "* Select environment (3 or 6 landmarks)\n",
    "* Select the experiment you want to evaluate"
   ]
  },
  {
   "cell_type": "code",
   "execution_count": 2,
   "metadata": {},
   "outputs": [
    {
     "name": "stdout",
     "output_type": "stream",
     "text": [
      "2022-10-15_20-21-051i6ubnd9  train-152633_0.slurm.err  train-152633_2.slurm.out\r\n",
      "2022-10-15_20-21-055x1s5ecg  train-152633_0.slurm.out  train-152633_3.slurm.err\r\n",
      "2022-10-15_20-21-05l2jrttu4  train-152633_1.slurm.err  train-152633_3.slurm.out\r\n",
      "2022-10-15_20-21-05n2r125tc  train-152633_1.slurm.out  train-152633_4.slurm.err\r\n",
      "2022-10-15_20-21-05zvlbcbhk  train-152633_2.slurm.err  train-152633_4.slurm.out\r\n"
     ]
    }
   ],
   "source": [
    "!ls $SCRATCH/elias_expe/2_agents/cooperative/modified_reward/6_landmarks/naming_game/2_matrix\n"
   ]
  },
  {
   "cell_type": "code",
   "execution_count": 2,
   "metadata": {},
   "outputs": [
    {
     "name": "stdout",
     "output_type": "stream",
     "text": [
      "2022-10-27_19-14-40v1v3_6dl  stdout.txt\t\t       train-493234_2.slurm.out\r\n",
      "2022-10-27_19-19-56_8ve71_y  train-493234_0.slurm.err  train-493234_3.slurm.err\r\n",
      "2022-10-27_19-21-22pozgzx7i  train-493234_0.slurm.out  train-493234_3.slurm.out\r\n",
      "2022-10-27_19-24-53kh4dr43g  train-493234_1.slurm.err  train-493234_4.slurm.err\r\n",
      "2022-10-27_19-24-53qlfxv7fz  train-493234_1.slurm.out  train-493234_4.slurm.out\r\n",
      "stderr.txt\t\t     train-493234_2.slurm.err\r\n"
     ]
    }
   ],
   "source": [
    "!ls $SCRATCH/elias_expe/2_agents/all/modified_reward/3_landmarks_reward1/naming_game_30msg_alpha10_temp30\n"
   ]
  },
  {
   "cell_type": "code",
   "execution_count": 2,
   "metadata": {
    "scrolled": true
   },
   "outputs": [
    {
     "name": "stdout",
     "output_type": "stream",
     "text": [
      "2022-10-26_12-23-361jzdlx2z  train-448230_0.slurm.err  train-448230_2.slurm.out\r\n",
      "2022-10-26_12-23-36pt_blwdm  train-448230_0.slurm.out  train-448230_3.slurm.err\r\n",
      "2022-10-26_12-23-36tnspdchd  train-448230_1.slurm.err  train-448230_3.slurm.out\r\n",
      "2022-10-26_12-23-36xdrwb902  train-448230_1.slurm.out  train-448230_4.slurm.err\r\n",
      "2022-10-26_12-23-36y1qela3f  train-448230_2.slurm.err  train-448230_4.slurm.out\r\n"
     ]
    }
   ],
   "source": [
    "!ls $SCRATCH/elias_expe/2_agents/all/modified_reward/6_landmarks_reward2/naming_game_30msg_alpha10_temp30\n"
   ]
  },
  {
   "cell_type": "code",
   "execution_count": 4,
   "metadata": {},
   "outputs": [],
   "source": [
    "from imgc_marl.envs.population import PopGoalLinesEnv, PopLargeGoalLinesEnv\n",
    "\n",
    "# 3 landmarks\n",
    "#config_file = \"goal_lines_naming.yml\"\n",
    "config_file=\"goal_lines_2agents_naming_game_all_modified.yml\"\n",
    "environment = PopGoalLinesEnv\n",
    "\n",
    "# 6 landmarks\n",
    "#config_file = \"large_goal_lines_naming.yml\"\n",
    "#environment = PopLargeGoalLinesEnv\n",
    "\n",
    "\n",
    "# directory of the checkpoints you want to evaluate\n",
    "checkpoints_dir = os.environ[\"SCRATCH\"]+\"/elias_expe/2_agents/all/modified_reward/3_landmarks/naming_game_30msg_alpha05_temp30/2022-10-20_01-15-1472rqeu15\""
   ]
  },
  {
   "cell_type": "code",
   "execution_count": 5,
   "metadata": {},
   "outputs": [],
   "source": [
    "from imgc_marl.envs.population import PopGoalLinesEnv, PopLargeGoalLinesEnv\n",
    "\n",
    "# 3 landmarks\n",
    "#config_file = \"goal_lines_naming.yml\"\n",
    "#config_file=\"goal_lines_2agents_naming_game_all_modified.yml\"\n",
    "#environment = PopGoalLinesEnv\n",
    "\n",
    "# 6 landmarks\n",
    "config_file = \"large_goal_lines_2agents_naming_game_all_modified.yml\"\n",
    "environment = PopLargeGoalLinesEnv\n",
    "\n",
    "\n",
    "# directory of the checkpoints you want to evaluate\n",
    "checkpoints_dir = os.environ[\"SCRATCH\"]+\"/elias_expe/2_agents/all/modified_reward/6_landmarks_reward2/naming_game_30msg_alpha10_temp30/2022-10-26_12-23-36pt_blwdm\""
   ]
  },
  {
   "cell_type": "code",
   "execution_count": 6,
   "metadata": {},
   "outputs": [
    {
     "name": "stderr",
     "output_type": "stream",
     "text": [
      "2022-10-29 09:09:22,342\tWARNING deprecation.py:46 -- DeprecationWarning: `ray.rllib.agents.ppo.ppo.DEFAULT_CONFIG` has been deprecated. Use `ray.rllib.agents.ppo.ppo.PPOConfig(...)` instead. This will raise an error in the future!\n",
      "2022-10-29 09:09:23,042\tWARNING multi_agent_env.py:225 -- observation_space_sample() has not been implemented\n",
      "2022-10-29 09:09:23,043\tWARNING multi_agent_env.py:137 -- observation_space_contains() has not been implemented\n",
      "2022-10-29 09:09:23,044\tWARNING multi_agent_env.py:137 -- observation_space_contains() has not been implemented\n",
      "2022-10-29 09:09:23,044\tWARNING multi_agent_env.py:137 -- observation_space_contains() has not been implemented\n",
      "2022-10-29 09:09:23,044\tWARNING multi_agent_env.py:193 -- action_space_sample() has not been implemented\n",
      "2022-10-29 09:09:23,045\tWARNING multi_agent_env.py:161 -- action_space_contains() has not been implemented\n",
      "2022-10-29 09:09:23,046\tWARNING multi_agent_env.py:137 -- observation_space_contains() has not been implemented\n",
      "2022-10-29 09:09:23,054\tWARNING catalog.py:628 -- Custom ModelV2 should accept all custom options as **kwargs, instead of expecting them in config['custom_model_config']!\n",
      "2022-10-29 09:09:23,070\tWARNING catalog.py:628 -- Custom ModelV2 should accept all custom options as **kwargs, instead of expecting them in config['custom_model_config']!\n",
      "Install gputil for GPU system monitoring.\n"
     ]
    }
   ],
   "source": [
    "with open(f\"../scripts/configs/{config_file}\", \"r\") as f:\n",
    "    user_config = yaml.safe_load(f)\n",
    "# General settings of the algorithm\n",
    "config = deepcopy(DEFAULT_CONFIG)\n",
    "config[\"num_workers\"] = 0\n",
    "config[\"framework\"] = \"torch\"\n",
    "use_communication = user_config.get(\"communication\", False)\n",
    "\n",
    "config[\"horizon\"] = 300\n",
    "config[\"rollout_fragment_length\"] = config[\"horizon\"]\n",
    "config[\"env_config\"] = user_config[\"env_config\"]\n",
    "config[\"train_batch_size\"] = 60_000\n",
    "config[\"sgd_minibatch_size\"] = 10_000\n",
    "config[\"lambda\"] = 0.9\n",
    "config[\"lr\"] = 0.0003\n",
    "\n",
    "\n",
    "nb_msg= 30\n",
    "\n",
    "def policy_mapping_fn(agent_id):\n",
    "    return agent_id\n",
    "\n",
    "\n",
    "config[\"multiagent\"] = {\n",
    "    \"policies\": {\n",
    "        f\"agent_{i}\": PolicySpec(\n",
    "            policy_class=None, observation_space=None, action_space=None\n",
    "        )\n",
    "        for i in range(config[\"env_config\"][\"population_size\"])\n",
    "    },\n",
    "    \"policy_mapping_fn\": policy_mapping_fn,\n",
    "}\n",
    "\n",
    "train_env = environment\n",
    "\n",
    "ModelCatalog.register_custom_model(\"FullNamingNetwork1Matrix\", FullNamingNetwork1Matrix)\n",
    "number_of_goals = environment(config[\"env_config\"]).goal_space_dim\n",
    "config[\"model\"] = {\n",
    "    \"custom_model\": \"FullNamingNetwork1Matrix\",\n",
    "    \"custom_model_config\": {\n",
    "        \"number_of_goals\": number_of_goals,\n",
    "        \"train_matrix\": user_config.get(\"train_matrix\", False),\n",
    "        \"nb_msg\":nb_msg,\n",
    "    },\n",
    "}\n",
    "trainer = FullNamingTrainer1Matrix(\n",
    "    config=config,\n",
    "    env=train_env,\n",
    ")"
   ]
  },
  {
   "cell_type": "markdown",
   "metadata": {},
   "source": [
    "# Inspecting matrices through time"
   ]
  },
  {
   "cell_type": "code",
   "execution_count": 47,
   "metadata": {},
   "outputs": [
    {
     "name": "stderr",
     "output_type": "stream",
     "text": [
      "2022-10-29 10:13:16,619\tINFO trainable.py:588 -- Restored on 10.159.0.40 from checkpoint: /gpfsscratch/rech/imi/uzw47io/elias_expe/2_agents/all/modified_reward/6_landmarks_reward2/naming_game_30msg_alpha10_temp30/2022-10-26_12-23-36pt_blwdm/checkpoint_000010/checkpoint-10\n",
      "2022-10-29 10:13:16,620\tINFO trainable.py:597 -- Current state after restoring: {'_iteration': 10, '_timesteps_total': None, '_time_total': 562.121476650238, '_episodes_total': 1217}\n"
     ]
    },
    {
     "name": "stdout",
     "output_type": "stream",
     "text": [
      "checkpoint-10\n"
     ]
    },
    {
     "name": "stderr",
     "output_type": "stream",
     "text": [
      "2022-10-29 10:13:17,161\tINFO trainable.py:588 -- Restored on 10.159.0.40 from checkpoint: /gpfsscratch/rech/imi/uzw47io/elias_expe/2_agents/all/modified_reward/6_landmarks_reward2/naming_game_30msg_alpha10_temp30/2022-10-26_12-23-36pt_blwdm/checkpoint_000020/checkpoint-20\n",
      "2022-10-29 10:13:17,164\tINFO trainable.py:597 -- Current state after restoring: {'_iteration': 20, '_timesteps_total': None, '_time_total': 1094.9520466327667, '_episodes_total': 2597}\n"
     ]
    },
    {
     "name": "stdout",
     "output_type": "stream",
     "text": [
      "checkpoint-20\n",
      "a\n"
     ]
    },
    {
     "name": "stderr",
     "output_type": "stream",
     "text": [
      "2022-10-29 10:13:18,965\tINFO trainable.py:588 -- Restored on 10.159.0.40 from checkpoint: /gpfsscratch/rech/imi/uzw47io/elias_expe/2_agents/all/modified_reward/6_landmarks_reward2/naming_game_30msg_alpha10_temp30/2022-10-26_12-23-36pt_blwdm/checkpoint_000030/checkpoint-30\n",
      "2022-10-29 10:13:18,967\tINFO trainable.py:597 -- Current state after restoring: {'_iteration': 30, '_timesteps_total': None, '_time_total': 1608.771410226822, '_episodes_total': 4066}\n"
     ]
    },
    {
     "name": "stdout",
     "output_type": "stream",
     "text": [
      "checkpoint-30\n"
     ]
    },
    {
     "name": "stderr",
     "output_type": "stream",
     "text": [
      "2022-10-29 10:13:19,597\tINFO trainable.py:588 -- Restored on 10.159.0.40 from checkpoint: /gpfsscratch/rech/imi/uzw47io/elias_expe/2_agents/all/modified_reward/6_landmarks_reward2/naming_game_30msg_alpha10_temp30/2022-10-26_12-23-36pt_blwdm/checkpoint_000040/checkpoint-40\n",
      "2022-10-29 10:13:19,598\tINFO trainable.py:597 -- Current state after restoring: {'_iteration': 40, '_timesteps_total': None, '_time_total': 2115.4443774223328, '_episodes_total': 5659}\n"
     ]
    },
    {
     "name": "stdout",
     "output_type": "stream",
     "text": [
      "checkpoint-40\n"
     ]
    },
    {
     "name": "stderr",
     "output_type": "stream",
     "text": [
      "2022-10-29 10:13:20,221\tINFO trainable.py:588 -- Restored on 10.159.0.40 from checkpoint: /gpfsscratch/rech/imi/uzw47io/elias_expe/2_agents/all/modified_reward/6_landmarks_reward2/naming_game_30msg_alpha10_temp30/2022-10-26_12-23-36pt_blwdm/checkpoint_000050/checkpoint-50\n",
      "2022-10-29 10:13:20,222\tINFO trainable.py:597 -- Current state after restoring: {'_iteration': 50, '_timesteps_total': None, '_time_total': 2600.420538187027, '_episodes_total': 7486}\n"
     ]
    },
    {
     "name": "stdout",
     "output_type": "stream",
     "text": [
      "checkpoint-50\n"
     ]
    },
    {
     "name": "stderr",
     "output_type": "stream",
     "text": [
      "2022-10-29 10:13:20,851\tINFO trainable.py:588 -- Restored on 10.159.0.40 from checkpoint: /gpfsscratch/rech/imi/uzw47io/elias_expe/2_agents/all/modified_reward/6_landmarks_reward2/naming_game_30msg_alpha10_temp30/2022-10-26_12-23-36pt_blwdm/checkpoint_000060/checkpoint-60\n",
      "2022-10-29 10:13:20,851\tINFO trainable.py:597 -- Current state after restoring: {'_iteration': 60, '_timesteps_total': None, '_time_total': 3085.9619402885437, '_episodes_total': 9626}\n"
     ]
    },
    {
     "name": "stdout",
     "output_type": "stream",
     "text": [
      "checkpoint-60\n"
     ]
    },
    {
     "name": "stderr",
     "output_type": "stream",
     "text": [
      "2022-10-29 10:13:21,485\tINFO trainable.py:588 -- Restored on 10.159.0.40 from checkpoint: /gpfsscratch/rech/imi/uzw47io/elias_expe/2_agents/all/modified_reward/6_landmarks_reward2/naming_game_30msg_alpha10_temp30/2022-10-26_12-23-36pt_blwdm/checkpoint_000070/checkpoint-70\n",
      "2022-10-29 10:13:21,487\tINFO trainable.py:597 -- Current state after restoring: {'_iteration': 70, '_timesteps_total': None, '_time_total': 3563.3611867427826, '_episodes_total': 11905}\n"
     ]
    },
    {
     "name": "stdout",
     "output_type": "stream",
     "text": [
      "checkpoint-70\n"
     ]
    },
    {
     "name": "stderr",
     "output_type": "stream",
     "text": [
      "2022-10-29 10:13:22,103\tINFO trainable.py:588 -- Restored on 10.159.0.40 from checkpoint: /gpfsscratch/rech/imi/uzw47io/elias_expe/2_agents/all/modified_reward/6_landmarks_reward2/naming_game_30msg_alpha10_temp30/2022-10-26_12-23-36pt_blwdm/checkpoint_000080/checkpoint-80\n",
      "2022-10-29 10:13:22,105\tINFO trainable.py:597 -- Current state after restoring: {'_iteration': 80, '_timesteps_total': None, '_time_total': 4036.6916766166687, '_episodes_total': 14877}\n"
     ]
    },
    {
     "name": "stdout",
     "output_type": "stream",
     "text": [
      "checkpoint-80\n"
     ]
    },
    {
     "name": "stderr",
     "output_type": "stream",
     "text": [
      "2022-10-29 10:13:22,730\tINFO trainable.py:588 -- Restored on 10.159.0.40 from checkpoint: /gpfsscratch/rech/imi/uzw47io/elias_expe/2_agents/all/modified_reward/6_landmarks_reward2/naming_game_30msg_alpha10_temp30/2022-10-26_12-23-36pt_blwdm/checkpoint_000090/checkpoint-90\n",
      "2022-10-29 10:13:22,731\tINFO trainable.py:597 -- Current state after restoring: {'_iteration': 90, '_timesteps_total': None, '_time_total': 4511.156648874283, '_episodes_total': 18147}\n"
     ]
    },
    {
     "name": "stdout",
     "output_type": "stream",
     "text": [
      "checkpoint-90\n"
     ]
    },
    {
     "name": "stderr",
     "output_type": "stream",
     "text": [
      "2022-10-29 10:13:24,015\tINFO trainable.py:588 -- Restored on 10.159.0.40 from checkpoint: /gpfsscratch/rech/imi/uzw47io/elias_expe/2_agents/all/modified_reward/6_landmarks_reward2/naming_game_30msg_alpha10_temp30/2022-10-26_12-23-36pt_blwdm/checkpoint_000100/checkpoint-100\n",
      "2022-10-29 10:13:24,016\tINFO trainable.py:597 -- Current state after restoring: {'_iteration': 100, '_timesteps_total': None, '_time_total': 4982.300450563431, '_episodes_total': 21795}\n"
     ]
    },
    {
     "name": "stdout",
     "output_type": "stream",
     "text": [
      "checkpoint-100\n"
     ]
    },
    {
     "name": "stderr",
     "output_type": "stream",
     "text": [
      "2022-10-29 10:13:24,641\tINFO trainable.py:588 -- Restored on 10.159.0.40 from checkpoint: /gpfsscratch/rech/imi/uzw47io/elias_expe/2_agents/all/modified_reward/6_landmarks_reward2/naming_game_30msg_alpha10_temp30/2022-10-26_12-23-36pt_blwdm/checkpoint_000110/checkpoint-110\n",
      "2022-10-29 10:13:24,641\tINFO trainable.py:597 -- Current state after restoring: {'_iteration': 110, '_timesteps_total': None, '_time_total': 5439.09401011467, '_episodes_total': 25454}\n"
     ]
    },
    {
     "name": "stdout",
     "output_type": "stream",
     "text": [
      "checkpoint-110\n"
     ]
    },
    {
     "name": "stderr",
     "output_type": "stream",
     "text": [
      "2022-10-29 10:13:25,249\tINFO trainable.py:588 -- Restored on 10.159.0.40 from checkpoint: /gpfsscratch/rech/imi/uzw47io/elias_expe/2_agents/all/modified_reward/6_landmarks_reward2/naming_game_30msg_alpha10_temp30/2022-10-26_12-23-36pt_blwdm/checkpoint_000120/checkpoint-120\n",
      "2022-10-29 10:13:25,250\tINFO trainable.py:597 -- Current state after restoring: {'_iteration': 120, '_timesteps_total': None, '_time_total': 5914.77533364296, '_episodes_total': 29105}\n"
     ]
    },
    {
     "name": "stdout",
     "output_type": "stream",
     "text": [
      "checkpoint-120\n"
     ]
    },
    {
     "name": "stderr",
     "output_type": "stream",
     "text": [
      "2022-10-29 10:13:25,873\tINFO trainable.py:588 -- Restored on 10.159.0.40 from checkpoint: /gpfsscratch/rech/imi/uzw47io/elias_expe/2_agents/all/modified_reward/6_landmarks_reward2/naming_game_30msg_alpha10_temp30/2022-10-26_12-23-36pt_blwdm/checkpoint_000130/checkpoint-130\n",
      "2022-10-29 10:13:25,873\tINFO trainable.py:597 -- Current state after restoring: {'_iteration': 130, '_timesteps_total': None, '_time_total': 6406.772386550903, '_episodes_total': 33122}\n"
     ]
    },
    {
     "name": "stdout",
     "output_type": "stream",
     "text": [
      "checkpoint-130\n"
     ]
    },
    {
     "name": "stderr",
     "output_type": "stream",
     "text": [
      "2022-10-29 10:13:26,538\tINFO trainable.py:588 -- Restored on 10.159.0.40 from checkpoint: /gpfsscratch/rech/imi/uzw47io/elias_expe/2_agents/all/modified_reward/6_landmarks_reward2/naming_game_30msg_alpha10_temp30/2022-10-26_12-23-36pt_blwdm/checkpoint_000140/checkpoint-140\n",
      "2022-10-29 10:13:26,539\tINFO trainable.py:597 -- Current state after restoring: {'_iteration': 140, '_timesteps_total': None, '_time_total': 6881.6494307518005, '_episodes_total': 37238}\n"
     ]
    },
    {
     "name": "stdout",
     "output_type": "stream",
     "text": [
      "checkpoint-140\n"
     ]
    },
    {
     "name": "stderr",
     "output_type": "stream",
     "text": [
      "2022-10-29 10:13:27,179\tINFO trainable.py:588 -- Restored on 10.159.0.40 from checkpoint: /gpfsscratch/rech/imi/uzw47io/elias_expe/2_agents/all/modified_reward/6_landmarks_reward2/naming_game_30msg_alpha10_temp30/2022-10-26_12-23-36pt_blwdm/checkpoint_000150/checkpoint-150\n",
      "2022-10-29 10:13:27,180\tINFO trainable.py:597 -- Current state after restoring: {'_iteration': 150, '_timesteps_total': None, '_time_total': 7349.421119213104, '_episodes_total': 41312}\n"
     ]
    },
    {
     "name": "stdout",
     "output_type": "stream",
     "text": [
      "checkpoint-150\n"
     ]
    },
    {
     "name": "stderr",
     "output_type": "stream",
     "text": [
      "2022-10-29 10:13:27,801\tINFO trainable.py:588 -- Restored on 10.159.0.40 from checkpoint: /gpfsscratch/rech/imi/uzw47io/elias_expe/2_agents/all/modified_reward/6_landmarks_reward2/naming_game_30msg_alpha10_temp30/2022-10-26_12-23-36pt_blwdm/checkpoint_000160/checkpoint-160\n",
      "2022-10-29 10:13:27,802\tINFO trainable.py:597 -- Current state after restoring: {'_iteration': 160, '_timesteps_total': None, '_time_total': 7784.809336423874, '_episodes_total': 45185}\n"
     ]
    },
    {
     "name": "stdout",
     "output_type": "stream",
     "text": [
      "checkpoint-160\n"
     ]
    },
    {
     "name": "stderr",
     "output_type": "stream",
     "text": [
      "2022-10-29 10:13:28,390\tINFO trainable.py:588 -- Restored on 10.159.0.40 from checkpoint: /gpfsscratch/rech/imi/uzw47io/elias_expe/2_agents/all/modified_reward/6_landmarks_reward2/naming_game_30msg_alpha10_temp30/2022-10-26_12-23-36pt_blwdm/checkpoint_000170/checkpoint-170\n",
      "2022-10-29 10:13:28,393\tINFO trainable.py:597 -- Current state after restoring: {'_iteration': 170, '_timesteps_total': None, '_time_total': 8218.5693089962, '_episodes_total': 49706}\n"
     ]
    },
    {
     "name": "stdout",
     "output_type": "stream",
     "text": [
      "checkpoint-170\n"
     ]
    },
    {
     "name": "stderr",
     "output_type": "stream",
     "text": [
      "2022-10-29 10:13:29,015\tINFO trainable.py:588 -- Restored on 10.159.0.40 from checkpoint: /gpfsscratch/rech/imi/uzw47io/elias_expe/2_agents/all/modified_reward/6_landmarks_reward2/naming_game_30msg_alpha10_temp30/2022-10-26_12-23-36pt_blwdm/checkpoint_000180/checkpoint-180\n",
      "2022-10-29 10:13:29,016\tINFO trainable.py:597 -- Current state after restoring: {'_iteration': 180, '_timesteps_total': None, '_time_total': 8653.119589090347, '_episodes_total': 54955}\n"
     ]
    },
    {
     "name": "stdout",
     "output_type": "stream",
     "text": [
      "checkpoint-180\n"
     ]
    },
    {
     "name": "stderr",
     "output_type": "stream",
     "text": [
      "2022-10-29 10:13:29,651\tINFO trainable.py:588 -- Restored on 10.159.0.40 from checkpoint: /gpfsscratch/rech/imi/uzw47io/elias_expe/2_agents/all/modified_reward/6_landmarks_reward2/naming_game_30msg_alpha10_temp30/2022-10-26_12-23-36pt_blwdm/checkpoint_000190/checkpoint-190\n",
      "2022-10-29 10:13:29,651\tINFO trainable.py:597 -- Current state after restoring: {'_iteration': 190, '_timesteps_total': None, '_time_total': 9082.835369110107, '_episodes_total': 60230}\n"
     ]
    },
    {
     "name": "stdout",
     "output_type": "stream",
     "text": [
      "checkpoint-190\n"
     ]
    },
    {
     "name": "stderr",
     "output_type": "stream",
     "text": [
      "2022-10-29 10:13:30,266\tINFO trainable.py:588 -- Restored on 10.159.0.40 from checkpoint: /gpfsscratch/rech/imi/uzw47io/elias_expe/2_agents/all/modified_reward/6_landmarks_reward2/naming_game_30msg_alpha10_temp30/2022-10-26_12-23-36pt_blwdm/checkpoint_000200/checkpoint-200\n",
      "2022-10-29 10:13:30,266\tINFO trainable.py:597 -- Current state after restoring: {'_iteration': 200, '_timesteps_total': None, '_time_total': 9502.410031795502, '_episodes_total': 65137}\n"
     ]
    },
    {
     "name": "stdout",
     "output_type": "stream",
     "text": [
      "checkpoint-200\n"
     ]
    },
    {
     "name": "stderr",
     "output_type": "stream",
     "text": [
      "2022-10-29 10:13:30,881\tINFO trainable.py:588 -- Restored on 10.159.0.40 from checkpoint: /gpfsscratch/rech/imi/uzw47io/elias_expe/2_agents/all/modified_reward/6_landmarks_reward2/naming_game_30msg_alpha10_temp30/2022-10-26_12-23-36pt_blwdm/checkpoint_000210/checkpoint-210\n",
      "2022-10-29 10:13:30,882\tINFO trainable.py:597 -- Current state after restoring: {'_iteration': 210, '_timesteps_total': None, '_time_total': 9926.601670742035, '_episodes_total': 70549}\n"
     ]
    },
    {
     "name": "stdout",
     "output_type": "stream",
     "text": [
      "checkpoint-210\n"
     ]
    },
    {
     "name": "stderr",
     "output_type": "stream",
     "text": [
      "2022-10-29 10:13:31,501\tINFO trainable.py:588 -- Restored on 10.159.0.40 from checkpoint: /gpfsscratch/rech/imi/uzw47io/elias_expe/2_agents/all/modified_reward/6_landmarks_reward2/naming_game_30msg_alpha10_temp30/2022-10-26_12-23-36pt_blwdm/checkpoint_000220/checkpoint-220\n",
      "2022-10-29 10:13:31,502\tINFO trainable.py:597 -- Current state after restoring: {'_iteration': 220, '_timesteps_total': None, '_time_total': 10343.96875500679, '_episodes_total': 75922}\n"
     ]
    },
    {
     "name": "stdout",
     "output_type": "stream",
     "text": [
      "checkpoint-220\n"
     ]
    },
    {
     "name": "stderr",
     "output_type": "stream",
     "text": [
      "2022-10-29 10:13:32,698\tINFO trainable.py:588 -- Restored on 10.159.0.40 from checkpoint: /gpfsscratch/rech/imi/uzw47io/elias_expe/2_agents/all/modified_reward/6_landmarks_reward2/naming_game_30msg_alpha10_temp30/2022-10-26_12-23-36pt_blwdm/checkpoint_000230/checkpoint-230\n",
      "2022-10-29 10:13:32,700\tINFO trainable.py:597 -- Current state after restoring: {'_iteration': 230, '_timesteps_total': None, '_time_total': 10756.82982826233, '_episodes_total': 81137}\n"
     ]
    },
    {
     "name": "stdout",
     "output_type": "stream",
     "text": [
      "checkpoint-230\n"
     ]
    },
    {
     "name": "stderr",
     "output_type": "stream",
     "text": [
      "2022-10-29 10:13:33,342\tINFO trainable.py:588 -- Restored on 10.159.0.40 from checkpoint: /gpfsscratch/rech/imi/uzw47io/elias_expe/2_agents/all/modified_reward/6_landmarks_reward2/naming_game_30msg_alpha10_temp30/2022-10-26_12-23-36pt_blwdm/checkpoint_000240/checkpoint-240\n",
      "2022-10-29 10:13:33,343\tINFO trainable.py:597 -- Current state after restoring: {'_iteration': 240, '_timesteps_total': None, '_time_total': 11194.049307823181, '_episodes_total': 86164}\n"
     ]
    },
    {
     "name": "stdout",
     "output_type": "stream",
     "text": [
      "checkpoint-240\n"
     ]
    },
    {
     "name": "stderr",
     "output_type": "stream",
     "text": [
      "2022-10-29 10:13:33,943\tINFO trainable.py:588 -- Restored on 10.159.0.40 from checkpoint: /gpfsscratch/rech/imi/uzw47io/elias_expe/2_agents/all/modified_reward/6_landmarks_reward2/naming_game_30msg_alpha10_temp30/2022-10-26_12-23-36pt_blwdm/checkpoint_000250/checkpoint-250\n",
      "2022-10-29 10:13:33,945\tINFO trainable.py:597 -- Current state after restoring: {'_iteration': 250, '_timesteps_total': None, '_time_total': 11620.094363212585, '_episodes_total': 91404}\n"
     ]
    },
    {
     "name": "stdout",
     "output_type": "stream",
     "text": [
      "checkpoint-250\n"
     ]
    },
    {
     "name": "stderr",
     "output_type": "stream",
     "text": [
      "2022-10-29 10:13:34,565\tINFO trainable.py:588 -- Restored on 10.159.0.40 from checkpoint: /gpfsscratch/rech/imi/uzw47io/elias_expe/2_agents/all/modified_reward/6_landmarks_reward2/naming_game_30msg_alpha10_temp30/2022-10-26_12-23-36pt_blwdm/checkpoint_000260/checkpoint-260\n",
      "2022-10-29 10:13:34,566\tINFO trainable.py:597 -- Current state after restoring: {'_iteration': 260, '_timesteps_total': None, '_time_total': 12053.990909814835, '_episodes_total': 96681}\n"
     ]
    },
    {
     "name": "stdout",
     "output_type": "stream",
     "text": [
      "checkpoint-260\n"
     ]
    },
    {
     "name": "stderr",
     "output_type": "stream",
     "text": [
      "2022-10-29 10:13:35,167\tINFO trainable.py:588 -- Restored on 10.159.0.40 from checkpoint: /gpfsscratch/rech/imi/uzw47io/elias_expe/2_agents/all/modified_reward/6_landmarks_reward2/naming_game_30msg_alpha10_temp30/2022-10-26_12-23-36pt_blwdm/checkpoint_000270/checkpoint-270\n",
      "2022-10-29 10:13:35,168\tINFO trainable.py:597 -- Current state after restoring: {'_iteration': 270, '_timesteps_total': None, '_time_total': 12498.38443851471, '_episodes_total': 102698}\n"
     ]
    },
    {
     "name": "stdout",
     "output_type": "stream",
     "text": [
      "checkpoint-270\n"
     ]
    },
    {
     "name": "stderr",
     "output_type": "stream",
     "text": [
      "2022-10-29 10:13:35,791\tINFO trainable.py:588 -- Restored on 10.159.0.40 from checkpoint: /gpfsscratch/rech/imi/uzw47io/elias_expe/2_agents/all/modified_reward/6_landmarks_reward2/naming_game_30msg_alpha10_temp30/2022-10-26_12-23-36pt_blwdm/checkpoint_000280/checkpoint-280\n",
      "2022-10-29 10:13:35,792\tINFO trainable.py:597 -- Current state after restoring: {'_iteration': 280, '_timesteps_total': None, '_time_total': 12935.342216730118, '_episodes_total': 108529}\n"
     ]
    },
    {
     "name": "stdout",
     "output_type": "stream",
     "text": [
      "checkpoint-280\n"
     ]
    },
    {
     "name": "stderr",
     "output_type": "stream",
     "text": [
      "2022-10-29 10:13:36,425\tINFO trainable.py:588 -- Restored on 10.159.0.40 from checkpoint: /gpfsscratch/rech/imi/uzw47io/elias_expe/2_agents/all/modified_reward/6_landmarks_reward2/naming_game_30msg_alpha10_temp30/2022-10-26_12-23-36pt_blwdm/checkpoint_000290/checkpoint-290\n",
      "2022-10-29 10:13:36,426\tINFO trainable.py:597 -- Current state after restoring: {'_iteration': 290, '_timesteps_total': None, '_time_total': 13380.83837223053, '_episodes_total': 114338}\n"
     ]
    },
    {
     "name": "stdout",
     "output_type": "stream",
     "text": [
      "checkpoint-290\n"
     ]
    },
    {
     "name": "stderr",
     "output_type": "stream",
     "text": [
      "2022-10-29 10:13:37,041\tINFO trainable.py:588 -- Restored on 10.159.0.40 from checkpoint: /gpfsscratch/rech/imi/uzw47io/elias_expe/2_agents/all/modified_reward/6_landmarks_reward2/naming_game_30msg_alpha10_temp30/2022-10-26_12-23-36pt_blwdm/checkpoint_000300/checkpoint-300\n",
      "2022-10-29 10:13:37,046\tINFO trainable.py:597 -- Current state after restoring: {'_iteration': 300, '_timesteps_total': None, '_time_total': 13824.827579021454, '_episodes_total': 120284}\n"
     ]
    },
    {
     "name": "stdout",
     "output_type": "stream",
     "text": [
      "checkpoint-300\n"
     ]
    },
    {
     "name": "stderr",
     "output_type": "stream",
     "text": [
      "2022-10-29 10:13:37,686\tINFO trainable.py:588 -- Restored on 10.159.0.40 from checkpoint: /gpfsscratch/rech/imi/uzw47io/elias_expe/2_agents/all/modified_reward/6_landmarks_reward2/naming_game_30msg_alpha10_temp30/2022-10-26_12-23-36pt_blwdm/checkpoint_000310/checkpoint-310\n",
      "2022-10-29 10:13:37,686\tINFO trainable.py:597 -- Current state after restoring: {'_iteration': 310, '_timesteps_total': None, '_time_total': 14291.235612630844, '_episodes_total': 126584}\n"
     ]
    },
    {
     "name": "stdout",
     "output_type": "stream",
     "text": [
      "checkpoint-310\n"
     ]
    },
    {
     "name": "stderr",
     "output_type": "stream",
     "text": [
      "2022-10-29 10:13:38,320\tINFO trainable.py:588 -- Restored on 10.159.0.40 from checkpoint: /gpfsscratch/rech/imi/uzw47io/elias_expe/2_agents/all/modified_reward/6_landmarks_reward2/naming_game_30msg_alpha10_temp30/2022-10-26_12-23-36pt_blwdm/checkpoint_000320/checkpoint-320\n",
      "2022-10-29 10:13:38,321\tINFO trainable.py:597 -- Current state after restoring: {'_iteration': 320, '_timesteps_total': None, '_time_total': 14745.04335474968, '_episodes_total': 132732}\n"
     ]
    },
    {
     "name": "stdout",
     "output_type": "stream",
     "text": [
      "checkpoint-320\n"
     ]
    },
    {
     "name": "stderr",
     "output_type": "stream",
     "text": [
      "2022-10-29 10:13:38,959\tINFO trainable.py:588 -- Restored on 10.159.0.40 from checkpoint: /gpfsscratch/rech/imi/uzw47io/elias_expe/2_agents/all/modified_reward/6_landmarks_reward2/naming_game_30msg_alpha10_temp30/2022-10-26_12-23-36pt_blwdm/checkpoint_000330/checkpoint-330\n",
      "2022-10-29 10:13:38,960\tINFO trainable.py:597 -- Current state after restoring: {'_iteration': 330, '_timesteps_total': None, '_time_total': 15173.285784006119, '_episodes_total': 138970}\n"
     ]
    },
    {
     "name": "stdout",
     "output_type": "stream",
     "text": [
      "checkpoint-330\n"
     ]
    },
    {
     "name": "stderr",
     "output_type": "stream",
     "text": [
      "2022-10-29 10:13:39,564\tINFO trainable.py:588 -- Restored on 10.159.0.40 from checkpoint: /gpfsscratch/rech/imi/uzw47io/elias_expe/2_agents/all/modified_reward/6_landmarks_reward2/naming_game_30msg_alpha10_temp30/2022-10-26_12-23-36pt_blwdm/checkpoint_000340/checkpoint-340\n",
      "2022-10-29 10:13:39,565\tINFO trainable.py:597 -- Current state after restoring: {'_iteration': 340, '_timesteps_total': None, '_time_total': 15594.757323980331, '_episodes_total': 145226}\n"
     ]
    },
    {
     "name": "stdout",
     "output_type": "stream",
     "text": [
      "checkpoint-340\n"
     ]
    },
    {
     "name": "stderr",
     "output_type": "stream",
     "text": [
      "2022-10-29 10:13:40,188\tINFO trainable.py:588 -- Restored on 10.159.0.40 from checkpoint: /gpfsscratch/rech/imi/uzw47io/elias_expe/2_agents/all/modified_reward/6_landmarks_reward2/naming_game_30msg_alpha10_temp30/2022-10-26_12-23-36pt_blwdm/checkpoint_000350/checkpoint-350\n",
      "2022-10-29 10:13:40,189\tINFO trainable.py:597 -- Current state after restoring: {'_iteration': 350, '_timesteps_total': None, '_time_total': 16015.982122182846, '_episodes_total': 151099}\n"
     ]
    },
    {
     "name": "stdout",
     "output_type": "stream",
     "text": [
      "checkpoint-350\n"
     ]
    },
    {
     "name": "stderr",
     "output_type": "stream",
     "text": [
      "2022-10-29 10:13:41,385\tINFO trainable.py:588 -- Restored on 10.159.0.40 from checkpoint: /gpfsscratch/rech/imi/uzw47io/elias_expe/2_agents/all/modified_reward/6_landmarks_reward2/naming_game_30msg_alpha10_temp30/2022-10-26_12-23-36pt_blwdm/checkpoint_000360/checkpoint-360\n",
      "2022-10-29 10:13:41,388\tINFO trainable.py:597 -- Current state after restoring: {'_iteration': 360, '_timesteps_total': None, '_time_total': 16426.84485554695, '_episodes_total': 156828}\n"
     ]
    },
    {
     "name": "stdout",
     "output_type": "stream",
     "text": [
      "checkpoint-360\n"
     ]
    },
    {
     "name": "stderr",
     "output_type": "stream",
     "text": [
      "2022-10-29 10:13:42,029\tINFO trainable.py:588 -- Restored on 10.159.0.40 from checkpoint: /gpfsscratch/rech/imi/uzw47io/elias_expe/2_agents/all/modified_reward/6_landmarks_reward2/naming_game_30msg_alpha10_temp30/2022-10-26_12-23-36pt_blwdm/checkpoint_000370/checkpoint-370\n",
      "2022-10-29 10:13:42,030\tINFO trainable.py:597 -- Current state after restoring: {'_iteration': 370, '_timesteps_total': None, '_time_total': 16854.964437007904, '_episodes_total': 162562}\n"
     ]
    },
    {
     "name": "stdout",
     "output_type": "stream",
     "text": [
      "checkpoint-370\n"
     ]
    },
    {
     "name": "stderr",
     "output_type": "stream",
     "text": [
      "2022-10-29 10:13:42,669\tINFO trainable.py:588 -- Restored on 10.159.0.40 from checkpoint: /gpfsscratch/rech/imi/uzw47io/elias_expe/2_agents/all/modified_reward/6_landmarks_reward2/naming_game_30msg_alpha10_temp30/2022-10-26_12-23-36pt_blwdm/checkpoint_000380/checkpoint-380\n",
      "2022-10-29 10:13:42,670\tINFO trainable.py:597 -- Current state after restoring: {'_iteration': 380, '_timesteps_total': None, '_time_total': 17293.18014883995, '_episodes_total': 168552}\n"
     ]
    },
    {
     "name": "stdout",
     "output_type": "stream",
     "text": [
      "checkpoint-380\n"
     ]
    },
    {
     "name": "stderr",
     "output_type": "stream",
     "text": [
      "2022-10-29 10:13:43,301\tINFO trainable.py:588 -- Restored on 10.159.0.40 from checkpoint: /gpfsscratch/rech/imi/uzw47io/elias_expe/2_agents/all/modified_reward/6_landmarks_reward2/naming_game_30msg_alpha10_temp30/2022-10-26_12-23-36pt_blwdm/checkpoint_000390/checkpoint-390\n",
      "2022-10-29 10:13:43,301\tINFO trainable.py:597 -- Current state after restoring: {'_iteration': 390, '_timesteps_total': None, '_time_total': 17735.04607772827, '_episodes_total': 174457}\n"
     ]
    },
    {
     "name": "stdout",
     "output_type": "stream",
     "text": [
      "checkpoint-390\n"
     ]
    },
    {
     "name": "stderr",
     "output_type": "stream",
     "text": [
      "2022-10-29 10:13:43,925\tINFO trainable.py:588 -- Restored on 10.159.0.40 from checkpoint: /gpfsscratch/rech/imi/uzw47io/elias_expe/2_agents/all/modified_reward/6_landmarks_reward2/naming_game_30msg_alpha10_temp30/2022-10-26_12-23-36pt_blwdm/checkpoint_000400/checkpoint-400\n",
      "2022-10-29 10:13:43,926\tINFO trainable.py:597 -- Current state after restoring: {'_iteration': 400, '_timesteps_total': None, '_time_total': 18159.481841802597, '_episodes_total': 180604}\n"
     ]
    },
    {
     "name": "stdout",
     "output_type": "stream",
     "text": [
      "checkpoint-400\n"
     ]
    },
    {
     "name": "stderr",
     "output_type": "stream",
     "text": [
      "2022-10-29 10:13:44,552\tINFO trainable.py:588 -- Restored on 10.159.0.40 from checkpoint: /gpfsscratch/rech/imi/uzw47io/elias_expe/2_agents/all/modified_reward/6_landmarks_reward2/naming_game_30msg_alpha10_temp30/2022-10-26_12-23-36pt_blwdm/checkpoint_000410/checkpoint-410\n",
      "2022-10-29 10:13:44,553\tINFO trainable.py:597 -- Current state after restoring: {'_iteration': 410, '_timesteps_total': None, '_time_total': 18581.80319094658, '_episodes_total': 186691}\n"
     ]
    },
    {
     "name": "stdout",
     "output_type": "stream",
     "text": [
      "checkpoint-410\n"
     ]
    },
    {
     "name": "stderr",
     "output_type": "stream",
     "text": [
      "2022-10-29 10:13:45,170\tINFO trainable.py:588 -- Restored on 10.159.0.40 from checkpoint: /gpfsscratch/rech/imi/uzw47io/elias_expe/2_agents/all/modified_reward/6_landmarks_reward2/naming_game_30msg_alpha10_temp30/2022-10-26_12-23-36pt_blwdm/checkpoint_000420/checkpoint-420\n",
      "2022-10-29 10:13:45,170\tINFO trainable.py:597 -- Current state after restoring: {'_iteration': 420, '_timesteps_total': None, '_time_total': 19000.709248304367, '_episodes_total': 192717}\n"
     ]
    },
    {
     "name": "stdout",
     "output_type": "stream",
     "text": [
      "checkpoint-420\n"
     ]
    },
    {
     "name": "stderr",
     "output_type": "stream",
     "text": [
      "2022-10-29 10:13:45,795\tINFO trainable.py:588 -- Restored on 10.159.0.40 from checkpoint: /gpfsscratch/rech/imi/uzw47io/elias_expe/2_agents/all/modified_reward/6_landmarks_reward2/naming_game_30msg_alpha10_temp30/2022-10-26_12-23-36pt_blwdm/checkpoint_000430/checkpoint-430\n",
      "2022-10-29 10:13:45,796\tINFO trainable.py:597 -- Current state after restoring: {'_iteration': 430, '_timesteps_total': None, '_time_total': 19418.12465238571, '_episodes_total': 198490}\n"
     ]
    },
    {
     "name": "stdout",
     "output_type": "stream",
     "text": [
      "checkpoint-430\n"
     ]
    },
    {
     "name": "stderr",
     "output_type": "stream",
     "text": [
      "2022-10-29 10:13:46,426\tINFO trainable.py:588 -- Restored on 10.159.0.40 from checkpoint: /gpfsscratch/rech/imi/uzw47io/elias_expe/2_agents/all/modified_reward/6_landmarks_reward2/naming_game_30msg_alpha10_temp30/2022-10-26_12-23-36pt_blwdm/checkpoint_000440/checkpoint-440\n",
      "2022-10-29 10:13:46,427\tINFO trainable.py:597 -- Current state after restoring: {'_iteration': 440, '_timesteps_total': None, '_time_total': 19823.982088804245, '_episodes_total': 204098}\n"
     ]
    },
    {
     "name": "stdout",
     "output_type": "stream",
     "text": [
      "checkpoint-440\n"
     ]
    },
    {
     "name": "stderr",
     "output_type": "stream",
     "text": [
      "2022-10-29 10:13:47,054\tINFO trainable.py:588 -- Restored on 10.159.0.40 from checkpoint: /gpfsscratch/rech/imi/uzw47io/elias_expe/2_agents/all/modified_reward/6_landmarks_reward2/naming_game_30msg_alpha10_temp30/2022-10-26_12-23-36pt_blwdm/checkpoint_000450/checkpoint-450\n",
      "2022-10-29 10:13:47,055\tINFO trainable.py:597 -- Current state after restoring: {'_iteration': 450, '_timesteps_total': None, '_time_total': 20228.18304991722, '_episodes_total': 209700}\n"
     ]
    },
    {
     "name": "stdout",
     "output_type": "stream",
     "text": [
      "checkpoint-450\n"
     ]
    },
    {
     "name": "stderr",
     "output_type": "stream",
     "text": [
      "2022-10-29 10:13:47,688\tINFO trainable.py:588 -- Restored on 10.159.0.40 from checkpoint: /gpfsscratch/rech/imi/uzw47io/elias_expe/2_agents/all/modified_reward/6_landmarks_reward2/naming_game_30msg_alpha10_temp30/2022-10-26_12-23-36pt_blwdm/checkpoint_000460/checkpoint-460\n",
      "2022-10-29 10:13:47,689\tINFO trainable.py:597 -- Current state after restoring: {'_iteration': 460, '_timesteps_total': None, '_time_total': 20635.207371234894, '_episodes_total': 215450}\n"
     ]
    },
    {
     "name": "stdout",
     "output_type": "stream",
     "text": [
      "checkpoint-460\n"
     ]
    },
    {
     "name": "stderr",
     "output_type": "stream",
     "text": [
      "2022-10-29 10:13:48,307\tINFO trainable.py:588 -- Restored on 10.159.0.40 from checkpoint: /gpfsscratch/rech/imi/uzw47io/elias_expe/2_agents/all/modified_reward/6_landmarks_reward2/naming_game_30msg_alpha10_temp30/2022-10-26_12-23-36pt_blwdm/checkpoint_000470/checkpoint-470\n",
      "2022-10-29 10:13:48,309\tINFO trainable.py:597 -- Current state after restoring: {'_iteration': 470, '_timesteps_total': None, '_time_total': 21039.642280340195, '_episodes_total': 221192}\n"
     ]
    },
    {
     "name": "stdout",
     "output_type": "stream",
     "text": [
      "checkpoint-470\n"
     ]
    },
    {
     "name": "stderr",
     "output_type": "stream",
     "text": [
      "2022-10-29 10:13:48,932\tINFO trainable.py:588 -- Restored on 10.159.0.40 from checkpoint: /gpfsscratch/rech/imi/uzw47io/elias_expe/2_agents/all/modified_reward/6_landmarks_reward2/naming_game_30msg_alpha10_temp30/2022-10-26_12-23-36pt_blwdm/checkpoint_000480/checkpoint-480\n",
      "2022-10-29 10:13:48,933\tINFO trainable.py:597 -- Current state after restoring: {'_iteration': 480, '_timesteps_total': None, '_time_total': 21452.029737710953, '_episodes_total': 227111}\n"
     ]
    },
    {
     "name": "stdout",
     "output_type": "stream",
     "text": [
      "checkpoint-480\n"
     ]
    },
    {
     "name": "stderr",
     "output_type": "stream",
     "text": [
      "2022-10-29 10:13:50,140\tINFO trainable.py:588 -- Restored on 10.159.0.40 from checkpoint: /gpfsscratch/rech/imi/uzw47io/elias_expe/2_agents/all/modified_reward/6_landmarks_reward2/naming_game_30msg_alpha10_temp30/2022-10-26_12-23-36pt_blwdm/checkpoint_000490/checkpoint-490\n",
      "2022-10-29 10:13:50,141\tINFO trainable.py:597 -- Current state after restoring: {'_iteration': 490, '_timesteps_total': None, '_time_total': 21867.383573293686, '_episodes_total': 233114}\n"
     ]
    },
    {
     "name": "stdout",
     "output_type": "stream",
     "text": [
      "checkpoint-490\n"
     ]
    },
    {
     "name": "stderr",
     "output_type": "stream",
     "text": [
      "2022-10-29 10:13:50,771\tINFO trainable.py:588 -- Restored on 10.159.0.40 from checkpoint: /gpfsscratch/rech/imi/uzw47io/elias_expe/2_agents/all/modified_reward/6_landmarks_reward2/naming_game_30msg_alpha10_temp30/2022-10-26_12-23-36pt_blwdm/checkpoint_000500/checkpoint-500\n",
      "2022-10-29 10:13:50,772\tINFO trainable.py:597 -- Current state after restoring: {'_iteration': 500, '_timesteps_total': None, '_time_total': 22276.293229818344, '_episodes_total': 238760}\n"
     ]
    },
    {
     "name": "stdout",
     "output_type": "stream",
     "text": [
      "checkpoint-500\n"
     ]
    },
    {
     "name": "stderr",
     "output_type": "stream",
     "text": [
      "2022-10-29 10:13:52,278\tINFO trainable.py:588 -- Restored on 10.159.0.40 from checkpoint: /gpfsscratch/rech/imi/uzw47io/elias_expe/2_agents/all/modified_reward/6_landmarks_reward2/naming_game_30msg_alpha10_temp30/2022-10-26_12-23-36pt_blwdm/checkpoint_000510/checkpoint-510\n",
      "2022-10-29 10:13:52,283\tINFO trainable.py:597 -- Current state after restoring: {'_iteration': 510, '_timesteps_total': None, '_time_total': 22684.79279780388, '_episodes_total': 244366}\n"
     ]
    },
    {
     "name": "stdout",
     "output_type": "stream",
     "text": [
      "checkpoint-510\n"
     ]
    },
    {
     "name": "stderr",
     "output_type": "stream",
     "text": [
      "2022-10-29 10:13:52,912\tINFO trainable.py:588 -- Restored on 10.159.0.40 from checkpoint: /gpfsscratch/rech/imi/uzw47io/elias_expe/2_agents/all/modified_reward/6_landmarks_reward2/naming_game_30msg_alpha10_temp30/2022-10-26_12-23-36pt_blwdm/checkpoint_000520/checkpoint-520\n",
      "2022-10-29 10:13:52,913\tINFO trainable.py:597 -- Current state after restoring: {'_iteration': 520, '_timesteps_total': None, '_time_total': 23102.513276338577, '_episodes_total': 249787}\n"
     ]
    },
    {
     "name": "stdout",
     "output_type": "stream",
     "text": [
      "checkpoint-520\n"
     ]
    },
    {
     "name": "stderr",
     "output_type": "stream",
     "text": [
      "2022-10-29 10:13:53,513\tINFO trainable.py:588 -- Restored on 10.159.0.40 from checkpoint: /gpfsscratch/rech/imi/uzw47io/elias_expe/2_agents/all/modified_reward/6_landmarks_reward2/naming_game_30msg_alpha10_temp30/2022-10-26_12-23-36pt_blwdm/checkpoint_000530/checkpoint-530\n",
      "2022-10-29 10:13:53,513\tINFO trainable.py:597 -- Current state after restoring: {'_iteration': 530, '_timesteps_total': None, '_time_total': 23515.533206939697, '_episodes_total': 255297}\n"
     ]
    },
    {
     "name": "stdout",
     "output_type": "stream",
     "text": [
      "checkpoint-530\n"
     ]
    },
    {
     "name": "stderr",
     "output_type": "stream",
     "text": [
      "2022-10-29 10:13:54,154\tINFO trainable.py:588 -- Restored on 10.159.0.40 from checkpoint: /gpfsscratch/rech/imi/uzw47io/elias_expe/2_agents/all/modified_reward/6_landmarks_reward2/naming_game_30msg_alpha10_temp30/2022-10-26_12-23-36pt_blwdm/checkpoint_000540/checkpoint-540\n",
      "2022-10-29 10:13:54,154\tINFO trainable.py:597 -- Current state after restoring: {'_iteration': 540, '_timesteps_total': None, '_time_total': 23930.743162870407, '_episodes_total': 260781}\n"
     ]
    },
    {
     "name": "stdout",
     "output_type": "stream",
     "text": [
      "checkpoint-540\n"
     ]
    },
    {
     "name": "stderr",
     "output_type": "stream",
     "text": [
      "2022-10-29 10:13:54,790\tINFO trainable.py:588 -- Restored on 10.159.0.40 from checkpoint: /gpfsscratch/rech/imi/uzw47io/elias_expe/2_agents/all/modified_reward/6_landmarks_reward2/naming_game_30msg_alpha10_temp30/2022-10-26_12-23-36pt_blwdm/checkpoint_000550/checkpoint-550\n",
      "2022-10-29 10:13:54,791\tINFO trainable.py:597 -- Current state after restoring: {'_iteration': 550, '_timesteps_total': None, '_time_total': 24347.989007472992, '_episodes_total': 267217}\n"
     ]
    },
    {
     "name": "stdout",
     "output_type": "stream",
     "text": [
      "checkpoint-550\n"
     ]
    },
    {
     "name": "stderr",
     "output_type": "stream",
     "text": [
      "2022-10-29 10:13:55,422\tINFO trainable.py:588 -- Restored on 10.159.0.40 from checkpoint: /gpfsscratch/rech/imi/uzw47io/elias_expe/2_agents/all/modified_reward/6_landmarks_reward2/naming_game_30msg_alpha10_temp30/2022-10-26_12-23-36pt_blwdm/checkpoint_000560/checkpoint-560\n",
      "2022-10-29 10:13:55,423\tINFO trainable.py:597 -- Current state after restoring: {'_iteration': 560, '_timesteps_total': None, '_time_total': 24773.495509386063, '_episodes_total': 274593}\n"
     ]
    },
    {
     "name": "stdout",
     "output_type": "stream",
     "text": [
      "checkpoint-560\n"
     ]
    },
    {
     "name": "stderr",
     "output_type": "stream",
     "text": [
      "2022-10-29 10:13:56,053\tINFO trainable.py:588 -- Restored on 10.159.0.40 from checkpoint: /gpfsscratch/rech/imi/uzw47io/elias_expe/2_agents/all/modified_reward/6_landmarks_reward2/naming_game_30msg_alpha10_temp30/2022-10-26_12-23-36pt_blwdm/checkpoint_000570/checkpoint-570\n",
      "2022-10-29 10:13:56,058\tINFO trainable.py:597 -- Current state after restoring: {'_iteration': 570, '_timesteps_total': None, '_time_total': 25198.427007198334, '_episodes_total': 282035}\n"
     ]
    },
    {
     "name": "stdout",
     "output_type": "stream",
     "text": [
      "checkpoint-570\n"
     ]
    },
    {
     "name": "stderr",
     "output_type": "stream",
     "text": [
      "2022-10-29 10:13:56,682\tINFO trainable.py:588 -- Restored on 10.159.0.40 from checkpoint: /gpfsscratch/rech/imi/uzw47io/elias_expe/2_agents/all/modified_reward/6_landmarks_reward2/naming_game_30msg_alpha10_temp30/2022-10-26_12-23-36pt_blwdm/checkpoint_000580/checkpoint-580\n",
      "2022-10-29 10:13:56,683\tINFO trainable.py:597 -- Current state after restoring: {'_iteration': 580, '_timesteps_total': None, '_time_total': 25635.402944087982, '_episodes_total': 290236}\n"
     ]
    },
    {
     "name": "stdout",
     "output_type": "stream",
     "text": [
      "checkpoint-580\n"
     ]
    },
    {
     "name": "stderr",
     "output_type": "stream",
     "text": [
      "2022-10-29 10:13:57,314\tINFO trainable.py:588 -- Restored on 10.159.0.40 from checkpoint: /gpfsscratch/rech/imi/uzw47io/elias_expe/2_agents/all/modified_reward/6_landmarks_reward2/naming_game_30msg_alpha10_temp30/2022-10-26_12-23-36pt_blwdm/checkpoint_000590/checkpoint-590\n",
      "2022-10-29 10:13:57,318\tINFO trainable.py:597 -- Current state after restoring: {'_iteration': 590, '_timesteps_total': None, '_time_total': 26082.3011367321, '_episodes_total': 298895}\n"
     ]
    },
    {
     "name": "stdout",
     "output_type": "stream",
     "text": [
      "checkpoint-590\n"
     ]
    },
    {
     "name": "stderr",
     "output_type": "stream",
     "text": [
      "2022-10-29 10:13:57,943\tINFO trainable.py:588 -- Restored on 10.159.0.40 from checkpoint: /gpfsscratch/rech/imi/uzw47io/elias_expe/2_agents/all/modified_reward/6_landmarks_reward2/naming_game_30msg_alpha10_temp30/2022-10-26_12-23-36pt_blwdm/checkpoint_000600/checkpoint-600\n",
      "2022-10-29 10:13:57,944\tINFO trainable.py:597 -- Current state after restoring: {'_iteration': 600, '_timesteps_total': None, '_time_total': 26537.76534819603, '_episodes_total': 307766}\n"
     ]
    },
    {
     "name": "stdout",
     "output_type": "stream",
     "text": [
      "checkpoint-600\n"
     ]
    },
    {
     "name": "stderr",
     "output_type": "stream",
     "text": [
      "2022-10-29 10:13:59,160\tINFO trainable.py:588 -- Restored on 10.159.0.40 from checkpoint: /gpfsscratch/rech/imi/uzw47io/elias_expe/2_agents/all/modified_reward/6_landmarks_reward2/naming_game_30msg_alpha10_temp30/2022-10-26_12-23-36pt_blwdm/checkpoint_000610/checkpoint-610\n",
      "2022-10-29 10:13:59,161\tINFO trainable.py:597 -- Current state after restoring: {'_iteration': 610, '_timesteps_total': None, '_time_total': 26983.659063339233, '_episodes_total': 316752}\n"
     ]
    },
    {
     "name": "stdout",
     "output_type": "stream",
     "text": [
      "checkpoint-610\n"
     ]
    },
    {
     "name": "stderr",
     "output_type": "stream",
     "text": [
      "2022-10-29 10:13:59,799\tINFO trainable.py:588 -- Restored on 10.159.0.40 from checkpoint: /gpfsscratch/rech/imi/uzw47io/elias_expe/2_agents/all/modified_reward/6_landmarks_reward2/naming_game_30msg_alpha10_temp30/2022-10-26_12-23-36pt_blwdm/checkpoint_000620/checkpoint-620\n",
      "2022-10-29 10:13:59,800\tINFO trainable.py:597 -- Current state after restoring: {'_iteration': 620, '_timesteps_total': None, '_time_total': 27435.88044166565, '_episodes_total': 325937}\n"
     ]
    },
    {
     "name": "stdout",
     "output_type": "stream",
     "text": [
      "checkpoint-620\n"
     ]
    },
    {
     "name": "stderr",
     "output_type": "stream",
     "text": [
      "2022-10-29 10:14:00,422\tINFO trainable.py:588 -- Restored on 10.159.0.40 from checkpoint: /gpfsscratch/rech/imi/uzw47io/elias_expe/2_agents/all/modified_reward/6_landmarks_reward2/naming_game_30msg_alpha10_temp30/2022-10-26_12-23-36pt_blwdm/checkpoint_000630/checkpoint-630\n",
      "2022-10-29 10:14:00,423\tINFO trainable.py:597 -- Current state after restoring: {'_iteration': 630, '_timesteps_total': None, '_time_total': 27883.091509342194, '_episodes_total': 335022}\n"
     ]
    },
    {
     "name": "stdout",
     "output_type": "stream",
     "text": [
      "checkpoint-630\n"
     ]
    },
    {
     "name": "stderr",
     "output_type": "stream",
     "text": [
      "2022-10-29 10:14:01,053\tINFO trainable.py:588 -- Restored on 10.159.0.40 from checkpoint: /gpfsscratch/rech/imi/uzw47io/elias_expe/2_agents/all/modified_reward/6_landmarks_reward2/naming_game_30msg_alpha10_temp30/2022-10-26_12-23-36pt_blwdm/checkpoint_000640/checkpoint-640\n",
      "2022-10-29 10:14:01,054\tINFO trainable.py:597 -- Current state after restoring: {'_iteration': 640, '_timesteps_total': None, '_time_total': 28304.330394268036, '_episodes_total': 342827}\n"
     ]
    },
    {
     "name": "stdout",
     "output_type": "stream",
     "text": [
      "checkpoint-640\n"
     ]
    },
    {
     "name": "stderr",
     "output_type": "stream",
     "text": [
      "2022-10-29 10:14:01,672\tINFO trainable.py:588 -- Restored on 10.159.0.40 from checkpoint: /gpfsscratch/rech/imi/uzw47io/elias_expe/2_agents/all/modified_reward/6_landmarks_reward2/naming_game_30msg_alpha10_temp30/2022-10-26_12-23-36pt_blwdm/checkpoint_000650/checkpoint-650\n",
      "2022-10-29 10:14:01,675\tINFO trainable.py:597 -- Current state after restoring: {'_iteration': 650, '_timesteps_total': None, '_time_total': 28750.362911224365, '_episodes_total': 351779}\n"
     ]
    },
    {
     "name": "stdout",
     "output_type": "stream",
     "text": [
      "checkpoint-650\n"
     ]
    },
    {
     "name": "stderr",
     "output_type": "stream",
     "text": [
      "2022-10-29 10:14:02,285\tINFO trainable.py:588 -- Restored on 10.159.0.40 from checkpoint: /gpfsscratch/rech/imi/uzw47io/elias_expe/2_agents/all/modified_reward/6_landmarks_reward2/naming_game_30msg_alpha10_temp30/2022-10-26_12-23-36pt_blwdm/checkpoint_000660/checkpoint-660\n",
      "2022-10-29 10:14:02,291\tINFO trainable.py:597 -- Current state after restoring: {'_iteration': 660, '_timesteps_total': None, '_time_total': 29198.53289270401, '_episodes_total': 360732}\n"
     ]
    },
    {
     "name": "stdout",
     "output_type": "stream",
     "text": [
      "checkpoint-660\n"
     ]
    },
    {
     "name": "stderr",
     "output_type": "stream",
     "text": [
      "2022-10-29 10:14:02,907\tINFO trainable.py:588 -- Restored on 10.159.0.40 from checkpoint: /gpfsscratch/rech/imi/uzw47io/elias_expe/2_agents/all/modified_reward/6_landmarks_reward2/naming_game_30msg_alpha10_temp30/2022-10-26_12-23-36pt_blwdm/checkpoint_000670/checkpoint-670\n",
      "2022-10-29 10:14:02,908\tINFO trainable.py:597 -- Current state after restoring: {'_iteration': 670, '_timesteps_total': None, '_time_total': 29648.281690359116, '_episodes_total': 369809}\n"
     ]
    },
    {
     "name": "stdout",
     "output_type": "stream",
     "text": [
      "checkpoint-670\n"
     ]
    },
    {
     "name": "stderr",
     "output_type": "stream",
     "text": [
      "2022-10-29 10:14:03,536\tINFO trainable.py:588 -- Restored on 10.159.0.40 from checkpoint: /gpfsscratch/rech/imi/uzw47io/elias_expe/2_agents/all/modified_reward/6_landmarks_reward2/naming_game_30msg_alpha10_temp30/2022-10-26_12-23-36pt_blwdm/checkpoint_000680/checkpoint-680\n",
      "2022-10-29 10:14:03,537\tINFO trainable.py:597 -- Current state after restoring: {'_iteration': 680, '_timesteps_total': None, '_time_total': 30092.20274424553, '_episodes_total': 378889}\n"
     ]
    },
    {
     "name": "stdout",
     "output_type": "stream",
     "text": [
      "checkpoint-680\n"
     ]
    },
    {
     "name": "stderr",
     "output_type": "stream",
     "text": [
      "2022-10-29 10:14:04,178\tINFO trainable.py:588 -- Restored on 10.159.0.40 from checkpoint: /gpfsscratch/rech/imi/uzw47io/elias_expe/2_agents/all/modified_reward/6_landmarks_reward2/naming_game_30msg_alpha10_temp30/2022-10-26_12-23-36pt_blwdm/checkpoint_000690/checkpoint-690\n",
      "2022-10-29 10:14:04,179\tINFO trainable.py:597 -- Current state after restoring: {'_iteration': 690, '_timesteps_total': None, '_time_total': 30540.03012895584, '_episodes_total': 387862}\n"
     ]
    },
    {
     "name": "stdout",
     "output_type": "stream",
     "text": [
      "checkpoint-690\n"
     ]
    },
    {
     "name": "stderr",
     "output_type": "stream",
     "text": [
      "2022-10-29 10:14:04,788\tINFO trainable.py:588 -- Restored on 10.159.0.40 from checkpoint: /gpfsscratch/rech/imi/uzw47io/elias_expe/2_agents/all/modified_reward/6_landmarks_reward2/naming_game_30msg_alpha10_temp30/2022-10-26_12-23-36pt_blwdm/checkpoint_000700/checkpoint-700\n",
      "2022-10-29 10:14:04,789\tINFO trainable.py:597 -- Current state after restoring: {'_iteration': 700, '_timesteps_total': None, '_time_total': 30986.86992740631, '_episodes_total': 396565}\n"
     ]
    },
    {
     "name": "stdout",
     "output_type": "stream",
     "text": [
      "checkpoint-700\n"
     ]
    },
    {
     "name": "stderr",
     "output_type": "stream",
     "text": [
      "2022-10-29 10:14:05,403\tINFO trainable.py:588 -- Restored on 10.159.0.40 from checkpoint: /gpfsscratch/rech/imi/uzw47io/elias_expe/2_agents/all/modified_reward/6_landmarks_reward2/naming_game_30msg_alpha10_temp30/2022-10-26_12-23-36pt_blwdm/checkpoint_000710/checkpoint-710\n",
      "2022-10-29 10:14:05,403\tINFO trainable.py:597 -- Current state after restoring: {'_iteration': 710, '_timesteps_total': None, '_time_total': 31430.923753023148, '_episodes_total': 405029}\n"
     ]
    },
    {
     "name": "stdout",
     "output_type": "stream",
     "text": [
      "checkpoint-710\n"
     ]
    },
    {
     "name": "stderr",
     "output_type": "stream",
     "text": [
      "2022-10-29 10:14:06,036\tINFO trainable.py:588 -- Restored on 10.159.0.40 from checkpoint: /gpfsscratch/rech/imi/uzw47io/elias_expe/2_agents/all/modified_reward/6_landmarks_reward2/naming_game_30msg_alpha10_temp30/2022-10-26_12-23-36pt_blwdm/checkpoint_000720/checkpoint-720\n",
      "2022-10-29 10:14:06,037\tINFO trainable.py:597 -- Current state after restoring: {'_iteration': 720, '_timesteps_total': None, '_time_total': 31855.019484758377, '_episodes_total': 412788}\n"
     ]
    },
    {
     "name": "stdout",
     "output_type": "stream",
     "text": [
      "checkpoint-720\n"
     ]
    },
    {
     "name": "stderr",
     "output_type": "stream",
     "text": [
      "2022-10-29 10:14:06,659\tINFO trainable.py:588 -- Restored on 10.159.0.40 from checkpoint: /gpfsscratch/rech/imi/uzw47io/elias_expe/2_agents/all/modified_reward/6_landmarks_reward2/naming_game_30msg_alpha10_temp30/2022-10-26_12-23-36pt_blwdm/checkpoint_000730/checkpoint-730\n",
      "2022-10-29 10:14:06,660\tINFO trainable.py:597 -- Current state after restoring: {'_iteration': 730, '_timesteps_total': None, '_time_total': 32278.36971282959, '_episodes_total': 420668}\n"
     ]
    },
    {
     "name": "stdout",
     "output_type": "stream",
     "text": [
      "checkpoint-730\n"
     ]
    },
    {
     "name": "stderr",
     "output_type": "stream",
     "text": [
      "2022-10-29 10:14:07,872\tINFO trainable.py:588 -- Restored on 10.159.0.40 from checkpoint: /gpfsscratch/rech/imi/uzw47io/elias_expe/2_agents/all/modified_reward/6_landmarks_reward2/naming_game_30msg_alpha10_temp30/2022-10-26_12-23-36pt_blwdm/checkpoint_000740/checkpoint-740\n",
      "2022-10-29 10:14:07,872\tINFO trainable.py:597 -- Current state after restoring: {'_iteration': 740, '_timesteps_total': None, '_time_total': 32714.90452313423, '_episodes_total': 428797}\n"
     ]
    },
    {
     "name": "stdout",
     "output_type": "stream",
     "text": [
      "checkpoint-740\n"
     ]
    },
    {
     "name": "stderr",
     "output_type": "stream",
     "text": [
      "2022-10-29 10:14:08,498\tINFO trainable.py:588 -- Restored on 10.159.0.40 from checkpoint: /gpfsscratch/rech/imi/uzw47io/elias_expe/2_agents/all/modified_reward/6_landmarks_reward2/naming_game_30msg_alpha10_temp30/2022-10-26_12-23-36pt_blwdm/checkpoint_000750/checkpoint-750\n",
      "2022-10-29 10:14:08,499\tINFO trainable.py:597 -- Current state after restoring: {'_iteration': 750, '_timesteps_total': None, '_time_total': 33155.79210233688, '_episodes_total': 436905}\n"
     ]
    },
    {
     "name": "stdout",
     "output_type": "stream",
     "text": [
      "checkpoint-750\n"
     ]
    },
    {
     "name": "stderr",
     "output_type": "stream",
     "text": [
      "2022-10-29 10:14:09,129\tINFO trainable.py:588 -- Restored on 10.159.0.40 from checkpoint: /gpfsscratch/rech/imi/uzw47io/elias_expe/2_agents/all/modified_reward/6_landmarks_reward2/naming_game_30msg_alpha10_temp30/2022-10-26_12-23-36pt_blwdm/checkpoint_000760/checkpoint-760\n",
      "2022-10-29 10:14:09,130\tINFO trainable.py:597 -- Current state after restoring: {'_iteration': 760, '_timesteps_total': None, '_time_total': 33619.83811545372, '_episodes_total': 445442}\n"
     ]
    },
    {
     "name": "stdout",
     "output_type": "stream",
     "text": [
      "checkpoint-760\n"
     ]
    },
    {
     "name": "stderr",
     "output_type": "stream",
     "text": [
      "2022-10-29 10:14:09,753\tINFO trainable.py:588 -- Restored on 10.159.0.40 from checkpoint: /gpfsscratch/rech/imi/uzw47io/elias_expe/2_agents/all/modified_reward/6_landmarks_reward2/naming_game_30msg_alpha10_temp30/2022-10-26_12-23-36pt_blwdm/checkpoint_000770/checkpoint-770\n",
      "2022-10-29 10:14:09,758\tINFO trainable.py:597 -- Current state after restoring: {'_iteration': 770, '_timesteps_total': None, '_time_total': 34097.42235946655, '_episodes_total': 454085}\n"
     ]
    },
    {
     "name": "stdout",
     "output_type": "stream",
     "text": [
      "checkpoint-770\n"
     ]
    },
    {
     "name": "stderr",
     "output_type": "stream",
     "text": [
      "2022-10-29 10:14:10,372\tINFO trainable.py:588 -- Restored on 10.159.0.40 from checkpoint: /gpfsscratch/rech/imi/uzw47io/elias_expe/2_agents/all/modified_reward/6_landmarks_reward2/naming_game_30msg_alpha10_temp30/2022-10-26_12-23-36pt_blwdm/checkpoint_000780/checkpoint-780\n",
      "2022-10-29 10:14:10,376\tINFO trainable.py:597 -- Current state after restoring: {'_iteration': 780, '_timesteps_total': None, '_time_total': 34580.81082010269, '_episodes_total': 463021}\n"
     ]
    },
    {
     "name": "stdout",
     "output_type": "stream",
     "text": [
      "checkpoint-780\n"
     ]
    },
    {
     "name": "stderr",
     "output_type": "stream",
     "text": [
      "2022-10-29 10:14:11,006\tINFO trainable.py:588 -- Restored on 10.159.0.40 from checkpoint: /gpfsscratch/rech/imi/uzw47io/elias_expe/2_agents/all/modified_reward/6_landmarks_reward2/naming_game_30msg_alpha10_temp30/2022-10-26_12-23-36pt_blwdm/checkpoint_000790/checkpoint-790\n",
      "2022-10-29 10:14:11,007\tINFO trainable.py:597 -- Current state after restoring: {'_iteration': 790, '_timesteps_total': None, '_time_total': 35065.604372262955, '_episodes_total': 472147}\n"
     ]
    },
    {
     "name": "stdout",
     "output_type": "stream",
     "text": [
      "checkpoint-790\n"
     ]
    },
    {
     "name": "stderr",
     "output_type": "stream",
     "text": [
      "2022-10-29 10:14:11,625\tINFO trainable.py:588 -- Restored on 10.159.0.40 from checkpoint: /gpfsscratch/rech/imi/uzw47io/elias_expe/2_agents/all/modified_reward/6_landmarks_reward2/naming_game_30msg_alpha10_temp30/2022-10-26_12-23-36pt_blwdm/checkpoint_000800/checkpoint-800\n",
      "2022-10-29 10:14:11,626\tINFO trainable.py:597 -- Current state after restoring: {'_iteration': 800, '_timesteps_total': None, '_time_total': 35550.08249258995, '_episodes_total': 481119}\n"
     ]
    },
    {
     "name": "stdout",
     "output_type": "stream",
     "text": [
      "checkpoint-800\n"
     ]
    },
    {
     "name": "stderr",
     "output_type": "stream",
     "text": [
      "2022-10-29 10:14:12,265\tINFO trainable.py:588 -- Restored on 10.159.0.40 from checkpoint: /gpfsscratch/rech/imi/uzw47io/elias_expe/2_agents/all/modified_reward/6_landmarks_reward2/naming_game_30msg_alpha10_temp30/2022-10-26_12-23-36pt_blwdm/checkpoint_000810/checkpoint-810\n",
      "2022-10-29 10:14:12,267\tINFO trainable.py:597 -- Current state after restoring: {'_iteration': 810, '_timesteps_total': None, '_time_total': 36023.80387830734, '_episodes_total': 489927}\n"
     ]
    },
    {
     "name": "stdout",
     "output_type": "stream",
     "text": [
      "checkpoint-810\n"
     ]
    },
    {
     "name": "stderr",
     "output_type": "stream",
     "text": [
      "2022-10-29 10:14:12,886\tINFO trainable.py:588 -- Restored on 10.159.0.40 from checkpoint: /gpfsscratch/rech/imi/uzw47io/elias_expe/2_agents/all/modified_reward/6_landmarks_reward2/naming_game_30msg_alpha10_temp30/2022-10-26_12-23-36pt_blwdm/checkpoint_000820/checkpoint-820\n",
      "2022-10-29 10:14:12,887\tINFO trainable.py:597 -- Current state after restoring: {'_iteration': 820, '_timesteps_total': None, '_time_total': 36485.73113775253, '_episodes_total': 498215}\n"
     ]
    },
    {
     "name": "stdout",
     "output_type": "stream",
     "text": [
      "checkpoint-820\n"
     ]
    },
    {
     "name": "stderr",
     "output_type": "stream",
     "text": [
      "2022-10-29 10:14:13,498\tINFO trainable.py:588 -- Restored on 10.159.0.40 from checkpoint: /gpfsscratch/rech/imi/uzw47io/elias_expe/2_agents/all/modified_reward/6_landmarks_reward2/naming_game_30msg_alpha10_temp30/2022-10-26_12-23-36pt_blwdm/checkpoint_000830/checkpoint-830\n",
      "2022-10-29 10:14:13,499\tINFO trainable.py:597 -- Current state after restoring: {'_iteration': 830, '_timesteps_total': None, '_time_total': 36953.771916627884, '_episodes_total': 506667}\n"
     ]
    },
    {
     "name": "stdout",
     "output_type": "stream",
     "text": [
      "checkpoint-830\n"
     ]
    },
    {
     "name": "stderr",
     "output_type": "stream",
     "text": [
      "2022-10-29 10:14:14,117\tINFO trainable.py:588 -- Restored on 10.159.0.40 from checkpoint: /gpfsscratch/rech/imi/uzw47io/elias_expe/2_agents/all/modified_reward/6_landmarks_reward2/naming_game_30msg_alpha10_temp30/2022-10-26_12-23-36pt_blwdm/checkpoint_000840/checkpoint-840\n",
      "2022-10-29 10:14:14,118\tINFO trainable.py:597 -- Current state after restoring: {'_iteration': 840, '_timesteps_total': None, '_time_total': 37426.222881793976, '_episodes_total': 514969}\n"
     ]
    },
    {
     "name": "stdout",
     "output_type": "stream",
     "text": [
      "checkpoint-840\n"
     ]
    },
    {
     "name": "stderr",
     "output_type": "stream",
     "text": [
      "2022-10-29 10:14:14,732\tINFO trainable.py:588 -- Restored on 10.159.0.40 from checkpoint: /gpfsscratch/rech/imi/uzw47io/elias_expe/2_agents/all/modified_reward/6_landmarks_reward2/naming_game_30msg_alpha10_temp30/2022-10-26_12-23-36pt_blwdm/checkpoint_000850/checkpoint-850\n",
      "2022-10-29 10:14:14,732\tINFO trainable.py:597 -- Current state after restoring: {'_iteration': 850, '_timesteps_total': None, '_time_total': 37899.79941391945, '_episodes_total': 523354}\n"
     ]
    },
    {
     "name": "stdout",
     "output_type": "stream",
     "text": [
      "checkpoint-850\n"
     ]
    },
    {
     "name": "stderr",
     "output_type": "stream",
     "text": [
      "2022-10-29 10:14:15,333\tINFO trainable.py:588 -- Restored on 10.159.0.40 from checkpoint: /gpfsscratch/rech/imi/uzw47io/elias_expe/2_agents/all/modified_reward/6_landmarks_reward2/naming_game_30msg_alpha10_temp30/2022-10-26_12-23-36pt_blwdm/checkpoint_000860/checkpoint-860\n",
      "2022-10-29 10:14:15,334\tINFO trainable.py:597 -- Current state after restoring: {'_iteration': 860, '_timesteps_total': None, '_time_total': 38382.37141466141, '_episodes_total': 531650}\n"
     ]
    },
    {
     "name": "stdout",
     "output_type": "stream",
     "text": [
      "checkpoint-860\n"
     ]
    },
    {
     "name": "stderr",
     "output_type": "stream",
     "text": [
      "2022-10-29 10:14:16,524\tINFO trainable.py:588 -- Restored on 10.159.0.40 from checkpoint: /gpfsscratch/rech/imi/uzw47io/elias_expe/2_agents/all/modified_reward/6_landmarks_reward2/naming_game_30msg_alpha10_temp30/2022-10-26_12-23-36pt_blwdm/checkpoint_000870/checkpoint-870\n",
      "2022-10-29 10:14:16,526\tINFO trainable.py:597 -- Current state after restoring: {'_iteration': 870, '_timesteps_total': None, '_time_total': 38861.494183540344, '_episodes_total': 540362}\n"
     ]
    },
    {
     "name": "stdout",
     "output_type": "stream",
     "text": [
      "checkpoint-870\n"
     ]
    },
    {
     "name": "stderr",
     "output_type": "stream",
     "text": [
      "2022-10-29 10:14:17,119\tINFO trainable.py:588 -- Restored on 10.159.0.40 from checkpoint: /gpfsscratch/rech/imi/uzw47io/elias_expe/2_agents/all/modified_reward/6_landmarks_reward2/naming_game_30msg_alpha10_temp30/2022-10-26_12-23-36pt_blwdm/checkpoint_000880/checkpoint-880\n",
      "2022-10-29 10:14:17,121\tINFO trainable.py:597 -- Current state after restoring: {'_iteration': 880, '_timesteps_total': None, '_time_total': 39345.98356318474, '_episodes_total': 548981}\n"
     ]
    },
    {
     "name": "stdout",
     "output_type": "stream",
     "text": [
      "checkpoint-880\n"
     ]
    },
    {
     "name": "stderr",
     "output_type": "stream",
     "text": [
      "2022-10-29 10:14:17,770\tINFO trainable.py:588 -- Restored on 10.159.0.40 from checkpoint: /gpfsscratch/rech/imi/uzw47io/elias_expe/2_agents/all/modified_reward/6_landmarks_reward2/naming_game_30msg_alpha10_temp30/2022-10-26_12-23-36pt_blwdm/checkpoint_000890/checkpoint-890\n",
      "2022-10-29 10:14:17,771\tINFO trainable.py:597 -- Current state after restoring: {'_iteration': 890, '_timesteps_total': None, '_time_total': 39828.293207883835, '_episodes_total': 557475}\n"
     ]
    },
    {
     "name": "stdout",
     "output_type": "stream",
     "text": [
      "checkpoint-890\n"
     ]
    },
    {
     "name": "stderr",
     "output_type": "stream",
     "text": [
      "2022-10-29 10:14:18,379\tINFO trainable.py:588 -- Restored on 10.159.0.40 from checkpoint: /gpfsscratch/rech/imi/uzw47io/elias_expe/2_agents/all/modified_reward/6_landmarks_reward2/naming_game_30msg_alpha10_temp30/2022-10-26_12-23-36pt_blwdm/checkpoint_000900/checkpoint-900\n",
      "2022-10-29 10:14:18,380\tINFO trainable.py:597 -- Current state after restoring: {'_iteration': 900, '_timesteps_total': None, '_time_total': 40310.19192767143, '_episodes_total': 566046}\n"
     ]
    },
    {
     "name": "stdout",
     "output_type": "stream",
     "text": [
      "checkpoint-900\n"
     ]
    },
    {
     "name": "stderr",
     "output_type": "stream",
     "text": [
      "2022-10-29 10:14:18,999\tINFO trainable.py:588 -- Restored on 10.159.0.40 from checkpoint: /gpfsscratch/rech/imi/uzw47io/elias_expe/2_agents/all/modified_reward/6_landmarks_reward2/naming_game_30msg_alpha10_temp30/2022-10-26_12-23-36pt_blwdm/checkpoint_000910/checkpoint-910\n",
      "2022-10-29 10:14:19,004\tINFO trainable.py:597 -- Current state after restoring: {'_iteration': 910, '_timesteps_total': None, '_time_total': 40792.47970366478, '_episodes_total': 574807}\n"
     ]
    },
    {
     "name": "stdout",
     "output_type": "stream",
     "text": [
      "checkpoint-910\n"
     ]
    },
    {
     "name": "stderr",
     "output_type": "stream",
     "text": [
      "2022-10-29 10:14:19,633\tINFO trainable.py:588 -- Restored on 10.159.0.40 from checkpoint: /gpfsscratch/rech/imi/uzw47io/elias_expe/2_agents/all/modified_reward/6_landmarks_reward2/naming_game_30msg_alpha10_temp30/2022-10-26_12-23-36pt_blwdm/checkpoint_000920/checkpoint-920\n",
      "2022-10-29 10:14:19,633\tINFO trainable.py:597 -- Current state after restoring: {'_iteration': 920, '_timesteps_total': None, '_time_total': 41259.93725347519, '_episodes_total': 583093}\n"
     ]
    },
    {
     "name": "stdout",
     "output_type": "stream",
     "text": [
      "checkpoint-920\n"
     ]
    },
    {
     "name": "stderr",
     "output_type": "stream",
     "text": [
      "2022-10-29 10:14:20,258\tINFO trainable.py:588 -- Restored on 10.159.0.40 from checkpoint: /gpfsscratch/rech/imi/uzw47io/elias_expe/2_agents/all/modified_reward/6_landmarks_reward2/naming_game_30msg_alpha10_temp30/2022-10-26_12-23-36pt_blwdm/checkpoint_000930/checkpoint-930\n",
      "2022-10-29 10:14:20,259\tINFO trainable.py:597 -- Current state after restoring: {'_iteration': 930, '_timesteps_total': None, '_time_total': 41736.99317526817, '_episodes_total': 591610}\n"
     ]
    },
    {
     "name": "stdout",
     "output_type": "stream",
     "text": [
      "checkpoint-930\n"
     ]
    },
    {
     "name": "stderr",
     "output_type": "stream",
     "text": [
      "2022-10-29 10:14:20,876\tINFO trainable.py:588 -- Restored on 10.159.0.40 from checkpoint: /gpfsscratch/rech/imi/uzw47io/elias_expe/2_agents/all/modified_reward/6_landmarks_reward2/naming_game_30msg_alpha10_temp30/2022-10-26_12-23-36pt_blwdm/checkpoint_000940/checkpoint-940\n",
      "2022-10-29 10:14:20,880\tINFO trainable.py:597 -- Current state after restoring: {'_iteration': 940, '_timesteps_total': None, '_time_total': 42214.356935977936, '_episodes_total': 600251}\n"
     ]
    },
    {
     "name": "stdout",
     "output_type": "stream",
     "text": [
      "checkpoint-940\n"
     ]
    },
    {
     "name": "stderr",
     "output_type": "stream",
     "text": [
      "2022-10-29 10:14:21,471\tINFO trainable.py:588 -- Restored on 10.159.0.40 from checkpoint: /gpfsscratch/rech/imi/uzw47io/elias_expe/2_agents/all/modified_reward/6_landmarks_reward2/naming_game_30msg_alpha10_temp30/2022-10-26_12-23-36pt_blwdm/checkpoint_000950/checkpoint-950\n",
      "2022-10-29 10:14:21,475\tINFO trainable.py:597 -- Current state after restoring: {'_iteration': 950, '_timesteps_total': None, '_time_total': 42696.29383516312, '_episodes_total': 608938}\n"
     ]
    },
    {
     "name": "stdout",
     "output_type": "stream",
     "text": [
      "checkpoint-950\n"
     ]
    },
    {
     "name": "stderr",
     "output_type": "stream",
     "text": [
      "2022-10-29 10:14:22,093\tINFO trainable.py:588 -- Restored on 10.159.0.40 from checkpoint: /gpfsscratch/rech/imi/uzw47io/elias_expe/2_agents/all/modified_reward/6_landmarks_reward2/naming_game_30msg_alpha10_temp30/2022-10-26_12-23-36pt_blwdm/checkpoint_000960/checkpoint-960\n",
      "2022-10-29 10:14:22,095\tINFO trainable.py:597 -- Current state after restoring: {'_iteration': 960, '_timesteps_total': None, '_time_total': 43169.62419939041, '_episodes_total': 617283}\n"
     ]
    },
    {
     "name": "stdout",
     "output_type": "stream",
     "text": [
      "checkpoint-960\n"
     ]
    },
    {
     "name": "stderr",
     "output_type": "stream",
     "text": [
      "2022-10-29 10:14:22,722\tINFO trainable.py:588 -- Restored on 10.159.0.40 from checkpoint: /gpfsscratch/rech/imi/uzw47io/elias_expe/2_agents/all/modified_reward/6_landmarks_reward2/naming_game_30msg_alpha10_temp30/2022-10-26_12-23-36pt_blwdm/checkpoint_000970/checkpoint-970\n",
      "2022-10-29 10:14:22,723\tINFO trainable.py:597 -- Current state after restoring: {'_iteration': 970, '_timesteps_total': None, '_time_total': 43645.163992881775, '_episodes_total': 625760}\n"
     ]
    },
    {
     "name": "stdout",
     "output_type": "stream",
     "text": [
      "checkpoint-970\n"
     ]
    },
    {
     "name": "stderr",
     "output_type": "stream",
     "text": [
      "2022-10-29 10:14:23,340\tINFO trainable.py:588 -- Restored on 10.159.0.40 from checkpoint: /gpfsscratch/rech/imi/uzw47io/elias_expe/2_agents/all/modified_reward/6_landmarks_reward2/naming_game_30msg_alpha10_temp30/2022-10-26_12-23-36pt_blwdm/checkpoint_000980/checkpoint-980\n",
      "2022-10-29 10:14:23,342\tINFO trainable.py:597 -- Current state after restoring: {'_iteration': 980, '_timesteps_total': None, '_time_total': 44126.27603268623, '_episodes_total': 634868}\n"
     ]
    },
    {
     "name": "stdout",
     "output_type": "stream",
     "text": [
      "checkpoint-980\n"
     ]
    },
    {
     "name": "stderr",
     "output_type": "stream",
     "text": [
      "2022-10-29 10:14:23,955\tINFO trainable.py:588 -- Restored on 10.159.0.40 from checkpoint: /gpfsscratch/rech/imi/uzw47io/elias_expe/2_agents/all/modified_reward/6_landmarks_reward2/naming_game_30msg_alpha10_temp30/2022-10-26_12-23-36pt_blwdm/checkpoint_000990/checkpoint-990\n",
      "2022-10-29 10:14:23,956\tINFO trainable.py:597 -- Current state after restoring: {'_iteration': 990, '_timesteps_total': None, '_time_total': 44606.2908616066, '_episodes_total': 643743}\n"
     ]
    },
    {
     "name": "stdout",
     "output_type": "stream",
     "text": [
      "checkpoint-990\n"
     ]
    },
    {
     "name": "stderr",
     "output_type": "stream",
     "text": [
      "2022-10-29 10:14:25,168\tINFO trainable.py:588 -- Restored on 10.159.0.40 from checkpoint: /gpfsscratch/rech/imi/uzw47io/elias_expe/2_agents/all/modified_reward/6_landmarks_reward2/naming_game_30msg_alpha10_temp30/2022-10-26_12-23-36pt_blwdm/checkpoint_001000/checkpoint-1000\n",
      "2022-10-29 10:14:25,168\tINFO trainable.py:597 -- Current state after restoring: {'_iteration': 1000, '_timesteps_total': None, '_time_total': 45070.624087810516, '_episodes_total': 652767}\n"
     ]
    },
    {
     "name": "stdout",
     "output_type": "stream",
     "text": [
      "checkpoint-1000\n"
     ]
    },
    {
     "data": {
      "image/png": "[encoded data removed]",
      "text/plain": [
       "<Figure size 720x720 with 4 Axes>"
      ]
     },
     "metadata": {
      "needs_background": "light"
     },
     "output_type": "display_data"
    }
   ],
   "source": [
    "imgs = []\n",
    "from mpl_toolkits.axes_grid1 import make_axes_locatable\n",
    "for checkpoint_dir in sorted(os.listdir(checkpoints_dir)):\n",
    "    if os.path.isdir(os.path.join(checkpoints_dir, checkpoint_dir)):\n",
    "        checkpoint_file = sorted(\n",
    "            os.listdir(os.path.join(checkpoints_dir, checkpoint_dir))\n",
    "        )[1]\n",
    "        print(checkpoint_file)\n",
    "        trainer.restore(os.path.join(checkpoints_dir, checkpoint_dir, checkpoint_file))\n",
    "        agent_0 = trainer.get_policy(\"agent_0\").model\n",
    "        agent_1 = trainer.get_policy(\"agent_1\").model\n",
    "        with torch.no_grad():\n",
    "            agent_0_matrix = agent_0._matrix.numpy()\n",
    "            agent_1_matrix = agent_1._matrix.numpy()\n",
    "\n",
    "            # Generate images\n",
    "            for j, matrix in enumerate((agent_0_matrix, agent_1_matrix)):\n",
    "                if j == 0:\n",
    "                    fig = plt.figure(num=1, clear=True, figsize=(10, 10))\n",
    "                    ax = fig.add_subplot(121)\n",
    "                    ax.set_title(\"Agent 0\")\n",
    "\n",
    "                elif j == 1:\n",
    "                    ax = fig.add_subplot(122)\n",
    "                    ax.set_title(\"Agent 1\")\n",
    "                    \n",
    "                \n",
    "                \n",
    "                a=ax.matshow(matrix, cmap=plt.cm.Blues,interpolation=\"nearest\",vmin=0, vmax=1)\n",
    "                ax.set_xticks(np.arange(-0.5, 30, 1),minor=True)\n",
    "                ax.set_yticks(np.arange(-0.5, 21, 1),minor=True)\n",
    "                \n",
    "                \n",
    "                ax.grid(which=\"minor\",color='black', linestyle='-', linewidth=0.5,alpha=0.5)\n",
    "                \n",
    "                ax.set_ylabel(\"$g$\")\n",
    "                ax.set_xlabel(\"$m$\")\n",
    "                ax.xaxis.set_label_position('top')\n",
    "                divider = make_axes_locatable(ax)\n",
    "                cax = divider.append_axes('right', size='5%', pad=0.05)\n",
    "                fig.colorbar(a, cax=cax, orientation='vertical')\n",
    "                \n",
    "                \n",
    "                for x in range(nb_msg):\n",
    "                    for y in range(number_of_goals):\n",
    "                        c = matrix[y, x]\n",
    "                        #ax.text(x, y, str(round(c, 3)), va=\"center\", ha=\"center\")\n",
    "                if j == 1:\n",
    "                    \n",
    "                    plt.tight_layout()\n",
    " \n",
    "\n",
    "                    if(checkpoint_file[-2:]==\"20\" and checkpoint_file[-3]==\"-\"):\n",
    "                        print(\"a\")\n",
    "                        plt.savefig(\"20.pdf\",bbox_inches='tight')\n",
    "                    elif(checkpoint_file[-3:]==\"500\" ):\n",
    "                        plt.savefig(\"500.pdf\",bbox_inches='tight')\n",
    "                    elif(checkpoint_file[-4:]==\"1000\" ):\n",
    "                        plt.savefig(\"1000.pdf\",bbox_inches='tight')\n",
    "                        \n",
    "                    canvas = fig.figure.canvas\n",
    "                    canvas.draw()\n",
    "                    data = np.frombuffer(canvas.tostring_rgb(), dtype=np.uint8)\n",
    "                    img = data.reshape(canvas.get_width_height()[::-1] + (3,))\n",
    "                    imgs.append(img)\n",
    "                    "
   ]
  },
  {
   "cell_type": "code",
   "execution_count": 12,
   "metadata": {},
   "outputs": [
    {
     "name": "stderr",
     "output_type": "stream",
     "text": [
      "Failed to create secure directory (/pulse): Permission denied\n",
      "ALSA lib confmisc.c:855:(parse_card) cannot find card '0'\n",
      "ALSA lib conf.c:5178:(_snd_config_evaluate) function snd_func_card_inum returned error: No such file or directory\n",
      "ALSA lib confmisc.c:422:(snd_func_concat) error evaluating strings\n",
      "ALSA lib conf.c:5178:(_snd_config_evaluate) function snd_func_concat returned error: No such file or directory\n",
      "ALSA lib confmisc.c:1334:(snd_func_refer) error evaluating name\n",
      "ALSA lib conf.c:5178:(_snd_config_evaluate) function snd_func_refer returned error: No such file or directory\n",
      "ALSA lib conf.c:5701:(snd_config_expand) Evaluate error: No such file or directory\n",
      "ALSA lib pcm.c:2664:(snd_pcm_open_noupdate) Unknown PCM default\n",
      "Failed to create secure directory (/pulse): Permission denied\n",
      "ALSA lib confmisc.c:855:(parse_card) cannot find card '0'\n",
      "ALSA lib conf.c:5178:(_snd_config_evaluate) function snd_func_card_inum returned error: No such file or directory\n",
      "ALSA lib confmisc.c:422:(snd_func_concat) error evaluating strings\n",
      "ALSA lib conf.c:5178:(_snd_config_evaluate) function snd_func_concat returned error: No such file or directory\n",
      "ALSA lib confmisc.c:1334:(snd_func_refer) error evaluating name\n",
      "ALSA lib conf.c:5178:(_snd_config_evaluate) function snd_func_refer returned error: No such file or directory\n",
      "ALSA lib conf.c:5701:(snd_config_expand) Evaluate error: No such file or directory\n",
      "ALSA lib pcm.c:2664:(snd_pcm_open_noupdate) Unknown PCM default\n"
     ]
    }
   ],
   "source": [
    "import os\n",
    "os.environ['FFMPEG_BINARY'] = 'ffmpeg'\n",
    "import moviepy.editor as mvp\n",
    "from moviepy.video.io.ffmpeg_writer import FFMPEG_VideoWriter\n",
    "from IPython.display import HTML, display, clear_output\n",
    "\n",
    "class VideoWriter:\n",
    "  def __init__(self, filename, fps=30.0, **kw):\n",
    "    self.writer = None\n",
    "    self.params = dict(filename=filename, fps=fps, **kw)\n",
    "\n",
    "  def add(self, img):\n",
    "    img = np.asarray(img)\n",
    "    if self.writer is None:\n",
    "      h, w = img.shape[:2]\n",
    "      self.writer = FFMPEG_VideoWriter(size=(w, h), **self.params)\n",
    "    if img.dtype in [np.float32, np.float64]:\n",
    "      img = np.uint8(img.clip(0, 1)*255)\n",
    "    if len(img.shape) == 2:\n",
    "      img = np.repeat(img[..., None], 3, -1)\n",
    "    self.writer.write_frame(img)\n",
    "\n",
    "  def close(self):\n",
    "    if self.writer:\n",
    "      self.writer.close()\n",
    "\n",
    "  def __enter__(self):\n",
    "    return self\n",
    "\n",
    "  def __exit__(self, *kw):\n",
    "    self.close()\n",
    "\n",
    "  def show(self, **kw):\n",
    "      self.close()\n",
    "      fn = self.params['filename']\n",
    "      display(mvp.ipython_display(fn, **kw))"
   ]
  },
  {
   "cell_type": "code",
   "execution_count": 13,
   "metadata": {},
   "outputs": [
    {
     "data": {
      "text/html": [
       "<div align=middle><video src='data:video/mp4;base64,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' controls>Sorry, seems like your browser doesn't support HTML5 audio/video</video></div>"
      ],
      "text/plain": [
       "<moviepy.video.io.html_tools.HTML2 object>"
      ]
     },
     "metadata": {},
     "output_type": "display_data"
    }
   ],
   "source": [
    "with VideoWriter(\"out.mp4\", 2) as vid:\n",
    "          for i in range(len(imgs)):\n",
    "            im = imgs[i]\n",
    "            \n",
    "            #plt.imshow(im)\n",
    "            #plt.show()\n",
    "            vid.add(im)\n",
    "          vid.show()"
   ]
  }
 ],
 "metadata": {
  "kernelspec": {
   "display_name": "Python 3 (ipykernel)",
   "language": "python",
   "name": "python3"
  },
  "language_info": {
   "codemirror_mode": {
    "name": "ipython",
    "version": 3
   },
   "file_extension": ".py",
   "mimetype": "text/x-python",
   "name": "python",
   "nbconvert_exporter": "python",
   "pygments_lexer": "ipython3",
   "version": "3.7.10"
  },
  "vscode": {
   "interpreter": {
    "hash": "ba8aa1b69f904e3342c40bcdd1b69ae4a3cf2054115c347781ce67fba2dd2c9e"
   }
  }
 },
 "nbformat": 4,
 "nbformat_minor": 2
}
