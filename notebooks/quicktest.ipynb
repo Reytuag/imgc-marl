{
 "cells": [
  {
   "cell_type": "markdown",
   "metadata": {},
   "source": [
    "# Notebook for doing quick tests with SPG\n",
    "* Adding new elements\n",
    "* Playing with agents\n",
    "* etc"
   ]
  },
  {
   "cell_type": "code",
   "execution_count": 123,
   "metadata": {},
   "outputs": [],
   "source": [
    "from simple_playgrounds.playground.layouts import SingleRoom\n",
    "from simple_playgrounds.engine import Engine\n",
    "from simple_playgrounds.element.elements.zone import HealingZone, RewardZone\n",
    "from simple_playgrounds.agent.controllers import Keyboard\n",
    "from simple_playgrounds.device.sensors.semantic import PerfectSemantic\n",
    "from simple_playgrounds.agent.agents import BaseAgent\n",
    "import pygame\n",
    "import matplotlib.pyplot as plt"
   ]
  },
  {
   "cell_type": "code",
   "execution_count": 125,
   "metadata": {},
   "outputs": [
    {
     "data": {
      "image/png": "[encoded data removed]",
      "text/plain": [
       "<Figure size 432x288 with 1 Axes>"
      ]
     },
     "metadata": {
      "needs_background": "light"
     },
     "output_type": "display_data"
    }
   ],
   "source": [
    "# Create playground\n",
    "my_playground = SingleRoom(size=(400, 400))\n",
    "zone = RewardZone(\n",
    "    reward=1.0,\n",
    "    limit=10000,\n",
    "    physical_shape=\"rectangle\",\n",
    "    texture=[255, 0, 100],\n",
    "    size=(50, 100),\n",
    ")\n",
    "my_playground.add_element(zone, ((100, 350), 0))\n",
    "zone = RewardZone(\n",
    "    reward=1.0,\n",
    "    limit=10000,\n",
    "    physical_shape=\"rectangle\",\n",
    "    texture=[255, 0, 255],\n",
    "    size=(50, 100),\n",
    ")\n",
    "my_playground.add_element(zone, ((200, 350), 0))\n",
    "zone = RewardZone(\n",
    "    reward=1.0,\n",
    "    limit=10000,\n",
    "    physical_shape=\"rectangle\",\n",
    "    texture=[255, 255, 100],\n",
    "    size=(50, 100),\n",
    ")\n",
    "my_playground.add_element(zone, ((300, 350), 0))\n",
    "\n",
    "agent = BaseAgent(controller=Keyboard())\n",
    "agent.add_sensor(\n",
    "    PerfectSemantic(\n",
    "        agent.base_platform,\n",
    "        min_range=0,\n",
    "        max_range=400,\n",
    "        name=\"sensor\",\n",
    "        normalize=True,\n",
    "    )\n",
    ")\n",
    "my_playground.add_agent(agent, ((350, 25), 3.14 / 2))\n",
    "engine = Engine(time_limit=1000, playground=my_playground)\n",
    "plt.imshow(engine.generate_playground_image())\n",
    "plt.grid()\n",
    "\n",
    "# run episode\n",
    "RUN = True\n",
    "if RUN:\n",
    "    i = 0\n",
    "    while engine.game_on:\n",
    "        i += 1\n",
    "        actions = engine.get_actions()\n",
    "        engine.step(actions)\n",
    "        engine.update_observations()\n",
    "        pygame.time.wait(100)\n",
    "engine.terminate()"
   ]
  },
  {
   "cell_type": "code",
   "execution_count": 122,
   "metadata": {},
   "outputs": [
    {
     "data": {
      "text/plain": [
       "{<simple_playgrounds.device.sensors.semantic.PerfectSemantic at 0x7ff39b4016a0>: [Detection(entity=<simple_playgrounds.element.elements.basic.Wall object at 0x7ff39b455760>, distance=0.3463825963879533, angle=-1.5700000000000003),\n",
       "  Detection(entity=<simple_playgrounds.element.elements.basic.Wall object at 0x7ff3a1290220>, distance=0.6286174036120467, angle=1.5715926535897928),\n",
       "  Detection(entity=<simple_playgrounds.element.elements.basic.Wall object at 0x7ff39bacc580>, distance=0.6603602468799675, angle=0.0007963267948962738),\n",
       "  Detection(entity=<simple_playgrounds.element.elements.basic.Wall object at 0x7ff39b452b50>, distance=0.31463975312003245, angle=-3.140796326794897)]}"
      ]
     },
     "execution_count": 122,
     "metadata": {},
     "output_type": "execute_result"
    }
   ],
   "source": [
    "agent.observations"
   ]
  }
 ],
 "metadata": {
  "interpreter": {
   "hash": "ba8aa1b69f904e3342c40bcdd1b69ae4a3cf2054115c347781ce67fba2dd2c9e"
  },
  "kernelspec": {
   "display_name": "Python 3.9.7 ('marl-env': venv)",
   "language": "python",
   "name": "python3"
  },
  "language_info": {
   "codemirror_mode": {
    "name": "ipython",
    "version": 3
   },
   "file_extension": ".py",
   "mimetype": "text/x-python",
   "name": "python",
   "nbconvert_exporter": "python",
   "pygments_lexer": "ipython3",
   "version": "3.9.7"
  },
  "orig_nbformat": 4
 },
 "nbformat": 4,
 "nbformat_minor": 2
}
