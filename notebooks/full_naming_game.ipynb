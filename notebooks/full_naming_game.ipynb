{
 "cells": [
  {
   "cell_type": "code",
   "execution_count": 64,
   "metadata": {},
   "outputs": [],
   "source": [
    "import numpy as np\n",
    "import matplotlib.pyplot as plt\n",
    "from itertools import combinations, product\n",
    "from scipy.special import softmax\n",
    "import torch.nn "
   ]
  },
  {
   "cell_type": "markdown",
   "metadata": {},
   "source": [
    "# General settings"
   ]
  },
  {
   "cell_type": "code",
   "execution_count": 65,
   "metadata": {},
   "outputs": [],
   "source": [
    "NUMBER_OF_LANDMARKS = 3\n",
    "N_STEPS = 100_000\n",
    "DELTA = 1\n",
    "EGREEDY = 0.0"
   ]
  },
  {
   "cell_type": "markdown",
   "metadata": {},
   "source": [
    "# Only cooperative goals"
   ]
  },
  {
   "cell_type": "code",
   "execution_count": 66,
   "metadata": {},
   "outputs": [],
   "source": [
    "scores = np.eye(NUMBER_OF_LANDMARKS)\n",
    "P_DIFFERENT_GOALS = 0.3\n",
    "\n",
    "for i in range(scores.shape[0]):\n",
    "    for j in range(scores.shape[1]):\n",
    "        if i !=j:\n",
    "            scores[i,j] = P_DIFFERENT_GOALS\n",
    "n_goals = scores.shape[0]\n",
    "\n",
    "scores0 = scores1 = scores\n",
    "\n",
    "\n",
    "scores1 = np.array([\n",
    "    [0.8, 0, 0.1],\n",
    "    [0, 1, 0.2],\n",
    "    [0.7, 0.8, 0.9]\n",
    "])\n",
    "\n",
    "scores0 = np.array([\n",
    "    [0.8, 0, 0.1],\n",
    "    [0.1, 1, 0],\n",
    "    [0.2, 0, 0.9]\n",
    "])"
   ]
  },
  {
   "cell_type": "markdown",
   "metadata": {},
   "source": [
    "## One matrix per agent"
   ]
  },
  {
   "cell_type": "code",
   "execution_count": 67,
   "metadata": {},
   "outputs": [],
   "source": [
    "# Alignment for all seeds\n",
    "a0 = []\n",
    "a1 = []\n",
    "\n",
    "for s in range(10):\n",
    "    np.random.seed(s)\n",
    "    agent_0 = np.zeros_like(scores)\n",
    "    agent_1 = np.zeros_like(scores)\n",
    "    for i in range(N_STEPS):\n",
    "        leader_goal_index = np.random.randint(0, n_goals)\n",
    "        if np.random.random() < 0.5:\n",
    "            # Agent 0 leader\n",
    "            if np.random.random() < EGREEDY:\n",
    "                leader_msg_index = np.random.choice(range(scores.shape[0]))\n",
    "            else:\n",
    "                leader_msg_index = np.argmax(agent_0[leader_goal_index])\n",
    "            if np.random.random() < EGREEDY:\n",
    "                follower_goal_index = np.random.choice(range(scores.shape[0]))\n",
    "            else:\n",
    "                follower_goal_index = np.argmax(agent_1[:, leader_msg_index])\n",
    "            leader_reward = np.random.random() < scores0[leader_goal_index, follower_goal_index]\n",
    "            follower_reward = np.random.random() < scores1[follower_goal_index, leader_goal_index]\n",
    "            if leader_reward:\n",
    "                agent_0[leader_goal_index, :] -= DELTA\n",
    "                agent_0[leader_goal_index, leader_msg_index] += (leader_reward + 1) * DELTA\n",
    "            else:\n",
    "                agent_0[leader_goal_index, leader_msg_index] -= DELTA\n",
    "            if follower_reward:\n",
    "                agent_1[:, leader_msg_index] -= DELTA\n",
    "                agent_1[follower_goal_index, leader_msg_index] += (follower_reward + 1) * DELTA\n",
    "            else:\n",
    "                agent_1[follower_goal_index, leader_msg_index] -= DELTA\n",
    "\n",
    "        else:\n",
    "            # Agent 1 leader\n",
    "            if np.random.random() < EGREEDY:\n",
    "                leader_msg_index = np.random.choice(range(scores.shape[0]))\n",
    "            else:\n",
    "                leader_msg_index = np.argmax(agent_1[leader_goal_index])\n",
    "            if np.random.random() < EGREEDY:\n",
    "                follower_goal_index = np.random.choice(range(scores.shape[0]))\n",
    "            else:\n",
    "                follower_goal_index = np.argmax(agent_0[:, leader_msg_index])\n",
    "            leader_reward = np.random.random() < scores1[leader_goal_index, follower_goal_index]\n",
    "            follower_reward = np.random.random() < scores0[follower_goal_index, leader_goal_index]\n",
    "            if leader_reward:\n",
    "                agent_1[leader_goal_index, :] -= DELTA\n",
    "                agent_1[leader_goal_index, leader_msg_index] += (leader_reward + 1) * DELTA\n",
    "            else:\n",
    "                agent_1[leader_goal_index, leader_msg_index] -= DELTA\n",
    "            if follower_reward:\n",
    "                agent_0[:, leader_msg_index] -= DELTA\n",
    "                agent_0[follower_goal_index, leader_msg_index] += (follower_reward + 1) * DELTA\n",
    "            else:\n",
    "                agent_0[follower_goal_index, leader_msg_index] -= DELTA\n",
    "\n",
    "    alignment_0_leader = []\n",
    "    for i in range(0, n_goals):\n",
    "        msg = np.argmax(agent_0[i])\n",
    "        j = np.argmax(agent_1[:, msg])\n",
    "        alignment_0_leader.append(i==j)\n",
    "\n",
    "    alignment_1_leader = []\n",
    "    for i in range(0, n_goals):\n",
    "        msg = np.argmax(agent_1[i])\n",
    "        j = np.argmax(agent_0[:, msg])\n",
    "        alignment_1_leader.append(i==j)\n",
    "        \n",
    "    a0.append(sum(alignment_0_leader)/len(alignment_0_leader))\n",
    "    a1.append(sum(alignment_1_leader)/len(alignment_1_leader))"
   ]
  },
  {
   "cell_type": "code",
   "execution_count": 68,
   "metadata": {},
   "outputs": [
    {
     "name": "stdout",
     "output_type": "stream",
     "text": [
      "Alignment for agent 0: 1.0\n",
      "Alignment for agent 1: 1.0\n"
     ]
    }
   ],
   "source": [
    "print(f\"Alignment for agent 0: {np.mean(a0)}\")\n",
    "print(f\"Alignment for agent 1: {np.mean(a1)}\")"
   ]
  },
  {
   "cell_type": "markdown",
   "metadata": {},
   "source": [
    "## Two matrices per agent"
   ]
  },
  {
   "cell_type": "code",
   "execution_count": 69,
   "metadata": {},
   "outputs": [],
   "source": [
    "# Alignment for all seeds\n",
    "a0 = []\n",
    "a1 = []\n",
    "\n",
    "for s in range(10):\n",
    "    np.random.seed(s)\n",
    "    agent_0 = np.zeros_like(scores)\n",
    "    agent_1 = np.zeros_like(scores)\n",
    "    agent_0f = np.zeros_like(scores)\n",
    "    agent_1f = np.zeros_like(scores)\n",
    "\n",
    "    for i in range(N_STEPS):\n",
    "        leader_goal_index = np.random.randint(0, n_goals)\n",
    "        if np.random.random() < 0.5:\n",
    "            # Agent 0 leader\n",
    "            if np.random.random() < EGREEDY:\n",
    "                leader_msg_index = np.random.choice(range(scores.shape[0]))\n",
    "            else:\n",
    "                leader_msg_index = np.argmax(agent_0[leader_goal_index])\n",
    "            if np.random.random() < EGREEDY:\n",
    "                follower_goal_index = np.random.choice(range(scores.shape[0]))\n",
    "            else:\n",
    "                follower_goal_index = np.argmax(agent_1f[leader_msg_index])\n",
    "            leader_reward = np.random.random() < scores0[leader_goal_index, follower_goal_index]\n",
    "            follower_reward = np.random.random() < scores1[follower_goal_index, leader_goal_index]\n",
    "            if leader_reward:\n",
    "                agent_0[leader_goal_index, :] -= DELTA\n",
    "                agent_0[leader_goal_index, leader_msg_index] += (leader_reward + 1) * DELTA\n",
    "            else:\n",
    "                agent_0[leader_goal_index, leader_msg_index] -= DELTA\n",
    "            if follower_reward:\n",
    "                agent_1f[leader_msg_index] -= DELTA\n",
    "                agent_1f[leader_msg_index, follower_goal_index] += (follower_reward + 1) * DELTA\n",
    "            else:\n",
    "                agent_1f[leader_msg_index, follower_goal_index] -= DELTA\n",
    "\n",
    "        else:\n",
    "            # Agent 1 leader\n",
    "            if np.random.random() < EGREEDY:\n",
    "                leader_msg_index = np.random.choice(range(scores.shape[0]))\n",
    "            else:\n",
    "                leader_msg_index = np.argmax(agent_1[leader_goal_index])\n",
    "            if np.random.random() < EGREEDY:\n",
    "                follower_goal_index = np.random.choice(range(scores.shape[0]))\n",
    "            else:\n",
    "                follower_goal_index = np.argmax(agent_0f[leader_msg_index])\n",
    "            leader_reward = np.random.random() < scores1[leader_goal_index, follower_goal_index]\n",
    "            follower_reward = np.random.random() < scores0[follower_goal_index, leader_goal_index]\n",
    "            if leader_reward:\n",
    "                agent_1[leader_goal_index, :] -= DELTA\n",
    "                agent_1[leader_goal_index, leader_msg_index] += (leader_reward + 1) * DELTA\n",
    "            else:\n",
    "                agent_1[leader_goal_index, leader_msg_index] -= DELTA\n",
    "            if follower_reward:\n",
    "                agent_0f[leader_msg_index] -= DELTA\n",
    "                agent_0f[leader_msg_index, follower_goal_index] += (follower_reward + 1) * DELTA\n",
    "            else:\n",
    "                agent_0f[leader_msg_index, follower_goal_index] -= DELTA\n",
    "\n",
    "    alignment_0_leader = []\n",
    "    for i in range(0, n_goals):\n",
    "        msg = np.argmax(agent_0[i])\n",
    "        j = np.argmax(agent_1f[msg])\n",
    "        alignment_0_leader.append(i==j)\n",
    "\n",
    "    alignment_1_leader = []\n",
    "    for i in range(0, n_goals):\n",
    "        msg = np.argmax(agent_1[i])\n",
    "        j = np.argmax(agent_0f[msg])\n",
    "        alignment_1_leader.append(i==j)\n",
    "        \n",
    "    a0.append(sum(alignment_0_leader)/len(alignment_0_leader))\n",
    "    a1.append(sum(alignment_1_leader)/len(alignment_1_leader))"
   ]
  },
  {
   "cell_type": "code",
   "execution_count": 70,
   "metadata": {},
   "outputs": [
    {
     "name": "stdout",
     "output_type": "stream",
     "text": [
      "Alignment for agent 0: 0.8\n",
      "Alignment for agent 1: 0.8666666666666668\n"
     ]
    }
   ],
   "source": [
    "print(f\"Alignment for agent 0: {np.mean(a0)}\")\n",
    "print(f\"Alignment for agent 1: {np.mean(a1)}\")"
   ]
  },
  {
   "cell_type": "markdown",
   "metadata": {},
   "source": [
    "# All goals"
   ]
  },
  {
   "cell_type": "code",
   "execution_count": 71,
   "metadata": {},
   "outputs": [],
   "source": [
    "# Probability of success when solving an individual goal\n",
    "P_INDIVIDUAL = 1.0\n",
    "# Probability of success when solving a collective goal, and the other agent is following the same goal\n",
    "P_COLLECTIVE_SAME = 1.0\n",
    "# Probability of success when solving a collective goal, and the other agent is solving an individual but compatible goal (e.g 101 and 001)\n",
    "P_COLLECTIVE_INDIVIDUAL_COMPAT = 0.0\n",
    "# Probability of success when solving a collective goal, and the other agent is solving another \"compatible\" collective goal (e.g 101 and 011)\n",
    "P_COLLECTIVE_COLLECTIVE_COMPAT = 0.0"
   ]
  },
  {
   "cell_type": "code",
   "execution_count": 72,
   "metadata": {},
   "outputs": [],
   "source": [
    "individual_goals = np.eye(NUMBER_OF_LANDMARKS, dtype=np.uint8).tolist()\n",
    "collective_goals = np.array(list(combinations(individual_goals, 2))).sum(1).tolist()\n",
    "goal_space = individual_goals + collective_goals\n",
    "n_goals = len(goal_space)\n",
    "n_individual = len(individual_goals)"
   ]
  },
  {
   "cell_type": "code",
   "execution_count": 73,
   "metadata": {},
   "outputs": [
    {
     "data": {
      "text/plain": [
       "36"
      ]
     },
     "execution_count": 73,
     "metadata": {},
     "output_type": "execute_result"
    }
   ],
   "source": [
    "n_goals**2"
   ]
  },
  {
   "cell_type": "code",
   "execution_count": 74,
   "metadata": {},
   "outputs": [],
   "source": [
    "# scores(own_goal, other_goal) = probability of reward for that agent\n",
    "scores = np.zeros((n_goals, n_goals))\n",
    "# setting individual goals scores\n",
    "scores[:n_individual, :] = P_INDIVIDUAL\n",
    "# setting for collective goals\n",
    "for n in range(n_individual, n_goals):\n",
    "    # compatible collective goals\n",
    "    for i in range(n_individual, n_goals):\n",
    "        if np.bitwise_or.reduce([goal_space[n], goal_space[i]]).sum() == 3:\n",
    "            scores[n, i] = P_COLLECTIVE_COLLECTIVE_COMPAT\n",
    "    # compatible collective + individual goals\n",
    "    for i in range(n_individual):\n",
    "        if np.bitwise_or.reduce([goal_space[n], goal_space[i]]).sum() == 2:\n",
    "            scores[n, i] = P_COLLECTIVE_INDIVIDUAL_COMPAT    \n",
    "    # same collective goals\n",
    "    scores[n, n] = P_COLLECTIVE_SAME"
   ]
  },
  {
   "cell_type": "code",
   "execution_count": 75,
   "metadata": {},
   "outputs": [
    {
     "data": {
      "text/plain": [
       "array([[1., 1., 1., 1., 1., 1.],\n",
       "       [1., 1., 1., 1., 1., 1.],\n",
       "       [1., 1., 1., 1., 1., 1.],\n",
       "       [0., 0., 0., 1., 0., 0.],\n",
       "       [0., 0., 0., 0., 1., 0.],\n",
       "       [0., 0., 0., 0., 0., 1.]])"
      ]
     },
     "execution_count": 75,
     "metadata": {},
     "output_type": "execute_result"
    }
   ],
   "source": [
    "scores"
   ]
  },
  {
   "cell_type": "code",
   "execution_count": 76,
   "metadata": {},
   "outputs": [],
   "source": [
    "a0_all = []\n",
    "a1_all = []\n",
    "cooperative_factors = range(1, 100, 10)\n",
    "for b in cooperative_factors:\n",
    "    # # Double matrix full communication naming game double matrices\n",
    "    a0 = []\n",
    "    a1 = []\n",
    "    for s in range(5):\n",
    "        np.random.seed(s)\n",
    "        agent_0 = np.zeros_like(scores)\n",
    "        agent_1 = np.zeros_like(scores)\n",
    "\n",
    "        agent_0f = np.zeros_like(scores)\n",
    "        agent_1f = np.zeros_like(scores)\n",
    "\n",
    "\n",
    "        rewards_0 = []\n",
    "        rewards_1 = []\n",
    "        alignment = []\n",
    "\n",
    "        EGREEDY = 0.15\n",
    "        EGREEDY = 0.05\n",
    "\n",
    "        for i in range(N_STEPS):\n",
    "            leader_goal_index = np.random.randint(0, n_goals)\n",
    "            if np.random.random() < 0.5:\n",
    "                # Agent 0 leader\n",
    "                # egreedy\n",
    "                if EGREEDY:\n",
    "                    if np.random.random() < EGREEDY:\n",
    "                        leader_msg_index = np.random.choice(range(scores.shape[0]))\n",
    "                    else:\n",
    "                        leader_msg_index = np.argmax(agent_0[leader_goal_index])\n",
    "                    if np.random.random() < EGREEDY:\n",
    "                        follower_goal_index = np.random.choice(range(scores.shape[0]))\n",
    "                    else:\n",
    "                        follower_goal_index = np.argmax(agent_1f[leader_msg_index])\n",
    "                else:\n",
    "                    leader_scores = torch.nn.functional.softmax(torch.Tensor(agent_0[leader_goal_index])).numpy()\n",
    "                    leader_scores /= sum(leader_scores)\n",
    "                    leader_msg_index = np.random.choice(range(scores.shape[0]), p=leader_scores)\n",
    "                    follower_scores = torch.nn.functional.softmax(torch.Tensor(agent_1f[leader_msg_index])).numpy()\n",
    "                    follower_scores /= sum(follower_scores)\n",
    "                    follower_goal_index = np.random.choice(range(scores.shape[0]), p=follower_scores)\n",
    "                leader_reward = np.random.random() < scores[leader_goal_index, follower_goal_index]\n",
    "                follower_reward = np.random.random() < scores[follower_goal_index, leader_goal_index]\n",
    "                # Collective reward adjustment\n",
    "                if leader_goal_index > n_individual -1:\n",
    "                    leader_reward *= b\n",
    "                if follower_goal_index > n_individual -1:\n",
    "                    follower_reward *= b\n",
    "                rewards_0.append(leader_reward)\n",
    "                rewards_1.append(follower_reward)\n",
    "                if leader_reward:\n",
    "                    agent_0[leader_goal_index, :] -= DELTA\n",
    "                    agent_0[leader_goal_index, leader_msg_index] += (leader_reward + 1) * DELTA\n",
    "                else:\n",
    "                    agent_0[leader_goal_index, leader_msg_index] -= DELTA\n",
    "                if follower_reward:\n",
    "                    agent_1f[leader_msg_index, :] -= DELTA\n",
    "                    agent_1f[leader_msg_index, follower_goal_index] += (follower_reward + 1) * DELTA\n",
    "                else:\n",
    "                    agent_1f[leader_msg_index, follower_goal_index] -= DELTA\n",
    "\n",
    "            else:\n",
    "                # Agent 1 leader\n",
    "                if EGREEDY:\n",
    "                    if np.random.random() < EGREEDY:\n",
    "                        leader_msg_index = np.random.choice(range(scores.shape[0]))\n",
    "                    else:\n",
    "                        leader_msg_index = np.argmax(agent_1[leader_goal_index])\n",
    "                    if np.random.random() < EGREEDY:\n",
    "                        follower_goal_index = np.random.choice(range(scores.shape[0]))\n",
    "                    else:\n",
    "                        follower_goal_index = np.argmax(agent_0f[leader_msg_index])\n",
    "                else:\n",
    "                    leader_scores = torch.nn.functional.softmax(torch.Tensor(agent_1[leader_goal_index])).numpy()\n",
    "                    leader_scores /= sum(leader_scores)\n",
    "                    leader_msg_index = np.random.choice(range(scores.shape[0]), p=leader_scores)\n",
    "                    follower_scores = torch.nn.functional.softmax(torch.Tensor(agent_0f[leader_msg_index])).numpy()\n",
    "                    follower_scores /= sum(follower_scores)\n",
    "                    follower_goal_index = np.random.choice(range(scores.shape[0]), p=follower_scores)\n",
    "                leader_reward = np.random.random() < scores[leader_goal_index, follower_goal_index]\n",
    "                follower_reward = np.random.random() < scores[follower_goal_index, leader_goal_index]\n",
    "                # Collective reward adjustment\n",
    "                if leader_goal_index > n_individual -1:\n",
    "                    leader_reward *= b\n",
    "                if follower_goal_index > n_individual -1:\n",
    "                    follower_reward *= b\n",
    "                rewards_1.append(leader_reward)\n",
    "                rewards_0.append(follower_reward)\n",
    "                if leader_reward:\n",
    "                    agent_1[leader_goal_index, :] -= DELTA\n",
    "                    agent_1[leader_goal_index, leader_msg_index] += (leader_reward + 1) * DELTA\n",
    "                else:\n",
    "                    agent_1[leader_goal_index, leader_msg_index] -= DELTA\n",
    "                if follower_reward:\n",
    "                    agent_0f[leader_msg_index, :] -= DELTA\n",
    "                    agent_0f[leader_msg_index, follower_goal_index] += (follower_reward + 1) * DELTA\n",
    "                else:\n",
    "                    agent_0f[leader_msg_index, follower_goal_index] -= DELTA\n",
    "\n",
    "            if leader_goal_index > n_individual - 1:\n",
    "                alignment.append(leader_goal_index == follower_goal_index)\n",
    "\n",
    "        alignment_0_leader = []\n",
    "        for i in range(n_individual, n_goals):\n",
    "            msg = np.argmax(agent_0[i])\n",
    "            j = np.argmax(agent_1f[msg])\n",
    "            alignment_0_leader.append(i==j)\n",
    "\n",
    "        alignment_1_leader = []\n",
    "        for i in range(n_individual, n_goals):\n",
    "            msg = np.argmax(agent_1[i])\n",
    "            j = np.argmax(agent_0f[msg])\n",
    "            alignment_1_leader.append(i==j)\n",
    "            \n",
    "        a0.append(sum(alignment_0_leader)/len(alignment_0_leader))\n",
    "        a1.append(sum(alignment_1_leader)/len(alignment_1_leader))\n",
    "    a0_all.append(a0)\n",
    "    a1_all.append(a1)\n"
   ]
  },
  {
   "cell_type": "code",
   "execution_count": 77,
   "metadata": {},
   "outputs": [
    {
     "data": {
      "text/plain": [
       "Text(0, 0.5, \"Alignment for leader's cooperative goal\")"
      ]
     },
     "execution_count": 77,
     "metadata": {},
     "output_type": "execute_result"
    },
    {
     "data": {
      "image/png": "[encoded data removed]",
      "text/plain": [
       "<Figure size 432x288 with 1 Axes>"
      ]
     },
     "metadata": {
      "needs_background": "light"
     },
     "output_type": "display_data"
    }
   ],
   "source": [
    "plt.plot(cooperative_factors, np.mean(a0_all, axis=1), label=\"Agent 0 leader\")\n",
    "plt.fill_between(cooperative_factors, np.mean(a0_all, axis=1) - np.std(a0_all, axis=1), np.mean(a0_all, axis=1)+ np.std(a0_all, axis=1), alpha=0.3)\n",
    "plt.legend()\n",
    "plt.plot(cooperative_factors, np.mean(a1_all, axis=1), label=\"Agent 1 leader\")\n",
    "plt.fill_between(cooperative_factors, np.mean(a1_all, axis=1) - np.std(a1_all, axis=1), np.mean(a1_all, axis=1)+ np.std(a1_all, axis=1), alpha=0.3)\n",
    "plt.legend()\n",
    "plt.grid()\n",
    "plt.xlabel(\"Cooperative reward multiplier\")\n",
    "plt.ylabel(\"Alignment for leader's cooperative goal\")\n"
   ]
  },
  {
   "cell_type": "code",
   "execution_count": null,
   "metadata": {},
   "outputs": [],
   "source": []
  }
 ],
 "metadata": {
  "kernelspec": {
   "display_name": "Python 3.9.7 ('marl-env': venv)",
   "language": "python",
   "name": "python3"
  },
  "language_info": {
   "codemirror_mode": {
    "name": "ipython",
    "version": 3
   },
   "file_extension": ".py",
   "mimetype": "text/x-python",
   "name": "python",
   "nbconvert_exporter": "python",
   "pygments_lexer": "ipython3",
   "version": "3.9.7"
  },
  "orig_nbformat": 4,
  "vscode": {
   "interpreter": {
    "hash": "ba8aa1b69f904e3342c40bcdd1b69ae4a3cf2054115c347781ce67fba2dd2c9e"
   }
  }
 },
 "nbformat": 4,
 "nbformat_minor": 2
}
