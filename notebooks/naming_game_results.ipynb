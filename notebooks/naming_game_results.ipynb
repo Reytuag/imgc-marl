{
 "cells": [
  {
   "cell_type": "markdown",
   "metadata": {},
   "source": [
    "# Notebook for analysing results of the naming game, matrices visualizations"
   ]
  },
  {
   "cell_type": "markdown",
   "metadata": {},
   "source": [
    "This notebook can be used for generating videos of all the naming matrices during training for a specific seed. A video of the evolution of the naming matrices will be stored in the experiment's directory"
   ]
  },
  {
   "cell_type": "code",
   "execution_count": 1,
   "metadata": {},
   "outputs": [
    {
     "name": "stderr",
     "output_type": "stream",
     "text": [
      "/home/elias/workspace/imgc-marl/marl-env/lib/python3.9/site-packages/tqdm/auto.py:22: TqdmWarning: IProgress not found. Please update jupyter and ipywidgets. See https://ipywidgets.readthedocs.io/en/stable/user_install.html\n",
      "  from .autonotebook import tqdm as notebook_tqdm\n"
     ]
    }
   ],
   "source": [
    "import os\n",
    "import random\n",
    "import tempfile\n",
    "from copy import deepcopy\n",
    "from datetime import datetime\n",
    "\n",
    "import click\n",
    "import imgc_marl.envs.population as population\n",
    "import numpy as np\n",
    "import yaml\n",
    "from imgc_marl.callbacks import (\n",
    "    PopGoalLinesCallback,\n",
    "    PopGoalLinesCommunicationCallback,\n",
    "    PopGoalLinesNamingCallback,\n",
    "    PopGoalLinesNamingCallback1Matrix,\n",
    ")\n",
    "from imgc_marl.evaluation import (\n",
    "    communication_custom_eval_function,\n",
    "    custom_eval_function,\n",
    ")\n",
    "from imgc_marl.models.basic_communication import BasicCommunicationNetwork\n",
    "from imgc_marl.models.full_naming_game import FullNamingNetwork\n",
    "from imgc_marl.models.full_naming_game_single_matrix import FullNamingNetwork1Matrix\n",
    "from imgc_marl.policies.basic_communication import BasicCommunicationTrainer\n",
    "from imgc_marl.policies.full_naming_game import FullNamingTrainer\n",
    "from imgc_marl.policies.full_naming_game_single_matrix import FullNamingTrainer1Matrix\n",
    "from imgc_marl.utils import keep_relevant_results\n",
    "from ray.rllib.agents.ppo import DEFAULT_CONFIG, PPOTrainer\n",
    "from ray.rllib.models import ModelCatalog\n",
    "from ray.rllib.policy.policy import PolicySpec\n",
    "from ray.tune.logger import UnifiedLogger, pretty_print\n",
    "import torch\n",
    "import matplotlib.pyplot as plt\n",
    "import moviepy"
   ]
  },
  {
   "cell_type": "markdown",
   "metadata": {},
   "source": [
    "* Select correct configuration file \n",
    "* Select environment (3 or 6 landmarks)\n",
    "* Select the experiment you want to evaluate"
   ]
  },
  {
   "cell_type": "code",
   "execution_count": 2,
   "metadata": {},
   "outputs": [],
   "source": [
    "from imgc_marl.envs.population import PopGoalLinesEnv, PopLargeGoalLinesEnv\n",
    "\n",
    "# 3 landmarks\n",
    "config_file = \"goal_lines_naming.yml\"\n",
    "environment = PopGoalLinesEnv\n",
    "\n",
    "# 6 landmarks\n",
    "# config_file = \"large_goal_lines_naming.yml\"\n",
    "# environment = PopLargeGoalLinesEnv\n",
    "\n",
    "\n",
    "# directory of the checkpoints you want to evaluate\n",
    "checkpoints_dir = \"/home/elias/september/3_landmarks/classic_reward/2/coop_only/naming_game/2022-09-28_19-04-19p4yy9e4x\""
   ]
  },
  {
   "cell_type": "code",
   "execution_count": 3,
   "metadata": {},
   "outputs": [
    {
     "name": "stderr",
     "output_type": "stream",
     "text": [
      "2022-09-30 13:52:12,192\tWARNING deprecation.py:46 -- DeprecationWarning: `ray.rllib.agents.ppo.ppo.DEFAULT_CONFIG` has been deprecated. Use `ray.rllib.agents.ppo.ppo.PPOConfig(...)` instead. This will raise an error in the future!\n",
      "2022-09-30 13:52:12,369\tWARNING multi_agent_env.py:225 -- observation_space_sample() has not been implemented\n",
      "2022-09-30 13:52:12,369\tWARNING multi_agent_env.py:137 -- observation_space_contains() has not been implemented\n",
      "2022-09-30 13:52:12,370\tWARNING multi_agent_env.py:137 -- observation_space_contains() has not been implemented\n",
      "2022-09-30 13:52:12,370\tWARNING multi_agent_env.py:137 -- observation_space_contains() has not been implemented\n",
      "2022-09-30 13:52:12,370\tWARNING multi_agent_env.py:193 -- action_space_sample() has not been implemented\n",
      "2022-09-30 13:52:12,370\tWARNING multi_agent_env.py:161 -- action_space_contains() has not been implemented\n",
      "2022-09-30 13:52:12,372\tWARNING multi_agent_env.py:137 -- observation_space_contains() has not been implemented\n",
      "2022-09-30 13:52:12,398\tWARNING catalog.py:628 -- Custom ModelV2 should accept all custom options as **kwargs, instead of expecting them in config['custom_model_config']!\n",
      "2022-09-30 13:52:12,408\tWARNING catalog.py:628 -- Custom ModelV2 should accept all custom options as **kwargs, instead of expecting them in config['custom_model_config']!\n",
      "Install gputil for GPU system monitoring.\n"
     ]
    }
   ],
   "source": [
    "with open(f\"../scripts/configs/{config_file}\", \"r\") as f:\n",
    "    user_config = yaml.safe_load(f)\n",
    "# General settings of the algorithm\n",
    "config = deepcopy(DEFAULT_CONFIG)\n",
    "config[\"num_workers\"] = 0\n",
    "config[\"framework\"] = \"torch\"\n",
    "use_communication = user_config.get(\"communication\", False)\n",
    "\n",
    "config[\"horizon\"] = population.LARGE_GOAL_LINES_TIMELIMIT\n",
    "config[\"rollout_fragment_length\"] = config[\"horizon\"]\n",
    "config[\"env_config\"] = user_config[\"env_config\"]\n",
    "config[\"train_batch_size\"] = 60_000\n",
    "config[\"sgd_minibatch_size\"] = 10_000\n",
    "config[\"lambda\"] = 0.9\n",
    "config[\"lr\"] = 0.0003\n",
    "\n",
    "\n",
    "def policy_mapping_fn(agent_id):\n",
    "    return agent_id\n",
    "\n",
    "\n",
    "config[\"multiagent\"] = {\n",
    "    \"policies\": {\n",
    "        f\"agent_{i}\": PolicySpec(\n",
    "            policy_class=None, observation_space=None, action_space=None\n",
    "        )\n",
    "        for i in range(config[\"env_config\"][\"population_size\"])\n",
    "    },\n",
    "    \"policy_mapping_fn\": policy_mapping_fn,\n",
    "}\n",
    "\n",
    "train_env = environment\n",
    "\n",
    "ModelCatalog.register_custom_model(\"FullNamingNetwork1Matrix\", FullNamingNetwork1Matrix)\n",
    "number_of_goals = environment(config[\"env_config\"]).goal_space_dim\n",
    "config[\"model\"] = {\n",
    "    \"custom_model\": \"FullNamingNetwork1Matrix\",\n",
    "    \"custom_model_config\": {\n",
    "        \"number_of_goals\": number_of_goals,\n",
    "        \"train_matrix\": user_config.get(\"train_matrix\", False),\n",
    "    },\n",
    "}\n",
    "trainer = FullNamingTrainer1Matrix(\n",
    "    config=config,\n",
    "    env=train_env,\n",
    ")"
   ]
  },
  {
   "cell_type": "markdown",
   "metadata": {},
   "source": [
    "# Inspecting matrices through time"
   ]
  },
  {
   "cell_type": "code",
   "execution_count": 4,
   "metadata": {},
   "outputs": [
    {
     "name": "stderr",
     "output_type": "stream",
     "text": [
      "2022-09-30 13:52:20,741\tINFO trainable.py:588 -- Restored on 193.50.110.220 from checkpoint: /home/elias/september/3_landmarks/classic_reward/2/coop_only/naming_game/2022-09-28_19-04-19p4yy9e4x/checkpoint_000010/checkpoint-10\n",
      "2022-09-30 13:52:20,742\tINFO trainable.py:597 -- Current state after restoring: {'_iteration': 10, '_timesteps_total': None, '_time_total': 608.9546136856079, '_episodes_total': 2429}\n",
      "2022-09-30 13:52:20,918\tINFO trainable.py:588 -- Restored on 193.50.110.220 from checkpoint: /home/elias/september/3_landmarks/classic_reward/2/coop_only/naming_game/2022-09-28_19-04-19p4yy9e4x/checkpoint_000020/checkpoint-20\n",
      "2022-09-30 13:52:20,919\tINFO trainable.py:597 -- Current state after restoring: {'_iteration': 20, '_timesteps_total': None, '_time_total': 1178.437026500702, '_episodes_total': 5335}\n",
      "2022-09-30 13:52:21,053\tINFO trainable.py:588 -- Restored on 193.50.110.220 from checkpoint: /home/elias/september/3_landmarks/classic_reward/2/coop_only/naming_game/2022-09-28_19-04-19p4yy9e4x/checkpoint_000130/checkpoint-130\n",
      "2022-09-30 13:52:21,054\tINFO trainable.py:597 -- Current state after restoring: {'_iteration': 130, '_timesteps_total': None, '_time_total': 7508.163541793823, '_episodes_total': 42411}\n",
      "2022-09-30 13:52:21,201\tINFO trainable.py:588 -- Restored on 193.50.110.220 from checkpoint: /home/elias/september/3_landmarks/classic_reward/2/coop_only/naming_game/2022-09-28_19-04-19p4yy9e4x/checkpoint_000140/checkpoint-140\n",
      "2022-09-30 13:52:21,202\tINFO trainable.py:597 -- Current state after restoring: {'_iteration': 140, '_timesteps_total': None, '_time_total': 8110.718554496765, '_episodes_total': 46457}\n",
      "2022-09-30 13:52:21,375\tINFO trainable.py:588 -- Restored on 193.50.110.220 from checkpoint: /home/elias/september/3_landmarks/classic_reward/2/coop_only/naming_game/2022-09-28_19-04-19p4yy9e4x/checkpoint_000150/checkpoint-150\n",
      "2022-09-30 13:52:21,376\tINFO trainable.py:597 -- Current state after restoring: {'_iteration': 150, '_timesteps_total': None, '_time_total': 8732.62879061699, '_episodes_total': 51317}\n",
      "2022-09-30 13:52:21,634\tINFO trainable.py:588 -- Restored on 193.50.110.220 from checkpoint: /home/elias/september/3_landmarks/classic_reward/2/coop_only/naming_game/2022-09-28_19-04-19p4yy9e4x/checkpoint_000160/checkpoint-160\n",
      "2022-09-30 13:52:21,635\tINFO trainable.py:597 -- Current state after restoring: {'_iteration': 160, '_timesteps_total': None, '_time_total': 9379.093509674072, '_episodes_total': 59783}\n",
      "2022-09-30 13:52:21,771\tINFO trainable.py:588 -- Restored on 193.50.110.220 from checkpoint: /home/elias/september/3_landmarks/classic_reward/2/coop_only/naming_game/2022-09-28_19-04-19p4yy9e4x/checkpoint_000170/checkpoint-170\n",
      "2022-09-30 13:52:21,772\tINFO trainable.py:597 -- Current state after restoring: {'_iteration': 170, '_timesteps_total': None, '_time_total': 10036.784287929535, '_episodes_total': 71247}\n",
      "2022-09-30 13:52:21,908\tINFO trainable.py:588 -- Restored on 193.50.110.220 from checkpoint: /home/elias/september/3_landmarks/classic_reward/2/coop_only/naming_game/2022-09-28_19-04-19p4yy9e4x/checkpoint_000180/checkpoint-180\n",
      "2022-09-30 13:52:21,911\tINFO trainable.py:597 -- Current state after restoring: {'_iteration': 180, '_timesteps_total': None, '_time_total': 10700.030066490173, '_episodes_total': 84193}\n",
      "2022-09-30 13:52:22,069\tINFO trainable.py:588 -- Restored on 193.50.110.220 from checkpoint: /home/elias/september/3_landmarks/classic_reward/2/coop_only/naming_game/2022-09-28_19-04-19p4yy9e4x/checkpoint_000190/checkpoint-190\n",
      "2022-09-30 13:52:22,069\tINFO trainable.py:597 -- Current state after restoring: {'_iteration': 190, '_timesteps_total': None, '_time_total': 11368.059218168259, '_episodes_total': 98075}\n",
      "2022-09-30 13:52:22,214\tINFO trainable.py:588 -- Restored on 193.50.110.220 from checkpoint: /home/elias/september/3_landmarks/classic_reward/2/coop_only/naming_game/2022-09-28_19-04-19p4yy9e4x/checkpoint_000200/checkpoint-200\n",
      "2022-09-30 13:52:22,215\tINFO trainable.py:597 -- Current state after restoring: {'_iteration': 200, '_timesteps_total': None, '_time_total': 12036.839517593384, '_episodes_total': 112503}\n",
      "2022-09-30 13:52:22,382\tINFO trainable.py:588 -- Restored on 193.50.110.220 from checkpoint: /home/elias/september/3_landmarks/classic_reward/2/coop_only/naming_game/2022-09-28_19-04-19p4yy9e4x/checkpoint_000210/checkpoint-210\n",
      "2022-09-30 13:52:22,383\tINFO trainable.py:597 -- Current state after restoring: {'_iteration': 210, '_timesteps_total': None, '_time_total': 12704.544570446014, '_episodes_total': 127347}\n",
      "2022-09-30 13:52:22,545\tINFO trainable.py:588 -- Restored on 193.50.110.220 from checkpoint: /home/elias/september/3_landmarks/classic_reward/2/coop_only/naming_game/2022-09-28_19-04-19p4yy9e4x/checkpoint_000220/checkpoint-220\n",
      "2022-09-30 13:52:22,545\tINFO trainable.py:597 -- Current state after restoring: {'_iteration': 220, '_timesteps_total': None, '_time_total': 13373.580812692642, '_episodes_total': 142350}\n",
      "2022-09-30 13:52:22,693\tINFO trainable.py:588 -- Restored on 193.50.110.220 from checkpoint: /home/elias/september/3_landmarks/classic_reward/2/coop_only/naming_game/2022-09-28_19-04-19p4yy9e4x/checkpoint_000230/checkpoint-230\n",
      "2022-09-30 13:52:22,694\tINFO trainable.py:597 -- Current state after restoring: {'_iteration': 230, '_timesteps_total': None, '_time_total': 14043.319619894028, '_episodes_total': 157474}\n",
      "2022-09-30 13:52:22,824\tINFO trainable.py:588 -- Restored on 193.50.110.220 from checkpoint: /home/elias/september/3_landmarks/classic_reward/2/coop_only/naming_game/2022-09-28_19-04-19p4yy9e4x/checkpoint_000240/checkpoint-240\n",
      "2022-09-30 13:52:22,825\tINFO trainable.py:597 -- Current state after restoring: {'_iteration': 240, '_timesteps_total': None, '_time_total': 14712.551334381104, '_episodes_total': 172695}\n",
      "2022-09-30 13:52:22,957\tINFO trainable.py:588 -- Restored on 193.50.110.220 from checkpoint: /home/elias/september/3_landmarks/classic_reward/2/coop_only/naming_game/2022-09-28_19-04-19p4yy9e4x/checkpoint_000250/checkpoint-250\n",
      "2022-09-30 13:52:22,958\tINFO trainable.py:597 -- Current state after restoring: {'_iteration': 250, '_timesteps_total': None, '_time_total': 15384.369266986847, '_episodes_total': 188040}\n",
      "2022-09-30 13:52:23,134\tINFO trainable.py:588 -- Restored on 193.50.110.220 from checkpoint: /home/elias/september/3_landmarks/classic_reward/2/coop_only/naming_game/2022-09-28_19-04-19p4yy9e4x/checkpoint_000260/checkpoint-260\n",
      "2022-09-30 13:52:23,135\tINFO trainable.py:597 -- Current state after restoring: {'_iteration': 260, '_timesteps_total': None, '_time_total': 16055.03098320961, '_episodes_total': 203445}\n",
      "2022-09-30 13:52:23,302\tINFO trainable.py:588 -- Restored on 193.50.110.220 from checkpoint: /home/elias/september/3_landmarks/classic_reward/2/coop_only/naming_game/2022-09-28_19-04-19p4yy9e4x/checkpoint_000270/checkpoint-270\n",
      "2022-09-30 13:52:23,302\tINFO trainable.py:597 -- Current state after restoring: {'_iteration': 270, '_timesteps_total': None, '_time_total': 16726.385955810547, '_episodes_total': 218848}\n",
      "2022-09-30 13:52:23,560\tINFO trainable.py:588 -- Restored on 193.50.110.220 from checkpoint: /home/elias/september/3_landmarks/classic_reward/2/coop_only/naming_game/2022-09-28_19-04-19p4yy9e4x/checkpoint_000280/checkpoint-280\n",
      "2022-09-30 13:52:23,560\tINFO trainable.py:597 -- Current state after restoring: {'_iteration': 280, '_timesteps_total': None, '_time_total': 17397.78448843956, '_episodes_total': 234352}\n",
      "2022-09-30 13:52:23,706\tINFO trainable.py:588 -- Restored on 193.50.110.220 from checkpoint: /home/elias/september/3_landmarks/classic_reward/2/coop_only/naming_game/2022-09-28_19-04-19p4yy9e4x/checkpoint_000290/checkpoint-290\n",
      "2022-09-30 13:52:23,707\tINFO trainable.py:597 -- Current state after restoring: {'_iteration': 290, '_timesteps_total': None, '_time_total': 18069.18960094452, '_episodes_total': 249794}\n",
      "2022-09-30 13:52:23,844\tINFO trainable.py:588 -- Restored on 193.50.110.220 from checkpoint: /home/elias/september/3_landmarks/classic_reward/2/coop_only/naming_game/2022-09-28_19-04-19p4yy9e4x/checkpoint_000300/checkpoint-300\n",
      "2022-09-30 13:52:23,845\tINFO trainable.py:597 -- Current state after restoring: {'_iteration': 300, '_timesteps_total': None, '_time_total': 18740.003839492798, '_episodes_total': 265291}\n"
     ]
    },
    {
     "data": {
      "image/png": "[encoded data removed]",
      "text/plain": [
       "<Figure size 720x720 with 2 Axes>"
      ]
     },
     "metadata": {
      "needs_background": "light"
     },
     "output_type": "display_data"
    }
   ],
   "source": [
    "imgs = []\n",
    "for checkpoint_dir in sorted(os.listdir(checkpoints_dir)):\n",
    "    if os.path.isdir(os.path.join(checkpoints_dir, checkpoint_dir)):\n",
    "        checkpoint_file = sorted(\n",
    "            os.listdir(os.path.join(checkpoints_dir, checkpoint_dir))\n",
    "        )[1]\n",
    "        trainer.restore(os.path.join(checkpoints_dir, checkpoint_dir, checkpoint_file))\n",
    "        agent_0 = trainer.get_policy(\"agent_0\").model\n",
    "        agent_1 = trainer.get_policy(\"agent_1\").model\n",
    "        with torch.no_grad():\n",
    "            agent_0_matrix = agent_0._matrix.numpy()\n",
    "            agent_1_matrix = agent_1._matrix.numpy()\n",
    "\n",
    "            # Generate images\n",
    "            for j, matrix in enumerate((agent_0_matrix, agent_1_matrix)):\n",
    "                if j == 0:\n",
    "                    fig = plt.figure(num=1, clear=True, figsize=(10, 10))\n",
    "                    ax = fig.add_subplot(121)\n",
    "                    ax.set_title(\"Agent 0\")\n",
    "                elif j == 1:\n",
    "                    ax = fig.add_subplot(122)\n",
    "                    ax.set_title(\"Agent 1\")\n",
    "                ax.matshow(matrix, cmap=plt.cm.Blues)\n",
    "                for x in range(number_of_goals):\n",
    "                    for y in range(number_of_goals):\n",
    "                        c = matrix[y, x]\n",
    "                        ax.text(x, y, str(round(c, 2)), va=\"center\", ha=\"center\")\n",
    "                if j == 1:\n",
    "                    plt.tight_layout()\n",
    "                    canvas = fig.figure.canvas\n",
    "                    canvas.draw()\n",
    "                    data = np.frombuffer(canvas.tostring_rgb(), dtype=np.uint8)\n",
    "                    img = data.reshape(canvas.get_width_height()[::-1] + (3,))\n",
    "                    imgs.append(img)"
   ]
  },
  {
   "cell_type": "code",
   "execution_count": 5,
   "metadata": {},
   "outputs": [
    {
     "name": "stdout",
     "output_type": "stream",
     "text": [
      "Moviepy - Building video /home/elias/september/3_landmarks/classic_reward/2/coop_only/naming_game/2022-09-28_19-04-19p4yy9e4x/naming_game.mp4.\n",
      "Moviepy - Writing video /home/elias/september/3_landmarks/classic_reward/2/coop_only/naming_game/2022-09-28_19-04-19p4yy9e4x/naming_game.mp4\n",
      "\n"
     ]
    },
    {
     "name": "stderr",
     "output_type": "stream",
     "text": [
      "                                                   "
     ]
    },
    {
     "name": "stdout",
     "output_type": "stream",
     "text": [
      "Moviepy - Done !\n",
      "Moviepy - video ready /home/elias/september/3_landmarks/classic_reward/2/coop_only/naming_game/2022-09-28_19-04-19p4yy9e4x/naming_game.mp4\n"
     ]
    },
    {
     "name": "stderr",
     "output_type": "stream",
     "text": [
      "\r"
     ]
    }
   ],
   "source": [
    "matrix_video = moviepy.video.io.ImageSequenceClip.ImageSequenceClip(imgs, fps=0.5)\n",
    "\n",
    "matrix_video.write_videofile(os.path.join(checkpoints_dir, \"naming_game.mp4\"))"
   ]
  }
 ],
 "metadata": {
  "kernelspec": {
   "display_name": "Python 3.9.7 ('marl-env': venv)",
   "language": "python",
   "name": "python3"
  },
  "language_info": {
   "codemirror_mode": {
    "name": "ipython",
    "version": 3
   },
   "file_extension": ".py",
   "mimetype": "text/x-python",
   "name": "python",
   "nbconvert_exporter": "python",
   "pygments_lexer": "ipython3",
   "version": "3.9.7"
  },
  "orig_nbformat": 4,
  "vscode": {
   "interpreter": {
    "hash": "ba8aa1b69f904e3342c40bcdd1b69ae4a3cf2054115c347781ce67fba2dd2c9e"
   }
  }
 },
 "nbformat": 4,
 "nbformat_minor": 2
}
